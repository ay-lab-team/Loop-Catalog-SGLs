{
 "cells": [
  {
   "cell_type": "code",
   "execution_count": 5,
   "id": "2997e421",
   "metadata": {},
   "outputs": [],
   "source": [
    "import os \n",
    "import pandas as pd \n",
    "import matplotlib.pyplot as plt\n",
    "import seaborn as sns \n",
    "import numpy as np\n",
    "from qmplot import manhattanplot\n",
    "\n",
    "os.chdir(\"/mnt/BioHome/jreyna/jreyna/projects/dchallenge/\")\n",
    "outdir = 'results/main/basic_stats/'\n",
    "os.makedirs(outdir, exist_ok=True)"
   ]
  },
  {
   "cell_type": "markdown",
   "id": "9c34c4da",
   "metadata": {},
   "source": [
    "## Summarize GWAS"
   ]
  },
  {
   "cell_type": "code",
   "execution_count": 6,
   "id": "53da8e70",
   "metadata": {},
   "outputs": [],
   "source": [
    "gwas_fn = 'results/main/2021_Nikhil_eQTL/Data/T1D_GWAS/T1D_34012112_Gaulton/GWAS_input_colocalization_pval_lt_5eMinus8.txt'\n",
    "#gwas_fn = 'results/main/2021_Nikhil_eQTL/Data/T1D_GWAS/T1D_34012112_Gaulton/GWAS_input_colocalization.txt'\n",
    "gwas_study = 'T1D_34012112_Gaulton'\n",
    "\n",
    "# load the data\n",
    "gwas = pd.read_table(gwas_fn)\n",
    "gwas['P'] = gwas['P'].astype(float)\n",
    "\n",
    "# removing zero value entries \n",
    "gwas = gwas.loc[(gwas['P'] != 0),:]\n",
    "\n",
    "# removing chr in chromosomal name \n",
    "gwas['CHR'] = gwas['CHR'].str.replace('chr', '')\n",
    "\n",
    "# reorganize around the columns\n",
    "gwas = gwas[['CHR', 'POS', 'P']]\n",
    "\n",
    "mp_fig = os.path.join(outdir, '{gwas_study}.png'.format(gwas_study=gwas_study))\n",
    "ax = manhattanplot(data=gwas,\n",
    "                   chrom='CHR',\n",
    "                   pv='P',\n",
    "                   xticklabel_kws={\"rotation\": \"vertical\"},\n",
    "                   logp=True, figname=mp_fig)"
   ]
  }
 ],
 "metadata": {
  "kernelspec": {
   "display_name": "HiC",
   "language": "python",
   "name": "hic_tls"
  },
  "language_info": {
   "codemirror_mode": {
    "name": "ipython",
    "version": 3
   },
   "file_extension": ".py",
   "mimetype": "text/x-python",
   "name": "python",
   "nbconvert_exporter": "python",
   "pygments_lexer": "ipython3",
   "version": "3.6.7"
  }
 },
 "nbformat": 4,
 "nbformat_minor": 5
}
