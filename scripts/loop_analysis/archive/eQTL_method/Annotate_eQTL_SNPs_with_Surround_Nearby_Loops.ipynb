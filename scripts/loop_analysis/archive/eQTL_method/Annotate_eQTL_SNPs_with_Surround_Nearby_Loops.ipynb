{
 "cells": [
  {
   "cell_type": "markdown",
   "id": "455d927b",
   "metadata": {},
   "source": [
    "# Make the master table"
   ]
  },
  {
   "cell_type": "code",
   "execution_count": 27,
   "id": "01099788",
   "metadata": {},
   "outputs": [],
   "source": [
    "import os \n",
    "import sys\n",
    "import pybedtools as pbt\n",
    "import pandas as pd\n",
    "import numpy as np\n",
    "import subprocess as sp\n",
    "import json\n",
    "os.chdir('/mnt/BioHome/jreyna/jreyna/projects/dchallenge/')\n",
    "pbt.set_bedtools_path('/mnt/BioApps/bedtools/bin/')\n",
    "bgzip = '/mnt/BioApps/tabix/tabix-0.2.6/bgzip'\n",
    "tabix = '/mnt/BioApps/tabix/tabix-0.2.6/tabix'\n",
    "\n",
    "bedpe_6cols = ['chrA', 'startA', 'endA', 'chrB', 'startB', 'endB']\n",
    "bedpe_10cols = ['chrA', 'startA', 'endA', 'chrB', 'startB', 'endB', 'name', 'score', 'strand1', 'strand2']"
   ]
  },
  {
   "cell_type": "code",
   "execution_count": 28,
   "id": "bae2c0fb",
   "metadata": {},
   "outputs": [],
   "source": [
    "## default values for the command line\n",
    "sys.argv = [0] * 8\n",
    "sys.argv[1] =  'results/main/2021_Nikhil_eQTL/Results/Colocalization/T1D_34012112_Gaulton/'\n",
    "sys.argv[1] += 'DICE_eQTL_CD4_NAIVE/FINAL_Summary_Coloc_Gene_SNP_Pairs.bed'\n",
    "sys.argv[2] = 'results/refs/ensembl/gencode.v19.annotation.bed'\n",
    "sys.argv[3] = 'results/main/2021_Nikhil_eQTL/Data/FitHiChIP_Loops/CD4N/FitHiChIP_L/FitHiChIP.interactions_FitHiC_Q0.01.bed'\n",
    "sys.argv[4] = 'results/refs/spp/SPP_D-Challenge_networks.xlsx'\n",
    "sys.argv[5] = 'results/refs/hg19/hg19.chrom.sizes'\n",
    "sys.argv[6] = 'results/main/2021_Nikhil_eQTL/Data/eqtl_sqtl_summ_stats/DICE_eQTL/CD4_NAIVE.txt.gz'\n",
    "sys.argv[7] = 'results/main/loop_analysis/washU/'"
   ]
  },
  {
   "cell_type": "code",
   "execution_count": 29,
   "id": "394b55d1",
   "metadata": {},
   "outputs": [],
   "source": [
    "# parsing the commandline arguments\n",
    "coloc_fn = sys.argv[1]\n",
    "genes_fn = sys.argv[2]\n",
    "loop_fn = sys.argv[3]\n",
    "spp_fn = sys.argv[4]\n",
    "gs_fn = sys.argv[5]\n",
    "eqtl_fn = sys.argv[6]\n",
    "outdir = sys.argv[7]\n",
    "\n",
    "# setting the output file names\n",
    "os.makedirs(outdir, exist_ok=True)"
   ]
  },
  {
   "cell_type": "markdown",
   "id": "328d9181",
   "metadata": {},
   "source": [
    "## Load the colocalization data"
   ]
  },
  {
   "cell_type": "code",
   "execution_count": 30,
   "id": "e8f92305",
   "metadata": {},
   "outputs": [],
   "source": [
    "# load the colocalization data\n",
    "coloc = pd.read_table(coloc_fn)\n",
    "\n",
    "# extract the most significant according the H4 \n",
    "coloc_sig_df = coloc[coloc['pp_H4_Coloc_Summary'] > 0.75]\n",
    "coloc_sig_df['sid'] = coloc_sig_df['chr'].str.replace('chr', '') + ':' + coloc_sig_df['pos'].astype(str)\n",
    "\n",
    "coloc_sig_full = coloc_sig_df.copy(deep=True)\n",
    "coloc_sig_df.rename(columns={'pos': 'end'}, inplace=True)\n",
    "coloc_sig_df.loc[:, 'start'] = coloc_sig_df.loc[:, 'end'] - 1\n",
    "\n",
    "coloc_sig_df = coloc_sig_df[['chr', 'start', 'end', 'rs_id', 'variant_id', 'sid', 'geneName']]\n",
    "coloc_sig_df = coloc_sig_df.loc[~coloc_sig_df.duplicated(subset='rs_id'),]\n",
    "coloc_sig_pbt = pbt.BedTool.from_dataframe(coloc_sig_df.iloc[:, [0,1,2,5]])"
   ]
  },
  {
   "cell_type": "code",
   "execution_count": 126,
   "id": "8cbcb72d",
   "metadata": {},
   "outputs": [
    {
     "data": {
      "text/html": [
       "<div>\n",
       "<style scoped>\n",
       "    .dataframe tbody tr th:only-of-type {\n",
       "        vertical-align: middle;\n",
       "    }\n",
       "\n",
       "    .dataframe tbody tr th {\n",
       "        vertical-align: top;\n",
       "    }\n",
       "\n",
       "    .dataframe thead th {\n",
       "        text-align: right;\n",
       "    }\n",
       "</style>\n",
       "<table border=\"1\" class=\"dataframe\">\n",
       "  <thead>\n",
       "    <tr style=\"text-align: right;\">\n",
       "      <th></th>\n",
       "      <th>chr</th>\n",
       "      <th>start</th>\n",
       "      <th>end</th>\n",
       "      <th>rs_id</th>\n",
       "      <th>variant_id</th>\n",
       "      <th>sid</th>\n",
       "      <th>geneName</th>\n",
       "    </tr>\n",
       "  </thead>\n",
       "  <tbody>\n",
       "    <tr>\n",
       "      <th>0</th>\n",
       "      <td>chr6</td>\n",
       "      <td>26357897</td>\n",
       "      <td>26357898</td>\n",
       "      <td>rs556123236</td>\n",
       "      <td>rs142257165:26357898:C:CT</td>\n",
       "      <td>6:26357898</td>\n",
       "      <td>BTN3A2</td>\n",
       "    </tr>\n",
       "    <tr>\n",
       "      <th>2</th>\n",
       "      <td>chr11</td>\n",
       "      <td>64107476</td>\n",
       "      <td>64107477</td>\n",
       "      <td>rs479777</td>\n",
       "      <td>rs479777</td>\n",
       "      <td>11:64107477</td>\n",
       "      <td>AP003774.1</td>\n",
       "    </tr>\n",
       "    <tr>\n",
       "      <th>3</th>\n",
       "      <td>chr12</td>\n",
       "      <td>112521447</td>\n",
       "      <td>112521448</td>\n",
       "      <td>rs4767364</td>\n",
       "      <td>exm-rs4767364</td>\n",
       "      <td>12:112521448</td>\n",
       "      <td>TMEM116</td>\n",
       "    </tr>\n",
       "    <tr>\n",
       "      <th>4</th>\n",
       "      <td>chr12</td>\n",
       "      <td>56401084</td>\n",
       "      <td>56401085</td>\n",
       "      <td>rs10876864</td>\n",
       "      <td>rs10876864</td>\n",
       "      <td>12:56401085</td>\n",
       "      <td>RPS26</td>\n",
       "    </tr>\n",
       "    <tr>\n",
       "      <th>5</th>\n",
       "      <td>chr16</td>\n",
       "      <td>11426330</td>\n",
       "      <td>11426331</td>\n",
       "      <td>rs12597893</td>\n",
       "      <td>rs12597893:11426331:A:G</td>\n",
       "      <td>16:11426331</td>\n",
       "      <td>RMI2</td>\n",
       "    </tr>\n",
       "    <tr>\n",
       "      <th>7</th>\n",
       "      <td>chr16</td>\n",
       "      <td>28534037</td>\n",
       "      <td>28534038</td>\n",
       "      <td>rs62034321</td>\n",
       "      <td>rs62034321:28534038:C:T</td>\n",
       "      <td>16:28534038</td>\n",
       "      <td>SULT1A2</td>\n",
       "    </tr>\n",
       "    <tr>\n",
       "      <th>8</th>\n",
       "      <td>chr18</td>\n",
       "      <td>67525856</td>\n",
       "      <td>67525857</td>\n",
       "      <td>rs3018275</td>\n",
       "      <td>rs3018275:67525857:C:T</td>\n",
       "      <td>18:67525857</td>\n",
       "      <td>DOK6</td>\n",
       "    </tr>\n",
       "    <tr>\n",
       "      <th>9</th>\n",
       "      <td>chr21</td>\n",
       "      <td>43855066</td>\n",
       "      <td>43855067</td>\n",
       "      <td>rs1893592</td>\n",
       "      <td>rs1893592</td>\n",
       "      <td>21:43855067</td>\n",
       "      <td>UBASH3A</td>\n",
       "    </tr>\n",
       "  </tbody>\n",
       "</table>\n",
       "</div>"
      ],
      "text/plain": [
       "     chr      start        end        rs_id                 variant_id  \\\n",
       "0   chr6   26357897   26357898  rs556123236  rs142257165:26357898:C:CT   \n",
       "2  chr11   64107476   64107477     rs479777                   rs479777   \n",
       "3  chr12  112521447  112521448    rs4767364              exm-rs4767364   \n",
       "4  chr12   56401084   56401085   rs10876864                 rs10876864   \n",
       "5  chr16   11426330   11426331   rs12597893    rs12597893:11426331:A:G   \n",
       "7  chr16   28534037   28534038   rs62034321    rs62034321:28534038:C:T   \n",
       "8  chr18   67525856   67525857    rs3018275     rs3018275:67525857:C:T   \n",
       "9  chr21   43855066   43855067    rs1893592                  rs1893592   \n",
       "\n",
       "            sid    geneName  \n",
       "0    6:26357898      BTN3A2  \n",
       "2   11:64107477  AP003774.1  \n",
       "3  12:112521448     TMEM116  \n",
       "4   12:56401085       RPS26  \n",
       "5   16:11426331        RMI2  \n",
       "7   16:28534038     SULT1A2  \n",
       "8   18:67525857        DOK6  \n",
       "9   21:43855067     UBASH3A  "
      ]
     },
     "execution_count": 126,
     "metadata": {},
     "output_type": "execute_result"
    }
   ],
   "source": [
    "coloc_sig_df"
   ]
  },
  {
   "cell_type": "code",
   "execution_count": null,
   "id": "bc0eaada",
   "metadata": {},
   "outputs": [],
   "source": []
  },
  {
   "cell_type": "code",
   "execution_count": 180,
   "id": "79696611",
   "metadata": {},
   "outputs": [],
   "source": [
    "coloc_genes = coloc_sig_df.geneName.unique()"
   ]
  },
  {
   "cell_type": "code",
   "execution_count": 181,
   "id": "3adcf969",
   "metadata": {},
   "outputs": [
    {
     "data": {
      "text/plain": [
       "array(['BTN3A2', 'AP003774.1', 'TMEM116', 'RPS26', 'RMI2', 'SULT1A2',\n",
       "       'DOK6', 'UBASH3A'], dtype=object)"
      ]
     },
     "execution_count": 181,
     "metadata": {},
     "output_type": "execute_result"
    }
   ],
   "source": [
    "coloc_genes"
   ]
  },
  {
   "cell_type": "code",
   "execution_count": 184,
   "id": "5e319a92",
   "metadata": {},
   "outputs": [
    {
     "data": {
      "text/plain": [
       "array(['RP11-21A7A.3', 'TRPT1', 'RP11-783K16.14', 'DNAJC4', 'VEGFB',\n",
       "       'FKBP2', 'RP11-783K16.5', 'RP11-783K16.13', 'ENSG00000207024.1',\n",
       "       'TEX40', 'TRMT112', 'PRDX5', 'MIR1237', 'AP003774.6', 'AP003774.4',\n",
       "       'AP005273.1', 'AP006288.1', 'SLC22A12', 'AP001462.6', 'MEN1',\n",
       "       'AP001187.11', 'AP001187.1', 'RP11-665N17.4', 'MIR192', 'MIR194-2',\n",
       "       'GPHA2', 'BATF2', 'AP000436.4', 'SAC3D1', 'RN7SL114P', 'ZFPL1',\n",
       "       'AP003068.6', 'FLRT1', 'FERMT3', 'NUDT22', 'PPP1R14B', 'PLCB3',\n",
       "       'BAD', 'GPR137', 'KCNK4', 'RP11-783K16.10', 'ESRRA', 'CCDC88B',\n",
       "       'RPS6KA4', 'AP003774.5', 'SLC22A11', 'AP001092.4', 'RASGRP2',\n",
       "       'PYGM', 'SF1', 'RP11-869B15.1', 'MAP4K2', 'CDC42BPG', 'EHD1',\n",
       "       'ATG2A', 'PPP2R5B', 'C11orf85', 'ARL2', 'RP11-399J13.3', 'SNX15',\n",
       "       'NAALADL1', 'CDCA5', 'VPS51', 'MACROD1', 'RP11-21A7A.2',\n",
       "       'AP003774.1', 'NRXN2', 'STIP1', 'RP11-697H9.5', 'C11orf95',\n",
       "       'RP11-466C23.4', 'RN7SL596P', 'RP11-466C23.5', 'RNU6-1306P',\n",
       "       'RCOR2', 'RNU6-45P', 'COX8A', 'RP11-21A7A.4', 'RTN3', 'C11orf84',\n",
       "       'MARK2', 'NAA40', 'AP000721.4', 'OTUB1', 'ATL3', 'RP11-697H9.3',\n",
       "       'RP11-697H9.4', 'HRASLS5', 'LGALS12', 'HRASLS2', 'PLA2G16',\n",
       "       'RP11-697H9.2', 'SLC22A9', 'RARRES3', 'AP003068.9', 'ZNHIT2',\n",
       "       'AP003068.12', 'FAU', 'MRPL49', 'RNU2-23P', 'AP003068.17', 'SPDYC',\n",
       "       'AP003068.18', 'PGAM1P8', 'SYVN1', 'HIGD1AP10', 'AP003068.23',\n",
       "       'CAPN1', 'SLC22A20', 'POLA2', 'TM7SF2', 'OR6C64P', 'OR6C4',\n",
       "       'AC009779.1', 'OR2AP1', 'OR6U2P', 'OR10P1', 'OR10AE3P',\n",
       "       'RP11-644F5.15', 'RP11-644F5.17', 'METTL7B', 'BLOC1S1', 'CD63',\n",
       "       'RP11-644F5.11', 'RP11-644F5.12', 'RP11-762I7.4', 'DNAJC14',\n",
       "       'OLA1P3', 'RNU1-69P', 'GSTP1P1', 'RP11-603J24.7', 'AC034102.1',\n",
       "       'RPS26', 'RP11-603J24.9', 'PA2G4', 'RP11-603J24.17', 'RPL41',\n",
       "       'ZC3H10', 'RP11-603J24.6', 'RP11-603J24.5', 'RP11-603J24.14',\n",
       "       'MYL6B', 'MYL6', 'RN7SL770P', 'SLC39A5', 'COQ10A',\n",
       "       'RP11-977G19.14', 'RP11-977G19.12', 'IL23A', 'RNU7-40P', 'APOF',\n",
       "       'RP11-348M3.2', 'SPRYD4', 'RP11-644F5.16', 'RP11-644F5.10', 'RDH5',\n",
       "       'GDF11', 'SARNP', 'RP11-762I7.5', 'ORMDL2', 'WIBG', 'DGKA',\n",
       "       'RAB5B', 'SUOX', 'IKZF4', 'RP11-603J24.4', 'ESYT1',\n",
       "       'RP11-977G19.5', 'SMARCC2', 'RNF41', 'ANKRD52', 'CS',\n",
       "       'RP11-977G19.10', 'RP11-977G19.11', 'CNPY2', 'PAN2', 'STAT2',\n",
       "       'TIMELESS', 'MIP', 'GLS2', 'RP11-110A12.2', 'ITGA7', 'TMEM198B',\n",
       "       'MMP19', 'PMEL', 'CDK2', 'RP11-973D8.4', 'ERBB3', 'NABP2',\n",
       "       'RP11-153M3.1', 'RNU6-343P', 'SNORD59A', 'RN7SL809P',\n",
       "       'RP11-74M13.3', 'SNORA48', 'RDH16', 'RBMS2', 'ATP5B', 'PTGES3',\n",
       "       'NACA', 'PRIM1', 'RP11-74M13.4', 'SDR9C7', 'BAZ2A', 'HSD17B6',\n",
       "       'RP11-686G8.2', 'PCNPP1', 'RP3-462E2.3', 'AC003029.1', 'RPS2P41',\n",
       "       'RP3-462E2.5', 'ADAM1A', 'ADAM1B', 'SLC25A3P2', 'RP1-128M12.3',\n",
       "       'MIR3657', 'RP1-267L14.3', 'ENSG00000200688.1',\n",
       "       'ENSG00000200135.1', 'RP3-521E19.2', 'RN7SKP71', 'RPL7AP60',\n",
       "       'RP3-521E19.3', 'BRAP', 'ACAD10', 'ALDH2', 'MAPKAPK5-AS1',\n",
       "       'TMEM116', 'NAA25', 'PTPN11', 'ATXN2', 'MAPKAPK5', 'ERP29',\n",
       "       'TRAFD1', 'HECTD4', 'RPL6', 'RP11-162P23.2', 'RPH3A', 'U7',\n",
       "       'RP11-686G8.1', 'RP11-876N24.1', 'RP11-876N24.5', 'RP11-876N24.4',\n",
       "       'AC007014.1', 'RP11-66H6.3', 'HNRNPCP4', 'SOCS1', 'TNP2', 'PRM3',\n",
       "       'PRM2', 'PRM1', 'snoU13', 'MIR548H2', 'ENSG00000199668.1',\n",
       "       'RP11-485G7.6', 'AC009121.1', 'CTD-3088G3.4', 'CTD-3088G3.6',\n",
       "       'RN7SL522P', 'RP11-490O6.2', 'BCAR4', 'RP11-876N24.2', 'DEXI',\n",
       "       'RP11-396B14.2', 'RP11-485G7.5', 'SNN', 'ZC3H7A', 'CIITA',\n",
       "       'CLEC16A', 'RMI2', 'LITAF', 'TXNDC11', 'CTD-3088G3.8', 'TPRKBP2',\n",
       "       'SNORA25', 'ENSG00000200138.1', 'RP11-159J3.1', 'RP11-57A19.2',\n",
       "       'RP11-435I10.5', 'RP11-57A19.5', 'IL27', 'NUPR1', 'RP11-666O2.1',\n",
       "       'CDC37P1', 'RP11-1348G14.6', 'RP11-1348G14.1', 'RP11-1348G14.5',\n",
       "       'RP11-24N18.1', 'TUFM', 'MIR4721', 'RP11-22P6.2', 'RP11-22P6.3',\n",
       "       'SNORA43', 'RP11-264B17.2', 'MIR4517', 'SPNS1', 'RP11-264B17.4',\n",
       "       'RP11-264B17.5', 'NPIPB6', 'EIF3CL', 'RP11-435I10.3', 'NPIPB7',\n",
       "       'CLN3', 'APOBR', 'SULT1A2', 'SULT1A1', 'NPIPB8', 'NPIPB9',\n",
       "       'RP11-1348G14.4', 'SH2B1', 'ATP2A1', 'RABEP2', 'CD19',\n",
       "       'RP11-264B17.3', 'LAT', 'GSG1L', 'XPO6', 'CCDC101', 'RP11-57A19.4',\n",
       "       'EIF3C', 'ATXN2L', 'NFATC2IP', 'SBK1', 'CTB-134H23.2',\n",
       "       'AC009093.1', 'RP11-426C22.6', 'RP11-231C14.6', 'CTB-134H23.3',\n",
       "       'RRN3P2', 'RP11-426C22.5', 'RP11-426C22.4', 'SNX29P2',\n",
       "       'RP11-465I4.3', 'RP11-484N16.1', 'RP11-543H23.2', 'SOCS6',\n",
       "       'RP11-41O4.1', 'RP11-465I4.2', 'CD226', 'RTTN', 'DOK6',\n",
       "       'AC013558.1', 'RP11-41O4.2', 'RP11-41O4.3', 'RPS2P6', 'LINC00479',\n",
       "       'LINC00112', 'AP001615.9', 'AP001619.3', 'AP001619.2', 'SNORA3',\n",
       "       'C21orf128', 'RNA5SP492', 'AP001623.1', 'TFF3', 'TFF2', 'TFF1',\n",
       "       'RNU6-1149P', 'AP001625.4', 'AP001625.5', 'AP001625.6',\n",
       "       'LINC00111', 'RIPK4', 'C2CD2', 'ZBTB21', 'ZNF295-AS1', 'TMPRSS3',\n",
       "       'UBASH3A', 'SLC37A1', 'PRDM15', 'UMODL1', 'ABCG1', 'RSPH1',\n",
       "       'AP001626.2', 'AP001628.7', 'AP001626.1', 'AP001627.1',\n",
       "       'AP001628.6', 'WDR4', 'PDE9A', 'NDUFV3', 'ERVH48-1', 'MIR5692B',\n",
       "       'AP001630.5', 'MRPL51P2', 'AP001631.1', 'AP001631.9', 'CRYAA',\n",
       "       'CBS', 'U2AF1', 'AP001631.10', 'PKNOX1', 'AL160037.1', 'PRELID1P2',\n",
       "       'HIST1H2AA', 'HIST1H2BA', 'HIST1H2BPS1', 'HIST1H2APS1',\n",
       "       'HIST1H2APS2', 'U91328.20', 'U91328.22', 'HIST1H1PS2', 'HIST1H3A',\n",
       "       'HIST1H4A', 'HIST1H4B', 'HIST1H3B', 'HIST1H2AB', 'HIST1H2BB',\n",
       "       'U91328.2', 'HIST1H3C', 'HIST1H1C', 'HFE', 'HIST1H4C', 'HIST1H1T',\n",
       "       'HIST1H1E', 'LARP1P1', 'HIST1H2BE', 'HIST1H4D', 'HIST1H1PS1',\n",
       "       'HIST1H2AD', 'HIST1H2BF', 'RP1-34B20.4', 'HIST1H4E', 'HIST1H2BG',\n",
       "       'HIST1H2AE', 'HIST1H3E', 'HIST1H2APS3', 'HIST1H1D', 'HIST1H4F',\n",
       "       'HIST1H3F', 'HIST1H2BH', 'HIST1H3G', 'HIST1H2APS4', 'HIST1H2BI',\n",
       "       'HIST1H4H', 'HIST1H3PS1', 'RNU6-1259P', 'AL021917.1', 'SLC17A4',\n",
       "       'SLC17A3', 'SLC17A2', 'TRIM38', 'U91328.21', 'U91328.19',\n",
       "       'HIST1H1A', 'HIST1H2BC', 'HIST1H2AC', 'HIST1H2BD', 'HIST1H3D',\n",
       "       'HIST1H4G', 'BTN3A2', 'BTN2A2', 'BTN3A1', 'LRRC16A', 'SCGN',\n",
       "       'SLC17A1', 'RNU6-502P', 'CTA-14H9.5', 'ABT1', 'RP11-457M11.6',\n",
       "       'VN1R14P', 'RP11-457M11.2', 'RP11-457M11.5', 'BTN2A3P', 'BTN3A3',\n",
       "       'BTN1A1', 'HCG11', 'HMGN4', 'ZNF322', 'BTN2A1', 'GUSBP2',\n",
       "       'RP11-239L20.3', 'RP11-239L20.6', 'TRNAI2', 'VN1R12P', 'VN1R13P',\n",
       "       'VN1R11P', 'RNU2-62P', 'RP1-86C11.7', 'HIST1H2AG', 'HIST1H2BK',\n",
       "       'HIST1H4I', 'HIST1H2AH', 'MIR3143', 'RP11-209A2.1', 'PRSS16',\n",
       "       'XXbac-BPGBPG24O18.1', 'VN1R10P', 'LINC00240', 'HIST1H2BJ',\n",
       "       'ZNF204P', 'ZNF391', 'POM121L2'], dtype=object)"
      ]
     },
     "execution_count": 184,
     "metadata": {},
     "output_type": "execute_result"
    }
   ],
   "source": [
    "fivekb_genes.gname.unique()"
   ]
  },
  {
   "cell_type": "code",
   "execution_count": null,
   "id": "717e8353",
   "metadata": {},
   "outputs": [],
   "source": []
  },
  {
   "cell_type": "markdown",
   "id": "bd7f3b88",
   "metadata": {},
   "source": [
    "## Load the gene data"
   ]
  },
  {
   "cell_type": "code",
   "execution_count": 31,
   "id": "874a5567",
   "metadata": {},
   "outputs": [],
   "source": [
    "# load the gencode coords\n",
    "cols = ['chrom', 'start', 'end', 'strand', 'type', 'gene_id', 'gname']\n",
    "gencode = pd.read_table(genes_fn, header=None, names=cols)\n",
    "\n",
    "# extract just the genes\n",
    "genes_df = gencode.loc[gencode.type.isin(['gene'])]\n",
    "genes_df = genes_df.loc[~genes_df.duplicated(subset='gene_id'), :]\n",
    "genes_df.loc[:, 'chrom'] = genes_df['chrom'].astype(str)\n",
    "genes_df = genes_df.iloc[:, [0,1,2,6,5]]\n",
    "genes_pbt = pbt.BedTool.from_dataframe(genes_df).sort()"
   ]
  },
  {
   "cell_type": "markdown",
   "id": "0fb4be64",
   "metadata": {},
   "source": [
    "## Load the eQTL's"
   ]
  },
  {
   "cell_type": "code",
   "execution_count": 32,
   "id": "a17f2eed",
   "metadata": {},
   "outputs": [],
   "source": [
    "# get eQTL's\n",
    "eqtls = pd.read_table(eqtl_fn)\n",
    "eqtls.columns = ['eqtl_gname', 'nvar', 'shape1', 'shape2', 'dummy',\n",
    "                 'sid', 'dist', 'npval', 'slope', 'ppval', 'bpval', 'qval']\n",
    "eqtl_pbt = eqtls['sid'].to_frame()\n",
    "eqtl_pbt['chr'], eqtl_pbt['end'] = list(zip(*eqtl_pbt['sid'].str.split(':').values))\n",
    "eqtl_pbt['chr'] = 'chr' + eqtl_pbt['chr']\n",
    "eqtl_pbt['end'] = eqtl_pbt['end'].astype(int)\n",
    "eqtl_pbt['start'] = eqtl_pbt['end'] - 1 \n",
    "eqtl_pbt = eqtl_pbt[['chr', 'start', 'end', 'sid']]\n",
    "eqtl_pbt = pbt.BedTool.from_dataframe(eqtl_pbt)"
   ]
  },
  {
   "cell_type": "markdown",
   "id": "ac28149e",
   "metadata": {},
   "source": [
    "## Find all genes +/- 500kb of the eQTL SNPs"
   ]
  },
  {
   "cell_type": "code",
   "execution_count": 42,
   "id": "3181fe6c",
   "metadata": {},
   "outputs": [],
   "source": [
    "# filter for eqtl that are near the coloc snps\n",
    "eqtl_pbt = eqtl_pbt.intersect(coloc_sig_pbt.slop(b=500000, g=gs_fn), wa=True)"
   ]
  },
  {
   "cell_type": "code",
   "execution_count": 47,
   "id": "598cc0e3",
   "metadata": {},
   "outputs": [],
   "source": [
    "# get a list of gene names within +- 500kb of the SNPs\n",
    "fivekb_genes = eqtl_pbt.slop(b=500000, g=gs_fn)\n",
    "fivekb_genes = fivekb_genes.intersect(genes_pbt, wa=True, wb=True)\n",
    "fivekb_genes = fivekb_genes.to_dataframe().iloc[:, [0,1,2,4,5,6,3,7,8]]\n",
    "fivekb_genes.columns = bedpe_6cols + ['sid', 'gname', 'gid']\n",
    "fivekb_genes['startA'] += 500000\n",
    "fivekb_genes['endA'] -= 500000"
   ]
  },
  {
   "cell_type": "markdown",
   "id": "ed36e54a",
   "metadata": {},
   "source": [
    "## Find the closest gene"
   ]
  },
  {
   "cell_type": "code",
   "execution_count": 48,
   "id": "9e8c65d3",
   "metadata": {},
   "outputs": [],
   "source": [
    "closest_gene = eqtl_pbt.closest(genes_pbt, d=True)\n",
    "closest_gene = closest_gene.to_dataframe().iloc[:, [0,1,2,4,5,6,3,7,8,9]]\n",
    "closest_gene.columns = bedpe_6cols + ['sid', 'gname', 'gid', 'dist']\n",
    "closest_gene.set_index(['sid', 'gname'], inplace=True)"
   ]
  },
  {
   "cell_type": "markdown",
   "id": "848ef2a7",
   "metadata": {},
   "source": [
    "## Get the loops"
   ]
  },
  {
   "cell_type": "code",
   "execution_count": 49,
   "id": "3492c387",
   "metadata": {},
   "outputs": [
    {
     "name": "stderr",
     "output_type": "stream",
     "text": [
      "/mnt/BioHome/jreyna/.local/lib/python3.6/site-packages/pandas/core/frame.py:4308: SettingWithCopyWarning: \n",
      "A value is trying to be set on a copy of a slice from a DataFrame\n",
      "\n",
      "See the caveats in the documentation: https://pandas.pydata.org/pandas-docs/stable/user_guide/indexing.html#returning-a-view-versus-a-copy\n",
      "  errors=errors,\n",
      "/mnt/BioHome/jreyna/.local/lib/python3.6/site-packages/pandas/core/indexing.py:1596: SettingWithCopyWarning: \n",
      "A value is trying to be set on a copy of a slice from a DataFrame.\n",
      "Try using .loc[row_indexer,col_indexer] = value instead\n",
      "\n",
      "See the caveats in the documentation: https://pandas.pydata.org/pandas-docs/stable/user_guide/indexing.html#returning-a-view-versus-a-copy\n",
      "  self.obj[key] = _infer_fill_value(value)\n",
      "/mnt/BioHome/jreyna/.local/lib/python3.6/site-packages/pandas/core/indexing.py:1763: SettingWithCopyWarning: \n",
      "A value is trying to be set on a copy of a slice from a DataFrame.\n",
      "Try using .loc[row_indexer,col_indexer] = value instead\n",
      "\n",
      "See the caveats in the documentation: https://pandas.pydata.org/pandas-docs/stable/user_guide/indexing.html#returning-a-view-versus-a-copy\n",
      "  isetter(loc, value)\n",
      "/mnt/BioHome/jreyna/.local/lib/python3.6/site-packages/pandas/core/indexing.py:1743: SettingWithCopyWarning: \n",
      "A value is trying to be set on a copy of a slice from a DataFrame.\n",
      "Try using .loc[row_indexer,col_indexer] = value instead\n",
      "\n",
      "See the caveats in the documentation: https://pandas.pydata.org/pandas-docs/stable/user_guide/indexing.html#returning-a-view-versus-a-copy\n",
      "  isetter(ilocs[0], value)\n"
     ]
    },
    {
     "name": "stdout",
     "output_type": "stream",
     "text": [
      "FitHiChIP found 577026 significant loops.\n"
     ]
    }
   ],
   "source": [
    "# load the loop data\n",
    "loops = pd.read_table(loop_fn)\n",
    "tmp_loops = loops[['chr1', 's1', 'e1', 'chr2', 's2', 'e2']]\n",
    "tmp_loops.rename(columns={'p': 'score'}, inplace=True)\n",
    "tmp_loops.loc[:, 'name'] = '.'\n",
    "tmp_loops.loc[:, 'score'] = loops['p']\n",
    "tmp_loops.loc[:, 'strand1'] = '.'\n",
    "tmp_loops.loc[:, 'strand2'] = '.'\n",
    "loops = pbt.BedTool.from_dataframe(tmp_loops)\n",
    "print('FitHiChIP found {} significant loops.'.format(tmp_loops.shape[0]))"
   ]
  },
  {
   "cell_type": "code",
   "execution_count": 50,
   "id": "523f2f2e",
   "metadata": {},
   "outputs": [],
   "source": [
    "# #### Find out SNP - 5kb gene pairs with loops\\\n",
    "# re-arranging to fit bedpe format\n",
    "fivekb_gloops = fivekb_genes.copy()\n",
    "fivekb_gloops['dummy'] = 'drop'\n",
    "\n",
    "# loading into pbt\n",
    "fivekb_gloops = pbt.BedTool.from_dataframe(fivekb_gloops)\n",
    "fivekb_gloops = fivekb_gloops.pair_to_pair(loops, type='both',  **{'is':True})\n",
    "fivekb_gloops = fivekb_gloops.to_dataframe(disable_auto_names=True, header=None)"
   ]
  },
  {
   "cell_type": "code",
   "execution_count": 51,
   "id": "776b8848",
   "metadata": {},
   "outputs": [
    {
     "data": {
      "text/html": [
       "<div>\n",
       "<style scoped>\n",
       "    .dataframe tbody tr th:only-of-type {\n",
       "        vertical-align: middle;\n",
       "    }\n",
       "\n",
       "    .dataframe tbody tr th {\n",
       "        vertical-align: top;\n",
       "    }\n",
       "\n",
       "    .dataframe thead th {\n",
       "        text-align: right;\n",
       "    }\n",
       "</style>\n",
       "<table border=\"1\" class=\"dataframe\">\n",
       "  <thead>\n",
       "    <tr style=\"text-align: right;\">\n",
       "      <th></th>\n",
       "      <th>0</th>\n",
       "      <th>1</th>\n",
       "      <th>2</th>\n",
       "      <th>3</th>\n",
       "      <th>4</th>\n",
       "      <th>5</th>\n",
       "      <th>6</th>\n",
       "      <th>7</th>\n",
       "      <th>8</th>\n",
       "      <th>9</th>\n",
       "      <th>10</th>\n",
       "      <th>11</th>\n",
       "      <th>12</th>\n",
       "      <th>13</th>\n",
       "      <th>14</th>\n",
       "      <th>15</th>\n",
       "      <th>16</th>\n",
       "      <th>17</th>\n",
       "      <th>18</th>\n",
       "      <th>19</th>\n",
       "    </tr>\n",
       "  </thead>\n",
       "  <tbody>\n",
       "    <tr>\n",
       "      <th>0</th>\n",
       "      <td>chr11</td>\n",
       "      <td>63934301</td>\n",
       "      <td>63934302</td>\n",
       "      <td>chr11</td>\n",
       "      <td>63742079</td>\n",
       "      <td>63744015</td>\n",
       "      <td>11:63934302</td>\n",
       "      <td>COX8A</td>\n",
       "      <td>ENSG00000176340.3</td>\n",
       "      <td>drop</td>\n",
       "      <td>chr11</td>\n",
       "      <td>63740000</td>\n",
       "      <td>63745000</td>\n",
       "      <td>chr11</td>\n",
       "      <td>63930000</td>\n",
       "      <td>63935000</td>\n",
       "      <td>.</td>\n",
       "      <td>7.219366e-08</td>\n",
       "      <td>.</td>\n",
       "      <td>.</td>\n",
       "    </tr>\n",
       "    <tr>\n",
       "      <th>1</th>\n",
       "      <td>chr11</td>\n",
       "      <td>63934301</td>\n",
       "      <td>63934302</td>\n",
       "      <td>chr11</td>\n",
       "      <td>63991271</td>\n",
       "      <td>63993726</td>\n",
       "      <td>11:63934302</td>\n",
       "      <td>TRPT1</td>\n",
       "      <td>ENSG00000149743.9</td>\n",
       "      <td>drop</td>\n",
       "      <td>chr11</td>\n",
       "      <td>63930000</td>\n",
       "      <td>63935000</td>\n",
       "      <td>chr11</td>\n",
       "      <td>63990000</td>\n",
       "      <td>63995000</td>\n",
       "      <td>.</td>\n",
       "      <td>2.701329e-07</td>\n",
       "      <td>.</td>\n",
       "      <td>.</td>\n",
       "    </tr>\n",
       "    <tr>\n",
       "      <th>2</th>\n",
       "      <td>chr11</td>\n",
       "      <td>63934301</td>\n",
       "      <td>63934302</td>\n",
       "      <td>chr11</td>\n",
       "      <td>64002010</td>\n",
       "      <td>64006259</td>\n",
       "      <td>11:63934302</td>\n",
       "      <td>VEGFB</td>\n",
       "      <td>ENSG00000173511.5</td>\n",
       "      <td>drop</td>\n",
       "      <td>chr11</td>\n",
       "      <td>63930000</td>\n",
       "      <td>63935000</td>\n",
       "      <td>chr11</td>\n",
       "      <td>64005000</td>\n",
       "      <td>64010000</td>\n",
       "      <td>.</td>\n",
       "      <td>2.007063e-07</td>\n",
       "      <td>.</td>\n",
       "      <td>.</td>\n",
       "    </tr>\n",
       "    <tr>\n",
       "      <th>3</th>\n",
       "      <td>chr11</td>\n",
       "      <td>63934301</td>\n",
       "      <td>63934302</td>\n",
       "      <td>chr11</td>\n",
       "      <td>64008475</td>\n",
       "      <td>64011604</td>\n",
       "      <td>11:63934302</td>\n",
       "      <td>FKBP2</td>\n",
       "      <td>ENSG00000173486.8</td>\n",
       "      <td>drop</td>\n",
       "      <td>chr11</td>\n",
       "      <td>63930000</td>\n",
       "      <td>63935000</td>\n",
       "      <td>chr11</td>\n",
       "      <td>64005000</td>\n",
       "      <td>64010000</td>\n",
       "      <td>.</td>\n",
       "      <td>2.007063e-07</td>\n",
       "      <td>.</td>\n",
       "      <td>.</td>\n",
       "    </tr>\n",
       "    <tr>\n",
       "      <th>4</th>\n",
       "      <td>chr11</td>\n",
       "      <td>63934301</td>\n",
       "      <td>63934302</td>\n",
       "      <td>chr11</td>\n",
       "      <td>64067863</td>\n",
       "      <td>64072242</td>\n",
       "      <td>11:63934302</td>\n",
       "      <td>TEX40</td>\n",
       "      <td>ENSG00000219435.3</td>\n",
       "      <td>drop</td>\n",
       "      <td>chr11</td>\n",
       "      <td>63930000</td>\n",
       "      <td>63935000</td>\n",
       "      <td>chr11</td>\n",
       "      <td>64070000</td>\n",
       "      <td>64075000</td>\n",
       "      <td>.</td>\n",
       "      <td>9.857282e-08</td>\n",
       "      <td>.</td>\n",
       "      <td>.</td>\n",
       "    </tr>\n",
       "  </tbody>\n",
       "</table>\n",
       "</div>"
      ],
      "text/plain": [
       "      0         1         2      3         4         5            6      7   \\\n",
       "0  chr11  63934301  63934302  chr11  63742079  63744015  11:63934302  COX8A   \n",
       "1  chr11  63934301  63934302  chr11  63991271  63993726  11:63934302  TRPT1   \n",
       "2  chr11  63934301  63934302  chr11  64002010  64006259  11:63934302  VEGFB   \n",
       "3  chr11  63934301  63934302  chr11  64008475  64011604  11:63934302  FKBP2   \n",
       "4  chr11  63934301  63934302  chr11  64067863  64072242  11:63934302  TEX40   \n",
       "\n",
       "                  8     9      10        11        12     13        14  \\\n",
       "0  ENSG00000176340.3  drop  chr11  63740000  63745000  chr11  63930000   \n",
       "1  ENSG00000149743.9  drop  chr11  63930000  63935000  chr11  63990000   \n",
       "2  ENSG00000173511.5  drop  chr11  63930000  63935000  chr11  64005000   \n",
       "3  ENSG00000173486.8  drop  chr11  63930000  63935000  chr11  64005000   \n",
       "4  ENSG00000219435.3  drop  chr11  63930000  63935000  chr11  64070000   \n",
       "\n",
       "         15 16            17 18 19  \n",
       "0  63935000  .  7.219366e-08  .  .  \n",
       "1  63995000  .  2.701329e-07  .  .  \n",
       "2  64010000  .  2.007063e-07  .  .  \n",
       "3  64010000  .  2.007063e-07  .  .  \n",
       "4  64075000  .  9.857282e-08  .  .  "
      ]
     },
     "execution_count": 51,
     "metadata": {},
     "output_type": "execute_result"
    }
   ],
   "source": [
    "fivekb_gloops.head()"
   ]
  },
  {
   "cell_type": "code",
   "execution_count": 52,
   "id": "b6f2c632",
   "metadata": {},
   "outputs": [],
   "source": [
    "fivekb_gloops_set = fivekb_gloops.iloc[:, [6,8]]\n",
    "fivekb_gloops_uniq = set([tuple(x) for x in fivekb_gloops_set.values.tolist()])"
   ]
  },
  {
   "cell_type": "markdown",
   "id": "729fb8db",
   "metadata": {},
   "source": [
    "## Construct master table"
   ]
  },
  {
   "cell_type": "code",
   "execution_count": 238,
   "id": "76bef8a8",
   "metadata": {},
   "outputs": [],
   "source": [
    "# begin making the master\n",
    "master = fivekb_genes.copy()\n",
    "master['sid'] = master['chrA'].str.replace('chr', '') + ':' + master['endA'].astype(str)"
   ]
  },
  {
   "cell_type": "code",
   "execution_count": 239,
   "id": "645f9a40",
   "metadata": {},
   "outputs": [],
   "source": [
    "# add eqtl metadata\n",
    "# Need to join using outer so as to include ALL eQTL data\n",
    "master = master.merge(eqtls, left_on=['sid', 'gname'], right_on=['sid', 'eqtl_gname'], how='outer')\n",
    "master['is_eqtl_pair'] = (~master['ppval'].isna()).astype(int)\n",
    "master.loc[master['gname'].isna(), 'gname'] = master.loc[master['gname'].isna(), 'eqtl_gname'] "
   ]
  },
  {
   "cell_type": "code",
   "execution_count": 240,
   "id": "03b246e7",
   "metadata": {},
   "outputs": [
    {
     "data": {
      "text/plain": [
       "(3553, 21)"
      ]
     },
     "execution_count": 240,
     "metadata": {},
     "output_type": "execute_result"
    }
   ],
   "source": [
    "master.shape"
   ]
  },
  {
   "cell_type": "code",
   "execution_count": 241,
   "id": "6065c3b9",
   "metadata": {},
   "outputs": [
    {
     "name": "stderr",
     "output_type": "stream",
     "text": [
      "/mnt/BioHome/jreyna/software/anaconda3/envs/hic_tls/lib/python3.6/site-packages/ipykernel/zmqshell.py:536: PerformanceWarning: indexing past lexsort depth may impact performance.\n",
      "  return super(ZMQInteractiveShell, self).run_cell(*args, **kwargs)\n"
     ]
    }
   ],
   "source": [
    "# check for the closets gene\n",
    "closets_check = [0] * master.shape[0]\n",
    "for i, sr in master.iterrows():\n",
    "\n",
    "    # check closest gene\n",
    "    rs_gene = (sr.sid, sr.gname)\n",
    "    if rs_gene in closest_gene.index:\n",
    "        closets_check[i] = 1\n",
    "\n",
    "master['is_closest_gene'] = closets_check"
   ]
  },
  {
   "cell_type": "code",
   "execution_count": 242,
   "id": "6a5639c9",
   "metadata": {},
   "outputs": [],
   "source": [
    "# add colocalization data for SNP and is_coloc_snp columns\n",
    "tmp_coloc = coloc_sig_full.copy()\n",
    "tmp_coloc = coloc_sig_full[['sid',\n",
    " 'pp_H0_Coloc_Summary',\n",
    " 'pp_H1_Coloc_Summary',\n",
    " 'pp_H2_Coloc_Summary',\n",
    " 'pp_H3_Coloc_Summary',\n",
    " 'pp_H4_Coloc_Summary',\n",
    " 'rs_id',\n",
    " 'geneName',\n",
    " 'ref',\n",
    " 'alt',\n",
    " 'AC',\n",
    " 'AF',\n",
    " 'AN',\n",
    " 'slope_gwas',\n",
    " 'slope_se_gwas',\n",
    " 'pval_nominal',\n",
    " 'SampleSize']]"
   ]
  },
  {
   "cell_type": "code",
   "execution_count": 243,
   "id": "8fffa4a4",
   "metadata": {},
   "outputs": [
    {
     "name": "stderr",
     "output_type": "stream",
     "text": [
      "/mnt/BioHome/jreyna/.local/lib/python3.6/site-packages/pandas/core/frame.py:4308: SettingWithCopyWarning: \n",
      "A value is trying to be set on a copy of a slice from a DataFrame\n",
      "\n",
      "See the caveats in the documentation: https://pandas.pydata.org/pandas-docs/stable/user_guide/indexing.html#returning-a-view-versus-a-copy\n",
      "  errors=errors,\n"
     ]
    }
   ],
   "source": [
    "tmp_coloc.rename(columns={'slope_gwas': 'gwas_slope',\n",
    "                          'slope_se_gwas': 'gwas_slope_se',\n",
    "                          'pval_nominal': 'gwas_pval_nominal',\n",
    "                          'geneName': 'gname'}, inplace=True)"
   ]
  },
  {
   "cell_type": "code",
   "execution_count": 244,
   "id": "c6f5a537",
   "metadata": {},
   "outputs": [],
   "source": [
    "master = master.merge(tmp_coloc, on=['sid', 'gname'], how='outer')"
   ]
  },
  {
   "cell_type": "code",
   "execution_count": 245,
   "id": "40ae3c8a",
   "metadata": {},
   "outputs": [
    {
     "data": {
      "text/plain": [
       "(3554, 37)"
      ]
     },
     "execution_count": 245,
     "metadata": {},
     "output_type": "execute_result"
    }
   ],
   "source": [
    "master.shape"
   ]
  },
  {
   "cell_type": "code",
   "execution_count": 246,
   "id": "453944fc",
   "metadata": {},
   "outputs": [],
   "source": [
    "# # add a columns to check the coloc gene status\n",
    "# coloc_gids = master.loc[master.gname == master.eqtl_gname, 'gid']\n",
    "# master['is_coloc_gene_id'] = master.gid.isin(coloc_gids).astype(int)"
   ]
  },
  {
   "cell_type": "code",
   "execution_count": 247,
   "id": "705c5579",
   "metadata": {},
   "outputs": [],
   "source": [
    "# add a column to check the coloc pair status \n",
    "master['is_coloc_pair'] = (~master['pp_H4_Coloc_Summary'].isna()).astype(int)"
   ]
  },
  {
   "cell_type": "code",
   "execution_count": 248,
   "id": "10de9e2f",
   "metadata": {},
   "outputs": [],
   "source": [
    "# check for the loop gene\n",
    "loop_check = [0] * master.shape[0]\n",
    "for i, sr in master.iterrows():\n",
    "\n",
    "    # check closest gene\n",
    "    rs_gene = (sr.sid, sr.gid)\n",
    "    if rs_gene in fivekb_gloops_uniq:\n",
    "        loop_check[i] = 1\n",
    "\n",
    "master['has_fithichip_loop'] = loop_check"
   ]
  },
  {
   "cell_type": "code",
   "execution_count": 249,
   "id": "a12e3018",
   "metadata": {},
   "outputs": [],
   "source": [
    "master = master[[\n",
    " 'rs_id',\n",
    " 'gname',\n",
    " 'gid',\n",
    " 'chrA',\n",
    " 'endA',    \n",
    " 'startB',\n",
    " 'endB',\n",
    " #'is_coloc_gene_id', \n",
    " 'is_eqtl_pair', \n",
    " 'is_coloc_pair',\n",
    " 'is_closest_gene',\n",
    " 'has_fithichip_loop',\n",
    " 'sid',\n",
    " 'nvar',\n",
    " 'shape1',\n",
    " 'shape2',\n",
    " 'npval',\n",
    " 'slope',\n",
    " 'ppval',\n",
    " 'bpval',\n",
    " 'qval',\n",
    " 'pp_H0_Coloc_Summary',\n",
    " 'pp_H1_Coloc_Summary',\n",
    " 'pp_H2_Coloc_Summary',\n",
    " 'pp_H3_Coloc_Summary',\n",
    " 'pp_H4_Coloc_Summary',\n",
    " 'ref',\n",
    " 'alt',\n",
    " 'AC',\n",
    " 'AF',\n",
    " 'AN',\n",
    " 'gwas_slope',\n",
    " 'gwas_slope_se',\n",
    " 'gwas_pval_nominal',\n",
    " 'SampleSize']]"
   ]
  },
  {
   "cell_type": "code",
   "execution_count": 250,
   "id": "03229023",
   "metadata": {},
   "outputs": [],
   "source": [
    "master.rename(columns={'chrA':'chrom', 'endA': 'snp_pos', \n",
    "                       'startB': 'gene_start', 'endB': 'gene_end',\n",
    "                       'gname': 'gene_name', 'gid': 'gene_id'}, inplace=True)\n",
    "master.sort_values(['chrom', 'snp_pos', 'gene_start', 'rs_id'], inplace=True)"
   ]
  },
  {
   "cell_type": "code",
   "execution_count": 255,
   "id": "cec22564",
   "metadata": {},
   "outputs": [
    {
     "data": {
      "text/html": [
       "<div>\n",
       "<style scoped>\n",
       "    .dataframe tbody tr th:only-of-type {\n",
       "        vertical-align: middle;\n",
       "    }\n",
       "\n",
       "    .dataframe tbody tr th {\n",
       "        vertical-align: top;\n",
       "    }\n",
       "\n",
       "    .dataframe thead th {\n",
       "        text-align: right;\n",
       "    }\n",
       "</style>\n",
       "<table border=\"1\" class=\"dataframe\">\n",
       "  <thead>\n",
       "    <tr style=\"text-align: right;\">\n",
       "      <th></th>\n",
       "      <th>rs_id</th>\n",
       "      <th>gene_name</th>\n",
       "      <th>gene_id</th>\n",
       "      <th>chrom</th>\n",
       "      <th>snp_pos</th>\n",
       "      <th>gene_start</th>\n",
       "      <th>gene_end</th>\n",
       "      <th>is_eqtl_pair</th>\n",
       "      <th>is_coloc_pair</th>\n",
       "      <th>is_closest_gene</th>\n",
       "      <th>...</th>\n",
       "      <th>pp_H4_Coloc_Summary</th>\n",
       "      <th>ref</th>\n",
       "      <th>alt</th>\n",
       "      <th>AC</th>\n",
       "      <th>AF</th>\n",
       "      <th>AN</th>\n",
       "      <th>gwas_slope</th>\n",
       "      <th>gwas_slope_se</th>\n",
       "      <th>gwas_pval_nominal</th>\n",
       "      <th>SampleSize</th>\n",
       "    </tr>\n",
       "  </thead>\n",
       "  <tbody>\n",
       "    <tr>\n",
       "      <th>88</th>\n",
       "      <td>NaN</td>\n",
       "      <td>TRMT112</td>\n",
       "      <td>ENSG00000173113.2</td>\n",
       "      <td>chr11</td>\n",
       "      <td>63934302.0</td>\n",
       "      <td>64083932.0</td>\n",
       "      <td>64085556.0</td>\n",
       "      <td>1</td>\n",
       "      <td>0</td>\n",
       "      <td>0</td>\n",
       "      <td>...</td>\n",
       "      <td>NaN</td>\n",
       "      <td>NaN</td>\n",
       "      <td>NaN</td>\n",
       "      <td>NaN</td>\n",
       "      <td>NaN</td>\n",
       "      <td>NaN</td>\n",
       "      <td>NaN</td>\n",
       "      <td>NaN</td>\n",
       "      <td>NaN</td>\n",
       "      <td>NaN</td>\n",
       "    </tr>\n",
       "    <tr>\n",
       "      <th>244</th>\n",
       "      <td>NaN</td>\n",
       "      <td>MEN1</td>\n",
       "      <td>ENSG00000133895.10</td>\n",
       "      <td>chr11</td>\n",
       "      <td>64549514.0</td>\n",
       "      <td>64570982.0</td>\n",
       "      <td>64578766.0</td>\n",
       "      <td>1</td>\n",
       "      <td>0</td>\n",
       "      <td>0</td>\n",
       "      <td>...</td>\n",
       "      <td>NaN</td>\n",
       "      <td>NaN</td>\n",
       "      <td>NaN</td>\n",
       "      <td>NaN</td>\n",
       "      <td>NaN</td>\n",
       "      <td>NaN</td>\n",
       "      <td>NaN</td>\n",
       "      <td>NaN</td>\n",
       "      <td>NaN</td>\n",
       "      <td>NaN</td>\n",
       "    </tr>\n",
       "    <tr>\n",
       "      <th>647</th>\n",
       "      <td>NaN</td>\n",
       "      <td>TUFM</td>\n",
       "      <td>ENSG00000178952.4</td>\n",
       "      <td>chr16</td>\n",
       "      <td>28837515.0</td>\n",
       "      <td>28853732.0</td>\n",
       "      <td>28857729.0</td>\n",
       "      <td>1</td>\n",
       "      <td>0</td>\n",
       "      <td>0</td>\n",
       "      <td>...</td>\n",
       "      <td>NaN</td>\n",
       "      <td>NaN</td>\n",
       "      <td>NaN</td>\n",
       "      <td>NaN</td>\n",
       "      <td>NaN</td>\n",
       "      <td>NaN</td>\n",
       "      <td>NaN</td>\n",
       "      <td>NaN</td>\n",
       "      <td>NaN</td>\n",
       "      <td>NaN</td>\n",
       "    </tr>\n",
       "    <tr>\n",
       "      <th>754</th>\n",
       "      <td>NaN</td>\n",
       "      <td>TMPRSS3</td>\n",
       "      <td>ENSG00000160183.9</td>\n",
       "      <td>chr21</td>\n",
       "      <td>43824106.0</td>\n",
       "      <td>43791999.0</td>\n",
       "      <td>43816955.0</td>\n",
       "      <td>1</td>\n",
       "      <td>0</td>\n",
       "      <td>0</td>\n",
       "      <td>...</td>\n",
       "      <td>NaN</td>\n",
       "      <td>NaN</td>\n",
       "      <td>NaN</td>\n",
       "      <td>NaN</td>\n",
       "      <td>NaN</td>\n",
       "      <td>NaN</td>\n",
       "      <td>NaN</td>\n",
       "      <td>NaN</td>\n",
       "      <td>NaN</td>\n",
       "      <td>NaN</td>\n",
       "    </tr>\n",
       "    <tr>\n",
       "      <th>823</th>\n",
       "      <td>NaN</td>\n",
       "      <td>PDE9A</td>\n",
       "      <td>ENSG00000160191.13</td>\n",
       "      <td>chr21</td>\n",
       "      <td>44157187.0</td>\n",
       "      <td>44073746.0</td>\n",
       "      <td>44195619.0</td>\n",
       "      <td>1</td>\n",
       "      <td>0</td>\n",
       "      <td>1</td>\n",
       "      <td>...</td>\n",
       "      <td>NaN</td>\n",
       "      <td>NaN</td>\n",
       "      <td>NaN</td>\n",
       "      <td>NaN</td>\n",
       "      <td>NaN</td>\n",
       "      <td>NaN</td>\n",
       "      <td>NaN</td>\n",
       "      <td>NaN</td>\n",
       "      <td>NaN</td>\n",
       "      <td>NaN</td>\n",
       "    </tr>\n",
       "  </tbody>\n",
       "</table>\n",
       "<p>5 rows × 34 columns</p>\n",
       "</div>"
      ],
      "text/plain": [
       "    rs_id gene_name             gene_id  chrom     snp_pos  gene_start  \\\n",
       "88    NaN   TRMT112   ENSG00000173113.2  chr11  63934302.0  64083932.0   \n",
       "244   NaN      MEN1  ENSG00000133895.10  chr11  64549514.0  64570982.0   \n",
       "647   NaN      TUFM   ENSG00000178952.4  chr16  28837515.0  28853732.0   \n",
       "754   NaN   TMPRSS3   ENSG00000160183.9  chr21  43824106.0  43791999.0   \n",
       "823   NaN     PDE9A  ENSG00000160191.13  chr21  44157187.0  44073746.0   \n",
       "\n",
       "       gene_end  is_eqtl_pair  is_coloc_pair  is_closest_gene  ...  \\\n",
       "88   64085556.0             1              0                0  ...   \n",
       "244  64578766.0             1              0                0  ...   \n",
       "647  28857729.0             1              0                0  ...   \n",
       "754  43816955.0             1              0                0  ...   \n",
       "823  44195619.0             1              0                1  ...   \n",
       "\n",
       "     pp_H4_Coloc_Summary  ref  alt  AC  AF  AN  gwas_slope  gwas_slope_se  \\\n",
       "88                   NaN  NaN  NaN NaN NaN NaN         NaN            NaN   \n",
       "244                  NaN  NaN  NaN NaN NaN NaN         NaN            NaN   \n",
       "647                  NaN  NaN  NaN NaN NaN NaN         NaN            NaN   \n",
       "754                  NaN  NaN  NaN NaN NaN NaN         NaN            NaN   \n",
       "823                  NaN  NaN  NaN NaN NaN NaN         NaN            NaN   \n",
       "\n",
       "     gwas_pval_nominal  SampleSize  \n",
       "88                 NaN         NaN  \n",
       "244                NaN         NaN  \n",
       "647                NaN         NaN  \n",
       "754                NaN         NaN  \n",
       "823                NaN         NaN  \n",
       "\n",
       "[5 rows x 34 columns]"
      ]
     },
     "execution_count": 255,
     "metadata": {},
     "output_type": "execute_result"
    }
   ],
   "source": [
    "master[(master.is_eqtl_pair == 1) & (master.has_fithichip_loop == 1) & (master.is_coloc_pair == 0)]"
   ]
  },
  {
   "cell_type": "code",
   "execution_count": null,
   "id": "f45c39e9",
   "metadata": {},
   "outputs": [],
   "source": []
  },
  {
   "cell_type": "code",
   "execution_count": null,
   "id": "aa7bec23",
   "metadata": {},
   "outputs": [],
   "source": []
  },
  {
   "cell_type": "code",
   "execution_count": null,
   "id": "deff4e23",
   "metadata": {},
   "outputs": [],
   "source": []
  },
  {
   "cell_type": "code",
   "execution_count": null,
   "id": "e8847e46",
   "metadata": {},
   "outputs": [],
   "source": []
  },
  {
   "cell_type": "code",
   "execution_count": 33,
   "id": "958679a6",
   "metadata": {},
   "outputs": [],
   "source": [
    "# write out the master data\n",
    "fn = os.path.join(outdir, 'master.tsv')\n",
    "master.to_csv(fn, sep='\\t', header=True, index=False)\n",
    "\n",
    "fn = os.path.join(outdir, 'master.xlsx')\n",
    "excel_master = master.sort_values('rs_id').set_index('rs_id')\n",
    "excel_master.to_excel(fn, na_rep='nan')"
   ]
  },
  {
   "cell_type": "code",
   "execution_count": null,
   "id": "1ee0d2e8",
   "metadata": {},
   "outputs": [],
   "source": []
  },
  {
   "cell_type": "code",
   "execution_count": null,
   "id": "22098b64",
   "metadata": {},
   "outputs": [],
   "source": []
  },
  {
   "cell_type": "code",
   "execution_count": null,
   "id": "dbfaef13",
   "metadata": {},
   "outputs": [],
   "source": []
  },
  {
   "cell_type": "code",
   "execution_count": null,
   "id": "09f97638",
   "metadata": {},
   "outputs": [],
   "source": []
  },
  {
   "cell_type": "code",
   "execution_count": null,
   "id": "71a3c71c",
   "metadata": {},
   "outputs": [],
   "source": []
  },
  {
   "cell_type": "code",
   "execution_count": null,
   "id": "e337d149",
   "metadata": {},
   "outputs": [],
   "source": []
  },
  {
   "cell_type": "code",
   "execution_count": null,
   "id": "bbf85c39",
   "metadata": {},
   "outputs": [],
   "source": []
  },
  {
   "cell_type": "code",
   "execution_count": null,
   "id": "060c4644",
   "metadata": {},
   "outputs": [],
   "source": []
  },
  {
   "cell_type": "code",
   "execution_count": null,
   "id": "f7ba29eb",
   "metadata": {},
   "outputs": [],
   "source": []
  },
  {
   "cell_type": "code",
   "execution_count": null,
   "id": "8e9d3ecb",
   "metadata": {},
   "outputs": [],
   "source": []
  },
  {
   "cell_type": "code",
   "execution_count": null,
   "id": "7a9ea62f",
   "metadata": {},
   "outputs": [],
   "source": []
  },
  {
   "cell_type": "code",
   "execution_count": null,
   "id": "fc3d47a5",
   "metadata": {},
   "outputs": [],
   "source": []
  },
  {
   "cell_type": "code",
   "execution_count": null,
   "id": "588ac851",
   "metadata": {},
   "outputs": [],
   "source": []
  },
  {
   "cell_type": "code",
   "execution_count": null,
   "id": "d8b1c0e4",
   "metadata": {},
   "outputs": [],
   "source": []
  },
  {
   "cell_type": "code",
   "execution_count": null,
   "id": "44e7bafc",
   "metadata": {},
   "outputs": [],
   "source": []
  },
  {
   "cell_type": "code",
   "execution_count": null,
   "id": "452e7fd9",
   "metadata": {},
   "outputs": [],
   "source": []
  },
  {
   "cell_type": "code",
   "execution_count": null,
   "id": "687fd766",
   "metadata": {},
   "outputs": [],
   "source": []
  },
  {
   "cell_type": "code",
   "execution_count": null,
   "id": "5ca59648",
   "metadata": {},
   "outputs": [],
   "source": []
  },
  {
   "cell_type": "code",
   "execution_count": null,
   "id": "ff927af5",
   "metadata": {},
   "outputs": [],
   "source": []
  }
 ],
 "metadata": {
  "kernelspec": {
   "display_name": "HiC",
   "language": "python",
   "name": "hic_tls"
  },
  "language_info": {
   "codemirror_mode": {
    "name": "ipython",
    "version": 3
   },
   "file_extension": ".py",
   "mimetype": "text/x-python",
   "name": "python",
   "nbconvert_exporter": "python",
   "pygments_lexer": "ipython3",
   "version": "3.6.7"
  }
 },
 "nbformat": 4,
 "nbformat_minor": 5
}
