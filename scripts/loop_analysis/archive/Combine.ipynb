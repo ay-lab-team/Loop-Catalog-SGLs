{
 "cells": [
  {
   "cell_type": "code",
   "execution_count": 32,
   "id": "2997e421",
   "metadata": {},
   "outputs": [],
   "source": [
    "import os \n",
    "import pandas as pd \n",
    "os.chdir(\"/mnt/BioHome/jreyna/jreyna/projects/dchallenge/\")\n",
    "import glob"
   ]
  },
  {
   "cell_type": "code",
   "execution_count": 33,
   "id": "e908c333",
   "metadata": {},
   "outputs": [],
   "source": [
    "# loading and concat all the data\n",
    "data = []\n",
    "for fn in glob.glob('results/main/loop_analysis/T1D_34012112_Gaulton/*/*/*/master.tsv'):\n",
    "    \n",
    "    dice_cline = fn.split('/')[4]\n",
    "    study = fn.split('/')[5]\n",
    "    eqtl_cline = fn.split('/')[6]\n",
    "    \n",
    "    df = pd.read_table(fn, header=0)\n",
    "    df['dice_cline'] = dice_cline\n",
    "    df['eqtl_cline'] = eqtl_cline\n",
    "    df['study'] = study\n",
    "    data.append(df)\n",
    "    \n",
    "data = pd.concat(data)\n",
    "data.rename(columns={'5kb_gname': 'fivekb_gname'}, inplace=True)"
   ]
  },
  {
   "cell_type": "code",
   "execution_count": 34,
   "id": "41d3fbbb",
   "metadata": {},
   "outputs": [],
   "source": [
    "# extract the looping genes \n",
    "fivekb_lgenes = []\n",
    "eqtl_lgenes = []\n",
    "cls_lgenes = []\n",
    "\n",
    "for i, sr in data.iterrows():\n",
    "    \n",
    "    # fivekb related \n",
    "    genes = sr['fivekb_gname'].split(',')\n",
    "    bools = sr['fivekb_loops'].replace('[', '').replace(']', '').replace(' ', '').split(',')\n",
    "    final_genes = []\n",
    "    for g, b in zip(genes, bools):\n",
    "        if b == '1':\n",
    "            final_genes.append(g)\n",
    "    final_genes = ','.join(final_genes)\n",
    "    fivekb_lgenes.append(final_genes)\n",
    "    \n",
    "    # eqtl related \n",
    "    genes = sr['eqtl_gnames'].split(',')\n",
    "    bools = sr['eqtl_loops'].replace('[', '').replace(']', '').replace(' ', '').split(',')\n",
    "    final_genes = []\n",
    "    for g, b in zip(genes, bools):\n",
    "        if b == '1':\n",
    "            final_genes.append(g)\n",
    "    final_genes = ','.join(final_genes)\n",
    "    eqtl_lgenes.append(final_genes)\n",
    "    \n",
    "    \n",
    "    \n",
    "    # eqtl related \n",
    "    genes = sr['cls_gnames'].split(',')\n",
    "    bools = sr['closest_loops'].replace('[', '').replace(']', '').replace(' ', '').split(',')\n",
    "    final_genes = []\n",
    "    for g, b in zip(genes, bools):\n",
    "        if b == '1':\n",
    "            final_genes.append(g)\n",
    "    final_genes = ','.join(final_genes)\n",
    "    cls_lgenes.append(final_genes)\n",
    "    \n",
    "\n",
    "    "
   ]
  },
  {
   "cell_type": "code",
   "execution_count": 35,
   "id": "b70cd73a",
   "metadata": {},
   "outputs": [],
   "source": [
    "data['five5kb_loop_gnames'] = fivekb_lgenes\n",
    "data['eqtl_loop_gnames'] = eqtl_lgenes\n",
    "data['cls_loop_gnames'] = cls_lgenes"
   ]
  },
  {
   "cell_type": "code",
   "execution_count": 36,
   "id": "e1ff90f0",
   "metadata": {},
   "outputs": [],
   "source": [
    "new_order = ['rs_id',\n",
    " 'dice_cline',\n",
    " 'eqtl_cline',\n",
    " 'study',\n",
    " 'chr',\n",
    " 'pos',\n",
    " 'coloc_gname',\n",
    " 'coloc_loops',\n",
    " 'eqtl_loop_gnames',\n",
    " 'cls_loop_gnames',\n",
    " 'five5kb_loop_gnames',              \n",
    " 'variant_id',\n",
    " 'pp_H0_Coloc_Summary',\n",
    " 'pp_H1_Coloc_Summary',\n",
    " 'pp_H2_Coloc_Summary',\n",
    " 'pp_H3_Coloc_Summary',\n",
    " 'pp_H4_Coloc_Summary',\n",
    " 'dist',\n",
    " 'pvalue',\n",
    " 'FDR',\n",
    " 'slope_snp',\n",
    " 'ref',\n",
    " 'alt',\n",
    " 'AC',\n",
    " 'AF',\n",
    " 'AN',\n",
    " 'slope_se_snp',\n",
    " 'slope_gwas',\n",
    " 'slope_se_gwas',\n",
    " 'pval_nominal',\n",
    " 'SampleSize',   \n",
    " 'eqtl_gnames',\n",
    " 'cls_gnames',\n",
    " 'fivekb_gname',\n",
    " 'sid',\n",
    " 'cls_ids',\n",
    " 'cls_dist',\n",
    " '5kb_gid',\n",
    " 'eqtl_loops',\n",
    " 'closest_loops',\n",
    " 'fivekb_loops']"
   ]
  },
  {
   "cell_type": "code",
   "execution_count": 37,
   "id": "ec786699",
   "metadata": {},
   "outputs": [],
   "source": [
    "data = data.loc[:, new_order]"
   ]
  },
  {
   "cell_type": "code",
   "execution_count": 38,
   "id": "f3c73a0f",
   "metadata": {},
   "outputs": [],
   "source": [
    "master_fn = 'results/main/loop_analysis/super_master.snp_gene_loop.analysis.tsv'\n",
    "data.to_csv(master_fn, sep='\\t', index=False)"
   ]
  },
  {
   "cell_type": "code",
   "execution_count": 39,
   "id": "8fb7dea0",
   "metadata": {},
   "outputs": [],
   "source": [
    "master_fn = 'results/main/loop_analysis/super_master.snp_gene_loop.analysis.xlsx'\n",
    "xdata = data.sort_values(['rs_id', 'dice_cline', 'eqtl_cline', 'study'])\n",
    "xdata.set_index(['rs_id', 'dice_cline', 'eqtl_cline', 'study']).to_excel(master_fn)"
   ]
  },
  {
   "cell_type": "code",
   "execution_count": null,
   "id": "d7d469ce",
   "metadata": {},
   "outputs": [],
   "source": []
  }
 ],
 "metadata": {
  "kernelspec": {
   "display_name": "HiC",
   "language": "python",
   "name": "hic_tls"
  },
  "language_info": {
   "codemirror_mode": {
    "name": "ipython",
    "version": 3
   },
   "file_extension": ".py",
   "mimetype": "text/x-python",
   "name": "python",
   "nbconvert_exporter": "python",
   "pygments_lexer": "ipython3",
   "version": "3.6.7"
  }
 },
 "nbformat": 4,
 "nbformat_minor": 5
}
