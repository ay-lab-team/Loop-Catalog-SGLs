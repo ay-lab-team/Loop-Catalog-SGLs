{
 "cells": [
  {
   "cell_type": "code",
   "execution_count": 1,
   "id": "776fba0b",
   "metadata": {},
   "outputs": [],
   "source": [
    "# %load ./scripts/loop_analysis/Annotate_Coloc_SNPs_with_Nearby_Genes_Loops.py\n",
    "#!/usr/bin/env python"
   ]
  },
  {
   "cell_type": "markdown",
   "id": "42505183",
   "metadata": {},
   "source": [
    "# Make the master table"
   ]
  },
  {
   "cell_type": "code",
   "execution_count": 2,
   "id": "43a13372",
   "metadata": {},
   "outputs": [],
   "source": [
    "# In[1]:\n",
    "\n",
    "import os \n",
    "import sys\n",
    "import pybedtools as pbt\n",
    "import pandas as pd\n",
    "import numpy as np\n",
    "import subprocess as sp\n",
    "import json\n",
    "os.chdir('/mnt/BioHome/jreyna/jreyna/projects/dchallenge/')\n",
    "pbt.set_bedtools_path('/mnt/BioApps/bedtools/bin/')\n",
    "bgzip = '/mnt/BioApps/tabix/tabix-0.2.6/bgzip'\n",
    "tabix = '/mnt/BioApps/tabix/tabix-0.2.6/tabix'\n",
    "\n",
    "bedpe_6cols = ['chrA', 'startA', 'endA', 'chrB', 'startB', 'endB']\n",
    "bedpe_10cols = ['chrA', 'startA', 'endA', 'chrB', 'startB', 'endB', 'name', 'score', 'strand1', 'strand2']"
   ]
  },
  {
   "cell_type": "code",
   "execution_count": 3,
   "id": "f925d19f",
   "metadata": {},
   "outputs": [],
   "source": [
    "# In[2]:\n",
    "\n",
    "# ## default values for the command line\n",
    "sys.argv = [0] * 100\n",
    "sys.argv[1] =  'results/main/2021_Nikhil_eQTL/Results/Colocalization/T1D_34012112_Gaulton/'\n",
    "sys.argv[1] += 'DICE_eQTL_CD4_NAIVE/FINAL_Summary_Coloc_Gene_SNP_Pairs.bed'\n",
    "sys.argv[2] = 'results/refs/ensembl/gencode.v19.annotation.bed'\n",
    "sys.argv[3] = 'results/main/2021_Nikhil_eQTL/Data/FitHiChIP_Loops/CD4N/FitHiChIP_L/FitHiChIP.interactions_FitHiC_Q0.01.bed'\n",
    "sys.argv[4] = 'results/refs/spp/SPP_D-Challenge_networks.xlsx'\n",
    "sys.argv[5] = 'results/refs/hg19/hg19.chrom.sizes'\n",
    "sys.argv[6] = 'results/main/2021_Nikhil_eQTL/Data/eqtl_sqtl_summ_stats/DICE_eQTL/CD4_NAIVE.txt.gz'\n",
    "sys.argv[7] = 'results/main/pc_hic/data/PCHiC_peak_matrix_cutoff5.tsv'\n",
    "sys.argv[8] = 'CD4_NAIVE'\n",
    "sys.argv[9] = 'results/main/loop_analysis/test/'"
   ]
  },
  {
   "cell_type": "code",
   "execution_count": 4,
   "id": "758bd4c1",
   "metadata": {},
   "outputs": [],
   "source": [
    "# In[3]:\n",
    "\n",
    "# parsing the commandline arguments\n",
    "coloc_fn = sys.argv[1]\n",
    "genes_fn = sys.argv[2]\n",
    "loop_fn = sys.argv[3]\n",
    "spp_fn = sys.argv[4]\n",
    "gs_fn = sys.argv[5]\n",
    "eqtl_fn = sys.argv[6]\n",
    "pchic_fn = sys.argv[7]\n",
    "celltype = sys.argv[8]\n",
    "outdir = sys.argv[9]\n",
    "\n",
    "# setting the output file names\n",
    "os.makedirs(outdir, exist_ok=True)"
   ]
  },
  {
   "cell_type": "markdown",
   "id": "f1caecc6",
   "metadata": {},
   "source": [
    "## Load the colocalization data"
   ]
  },
  {
   "cell_type": "code",
   "execution_count": 5,
   "id": "e61b9f7c",
   "metadata": {},
   "outputs": [
    {
     "name": "stdout",
     "output_type": "stream",
     "text": [
      "There are 9 colocalized SNP-gene pairs\n"
     ]
    }
   ],
   "source": [
    "# In[4]:\n",
    "\n",
    "# load the colocalization data\n",
    "coloc = pd.read_table(coloc_fn)\n",
    "\n",
    "# extract the most significant according the H4 \n",
    "coloc_sig_df = coloc[coloc['pp_H4_Coloc_Summary'] > 0.75]\n",
    "coloc_sig_df = coloc_sig_df.loc[~coloc_sig_df.duplicated(subset=['rs_id', 'geneName']),]\n",
    "\n",
    "coloc_sig_full = coloc_sig_df.copy(deep=True)\n",
    "coloc_sig_df.rename(columns={'pos': 'end'}, inplace=True)\n",
    "coloc_sig_df.loc[:, 'start'] = coloc_sig_df.loc[:, 'end'] - 1\n",
    "\n",
    "coloc_sig_df = coloc_sig_df[['chr', 'start', 'end', 'rs_id', 'variant_id']]\n",
    "coloc_sig_pbt = pbt.BedTool.from_dataframe(coloc_sig_df.iloc[:, 0:4]).sort()\n",
    "\n",
    "print('There are {} colocalized SNP-gene pairs'.format(coloc_sig_df.shape[0]))"
   ]
  },
  {
   "cell_type": "markdown",
   "id": "8a518ba3",
   "metadata": {},
   "source": [
    "## Load the gene data"
   ]
  },
  {
   "cell_type": "code",
   "execution_count": 6,
   "id": "26c040ae",
   "metadata": {},
   "outputs": [],
   "source": [
    "# In[5]:\n",
    "\n",
    "# load the gencode coords\n",
    "cols = ['chrom', 'start', 'end', 'strand', 'type', 'gene_id', 'gname']\n",
    "gencode = pd.read_table(genes_fn, header=None, names=cols)\n",
    "\n",
    "# extract just the genes\n",
    "genes_df = gencode.loc[gencode.type.isin(['gene'])]\n",
    "genes_df = genes_df.loc[~genes_df.duplicated(subset='gene_id'), :]\n",
    "genes_df.loc[:, 'chrom'] = genes_df['chrom'].astype(str)\n",
    "genes_df = genes_df.iloc[:, [0,1,2,6,5,3]]\n",
    "\n",
    "# create a copy of the original gene bed before coordinate shrinking\n",
    "orig_genes_df = genes_df.copy()\n",
    "\n",
    "# convert the start/end position into start/end for the TSS\n",
    "# if the gene is + then the start is uses as the tss otherwise\n",
    "# the end is used as the tss\n",
    "genes_df.loc[(genes_df.strand == '+'), 'end'] = genes_df.loc[(genes_df.strand == '+'), 'start']\n",
    "genes_df.loc[(genes_df.strand == '+'), 'start'] = genes_df.loc[(genes_df.strand == '+'), 'start'] - 1\n",
    "genes_df.loc[(genes_df.strand == '-'), 'end'] = genes_df.loc[(genes_df.strand == '-'), 'end']\n",
    "genes_df.loc[(genes_df.strand == '-'), 'start'] = genes_df.loc[(genes_df.strand == '-'), 'end'] - 1\n",
    "\n",
    "# make a genes pbt for intersection\n",
    "genes_pbt = pbt.BedTool.from_dataframe(genes_df).sort()"
   ]
  },
  {
   "cell_type": "code",
   "execution_count": 7,
   "id": "b60986a7",
   "metadata": {},
   "outputs": [
    {
     "name": "stdout",
     "output_type": "stream",
     "text": [
      "There are 57774 genes in this GTF-derived file.\n"
     ]
    }
   ],
   "source": [
    "# In[6]:\n",
    "\n",
    "print('There are {} genes in this GTF-derived file.'.format(genes_df.shape[0]))"
   ]
  },
  {
   "cell_type": "markdown",
   "id": "4d94913a",
   "metadata": {},
   "source": [
    "## Find all genes +/- 500kb"
   ]
  },
  {
   "cell_type": "code",
   "execution_count": 8,
   "id": "96bc9d60",
   "metadata": {},
   "outputs": [],
   "source": [
    "# In[7]:\n",
    "\n",
    "# get a list of gene names within +- 500kb of the SNPs\n",
    "fivekb_genes = coloc_sig_pbt.slop(b=500000, g=gs_fn)\n",
    "fivekb_genes = fivekb_genes.intersect(genes_pbt, wa=True, wb=True)\n",
    "fivekb_genes = fivekb_genes.to_dataframe()\n",
    "fivekb_genes = fivekb_genes.iloc[:, [0,1,2,4,5,6,3,7,8,9]]"
   ]
  },
  {
   "cell_type": "code",
   "execution_count": 9,
   "id": "1e469ca3",
   "metadata": {},
   "outputs": [],
   "source": [
    "# In[8]:\n",
    "\n",
    "fivekb_genes.columns = bedpe_6cols + ['rs_id', 'gname', 'gid', 'strand2']\n",
    "fivekb_genes['strand1'] = '+'\n",
    "fivekb_genes['name'] = fivekb_genes['rs_id'] + '_' + fivekb_genes['gname']\n",
    "fivekb_genes['score'] = '.'\n",
    "new_order = bedpe_10cols + ['rs_id', 'gname', 'gid']\n",
    "fivekb_genes = fivekb_genes[new_order]\n",
    "\n",
    "fivekb_genes['startA'] += 500000\n",
    "fivekb_genes['endA'] -= 500000\n",
    "fivekb_genes['sid'] = fivekb_genes['chrA'].str.replace('chr', '') + ':' + fivekb_genes['endA'].astype(str)"
   ]
  },
  {
   "cell_type": "code",
   "execution_count": 10,
   "id": "23856e87",
   "metadata": {},
   "outputs": [
    {
     "name": "stdout",
     "output_type": "stream",
     "text": [
      "There are 393 colocalized snp-gene pairs within +/- 5kb.\n"
     ]
    }
   ],
   "source": [
    "# In[9]:\n",
    "\n",
    "print('There are {} colocalized snp-gene pairs within +/- 5kb.'.format(fivekb_genes.shape[0]))"
   ]
  },
  {
   "cell_type": "markdown",
   "id": "db8f65b5",
   "metadata": {},
   "source": [
    "## Find the closest gene"
   ]
  },
  {
   "cell_type": "code",
   "execution_count": 11,
   "id": "4e570fb6",
   "metadata": {},
   "outputs": [],
   "source": [
    "# In[10]:\n",
    "\n",
    "closest_gene = coloc_sig_pbt.closest(genes_pbt, d=True)\n",
    "closest_gene = closest_gene.to_dataframe().iloc[:, [0,1,2,4,5,6,3,7,8,9]]\n",
    "closest_gene.columns = bedpe_6cols + ['rs_id', 'gname', 'gid', 'dist']\n",
    "closest_gene['sid'] = closest_gene['chrA'].str.replace('chr', '') + ':' + closest_gene['endA'].astype(str)\n",
    "closest_gene.set_index(['sid', 'gname'], inplace=True)"
   ]
  },
  {
   "cell_type": "markdown",
   "id": "912d6a47",
   "metadata": {},
   "source": [
    "## Get the loops"
   ]
  },
  {
   "cell_type": "code",
   "execution_count": 12,
   "id": "960f54a4",
   "metadata": {},
   "outputs": [
    {
     "name": "stderr",
     "output_type": "stream",
     "text": [
      "/mnt/BioHome/jreyna/.local/lib/python3.6/site-packages/pandas/core/frame.py:4308: SettingWithCopyWarning: \n",
      "A value is trying to be set on a copy of a slice from a DataFrame\n",
      "\n",
      "See the caveats in the documentation: https://pandas.pydata.org/pandas-docs/stable/user_guide/indexing.html#returning-a-view-versus-a-copy\n",
      "  errors=errors,\n",
      "/mnt/BioHome/jreyna/.local/lib/python3.6/site-packages/pandas/core/indexing.py:1596: SettingWithCopyWarning: \n",
      "A value is trying to be set on a copy of a slice from a DataFrame.\n",
      "Try using .loc[row_indexer,col_indexer] = value instead\n",
      "\n",
      "See the caveats in the documentation: https://pandas.pydata.org/pandas-docs/stable/user_guide/indexing.html#returning-a-view-versus-a-copy\n",
      "  self.obj[key] = _infer_fill_value(value)\n",
      "/mnt/BioHome/jreyna/.local/lib/python3.6/site-packages/pandas/core/indexing.py:1763: SettingWithCopyWarning: \n",
      "A value is trying to be set on a copy of a slice from a DataFrame.\n",
      "Try using .loc[row_indexer,col_indexer] = value instead\n",
      "\n",
      "See the caveats in the documentation: https://pandas.pydata.org/pandas-docs/stable/user_guide/indexing.html#returning-a-view-versus-a-copy\n",
      "  isetter(loc, value)\n",
      "/mnt/BioHome/jreyna/.local/lib/python3.6/site-packages/pandas/core/indexing.py:1743: SettingWithCopyWarning: \n",
      "A value is trying to be set on a copy of a slice from a DataFrame.\n",
      "Try using .loc[row_indexer,col_indexer] = value instead\n",
      "\n",
      "See the caveats in the documentation: https://pandas.pydata.org/pandas-docs/stable/user_guide/indexing.html#returning-a-view-versus-a-copy\n",
      "  isetter(ilocs[0], value)\n"
     ]
    },
    {
     "name": "stdout",
     "output_type": "stream",
     "text": [
      "FitHiChIP found 577026 significant loops.\n"
     ]
    }
   ],
   "source": [
    "# In[11]:\n",
    "\n",
    "# load the loop data\n",
    "loops = pd.read_table(loop_fn)\n",
    "tmp_loops = loops[['chr1', 's1', 'e1', 'chr2', 's2', 'e2']]\n",
    "tmp_loops.rename(columns={'p': 'score'}, inplace=True)\n",
    "tmp_loops.loc[:, 'name'] = '.'\n",
    "tmp_loops.loc[:, 'score'] = loops['p']\n",
    "tmp_loops.loc[:, 'strand1'] = '.'\n",
    "tmp_loops.loc[:, 'strand2'] = '.'\n",
    "loops = pbt.BedTool.from_dataframe(tmp_loops)\n",
    "print('FitHiChIP found {} significant loops.'.format(tmp_loops.shape[0]))"
   ]
  },
  {
   "cell_type": "markdown",
   "id": "bb1002dc",
   "metadata": {},
   "source": [
    "## Load Promoter Capture HiC Data"
   ]
  },
  {
   "cell_type": "code",
   "execution_count": 74,
   "id": "e741cad4",
   "metadata": {},
   "outputs": [
    {
     "name": "stderr",
     "output_type": "stream",
     "text": [
      "/mnt/BioHome/jreyna/software/anaconda3/envs/hic_tls/lib/python3.6/site-packages/IPython/core/interactiveshell.py:3263: DtypeWarning: Columns (0) have mixed types.Specify dtype option on import or set low_memory=False.\n",
      "  if (await self.run_code(code, result,  async_=asy)):\n",
      "/mnt/BioHome/jreyna/software/anaconda3/envs/hic_tls/lib/python3.6/site-packages/pybedtools/bedtool.py:3685: UserWarning: Default names for filetype bed are:\n",
      "['chrom', 'start', 'end', 'name', 'score', 'strand', 'thickStart', 'thickEnd', 'itemRgb', 'blockCount', 'blockSizes', 'blockStarts']\n",
      "but file has 16 fields; you can supply custom names with the `names` kwarg\n",
      "  \"`names` kwarg\" % (self.file_type, _names, self.field_count())\n"
     ]
    }
   ],
   "source": [
    "# Include PC HiC data when it's available\n",
    "pchic = pd.read_table(pchic_fn)\n",
    "\n",
    "# extracting the main columns of interest\n",
    "main_cols = ['baitChr', 'baitStart', 'baitEnd',\n",
    "             'oeChr', 'oeStart', 'oeEnd',\n",
    "             'Mon', 'nCD4', 'nCD8', 'nB',\n",
    "             'Mac0', 'Mac1', 'Mac2', 'Neu',\n",
    "             'MK', 'EP', 'Ery', 'FoeT', 'tCD4',\n",
    "             'aCD4', 'naCD4', 'tCD8','tB']\n",
    "pchic = pchic[main_cols]\n",
    "\n",
    "# rename the columns for use with our datasets\n",
    "cols_renamed = {'baitChr': 'chrA', 'baitStart': 'startA', 'baitEnd': 'endA',\n",
    "                'oeChr': 'chrB', 'oeStart': 'startB', 'oeEnd': 'endB',\n",
    "                'Mon': 'CLASSICAL_MONOCYTES', 'nCD4': 'CD4_NAIVE', 'nCD8': 'CD8_NAIVE', 'nB': 'B_NAIVE'}\n",
    "pchic.rename(columns=cols_renamed, inplace=True)\n",
    "\n",
    "if celltype in pchic.columns:\n",
    "\n",
    "    ct_cols = ['chrA', 'startA', 'endA', 'chrB', 'startB', 'endB', celltype]\n",
    "    ct_pchic = pchic.loc[:, ct_cols]\n",
    "    ct_pchic['chrA'] = 'chr' + ct_pchic['chrA'].astype(str)\n",
    "    ct_pchic['chrB'] = 'chr' + ct_pchic['chrB'].astype(str)\n",
    "    ct_pchic.rename(columns={celltype: 'pc_counts'}, inplace=True)\n",
    "    ct_pchic_bedpe = pbt.BedTool.from_dataframe(ct_pchic)\n",
    "\n",
    "    sg_pchic_overlaps = fivekb_genes.iloc[:, 0:6].copy()\n",
    "    sg_pchic_overlaps = pbt.BedTool.from_dataframe(sg_pchic_overlaps)\n",
    "    sg_pchic_overlaps = sg_pchic_overlaps.pair_to_pair(ct_pchic_bedpe, type='both', slop=10000, **{'is':False})\n",
    "    sg_pchic_overlaps = sg_pchic_overlaps.to_dataframe(header=None).iloc[:, 0:13]\n",
    "    sg_pchic_overlaps.columns = ['sg_chrA', 'sg_startA', 'sg_endA', 'sg_chrB', 'sg_startB', 'sg_endB',\n",
    "                                'pc_chrA', 'pc_startA', 'pc_endA', 'pc_chrB', 'pc_startB', 'pc_endB', \n",
    "                                'chicago_score']"
   ]
  },
  {
   "cell_type": "markdown",
   "id": "724a8661",
   "metadata": {},
   "source": [
    "## Find out SNP-Gene pairs with loops"
   ]
  },
  {
   "cell_type": "code",
   "execution_count": 77,
   "id": "75bbffe2",
   "metadata": {},
   "outputs": [],
   "source": [
    "# In[12]:\n",
    "\n",
    "# re-arranging to fit bedpe format\n",
    "fivekb_gloops = fivekb_genes.copy()\n",
    "\n",
    "# loading into pbt\n",
    "fivekb_gloops = pbt.BedTool.from_dataframe(fivekb_gloops)\n",
    "fivekb_gloops = fivekb_gloops.pair_to_pair(loops, type='both', slop=7500, **{'is':True})\n",
    "fivekb_gloops = fivekb_gloops.to_dataframe(disable_auto_names=True, header=None)\n",
    "\n",
    "fivekb_gloops_set = fivekb_gloops.iloc[:, [13,11]]\n",
    "fivekb_gloops_uniq = set([tuple(x) for x in fivekb_gloops_set.values.tolist()])"
   ]
  },
  {
   "cell_type": "code",
   "execution_count": 78,
   "id": "c4a274dc",
   "metadata": {},
   "outputs": [
    {
     "name": "stdout",
     "output_type": "stream",
     "text": [
      "There are 179 SNP-Gene pairs with a loop.\n"
     ]
    }
   ],
   "source": [
    "# In[13]:\n",
    "\n",
    "print('There are {} SNP-Gene pairs with a loop.'.format(len(fivekb_gloops_uniq)))"
   ]
  },
  {
   "cell_type": "markdown",
   "id": "d53e7db9",
   "metadata": {},
   "source": [
    "## Construct master table"
   ]
  },
  {
   "cell_type": "code",
   "execution_count": 79,
   "id": "554ba00c",
   "metadata": {},
   "outputs": [],
   "source": [
    "# In[14]:\n",
    "\n",
    "# begin making the master\n",
    "master = fivekb_genes.copy()\n",
    "master['sid'] = master['chrA'].str.replace('chr', '') + ':' + master['endA'].astype(str)"
   ]
  },
  {
   "cell_type": "code",
   "execution_count": 80,
   "id": "de586ed8",
   "metadata": {},
   "outputs": [
    {
     "name": "stdout",
     "output_type": "stream",
     "text": [
      "Master is starting with 393 snp-gene pairs.\n"
     ]
    }
   ],
   "source": [
    "# In[15]:\n",
    "\n",
    "print('Master is starting with {} snp-gene pairs.'.format(master.shape[0]))"
   ]
  },
  {
   "cell_type": "markdown",
   "id": "d239f53a",
   "metadata": {},
   "source": [
    "#### Add eqtl results "
   ]
  },
  {
   "cell_type": "code",
   "execution_count": 81,
   "id": "82d82e1b",
   "metadata": {},
   "outputs": [
    {
     "name": "stdout",
     "output_type": "stream",
     "text": [
      "There are 2504 eQTLs.\n"
     ]
    }
   ],
   "source": [
    "# In[16]:\n",
    "\n",
    "# get eQTL's\n",
    "eqtls = pd.read_table(eqtl_fn)\n",
    "eqtls.columns = ['eqtl_gname', 'nvar', 'shape1', 'shape2', 'dummy',\n",
    "                 'sid', 'dist', 'npval', 'slope', 'ppval', 'bpval', 'qval']\n",
    "print('There are {} eQTLs.'.format(eqtls.shape[0]))"
   ]
  },
  {
   "cell_type": "code",
   "execution_count": 82,
   "id": "7ab69a04",
   "metadata": {},
   "outputs": [],
   "source": [
    "# In[17]:\n",
    "\n",
    "\n",
    "# need to use outer or else you exclude some eQTL's\n",
    "master = master.merge(eqtls, left_on=['sid', 'gname'], right_on=['sid', 'eqtl_gname'], how='outer')\n",
    "\n",
    "# add column to filter on eqtl snp status\n",
    "master['is_eqtl_pair'] = (~master['ppval'].isna()).astype(int)\n",
    "\n",
    "# add gene names to entries with a missing name (after adding eQTL info)\n",
    "master.loc[master.gname.isna(), 'gname'] = master.loc[master.gname.isna(), 'eqtl_gname']\n",
    "\n",
    "# add missing chrA, chrB, startA and startB data for the eQTL rows\n",
    "master.loc[master.chrA.isna(), 'chrA'] = 'chr' + master.loc[master.chrA.isna(), 'sid'].str.replace(':[0-9]+', '')\n",
    "master.loc[master.chrB.isna(), 'chrB'] = 'chr' + master.loc[master.chrB.isna(), 'sid'].str.replace(':[0-9]+', '')\n",
    "master.loc[master.startA.isna(), 'startA'] = (master.loc[master.startA.isna(), 'sid'].str.replace('[0-9]+:', '')).astype(int)\n",
    "master.loc[master.startA.isna(), 'startA'] -= 1     \n",
    "master.loc[master.endA.isna(), 'endA'] = master.loc[master.endA.isna(), 'sid'].str.replace('[0-9]+:', '')"
   ]
  },
  {
   "cell_type": "code",
   "execution_count": 83,
   "id": "a6b938e2",
   "metadata": {},
   "outputs": [
    {
     "name": "stdout",
     "output_type": "stream",
     "text": [
      "After outer merging with eqtls master has 2888 snp-gene pairs.\n"
     ]
    }
   ],
   "source": [
    "# In[18]:\n",
    "\n",
    "print('After outer merging with eqtls master has {} snp-gene pairs.'.format(master.shape[0]))"
   ]
  },
  {
   "cell_type": "markdown",
   "id": "81c367f5",
   "metadata": {},
   "source": [
    "#### Add gene meta data "
   ]
  },
  {
   "cell_type": "code",
   "execution_count": 84,
   "id": "89cc6cc5",
   "metadata": {},
   "outputs": [],
   "source": [
    "# In[19]:\n",
    "\n",
    "# genes with index as chrom and genename \n",
    "query_genes = genes_df.sort_values(['chrom', 'gname']).set_index(['chrom', 'gname'])\n",
    "\n",
    "def get_gene_meta_from_chrom_gname(query_genes, df, col_idxs=None):\n",
    "    # add gene positions (for missing gene meta data mostly)\n",
    "    gene_positions = []\n",
    "    \n",
    "    if col_idxs == None:\n",
    "        for i, sr in df.iterrows():\n",
    "            gene_info = query_genes.loc[(sr.chrom, sr.gene_name)]\n",
    "\n",
    "            if len(gene_info) == 0:\n",
    "                print('Houston, where is my coffee?')\n",
    "                break\n",
    "            elif len(gene_info) > 1:\n",
    "                print('Houston, we have a problem.')\n",
    "                break\n",
    "            else:\n",
    "                gene_positions.append(gene_info.values.tolist()[0])\n",
    "    else:\n",
    "        for i, sr in df.iterrows():\n",
    "            gene_info = query_genes.loc[(sr[col_idxs[0]], sr[col_idxs[1]])]\n",
    "\n",
    "            if len(gene_info) == 0:\n",
    "                print(gene_info)\n",
    "                raise Exception('Houston, where is my coffee?')\n",
    "                \n",
    "            elif len(gene_info) > 1:\n",
    "                #print('Picked the closest gene to the current SNP.')\n",
    "                dists = np.abs(gene_info['start'].values - sr['startA'])\n",
    "                closest_idx = np.argmin(dists)\n",
    "                gene_positions.append(gene_info.values.tolist()[closest_idx][2])                \n",
    "            else:\n",
    "                gene_positions.append(gene_info.values.tolist()[0][2])\n",
    "    return(gene_positions)\n",
    "        "
   ]
  },
  {
   "cell_type": "code",
   "execution_count": 85,
   "id": "9fb19db3",
   "metadata": {},
   "outputs": [],
   "source": [
    "# In[20]:\n",
    "\n",
    "gene_ids = get_gene_meta_from_chrom_gname(query_genes, master, col_idxs=[0, 11])\n",
    "master.loc[:, 'gid'] = gene_ids"
   ]
  },
  {
   "cell_type": "code",
   "execution_count": 86,
   "id": "5206cc97",
   "metadata": {},
   "outputs": [],
   "source": [
    "# In[21]:\n",
    "\n",
    "# add back the original gene start and end\n",
    "master = master.merge(orig_genes_df[['start', 'end', 'gene_id', 'strand']], left_on='gid', right_on='gene_id')\n",
    "\n",
    "# convert the startB/endB position into startB/endB for the TSS\n",
    "# if the gene is + then the startB is uses as the tss otherwise\n",
    "# the endB is used as the tss\n",
    "master.loc[(master.strand == '+'), 'endB'] = master.loc[(master.strand == '+'), 'start']\n",
    "master.loc[(master.strand == '+'), 'startB'] = master.loc[(master.strand == '+'), 'start'] - 1\n",
    "\n",
    "master.loc[(master.strand == '-'), 'endB'] = master.loc[(master.strand == '-'), 'end']\n",
    "master.loc[(master.strand == '-'), 'startB'] = master.loc[(master.strand == '-'), 'end'] - 1\n",
    "\n",
    "# convert the coordinates from floats to ints\n",
    "master.startA = master.startA.astype(int)\n",
    "master.startB = master.startB.astype(int)\n",
    "master.endA = master.endA.astype(int)\n",
    "master.endB = master.endB.astype(int)\n",
    "\n",
    "master.rename(columns={'start': 'gene_start', 'end': 'gene_end', 'strand': 'gene_strand'}, inplace=True)"
   ]
  },
  {
   "cell_type": "markdown",
   "id": "c0507047",
   "metadata": {},
   "source": [
    "#### Add info about closests gene"
   ]
  },
  {
   "cell_type": "code",
   "execution_count": 87,
   "id": "545d0413",
   "metadata": {},
   "outputs": [
    {
     "name": "stderr",
     "output_type": "stream",
     "text": [
      "/mnt/BioHome/jreyna/software/anaconda3/envs/hic_tls/lib/python3.6/site-packages/ipykernel/zmqshell.py:536: PerformanceWarning: indexing past lexsort depth may impact performance.\n",
      "  return super(ZMQInteractiveShell, self).run_cell(*args, **kwargs)\n"
     ]
    }
   ],
   "source": [
    "# In[22]:\n",
    "\n",
    "# check for the closets gene\n",
    "closets_check = [0] * master.shape[0]\n",
    "for i, sr in master.iterrows():\n",
    "\n",
    "    # check closest gene\n",
    "    rs_gene = (sr.sid, sr.gname)\n",
    "    if rs_gene in closest_gene.index:\n",
    "        closets_check[i] = 1\n",
    "\n",
    "master['is_closest_gene'] = closets_check"
   ]
  },
  {
   "cell_type": "markdown",
   "id": "538f7b5c",
   "metadata": {},
   "source": [
    "#### Add colocalization data"
   ]
  },
  {
   "cell_type": "code",
   "execution_count": 88,
   "id": "6730e94a",
   "metadata": {},
   "outputs": [
    {
     "name": "stderr",
     "output_type": "stream",
     "text": [
      "/mnt/BioHome/jreyna/.local/lib/python3.6/site-packages/pandas/core/frame.py:4308: SettingWithCopyWarning: \n",
      "A value is trying to be set on a copy of a slice from a DataFrame\n",
      "\n",
      "See the caveats in the documentation: https://pandas.pydata.org/pandas-docs/stable/user_guide/indexing.html#returning-a-view-versus-a-copy\n",
      "  errors=errors,\n"
     ]
    }
   ],
   "source": [
    "# In[23]:\n",
    "\n",
    "# add colocalization data for SNP and is_coloc_snp columns\n",
    "tmp_coloc = coloc_sig_full[[\n",
    " 'pp_H0_Coloc_Summary',\n",
    " 'pp_H1_Coloc_Summary',\n",
    " 'pp_H2_Coloc_Summary',\n",
    " 'pp_H3_Coloc_Summary',\n",
    " 'pp_H4_Coloc_Summary',\n",
    " 'rs_id',\n",
    " 'geneName',\n",
    " 'ref',\n",
    " 'alt',\n",
    " 'AC',\n",
    " 'AF',\n",
    " 'AN',\n",
    " 'slope_gwas',\n",
    " 'slope_se_gwas',\n",
    " 'pval_nominal',\n",
    " 'SampleSize']]\n",
    "tmp_coloc.rename(columns={'slope_gwas': 'gwas_slope',\n",
    "                          'slope_se_gwas': 'gwas_slope_se',\n",
    "                          'pval_nominal': 'gwas_pval_nominal',\n",
    "                          'geneName': 'gname'}, inplace=True)\n",
    "master = master.merge(tmp_coloc, on=['rs_id', 'gname'], how='left')\n",
    "\n",
    "# add column to filter on coloc snp status\n",
    "master['is_coloc_pair'] = (~master['pp_H4_Coloc_Summary'].isna()).astype(int)"
   ]
  },
  {
   "cell_type": "code",
   "execution_count": 89,
   "id": "e3b8eecd",
   "metadata": {},
   "outputs": [
    {
     "name": "stdout",
     "output_type": "stream",
     "text": [
      "After left merging master with the colocalization table there are 2888 entries.\n"
     ]
    }
   ],
   "source": [
    "# In[24]:\n",
    "\n",
    "print('After left merging master with the colocalization table there are {} entries.'.format(master.shape[0]))"
   ]
  },
  {
   "cell_type": "markdown",
   "id": "33241b81",
   "metadata": {},
   "source": [
    "#### Add loop data"
   ]
  },
  {
   "cell_type": "code",
   "execution_count": 90,
   "id": "230b35f4",
   "metadata": {},
   "outputs": [],
   "source": [
    "# In[25]:\n",
    "\n",
    "# check for the loop gene\n",
    "loop_check = [0] * master.shape[0]\n",
    "for i, sr in master.iterrows():\n",
    "\n",
    "    # check closest gene\n",
    "    rs_gene = (sr.sid, sr.gname)\n",
    "    if rs_gene in fivekb_gloops_uniq:\n",
    "        loop_check[i] = 1       \n",
    "\n",
    "master['has_fithichip_loop'] = loop_check"
   ]
  },
  {
   "cell_type": "code",
   "execution_count": 91,
   "id": "90dafe49",
   "metadata": {},
   "outputs": [
    {
     "name": "stdout",
     "output_type": "stream",
     "text": [
      "There are 194 SNP-Gene loops.\n"
     ]
    }
   ],
   "source": [
    "# In[26]:\n",
    "\n",
    "print('There are {} SNP-Gene loops.'.format(sum(loop_check)))"
   ]
  },
  {
   "cell_type": "markdown",
   "id": "db96e1f1",
   "metadata": {},
   "source": [
    "#### Add Promoter Capture Chicago Scores"
   ]
  },
  {
   "cell_type": "code",
   "execution_count": 92,
   "id": "33a2fa6f",
   "metadata": {},
   "outputs": [],
   "source": [
    "# Include PC HiC data when it's available\n",
    "if celltype in pchic.columns:\n",
    "    sg_pchic_view = ['sg_chrA', 'sg_startA', 'sg_endA', 'sg_chrB', 'sg_startB', 'sg_endB', 'chicago_score']\n",
    "    master = master.merge(sg_pchic_overlaps[sg_pchic_view],\n",
    "                     left_on=['chrA', 'startA', 'endA', 'chrB', 'startB', 'endB'],\n",
    "                     right_on=['sg_chrA', 'sg_startA', 'sg_endA', 'sg_chrB', 'sg_startB', 'sg_endB'], how='left')\n",
    "    master.drop(['sg_chrA', 'sg_startA', 'sg_endA', 'sg_chrB', 'sg_startB', 'sg_endB'], inplace=True, axis=1)"
   ]
  },
  {
   "cell_type": "markdown",
   "id": "52b9ff88",
   "metadata": {},
   "source": [
    "#### Do the final reordering and saving"
   ]
  },
  {
   "cell_type": "code",
   "execution_count": 93,
   "id": "fe2d7812",
   "metadata": {},
   "outputs": [],
   "source": [
    "# In[27]:\n",
    "\n",
    "# Include PC HiC data when it's available\n",
    "final_cols = ['sid',\n",
    " 'rs_id',\n",
    " 'gname',\n",
    " 'gid',\n",
    " 'chrA',\n",
    " 'endA',    \n",
    " 'startB',\n",
    " 'endB',\n",
    " 'is_eqtl_pair',\n",
    " 'is_coloc_pair',\n",
    " 'is_closest_gene',\n",
    " 'has_fithichip_loop',\n",
    " 'nvar',\n",
    " 'shape1',\n",
    " 'shape2',\n",
    " 'dist',\n",
    " 'npval',\n",
    " 'slope',\n",
    " 'ppval',\n",
    " 'bpval',\n",
    " 'qval',\n",
    " 'pp_H0_Coloc_Summary',\n",
    " 'pp_H1_Coloc_Summary',\n",
    " 'pp_H2_Coloc_Summary',\n",
    " 'pp_H3_Coloc_Summary',\n",
    " 'pp_H4_Coloc_Summary',\n",
    " 'gene_start', \n",
    " 'gene_end', \n",
    " 'gene_strand', \n",
    " 'ref',\n",
    " 'alt',\n",
    " 'AC',\n",
    " 'AF',\n",
    " 'AN',\n",
    " 'gwas_slope',\n",
    " 'gwas_slope_se',\n",
    " 'gwas_pval_nominal',\n",
    " 'SampleSize']"
   ]
  },
  {
   "cell_type": "code",
   "execution_count": 94,
   "id": "8ac3aa54",
   "metadata": {},
   "outputs": [],
   "source": [
    "if celltype in pchic.columns:\n",
    "    final_cols += ['chicago_score']\n",
    "master = master[final_cols]"
   ]
  },
  {
   "cell_type": "code",
   "execution_count": 95,
   "id": "9bbb16dc",
   "metadata": {},
   "outputs": [],
   "source": [
    "# In[28]:\n",
    "master.rename(columns={'chrA':'chrom', 'endA': 'snp_pos', \n",
    "                       'startB': 'tss_start', 'endB': 'tss_end',\n",
    "                       'gname': 'gene_name', 'gid': 'gene_id'}, inplace=True)"
   ]
  },
  {
   "cell_type": "code",
   "execution_count": 96,
   "id": "8247ac33",
   "metadata": {},
   "outputs": [],
   "source": [
    "# In[29]:\n",
    "master.sort_values(['chrom', 'snp_pos', 'tss_start', 'rs_id'], inplace=True)\n",
    "master.snp_pos = master.snp_pos.astype(int)"
   ]
  },
  {
   "cell_type": "code",
   "execution_count": 97,
   "id": "c0a51d24",
   "metadata": {},
   "outputs": [],
   "source": [
    "# In[30]:\n",
    "\n",
    "# write out the master data\n",
    "fn = os.path.join(outdir, 'master.tsv')\n",
    "master.to_csv(fn, sep='\\t', header=True, index=False)"
   ]
  },
  {
   "cell_type": "code",
   "execution_count": 35,
   "id": "54f562e0",
   "metadata": {},
   "outputs": [],
   "source": [
    "# In[31]:\n",
    "\n",
    "fn = os.path.join(outdir, 'master.xlsx')\n",
    "excel_master = master.sort_values('rs_id').set_index('rs_id')\n",
    "excel_master.to_excel(fn, na_rep='nan')"
   ]
  },
  {
   "cell_type": "markdown",
   "id": "2006ef94",
   "metadata": {},
   "source": [
    "## Make WashU files "
   ]
  },
  {
   "cell_type": "code",
   "execution_count": 36,
   "id": "87150f07",
   "metadata": {},
   "outputs": [],
   "source": [
    "# In[32]:\n",
    "\n",
    "def bedpe_to_WashU_longrange(fn, df):\n",
    "    \"\"\"\n",
    "        Convert from a loop bedpe file into WashU longrange, \n",
    "        includes bgzip and tabix of the fn. \n",
    "        \n",
    "        Params\n",
    "        -------\n",
    "        fn: str\n",
    "            path to the longrange output file (without gz)\n",
    "            \n",
    "        df: dataframe\n",
    "            columns 1-6 are as expected and column 7 is the p or q-value. \n",
    "            \n",
    "        Output\n",
    "        ------\n",
    "        gzfn: str\n",
    "            path to the longrange with bgzip compression\n",
    "        tabix_fn: str\n",
    "            path to the index of the longrange file\n",
    "            \n",
    "    \"\"\"\n",
    "\n",
    "    # parsing the data into WashU longrage format\n",
    "    data = []\n",
    "    for sr in df.values.tolist():\n",
    "\n",
    "        # calculate the -log(FDR)\n",
    "        qval = -np.log(sr[6])\n",
    "\n",
    "        # get the first pair data\n",
    "        second_pair_str = '{}:{}-{},{:.5f}'.format(*sr[3:6], qval)\n",
    "        first_row = sr[0:3] + [second_pair_str]\n",
    "\n",
    "        # get the second pair data\n",
    "        first_pair_str = '{}:{}-{},{:.5f}'.format(*sr[0:3], qval)\n",
    "        second_row = sr[3:6] + [first_pair_str]\n",
    "\n",
    "        # add each data row\n",
    "        data.append(first_row)\n",
    "        data.append(second_row)\n",
    "\n",
    "    data = sorted(data, key=lambda x: (x[0], x[1], x[2]))\n",
    "\n",
    "    # writing out the data\n",
    "    with open(fn, 'w') as f:\n",
    "        for line in data:\n",
    "            info = [str(x) for x in line]\n",
    "            info = '\\t'.join(info)\n",
    "            f.write(info + '\\n')\n",
    "            \n",
    "    # run bgzip\n",
    "    cmd = '{} {}'.format(bgzip, fn)\n",
    "    print(cmd)\n",
    "    job = sp.Popen(cmd, stderr=sp.PIPE,stdout=sp.PIPE, shell=True)\n",
    "\n",
    "    out, err = job.communicate()\n",
    "    print('out:', out.decode())\n",
    "    print('err:', err.decode())\n",
    "    \n",
    "    # run tabix\n",
    "    lrange_gzfn = fn + '.gz'\n",
    "    cmd = '{} -f {}'.format(tabix, lrange_gzfn)\n",
    "    print(cmd)\n",
    "    job = sp.Popen(cmd, stderr=sp.PIPE,stdout=sp.PIPE, shell=True)\n",
    "\n",
    "    out, err = job.communicate()\n",
    "    print('out:', out.decode())\n",
    "    print('err:', err.decode())\n",
    "\n",
    "    print('Created the gzfn: {}'.format(fn + '.gz'))\n",
    "    print('Created the tabix: {}'.format(fn + '.gz.tbi'))"
   ]
  },
  {
   "cell_type": "code",
   "execution_count": 37,
   "id": "ea65ea46",
   "metadata": {},
   "outputs": [],
   "source": [
    "# In[33]:\n",
    "\n",
    "\n",
    "def bed_WashU_bedgz(fn, df):\n",
    "    \"\"\"\n",
    "        Convert from a bed dataframe into WashU longrange file \n",
    "        includes bgzip and tabix of the fn. \n",
    "        \n",
    "        Params\n",
    "        -------\n",
    "        fn: str\n",
    "            path to the longrange output file (without gz)\n",
    "            \n",
    "        df: dataframe\n",
    "            columns 1-3 are as expected and column 7 is the p or q-value. \n",
    "            \n",
    "        Output\n",
    "        ------\n",
    "        gzfn: str\n",
    "            path to the longrange with bgzip compression\n",
    "        tabix_fn: str\n",
    "            path to the index of the longrange file\n",
    "            \n",
    "    \"\"\"\n",
    "\n",
    "    # parsing the data into WashU longrage format\n",
    "    data = []\n",
    "    for sr in df.values.tolist():\n",
    "        data.append(sr[0:4])\n",
    "    data = sorted(data, key=lambda x: (x[0], x[1], x[2]))\n",
    "\n",
    "    # writing out the data\n",
    "    with open(fn, 'w') as f:\n",
    "        for line in data:\n",
    "            info = [str(x) for x in line]\n",
    "            info = '\\t'.join(info)\n",
    "            f.write(info + '\\n')\n",
    "            \n",
    "    # run bgzip\n",
    "    cmd = '{} {}'.format(bgzip, fn)\n",
    "    print(cmd)\n",
    "    job = sp.Popen(cmd, stderr=sp.PIPE,stdout=sp.PIPE, shell=True)\n",
    "\n",
    "    out, err = job.communicate()\n",
    "    print('out:', out.decode())\n",
    "    print('err:', err.decode())\n",
    "    \n",
    "    # run tabix\n",
    "    gzfn = fn + '.gz'\n",
    "    cmd = '{} -f {}'.format(tabix, gzfn)\n",
    "    print(cmd)\n",
    "    job = sp.Popen(cmd, stderr=sp.PIPE,stdout=sp.PIPE, shell=True)\n",
    "\n",
    "    out, err = job.communicate()\n",
    "    print('out:', out.decode())\n",
    "    print('err:', err.decode())\n",
    "\n",
    "    print('Created the gzfn: {}'.format(fn + '.gz'))\n",
    "    print('Created the tabix: {}'.format(fn + '.gz.tbi'))"
   ]
  },
  {
   "cell_type": "code",
   "execution_count": 38,
   "id": "fc98547f",
   "metadata": {},
   "outputs": [],
   "source": [
    "# In[34]:\n",
    "\n",
    "\n",
    "def bed_to_WashU_refbed(fn, df):\n",
    "    \"\"\" \n",
    "        Convert from a bed dataframe into WashU longrange file \n",
    "        includes bgzip and tabix of the fn. \n",
    "        \n",
    "        Params\n",
    "        -------\n",
    "        fn: str\n",
    "            path to the longrange output file (without gz)\n",
    "            \n",
    "        df: dataframe\n",
    "            columns 1-3 are as expected and column 7 is the p or q-value. \n",
    "            \n",
    "        Output\n",
    "        ------\n",
    "        gzfn: str\n",
    "            path to the longrange with bgzip compression\n",
    "        tabix_fn: str\n",
    "            path to the index of the longrange file\n",
    "            \n",
    "    \"\"\"\n",
    "\n",
    "    # parsing the data into WashU longrage format\n",
    "    data = df.values.tolist()\n",
    "    data = sorted(data, key=lambda x: (x[0], x[1], x[2]))\n",
    "\n",
    "    # writing out the data\n",
    "    with open(fn, 'w') as f:\n",
    "        for line in data:\n",
    "            info = [str(x) for x in line]\n",
    "            info = '\\t'.join(info)\n",
    "            f.write(info + '\\n')\n",
    "    \n",
    "    # run bgzip\n",
    "    cmd = '{} -f {}'.format(bgzip, fn) \n",
    "    print(cmd)\n",
    "    job = sp.Popen(cmd, stderr=sp.PIPE,stdout=sp.PIPE, shell=True)\n",
    "\n",
    "    out, err = job.communicate()\n",
    "    print('out:', out.decode())\n",
    "    print('err:', err.decode())\n",
    "\n",
    "    # run tabix\n",
    "    gzfn = fn + '.gz'\n",
    "    cmd = '{} {}'.format(tabix, gzfn)\n",
    "    print(cmd)\n",
    "    job = sp.Popen(cmd, stderr=sp.PIPE,stdout=sp.PIPE, shell=True)\n",
    "\n",
    "    out, err = job.communicate()\n",
    "    print('out:', out.decode())\n",
    "    print('err:', err.decode())\n",
    "\n",
    "    print('Created the gzfn: {}'.format(fn + '.gz'))\n",
    "    print('Created the tabix: {}'.format(fn + '.gz.tbi'))"
   ]
  },
  {
   "cell_type": "code",
   "execution_count": 39,
   "id": "e752586c",
   "metadata": {},
   "outputs": [],
   "source": [
    "# In[35]:\n",
    "\n",
    "# make the refbed link for genes (status: running)\n",
    "final_sg_cols = ['chrom', 'gene_start' ,'gene_end', 'gene_name', 'gene_strand']\n",
    "final_sg_genes = master.loc[(master.has_fithichip_loop == 1), final_sg_cols]"
   ]
  },
  {
   "cell_type": "code",
   "execution_count": 40,
   "id": "7cf7869c",
   "metadata": {},
   "outputs": [
    {
     "name": "stdout",
     "output_type": "stream",
     "text": [
      "/mnt/BioApps/tabix/tabix-0.2.6/bgzip -f results/main/loop_analysis/test/gs_genes.bed\n",
      "out: \n",
      "err: \n",
      "/mnt/BioApps/tabix/tabix-0.2.6/tabix results/main/loop_analysis/test/gs_genes.bed.gz\n",
      "out: \n",
      "err: \n",
      "Created the gzfn: results/main/loop_analysis/test/gs_genes.bed.gz\n",
      "Created the tabix: results/main/loop_analysis/test/gs_genes.bed.gz.tbi\n"
     ]
    }
   ],
   "source": [
    "# In[36]:\n",
    "\n",
    "final_sg_genes.gene_start = final_sg_genes.gene_start.astype(int)\n",
    "final_sg_genes.gene_end = final_sg_genes.gene_end.astype(int)\n",
    "\n",
    "final_sg_genes = final_sg_genes.loc[~final_sg_genes.duplicated()]\n",
    "final_sg_genes['chr'] = final_sg_genes['chrom'] \n",
    "final_sg_genes['transcript_start'] = final_sg_genes['gene_start']\n",
    "final_sg_genes['transcript_stop'] = final_sg_genes['gene_end']\n",
    "final_sg_genes['translation_start'] = final_sg_genes['gene_start']\n",
    "final_sg_genes['translation_stop'] = final_sg_genes['gene_end']\n",
    "final_sg_genes['strand'] = final_sg_genes['gene_strand']\n",
    "final_sg_genes['gene_name'] = final_sg_genes['gene_name']\n",
    "final_sg_genes['transcript_id'] = final_sg_genes['gene_name']\n",
    "final_sg_genes['type'] = 'coding'\n",
    "final_sg_genes['exon_gene_start'] = final_sg_genes['gene_start']\n",
    "final_sg_genes['exon_stops'] = final_sg_genes['gene_end']\n",
    "refcols = ['chr', 'transcript_start', 'transcript_stop', 'translation_start',\n",
    "           'translation_stop', 'strand', 'gene_name', 'transcript_id',\n",
    "           'type', 'exon_gene_start', 'exon_stops']\n",
    "final_sg_genes = final_sg_genes.loc[:, refcols]\n",
    "sg_genes_fn = os.path.join(outdir, 'gs_genes.bed')\n",
    "bed_to_WashU_refbed(sg_genes_fn, final_sg_genes)"
   ]
  },
  {
   "cell_type": "code",
   "execution_count": 41,
   "id": "c1218a1e",
   "metadata": {},
   "outputs": [],
   "source": [
    "# In[37]:\n",
    "\n",
    "# make the longrange link for raw fithichip data (status: running)\n",
    "loop_gz = os.path.abspath(loop_fn.replace('.bed', '_WashU.bed.gz'))\n",
    "loop_tbi = os.path.abspath(loop_fn.replace('.bed', '_WashU.bed.gz.tbi'))\n",
    "loop_gz_link = os.path.join(outdir, os.path.basename(loop_gz))\n",
    "loop_tbi_link = os.path.join(outdir, os.path.basename(loop_tbi))\n",
    "if not os.path.exists(loop_gz_link):\n",
    "    os.link(loop_gz, loop_gz_link)\n",
    "    os.link(loop_tbi, loop_tbi_link)"
   ]
  },
  {
   "cell_type": "markdown",
   "id": "ac7757cb",
   "metadata": {},
   "source": [
    "## All 5kb Washu Files"
   ]
  },
  {
   "cell_type": "code",
   "execution_count": 42,
   "id": "26b1cc9a",
   "metadata": {},
   "outputs": [],
   "source": [
    "# In[38]:\n",
    "\n",
    "# make the longrange link for snp-gene fivekb pairs (status: running)\n",
    "#fivekb_lrange = fivekb_lrange[fivekb_lrange.rs_id.notna()].reset_index(drop=True)\n",
    "fivekb_lrange = fivekb_genes.copy()\n",
    "\n",
    "# convert full for viz\n",
    "fivekb_lrange = fivekb_lrange[['chrA', 'startA', 'endA', 'chrB', 'startB', 'endB']]\n",
    "fivekb_lrange.iloc[:, 1] -= 1 \n",
    "fivekb_lrange['score'] = 0.01"
   ]
  },
  {
   "cell_type": "code",
   "execution_count": 43,
   "id": "63f4878c",
   "metadata": {},
   "outputs": [
    {
     "name": "stdout",
     "output_type": "stream",
     "text": [
      "/mnt/BioApps/tabix/tabix-0.2.6/bgzip results/main/loop_analysis/test/5kb.snp_gene_pairs.bed\n",
      "out: \n",
      "err: [bgzip] results/main/loop_analysis/test/5kb.snp_gene_pairs.bed.gz already exists; do you wish to overwrite (y or n)? [bgzip] not overwritten\n",
      "\n",
      "/mnt/BioApps/tabix/tabix-0.2.6/tabix -f results/main/loop_analysis/test/5kb.snp_gene_pairs.bed.gz\n",
      "out: \n",
      "err: \n",
      "Created the gzfn: results/main/loop_analysis/test/5kb.snp_gene_pairs.bed.gz\n",
      "Created the tabix: results/main/loop_analysis/test/5kb.snp_gene_pairs.bed.gz.tbi\n"
     ]
    }
   ],
   "source": [
    "# In[39]:\n",
    "\n",
    "fivekb_snp_gene_pairs_fn = os.path.join(outdir, '5kb.snp_gene_pairs.bed')\n",
    "bedpe_to_WashU_longrange(fivekb_snp_gene_pairs_fn, fivekb_lrange)"
   ]
  },
  {
   "cell_type": "code",
   "execution_count": 44,
   "id": "4e73e95b",
   "metadata": {},
   "outputs": [
    {
     "name": "stdout",
     "output_type": "stream",
     "text": [
      "/mnt/BioApps/tabix/tabix-0.2.6/bgzip results/main/loop_analysis/test/5kb.snp_gene_loops.bed\n",
      "out: \n",
      "err: [bgzip] results/main/loop_analysis/test/5kb.snp_gene_loops.bed.gz already exists; do you wish to overwrite (y or n)? [bgzip] not overwritten\n",
      "\n",
      "/mnt/BioApps/tabix/tabix-0.2.6/tabix -f results/main/loop_analysis/test/5kb.snp_gene_loops.bed.gz\n",
      "out: \n",
      "err: \n",
      "Created the gzfn: results/main/loop_analysis/test/5kb.snp_gene_loops.bed.gz\n",
      "Created the tabix: results/main/loop_analysis/test/5kb.snp_gene_loops.bed.gz.tbi\n"
     ]
    }
   ],
   "source": [
    "# In[40]:\n",
    "\n",
    "# plot all snp-gene pairs with a loop\n",
    "fivekb_gloops_lrange = fivekb_gloops.iloc[:, [11,12,13,14,15,16,18]]\n",
    "\n",
    "fivekb_snp_gene_loops_fn = os.path.join(outdir, '5kb.snp_gene_loops.bed')\n",
    "bedpe_to_WashU_longrange(fivekb_snp_gene_loops_fn, fivekb_gloops_lrange)"
   ]
  },
  {
   "cell_type": "markdown",
   "id": "3d79d890",
   "metadata": {},
   "source": [
    "## eQTL WashU Files"
   ]
  },
  {
   "cell_type": "code",
   "execution_count": 45,
   "id": "70dff99b",
   "metadata": {},
   "outputs": [],
   "source": [
    "# In[41]:\n",
    "\n",
    "# make the longrange link for snp-gene eQTL pairs (status: running)\n",
    "eqtl_lrange = master.loc[master.is_eqtl_pair == 1]\n",
    "eqtl_lrange = eqtl_lrange[eqtl_lrange.rs_id.notna()].reset_index(drop=True)"
   ]
  },
  {
   "cell_type": "code",
   "execution_count": 46,
   "id": "ac0ddf57",
   "metadata": {},
   "outputs": [
    {
     "name": "stderr",
     "output_type": "stream",
     "text": [
      "/mnt/BioHome/jreyna/.local/lib/python3.6/site-packages/pandas/core/indexing.py:1743: SettingWithCopyWarning: \n",
      "A value is trying to be set on a copy of a slice from a DataFrame.\n",
      "Try using .loc[row_indexer,col_indexer] = value instead\n",
      "\n",
      "See the caveats in the documentation: https://pandas.pydata.org/pandas-docs/stable/user_guide/indexing.html#returning-a-view-versus-a-copy\n",
      "  isetter(ilocs[0], value)\n",
      "__main__:6: SettingWithCopyWarning: \n",
      "A value is trying to be set on a copy of a slice from a DataFrame.\n",
      "Try using .loc[row_indexer,col_indexer] = value instead\n",
      "\n",
      "See the caveats in the documentation: https://pandas.pydata.org/pandas-docs/stable/user_guide/indexing.html#returning-a-view-versus-a-copy\n"
     ]
    }
   ],
   "source": [
    "# In[42]:\n",
    "\n",
    "# convert full for viz\n",
    "eqtl_snp_gene_pairs = eqtl_lrange[['chrom', 'snp_pos', 'snp_pos', 'chrom', 'tss_start', 'tss_end', 'gene_name']]\n",
    "eqtl_snp_gene_pairs.iloc[:, 1] -= 1 \n",
    "eqtl_snp_gene_pairs['score'] = 0.01"
   ]
  },
  {
   "cell_type": "code",
   "execution_count": 47,
   "id": "a15bf609",
   "metadata": {},
   "outputs": [
    {
     "name": "stdout",
     "output_type": "stream",
     "text": [
      "/mnt/BioApps/tabix/tabix-0.2.6/bgzip results/main/loop_analysis/test/eqtl.snp_gene_pairs.bed\n",
      "out: \n",
      "err: [bgzip] results/main/loop_analysis/test/eqtl.snp_gene_pairs.bed.gz already exists; do you wish to overwrite (y or n)? [bgzip] not overwritten\n",
      "\n",
      "/mnt/BioApps/tabix/tabix-0.2.6/tabix -f results/main/loop_analysis/test/eqtl.snp_gene_pairs.bed.gz\n",
      "out: \n",
      "err: \n",
      "Created the gzfn: results/main/loop_analysis/test/eqtl.snp_gene_pairs.bed.gz\n",
      "Created the tabix: results/main/loop_analysis/test/eqtl.snp_gene_pairs.bed.gz.tbi\n"
     ]
    }
   ],
   "source": [
    "# In[43]:\n",
    "\n",
    "\n",
    "eqtl_snp_gene_pairs_fn = os.path.join(outdir, 'eqtl.snp_gene_pairs.bed')\n",
    "bedpe_to_WashU_longrange(eqtl_snp_gene_pairs_fn, eqtl_snp_gene_pairs.iloc[:, [0,1,2,3,4,5,7]])"
   ]
  },
  {
   "cell_type": "code",
   "execution_count": 48,
   "id": "5d8e868c",
   "metadata": {},
   "outputs": [
    {
     "name": "stdout",
     "output_type": "stream",
     "text": [
      "/mnt/BioApps/tabix/tabix-0.2.6/bgzip results/main/loop_analysis/test/eqtl.genes_only.bed\n",
      "out: \n",
      "err: [bgzip] results/main/loop_analysis/test/eqtl.genes_only.bed.gz already exists; do you wish to overwrite (y or n)? [bgzip] not overwritten\n",
      "\n",
      "/mnt/BioApps/tabix/tabix-0.2.6/tabix -f results/main/loop_analysis/test/eqtl.genes_only.bed.gz\n",
      "out: \n",
      "err: \n",
      "Created the gzfn: results/main/loop_analysis/test/eqtl.genes_only.bed.gz\n",
      "Created the tabix: results/main/loop_analysis/test/eqtl.genes_only.bed.gz.tbi\n"
     ]
    }
   ],
   "source": [
    "# In[44]:\n",
    "\n",
    "\n",
    "# make the bed for egenes only (status: running)\n",
    "eqtl_genes = eqtl_lrange.loc[:, ['chrom', 'gene_start', 'gene_end', 'gene_name']]\n",
    "eqtl_genes_only_fn = os.path.join(outdir, 'eqtl.genes_only.bed')\n",
    "bed_WashU_bedgz(eqtl_genes_only_fn, eqtl_genes)"
   ]
  },
  {
   "cell_type": "code",
   "execution_count": 49,
   "id": "b71fc2c5",
   "metadata": {},
   "outputs": [
    {
     "name": "stdout",
     "output_type": "stream",
     "text": [
      "/mnt/BioApps/tabix/tabix-0.2.6/bgzip results/main/loop_analysis/test/eqtl.snps_only.bed\n",
      "out: \n",
      "err: [bgzip] results/main/loop_analysis/test/eqtl.snps_only.bed.gz already exists; do you wish to overwrite (y or n)? [bgzip] not overwritten\n",
      "\n",
      "/mnt/BioApps/tabix/tabix-0.2.6/tabix -f results/main/loop_analysis/test/eqtl.snps_only.bed.gz\n",
      "out: \n",
      "err: \n",
      "Created the gzfn: results/main/loop_analysis/test/eqtl.snps_only.bed.gz\n",
      "Created the tabix: results/main/loop_analysis/test/eqtl.snps_only.bed.gz.tbi\n"
     ]
    }
   ],
   "source": [
    "# In[45]:\n",
    "\n",
    "\n",
    "# make the bed for eSNPs only (status: running)\n",
    "eqtl_snps = eqtl_lrange.loc[:, ['chrom', 'snp_pos', 'snp_pos', 'rs_id']]\n",
    "eqtl_snps.iloc[:, 1] -= 1\n",
    "eqtl_snps = pbt.BedTool.from_dataframe(eqtl_snps)\n",
    "eqtl_snps = eqtl_snps.slop(b=500, g=gs_fn).to_dataframe()\n",
    "eqtl_snps_only_fn = os.path.join(outdir, 'eqtl.snps_only.bed')\n",
    "bed_WashU_bedgz(eqtl_snps_only_fn, eqtl_snps)"
   ]
  },
  {
   "cell_type": "code",
   "execution_count": 50,
   "id": "aca25771",
   "metadata": {},
   "outputs": [],
   "source": [
    "# In[46]:\n",
    "\n",
    "\n",
    "# # make the longrange link for snp-gene eQTL loops (status: didn't add loop coordinates to master.)\n",
    "# eqtl_loops = master.loc[master.is_eqtl_pair == 1]"
   ]
  },
  {
   "cell_type": "markdown",
   "id": "beedaac3",
   "metadata": {},
   "source": [
    "## Coloc WashU Files"
   ]
  },
  {
   "cell_type": "code",
   "execution_count": 51,
   "id": "7e968c66",
   "metadata": {},
   "outputs": [],
   "source": [
    "# In[47]:\n",
    "\n",
    "\n",
    "# make the bed for colocalized SNPs (status: running)\n",
    "final_snps = coloc_sig_df.copy()\n",
    "final_snps = final_snps.loc[~final_snps.duplicated()]\n",
    "final_snps = pbt.BedTool.from_dataframe(final_snps)\n",
    "final_snps = final_snps.slop(b=500, g=gs_fn)\n",
    "final_snps = final_snps.to_dataframe()[0:4]"
   ]
  },
  {
   "cell_type": "code",
   "execution_count": 52,
   "id": "0d94a245",
   "metadata": {},
   "outputs": [
    {
     "name": "stdout",
     "output_type": "stream",
     "text": [
      "/mnt/BioApps/tabix/tabix-0.2.6/bgzip results/main/loop_analysis/test/coloc.snps_only.bed\n",
      "out: \n",
      "err: [bgzip] results/main/loop_analysis/test/coloc.snps_only.bed.gz already exists; do you wish to overwrite (y or n)? [bgzip] not overwritten\n",
      "\n",
      "/mnt/BioApps/tabix/tabix-0.2.6/tabix -f results/main/loop_analysis/test/coloc.snps_only.bed.gz\n",
      "out: \n",
      "err: \n",
      "Created the gzfn: results/main/loop_analysis/test/coloc.snps_only.bed.gz\n",
      "Created the tabix: results/main/loop_analysis/test/coloc.snps_only.bed.gz.tbi\n"
     ]
    }
   ],
   "source": [
    "# In[48]:\n",
    "\n",
    "\n",
    "coloc_snps_only_fn = os.path.join(outdir, 'coloc.snps_only.bed')\n",
    "bed_WashU_bedgz(coloc_snps_only_fn, final_snps)"
   ]
  },
  {
   "cell_type": "code",
   "execution_count": 53,
   "id": "bf577780",
   "metadata": {},
   "outputs": [
    {
     "name": "stdout",
     "output_type": "stream",
     "text": [
      "/mnt/BioApps/tabix/tabix-0.2.6/bgzip results/main/loop_analysis/test/coloc.genes_only.bed\n",
      "out: \n",
      "err: [bgzip] results/main/loop_analysis/test/coloc.genes_only.bed.gz already exists; do you wish to overwrite (y or n)? [bgzip] not overwritten\n",
      "\n",
      "/mnt/BioApps/tabix/tabix-0.2.6/tabix -f results/main/loop_analysis/test/coloc.genes_only.bed.gz\n",
      "out: \n",
      "err: \n",
      "Created the gzfn: results/main/loop_analysis/test/coloc.genes_only.bed.gz\n",
      "Created the tabix: results/main/loop_analysis/test/coloc.genes_only.bed.gz.tbi\n"
     ]
    }
   ],
   "source": [
    "# In[49]:\n",
    "\n",
    "\n",
    "# make the bed for colocalized genes (status: running)\n",
    "final_coloc_snp_genes_pairs = master[(master.is_coloc_pair == 1)]\n",
    "final_coloc_genes = final_coloc_snp_genes_pairs[['chrom', 'gene_start' ,'gene_end', 'gene_name']]\n",
    "coloc_genes_only_fn = os.path.join(outdir, 'coloc.genes_only.bed')\n",
    "bed_WashU_bedgz(coloc_genes_only_fn, final_coloc_genes)"
   ]
  },
  {
   "cell_type": "code",
   "execution_count": 54,
   "id": "dcce5b67",
   "metadata": {},
   "outputs": [
    {
     "name": "stdout",
     "output_type": "stream",
     "text": [
      "/mnt/BioApps/tabix/tabix-0.2.6/bgzip results/main/loop_analysis/test/coloc.snp_gene_pairs.bed\n",
      "out: \n",
      "err: [bgzip] results/main/loop_analysis/test/coloc.snp_gene_pairs.bed.gz already exists; do you wish to overwrite (y or n)? [bgzip] not overwritten\n",
      "\n",
      "/mnt/BioApps/tabix/tabix-0.2.6/tabix -f results/main/loop_analysis/test/coloc.snp_gene_pairs.bed.gz\n",
      "out: \n",
      "err: \n",
      "Created the gzfn: results/main/loop_analysis/test/coloc.snp_gene_pairs.bed.gz\n",
      "Created the tabix: results/main/loop_analysis/test/coloc.snp_gene_pairs.bed.gz.tbi\n"
     ]
    },
    {
     "name": "stderr",
     "output_type": "stream",
     "text": [
      "/mnt/BioHome/jreyna/.local/lib/python3.6/site-packages/pandas/core/indexing.py:1743: SettingWithCopyWarning: \n",
      "A value is trying to be set on a copy of a slice from a DataFrame.\n",
      "Try using .loc[row_indexer,col_indexer] = value instead\n",
      "\n",
      "See the caveats in the documentation: https://pandas.pydata.org/pandas-docs/stable/user_guide/indexing.html#returning-a-view-versus-a-copy\n",
      "  isetter(ilocs[0], value)\n",
      "/mnt/BioHome/jreyna/.local/lib/python3.6/site-packages/pandas/core/indexing.py:1763: SettingWithCopyWarning: \n",
      "A value is trying to be set on a copy of a slice from a DataFrame.\n",
      "Try using .loc[row_indexer,col_indexer] = value instead\n",
      "\n",
      "See the caveats in the documentation: https://pandas.pydata.org/pandas-docs/stable/user_guide/indexing.html#returning-a-view-versus-a-copy\n",
      "  isetter(loc, value)\n"
     ]
    }
   ],
   "source": [
    "# In[50]:\n",
    "\n",
    "\n",
    "# make the longrange for colocalized snp-gene pairs (status: running)\n",
    "final_coloc_snp_genes_pairs_out = final_coloc_snp_genes_pairs[['chrom', 'snp_pos', 'snp_pos', 'chrom', \n",
    "                                                               'tss_start', 'tss_end', 'gene_name']]\n",
    "final_coloc_snp_genes_pairs_out.iloc[:, 1] -= 1\n",
    "final_coloc_snp_genes_pairs_out.iloc[:, 6] = 0.01\n",
    "\n",
    "coloc_snp_gene_pairs_fn = os.path.join(outdir, 'coloc.snp_gene_pairs.bed')\n",
    "bedpe_to_WashU_longrange(coloc_snp_gene_pairs_fn, final_coloc_snp_genes_pairs_out)"
   ]
  },
  {
   "cell_type": "code",
   "execution_count": 55,
   "id": "6af23464",
   "metadata": {},
   "outputs": [
    {
     "name": "stdout",
     "output_type": "stream",
     "text": [
      "/mnt/BioApps/tabix/tabix-0.2.6/bgzip results/main/loop_analysis/test/coloc.snp_gene_loops.bed\n",
      "out: \n",
      "err: [bgzip] results/main/loop_analysis/test/coloc.snp_gene_loops.bed.gz already exists; do you wish to overwrite (y or n)? [bgzip] not overwritten\n",
      "\n",
      "/mnt/BioApps/tabix/tabix-0.2.6/tabix -f results/main/loop_analysis/test/coloc.snp_gene_loops.bed.gz\n",
      "out: \n",
      "err: \n",
      "Created the gzfn: results/main/loop_analysis/test/coloc.snp_gene_loops.bed.gz\n",
      "Created the tabix: results/main/loop_analysis/test/coloc.snp_gene_loops.bed.gz.tbi\n"
     ]
    }
   ],
   "source": [
    "# In[51]:\n",
    "\n",
    "\n",
    "# make the longrange for colocalized snp-gene loops (status: running)\n",
    "final_coloc_snp_genes_loops = fivekb_gloops[(fivekb_gloops[10].isin(final_coloc_snp_genes_pairs['rs_id'])) & \n",
    "              (fivekb_gloops[12].isin(final_coloc_snp_genes_pairs['gene_id']))]\n",
    "final_coloc_snp_genes_loops_out = final_coloc_snp_genes_loops.iloc[:, [14,15,16,17,18,19,21]]\n",
    "\n",
    "coloc_snp_gene_loops_fn = os.path.join(outdir, 'coloc.snp_gene_loops.bed')\n",
    "bedpe_to_WashU_longrange(coloc_snp_gene_loops_fn, final_coloc_snp_genes_loops_out)"
   ]
  },
  {
   "cell_type": "code",
   "execution_count": 56,
   "id": "074ba657",
   "metadata": {},
   "outputs": [
    {
     "data": {
      "text/html": [
       "<div>\n",
       "<style scoped>\n",
       "    .dataframe tbody tr th:only-of-type {\n",
       "        vertical-align: middle;\n",
       "    }\n",
       "\n",
       "    .dataframe tbody tr th {\n",
       "        vertical-align: top;\n",
       "    }\n",
       "\n",
       "    .dataframe thead th {\n",
       "        text-align: right;\n",
       "    }\n",
       "</style>\n",
       "<table border=\"1\" class=\"dataframe\">\n",
       "  <thead>\n",
       "    <tr style=\"text-align: right;\">\n",
       "      <th></th>\n",
       "      <th>14</th>\n",
       "      <th>15</th>\n",
       "      <th>16</th>\n",
       "      <th>17</th>\n",
       "      <th>18</th>\n",
       "      <th>19</th>\n",
       "      <th>21</th>\n",
       "    </tr>\n",
       "  </thead>\n",
       "  <tbody>\n",
       "    <tr>\n",
       "      <th>117</th>\n",
       "      <td>chr11</td>\n",
       "      <td>64085000</td>\n",
       "      <td>64090000</td>\n",
       "      <td>chr11</td>\n",
       "      <td>64095000</td>\n",
       "      <td>64100000</td>\n",
       "      <td>7.083285e-07</td>\n",
       "    </tr>\n",
       "    <tr>\n",
       "      <th>118</th>\n",
       "      <td>chr11</td>\n",
       "      <td>64085000</td>\n",
       "      <td>64090000</td>\n",
       "      <td>chr11</td>\n",
       "      <td>64105000</td>\n",
       "      <td>64110000</td>\n",
       "      <td>6.081059e-07</td>\n",
       "    </tr>\n",
       "    <tr>\n",
       "      <th>119</th>\n",
       "      <td>chr11</td>\n",
       "      <td>64090000</td>\n",
       "      <td>64095000</td>\n",
       "      <td>chr11</td>\n",
       "      <td>64105000</td>\n",
       "      <td>64110000</td>\n",
       "      <td>6.589475e-07</td>\n",
       "    </tr>\n",
       "    <tr>\n",
       "      <th>120</th>\n",
       "      <td>chr11</td>\n",
       "      <td>64095000</td>\n",
       "      <td>64100000</td>\n",
       "      <td>chr11</td>\n",
       "      <td>64105000</td>\n",
       "      <td>64110000</td>\n",
       "      <td>7.083285e-07</td>\n",
       "    </tr>\n",
       "    <tr>\n",
       "      <th>176</th>\n",
       "      <td>chr12</td>\n",
       "      <td>56390000</td>\n",
       "      <td>56395000</td>\n",
       "      <td>chr12</td>\n",
       "      <td>56435000</td>\n",
       "      <td>56440000</td>\n",
       "      <td>3.737553e-07</td>\n",
       "    </tr>\n",
       "    <tr>\n",
       "      <th>177</th>\n",
       "      <td>chr12</td>\n",
       "      <td>56400000</td>\n",
       "      <td>56405000</td>\n",
       "      <td>chr12</td>\n",
       "      <td>56425000</td>\n",
       "      <td>56430000</td>\n",
       "      <td>5.571337e-07</td>\n",
       "    </tr>\n",
       "    <tr>\n",
       "      <th>178</th>\n",
       "      <td>chr12</td>\n",
       "      <td>56400000</td>\n",
       "      <td>56405000</td>\n",
       "      <td>chr12</td>\n",
       "      <td>56435000</td>\n",
       "      <td>56440000</td>\n",
       "      <td>4.599398e-07</td>\n",
       "    </tr>\n",
       "    <tr>\n",
       "      <th>243</th>\n",
       "      <td>chr12</td>\n",
       "      <td>112450000</td>\n",
       "      <td>112455000</td>\n",
       "      <td>chr12</td>\n",
       "      <td>112515000</td>\n",
       "      <td>112520000</td>\n",
       "      <td>2.433916e-07</td>\n",
       "    </tr>\n",
       "    <tr>\n",
       "      <th>257</th>\n",
       "      <td>chr16</td>\n",
       "      <td>11345000</td>\n",
       "      <td>11350000</td>\n",
       "      <td>chr16</td>\n",
       "      <td>11420000</td>\n",
       "      <td>11425000</td>\n",
       "      <td>2.007063e-07</td>\n",
       "    </tr>\n",
       "    <tr>\n",
       "      <th>258</th>\n",
       "      <td>chr16</td>\n",
       "      <td>11350000</td>\n",
       "      <td>11355000</td>\n",
       "      <td>chr16</td>\n",
       "      <td>11415000</td>\n",
       "      <td>11420000</td>\n",
       "      <td>2.433916e-07</td>\n",
       "    </tr>\n",
       "    <tr>\n",
       "      <th>259</th>\n",
       "      <td>chr16</td>\n",
       "      <td>11350000</td>\n",
       "      <td>11355000</td>\n",
       "      <td>chr16</td>\n",
       "      <td>11420000</td>\n",
       "      <td>11425000</td>\n",
       "      <td>2.203831e-07</td>\n",
       "    </tr>\n",
       "    <tr>\n",
       "      <th>260</th>\n",
       "      <td>chr16</td>\n",
       "      <td>11350000</td>\n",
       "      <td>11355000</td>\n",
       "      <td>chr16</td>\n",
       "      <td>11425000</td>\n",
       "      <td>11430000</td>\n",
       "      <td>2.007063e-07</td>\n",
       "    </tr>\n",
       "    <tr>\n",
       "      <th>261</th>\n",
       "      <td>chr16</td>\n",
       "      <td>11350000</td>\n",
       "      <td>11355000</td>\n",
       "      <td>chr16</td>\n",
       "      <td>11430000</td>\n",
       "      <td>11435000</td>\n",
       "      <td>1.839604e-07</td>\n",
       "    </tr>\n",
       "    <tr>\n",
       "      <th>271</th>\n",
       "      <td>chr16</td>\n",
       "      <td>11415000</td>\n",
       "      <td>11420000</td>\n",
       "      <td>chr16</td>\n",
       "      <td>11445000</td>\n",
       "      <td>11450000</td>\n",
       "      <td>5.073607e-07</td>\n",
       "    </tr>\n",
       "    <tr>\n",
       "      <th>277</th>\n",
       "      <td>chr16</td>\n",
       "      <td>11345000</td>\n",
       "      <td>11350000</td>\n",
       "      <td>chr16</td>\n",
       "      <td>11420000</td>\n",
       "      <td>11425000</td>\n",
       "      <td>2.007063e-07</td>\n",
       "    </tr>\n",
       "    <tr>\n",
       "      <th>278</th>\n",
       "      <td>chr16</td>\n",
       "      <td>11350000</td>\n",
       "      <td>11355000</td>\n",
       "      <td>chr16</td>\n",
       "      <td>11415000</td>\n",
       "      <td>11420000</td>\n",
       "      <td>2.433916e-07</td>\n",
       "    </tr>\n",
       "    <tr>\n",
       "      <th>279</th>\n",
       "      <td>chr16</td>\n",
       "      <td>11350000</td>\n",
       "      <td>11355000</td>\n",
       "      <td>chr16</td>\n",
       "      <td>11420000</td>\n",
       "      <td>11425000</td>\n",
       "      <td>2.203831e-07</td>\n",
       "    </tr>\n",
       "    <tr>\n",
       "      <th>280</th>\n",
       "      <td>chr16</td>\n",
       "      <td>11350000</td>\n",
       "      <td>11355000</td>\n",
       "      <td>chr16</td>\n",
       "      <td>11425000</td>\n",
       "      <td>11430000</td>\n",
       "      <td>2.007063e-07</td>\n",
       "    </tr>\n",
       "    <tr>\n",
       "      <th>281</th>\n",
       "      <td>chr16</td>\n",
       "      <td>11350000</td>\n",
       "      <td>11355000</td>\n",
       "      <td>chr16</td>\n",
       "      <td>11430000</td>\n",
       "      <td>11435000</td>\n",
       "      <td>1.839604e-07</td>\n",
       "    </tr>\n",
       "    <tr>\n",
       "      <th>291</th>\n",
       "      <td>chr16</td>\n",
       "      <td>11415000</td>\n",
       "      <td>11420000</td>\n",
       "      <td>chr16</td>\n",
       "      <td>11445000</td>\n",
       "      <td>11450000</td>\n",
       "      <td>5.073607e-07</td>\n",
       "    </tr>\n",
       "    <tr>\n",
       "      <th>345</th>\n",
       "      <td>chr21</td>\n",
       "      <td>43815000</td>\n",
       "      <td>43820000</td>\n",
       "      <td>chr21</td>\n",
       "      <td>43845000</td>\n",
       "      <td>43850000</td>\n",
       "      <td>5.073607e-07</td>\n",
       "    </tr>\n",
       "    <tr>\n",
       "      <th>346</th>\n",
       "      <td>chr21</td>\n",
       "      <td>43815000</td>\n",
       "      <td>43820000</td>\n",
       "      <td>chr21</td>\n",
       "      <td>43850000</td>\n",
       "      <td>43855000</td>\n",
       "      <td>4.599398e-07</td>\n",
       "    </tr>\n",
       "    <tr>\n",
       "      <th>347</th>\n",
       "      <td>chr21</td>\n",
       "      <td>43815000</td>\n",
       "      <td>43820000</td>\n",
       "      <td>chr21</td>\n",
       "      <td>43855000</td>\n",
       "      <td>43860000</td>\n",
       "      <td>4.153155e-07</td>\n",
       "    </tr>\n",
       "    <tr>\n",
       "      <th>348</th>\n",
       "      <td>chr21</td>\n",
       "      <td>43815000</td>\n",
       "      <td>43820000</td>\n",
       "      <td>chr21</td>\n",
       "      <td>43860000</td>\n",
       "      <td>43865000</td>\n",
       "      <td>3.737553e-07</td>\n",
       "    </tr>\n",
       "    <tr>\n",
       "      <th>349</th>\n",
       "      <td>chr21</td>\n",
       "      <td>43820000</td>\n",
       "      <td>43825000</td>\n",
       "      <td>chr21</td>\n",
       "      <td>43845000</td>\n",
       "      <td>43850000</td>\n",
       "      <td>5.571337e-07</td>\n",
       "    </tr>\n",
       "    <tr>\n",
       "      <th>350</th>\n",
       "      <td>chr21</td>\n",
       "      <td>43820000</td>\n",
       "      <td>43825000</td>\n",
       "      <td>chr21</td>\n",
       "      <td>43850000</td>\n",
       "      <td>43855000</td>\n",
       "      <td>5.073607e-07</td>\n",
       "    </tr>\n",
       "    <tr>\n",
       "      <th>351</th>\n",
       "      <td>chr21</td>\n",
       "      <td>43820000</td>\n",
       "      <td>43825000</td>\n",
       "      <td>chr21</td>\n",
       "      <td>43855000</td>\n",
       "      <td>43860000</td>\n",
       "      <td>4.599398e-07</td>\n",
       "    </tr>\n",
       "    <tr>\n",
       "      <th>352</th>\n",
       "      <td>chr21</td>\n",
       "      <td>43820000</td>\n",
       "      <td>43825000</td>\n",
       "      <td>chr21</td>\n",
       "      <td>43860000</td>\n",
       "      <td>43865000</td>\n",
       "      <td>4.153155e-07</td>\n",
       "    </tr>\n",
       "    <tr>\n",
       "      <th>353</th>\n",
       "      <td>chr21</td>\n",
       "      <td>43825000</td>\n",
       "      <td>43830000</td>\n",
       "      <td>chr21</td>\n",
       "      <td>43845000</td>\n",
       "      <td>43850000</td>\n",
       "      <td>6.081059e-07</td>\n",
       "    </tr>\n",
       "    <tr>\n",
       "      <th>354</th>\n",
       "      <td>chr21</td>\n",
       "      <td>43825000</td>\n",
       "      <td>43830000</td>\n",
       "      <td>chr21</td>\n",
       "      <td>43850000</td>\n",
       "      <td>43855000</td>\n",
       "      <td>5.571337e-07</td>\n",
       "    </tr>\n",
       "    <tr>\n",
       "      <th>355</th>\n",
       "      <td>chr21</td>\n",
       "      <td>43825000</td>\n",
       "      <td>43830000</td>\n",
       "      <td>chr21</td>\n",
       "      <td>43855000</td>\n",
       "      <td>43860000</td>\n",
       "      <td>5.073607e-07</td>\n",
       "    </tr>\n",
       "    <tr>\n",
       "      <th>356</th>\n",
       "      <td>chr21</td>\n",
       "      <td>43825000</td>\n",
       "      <td>43830000</td>\n",
       "      <td>chr21</td>\n",
       "      <td>43860000</td>\n",
       "      <td>43865000</td>\n",
       "      <td>4.599398e-07</td>\n",
       "    </tr>\n",
       "    <tr>\n",
       "      <th>357</th>\n",
       "      <td>chr21</td>\n",
       "      <td>43830000</td>\n",
       "      <td>43835000</td>\n",
       "      <td>chr21</td>\n",
       "      <td>43845000</td>\n",
       "      <td>43850000</td>\n",
       "      <td>6.589475e-07</td>\n",
       "    </tr>\n",
       "    <tr>\n",
       "      <th>358</th>\n",
       "      <td>chr21</td>\n",
       "      <td>43830000</td>\n",
       "      <td>43835000</td>\n",
       "      <td>chr21</td>\n",
       "      <td>43850000</td>\n",
       "      <td>43855000</td>\n",
       "      <td>6.081059e-07</td>\n",
       "    </tr>\n",
       "    <tr>\n",
       "      <th>359</th>\n",
       "      <td>chr21</td>\n",
       "      <td>43830000</td>\n",
       "      <td>43835000</td>\n",
       "      <td>chr21</td>\n",
       "      <td>43855000</td>\n",
       "      <td>43860000</td>\n",
       "      <td>5.571337e-07</td>\n",
       "    </tr>\n",
       "    <tr>\n",
       "      <th>360</th>\n",
       "      <td>chr21</td>\n",
       "      <td>43830000</td>\n",
       "      <td>43835000</td>\n",
       "      <td>chr21</td>\n",
       "      <td>43860000</td>\n",
       "      <td>43865000</td>\n",
       "      <td>5.073607e-07</td>\n",
       "    </tr>\n",
       "  </tbody>\n",
       "</table>\n",
       "</div>"
      ],
      "text/plain": [
       "        14         15         16     17         18         19            21\n",
       "117  chr11   64085000   64090000  chr11   64095000   64100000  7.083285e-07\n",
       "118  chr11   64085000   64090000  chr11   64105000   64110000  6.081059e-07\n",
       "119  chr11   64090000   64095000  chr11   64105000   64110000  6.589475e-07\n",
       "120  chr11   64095000   64100000  chr11   64105000   64110000  7.083285e-07\n",
       "176  chr12   56390000   56395000  chr12   56435000   56440000  3.737553e-07\n",
       "177  chr12   56400000   56405000  chr12   56425000   56430000  5.571337e-07\n",
       "178  chr12   56400000   56405000  chr12   56435000   56440000  4.599398e-07\n",
       "243  chr12  112450000  112455000  chr12  112515000  112520000  2.433916e-07\n",
       "257  chr16   11345000   11350000  chr16   11420000   11425000  2.007063e-07\n",
       "258  chr16   11350000   11355000  chr16   11415000   11420000  2.433916e-07\n",
       "259  chr16   11350000   11355000  chr16   11420000   11425000  2.203831e-07\n",
       "260  chr16   11350000   11355000  chr16   11425000   11430000  2.007063e-07\n",
       "261  chr16   11350000   11355000  chr16   11430000   11435000  1.839604e-07\n",
       "271  chr16   11415000   11420000  chr16   11445000   11450000  5.073607e-07\n",
       "277  chr16   11345000   11350000  chr16   11420000   11425000  2.007063e-07\n",
       "278  chr16   11350000   11355000  chr16   11415000   11420000  2.433916e-07\n",
       "279  chr16   11350000   11355000  chr16   11420000   11425000  2.203831e-07\n",
       "280  chr16   11350000   11355000  chr16   11425000   11430000  2.007063e-07\n",
       "281  chr16   11350000   11355000  chr16   11430000   11435000  1.839604e-07\n",
       "291  chr16   11415000   11420000  chr16   11445000   11450000  5.073607e-07\n",
       "345  chr21   43815000   43820000  chr21   43845000   43850000  5.073607e-07\n",
       "346  chr21   43815000   43820000  chr21   43850000   43855000  4.599398e-07\n",
       "347  chr21   43815000   43820000  chr21   43855000   43860000  4.153155e-07\n",
       "348  chr21   43815000   43820000  chr21   43860000   43865000  3.737553e-07\n",
       "349  chr21   43820000   43825000  chr21   43845000   43850000  5.571337e-07\n",
       "350  chr21   43820000   43825000  chr21   43850000   43855000  5.073607e-07\n",
       "351  chr21   43820000   43825000  chr21   43855000   43860000  4.599398e-07\n",
       "352  chr21   43820000   43825000  chr21   43860000   43865000  4.153155e-07\n",
       "353  chr21   43825000   43830000  chr21   43845000   43850000  6.081059e-07\n",
       "354  chr21   43825000   43830000  chr21   43850000   43855000  5.571337e-07\n",
       "355  chr21   43825000   43830000  chr21   43855000   43860000  5.073607e-07\n",
       "356  chr21   43825000   43830000  chr21   43860000   43865000  4.599398e-07\n",
       "357  chr21   43830000   43835000  chr21   43845000   43850000  6.589475e-07\n",
       "358  chr21   43830000   43835000  chr21   43850000   43855000  6.081059e-07\n",
       "359  chr21   43830000   43835000  chr21   43855000   43860000  5.571337e-07\n",
       "360  chr21   43830000   43835000  chr21   43860000   43865000  5.073607e-07"
      ]
     },
     "execution_count": 56,
     "metadata": {},
     "output_type": "execute_result"
    }
   ],
   "source": [
    "# In[52]:\n",
    "\n",
    "final_coloc_snp_genes_loops_out"
   ]
  },
  {
   "cell_type": "code",
   "execution_count": 57,
   "id": "0fb58d04",
   "metadata": {},
   "outputs": [],
   "source": [
    "# In[53]:\n",
    "\n",
    "# make the loop anchors as bed files (status: developing)\n",
    "left = final_coloc_snp_genes_loops[[14,15,16,6]].T.reset_index(drop=True).T\n",
    "left[3] = 'L-' + left[3] \n",
    "right = final_coloc_snp_genes_loops[[17,18,19,6]].T.reset_index(drop=True).T\n",
    "right[3] = 'R-' + right[3] \n",
    "anchors = pd.concat([left, right], ignore_index=True, axis=0)"
   ]
  },
  {
   "cell_type": "code",
   "execution_count": 58,
   "id": "93790a77",
   "metadata": {},
   "outputs": [
    {
     "name": "stdout",
     "output_type": "stream",
     "text": [
      "/mnt/BioApps/tabix/tabix-0.2.6/bgzip results/main/loop_analysis/test/coloc.anchors_only.bed\n",
      "out: \n",
      "err: [bgzip] results/main/loop_analysis/test/coloc.anchors_only.bed.gz already exists; do you wish to overwrite (y or n)? [bgzip] not overwritten\n",
      "\n",
      "/mnt/BioApps/tabix/tabix-0.2.6/tabix -f results/main/loop_analysis/test/coloc.anchors_only.bed.gz\n",
      "out: \n",
      "err: \n",
      "Created the gzfn: results/main/loop_analysis/test/coloc.anchors_only.bed.gz\n",
      "Created the tabix: results/main/loop_analysis/test/coloc.anchors_only.bed.gz.tbi\n"
     ]
    }
   ],
   "source": [
    "# In[54]:\n",
    "coloc_anchors_fn = os.path.join(outdir, 'coloc.anchors_only.bed')\n",
    "bed_WashU_bedgz(coloc_anchors_fn, anchors)"
   ]
  },
  {
   "cell_type": "markdown",
   "id": "fba9b3ad",
   "metadata": {},
   "source": [
    "# make the hub json file"
   ]
  },
  {
   "cell_type": "code",
   "execution_count": 59,
   "id": "c42e8f4c",
   "metadata": {},
   "outputs": [],
   "source": [
    "# In[55]:\n",
    "#gwas, cline = coloc_fn.split('/')[5:7]"
   ]
  },
  {
   "cell_type": "code",
   "execution_count": 60,
   "id": "e973a217",
   "metadata": {},
   "outputs": [
    {
     "name": "stdout",
     "output_type": "stream",
     "text": [
      "# make the hub json file\n"
     ]
    }
   ],
   "source": [
    "# In[56]:\n",
    "\n",
    "\n",
    "print(\"# make the hub json file\")\n",
    "\n",
    "gene_refbed_json = {'type': 'refbed',\n",
    "                    'filename': os.path.basename(sg_genes_fn) + '.gz',\n",
    "                    'name': 'Gencode V19',\n",
    "                    'showOnHubLoad': True\n",
    "                   }\n",
    "\n",
    "orig_loops_json = {'type': 'longrange',\n",
    "                   'filename': os.path.basename(loop_gz_link),\n",
    "                   'name': 'Original Loops',\n",
    "                   'options': {'displayMode': 'arc', 'color':'red'},\n",
    "                   'showOnHubLoad': True\n",
    "                }\n",
    "\n",
    "# fivekb_snp_gene_pairs_json = {'type': 'longrange',\n",
    "#                    'filename': os.path.basename(fivekb_snp_gene_pairs_fn) + '.gz',\n",
    "#                    'name': '5kb SNP-Gene Pairs',\n",
    "#                    'options': {'displayMode': 'arc', 'color':'purple', 'height': 200},\n",
    "#                    'showOnHubLoad': False\n",
    "#                 }\n",
    "\n",
    "# fivekb_snp_gene_loops_json = {'type': 'longrange',\n",
    "#                    'filename': os.path.basename(fivekb_snp_gene_loops_fn) + '.gz',\n",
    "#                    'name': '5kb SNP-Gene Loops',\n",
    "#                    'options': {'displayMode': 'arc', 'color':'red', 'height': 200},\n",
    "#                    'showOnHubLoad': False\n",
    "#                 }\n",
    "\n",
    "\n",
    "eqtl_snp_gene_pairs_json = {'type': 'longrange',\n",
    "                 'filename': os.path.basename(eqtl_snp_gene_pairs_fn) + '.gz',\n",
    "                 'name': 'eQTL SNP-Gene Pairs',\n",
    "                 'options': {'displayMode': 'arc', 'color':'purple', 'height': 200},\n",
    "                 'showOnHubLoad': True\n",
    "                }\n",
    "\n",
    "\n",
    "eqtl_snps_only_json = {'type': 'bed',\n",
    "                 'filename': os.path.basename(eqtl_snps_only_fn) + '.gz',\n",
    "                 'name': 'eQTL SNPs only',\n",
    "                 'options': {'color':'purple'},\n",
    "                 'showOnHubLoad': True\n",
    "\n",
    "                }\n",
    "\n",
    "\n",
    "eqtl_genes_only_json = {'type': 'bed',\n",
    "                 'filename': os.path.basename(eqtl_genes_only_fn) + '.gz',\n",
    "                 'name': 'eQTL genes only',\n",
    "                 'options': {'color':'purple'},\n",
    "                 'showOnHubLoad': True\n",
    "                }\n",
    "\n",
    "\n",
    "coloc_snp_gene_pairs_json = {'type': 'longrange',\n",
    "                 'filename': os.path.basename(coloc_snp_gene_pairs_fn) + '.gz',\n",
    "                 'name': 'coloc SNP-Gene Pairs',\n",
    "                 'options': {'displayMode': 'arc', 'color':'purple', 'height': 200},\n",
    "                 'showOnHubLoad': True\n",
    "                }\n",
    "\n",
    "coloc_snp_gene_loops_json = {'type': 'longrange',\n",
    "                 'filename': os.path.basename(coloc_snp_gene_loops_fn) + '.gz',\n",
    "                 'name': 'coloc SNP-Gene Loops',\n",
    "                 'options': {'displayMode': 'arc', 'color':'red', 'height': 200},\n",
    "                 'showOnHubLoad': True\n",
    "                }\n",
    "\n",
    "coloc_snps_only_json = {'type': 'bed',\n",
    "                 'filename': os.path.basename(coloc_snps_only_fn) + '.gz',\n",
    "                 'name': 'coloc SNPs only',\n",
    "                 'options': {'color':'purple'},\n",
    "                 'showOnHubLoad': False\n",
    "                }\n",
    "\n",
    "\n",
    "coloc_genes_only_json = {'type': 'bed',\n",
    "                 'filename': os.path.basename(coloc_genes_only_fn) + '.gz',\n",
    "                 'name': 'coloc genes only',\n",
    "                 'options': {'color':'purple'},\n",
    "                 'showOnHubLoad': False\n",
    "                }\n",
    "\n",
    "\n",
    "coloc_anchors_only_json = {'type': 'bed',\n",
    "                 'filename': os.path.basename(coloc_anchors_fn) + '.gz',\n",
    "                 'name': 'coloc loop anchors only',\n",
    "                 'options': {'color':'red'},\n",
    "                 'showOnHubLoad': False\n",
    "                }\n",
    "\n",
    "\n",
    "#hub_json = [orig_loops_json, sg_pairs_json, sg_loops_json, sg_snps_json, sg_genes_json]\n",
    "hub_json = [gene_refbed_json, \n",
    "            #fivekb_snp_gene_pairs_json,\n",
    "            #fivekb_snp_gene_loops_json,\n",
    "            eqtl_snps_only_json,\n",
    "            eqtl_genes_only_json,\n",
    "            eqtl_snp_gene_pairs_json,\n",
    "            coloc_snps_only_json,\n",
    "            coloc_genes_only_json,\n",
    "            coloc_snp_gene_pairs_json, \n",
    "            coloc_anchors_only_json,\n",
    "            coloc_snp_gene_loops_json,\n",
    "            orig_loops_json, \n",
    "           ]\n",
    "\n",
    "hub_json_fn = os.path.join(outdir, 'hub.config.json')\n",
    "with open(hub_json_fn, 'w') as f:\n",
    "    f.write(json.dumps(hub_json, indent=4))\n"
   ]
  },
  {
   "cell_type": "code",
   "execution_count": null,
   "id": "b2bff2f5",
   "metadata": {},
   "outputs": [],
   "source": []
  },
  {
   "cell_type": "code",
   "execution_count": null,
   "id": "56dec8c3",
   "metadata": {},
   "outputs": [],
   "source": []
  },
  {
   "cell_type": "code",
   "execution_count": null,
   "id": "94e80a84",
   "metadata": {},
   "outputs": [],
   "source": []
  }
 ],
 "metadata": {
  "kernelspec": {
   "display_name": "HiC",
   "language": "python",
   "name": "hic_tls"
  },
  "language_info": {
   "codemirror_mode": {
    "name": "ipython",
    "version": 3
   },
   "file_extension": ".py",
   "mimetype": "text/x-python",
   "name": "python",
   "nbconvert_exporter": "python",
   "pygments_lexer": "ipython3",
   "version": "3.6.7"
  }
 },
 "nbformat": 4,
 "nbformat_minor": 5
}
