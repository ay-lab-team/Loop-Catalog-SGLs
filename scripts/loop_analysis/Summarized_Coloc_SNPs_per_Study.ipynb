{
 "cells": [
  {
   "cell_type": "code",
   "execution_count": 1,
   "id": "9fc1779a",
   "metadata": {},
   "outputs": [],
   "source": [
    "import pandas as pd \n",
    "\n",
    "import os \n",
    "\n",
    "os.chdir(\"/mnt/BioHome/jreyna/jreyna/projects/dchallenge/\")\n",
    "\n",
    "df = pd.read_table('results/main/coloc/Results/Colocalization/coloc_snps_per_study.txt', header=None)"
   ]
  },
  {
   "cell_type": "code",
   "execution_count": 19,
   "id": "5456c3c0",
   "metadata": {},
   "outputs": [],
   "source": [
    "df = df.iloc[0:-1, ]"
   ]
  },
  {
   "cell_type": "code",
   "execution_count": 20,
   "id": "df5879a1",
   "metadata": {},
   "outputs": [
    {
     "data": {
      "text/plain": [
       "10.85"
      ]
     },
     "execution_count": 20,
     "metadata": {},
     "output_type": "execute_result"
    }
   ],
   "source": [
    "df[0].mean()"
   ]
  },
  {
   "cell_type": "code",
   "execution_count": 21,
   "id": "78e5bf9e",
   "metadata": {},
   "outputs": [
    {
     "data": {
      "text/plain": [
       "10.0"
      ]
     },
     "execution_count": 21,
     "metadata": {},
     "output_type": "execute_result"
    }
   ],
   "source": [
    "df[0].median()"
   ]
  },
  {
   "cell_type": "code",
   "execution_count": null,
   "id": "9ab259e9",
   "metadata": {},
   "outputs": [],
   "source": [
    "k\n"
   ]
  },
  {
   "cell_type": "code",
   "execution_count": null,
   "id": "0b095ec8",
   "metadata": {},
   "outputs": [],
   "source": []
  },
  {
   "cell_type": "code",
   "execution_count": null,
   "id": "77d2d21f",
   "metadata": {},
   "outputs": [],
   "source": []
  },
  {
   "cell_type": "code",
   "execution_count": null,
   "id": "b9f84d13",
   "metadata": {},
   "outputs": [],
   "source": []
  }
 ],
 "metadata": {
  "kernelspec": {
   "display_name": "HiC",
   "language": "python",
   "name": "hic_tls"
  },
  "language_info": {
   "codemirror_mode": {
    "name": "ipython",
    "version": 3
   },
   "file_extension": ".py",
   "mimetype": "text/x-python",
   "name": "python",
   "nbconvert_exporter": "python",
   "pygments_lexer": "ipython3",
   "version": "3.6.7"
  }
 },
 "nbformat": 4,
 "nbformat_minor": 5
}
