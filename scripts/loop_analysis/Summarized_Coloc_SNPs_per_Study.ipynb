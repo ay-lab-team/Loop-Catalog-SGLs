{
 "cells": [
  {
   "cell_type": "code",
   "execution_count": 76,
   "id": "9fc1779a",
   "metadata": {},
   "outputs": [],
   "source": [
    "import pandas as pd \n",
    "\n",
    "import os \n",
    "\n",
    "os.chdir(\"/mnt/BioHome/jreyna/jreyna/projects/dchallenge/\")\n",
    "\n",
    "outdir = 'results/main/basic_stats/'\n",
    "\n",
    "df = pd.read_table('results/main/coloc/Results/Colocalization/coloc_snps_per_study.txt', header=None)"
   ]
  },
  {
   "cell_type": "code",
   "execution_count": 77,
   "id": "80b29c97",
   "metadata": {},
   "outputs": [],
   "source": [
    "df = df.iloc[0:-1,]"
   ]
  },
  {
   "cell_type": "code",
   "execution_count": 78,
   "id": "5456c3c0",
   "metadata": {},
   "outputs": [
    {
     "name": "stdout",
     "output_type": "stream",
     "text": [
      "Description of the colocalized SNP-Gene pairs.\n"
     ]
    },
    {
     "data": {
      "text/plain": [
       "count    20.000000\n",
       "mean     10.850000\n",
       "std       3.950683\n",
       "min       6.000000\n",
       "25%       8.000000\n",
       "50%      10.000000\n",
       "75%      12.250000\n",
       "max      20.000000\n",
       "Name: 0, dtype: float64"
      ]
     },
     "execution_count": 78,
     "metadata": {},
     "output_type": "execute_result"
    }
   ],
   "source": [
    "print('Description of the colocalized SNP-Gene pairs.')\n",
    "df[0].describe()"
   ]
  },
  {
   "cell_type": "code",
   "execution_count": 79,
   "id": "0b095ec8",
   "metadata": {},
   "outputs": [],
   "source": [
    "names = df[1].str.split('/')\n",
    "names = [x[-1].split('_') for x in names]\n",
    "study, qtl_type, clines = [], [], []\n",
    "\n",
    "for name in names:\n",
    "    \n",
    "    study.append(name[0])\n",
    "    qtl_type.append(name[1])\n",
    "    \n",
    "    cline = '_'.join(name[2:])\n",
    "    clines.append(cline)"
   ]
  },
  {
   "cell_type": "code",
   "execution_count": 80,
   "id": "584bb8a3",
   "metadata": {},
   "outputs": [],
   "source": [
    "df['study'] = study\n",
    "df['qtl_type'] = qtl_type\n",
    "df['cline'] = clines\n",
    "df = df.iloc[:, [0,2,3,4]]\n",
    "df = df.rename(columns={0: 'num_snps'})"
   ]
  },
  {
   "cell_type": "code",
   "execution_count": 81,
   "id": "1d26a276",
   "metadata": {},
   "outputs": [],
   "source": [
    "df = df[df.study.isin(['BLUEPRINT', 'DICE'])]\n",
    "df = df[df.qtl_type == 'eQTL']"
   ]
  },
  {
   "cell_type": "code",
   "execution_count": 82,
   "id": "3f65a87e",
   "metadata": {},
   "outputs": [],
   "source": [
    "df = df.iloc[:, [1,3, 0]]"
   ]
  },
  {
   "cell_type": "code",
   "execution_count": 83,
   "id": "77d2d21f",
   "metadata": {},
   "outputs": [],
   "source": [
    "df.sort_values(['num_snps', 'study', 'cline'], ascending=[False, True, True], inplace=True)"
   ]
  },
  {
   "cell_type": "code",
   "execution_count": 84,
   "id": "d6e655f9",
   "metadata": {},
   "outputs": [
    {
     "data": {
      "text/html": [
       "<div>\n",
       "<style scoped>\n",
       "    .dataframe tbody tr th:only-of-type {\n",
       "        vertical-align: middle;\n",
       "    }\n",
       "\n",
       "    .dataframe tbody tr th {\n",
       "        vertical-align: top;\n",
       "    }\n",
       "\n",
       "    .dataframe thead th {\n",
       "        text-align: right;\n",
       "    }\n",
       "</style>\n",
       "<table border=\"1\" class=\"dataframe\">\n",
       "  <thead>\n",
       "    <tr style=\"text-align: right;\">\n",
       "      <th></th>\n",
       "      <th>study</th>\n",
       "      <th>cline</th>\n",
       "      <th>num_snps</th>\n",
       "    </tr>\n",
       "  </thead>\n",
       "  <tbody>\n",
       "    <tr>\n",
       "      <th>1</th>\n",
       "      <td>BLUEPRINT</td>\n",
       "      <td>Neutrophil</td>\n",
       "      <td>20</td>\n",
       "    </tr>\n",
       "    <tr>\n",
       "      <th>0</th>\n",
       "      <td>BLUEPRINT</td>\n",
       "      <td>Monocyte</td>\n",
       "      <td>19</td>\n",
       "    </tr>\n",
       "    <tr>\n",
       "      <th>2</th>\n",
       "      <td>BLUEPRINT</td>\n",
       "      <td>T-cell</td>\n",
       "      <td>17</td>\n",
       "    </tr>\n",
       "    <tr>\n",
       "      <th>3</th>\n",
       "      <td>DICE</td>\n",
       "      <td>B_NAIVE</td>\n",
       "      <td>13</td>\n",
       "    </tr>\n",
       "    <tr>\n",
       "      <th>9</th>\n",
       "      <td>DICE</td>\n",
       "      <td>NK_CD16POS</td>\n",
       "      <td>13</td>\n",
       "    </tr>\n",
       "    <tr>\n",
       "      <th>16</th>\n",
       "      <td>DICE</td>\n",
       "      <td>TREG_MEMORY</td>\n",
       "      <td>12</td>\n",
       "    </tr>\n",
       "    <tr>\n",
       "      <th>4</th>\n",
       "      <td>DICE</td>\n",
       "      <td>CD4_NAIVE</td>\n",
       "      <td>11</td>\n",
       "    </tr>\n",
       "    <tr>\n",
       "      <th>14</th>\n",
       "      <td>DICE</td>\n",
       "      <td>TH1</td>\n",
       "      <td>11</td>\n",
       "    </tr>\n",
       "    <tr>\n",
       "      <th>6</th>\n",
       "      <td>DICE</td>\n",
       "      <td>CD8_NAIVE</td>\n",
       "      <td>10</td>\n",
       "    </tr>\n",
       "    <tr>\n",
       "      <th>10</th>\n",
       "      <td>DICE</td>\n",
       "      <td>NONCLASSICAL_MONOCYTES</td>\n",
       "      <td>10</td>\n",
       "    </tr>\n",
       "    <tr>\n",
       "      <th>7</th>\n",
       "      <td>DICE</td>\n",
       "      <td>CD8_N_STIM</td>\n",
       "      <td>9</td>\n",
       "    </tr>\n",
       "    <tr>\n",
       "      <th>11</th>\n",
       "      <td>DICE</td>\n",
       "      <td>TFH</td>\n",
       "      <td>9</td>\n",
       "    </tr>\n",
       "    <tr>\n",
       "      <th>13</th>\n",
       "      <td>DICE</td>\n",
       "      <td>TH17</td>\n",
       "      <td>9</td>\n",
       "    </tr>\n",
       "    <tr>\n",
       "      <th>8</th>\n",
       "      <td>DICE</td>\n",
       "      <td>CLASSICAL_MONOCYTES</td>\n",
       "      <td>8</td>\n",
       "    </tr>\n",
       "    <tr>\n",
       "      <th>15</th>\n",
       "      <td>DICE</td>\n",
       "      <td>TH2</td>\n",
       "      <td>8</td>\n",
       "    </tr>\n",
       "    <tr>\n",
       "      <th>17</th>\n",
       "      <td>DICE</td>\n",
       "      <td>TREG_NAIVE</td>\n",
       "      <td>8</td>\n",
       "    </tr>\n",
       "    <tr>\n",
       "      <th>5</th>\n",
       "      <td>DICE</td>\n",
       "      <td>CD4_N_STIM</td>\n",
       "      <td>7</td>\n",
       "    </tr>\n",
       "    <tr>\n",
       "      <th>12</th>\n",
       "      <td>DICE</td>\n",
       "      <td>TH1-17</td>\n",
       "      <td>6</td>\n",
       "    </tr>\n",
       "  </tbody>\n",
       "</table>\n",
       "</div>"
      ],
      "text/plain": [
       "        study                   cline  num_snps\n",
       "1   BLUEPRINT              Neutrophil        20\n",
       "0   BLUEPRINT                Monocyte        19\n",
       "2   BLUEPRINT                  T-cell        17\n",
       "3        DICE                 B_NAIVE        13\n",
       "9        DICE              NK_CD16POS        13\n",
       "16       DICE             TREG_MEMORY        12\n",
       "4        DICE               CD4_NAIVE        11\n",
       "14       DICE                     TH1        11\n",
       "6        DICE               CD8_NAIVE        10\n",
       "10       DICE  NONCLASSICAL_MONOCYTES        10\n",
       "7        DICE              CD8_N_STIM         9\n",
       "11       DICE                     TFH         9\n",
       "13       DICE                    TH17         9\n",
       "8        DICE     CLASSICAL_MONOCYTES         8\n",
       "15       DICE                     TH2         8\n",
       "17       DICE              TREG_NAIVE         8\n",
       "5        DICE              CD4_N_STIM         7\n",
       "12       DICE                  TH1-17         6"
      ]
     },
     "execution_count": 84,
     "metadata": {},
     "output_type": "execute_result"
    }
   ],
   "source": [
    "df"
   ]
  },
  {
   "cell_type": "code",
   "execution_count": 85,
   "id": "35e97988",
   "metadata": {},
   "outputs": [],
   "source": [
    "fn = os.path.join(outdir, 'description_of_coloc_study.xlsx')\n",
    "df.to_excel(fn, index=False)"
   ]
  },
  {
   "cell_type": "code",
   "execution_count": null,
   "id": "8bd8d23a",
   "metadata": {},
   "outputs": [],
   "source": []
  },
  {
   "cell_type": "code",
   "execution_count": 86,
   "id": "b9f84d13",
   "metadata": {},
   "outputs": [
    {
     "data": {
      "text/html": [
       "<div>\n",
       "<style scoped>\n",
       "    .dataframe tbody tr th:only-of-type {\n",
       "        vertical-align: middle;\n",
       "    }\n",
       "\n",
       "    .dataframe tbody tr th {\n",
       "        vertical-align: top;\n",
       "    }\n",
       "\n",
       "    .dataframe thead th {\n",
       "        text-align: right;\n",
       "    }\n",
       "</style>\n",
       "<table border=\"1\" class=\"dataframe\">\n",
       "  <thead>\n",
       "    <tr style=\"text-align: right;\">\n",
       "      <th></th>\n",
       "      <th>count</th>\n",
       "      <th>mean</th>\n",
       "      <th>std</th>\n",
       "      <th>min</th>\n",
       "      <th>25%</th>\n",
       "      <th>50%</th>\n",
       "      <th>75%</th>\n",
       "      <th>max</th>\n",
       "    </tr>\n",
       "    <tr>\n",
       "      <th>study</th>\n",
       "      <th></th>\n",
       "      <th></th>\n",
       "      <th></th>\n",
       "      <th></th>\n",
       "      <th></th>\n",
       "      <th></th>\n",
       "      <th></th>\n",
       "      <th></th>\n",
       "    </tr>\n",
       "  </thead>\n",
       "  <tbody>\n",
       "    <tr>\n",
       "      <th>BLUEPRINT</th>\n",
       "      <td>3.0</td>\n",
       "      <td>18.666667</td>\n",
       "      <td>1.527525</td>\n",
       "      <td>17.0</td>\n",
       "      <td>18.0</td>\n",
       "      <td>19.0</td>\n",
       "      <td>19.5</td>\n",
       "      <td>20.0</td>\n",
       "    </tr>\n",
       "    <tr>\n",
       "      <th>DICE</th>\n",
       "      <td>15.0</td>\n",
       "      <td>9.600000</td>\n",
       "      <td>2.097618</td>\n",
       "      <td>6.0</td>\n",
       "      <td>8.0</td>\n",
       "      <td>9.0</td>\n",
       "      <td>11.0</td>\n",
       "      <td>13.0</td>\n",
       "    </tr>\n",
       "  </tbody>\n",
       "</table>\n",
       "</div>"
      ],
      "text/plain": [
       "           count       mean       std   min   25%   50%   75%   max\n",
       "study                                                              \n",
       "BLUEPRINT    3.0  18.666667  1.527525  17.0  18.0  19.0  19.5  20.0\n",
       "DICE        15.0   9.600000  2.097618   6.0   8.0   9.0  11.0  13.0"
      ]
     },
     "execution_count": 86,
     "metadata": {},
     "output_type": "execute_result"
    }
   ],
   "source": [
    "df.groupby(['study']).num_snps.describe()"
   ]
  },
  {
   "cell_type": "code",
   "execution_count": null,
   "id": "ae8416d1",
   "metadata": {},
   "outputs": [],
   "source": []
  },
  {
   "cell_type": "code",
   "execution_count": null,
   "id": "6e2efd16",
   "metadata": {},
   "outputs": [],
   "source": []
  },
  {
   "cell_type": "code",
   "execution_count": null,
   "id": "2a4fbbea",
   "metadata": {},
   "outputs": [],
   "source": []
  },
  {
   "cell_type": "code",
   "execution_count": null,
   "id": "baa6b290",
   "metadata": {},
   "outputs": [],
   "source": []
  },
  {
   "cell_type": "code",
   "execution_count": null,
   "id": "882066f3",
   "metadata": {},
   "outputs": [],
   "source": []
  },
  {
   "cell_type": "code",
   "execution_count": null,
   "id": "1a8f6383",
   "metadata": {},
   "outputs": [],
   "source": []
  },
  {
   "cell_type": "code",
   "execution_count": null,
   "id": "240a7327",
   "metadata": {},
   "outputs": [],
   "source": []
  },
  {
   "cell_type": "code",
   "execution_count": null,
   "id": "fd549df4",
   "metadata": {},
   "outputs": [],
   "source": []
  }
 ],
 "metadata": {
  "kernelspec": {
   "display_name": "HiC",
   "language": "python",
   "name": "hic_tls"
  },
  "language_info": {
   "codemirror_mode": {
    "name": "ipython",
    "version": 3
   },
   "file_extension": ".py",
   "mimetype": "text/x-python",
   "name": "python",
   "nbconvert_exporter": "python",
   "pygments_lexer": "ipython3",
   "version": "3.6.7"
  }
 },
 "nbformat": 4,
 "nbformat_minor": 5
}
