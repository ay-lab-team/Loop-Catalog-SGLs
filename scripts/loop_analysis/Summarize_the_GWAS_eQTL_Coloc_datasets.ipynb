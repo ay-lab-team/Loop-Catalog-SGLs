{
 "cells": [
  {
   "cell_type": "code",
   "execution_count": 86,
   "id": "2997e421",
   "metadata": {},
   "outputs": [],
   "source": [
    "import os \n",
    "import pandas as pd \n",
    "import glob\n",
    "import json\n",
    "os.chdir(\"/mnt/BioHome/jreyna/jreyna/projects/dchallenge/\")\n",
    "outdir = 'results/main/basic_stats/'\n",
    "os.makedirsrs(outdir, exist_ok=True)"
   ]
  },
  {
   "cell_type": "markdown",
   "id": "9c34c4da",
   "metadata": {},
   "source": [
    "## Summarize GWAS"
   ]
  },
  {
   "cell_type": "code",
   "execution_count": 87,
   "id": "53da8e70",
   "metadata": {},
   "outputs": [],
   "source": [
    "gwas_fn = 'results/main/2021_Nikhil_eQTL/Data/T1D_GWAS/T1D_34012112_Gaulton/GWAS_input_colocalization_pval_lt_5eMinus8.txt'\n",
    "gwas = pd.read_table(gwas_fn)"
   ]
  },
  {
   "cell_type": "code",
   "execution_count": 88,
   "id": "7dc64bde",
   "metadata": {},
   "outputs": [
    {
     "data": {
      "text/html": [
       "<div>\n",
       "<style scoped>\n",
       "    .dataframe tbody tr th:only-of-type {\n",
       "        vertical-align: middle;\n",
       "    }\n",
       "\n",
       "    .dataframe tbody tr th {\n",
       "        vertical-align: top;\n",
       "    }\n",
       "\n",
       "    .dataframe thead th {\n",
       "        text-align: right;\n",
       "    }\n",
       "</style>\n",
       "<table border=\"1\" class=\"dataframe\">\n",
       "  <thead>\n",
       "    <tr style=\"text-align: right;\">\n",
       "      <th></th>\n",
       "      <th>CHR</th>\n",
       "      <th>POS</th>\n",
       "      <th>BETA</th>\n",
       "      <th>SE</th>\n",
       "      <th>P</th>\n",
       "      <th>N</th>\n",
       "    </tr>\n",
       "  </thead>\n",
       "  <tbody>\n",
       "    <tr>\n",
       "      <th>0</th>\n",
       "      <td>chr1</td>\n",
       "      <td>25293941</td>\n",
       "      <td>0.076575</td>\n",
       "      <td>0.013960</td>\n",
       "      <td>4.13e-08</td>\n",
       "      <td>520580</td>\n",
       "    </tr>\n",
       "    <tr>\n",
       "      <th>1</th>\n",
       "      <td>chr1</td>\n",
       "      <td>25294607</td>\n",
       "      <td>0.077268</td>\n",
       "      <td>0.014040</td>\n",
       "      <td>3.73e-08</td>\n",
       "      <td>520580</td>\n",
       "    </tr>\n",
       "    <tr>\n",
       "      <th>2</th>\n",
       "      <td>chr1</td>\n",
       "      <td>25294878</td>\n",
       "      <td>0.076429</td>\n",
       "      <td>0.013922</td>\n",
       "      <td>4.03e-08</td>\n",
       "      <td>520580</td>\n",
       "    </tr>\n",
       "    <tr>\n",
       "      <th>3</th>\n",
       "      <td>chr1</td>\n",
       "      <td>25295580</td>\n",
       "      <td>0.076999</td>\n",
       "      <td>0.013951</td>\n",
       "      <td>3.40e-08</td>\n",
       "      <td>520580</td>\n",
       "    </tr>\n",
       "    <tr>\n",
       "      <th>4</th>\n",
       "      <td>chr1</td>\n",
       "      <td>25296478</td>\n",
       "      <td>0.077267</td>\n",
       "      <td>0.014047</td>\n",
       "      <td>3.78e-08</td>\n",
       "      <td>520580</td>\n",
       "    </tr>\n",
       "  </tbody>\n",
       "</table>\n",
       "</div>"
      ],
      "text/plain": [
       "    CHR       POS      BETA        SE         P       N\n",
       "0  chr1  25293941  0.076575  0.013960  4.13e-08  520580\n",
       "1  chr1  25294607  0.077268  0.014040  3.73e-08  520580\n",
       "2  chr1  25294878  0.076429  0.013922  4.03e-08  520580\n",
       "3  chr1  25295580  0.076999  0.013951  3.40e-08  520580\n",
       "4  chr1  25296478  0.077267  0.014047  3.78e-08  520580"
      ]
     },
     "execution_count": 88,
     "metadata": {},
     "output_type": "execute_result"
    }
   ],
   "source": [
    "gwas.head()"
   ]
  },
  {
   "cell_type": "code",
   "execution_count": 89,
   "id": "0c25b3f8",
   "metadata": {},
   "outputs": [
    {
     "name": "stdout",
     "output_type": "stream",
     "text": [
      "The GWAS has 45994 snps.\n"
     ]
    }
   ],
   "source": [
    "print('The GWAS has {} snps.'.format(gwas.shape[0]))"
   ]
  },
  {
   "cell_type": "code",
   "execution_count": 90,
   "id": "e25f7ccf",
   "metadata": {},
   "outputs": [],
   "source": [
    "fn = os.path.join(outdir, 'chiou_et_al.num_gwas_snps.txt')\n",
    "with open(fn, 'w') as f:\n",
    "    f.write(str(gwas.shape[0]))"
   ]
  },
  {
   "cell_type": "markdown",
   "id": "f718c812",
   "metadata": {},
   "source": [
    "## Summarize eQTLs"
   ]
  },
  {
   "cell_type": "code",
   "execution_count": 61,
   "id": "cbb0b5ef",
   "metadata": {},
   "outputs": [],
   "source": [
    "eqtl_fn1 = 'results/main/2021_Nikhil_eQTL/Data/eqtl_sqtl_summ_stats/BLUEPRINT_eQTL/*.txt.gz'\n",
    "eqtl_fn1 = glob.glob(eqtl_fn1)\n",
    "eqtl_fn2 = 'results/main/2021_Nikhil_eQTL/Data/eqtl_sqtl_summ_stats/DICE_eQTL//*.txt.gz'\n",
    "eqtl_fn2 = glob.glob(eqtl_fn2)\n",
    "eqtl_fns = eqtl_fn1 + eqtl_fn2"
   ]
  },
  {
   "cell_type": "code",
   "execution_count": 62,
   "id": "1b343c2b",
   "metadata": {},
   "outputs": [],
   "source": [
    "eqtl_data = []\n",
    "for fn in eqtl_fns:\n",
    "    df = pd.read_table(fn)\n",
    "\n",
    "    study = fn.split('/')[5].replace('_eQTL', '')\n",
    "    cline = fn.split('/')[6].split('.')[0]\n",
    "    \n",
    "    df['study'] = study\n",
    "    df['cline'] = cline \n",
    "    \n",
    "    eqtl_data.append(df)\n"
   ]
  },
  {
   "cell_type": "code",
   "execution_count": 63,
   "id": "79397e5e",
   "metadata": {},
   "outputs": [],
   "source": [
    "eqtl_data = pd.concat(eqtl_data)"
   ]
  },
  {
   "cell_type": "code",
   "execution_count": 139,
   "id": "38693644",
   "metadata": {},
   "outputs": [
    {
     "data": {
      "text/html": [
       "<div>\n",
       "<style scoped>\n",
       "    .dataframe tbody tr th:only-of-type {\n",
       "        vertical-align: middle;\n",
       "    }\n",
       "\n",
       "    .dataframe tbody tr th {\n",
       "        vertical-align: top;\n",
       "    }\n",
       "\n",
       "    .dataframe thead th {\n",
       "        text-align: right;\n",
       "    }\n",
       "</style>\n",
       "<table border=\"1\" class=\"dataframe\">\n",
       "  <thead>\n",
       "    <tr style=\"text-align: right;\">\n",
       "      <th></th>\n",
       "      <th>pid</th>\n",
       "      <th>nvar</th>\n",
       "      <th>shape1</th>\n",
       "      <th>shape2</th>\n",
       "      <th>dummy</th>\n",
       "      <th>sid</th>\n",
       "      <th>dist</th>\n",
       "      <th>npval</th>\n",
       "      <th>slope</th>\n",
       "      <th>ppval</th>\n",
       "      <th>bpval</th>\n",
       "      <th>qval</th>\n",
       "      <th>study</th>\n",
       "      <th>cline</th>\n",
       "    </tr>\n",
       "  </thead>\n",
       "  <tbody>\n",
       "    <tr>\n",
       "      <th>0</th>\n",
       "      <td>RP11-809C18.3</td>\n",
       "      <td>3958</td>\n",
       "      <td>1.04397</td>\n",
       "      <td>193.339</td>\n",
       "      <td>143.536</td>\n",
       "      <td>10:1116997</td>\n",
       "      <td>442418</td>\n",
       "      <td>6.050140e-06</td>\n",
       "      <td>0.437403</td>\n",
       "      <td>0.003996</td>\n",
       "      <td>7.116960e-03</td>\n",
       "      <td>3.315073e-02</td>\n",
       "      <td>BLUEPRINT</td>\n",
       "      <td>Neutrophil</td>\n",
       "    </tr>\n",
       "    <tr>\n",
       "      <th>1</th>\n",
       "      <td>WDR37</td>\n",
       "      <td>5379</td>\n",
       "      <td>1.09896</td>\n",
       "      <td>341.843</td>\n",
       "      <td>148.721</td>\n",
       "      <td>10:1108544</td>\n",
       "      <td>13065</td>\n",
       "      <td>1.099870e-07</td>\n",
       "      <td>0.482763</td>\n",
       "      <td>0.000999</td>\n",
       "      <td>1.715620e-04</td>\n",
       "      <td>1.220888e-03</td>\n",
       "      <td>BLUEPRINT</td>\n",
       "      <td>Neutrophil</td>\n",
       "    </tr>\n",
       "    <tr>\n",
       "      <th>2</th>\n",
       "      <td>ADARB2</td>\n",
       "      <td>5693</td>\n",
       "      <td>1.02652</td>\n",
       "      <td>381.476</td>\n",
       "      <td>150.294</td>\n",
       "      <td>10:1282530</td>\n",
       "      <td>54456</td>\n",
       "      <td>1.555440e-33</td>\n",
       "      <td>1.067640</td>\n",
       "      <td>0.000999</td>\n",
       "      <td>8.202270e-27</td>\n",
       "      <td>5.319393e-25</td>\n",
       "      <td>BLUEPRINT</td>\n",
       "      <td>Neutrophil</td>\n",
       "    </tr>\n",
       "    <tr>\n",
       "      <th>3</th>\n",
       "      <td>RP11-482E14.1</td>\n",
       "      <td>6377</td>\n",
       "      <td>1.03604</td>\n",
       "      <td>509.748</td>\n",
       "      <td>155.394</td>\n",
       "      <td>10:3507739</td>\n",
       "      <td>-21348</td>\n",
       "      <td>3.410100e-07</td>\n",
       "      <td>0.700451</td>\n",
       "      <td>0.000999</td>\n",
       "      <td>6.935080e-04</td>\n",
       "      <td>4.405235e-03</td>\n",
       "      <td>BLUEPRINT</td>\n",
       "      <td>Neutrophil</td>\n",
       "    </tr>\n",
       "    <tr>\n",
       "      <th>4</th>\n",
       "      <td>RP11-433J20.2</td>\n",
       "      <td>6735</td>\n",
       "      <td>1.12300</td>\n",
       "      <td>432.924</td>\n",
       "      <td>145.437</td>\n",
       "      <td>10:4392931</td>\n",
       "      <td>325798</td>\n",
       "      <td>3.399140e-06</td>\n",
       "      <td>-0.208851</td>\n",
       "      <td>0.004995</td>\n",
       "      <td>5.987540e-03</td>\n",
       "      <td>2.878668e-02</td>\n",
       "      <td>BLUEPRINT</td>\n",
       "      <td>Neutrophil</td>\n",
       "    </tr>\n",
       "  </tbody>\n",
       "</table>\n",
       "</div>"
      ],
      "text/plain": [
       "             pid  nvar   shape1   shape2    dummy         sid    dist  \\\n",
       "0  RP11-809C18.3  3958  1.04397  193.339  143.536  10:1116997  442418   \n",
       "1          WDR37  5379  1.09896  341.843  148.721  10:1108544   13065   \n",
       "2         ADARB2  5693  1.02652  381.476  150.294  10:1282530   54456   \n",
       "3  RP11-482E14.1  6377  1.03604  509.748  155.394  10:3507739  -21348   \n",
       "4  RP11-433J20.2  6735  1.12300  432.924  145.437  10:4392931  325798   \n",
       "\n",
       "          npval     slope     ppval         bpval          qval      study  \\\n",
       "0  6.050140e-06  0.437403  0.003996  7.116960e-03  3.315073e-02  BLUEPRINT   \n",
       "1  1.099870e-07  0.482763  0.000999  1.715620e-04  1.220888e-03  BLUEPRINT   \n",
       "2  1.555440e-33  1.067640  0.000999  8.202270e-27  5.319393e-25  BLUEPRINT   \n",
       "3  3.410100e-07  0.700451  0.000999  6.935080e-04  4.405235e-03  BLUEPRINT   \n",
       "4  3.399140e-06 -0.208851  0.004995  5.987540e-03  2.878668e-02  BLUEPRINT   \n",
       "\n",
       "        cline  \n",
       "0  Neutrophil  \n",
       "1  Neutrophil  \n",
       "2  Neutrophil  \n",
       "3  Neutrophil  \n",
       "4  Neutrophil  "
      ]
     },
     "execution_count": 139,
     "metadata": {},
     "output_type": "execute_result"
    }
   ],
   "source": [
    "eqtl_data.head()"
   ]
  },
  {
   "cell_type": "code",
   "execution_count": 141,
   "id": "30220416",
   "metadata": {},
   "outputs": [],
   "source": [
    "eqtl_summary = eqtl_data.groupby(['study', 'cline'])"
   ]
  },
  {
   "cell_type": "markdown",
   "id": "04a91215",
   "metadata": {},
   "source": [
    "#### Total number of eQTL's (SNP-gene pairs)"
   ]
  },
  {
   "cell_type": "code",
   "execution_count": 166,
   "id": "30645056",
   "metadata": {},
   "outputs": [
    {
     "data": {
      "text/html": [
       "<div>\n",
       "<style scoped>\n",
       "    .dataframe tbody tr th:only-of-type {\n",
       "        vertical-align: middle;\n",
       "    }\n",
       "\n",
       "    .dataframe tbody tr th {\n",
       "        vertical-align: top;\n",
       "    }\n",
       "\n",
       "    .dataframe thead th {\n",
       "        text-align: right;\n",
       "    }\n",
       "</style>\n",
       "<table border=\"1\" class=\"dataframe\">\n",
       "  <thead>\n",
       "    <tr style=\"text-align: right;\">\n",
       "      <th></th>\n",
       "      <th>study</th>\n",
       "      <th>cline</th>\n",
       "      <th>sid</th>\n",
       "    </tr>\n",
       "  </thead>\n",
       "  <tbody>\n",
       "    <tr>\n",
       "      <th>0</th>\n",
       "      <td>BLUEPRINT</td>\n",
       "      <td>Monocyte</td>\n",
       "      <td>7716</td>\n",
       "    </tr>\n",
       "    <tr>\n",
       "      <th>2</th>\n",
       "      <td>BLUEPRINT</td>\n",
       "      <td>T-cell</td>\n",
       "      <td>7211</td>\n",
       "    </tr>\n",
       "    <tr>\n",
       "      <th>1</th>\n",
       "      <td>BLUEPRINT</td>\n",
       "      <td>Neutrophil</td>\n",
       "      <td>6399</td>\n",
       "    </tr>\n",
       "    <tr>\n",
       "      <th>14</th>\n",
       "      <td>DICE</td>\n",
       "      <td>TH17</td>\n",
       "      <td>2520</td>\n",
       "    </tr>\n",
       "    <tr>\n",
       "      <th>4</th>\n",
       "      <td>DICE</td>\n",
       "      <td>CD4_NAIVE</td>\n",
       "      <td>2504</td>\n",
       "    </tr>\n",
       "  </tbody>\n",
       "</table>\n",
       "</div>"
      ],
      "text/plain": [
       "        study       cline   sid\n",
       "0   BLUEPRINT    Monocyte  7716\n",
       "2   BLUEPRINT      T-cell  7211\n",
       "1   BLUEPRINT  Neutrophil  6399\n",
       "14       DICE        TH17  2520\n",
       "4        DICE   CD4_NAIVE  2504"
      ]
     },
     "execution_count": 166,
     "metadata": {},
     "output_type": "execute_result"
    }
   ],
   "source": [
    "total_eqtls = eqtl_summary.sid.apply(len).reset_index()\n",
    "total_eqtls.sort_values(['sid', 'study', 'cline'], ascending=[False, True, True], inplace=True)\n",
    "total_eqtls.head()"
   ]
  },
  {
   "cell_type": "code",
   "execution_count": 167,
   "id": "08b7d797",
   "metadata": {},
   "outputs": [
    {
     "data": {
      "text/html": [
       "<div>\n",
       "<style scoped>\n",
       "    .dataframe tbody tr th:only-of-type {\n",
       "        vertical-align: middle;\n",
       "    }\n",
       "\n",
       "    .dataframe tbody tr th {\n",
       "        vertical-align: top;\n",
       "    }\n",
       "\n",
       "    .dataframe thead tr th {\n",
       "        text-align: left;\n",
       "    }\n",
       "\n",
       "    .dataframe thead tr:last-of-type th {\n",
       "        text-align: right;\n",
       "    }\n",
       "</style>\n",
       "<table border=\"1\" class=\"dataframe\">\n",
       "  <thead>\n",
       "    <tr>\n",
       "      <th></th>\n",
       "      <th colspan=\"8\" halign=\"left\">sid</th>\n",
       "    </tr>\n",
       "    <tr>\n",
       "      <th></th>\n",
       "      <th>count</th>\n",
       "      <th>mean</th>\n",
       "      <th>std</th>\n",
       "      <th>min</th>\n",
       "      <th>25%</th>\n",
       "      <th>50%</th>\n",
       "      <th>75%</th>\n",
       "      <th>max</th>\n",
       "    </tr>\n",
       "    <tr>\n",
       "      <th>study</th>\n",
       "      <th></th>\n",
       "      <th></th>\n",
       "      <th></th>\n",
       "      <th></th>\n",
       "      <th></th>\n",
       "      <th></th>\n",
       "      <th></th>\n",
       "      <th></th>\n",
       "    </tr>\n",
       "  </thead>\n",
       "  <tbody>\n",
       "    <tr>\n",
       "      <th>BLUEPRINT</th>\n",
       "      <td>3.0</td>\n",
       "      <td>7108.666667</td>\n",
       "      <td>664.436854</td>\n",
       "      <td>6399.0</td>\n",
       "      <td>6805.0</td>\n",
       "      <td>7211.0</td>\n",
       "      <td>7463.5</td>\n",
       "      <td>7716.0</td>\n",
       "    </tr>\n",
       "    <tr>\n",
       "      <th>DICE</th>\n",
       "      <td>15.0</td>\n",
       "      <td>2114.866667</td>\n",
       "      <td>220.824386</td>\n",
       "      <td>1826.0</td>\n",
       "      <td>1936.5</td>\n",
       "      <td>2104.0</td>\n",
       "      <td>2219.5</td>\n",
       "      <td>2520.0</td>\n",
       "    </tr>\n",
       "  </tbody>\n",
       "</table>\n",
       "</div>"
      ],
      "text/plain": [
       "            sid                                                           \\\n",
       "          count         mean         std     min     25%     50%     75%   \n",
       "study                                                                      \n",
       "BLUEPRINT   3.0  7108.666667  664.436854  6399.0  6805.0  7211.0  7463.5   \n",
       "DICE       15.0  2114.866667  220.824386  1826.0  1936.5  2104.0  2219.5   \n",
       "\n",
       "                   \n",
       "              max  \n",
       "study              \n",
       "BLUEPRINT  7716.0  \n",
       "DICE       2520.0  "
      ]
     },
     "execution_count": 167,
     "metadata": {},
     "output_type": "execute_result"
    }
   ],
   "source": [
    "total_eqtls.groupby('study').describe()"
   ]
  },
  {
   "cell_type": "markdown",
   "id": "d6b94483",
   "metadata": {},
   "source": [
    "#### Total number of unique SNPs per study + cell line"
   ]
  },
  {
   "cell_type": "code",
   "execution_count": 168,
   "id": "86ce91fc",
   "metadata": {},
   "outputs": [],
   "source": [
    "uniq_snps = eqtl_summary.sid.nunique().reset_index()\n",
    "uniq_snps.sort_values(['sid', 'study', 'cline'], ascending=[False, True, True], inplace=True)"
   ]
  },
  {
   "cell_type": "code",
   "execution_count": 169,
   "id": "47fd8105",
   "metadata": {},
   "outputs": [
    {
     "data": {
      "text/html": [
       "<div>\n",
       "<style scoped>\n",
       "    .dataframe tbody tr th:only-of-type {\n",
       "        vertical-align: middle;\n",
       "    }\n",
       "\n",
       "    .dataframe tbody tr th {\n",
       "        vertical-align: top;\n",
       "    }\n",
       "\n",
       "    .dataframe thead tr th {\n",
       "        text-align: left;\n",
       "    }\n",
       "\n",
       "    .dataframe thead tr:last-of-type th {\n",
       "        text-align: right;\n",
       "    }\n",
       "</style>\n",
       "<table border=\"1\" class=\"dataframe\">\n",
       "  <thead>\n",
       "    <tr>\n",
       "      <th></th>\n",
       "      <th colspan=\"8\" halign=\"left\">sid</th>\n",
       "    </tr>\n",
       "    <tr>\n",
       "      <th></th>\n",
       "      <th>count</th>\n",
       "      <th>mean</th>\n",
       "      <th>std</th>\n",
       "      <th>min</th>\n",
       "      <th>25%</th>\n",
       "      <th>50%</th>\n",
       "      <th>75%</th>\n",
       "      <th>max</th>\n",
       "    </tr>\n",
       "    <tr>\n",
       "      <th>study</th>\n",
       "      <th></th>\n",
       "      <th></th>\n",
       "      <th></th>\n",
       "      <th></th>\n",
       "      <th></th>\n",
       "      <th></th>\n",
       "      <th></th>\n",
       "      <th></th>\n",
       "    </tr>\n",
       "  </thead>\n",
       "  <tbody>\n",
       "    <tr>\n",
       "      <th>BLUEPRINT</th>\n",
       "      <td>3.0</td>\n",
       "      <td>6547.666667</td>\n",
       "      <td>755.469611</td>\n",
       "      <td>5696.0</td>\n",
       "      <td>6253.0</td>\n",
       "      <td>6810.0</td>\n",
       "      <td>6973.5</td>\n",
       "      <td>7137.0</td>\n",
       "    </tr>\n",
       "    <tr>\n",
       "      <th>DICE</th>\n",
       "      <td>15.0</td>\n",
       "      <td>2040.266667</td>\n",
       "      <td>225.787026</td>\n",
       "      <td>1749.0</td>\n",
       "      <td>1867.0</td>\n",
       "      <td>2010.0</td>\n",
       "      <td>2147.5</td>\n",
       "      <td>2453.0</td>\n",
       "    </tr>\n",
       "  </tbody>\n",
       "</table>\n",
       "</div>"
      ],
      "text/plain": [
       "            sid                                                           \\\n",
       "          count         mean         std     min     25%     50%     75%   \n",
       "study                                                                      \n",
       "BLUEPRINT   3.0  6547.666667  755.469611  5696.0  6253.0  6810.0  6973.5   \n",
       "DICE       15.0  2040.266667  225.787026  1749.0  1867.0  2010.0  2147.5   \n",
       "\n",
       "                   \n",
       "              max  \n",
       "study              \n",
       "BLUEPRINT  7137.0  \n",
       "DICE       2453.0  "
      ]
     },
     "execution_count": 169,
     "metadata": {},
     "output_type": "execute_result"
    }
   ],
   "source": [
    "uniq_snps.groupby('study').describe()"
   ]
  },
  {
   "cell_type": "markdown",
   "id": "ccd5a0ae",
   "metadata": {},
   "source": [
    "#### Total number of unique eGenes per study + cell line"
   ]
  },
  {
   "cell_type": "code",
   "execution_count": 170,
   "id": "f55bc0fd",
   "metadata": {},
   "outputs": [],
   "source": [
    "uniq_egenes = eqtl_summary.pid.nunique().reset_index()\n",
    "uniq_egenes.sort_values(['pid', 'study', 'cline'], ascending=[False, True, True], inplace=True)"
   ]
  },
  {
   "cell_type": "code",
   "execution_count": 171,
   "id": "92a84207",
   "metadata": {},
   "outputs": [
    {
     "data": {
      "text/html": [
       "<div>\n",
       "<style scoped>\n",
       "    .dataframe tbody tr th:only-of-type {\n",
       "        vertical-align: middle;\n",
       "    }\n",
       "\n",
       "    .dataframe tbody tr th {\n",
       "        vertical-align: top;\n",
       "    }\n",
       "\n",
       "    .dataframe thead tr th {\n",
       "        text-align: left;\n",
       "    }\n",
       "\n",
       "    .dataframe thead tr:last-of-type th {\n",
       "        text-align: right;\n",
       "    }\n",
       "</style>\n",
       "<table border=\"1\" class=\"dataframe\">\n",
       "  <thead>\n",
       "    <tr>\n",
       "      <th></th>\n",
       "      <th colspan=\"8\" halign=\"left\">pid</th>\n",
       "    </tr>\n",
       "    <tr>\n",
       "      <th></th>\n",
       "      <th>count</th>\n",
       "      <th>mean</th>\n",
       "      <th>std</th>\n",
       "      <th>min</th>\n",
       "      <th>25%</th>\n",
       "      <th>50%</th>\n",
       "      <th>75%</th>\n",
       "      <th>max</th>\n",
       "    </tr>\n",
       "    <tr>\n",
       "      <th>study</th>\n",
       "      <th></th>\n",
       "      <th></th>\n",
       "      <th></th>\n",
       "      <th></th>\n",
       "      <th></th>\n",
       "      <th></th>\n",
       "      <th></th>\n",
       "      <th></th>\n",
       "    </tr>\n",
       "  </thead>\n",
       "  <tbody>\n",
       "    <tr>\n",
       "      <th>BLUEPRINT</th>\n",
       "      <td>3.0</td>\n",
       "      <td>7108.666667</td>\n",
       "      <td>664.436854</td>\n",
       "      <td>6399.0</td>\n",
       "      <td>6805.0</td>\n",
       "      <td>7211.0</td>\n",
       "      <td>7463.5</td>\n",
       "      <td>7716.0</td>\n",
       "    </tr>\n",
       "    <tr>\n",
       "      <th>DICE</th>\n",
       "      <td>15.0</td>\n",
       "      <td>2114.866667</td>\n",
       "      <td>220.824386</td>\n",
       "      <td>1826.0</td>\n",
       "      <td>1936.5</td>\n",
       "      <td>2104.0</td>\n",
       "      <td>2219.5</td>\n",
       "      <td>2520.0</td>\n",
       "    </tr>\n",
       "  </tbody>\n",
       "</table>\n",
       "</div>"
      ],
      "text/plain": [
       "            pid                                                           \\\n",
       "          count         mean         std     min     25%     50%     75%   \n",
       "study                                                                      \n",
       "BLUEPRINT   3.0  7108.666667  664.436854  6399.0  6805.0  7211.0  7463.5   \n",
       "DICE       15.0  2114.866667  220.824386  1826.0  1936.5  2104.0  2219.5   \n",
       "\n",
       "                   \n",
       "              max  \n",
       "study              \n",
       "BLUEPRINT  7716.0  \n",
       "DICE       2520.0  "
      ]
     },
     "execution_count": 171,
     "metadata": {},
     "output_type": "execute_result"
    }
   ],
   "source": [
    "uniq_egenes.groupby('study').describe()"
   ]
  },
  {
   "cell_type": "markdown",
   "id": "08406ed9",
   "metadata": {},
   "source": [
    "#### Making a master"
   ]
  },
  {
   "cell_type": "code",
   "execution_count": 172,
   "id": "0203ea63",
   "metadata": {},
   "outputs": [],
   "source": [
    "master_eqtl_table = pd.merge(total_eqtls, uniq_snps, on=['study', 'cline'])\n",
    "master_eqtl_table = pd.merge(master_eqtl_table, uniq_egenes, on=['study', 'cline'])"
   ]
  },
  {
   "cell_type": "code",
   "execution_count": 173,
   "id": "edb3651b",
   "metadata": {},
   "outputs": [
    {
     "data": {
      "text/html": [
       "<div>\n",
       "<style scoped>\n",
       "    .dataframe tbody tr th:only-of-type {\n",
       "        vertical-align: middle;\n",
       "    }\n",
       "\n",
       "    .dataframe tbody tr th {\n",
       "        vertical-align: top;\n",
       "    }\n",
       "\n",
       "    .dataframe thead th {\n",
       "        text-align: right;\n",
       "    }\n",
       "</style>\n",
       "<table border=\"1\" class=\"dataframe\">\n",
       "  <thead>\n",
       "    <tr style=\"text-align: right;\">\n",
       "      <th></th>\n",
       "      <th>study</th>\n",
       "      <th>cline</th>\n",
       "      <th>sid_x</th>\n",
       "      <th>sid_y</th>\n",
       "      <th>pid</th>\n",
       "    </tr>\n",
       "  </thead>\n",
       "  <tbody>\n",
       "    <tr>\n",
       "      <th>0</th>\n",
       "      <td>BLUEPRINT</td>\n",
       "      <td>Monocyte</td>\n",
       "      <td>7716</td>\n",
       "      <td>7137</td>\n",
       "      <td>7716</td>\n",
       "    </tr>\n",
       "    <tr>\n",
       "      <th>1</th>\n",
       "      <td>BLUEPRINT</td>\n",
       "      <td>T-cell</td>\n",
       "      <td>7211</td>\n",
       "      <td>6810</td>\n",
       "      <td>7211</td>\n",
       "    </tr>\n",
       "    <tr>\n",
       "      <th>2</th>\n",
       "      <td>BLUEPRINT</td>\n",
       "      <td>Neutrophil</td>\n",
       "      <td>6399</td>\n",
       "      <td>5696</td>\n",
       "      <td>6399</td>\n",
       "    </tr>\n",
       "    <tr>\n",
       "      <th>3</th>\n",
       "      <td>DICE</td>\n",
       "      <td>TH17</td>\n",
       "      <td>2520</td>\n",
       "      <td>2453</td>\n",
       "      <td>2520</td>\n",
       "    </tr>\n",
       "    <tr>\n",
       "      <th>4</th>\n",
       "      <td>DICE</td>\n",
       "      <td>CD4_NAIVE</td>\n",
       "      <td>2504</td>\n",
       "      <td>2434</td>\n",
       "      <td>2504</td>\n",
       "    </tr>\n",
       "  </tbody>\n",
       "</table>\n",
       "</div>"
      ],
      "text/plain": [
       "       study       cline  sid_x  sid_y   pid\n",
       "0  BLUEPRINT    Monocyte   7716   7137  7716\n",
       "1  BLUEPRINT      T-cell   7211   6810  7211\n",
       "2  BLUEPRINT  Neutrophil   6399   5696  6399\n",
       "3       DICE        TH17   2520   2453  2520\n",
       "4       DICE   CD4_NAIVE   2504   2434  2504"
      ]
     },
     "execution_count": 173,
     "metadata": {},
     "output_type": "execute_result"
    }
   ],
   "source": [
    "master_eqtl_table.head()"
   ]
  },
  {
   "cell_type": "code",
   "execution_count": 174,
   "id": "9710f016",
   "metadata": {},
   "outputs": [],
   "source": [
    "master_eqtl_table.columns = ['Study', 'Cell Line', 'Number of eQTLs', 'Number of Unique SNPs', 'Number of Unique eGenes']"
   ]
  },
  {
   "cell_type": "code",
   "execution_count": 175,
   "id": "01b0204b",
   "metadata": {},
   "outputs": [
    {
     "data": {
      "text/html": [
       "<div>\n",
       "<style scoped>\n",
       "    .dataframe tbody tr th:only-of-type {\n",
       "        vertical-align: middle;\n",
       "    }\n",
       "\n",
       "    .dataframe tbody tr th {\n",
       "        vertical-align: top;\n",
       "    }\n",
       "\n",
       "    .dataframe thead th {\n",
       "        text-align: right;\n",
       "    }\n",
       "</style>\n",
       "<table border=\"1\" class=\"dataframe\">\n",
       "  <thead>\n",
       "    <tr style=\"text-align: right;\">\n",
       "      <th></th>\n",
       "      <th>Study</th>\n",
       "      <th>Cell Line</th>\n",
       "      <th>Number of eQTLs</th>\n",
       "      <th>Number of Unique SNPs</th>\n",
       "      <th>Number of Unique eGenes</th>\n",
       "    </tr>\n",
       "  </thead>\n",
       "  <tbody>\n",
       "    <tr>\n",
       "      <th>0</th>\n",
       "      <td>BLUEPRINT</td>\n",
       "      <td>Monocyte</td>\n",
       "      <td>7716</td>\n",
       "      <td>7137</td>\n",
       "      <td>7716</td>\n",
       "    </tr>\n",
       "    <tr>\n",
       "      <th>1</th>\n",
       "      <td>BLUEPRINT</td>\n",
       "      <td>T-cell</td>\n",
       "      <td>7211</td>\n",
       "      <td>6810</td>\n",
       "      <td>7211</td>\n",
       "    </tr>\n",
       "    <tr>\n",
       "      <th>2</th>\n",
       "      <td>BLUEPRINT</td>\n",
       "      <td>Neutrophil</td>\n",
       "      <td>6399</td>\n",
       "      <td>5696</td>\n",
       "      <td>6399</td>\n",
       "    </tr>\n",
       "    <tr>\n",
       "      <th>3</th>\n",
       "      <td>DICE</td>\n",
       "      <td>TH17</td>\n",
       "      <td>2520</td>\n",
       "      <td>2453</td>\n",
       "      <td>2520</td>\n",
       "    </tr>\n",
       "    <tr>\n",
       "      <th>4</th>\n",
       "      <td>DICE</td>\n",
       "      <td>CD4_NAIVE</td>\n",
       "      <td>2504</td>\n",
       "      <td>2434</td>\n",
       "      <td>2504</td>\n",
       "    </tr>\n",
       "  </tbody>\n",
       "</table>\n",
       "</div>"
      ],
      "text/plain": [
       "       Study   Cell Line  Number of eQTLs  Number of Unique SNPs  \\\n",
       "0  BLUEPRINT    Monocyte             7716                   7137   \n",
       "1  BLUEPRINT      T-cell             7211                   6810   \n",
       "2  BLUEPRINT  Neutrophil             6399                   5696   \n",
       "3       DICE        TH17             2520                   2453   \n",
       "4       DICE   CD4_NAIVE             2504                   2434   \n",
       "\n",
       "   Number of Unique eGenes  \n",
       "0                     7716  \n",
       "1                     7211  \n",
       "2                     6399  \n",
       "3                     2520  \n",
       "4                     2504  "
      ]
     },
     "execution_count": 175,
     "metadata": {},
     "output_type": "execute_result"
    }
   ],
   "source": [
    "master_eqtl_table.head()"
   ]
  },
  {
   "cell_type": "code",
   "execution_count": 189,
   "id": "507d0507",
   "metadata": {},
   "outputs": [],
   "source": [
    "fn = os.path.join(outdir, 'description_of_eqtl_study.xlsx')\n",
    "master_eqtl_table.to_excel(fn, index=False)"
   ]
  },
  {
   "cell_type": "markdown",
   "id": "d41fcb8b",
   "metadata": {},
   "source": [
    "## Summarize colocalized SNPs"
   ]
  },
  {
   "cell_type": "code",
   "execution_count": 177,
   "id": "e908c333",
   "metadata": {},
   "outputs": [],
   "source": [
    "# loading and concat all the data\n",
    "data = []\n",
    "for fn in glob.glob('results/main/loop_analysis/Coloc_Approach/T1D_34012112_Gaulton/*/*/*/master.tsv'):\n",
    "    \n",
    "    dice_cline = fn.split('/')[5]\n",
    "    study = fn.split('/')[6]\n",
    "    eqtl_cline = fn.split('/')[7]\n",
    "    \n",
    "    df = pd.read_table(fn, header=0)\n",
    "    df['dice_cline'] = dice_cline\n",
    "    df['eqtl_cline'] = eqtl_cline\n",
    "    df['study'] = study\n",
    "    data.append(df)\n",
    "    \n",
    "data = pd.concat(data)\n",
    "data.rename(columns={'5kb_gname': 'fivekb_gname'}, inplace=True)"
   ]
  },
  {
   "cell_type": "code",
   "execution_count": 178,
   "id": "e1ff90f0",
   "metadata": {},
   "outputs": [],
   "source": [
    "new_order = [\n",
    " 'sid',\n",
    " 'rs_id',\n",
    " 'gene_name',\n",
    " 'dice_cline',\n",
    " 'eqtl_cline',\n",
    " 'study',\n",
    " 'gene_id',\n",
    " 'chrom',\n",
    " 'snp_pos',\n",
    " 'gene_start',\n",
    " 'gene_end',\n",
    " 'is_eqtl_pair',\n",
    " 'is_coloc_pair',\n",
    " 'is_closest_gene',\n",
    " 'has_fithichip_loop',\n",
    " 'nvar',\n",
    " 'shape1',\n",
    " 'shape2',\n",
    " 'dist',\n",
    " 'npval',\n",
    " 'slope',\n",
    " 'ppval',\n",
    " 'bpval',\n",
    " 'qval',\n",
    " 'pp_H0_Coloc_Summary',\n",
    " 'pp_H1_Coloc_Summary',\n",
    " 'pp_H2_Coloc_Summary',\n",
    " 'pp_H3_Coloc_Summary',\n",
    " 'pp_H4_Coloc_Summary',\n",
    " 'ref',\n",
    " 'alt',\n",
    " 'AC',\n",
    " 'AF',\n",
    " 'AN',\n",
    " 'gwas_slope',\n",
    " 'gwas_slope_se',\n",
    " 'gwas_pval_nominal',\n",
    " 'SampleSize']"
   ]
  },
  {
   "cell_type": "code",
   "execution_count": 179,
   "id": "ec786699",
   "metadata": {},
   "outputs": [],
   "source": [
    "data = data.loc[:, new_order]\n",
    "data.drop_duplicates(subset=['sid', 'gene_name', 'dice_cline', 'eqtl_cline', 'study'], inplace=True)"
   ]
  },
  {
   "cell_type": "code",
   "execution_count": 180,
   "id": "f3c73a0f",
   "metadata": {},
   "outputs": [],
   "source": [
    "# master_fn = os.path.join(outdir, 'super_master.snp_gene_loop.analysis.tsv')\n",
    "# data.to_csv(master_fn, sep='\\t', index=False, na_rep='nan')"
   ]
  },
  {
   "cell_type": "raw",
   "id": "16d625bc",
   "metadata": {},
   "source": [
    "master_fn = os.path.join(outdir, 'super_master.snp_gene_loop.analysis.xlsx')\n",
    "xdata = data.sort_values(['rs_id', 'dice_cline', 'eqtl_cline', 'gene_name', 'study'])\n",
    "xdata.set_index(['rs_id', 'dice_cline', 'eqtl_cline', 'gene_name', 'study']).to_excel(master_fn, na_rep='nan')"
   ]
  },
  {
   "cell_type": "markdown",
   "id": "40bd0514",
   "metadata": {},
   "source": [
    "## Colocalization Summary"
   ]
  },
  {
   "cell_type": "markdown",
   "id": "10d437ea",
   "metadata": {},
   "source": [
    "I want to know how many colocalization comparisons there are total"
   ]
  },
  {
   "cell_type": "code",
   "execution_count": 190,
   "id": "6954802a",
   "metadata": {},
   "outputs": [
    {
     "name": "stdout",
     "output_type": "stream",
     "text": [
      "251\n"
     ]
    }
   ],
   "source": [
    "coloc_only = data[(data.is_coloc_pair == 1)]\n",
    "print(coloc_only.shape[0])"
   ]
  },
  {
   "cell_type": "markdown",
   "id": "2d6c4946",
   "metadata": {},
   "source": [
    "I want to know how many colocalizations have a loop"
   ]
  },
  {
   "cell_type": "code",
   "execution_count": 191,
   "id": "efb70129",
   "metadata": {},
   "outputs": [
    {
     "name": "stdout",
     "output_type": "stream",
     "text": [
      "50\n"
     ]
    }
   ],
   "source": [
    "coloc_loops_only = data[(data.is_coloc_pair == 1) & (data.has_fithichip_loop == 1)]\n",
    "print(coloc_loops_only.shape[0])"
   ]
  },
  {
   "cell_type": "markdown",
   "id": "c922a3ec",
   "metadata": {},
   "source": [
    "## Breakdown of colocalized loops (SNP perspective)"
   ]
  },
  {
   "cell_type": "markdown",
   "id": "2fe0b2c5",
   "metadata": {},
   "source": [
    "I want to know the breakdown in terms of gene"
   ]
  },
  {
   "cell_type": "code",
   "execution_count": 192,
   "id": "c56e56dd",
   "metadata": {},
   "outputs": [
    {
     "data": {
      "text/plain": [
       "sid          gene_name  \n",
       "21:43855067  UBASH3A        14\n",
       "6:90976768   BACH2           7\n",
       "16:11433103  RMI2            3\n",
       "11:64107735  AP003774.1      3\n",
       "12:9833628   RP11-75L1.1     3\n",
       "11:64107477  AP003774.1      2\n",
       "20:1610551   SIRPG           2\n",
       "12:56401085  RPS26           2\n",
       "16:11439303  RMI2            2\n",
       "12:9147569   M6PR            1\n",
       "15:79229199  CTSH            1\n",
       "15:79231478  CTSH            1\n",
       "16:11439679  RMI2            1\n",
       "16:28599411  SULT1A2         1\n",
       "16:28631530  SULT1A2         1\n",
       "1:114426001  AP4B1           1\n",
       "1:114447565  PTPN22          1\n",
       "1:192537400  RGS1            1\n",
       "21:43823736  TMPRSS3         1\n",
       "21:43827765  TMPRSS3         1\n",
       "11:64102948  AP003774.1      1\n",
       "dtype: int64"
      ]
     },
     "execution_count": 192,
     "metadata": {},
     "output_type": "execute_result"
    }
   ],
   "source": [
    "coloc_loops_only.value_counts(subset=['sid', 'gene_name'])"
   ]
  },
  {
   "cell_type": "markdown",
   "id": "24ba0f6a",
   "metadata": {},
   "source": [
    "I want to know the breakdown in terms of cell line"
   ]
  },
  {
   "cell_type": "code",
   "execution_count": 193,
   "id": "ececf490",
   "metadata": {},
   "outputs": [
    {
     "data": {
      "text/plain": [
       "gene_name    sid          dice_cline\n",
       "UBASH3A      21:43855067  TREGMEM       2\n",
       "                          TH2           2\n",
       "                          TH17          2\n",
       "                          TH1           2\n",
       "                          TFH           2\n",
       "                          THSTAR        2\n",
       "BACH2        6:90976768   TH17          1\n",
       "M6PR         12:9147569   TREGNAIVE     1\n",
       "CTSH         15:79231478  CM            1\n",
       "             15:79229199  NCM           1\n",
       "BACH2        6:90976768   TREGNAIVE     1\n",
       "                          TREGMEM       1\n",
       "                          THSTAR        1\n",
       "                          TH2           1\n",
       "                          TFH           1\n",
       "                          TH1           1\n",
       "RGS1         1:192537400  NCM           1\n",
       "AP4B1        1:114426001  NCM           1\n",
       "AP003774.1   11:64107735  TREGMEM       1\n",
       "                          TH2           1\n",
       "                          NB            1\n",
       "             11:64107477  THSTAR        1\n",
       "                          NCM           1\n",
       "PTPN22       1:114447565  TH17          1\n",
       "RMI2         16:11433103  TREGNAIVE     1\n",
       "                          TH1           1\n",
       "SIRPG        20:1610551   TH17          1\n",
       "UBASH3A      21:43855067  CD8N          1\n",
       "                          CD4N          1\n",
       "TMPRSS3      21:43827765  TREGNAIVE     1\n",
       "             21:43823736  CD4N          1\n",
       "SULT1A2      16:28631530  TH1           1\n",
       "             16:28599411  TFH           1\n",
       "SIRPG        20:1610551   TH2           1\n",
       "RPS26        12:56401085  TREGNAIVE     1\n",
       "RMI2         16:11433103  TREGMEM       1\n",
       "RPS26        12:56401085  TREGMEM       1\n",
       "RP11-75L1.1  12:9833628   TREGNAIVE     1\n",
       "                          TH17          1\n",
       "                          TH1           1\n",
       "RMI2         16:11439679  CD8N          1\n",
       "             16:11439303  NB            1\n",
       "                          CD8N          1\n",
       "AP003774.1   11:64102948  NK            1\n",
       "dtype: int64"
      ]
     },
     "execution_count": 193,
     "metadata": {},
     "output_type": "execute_result"
    }
   ],
   "source": [
    "coloc_loops_only.value_counts(subset=['gene_name', 'sid', 'dice_cline'])"
   ]
  },
  {
   "cell_type": "markdown",
   "id": "8ee72892",
   "metadata": {},
   "source": [
    "## Breakdown of colocalized loops (Gene perspective)"
   ]
  },
  {
   "cell_type": "code",
   "execution_count": 194,
   "id": "dcdabf1d",
   "metadata": {},
   "outputs": [
    {
     "data": {
      "text/plain": [
       "gene_name\n",
       "AP003774.1        [rs663743, rs479777, rs574087]\n",
       "AP4B1                               [rs11102694]\n",
       "BACH2                               [rs72928038]\n",
       "CTSH                    [rs12592898, rs12148472]\n",
       "M6PR                                 [rs1805721]\n",
       "PTPN22                               [rs1217397]\n",
       "RGS1                                 [rs1323297]\n",
       "RMI2           [rs7187741, rs12149160, rs918738]\n",
       "RP11-75L1.1                          [rs3764021]\n",
       "RPS26                               [rs10876864]\n",
       "SIRPG                                [rs2281808]\n",
       "SULT1A2                 [rs62031607, rs55792032]\n",
       "TMPRSS3                   [rs9978717, rs9784215]\n",
       "UBASH3A                              [rs1893592]\n",
       "Name: rs_id, dtype: object"
      ]
     },
     "execution_count": 194,
     "metadata": {},
     "output_type": "execute_result"
    }
   ],
   "source": [
    "coloc_loops_only.groupby(['gene_name']).rs_id.unique()"
   ]
  },
  {
   "cell_type": "code",
   "execution_count": 195,
   "id": "1ef26633",
   "metadata": {
    "scrolled": true
   },
   "outputs": [
    {
     "data": {
      "text/plain": [
       "gene_name\n",
       "AP4B1          1\n",
       "BACH2          1\n",
       "M6PR           1\n",
       "PTPN22         1\n",
       "RGS1           1\n",
       "RP11-75L1.1    1\n",
       "RPS26          1\n",
       "SIRPG          1\n",
       "UBASH3A        1\n",
       "CTSH           2\n",
       "SULT1A2        2\n",
       "TMPRSS3        2\n",
       "AP003774.1     3\n",
       "RMI2           3\n",
       "Name: rs_id, dtype: int64"
      ]
     },
     "execution_count": 195,
     "metadata": {},
     "output_type": "execute_result"
    }
   ],
   "source": [
    "coloc_loops_only.groupby(['gene_name']).rs_id.nunique().sort_values()"
   ]
  },
  {
   "cell_type": "code",
   "execution_count": 196,
   "id": "8ca17e2e",
   "metadata": {},
   "outputs": [
    {
     "data": {
      "text/plain": [
       "(14,)"
      ]
     },
     "execution_count": 196,
     "metadata": {},
     "output_type": "execute_result"
    }
   ],
   "source": [
    "coloc_loops_only.groupby(['gene_name']).rs_id.nunique().sort_values().shape"
   ]
  },
  {
   "cell_type": "markdown",
   "id": "90f0e00d",
   "metadata": {},
   "source": [
    "#### Making a master"
   ]
  },
  {
   "cell_type": "code",
   "execution_count": 200,
   "id": "1db6ece5",
   "metadata": {},
   "outputs": [],
   "source": [
    "coloc_summary = coloc_loops_only.loc[~coloc_loops_only.duplicated(subset=['study', 'eqtl_cline', 'sid', 'gene_id']), :]\n",
    "coloc_summary = coloc_summary.groupby(['study', 'eqtl_cline']).apply(len)\n",
    "coloc_summary = coloc_summary.reset_index()\n",
    "coloc_summary.study = coloc_summary.study.str.replace('_eQTL', '')\n",
    "coloc_summary = coloc_summary.sort_values(['study', 0, 'eqtl_cline'], ascending=[True, False, True])\n",
    "\n",
    "coloc_summary.columns = ['Study', 'Cell Line', 'Number of SGLs']\n",
    "\n",
    "fn = os.path.join(outdir, 'description_of_coloc_study.xlsx')\n",
    "coloc_summary.to_excel(fn, index=False)"
   ]
  },
  {
   "cell_type": "code",
   "execution_count": null,
   "id": "4c493f7f",
   "metadata": {},
   "outputs": [],
   "source": []
  },
  {
   "cell_type": "code",
   "execution_count": null,
   "id": "2021b52c",
   "metadata": {},
   "outputs": [],
   "source": []
  },
  {
   "cell_type": "code",
   "execution_count": null,
   "id": "c269d1f4",
   "metadata": {},
   "outputs": [],
   "source": []
  },
  {
   "cell_type": "code",
   "execution_count": null,
   "id": "d716e901",
   "metadata": {},
   "outputs": [],
   "source": []
  },
  {
   "cell_type": "code",
   "execution_count": null,
   "id": "0cfcc2f2",
   "metadata": {},
   "outputs": [],
   "source": []
  },
  {
   "cell_type": "code",
   "execution_count": null,
   "id": "bed76aed",
   "metadata": {},
   "outputs": [],
   "source": []
  },
  {
   "cell_type": "code",
   "execution_count": null,
   "id": "dab6f9f3",
   "metadata": {},
   "outputs": [],
   "source": []
  },
  {
   "cell_type": "code",
   "execution_count": null,
   "id": "51942a2f",
   "metadata": {},
   "outputs": [],
   "source": []
  },
  {
   "cell_type": "code",
   "execution_count": null,
   "id": "3655f165",
   "metadata": {},
   "outputs": [],
   "source": []
  },
  {
   "cell_type": "code",
   "execution_count": null,
   "id": "7576b909",
   "metadata": {},
   "outputs": [],
   "source": []
  },
  {
   "cell_type": "code",
   "execution_count": null,
   "id": "b1dab351",
   "metadata": {},
   "outputs": [],
   "source": []
  },
  {
   "cell_type": "code",
   "execution_count": null,
   "id": "d5000d85",
   "metadata": {},
   "outputs": [],
   "source": []
  },
  {
   "cell_type": "code",
   "execution_count": null,
   "id": "b6b54f29",
   "metadata": {},
   "outputs": [],
   "source": []
  },
  {
   "cell_type": "code",
   "execution_count": null,
   "id": "8ca2ba4f",
   "metadata": {},
   "outputs": [],
   "source": []
  },
  {
   "cell_type": "code",
   "execution_count": null,
   "id": "a5b69451",
   "metadata": {},
   "outputs": [],
   "source": []
  },
  {
   "cell_type": "code",
   "execution_count": null,
   "id": "5cf452a0",
   "metadata": {},
   "outputs": [],
   "source": []
  },
  {
   "cell_type": "code",
   "execution_count": null,
   "id": "36650c1b",
   "metadata": {},
   "outputs": [],
   "source": []
  },
  {
   "cell_type": "code",
   "execution_count": null,
   "id": "c9d6a527",
   "metadata": {},
   "outputs": [],
   "source": []
  },
  {
   "cell_type": "code",
   "execution_count": null,
   "id": "d08a38f3",
   "metadata": {},
   "outputs": [],
   "source": []
  },
  {
   "cell_type": "code",
   "execution_count": null,
   "id": "9b486a0d",
   "metadata": {},
   "outputs": [],
   "source": []
  }
 ],
 "metadata": {
  "kernelspec": {
   "display_name": "HiC",
   "language": "python",
   "name": "hic_tls"
  },
  "language_info": {
   "codemirror_mode": {
    "name": "ipython",
    "version": 3
   },
   "file_extension": ".py",
   "mimetype": "text/x-python",
   "name": "python",
   "nbconvert_exporter": "python",
   "pygments_lexer": "ipython3",
   "version": "3.6.7"
  }
 },
 "nbformat": 4,
 "nbformat_minor": 5
}
