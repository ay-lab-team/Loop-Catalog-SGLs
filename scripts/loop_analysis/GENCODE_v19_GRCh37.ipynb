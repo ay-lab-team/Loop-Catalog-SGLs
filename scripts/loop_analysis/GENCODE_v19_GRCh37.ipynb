{
 "cells": [
  {
   "cell_type": "code",
   "execution_count": 1,
   "id": "4ecbe542",
   "metadata": {},
   "outputs": [],
   "source": [
    "import os\n",
    "import subprocess\n",
    "import pandas as pd \n",
    "os.chdir('/mnt/BioHome/jreyna/jreyna/projects/dchallenge/')\n",
    "outdir = 'results/refs/ensembl/'\n",
    "os.makedirs(outdir, exist_ok=True)\n",
    "\n",
    "fn = os.path.join(outdir, 'gencode.v19.annotation.gtf.gz')\n",
    "if not os.path.exists(fn):\n",
    "    url = 'https://ftp.ebi.ac.uk/pub/databases/gencode/Gencode_human/release_19/gencode.v19.annotation.gtf.gz'\n",
    "    cmd = 'wget -O {} {}'.format(fn, url)\n",
    "    output = subprocess.check_output(cmd, shell=True)"
   ]
  },
  {
   "cell_type": "code",
   "execution_count": 2,
   "id": "a99a9685",
   "metadata": {},
   "outputs": [],
   "source": [
    "gtf = pd.read_table(fn, header=None, skiprows=5)"
   ]
  },
  {
   "cell_type": "code",
   "execution_count": 22,
   "id": "105621f3",
   "metadata": {},
   "outputs": [],
   "source": [
    "snp = gtf.loc[gtf[8].str.match('.*RP11-632C17__A.1'), :]"
   ]
  },
  {
   "cell_type": "code",
   "execution_count": 23,
   "id": "0d98e07b",
   "metadata": {},
   "outputs": [
    {
     "data": {
      "text/html": [
       "<div>\n",
       "<style scoped>\n",
       "    .dataframe tbody tr th:only-of-type {\n",
       "        vertical-align: middle;\n",
       "    }\n",
       "\n",
       "    .dataframe tbody tr th {\n",
       "        vertical-align: top;\n",
       "    }\n",
       "\n",
       "    .dataframe thead th {\n",
       "        text-align: right;\n",
       "    }\n",
       "</style>\n",
       "<table border=\"1\" class=\"dataframe\">\n",
       "  <thead>\n",
       "    <tr style=\"text-align: right;\">\n",
       "      <th></th>\n",
       "      <th>0</th>\n",
       "      <th>1</th>\n",
       "      <th>2</th>\n",
       "      <th>3</th>\n",
       "      <th>4</th>\n",
       "      <th>5</th>\n",
       "      <th>6</th>\n",
       "      <th>7</th>\n",
       "      <th>8</th>\n",
       "    </tr>\n",
       "  </thead>\n",
       "  <tbody>\n",
       "    <tr>\n",
       "      <th>896697</th>\n",
       "      <td>chr6</td>\n",
       "      <td>HAVANA</td>\n",
       "      <td>gene</td>\n",
       "      <td>118320138</td>\n",
       "      <td>118320611</td>\n",
       "      <td>.</td>\n",
       "      <td>+</td>\n",
       "      <td>.</td>\n",
       "      <td>gene_id \"ENSG00000230202.1\"; transcript_id \"EN...</td>\n",
       "    </tr>\n",
       "    <tr>\n",
       "      <th>896698</th>\n",
       "      <td>chr6</td>\n",
       "      <td>HAVANA</td>\n",
       "      <td>transcript</td>\n",
       "      <td>118320138</td>\n",
       "      <td>118320611</td>\n",
       "      <td>.</td>\n",
       "      <td>+</td>\n",
       "      <td>.</td>\n",
       "      <td>gene_id \"ENSG00000230202.1\"; transcript_id \"EN...</td>\n",
       "    </tr>\n",
       "    <tr>\n",
       "      <th>896699</th>\n",
       "      <td>chr6</td>\n",
       "      <td>HAVANA</td>\n",
       "      <td>exon</td>\n",
       "      <td>118320138</td>\n",
       "      <td>118320611</td>\n",
       "      <td>.</td>\n",
       "      <td>+</td>\n",
       "      <td>.</td>\n",
       "      <td>gene_id \"ENSG00000230202.1\"; transcript_id \"EN...</td>\n",
       "    </tr>\n",
       "  </tbody>\n",
       "</table>\n",
       "</div>"
      ],
      "text/plain": [
       "           0       1           2          3          4  5  6  7  \\\n",
       "896697  chr6  HAVANA        gene  118320138  118320611  .  +  .   \n",
       "896698  chr6  HAVANA  transcript  118320138  118320611  .  +  .   \n",
       "896699  chr6  HAVANA        exon  118320138  118320611  .  +  .   \n",
       "\n",
       "                                                        8  \n",
       "896697  gene_id \"ENSG00000230202.1\"; transcript_id \"EN...  \n",
       "896698  gene_id \"ENSG00000230202.1\"; transcript_id \"EN...  \n",
       "896699  gene_id \"ENSG00000230202.1\"; transcript_id \"EN...  "
      ]
     },
     "execution_count": 23,
     "metadata": {},
     "output_type": "execute_result"
    }
   ],
   "source": [
    "snp"
   ]
  },
  {
   "cell_type": "code",
   "execution_count": 25,
   "id": "3e4ea846",
   "metadata": {},
   "outputs": [
    {
     "data": {
      "text/plain": [
       "'gene_id \"ENSG00000230202.1\"; transcript_id \"ENSG00000230202.1\"; gene_type \"pseudogene\"; gene_status \"KNOWN\"; gene_name \"RP11-632C17__A.1\"; transcript_type \"pseudogene\"; transcript_status \"KNOWN\"; transcript_name \"RP11-632C17__A.1\"; level 2; havana_gene \"OTTHUMG00000015459.2\";'"
      ]
     },
     "execution_count": 25,
     "metadata": {},
     "output_type": "execute_result"
    }
   ],
   "source": [
    "snp.iloc[0, 8]"
   ]
  },
  {
   "cell_type": "code",
   "execution_count": null,
   "id": "5656af68",
   "metadata": {},
   "outputs": [],
   "source": []
  },
  {
   "cell_type": "code",
   "execution_count": null,
   "id": "ceabf0d0",
   "metadata": {},
   "outputs": [],
   "source": []
  },
  {
   "cell_type": "code",
   "execution_count": 26,
   "id": "e4447e00",
   "metadata": {},
   "outputs": [],
   "source": [
    "# extract the main columns\n",
    "parsed = gtf.iloc[:, [0,3,4,8,6,2]]"
   ]
  },
  {
   "cell_type": "code",
   "execution_count": 27,
   "id": "7c53ff12",
   "metadata": {},
   "outputs": [
    {
     "name": "stderr",
     "output_type": "stream",
     "text": [
      "/mnt/BioHome/jreyna/software/anaconda3/envs/hic_tls/lib/python3.6/site-packages/ipykernel_launcher.py:2: SettingWithCopyWarning: \n",
      "A value is trying to be set on a copy of a slice from a DataFrame.\n",
      "Try using .loc[row_indexer,col_indexer] = value instead\n",
      "\n",
      "See the caveats in the documentation: https://pandas.pydata.org/pandas-docs/stable/user_guide/indexing.html#returning-a-view-versus-a-copy\n",
      "  \n",
      "/mnt/BioHome/jreyna/software/anaconda3/envs/hic_tls/lib/python3.6/site-packages/ipykernel_launcher.py:3: SettingWithCopyWarning: \n",
      "A value is trying to be set on a copy of a slice from a DataFrame.\n",
      "Try using .loc[row_indexer,col_indexer] = value instead\n",
      "\n",
      "See the caveats in the documentation: https://pandas.pydata.org/pandas-docs/stable/user_guide/indexing.html#returning-a-view-versus-a-copy\n",
      "  This is separate from the ipykernel package so we can avoid doing imports until\n"
     ]
    }
   ],
   "source": [
    "# get the gene id and gene name\n",
    "parsed['gene_id'] = parsed[8].str.extract('gene_id \"(ENSG[0-9.]+)\"')\n",
    "parsed['gene_name'] = parsed[8].str.extract('gene_name \"([A-Za-z0-9-\\._]+)\"')\n",
    "\n",
    "# final data cleanup\n",
    "parsed = parsed.iloc[:, [0,1,2,4,5,6,7]]"
   ]
  },
  {
   "cell_type": "code",
   "execution_count": 28,
   "id": "23fcb31f",
   "metadata": {},
   "outputs": [],
   "source": [
    "# use the gene ID as the name when the name is not \n",
    "# available\n",
    "new_genenames = []\n",
    "for ID, name in parsed.values[:, 5:7]:\n",
    "    if type(name) == str:\n",
    "        new_genenames.append(name)\n",
    "    else:\n",
    "        new_genenames.append(ID)\n",
    "parsed.loc[:, 'gene_name'] = new_genenames"
   ]
  },
  {
   "cell_type": "code",
   "execution_count": 29,
   "id": "241f7d96",
   "metadata": {},
   "outputs": [],
   "source": [
    "# save the final output\n",
    "bed = os.path.join(outdir, 'gencode.v19.annotation.bed')\n",
    "parsed.to_csv(bed, sep='\\t', header=None, index=False)"
   ]
  },
  {
   "cell_type": "code",
   "execution_count": 30,
   "id": "1597a246",
   "metadata": {},
   "outputs": [
    {
     "data": {
      "text/html": [
       "<div>\n",
       "<style scoped>\n",
       "    .dataframe tbody tr th:only-of-type {\n",
       "        vertical-align: middle;\n",
       "    }\n",
       "\n",
       "    .dataframe tbody tr th {\n",
       "        vertical-align: top;\n",
       "    }\n",
       "\n",
       "    .dataframe thead th {\n",
       "        text-align: right;\n",
       "    }\n",
       "</style>\n",
       "<table border=\"1\" class=\"dataframe\">\n",
       "  <thead>\n",
       "    <tr style=\"text-align: right;\">\n",
       "      <th></th>\n",
       "      <th>0</th>\n",
       "      <th>3</th>\n",
       "      <th>4</th>\n",
       "      <th>6</th>\n",
       "      <th>2</th>\n",
       "      <th>gene_id</th>\n",
       "      <th>gene_name</th>\n",
       "    </tr>\n",
       "  </thead>\n",
       "  <tbody>\n",
       "    <tr>\n",
       "      <th>1409358</th>\n",
       "      <td>chr11</td>\n",
       "      <td>64092522</td>\n",
       "      <td>64096976</td>\n",
       "      <td>-</td>\n",
       "      <td>gene</td>\n",
       "      <td>ENSG00000236935.1</td>\n",
       "      <td>AP003774.1</td>\n",
       "    </tr>\n",
       "    <tr>\n",
       "      <th>1409359</th>\n",
       "      <td>chr11</td>\n",
       "      <td>64092522</td>\n",
       "      <td>64096976</td>\n",
       "      <td>-</td>\n",
       "      <td>transcript</td>\n",
       "      <td>ENSG00000236935.1</td>\n",
       "      <td>AP003774.1</td>\n",
       "    </tr>\n",
       "    <tr>\n",
       "      <th>1409360</th>\n",
       "      <td>chr11</td>\n",
       "      <td>64096640</td>\n",
       "      <td>64096976</td>\n",
       "      <td>-</td>\n",
       "      <td>exon</td>\n",
       "      <td>ENSG00000236935.1</td>\n",
       "      <td>AP003774.1</td>\n",
       "    </tr>\n",
       "    <tr>\n",
       "      <th>1409361</th>\n",
       "      <td>chr11</td>\n",
       "      <td>64094956</td>\n",
       "      <td>64095008</td>\n",
       "      <td>-</td>\n",
       "      <td>exon</td>\n",
       "      <td>ENSG00000236935.1</td>\n",
       "      <td>AP003774.1</td>\n",
       "    </tr>\n",
       "    <tr>\n",
       "      <th>1409362</th>\n",
       "      <td>chr11</td>\n",
       "      <td>64092522</td>\n",
       "      <td>64092803</td>\n",
       "      <td>-</td>\n",
       "      <td>exon</td>\n",
       "      <td>ENSG00000236935.1</td>\n",
       "      <td>AP003774.1</td>\n",
       "    </tr>\n",
       "  </tbody>\n",
       "</table>\n",
       "</div>"
      ],
      "text/plain": [
       "             0         3         4  6           2            gene_id  \\\n",
       "1409358  chr11  64092522  64096976  -        gene  ENSG00000236935.1   \n",
       "1409359  chr11  64092522  64096976  -  transcript  ENSG00000236935.1   \n",
       "1409360  chr11  64096640  64096976  -        exon  ENSG00000236935.1   \n",
       "1409361  chr11  64094956  64095008  -        exon  ENSG00000236935.1   \n",
       "1409362  chr11  64092522  64092803  -        exon  ENSG00000236935.1   \n",
       "\n",
       "          gene_name  \n",
       "1409358  AP003774.1  \n",
       "1409359  AP003774.1  \n",
       "1409360  AP003774.1  \n",
       "1409361  AP003774.1  \n",
       "1409362  AP003774.1  "
      ]
     },
     "execution_count": 30,
     "metadata": {},
     "output_type": "execute_result"
    }
   ],
   "source": [
    "parsed[parsed.gene_name == 'AP003774.1']"
   ]
  },
  {
   "cell_type": "code",
   "execution_count": 32,
   "id": "cdfb7c1f",
   "metadata": {},
   "outputs": [
    {
     "data": {
      "text/html": [
       "<div>\n",
       "<style scoped>\n",
       "    .dataframe tbody tr th:only-of-type {\n",
       "        vertical-align: middle;\n",
       "    }\n",
       "\n",
       "    .dataframe tbody tr th {\n",
       "        vertical-align: top;\n",
       "    }\n",
       "\n",
       "    .dataframe thead th {\n",
       "        text-align: right;\n",
       "    }\n",
       "</style>\n",
       "<table border=\"1\" class=\"dataframe\">\n",
       "  <thead>\n",
       "    <tr style=\"text-align: right;\">\n",
       "      <th></th>\n",
       "      <th>0</th>\n",
       "      <th>3</th>\n",
       "      <th>4</th>\n",
       "      <th>6</th>\n",
       "      <th>2</th>\n",
       "      <th>gene_id</th>\n",
       "      <th>gene_name</th>\n",
       "    </tr>\n",
       "  </thead>\n",
       "  <tbody>\n",
       "    <tr>\n",
       "      <th>896697</th>\n",
       "      <td>chr6</td>\n",
       "      <td>118320138</td>\n",
       "      <td>118320611</td>\n",
       "      <td>+</td>\n",
       "      <td>gene</td>\n",
       "      <td>ENSG00000230202.1</td>\n",
       "      <td>RP11-632C17__A.1</td>\n",
       "    </tr>\n",
       "    <tr>\n",
       "      <th>896698</th>\n",
       "      <td>chr6</td>\n",
       "      <td>118320138</td>\n",
       "      <td>118320611</td>\n",
       "      <td>+</td>\n",
       "      <td>transcript</td>\n",
       "      <td>ENSG00000230202.1</td>\n",
       "      <td>RP11-632C17__A.1</td>\n",
       "    </tr>\n",
       "    <tr>\n",
       "      <th>896699</th>\n",
       "      <td>chr6</td>\n",
       "      <td>118320138</td>\n",
       "      <td>118320611</td>\n",
       "      <td>+</td>\n",
       "      <td>exon</td>\n",
       "      <td>ENSG00000230202.1</td>\n",
       "      <td>RP11-632C17__A.1</td>\n",
       "    </tr>\n",
       "  </tbody>\n",
       "</table>\n",
       "</div>"
      ],
      "text/plain": [
       "           0          3          4  6           2            gene_id  \\\n",
       "896697  chr6  118320138  118320611  +        gene  ENSG00000230202.1   \n",
       "896698  chr6  118320138  118320611  +  transcript  ENSG00000230202.1   \n",
       "896699  chr6  118320138  118320611  +        exon  ENSG00000230202.1   \n",
       "\n",
       "               gene_name  \n",
       "896697  RP11-632C17__A.1  \n",
       "896698  RP11-632C17__A.1  \n",
       "896699  RP11-632C17__A.1  "
      ]
     },
     "execution_count": 32,
     "metadata": {},
     "output_type": "execute_result"
    }
   ],
   "source": [
    "parsed[parsed.gene_name == 'RP11-632C17__A.1']"
   ]
  },
  {
   "cell_type": "code",
   "execution_count": null,
   "id": "1c6dd5b6",
   "metadata": {},
   "outputs": [],
   "source": []
  }
 ],
 "metadata": {
  "kernelspec": {
   "display_name": "HiC",
   "language": "python",
   "name": "hic_tls"
  },
  "language_info": {
   "codemirror_mode": {
    "name": "ipython",
    "version": 3
   },
   "file_extension": ".py",
   "mimetype": "text/x-python",
   "name": "python",
   "nbconvert_exporter": "python",
   "pygments_lexer": "ipython3",
   "version": "3.6.7"
  }
 },
 "nbformat": 4,
 "nbformat_minor": 5
}
