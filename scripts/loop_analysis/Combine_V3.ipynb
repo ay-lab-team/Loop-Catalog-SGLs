{
 "cells": [
  {
   "cell_type": "code",
   "execution_count": 1,
   "id": "2997e421",
   "metadata": {},
   "outputs": [],
   "source": [
    "import os \n",
    "import pandas as pd \n",
    "os.chdir(\"/mnt/BioHome/jreyna/jreyna/projects/dchallenge/\")\n",
    "import glob"
   ]
  },
  {
   "cell_type": "code",
   "execution_count": 2,
   "id": "e908c333",
   "metadata": {},
   "outputs": [],
   "source": [
    "# loading and concat all the data\n",
    "data = []\n",
    "for fn in glob.glob('results/main/loop_analysis/T1D_34012112_Gaulton/*/*/*/master.tsv'):\n",
    "    \n",
    "    dice_cline = fn.split('/')[4]\n",
    "    study = fn.split('/')[5]\n",
    "    eqtl_cline = fn.split('/')[6]\n",
    "    \n",
    "    df = pd.read_table(fn, header=0)\n",
    "    df['dice_cline'] = dice_cline\n",
    "    df['eqtl_cline'] = eqtl_cline\n",
    "    df['study'] = study\n",
    "    data.append(df)\n",
    "    \n",
    "data = pd.concat(data)\n",
    "data.rename(columns={'5kb_gname': 'fivekb_gname'}, inplace=True)"
   ]
  },
  {
   "cell_type": "code",
   "execution_count": 4,
   "id": "5fe6902b",
   "metadata": {},
   "outputs": [
    {
     "data": {
      "text/plain": [
       "['rs_id',\n",
       " 'gene_name',\n",
       " 'gene_id',\n",
       " 'chrom',\n",
       " 'snp_pos',\n",
       " 'gene_start',\n",
       " 'gene_end',\n",
       " 'is_eqtl_pair',\n",
       " 'is_coloc_pair',\n",
       " 'is_closest_gene',\n",
       " 'has_fithichip_loop',\n",
       " 'sid',\n",
       " 'nvar',\n",
       " 'shape1',\n",
       " 'shape2',\n",
       " 'dist',\n",
       " 'npval',\n",
       " 'slope',\n",
       " 'ppval',\n",
       " 'bpval',\n",
       " 'qval',\n",
       " 'pp_H0_Coloc_Summary',\n",
       " 'pp_H1_Coloc_Summary',\n",
       " 'pp_H2_Coloc_Summary',\n",
       " 'pp_H3_Coloc_Summary',\n",
       " 'pp_H4_Coloc_Summary',\n",
       " 'ref',\n",
       " 'alt',\n",
       " 'AC',\n",
       " 'AF',\n",
       " 'AN',\n",
       " 'gwas_slope',\n",
       " 'gwas_slope_se',\n",
       " 'gwas_pval_nominal',\n",
       " 'SampleSize',\n",
       " 'dice_cline',\n",
       " 'eqtl_cline',\n",
       " 'study']"
      ]
     },
     "execution_count": 4,
     "metadata": {},
     "output_type": "execute_result"
    }
   ],
   "source": [
    "data.columns.tolist()"
   ]
  },
  {
   "cell_type": "code",
   "execution_count": 13,
   "id": "e1ff90f0",
   "metadata": {},
   "outputs": [],
   "source": [
    "new_order = [\n",
    " 'rs_id',\n",
    " 'gene_name',\n",
    " 'dice_cline',\n",
    " 'eqtl_cline',\n",
    " 'study',\n",
    " 'gene_id',\n",
    " 'chrom',\n",
    " 'snp_pos',\n",
    " 'gene_start',\n",
    " 'gene_end',\n",
    " 'is_eqtl_pair',\n",
    " 'is_coloc_pair',\n",
    " 'is_closest_gene',\n",
    " 'has_fithichip_loop',\n",
    " 'sid',\n",
    " 'nvar',\n",
    " 'shape1',\n",
    " 'shape2',\n",
    " 'dist',\n",
    " 'npval',\n",
    " 'slope',\n",
    " 'ppval',\n",
    " 'bpval',\n",
    " 'qval',\n",
    " 'pp_H0_Coloc_Summary',\n",
    " 'pp_H1_Coloc_Summary',\n",
    " 'pp_H2_Coloc_Summary',\n",
    " 'pp_H3_Coloc_Summary',\n",
    " 'pp_H4_Coloc_Summary',\n",
    " 'ref',\n",
    " 'alt',\n",
    " 'AC',\n",
    " 'AF',\n",
    " 'AN',\n",
    " 'gwas_slope',\n",
    " 'gwas_slope_se',\n",
    " 'gwas_pval_nominal',\n",
    " 'SampleSize']"
   ]
  },
  {
   "cell_type": "code",
   "execution_count": 14,
   "id": "ec786699",
   "metadata": {},
   "outputs": [],
   "source": [
    "data = data.loc[:, new_order]"
   ]
  },
  {
   "cell_type": "code",
   "execution_count": 15,
   "id": "f3c73a0f",
   "metadata": {},
   "outputs": [],
   "source": [
    "master_fn = 'results/main/loop_analysis/super_master.snp_gene_loop.analysis.tsv'\n",
    "data.to_csv(master_fn, sep='\\t', index=False, na_rep='nan')"
   ]
  },
  {
   "cell_type": "code",
   "execution_count": 12,
   "id": "8fb7dea0",
   "metadata": {},
   "outputs": [],
   "source": [
    "master_fn = 'results/main/loop_analysis/super_master.snp_gene_loop.analysis.xlsx'\n",
    "xdata = data.sort_values(['rs_id', 'dice_cline', 'eqtl_cline', 'gene_name', 'study'])\n",
    "xdata.set_index(['rs_id', 'dice_cline', 'eqtl_cline', 'gene_name', 'study']).to_excel(master_fn, na_rep='nan')"
   ]
  },
  {
   "cell_type": "code",
   "execution_count": null,
   "id": "d7d469ce",
   "metadata": {},
   "outputs": [],
   "source": []
  },
  {
   "cell_type": "code",
   "execution_count": null,
   "id": "6954802a",
   "metadata": {},
   "outputs": [],
   "source": []
  },
  {
   "cell_type": "code",
   "execution_count": null,
   "id": "0ca8ece6",
   "metadata": {},
   "outputs": [],
   "source": []
  },
  {
   "cell_type": "code",
   "execution_count": null,
   "id": "95df097e",
   "metadata": {},
   "outputs": [],
   "source": []
  },
  {
   "cell_type": "code",
   "execution_count": null,
   "id": "22e63cd2",
   "metadata": {},
   "outputs": [],
   "source": []
  },
  {
   "cell_type": "code",
   "execution_count": null,
   "id": "15bc3973",
   "metadata": {},
   "outputs": [],
   "source": []
  },
  {
   "cell_type": "code",
   "execution_count": null,
   "id": "a19a1c26",
   "metadata": {},
   "outputs": [],
   "source": []
  },
  {
   "cell_type": "code",
   "execution_count": null,
   "id": "e833c997",
   "metadata": {},
   "outputs": [],
   "source": []
  }
 ],
 "metadata": {
  "kernelspec": {
   "display_name": "HiC",
   "language": "python",
   "name": "hic_tls"
  },
  "language_info": {
   "codemirror_mode": {
    "name": "ipython",
    "version": 3
   },
   "file_extension": ".py",
   "mimetype": "text/x-python",
   "name": "python",
   "nbconvert_exporter": "python",
   "pygments_lexer": "ipython3",
   "version": "3.6.7"
  }
 },
 "nbformat": 4,
 "nbformat_minor": 5
}
