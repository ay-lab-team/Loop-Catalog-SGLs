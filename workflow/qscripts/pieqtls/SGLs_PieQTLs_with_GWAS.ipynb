{
 "cells": [
  {
   "cell_type": "code",
   "execution_count": 1,
   "id": "7b5ad180",
   "metadata": {},
   "outputs": [],
   "source": [
    "import os \n",
    "import pandas as pd\n",
    "pd.set_option('display.max_columns', None)\n",
    "import subprocess\n",
    "import glob\n",
    "import pybedtools as pbt \n",
    "pbt.set_tempdir('/mnt/hpcscratch/jreyna/')\n",
    "pbt.set_bedtools_path('/mnt/BioApps/bedtools/bin/')\n",
    "import numpy as np\n",
    "\n",
    "import seaborn as sns \n",
    "import matplotlib.pyplot as plt \n",
    "\n",
    "os.chdir('/mnt/BioHome/jreyna/jreyna/projects/dchallenge/')\n",
    "\n",
    "genome_sizes = 'results/refs/hg19/hg19.chrom.sizes'\n",
    "\n",
    "# make the directory to save our data\n",
    "outdir = 'results/main/pieqtls/sgl_intersect/'\n",
    "os.makedirs(outdir, exist_ok=True)"
   ]
  },
  {
   "cell_type": "code",
   "execution_count": 2,
   "id": "a6ef0439",
   "metadata": {},
   "outputs": [],
   "source": [
    "gs_fn = 'results/refs/hg19/hg19.chrom.nochr.sizes'\n",
    "gencode_fn = 'results/refs/gencode/v30/gencode.v30.annotation.bed'\n",
    "gencode = pd.read_table(gencode_fn, header=None)\n",
    "gencode = gencode.drop_duplicates(5)\n",
    "gencode_dict = {k:v for k,v in gencode[[5,6]].values.tolist()} \n",
    "gencode_dict.update({v:k for k,v in gencode[[5,6]].values.tolist()})"
   ]
  },
  {
   "cell_type": "markdown",
   "id": "25ec296e",
   "metadata": {},
   "source": [
    "## Load Significant GWAS"
   ]
  },
  {
   "cell_type": "code",
   "execution_count": 3,
   "id": "44c1967f",
   "metadata": {},
   "outputs": [],
   "source": [
    "major_gwas = ['T1D_32005708', 'T1D_34594039_GCST90018925', 'T1D_34012112_Gaulton']"
   ]
  },
  {
   "cell_type": "code",
   "execution_count": 4,
   "id": "3be9cb20",
   "metadata": {},
   "outputs": [
    {
     "name": "stderr",
     "output_type": "stream",
     "text": [
      "/mnt/hpcscratch/jreyna//ipykernel_75129/915015123.py:18: SettingWithCopyWarning: \n",
      "A value is trying to be set on a copy of a slice from a DataFrame.\n",
      "Try using .loc[row_indexer,col_indexer] = value instead\n",
      "\n",
      "See the caveats in the documentation: https://pandas.pydata.org/pandas-docs/stable/user_guide/indexing.html#returning-a-view-versus-a-copy\n",
      "  gwas_bed['start'] = gwas_bed['start'] - 1\n"
     ]
    }
   ],
   "source": [
    "data = []\n",
    "gwas = 'results/main/coloc/Data/T1D_GWAS/*/GRCh37/GWAS_input_colocalization_pval_lt_5eMinus8.txt'\n",
    "for fn in glob.glob(gwas):\n",
    "    path_info = fn.split('/')\n",
    "    df = pd.read_table(fn)\n",
    "    \n",
    "    if path_info[5] not in major_gwas:\n",
    "        continue\n",
    "        \n",
    "    df['gwas_source'] = path_info[5]\n",
    "    data.append(df)    \n",
    "gwas_df = pd.concat(data)\n",
    "gwas_df['sid'] = gwas_df['CHR'].str.replace('chr', '') + ':' + gwas_df['POS'].astype(str)\n",
    "\n",
    "# loading finemap data into bedtools\n",
    "gwas_bed = gwas_df.iloc[:, [0,1,1]]\n",
    "gwas_bed.columns = ['chrom', 'start', 'end']\n",
    "gwas_bed['start'] = gwas_bed['start'] - 1\n",
    "gwas_pbt = pbt.BedTool.from_dataframe(gwas_bed)"
   ]
  },
  {
   "cell_type": "code",
   "execution_count": 5,
   "id": "f764c98f",
   "metadata": {},
   "outputs": [],
   "source": [
    "individual_gwas_studies = gwas_df.groupby('gwas_source').sid.nunique()\n",
    "individual_gwas_studies = individual_gwas_studies.to_frame()\n",
    "individual_gwas_studies.columns = ['Number of Sig. GWAS']"
   ]
  },
  {
   "cell_type": "code",
   "execution_count": 6,
   "id": "49f62c4b",
   "metadata": {},
   "outputs": [
    {
     "data": {
      "text/html": [
       "<div>\n",
       "<style scoped>\n",
       "    .dataframe tbody tr th:only-of-type {\n",
       "        vertical-align: middle;\n",
       "    }\n",
       "\n",
       "    .dataframe tbody tr th {\n",
       "        vertical-align: top;\n",
       "    }\n",
       "\n",
       "    .dataframe thead th {\n",
       "        text-align: right;\n",
       "    }\n",
       "</style>\n",
       "<table border=\"1\" class=\"dataframe\">\n",
       "  <thead>\n",
       "    <tr style=\"text-align: right;\">\n",
       "      <th></th>\n",
       "      <th>Number of Sig. GWAS</th>\n",
       "    </tr>\n",
       "    <tr>\n",
       "      <th>gwas_source</th>\n",
       "      <th></th>\n",
       "    </tr>\n",
       "  </thead>\n",
       "  <tbody>\n",
       "    <tr>\n",
       "      <th>T1D_32005708</th>\n",
       "      <td>21097</td>\n",
       "    </tr>\n",
       "    <tr>\n",
       "      <th>T1D_34012112_Gaulton</th>\n",
       "      <td>45798</td>\n",
       "    </tr>\n",
       "    <tr>\n",
       "      <th>T1D_34594039_GCST90018925</th>\n",
       "      <td>20419</td>\n",
       "    </tr>\n",
       "  </tbody>\n",
       "</table>\n",
       "</div>"
      ],
      "text/plain": [
       "                           Number of Sig. GWAS\n",
       "gwas_source                                   \n",
       "T1D_32005708                             21097\n",
       "T1D_34012112_Gaulton                     45798\n",
       "T1D_34594039_GCST90018925                20419"
      ]
     },
     "execution_count": 6,
     "metadata": {},
     "output_type": "execute_result"
    }
   ],
   "source": [
    "individual_gwas_studies"
   ]
  },
  {
   "cell_type": "markdown",
   "id": "b981dcdf",
   "metadata": {},
   "source": [
    "## Load pieQTLs"
   ]
  },
  {
   "cell_type": "code",
   "execution_count": 7,
   "id": "6cd23b57",
   "metadata": {},
   "outputs": [
    {
     "name": "stdout",
     "output_type": "stream",
     "text": [
      "results/main/pieqtls/2021_chandra_et_al/B-cell_naive/proximal.pieqtls.tsv\n",
      "results/main/pieqtls/2021_chandra_et_al/NK-cell_naive/proximal.pieqtls.tsv\n",
      "results/main/pieqtls/2021_chandra_et_al/monocyte_naive/proximal.pieqtls.tsv\n",
      "results/main/pieqtls/2021_chandra_et_al/CD4_T-cell_naive/proximal.pieqtls.tsv\n",
      "results/main/pieqtls/2021_chandra_et_al/CD8_T-cell_naive/proximal.pieqtls.tsv\n"
     ]
    }
   ],
   "source": [
    "pieqtls = glob.glob('results/main/pieqtls/2021_chandra_et_al/*/proximal.pieqtls.tsv')\n",
    "\n",
    "pieqtl_data = []\n",
    "for pieqtl in pieqtls:\n",
    "    print(pieqtl)\n",
    "    \n",
    "    cline = pieqtl.split('/')[-2]\n",
    "    df = pd.read_table(pieqtl)    \n",
    "    df['cline'] = cline\n",
    "    pieqtl_data.append(df) \n",
    "    \n",
    "pieqtl_df = pd.concat(pieqtl_data)\n",
    "pieqtl_df['Chromosome'] = pieqtl_df['Chromosome']\n",
    "pieqtl_df.loc[:, 'sid'] = pieqtl_df['Chromosome'].str.replace('chr', '') + ':' + \\\n",
    "                          pieqtl_df['pieQTL.Position'].astype(str)"
   ]
  },
  {
   "cell_type": "code",
   "execution_count": 8,
   "id": "458bce03",
   "metadata": {},
   "outputs": [
    {
     "data": {
      "text/html": [
       "<div>\n",
       "<style scoped>\n",
       "    .dataframe tbody tr th:only-of-type {\n",
       "        vertical-align: middle;\n",
       "    }\n",
       "\n",
       "    .dataframe tbody tr th {\n",
       "        vertical-align: top;\n",
       "    }\n",
       "\n",
       "    .dataframe thead th {\n",
       "        text-align: right;\n",
       "    }\n",
       "</style>\n",
       "<table border=\"1\" class=\"dataframe\">\n",
       "  <thead>\n",
       "    <tr style=\"text-align: right;\">\n",
       "      <th></th>\n",
       "      <th>Number of pieQTL Genes</th>\n",
       "    </tr>\n",
       "    <tr>\n",
       "      <th>cline</th>\n",
       "      <th></th>\n",
       "    </tr>\n",
       "  </thead>\n",
       "  <tbody>\n",
       "    <tr>\n",
       "      <th>B-cell_naive</th>\n",
       "      <td>1233</td>\n",
       "    </tr>\n",
       "    <tr>\n",
       "      <th>CD4_T-cell_naive</th>\n",
       "      <td>1168</td>\n",
       "    </tr>\n",
       "    <tr>\n",
       "      <th>CD8_T-cell_naive</th>\n",
       "      <td>1081</td>\n",
       "    </tr>\n",
       "    <tr>\n",
       "      <th>NK-cell_naive</th>\n",
       "      <td>872</td>\n",
       "    </tr>\n",
       "    <tr>\n",
       "      <th>monocyte_naive</th>\n",
       "      <td>1065</td>\n",
       "    </tr>\n",
       "  </tbody>\n",
       "</table>\n",
       "</div>"
      ],
      "text/plain": [
       "                  Number of pieQTL Genes\n",
       "cline                                   \n",
       "B-cell_naive                        1233\n",
       "CD4_T-cell_naive                    1168\n",
       "CD8_T-cell_naive                    1081\n",
       "NK-cell_naive                        872\n",
       "monocyte_naive                      1065"
      ]
     },
     "execution_count": 8,
     "metadata": {},
     "output_type": "execute_result"
    }
   ],
   "source": [
    "individual_cells = pieqtl_df.groupby('cline').Target_geneID.nunique()\n",
    "individual_cells = individual_cells.to_frame()\n",
    "individual_cells.columns = ['Number of pieQTL Genes']\n",
    "individual_cells"
   ]
  },
  {
   "cell_type": "code",
   "execution_count": 9,
   "id": "e781c384",
   "metadata": {},
   "outputs": [
    {
     "data": {
      "text/html": [
       "<div>\n",
       "<style scoped>\n",
       "    .dataframe tbody tr th:only-of-type {\n",
       "        vertical-align: middle;\n",
       "    }\n",
       "\n",
       "    .dataframe tbody tr th {\n",
       "        vertical-align: top;\n",
       "    }\n",
       "\n",
       "    .dataframe thead th {\n",
       "        text-align: right;\n",
       "    }\n",
       "</style>\n",
       "<table border=\"1\" class=\"dataframe\">\n",
       "  <thead>\n",
       "    <tr style=\"text-align: right;\">\n",
       "      <th></th>\n",
       "      <th>Number of pieQTL SNPs</th>\n",
       "    </tr>\n",
       "    <tr>\n",
       "      <th>cline</th>\n",
       "      <th></th>\n",
       "    </tr>\n",
       "  </thead>\n",
       "  <tbody>\n",
       "    <tr>\n",
       "      <th>B-cell_naive</th>\n",
       "      <td>8110</td>\n",
       "    </tr>\n",
       "    <tr>\n",
       "      <th>CD4_T-cell_naive</th>\n",
       "      <td>6800</td>\n",
       "    </tr>\n",
       "    <tr>\n",
       "      <th>CD8_T-cell_naive</th>\n",
       "      <td>5539</td>\n",
       "    </tr>\n",
       "    <tr>\n",
       "      <th>NK-cell_naive</th>\n",
       "      <td>5332</td>\n",
       "    </tr>\n",
       "    <tr>\n",
       "      <th>monocyte_naive</th>\n",
       "      <td>6006</td>\n",
       "    </tr>\n",
       "  </tbody>\n",
       "</table>\n",
       "</div>"
      ],
      "text/plain": [
       "                  Number of pieQTL SNPs\n",
       "cline                                  \n",
       "B-cell_naive                       8110\n",
       "CD4_T-cell_naive                   6800\n",
       "CD8_T-cell_naive                   5539\n",
       "NK-cell_naive                      5332\n",
       "monocyte_naive                     6006"
      ]
     },
     "execution_count": 9,
     "metadata": {},
     "output_type": "execute_result"
    }
   ],
   "source": [
    "individual_cells = pieqtl_df.groupby('cline').sid.nunique()\n",
    "individual_cells = individual_cells.to_frame()\n",
    "individual_cells.columns = ['Number of pieQTL SNPs']\n",
    "individual_cells"
   ]
  },
  {
   "cell_type": "code",
   "execution_count": 10,
   "id": "4fc67bca",
   "metadata": {},
   "outputs": [
    {
     "name": "stderr",
     "output_type": "stream",
     "text": [
      "/mnt/hpcscratch/jreyna//ipykernel_75129/2754423286.py:3: SettingWithCopyWarning: \n",
      "A value is trying to be set on a copy of a slice from a DataFrame.\n",
      "Try using .loc[row_indexer,col_indexer] = value instead\n",
      "\n",
      "See the caveats in the documentation: https://pandas.pydata.org/pandas-docs/stable/user_guide/indexing.html#returning-a-view-versus-a-copy\n",
      "  pieqtl_bed.loc[:, 'start'] = pieqtl_bed['start'] - 1\n"
     ]
    }
   ],
   "source": [
    "pieqtl_bed = pieqtl_df.iloc[:, [1,2,2,-1]]\n",
    "pieqtl_bed.columns = ['chrom', 'start', 'end', 'cline']\n",
    "pieqtl_bed.loc[:, 'start'] = pieqtl_bed['start'] - 1\n",
    "pieqtl_pbt = pbt.BedTool.from_dataframe(pieqtl_bed)"
   ]
  },
  {
   "cell_type": "code",
   "execution_count": 11,
   "id": "647a3492",
   "metadata": {},
   "outputs": [
    {
     "data": {
      "text/plain": [
       "(35898, 4)"
      ]
     },
     "execution_count": 11,
     "metadata": {},
     "output_type": "execute_result"
    }
   ],
   "source": [
    "pieqtl_bed.shape"
   ]
  },
  {
   "cell_type": "markdown",
   "id": "c4b1e34a",
   "metadata": {},
   "source": [
    "## Intersect pieQTLs and Sig GWAS"
   ]
  },
  {
   "cell_type": "code",
   "execution_count": 12,
   "id": "a27c887c",
   "metadata": {},
   "outputs": [],
   "source": [
    "major_cols = ['ge_source',\n",
    "              'rsid',\n",
    "             'chrom',\n",
    "             'pos',\n",
    "             'geneid',\n",
    "             'genename',\n",
    "             'allele1',\n",
    "             'allele2',\n",
    "             'maf',\n",
    "             'beta_x',\n",
    "             'se',\n",
    "             'z',\n",
    "             'prob',\n",
    "             'log10bf',\n",
    "             'mean',\n",
    "             'sd',\n",
    "             'mean_incl',\n",
    "             'sd_incl',\n",
    "             'pval',\n",
    "             'gwas_source',\n",
    "             'pieQTL.ID',\n",
    "             'Chromosome',\n",
    "             'pieQTL.Position',\n",
    "             'Target_geneName',\n",
    "             'TSS',\n",
    "             'pvalue',\n",
    "             'FDR (DICE)',\n",
    "             'beta_y',\n",
    "             'ref',\n",
    "             'alt',\n",
    "             'Mean.TPM.Homozygous.Reference',\n",
    "             'Mean.TPM.Heterozygous',\n",
    "             'Mean.TPM.Homozygous.Alternative',\n",
    "             'Interaction_type',\n",
    "             'GWAS.Trait',\n",
    "             'cline',\n",
    "             'regionID',\n",
    "             'GWASLoci',\n",
    "             'index']"
   ]
  },
  {
   "cell_type": "markdown",
   "id": "c1f24411",
   "metadata": {},
   "source": [
    "\n",
    "### Intersection"
   ]
  },
  {
   "cell_type": "code",
   "execution_count": 13,
   "id": "8ee87b2b",
   "metadata": {},
   "outputs": [],
   "source": [
    "intersect_df = pd.merge(gwas_df, pieqtl_df,\n",
    "                        left_on=['CHR', 'POS'],\n",
    "                        right_on=['Chromosome', 'pieQTL.Position'],\n",
    "                        how='inner')"
   ]
  },
  {
   "cell_type": "code",
   "execution_count": 14,
   "id": "d9864a74",
   "metadata": {},
   "outputs": [
    {
     "data": {
      "text/html": [
       "<div>\n",
       "<style scoped>\n",
       "    .dataframe tbody tr th:only-of-type {\n",
       "        vertical-align: middle;\n",
       "    }\n",
       "\n",
       "    .dataframe tbody tr th {\n",
       "        vertical-align: top;\n",
       "    }\n",
       "\n",
       "    .dataframe thead th {\n",
       "        text-align: right;\n",
       "    }\n",
       "</style>\n",
       "<table border=\"1\" class=\"dataframe\">\n",
       "  <thead>\n",
       "    <tr style=\"text-align: right;\">\n",
       "      <th></th>\n",
       "      <th>Number of Unique Genes from pieQTL &amp; Sig.GWAS Intersection</th>\n",
       "    </tr>\n",
       "    <tr>\n",
       "      <th>cline</th>\n",
       "      <th></th>\n",
       "    </tr>\n",
       "  </thead>\n",
       "  <tbody>\n",
       "    <tr>\n",
       "      <th>B-cell_naive</th>\n",
       "      <td>39</td>\n",
       "    </tr>\n",
       "    <tr>\n",
       "      <th>CD4_T-cell_naive</th>\n",
       "      <td>33</td>\n",
       "    </tr>\n",
       "    <tr>\n",
       "      <th>CD8_T-cell_naive</th>\n",
       "      <td>35</td>\n",
       "    </tr>\n",
       "    <tr>\n",
       "      <th>NK-cell_naive</th>\n",
       "      <td>45</td>\n",
       "    </tr>\n",
       "    <tr>\n",
       "      <th>monocyte_naive</th>\n",
       "      <td>25</td>\n",
       "    </tr>\n",
       "  </tbody>\n",
       "</table>\n",
       "</div>"
      ],
      "text/plain": [
       "                  Number of Unique Genes from pieQTL & Sig.GWAS Intersection\n",
       "cline                                                                       \n",
       "B-cell_naive                                                     39         \n",
       "CD4_T-cell_naive                                                 33         \n",
       "CD8_T-cell_naive                                                 35         \n",
       "NK-cell_naive                                                    45         \n",
       "monocyte_naive                                                   25         "
      ]
     },
     "execution_count": 14,
     "metadata": {},
     "output_type": "execute_result"
    }
   ],
   "source": [
    "indiv_cell_intersect = intersect_df.groupby('cline').Target_geneID.nunique().to_frame()\n",
    "indiv_cell_intersect.columns = ['Number of Unique Genes from pieQTL & Sig.GWAS Intersection']\n",
    "indiv_cell_intersect"
   ]
  },
  {
   "cell_type": "code",
   "execution_count": 15,
   "id": "6c069f0c",
   "metadata": {},
   "outputs": [
    {
     "data": {
      "text/html": [
       "<div>\n",
       "<style scoped>\n",
       "    .dataframe tbody tr th:only-of-type {\n",
       "        vertical-align: middle;\n",
       "    }\n",
       "\n",
       "    .dataframe tbody tr th {\n",
       "        vertical-align: top;\n",
       "    }\n",
       "\n",
       "    .dataframe thead th {\n",
       "        text-align: right;\n",
       "    }\n",
       "</style>\n",
       "<table border=\"1\" class=\"dataframe\">\n",
       "  <thead>\n",
       "    <tr style=\"text-align: right;\">\n",
       "      <th></th>\n",
       "      <th>Number of Unique SNPs from pieQTL &amp; Sig.GWAS Intersection</th>\n",
       "    </tr>\n",
       "    <tr>\n",
       "      <th>cline</th>\n",
       "      <th></th>\n",
       "    </tr>\n",
       "  </thead>\n",
       "  <tbody>\n",
       "    <tr>\n",
       "      <th>B-cell_naive</th>\n",
       "      <td>348</td>\n",
       "    </tr>\n",
       "    <tr>\n",
       "      <th>CD4_T-cell_naive</th>\n",
       "      <td>322</td>\n",
       "    </tr>\n",
       "    <tr>\n",
       "      <th>CD8_T-cell_naive</th>\n",
       "      <td>269</td>\n",
       "    </tr>\n",
       "    <tr>\n",
       "      <th>NK-cell_naive</th>\n",
       "      <td>319</td>\n",
       "    </tr>\n",
       "    <tr>\n",
       "      <th>monocyte_naive</th>\n",
       "      <td>116</td>\n",
       "    </tr>\n",
       "  </tbody>\n",
       "</table>\n",
       "</div>"
      ],
      "text/plain": [
       "                  Number of Unique SNPs from pieQTL & Sig.GWAS Intersection\n",
       "cline                                                                      \n",
       "B-cell_naive                                                    348        \n",
       "CD4_T-cell_naive                                                322        \n",
       "CD8_T-cell_naive                                                269        \n",
       "NK-cell_naive                                                   319        \n",
       "monocyte_naive                                                  116        "
      ]
     },
     "execution_count": 15,
     "metadata": {},
     "output_type": "execute_result"
    }
   ],
   "source": [
    "indiv_cell_intersect = intersect_df.groupby('cline').sid_x.nunique().to_frame()\n",
    "indiv_cell_intersect.columns = ['Number of Unique SNPs from pieQTL & Sig.GWAS Intersection']\n",
    "indiv_cell_intersect"
   ]
  },
  {
   "cell_type": "code",
   "execution_count": 16,
   "id": "6c82bb6c",
   "metadata": {},
   "outputs": [
    {
     "data": {
      "text/html": [
       "<div>\n",
       "<style scoped>\n",
       "    .dataframe tbody tr th:only-of-type {\n",
       "        vertical-align: middle;\n",
       "    }\n",
       "\n",
       "    .dataframe tbody tr th {\n",
       "        vertical-align: top;\n",
       "    }\n",
       "\n",
       "    .dataframe thead th {\n",
       "        text-align: right;\n",
       "    }\n",
       "</style>\n",
       "<table border=\"1\" class=\"dataframe\">\n",
       "  <thead>\n",
       "    <tr style=\"text-align: right;\">\n",
       "      <th></th>\n",
       "      <th></th>\n",
       "      <th>Number of Unique Genes from pieQTL &amp; Sig.GWAS Intersection</th>\n",
       "    </tr>\n",
       "    <tr>\n",
       "      <th>cline</th>\n",
       "      <th>gwas_source</th>\n",
       "      <th></th>\n",
       "    </tr>\n",
       "  </thead>\n",
       "  <tbody>\n",
       "    <tr>\n",
       "      <th rowspan=\"3\" valign=\"top\">B-cell_naive</th>\n",
       "      <th>T1D_32005708</th>\n",
       "      <td>28</td>\n",
       "    </tr>\n",
       "    <tr>\n",
       "      <th>T1D_34012112_Gaulton</th>\n",
       "      <td>34</td>\n",
       "    </tr>\n",
       "    <tr>\n",
       "      <th>T1D_34594039_GCST90018925</th>\n",
       "      <td>21</td>\n",
       "    </tr>\n",
       "    <tr>\n",
       "      <th rowspan=\"3\" valign=\"top\">CD4_T-cell_naive</th>\n",
       "      <th>T1D_32005708</th>\n",
       "      <td>15</td>\n",
       "    </tr>\n",
       "    <tr>\n",
       "      <th>T1D_34012112_Gaulton</th>\n",
       "      <td>29</td>\n",
       "    </tr>\n",
       "    <tr>\n",
       "      <th>T1D_34594039_GCST90018925</th>\n",
       "      <td>14</td>\n",
       "    </tr>\n",
       "    <tr>\n",
       "      <th rowspan=\"3\" valign=\"top\">CD8_T-cell_naive</th>\n",
       "      <th>T1D_32005708</th>\n",
       "      <td>18</td>\n",
       "    </tr>\n",
       "    <tr>\n",
       "      <th>T1D_34012112_Gaulton</th>\n",
       "      <td>30</td>\n",
       "    </tr>\n",
       "    <tr>\n",
       "      <th>T1D_34594039_GCST90018925</th>\n",
       "      <td>15</td>\n",
       "    </tr>\n",
       "    <tr>\n",
       "      <th rowspan=\"3\" valign=\"top\">NK-cell_naive</th>\n",
       "      <th>T1D_32005708</th>\n",
       "      <td>34</td>\n",
       "    </tr>\n",
       "    <tr>\n",
       "      <th>T1D_34012112_Gaulton</th>\n",
       "      <td>36</td>\n",
       "    </tr>\n",
       "    <tr>\n",
       "      <th>T1D_34594039_GCST90018925</th>\n",
       "      <td>17</td>\n",
       "    </tr>\n",
       "    <tr>\n",
       "      <th rowspan=\"3\" valign=\"top\">monocyte_naive</th>\n",
       "      <th>T1D_32005708</th>\n",
       "      <td>14</td>\n",
       "    </tr>\n",
       "    <tr>\n",
       "      <th>T1D_34012112_Gaulton</th>\n",
       "      <td>22</td>\n",
       "    </tr>\n",
       "    <tr>\n",
       "      <th>T1D_34594039_GCST90018925</th>\n",
       "      <td>8</td>\n",
       "    </tr>\n",
       "  </tbody>\n",
       "</table>\n",
       "</div>"
      ],
      "text/plain": [
       "                                            Number of Unique Genes from pieQTL & Sig.GWAS Intersection\n",
       "cline            gwas_source                                                                          \n",
       "B-cell_naive     T1D_32005708                                                              28         \n",
       "                 T1D_34012112_Gaulton                                                      34         \n",
       "                 T1D_34594039_GCST90018925                                                 21         \n",
       "CD4_T-cell_naive T1D_32005708                                                              15         \n",
       "                 T1D_34012112_Gaulton                                                      29         \n",
       "                 T1D_34594039_GCST90018925                                                 14         \n",
       "CD8_T-cell_naive T1D_32005708                                                              18         \n",
       "                 T1D_34012112_Gaulton                                                      30         \n",
       "                 T1D_34594039_GCST90018925                                                 15         \n",
       "NK-cell_naive    T1D_32005708                                                              34         \n",
       "                 T1D_34012112_Gaulton                                                      36         \n",
       "                 T1D_34594039_GCST90018925                                                 17         \n",
       "monocyte_naive   T1D_32005708                                                              14         \n",
       "                 T1D_34012112_Gaulton                                                      22         \n",
       "                 T1D_34594039_GCST90018925                                                  8         "
      ]
     },
     "execution_count": 16,
     "metadata": {},
     "output_type": "execute_result"
    }
   ],
   "source": [
    "indiv_cell_intersect = intersect_df.groupby(['cline', 'gwas_source']).Target_geneID.nunique().to_frame()\n",
    "indiv_cell_intersect.columns = ['Number of Unique Genes from pieQTL & Sig.GWAS Intersection']\n",
    "indiv_cell_intersect"
   ]
  },
  {
   "cell_type": "code",
   "execution_count": 17,
   "id": "2c9fe440",
   "metadata": {},
   "outputs": [
    {
     "data": {
      "text/html": [
       "<div>\n",
       "<style scoped>\n",
       "    .dataframe tbody tr th:only-of-type {\n",
       "        vertical-align: middle;\n",
       "    }\n",
       "\n",
       "    .dataframe tbody tr th {\n",
       "        vertical-align: top;\n",
       "    }\n",
       "\n",
       "    .dataframe thead th {\n",
       "        text-align: right;\n",
       "    }\n",
       "</style>\n",
       "<table border=\"1\" class=\"dataframe\">\n",
       "  <thead>\n",
       "    <tr style=\"text-align: right;\">\n",
       "      <th></th>\n",
       "      <th></th>\n",
       "      <th>Number of Unique SNPs from pieQTL &amp; Sig.GWAS Intersection</th>\n",
       "    </tr>\n",
       "    <tr>\n",
       "      <th>cline</th>\n",
       "      <th>gwas_source</th>\n",
       "      <th></th>\n",
       "    </tr>\n",
       "  </thead>\n",
       "  <tbody>\n",
       "    <tr>\n",
       "      <th rowspan=\"3\" valign=\"top\">B-cell_naive</th>\n",
       "      <th>T1D_32005708</th>\n",
       "      <td>186</td>\n",
       "    </tr>\n",
       "    <tr>\n",
       "      <th>T1D_34012112_Gaulton</th>\n",
       "      <td>241</td>\n",
       "    </tr>\n",
       "    <tr>\n",
       "      <th>T1D_34594039_GCST90018925</th>\n",
       "      <td>116</td>\n",
       "    </tr>\n",
       "    <tr>\n",
       "      <th rowspan=\"3\" valign=\"top\">CD4_T-cell_naive</th>\n",
       "      <th>T1D_32005708</th>\n",
       "      <td>142</td>\n",
       "    </tr>\n",
       "    <tr>\n",
       "      <th>T1D_34012112_Gaulton</th>\n",
       "      <td>198</td>\n",
       "    </tr>\n",
       "    <tr>\n",
       "      <th>T1D_34594039_GCST90018925</th>\n",
       "      <td>53</td>\n",
       "    </tr>\n",
       "    <tr>\n",
       "      <th rowspan=\"3\" valign=\"top\">CD8_T-cell_naive</th>\n",
       "      <th>T1D_32005708</th>\n",
       "      <td>136</td>\n",
       "    </tr>\n",
       "    <tr>\n",
       "      <th>T1D_34012112_Gaulton</th>\n",
       "      <td>155</td>\n",
       "    </tr>\n",
       "    <tr>\n",
       "      <th>T1D_34594039_GCST90018925</th>\n",
       "      <td>73</td>\n",
       "    </tr>\n",
       "    <tr>\n",
       "      <th rowspan=\"3\" valign=\"top\">NK-cell_naive</th>\n",
       "      <th>T1D_32005708</th>\n",
       "      <td>171</td>\n",
       "    </tr>\n",
       "    <tr>\n",
       "      <th>T1D_34012112_Gaulton</th>\n",
       "      <td>175</td>\n",
       "    </tr>\n",
       "    <tr>\n",
       "      <th>T1D_34594039_GCST90018925</th>\n",
       "      <td>77</td>\n",
       "    </tr>\n",
       "    <tr>\n",
       "      <th rowspan=\"3\" valign=\"top\">monocyte_naive</th>\n",
       "      <th>T1D_32005708</th>\n",
       "      <td>82</td>\n",
       "    </tr>\n",
       "    <tr>\n",
       "      <th>T1D_34012112_Gaulton</th>\n",
       "      <td>76</td>\n",
       "    </tr>\n",
       "    <tr>\n",
       "      <th>T1D_34594039_GCST90018925</th>\n",
       "      <td>33</td>\n",
       "    </tr>\n",
       "  </tbody>\n",
       "</table>\n",
       "</div>"
      ],
      "text/plain": [
       "                                            Number of Unique SNPs from pieQTL & Sig.GWAS Intersection\n",
       "cline            gwas_source                                                                         \n",
       "B-cell_naive     T1D_32005708                                                             186        \n",
       "                 T1D_34012112_Gaulton                                                     241        \n",
       "                 T1D_34594039_GCST90018925                                                116        \n",
       "CD4_T-cell_naive T1D_32005708                                                             142        \n",
       "                 T1D_34012112_Gaulton                                                     198        \n",
       "                 T1D_34594039_GCST90018925                                                 53        \n",
       "CD8_T-cell_naive T1D_32005708                                                             136        \n",
       "                 T1D_34012112_Gaulton                                                     155        \n",
       "                 T1D_34594039_GCST90018925                                                 73        \n",
       "NK-cell_naive    T1D_32005708                                                             171        \n",
       "                 T1D_34012112_Gaulton                                                     175        \n",
       "                 T1D_34594039_GCST90018925                                                 77        \n",
       "monocyte_naive   T1D_32005708                                                              82        \n",
       "                 T1D_34012112_Gaulton                                                      76        \n",
       "                 T1D_34594039_GCST90018925                                                 33        "
      ]
     },
     "execution_count": 17,
     "metadata": {},
     "output_type": "execute_result"
    }
   ],
   "source": [
    "indiv_cell_intersect = intersect_df.groupby(['cline', 'gwas_source']).sid_x.nunique().to_frame()\n",
    "indiv_cell_intersect.columns = ['Number of Unique SNPs from pieQTL & Sig.GWAS Intersection']\n",
    "indiv_cell_intersect"
   ]
  },
  {
   "cell_type": "code",
   "execution_count": 18,
   "id": "25e15fc8",
   "metadata": {},
   "outputs": [],
   "source": [
    "def get_genename(x):\n",
    "    if x in gencode_dict:\n",
    "        return(gencode_dict[x])\n",
    "    else:\n",
    "        return(x)"
   ]
  },
  {
   "cell_type": "code",
   "execution_count": 19,
   "id": "7a0895a1",
   "metadata": {},
   "outputs": [],
   "source": [
    "intersect_df.loc[:, 'geneid'] = intersect_df['Target_geneID'].str.replace('\\.[0-9]*', '', regex=True)\n",
    "intersect_df.loc[:, 'genename'] = intersect_df.loc[:, 'geneid'].apply(get_genename)"
   ]
  },
  {
   "cell_type": "code",
   "execution_count": 20,
   "id": "d18ad120",
   "metadata": {},
   "outputs": [
    {
     "data": {
      "text/plain": [
       "91"
      ]
     },
     "execution_count": 20,
     "metadata": {},
     "output_type": "execute_result"
    }
   ],
   "source": [
    "intersect_df.loc[:, 'geneid'].nunique()"
   ]
  },
  {
   "cell_type": "code",
   "execution_count": 21,
   "id": "8fdfadf2",
   "metadata": {},
   "outputs": [
    {
     "name": "stdout",
     "output_type": "stream",
     "text": [
      "C1orf216\n",
      "SF3A3\n",
      "FHL3\n",
      "PTPN22\n",
      "RGS1\n",
      "NPM1P33\n",
      "KRT18P39\n",
      "CD28\n",
      "SLC22A5\n",
      "BTN3A1\n",
      "BTN2A2\n",
      "ZSCAN26\n",
      "ZNF165\n",
      "AL645939.1\n",
      "IFITM4P\n",
      "ZDHHC20P1\n",
      "ZFP57\n",
      "AL645929.1\n",
      "HCG4B\n",
      "AL671277.2\n",
      "RNF39\n",
      "FLOT1\n",
      "DHX16\n",
      "PPP1R18\n",
      "ZNRD1ASP\n",
      "TRIM26\n",
      "VARS2\n",
      "MRPS18B\n",
      "TUBB\n",
      "C6orf136\n",
      "RF00019\n",
      "PRRC2A\n",
      "BAG6\n",
      "CCHCR1\n",
      "CSNK2B\n",
      "C6orf47\n",
      "TCF19\n",
      "HCG27\n",
      "AL662844.3\n",
      "AL662844.4\n",
      "MICB\n",
      "MICA\n",
      "AL645933.2\n",
      "LST1\n",
      "NCR3\n",
      "LY6G5B\n",
      "LY6G5C\n",
      "C6orf48\n",
      "AIF1\n",
      "MSH5\n",
      "PPT2\n",
      "SKIV2L\n",
      "BTNL2\n",
      "ENSG00000228962\n",
      "TSBP1\n",
      "HCG24\n",
      "TAP2\n",
      "WDR46\n",
      "PFDN6\n",
      "RPL32P1\n",
      "BACH2\n",
      "AP003774.4\n",
      "M6PR\n",
      "LINC02390\n",
      "SUOX\n",
      "ATXN2\n",
      "TMEM116\n",
      "HECTD4\n",
      "MAPKAPK5\n",
      "CTSH\n",
      "AC009121.1\n",
      "RMI2\n",
      "DND1P1\n",
      "KANSL1-AS1\n",
      "AP005482.1\n",
      "ZGLP1\n",
      "PRKD2\n",
      "TMPRSS3\n",
      "ZSCAN9\n",
      "TRIM27\n",
      "ENSG00000261353\n",
      "BTN2A3P\n",
      "ZKSCAN4\n",
      "BTN2A1\n",
      "BTN3A2\n",
      "HMGN4\n",
      "HCG18\n",
      "GNL1\n",
      "ZSCAN23\n",
      "ZNF192P1\n"
     ]
    }
   ],
   "source": [
    "for x in intersect_df.genename.unique():\n",
    "    print(x)"
   ]
  },
  {
   "cell_type": "markdown",
   "id": "b6fdf11c",
   "metadata": {},
   "source": [
    "## Summarize"
   ]
  },
  {
   "cell_type": "code",
   "execution_count": 22,
   "id": "94f35bf9",
   "metadata": {},
   "outputs": [],
   "source": [
    "# find the unique SNPs\n",
    "uniq_snps_by_cells = intersect_df.groupby('cline').sid_x.nunique()\n",
    "uniq_snps_by_cells = uniq_snps_by_cells.to_frame()\n",
    "\n",
    "# find the unique genes \n",
    "uniq_genes_by_cells = intersect_df.groupby('cline').geneid.nunique()\n",
    "uniq_genes_by_cells = uniq_genes_by_cells.to_frame()\n",
    "\n",
    "# merge snps and genes\n",
    "uniq_counts_by_cells = pd.merge(uniq_snps_by_cells, uniq_genes_by_cells, left_index=True, right_index=True)\n",
    "uniq_counts_by_cells.columns = ['Number of Unique SNPs', 'Number of Unique Genes']\n",
    "uniq_counts_by_cells.index.name = 'Cell Line'"
   ]
  },
  {
   "cell_type": "code",
   "execution_count": 23,
   "id": "85a82a29",
   "metadata": {},
   "outputs": [],
   "source": [
    "# save the file\n",
    "excel_analysis = os.path.join(outdir, 'Unique_Counts_By_Cell_Line.xlsx')\n",
    "uniq_counts_by_cells.to_excel(excel_analysis, sheet_name='pieqtls')"
   ]
  },
  {
   "cell_type": "code",
   "execution_count": 24,
   "id": "1607399d",
   "metadata": {},
   "outputs": [
    {
     "data": {
      "text/html": [
       "<div>\n",
       "<style scoped>\n",
       "    .dataframe tbody tr th:only-of-type {\n",
       "        vertical-align: middle;\n",
       "    }\n",
       "\n",
       "    .dataframe tbody tr th {\n",
       "        vertical-align: top;\n",
       "    }\n",
       "\n",
       "    .dataframe thead th {\n",
       "        text-align: right;\n",
       "    }\n",
       "</style>\n",
       "<table border=\"1\" class=\"dataframe\">\n",
       "  <thead>\n",
       "    <tr style=\"text-align: right;\">\n",
       "      <th></th>\n",
       "      <th>geneid</th>\n",
       "    </tr>\n",
       "    <tr>\n",
       "      <th>cline</th>\n",
       "      <th></th>\n",
       "    </tr>\n",
       "  </thead>\n",
       "  <tbody>\n",
       "    <tr>\n",
       "      <th>B-cell_naive</th>\n",
       "      <td>39</td>\n",
       "    </tr>\n",
       "    <tr>\n",
       "      <th>CD4_T-cell_naive</th>\n",
       "      <td>33</td>\n",
       "    </tr>\n",
       "    <tr>\n",
       "      <th>CD8_T-cell_naive</th>\n",
       "      <td>35</td>\n",
       "    </tr>\n",
       "    <tr>\n",
       "      <th>NK-cell_naive</th>\n",
       "      <td>45</td>\n",
       "    </tr>\n",
       "    <tr>\n",
       "      <th>monocyte_naive</th>\n",
       "      <td>25</td>\n",
       "    </tr>\n",
       "  </tbody>\n",
       "</table>\n",
       "</div>"
      ],
      "text/plain": [
       "                  geneid\n",
       "cline                   \n",
       "B-cell_naive          39\n",
       "CD4_T-cell_naive      33\n",
       "CD8_T-cell_naive      35\n",
       "NK-cell_naive         45\n",
       "monocyte_naive        25"
      ]
     },
     "execution_count": 24,
     "metadata": {},
     "output_type": "execute_result"
    }
   ],
   "source": [
    "uniq_genes_by_cells"
   ]
  },
  {
   "cell_type": "code",
   "execution_count": 25,
   "id": "5d735083",
   "metadata": {},
   "outputs": [
    {
     "data": {
      "text/plain": [
       "'results/main/pieqtls/sgl_intersect/Unique_Counts_By_Cell_Line.xlsx'"
      ]
     },
     "execution_count": 25,
     "metadata": {},
     "output_type": "execute_result"
    }
   ],
   "source": [
    "excel_analysis"
   ]
  },
  {
   "cell_type": "markdown",
   "id": "0785eaf1",
   "metadata": {},
   "source": [
    "#### Write the gene list as well"
   ]
  },
  {
   "cell_type": "code",
   "execution_count": 26,
   "id": "619449e9",
   "metadata": {},
   "outputs": [],
   "source": [
    "gh_list = sorted(intersect_df.geneid.unique().tolist())\n",
    "gh_fn = os.path.join(outdir, 'gene_list.txt')\n",
    "with open(gh_fn, 'w') as fw:\n",
    "    for x in gh_list:\n",
    "        fw.write('{}\\n'.format(x))"
   ]
  },
  {
   "cell_type": "code",
   "execution_count": 27,
   "id": "78fca0e4",
   "metadata": {},
   "outputs": [],
   "source": [
    "gh_list = sorted(intersect_df.geneid.unique().tolist())"
   ]
  },
  {
   "cell_type": "code",
   "execution_count": 28,
   "id": "b1a5a12a",
   "metadata": {},
   "outputs": [
    {
     "data": {
      "text/plain": [
       "91"
      ]
     },
     "execution_count": 28,
     "metadata": {},
     "output_type": "execute_result"
    }
   ],
   "source": [
    "len(gh_list)"
   ]
  },
  {
   "cell_type": "code",
   "execution_count": 29,
   "id": "8833dd03",
   "metadata": {},
   "outputs": [
    {
     "data": {
      "text/html": [
       "<div>\n",
       "<style scoped>\n",
       "    .dataframe tbody tr th:only-of-type {\n",
       "        vertical-align: middle;\n",
       "    }\n",
       "\n",
       "    .dataframe tbody tr th {\n",
       "        vertical-align: top;\n",
       "    }\n",
       "\n",
       "    .dataframe thead th {\n",
       "        text-align: right;\n",
       "    }\n",
       "</style>\n",
       "<table border=\"1\" class=\"dataframe\">\n",
       "  <thead>\n",
       "    <tr style=\"text-align: right;\">\n",
       "      <th></th>\n",
       "      <th>cline</th>\n",
       "      <th>geneid</th>\n",
       "    </tr>\n",
       "  </thead>\n",
       "  <tbody>\n",
       "    <tr>\n",
       "      <th>0</th>\n",
       "      <td>monocyte_naive</td>\n",
       "      <td>ENSG00000142686</td>\n",
       "    </tr>\n",
       "    <tr>\n",
       "      <th>1</th>\n",
       "      <td>NK-cell_naive</td>\n",
       "      <td>ENSG00000183431</td>\n",
       "    </tr>\n",
       "    <tr>\n",
       "      <th>2</th>\n",
       "      <td>CD4_T-cell_naive</td>\n",
       "      <td>ENSG00000183386</td>\n",
       "    </tr>\n",
       "    <tr>\n",
       "      <th>3</th>\n",
       "      <td>CD8_T-cell_naive</td>\n",
       "      <td>ENSG00000183386</td>\n",
       "    </tr>\n",
       "    <tr>\n",
       "      <th>4</th>\n",
       "      <td>NK-cell_naive</td>\n",
       "      <td>ENSG00000183431</td>\n",
       "    </tr>\n",
       "    <tr>\n",
       "      <th>...</th>\n",
       "      <td>...</td>\n",
       "      <td>...</td>\n",
       "    </tr>\n",
       "    <tr>\n",
       "      <th>2137</th>\n",
       "      <td>CD4_T-cell_naive</td>\n",
       "      <td>ENSG00000271821</td>\n",
       "    </tr>\n",
       "    <tr>\n",
       "      <th>2138</th>\n",
       "      <td>CD4_T-cell_naive</td>\n",
       "      <td>ENSG00000206344</td>\n",
       "    </tr>\n",
       "    <tr>\n",
       "      <th>2139</th>\n",
       "      <td>CD4_T-cell_naive</td>\n",
       "      <td>ENSG00000271821</td>\n",
       "    </tr>\n",
       "    <tr>\n",
       "      <th>2140</th>\n",
       "      <td>NK-cell_naive</td>\n",
       "      <td>ENSG00000206344</td>\n",
       "    </tr>\n",
       "    <tr>\n",
       "      <th>2141</th>\n",
       "      <td>B-cell_naive</td>\n",
       "      <td>ENSG00000204267</td>\n",
       "    </tr>\n",
       "  </tbody>\n",
       "</table>\n",
       "<p>2142 rows × 2 columns</p>\n",
       "</div>"
      ],
      "text/plain": [
       "                 cline           geneid\n",
       "0       monocyte_naive  ENSG00000142686\n",
       "1        NK-cell_naive  ENSG00000183431\n",
       "2     CD4_T-cell_naive  ENSG00000183386\n",
       "3     CD8_T-cell_naive  ENSG00000183386\n",
       "4        NK-cell_naive  ENSG00000183431\n",
       "...                ...              ...\n",
       "2137  CD4_T-cell_naive  ENSG00000271821\n",
       "2138  CD4_T-cell_naive  ENSG00000206344\n",
       "2139  CD4_T-cell_naive  ENSG00000271821\n",
       "2140     NK-cell_naive  ENSG00000206344\n",
       "2141      B-cell_naive  ENSG00000204267\n",
       "\n",
       "[2142 rows x 2 columns]"
      ]
     },
     "execution_count": 29,
     "metadata": {},
     "output_type": "execute_result"
    }
   ],
   "source": [
    "intersect_df[['cline', 'geneid']]"
   ]
  },
  {
   "cell_type": "markdown",
   "id": "67b9a579",
   "metadata": {},
   "source": [
    "#### Get the unique genes per cell type "
   ]
  },
  {
   "cell_type": "code",
   "execution_count": 30,
   "id": "e832fb53",
   "metadata": {},
   "outputs": [],
   "source": [
    "genes_by_cell = intersect_df[['cline', 'geneid']].drop_duplicates()\n",
    "genes_by_cell.sort_values(['cline', 'geneid'], inplace=True)\n",
    "genes_by_cell['source'] = 'pieqtls_with_sig_gwas'\n",
    "genes_by_cell.columns = ['cline', 'geneid', 'source']\n",
    "fn = os.path.join(outdir, 'genes_by_cell.xlsx')\n",
    "genes_by_cell.to_excel(fn, index=False)"
   ]
  },
  {
   "cell_type": "markdown",
   "id": "993c4790",
   "metadata": {},
   "source": [
    "#### Make a figure of uniq SNPs and Genes per cell"
   ]
  },
  {
   "cell_type": "code",
   "execution_count": 35,
   "id": "fec9e4e3",
   "metadata": {},
   "outputs": [],
   "source": [
    "color_fn = 'results/refs/dice_colors/colors.revised.t1d-project.tsv'\n",
    "colors = pd.read_table(color_fn)\n",
    "cline_pubnames = {'CD4_T-cell_naive': 'CD4 T-cells', 'CD8_T-cell_naive': 'CD8 T-cells',\n",
    "                  'monocyte_naive': 'Monocytes', 'B-cell_naive': 'B-cells', 'NK-cell_naive': 'NK cells'}\n",
    "colors_dict = {sr.studyname: sr.hex for i, sr in colors.iterrows()}"
   ]
  },
  {
   "cell_type": "code",
   "execution_count": 36,
   "id": "469709d2",
   "metadata": {},
   "outputs": [],
   "source": [
    "uniq_counts_by_cells['pubnames'] = uniq_counts_by_cells.index.map(cline_pubnames)"
   ]
  },
  {
   "cell_type": "code",
   "execution_count": 39,
   "id": "74806b2a",
   "metadata": {},
   "outputs": [],
   "source": [
    "uniq_counts_by_cells.sort_values('pubnames', inplace=True)"
   ]
  },
  {
   "cell_type": "code",
   "execution_count": 40,
   "id": "c31fe385",
   "metadata": {},
   "outputs": [
    {
     "data": {
      "text/html": [
       "<div>\n",
       "<style scoped>\n",
       "    .dataframe tbody tr th:only-of-type {\n",
       "        vertical-align: middle;\n",
       "    }\n",
       "\n",
       "    .dataframe tbody tr th {\n",
       "        vertical-align: top;\n",
       "    }\n",
       "\n",
       "    .dataframe thead th {\n",
       "        text-align: right;\n",
       "    }\n",
       "</style>\n",
       "<table border=\"1\" class=\"dataframe\">\n",
       "  <thead>\n",
       "    <tr style=\"text-align: right;\">\n",
       "      <th></th>\n",
       "      <th>Number of Unique SNPs</th>\n",
       "      <th>Number of Unique Genes</th>\n",
       "      <th>pubnames</th>\n",
       "    </tr>\n",
       "    <tr>\n",
       "      <th>Cell Line</th>\n",
       "      <th></th>\n",
       "      <th></th>\n",
       "      <th></th>\n",
       "    </tr>\n",
       "  </thead>\n",
       "  <tbody>\n",
       "    <tr>\n",
       "      <th>B-cell_naive</th>\n",
       "      <td>348</td>\n",
       "      <td>39</td>\n",
       "      <td>B-cells</td>\n",
       "    </tr>\n",
       "    <tr>\n",
       "      <th>CD4_T-cell_naive</th>\n",
       "      <td>322</td>\n",
       "      <td>33</td>\n",
       "      <td>CD4 T-cells</td>\n",
       "    </tr>\n",
       "    <tr>\n",
       "      <th>CD8_T-cell_naive</th>\n",
       "      <td>269</td>\n",
       "      <td>35</td>\n",
       "      <td>CD8 T-cells</td>\n",
       "    </tr>\n",
       "    <tr>\n",
       "      <th>monocyte_naive</th>\n",
       "      <td>116</td>\n",
       "      <td>25</td>\n",
       "      <td>Monocytes</td>\n",
       "    </tr>\n",
       "    <tr>\n",
       "      <th>NK-cell_naive</th>\n",
       "      <td>319</td>\n",
       "      <td>45</td>\n",
       "      <td>NK cells</td>\n",
       "    </tr>\n",
       "  </tbody>\n",
       "</table>\n",
       "</div>"
      ],
      "text/plain": [
       "                  Number of Unique SNPs  Number of Unique Genes     pubnames\n",
       "Cell Line                                                                   \n",
       "B-cell_naive                        348                      39      B-cells\n",
       "CD4_T-cell_naive                    322                      33  CD4 T-cells\n",
       "CD8_T-cell_naive                    269                      35  CD8 T-cells\n",
       "monocyte_naive                      116                      25    Monocytes\n",
       "NK-cell_naive                       319                      45     NK cells"
      ]
     },
     "execution_count": 40,
     "metadata": {},
     "output_type": "execute_result"
    }
   ],
   "source": [
    "uniq_counts_by_cells"
   ]
  },
  {
   "cell_type": "code",
   "execution_count": 41,
   "id": "3862c6d0",
   "metadata": {},
   "outputs": [
    {
     "data": {
      "image/png": "[encoded data removed]",
      "text/plain": [
       "<Figure size 216x216 with 2 Axes>"
      ]
     },
     "metadata": {
      "needs_background": "light"
     },
     "output_type": "display_data"
    }
   ],
   "source": [
    "fig, ax = plt.subplots(figsize=(3,3))\n",
    "\n",
    "\n",
    "sns.barplot(x='pubnames', y='Number of Unique Genes', palette=colors_dict, data=uniq_counts_by_cells, dodge=False)\n",
    "\n",
    "ax.set_xlabel('')\n",
    "ax.set_xticklabels(uniq_counts_by_cells['pubnames'], rotation = 60)\n",
    "\n",
    "ax2 = ax.twinx()\n",
    "sns.lineplot(x='pubnames', y='Number of Unique SNPs', data=uniq_counts_by_cells, color='#000000B3', ax=ax2)\n",
    "\n",
    "sgl_summary_fn = os.path.join(outdir, 'sgls_pieqtls_with_sig_gwas_summary.svg')\n",
    "fig.savefig(sgl_summary_fn)"
   ]
  },
  {
   "cell_type": "markdown",
   "id": "5b0cd8aa",
   "metadata": {},
   "source": [
    "## Save a unique list of SNPs within an SGL"
   ]
  },
  {
   "cell_type": "code",
   "execution_count": 82,
   "id": "9b2881c7",
   "metadata": {},
   "outputs": [],
   "source": [
    "gwas_grps = intersect_df.groupby('gwas_source')\n",
    "for gwas_source, gwas_df in gwas_grps:\n",
    "    \n",
    "    uniq_sids = gwas_df.sid_x.drop_duplicates().sort_values()\n",
    "    uniq_sids = uniq_sids.str.replace(':', '-')\n",
    "    \n",
    "    fn = os.path.join(outdir, 'pieqtls_sgls.{}.tsv'.format(gwas_source))\n",
    "    uniq_sids.to_csv(fn, header=False, index=False)"
   ]
  },
  {
   "cell_type": "code",
   "execution_count": 105,
   "id": "a3a4d16b",
   "metadata": {},
   "outputs": [
    {
     "data": {
      "text/plain": [
       "868"
      ]
     },
     "execution_count": 105,
     "metadata": {},
     "output_type": "execute_result"
    }
   ],
   "source": [
    "intersect_df.sid_x.nunique()"
   ]
  },
  {
   "cell_type": "markdown",
   "id": "8d99975d",
   "metadata": {},
   "source": [
    "## Check Out SNPs"
   ]
  },
  {
   "cell_type": "code",
   "execution_count": null,
   "id": "2a0c513f",
   "metadata": {},
   "outputs": [],
   "source": [
    "intersect_df.head(4)"
   ]
  },
  {
   "cell_type": "code",
   "execution_count": null,
   "id": "b06cea4d",
   "metadata": {},
   "outputs": [],
   "source": [
    "intersect_df.loc[intersect_df.genename == 'RPS62']"
   ]
  },
  {
   "cell_type": "code",
   "execution_count": null,
   "id": "6ddc87dc",
   "metadata": {},
   "outputs": [],
   "source": [
    "intersect_df.loc[intersect_df.geneid == 'ENSG00000170485']"
   ]
  },
  {
   "cell_type": "code",
   "execution_count": null,
   "id": "2fa36bac",
   "metadata": {},
   "outputs": [],
   "source": [
    "high = ['SF3A3',\n",
    " 'PTPN22',\n",
    " 'RGS1',\n",
    " 'CTLA4',\n",
    " 'SLC22A5',\n",
    " 'BTN3A2',\n",
    " 'BTN2A2',\n",
    " 'BTN3A1',\n",
    " 'BTN2A1',\n",
    " 'ZKSCAN4',\n",
    " 'TRIM27',\n",
    " 'ZFP57',\n",
    " 'TRIM26',\n",
    " 'MRPS18B',\n",
    " 'FLOT1',\n",
    " 'VARS2',\n",
    " 'MICA',\n",
    " 'NCR3',\n",
    " 'BAG6',\n",
    " 'TSBP1',\n",
    " 'BTNL2',\n",
    " 'TAP2',\n",
    " 'WDR46',\n",
    " 'BACH2',\n",
    " 'IL2RA',\n",
    " 'RBM17',\n",
    " 'M6PR',\n",
    " 'SUOX',\n",
    " 'RPS26',\n",
    " 'CUX2',\n",
    " 'ATXN2',\n",
    " 'NAA25',\n",
    " 'CTSH',\n",
    " 'RMI2',\n",
    " 'ZPBP2',\n",
    " 'GSDMB',\n",
    " 'ORMDL3',\n",
    " 'VASP',\n",
    " 'PRKD2',\n",
    " 'IL2RB',\n",
    " 'RAC2',\n",
    " 'MFNG']"
   ]
  },
  {
   "cell_type": "code",
   "execution_count": null,
   "id": "91f34021",
   "metadata": {},
   "outputs": [],
   "source": [
    "high_df = intersect_df.loc[(intersect_df.genename.isin(high)) & (intersect_df.Interaction_type == 'Direct_pieQTL')]"
   ]
  },
  {
   "cell_type": "code",
   "execution_count": null,
   "id": "11fdf469",
   "metadata": {
    "scrolled": false
   },
   "outputs": [],
   "source": [
    "for rs in sorted(set(high_df['pieQTL.ID'].tolist())):\n",
    "    print(rs)"
   ]
  },
  {
   "cell_type": "code",
   "execution_count": null,
   "id": "da0b6a53",
   "metadata": {},
   "outputs": [],
   "source": [
    "intersect_df"
   ]
  },
  {
   "cell_type": "markdown",
   "id": "393322d6",
   "metadata": {},
   "source": [
    "## Intersect PC-HiC with HiChIP Loops"
   ]
  },
  {
   "cell_type": "code",
   "execution_count": null,
   "id": "5b68ff59",
   "metadata": {},
   "outputs": [],
   "source": [
    "pieqtls_sgls_fn = os.path.join(outdir, 'pieqtls_sgls.tsv')\n",
    "intersect_df.to_csv(pieqtls_sgls_fn, sep='\\t', index=False)"
   ]
  },
  {
   "cell_type": "code",
   "execution_count": null,
   "id": "eb44e966",
   "metadata": {},
   "outputs": [],
   "source": [
    "pieqtls_sgls_fn"
   ]
  },
  {
   "cell_type": "code",
   "execution_count": null,
   "id": "cb6bb5e3",
   "metadata": {},
   "outputs": [],
   "source": [
    "intersect_df.loc[intersect_df.sid_x == '6:28863264']"
   ]
  },
  {
   "cell_type": "code",
   "execution_count": null,
   "id": "c9360184",
   "metadata": {},
   "outputs": [],
   "source": [
    "intersect_df.value_counts('gwas_source')"
   ]
  },
  {
   "cell_type": "code",
   "execution_count": null,
   "id": "4fdf4a57",
   "metadata": {},
   "outputs": [],
   "source": [
    "intersect_df.sid_x.nunique()"
   ]
  },
  {
   "cell_type": "markdown",
   "id": "2286af43",
   "metadata": {},
   "source": [
    "## Characterizing SNPs within an SGL"
   ]
  },
  {
   "cell_type": "code",
   "execution_count": 42,
   "id": "3bdf3ae9",
   "metadata": {},
   "outputs": [],
   "source": [
    "#loading Vu et al 2022 chromHMM annotations \n",
    "chromhmm = pd.read_table('results/refs/chromHMM/vu_et_al_2022/hg38lift_genome_100_segments.bed.gz', \n",
    "                         header=None)\n",
    "chromhmm_pbt = pbt.BedTool.from_dataframe(chromhmm)"
   ]
  },
  {
   "cell_type": "code",
   "execution_count": 51,
   "id": "fd3f47d1",
   "metadata": {},
   "outputs": [
    {
     "data": {
      "text/html": [
       "<div>\n",
       "<style scoped>\n",
       "    .dataframe tbody tr th:only-of-type {\n",
       "        vertical-align: middle;\n",
       "    }\n",
       "\n",
       "    .dataframe tbody tr th {\n",
       "        vertical-align: top;\n",
       "    }\n",
       "\n",
       "    .dataframe thead th {\n",
       "        text-align: right;\n",
       "    }\n",
       "</style>\n",
       "<table border=\"1\" class=\"dataframe\">\n",
       "  <thead>\n",
       "    <tr style=\"text-align: right;\">\n",
       "      <th></th>\n",
       "      <th>0</th>\n",
       "      <th>1</th>\n",
       "      <th>2</th>\n",
       "      <th>3</th>\n",
       "    </tr>\n",
       "  </thead>\n",
       "  <tbody>\n",
       "    <tr>\n",
       "      <th>0</th>\n",
       "      <td>chr1</td>\n",
       "      <td>10000</td>\n",
       "      <td>10400</td>\n",
       "      <td>1_GapArtf2</td>\n",
       "    </tr>\n",
       "    <tr>\n",
       "      <th>1</th>\n",
       "      <td>chr1</td>\n",
       "      <td>10400</td>\n",
       "      <td>10600</td>\n",
       "      <td>26_Acet1</td>\n",
       "    </tr>\n",
       "    <tr>\n",
       "      <th>2</th>\n",
       "      <td>chr1</td>\n",
       "      <td>10600</td>\n",
       "      <td>10800</td>\n",
       "      <td>37_EnhWk4</td>\n",
       "    </tr>\n",
       "    <tr>\n",
       "      <th>3</th>\n",
       "      <td>chr1</td>\n",
       "      <td>10800</td>\n",
       "      <td>12800</td>\n",
       "      <td>0_GapArtf1</td>\n",
       "    </tr>\n",
       "    <tr>\n",
       "      <th>4</th>\n",
       "      <td>chr1</td>\n",
       "      <td>12800</td>\n",
       "      <td>13000</td>\n",
       "      <td>37_EnhWk4</td>\n",
       "    </tr>\n",
       "    <tr>\n",
       "      <th>...</th>\n",
       "      <td>...</td>\n",
       "      <td>...</td>\n",
       "      <td>...</td>\n",
       "      <td>...</td>\n",
       "    </tr>\n",
       "    <tr>\n",
       "      <th>6099633</th>\n",
       "      <td>chrY</td>\n",
       "      <td>56886253</td>\n",
       "      <td>56886453</td>\n",
       "      <td>12_HET5</td>\n",
       "    </tr>\n",
       "    <tr>\n",
       "      <th>6099634</th>\n",
       "      <td>chrY</td>\n",
       "      <td>56886453</td>\n",
       "      <td>56886853</td>\n",
       "      <td>1_GapArtf2</td>\n",
       "    </tr>\n",
       "    <tr>\n",
       "      <th>6099635</th>\n",
       "      <td>chrY</td>\n",
       "      <td>56886853</td>\n",
       "      <td>56887053</td>\n",
       "      <td>12_HET5</td>\n",
       "    </tr>\n",
       "    <tr>\n",
       "      <th>6099636</th>\n",
       "      <td>chrY</td>\n",
       "      <td>56887053</td>\n",
       "      <td>56887253</td>\n",
       "      <td>13_HET6</td>\n",
       "    </tr>\n",
       "    <tr>\n",
       "      <th>6099637</th>\n",
       "      <td>chrY</td>\n",
       "      <td>56887253</td>\n",
       "      <td>57217249</td>\n",
       "      <td>0_GapArtf1</td>\n",
       "    </tr>\n",
       "  </tbody>\n",
       "</table>\n",
       "<p>6099638 rows × 4 columns</p>\n",
       "</div>"
      ],
      "text/plain": [
       "            0         1         2           3\n",
       "0        chr1     10000     10400  1_GapArtf2\n",
       "1        chr1     10400     10600    26_Acet1\n",
       "2        chr1     10600     10800   37_EnhWk4\n",
       "3        chr1     10800     12800  0_GapArtf1\n",
       "4        chr1     12800     13000   37_EnhWk4\n",
       "...       ...       ...       ...         ...\n",
       "6099633  chrY  56886253  56886453     12_HET5\n",
       "6099634  chrY  56886453  56886853  1_GapArtf2\n",
       "6099635  chrY  56886853  56887053     12_HET5\n",
       "6099636  chrY  56887053  56887253     13_HET6\n",
       "6099637  chrY  56887253  57217249  0_GapArtf1\n",
       "\n",
       "[6099638 rows x 4 columns]"
      ]
     },
     "execution_count": 51,
     "metadata": {},
     "output_type": "execute_result"
    }
   ],
   "source": [
    "chromhmm"
   ]
  },
  {
   "cell_type": "code",
   "execution_count": null,
   "id": "45d1c9ef",
   "metadata": {},
   "outputs": [],
   "source": []
  },
  {
   "cell_type": "code",
   "execution_count": 52,
   "id": "a0a5bc27",
   "metadata": {},
   "outputs": [],
   "source": [
    "finemapping_pbt = intersect_df[['Chromosome', 'pieQTL.Position', 'pieQTL.Position']].drop_duplicates()\n",
    "#finemapping_pbt.iloc[:, 0] = 'chr' + finemapping_pbt.iloc[:, 0].astype(str)\n",
    "finemapping_pbt.iloc[:, 1] = finemapping_pbt.iloc[:, 1] - 1 # convert to bed format \n",
    "finemapping_pbt = pbt.BedTool.from_dataframe(finemapping_pbt)"
   ]
  },
  {
   "cell_type": "code",
   "execution_count": 53,
   "id": "c6e7461c",
   "metadata": {},
   "outputs": [
    {
     "name": "stderr",
     "output_type": "stream",
     "text": [
      "/mnt/hpcscratch/jreyna//ipykernel_75129/3274623952.py:15: FutureWarning: The default value of regex will change from True to False in a future version.\n",
      "  finemapping_chromhmm['major_state'] = finemapping_chromhmm.state_name.str.replace('[0-9]+', '')\n"
     ]
    }
   ],
   "source": [
    "finemapping_chromhmm = finemapping_pbt.intersect(chromhmm_pbt, loj=True, wa=True)\n",
    "finemapping_chromhmm = finemapping_chromhmm.to_dataframe()\n",
    "finemapping_chromhmm.columns = ['chr', 'start', 'end', 'chr2', 'chmm_start', 'chmm_end', 'state']\n",
    "\n",
    "# extract the statename without the id number\n",
    "def split_chromhmm(x):\n",
    "    s = x.split('_')\n",
    "    if len(s) > 1:\n",
    "        return(s[1])\n",
    "    else:\n",
    "        return('None')\n",
    "finemapping_chromhmm['state_name'] = finemapping_chromhmm.state.map(split_chromhmm)\n",
    "\n",
    "# add the major state which removes the subtypes\n",
    "finemapping_chromhmm['major_state'] = finemapping_chromhmm.state_name.str.replace('[0-9]+', '')"
   ]
  },
  {
   "cell_type": "code",
   "execution_count": 54,
   "id": "2ddec5ca",
   "metadata": {},
   "outputs": [],
   "source": [
    "state_dict = {'Quies': 'Quiescent',\n",
    "             'ReprPC': 'Repressor',\n",
    "             'GapArtf': 'No signal, unmappable',\n",
    "             'Acet': 'Acetylation',\n",
    "             'TxWk': 'Weak transcription',\n",
    "             'EnhWk': 'Weak enhancer',\n",
    "             'None': 'No overlap',\n",
    "             'Tx': 'Transcription',\n",
    "             'EnhA': 'Enhancer',\n",
    "             'TxEx': 'Transcription & Exons',\n",
    "             'HET': 'H3K9me3 & LTR repeats',\n",
    "             'TxEnh': 'Transcription & Enhancers',\n",
    "             'BivProm': 'Bivalent Promoters',\n",
    "             'znf': 'Zinc Finger',\n",
    "             'PromF': 'Downstream Promoter',\n",
    "             'DNase': 'DNase',\n",
    "             'TSS': 'TSS'}\n",
    "\n",
    "state_colors = {'Quies': 'grey',\n",
    "             'ReprPC': 'grey',\n",
    "             'GapArtf': 'grey',\n",
    "             'Acet': 'grey',\n",
    "             'None': 'grey',\n",
    "             'HET': 'grey',\n",
    "             'EnhWk': 'lightYellow',\n",
    "             'EnhA': 'yellow',\n",
    "             'TxWk': 'lightGreen',\n",
    "             'Tx': 'darkgreen',\n",
    "             'TxEx': 'darkgreen',\n",
    "             'TxEnh': 'darkgreen',\n",
    "             'DNase': 'blue',\n",
    "             'znf': 'blue', \n",
    "             'BivProm': 'red',\n",
    "             'PromF': 'red',\n",
    "             'TSS': 'red'}\n",
    "\n",
    "fm_state_cnts = finemapping_chromhmm.major_state.value_counts()\n",
    "fm_state_cnts = fm_state_cnts.to_frame()"
   ]
  },
  {
   "cell_type": "code",
   "execution_count": 55,
   "id": "16069ab0",
   "metadata": {},
   "outputs": [],
   "source": [
    "fm_state_cnts.columns = ['counts']\n",
    "fm_state_cnts['major_state'] = fm_state_cnts.index"
   ]
  },
  {
   "cell_type": "code",
   "execution_count": 56,
   "id": "049eae32",
   "metadata": {},
   "outputs": [
    {
     "data": {
      "text/html": [
       "<div>\n",
       "<style scoped>\n",
       "    .dataframe tbody tr th:only-of-type {\n",
       "        vertical-align: middle;\n",
       "    }\n",
       "\n",
       "    .dataframe tbody tr th {\n",
       "        vertical-align: top;\n",
       "    }\n",
       "\n",
       "    .dataframe thead th {\n",
       "        text-align: right;\n",
       "    }\n",
       "</style>\n",
       "<table border=\"1\" class=\"dataframe\">\n",
       "  <thead>\n",
       "    <tr style=\"text-align: right;\">\n",
       "      <th></th>\n",
       "      <th>counts</th>\n",
       "      <th>major_state</th>\n",
       "    </tr>\n",
       "  </thead>\n",
       "  <tbody>\n",
       "    <tr>\n",
       "      <th>ReprPC</th>\n",
       "      <td>233</td>\n",
       "      <td>ReprPC</td>\n",
       "    </tr>\n",
       "    <tr>\n",
       "      <th>EnhA</th>\n",
       "      <td>151</td>\n",
       "      <td>EnhA</td>\n",
       "    </tr>\n",
       "    <tr>\n",
       "      <th>Quies</th>\n",
       "      <td>115</td>\n",
       "      <td>Quies</td>\n",
       "    </tr>\n",
       "    <tr>\n",
       "      <th>EnhWk</th>\n",
       "      <td>64</td>\n",
       "      <td>EnhWk</td>\n",
       "    </tr>\n",
       "    <tr>\n",
       "      <th>TxEx</th>\n",
       "      <td>47</td>\n",
       "      <td>TxEx</td>\n",
       "    </tr>\n",
       "    <tr>\n",
       "      <th>TSS</th>\n",
       "      <td>45</td>\n",
       "      <td>TSS</td>\n",
       "    </tr>\n",
       "    <tr>\n",
       "      <th>Tx</th>\n",
       "      <td>42</td>\n",
       "      <td>Tx</td>\n",
       "    </tr>\n",
       "    <tr>\n",
       "      <th>PromF</th>\n",
       "      <td>33</td>\n",
       "      <td>PromF</td>\n",
       "    </tr>\n",
       "    <tr>\n",
       "      <th>TxEnh</th>\n",
       "      <td>31</td>\n",
       "      <td>TxEnh</td>\n",
       "    </tr>\n",
       "    <tr>\n",
       "      <th>TxWk</th>\n",
       "      <td>31</td>\n",
       "      <td>TxWk</td>\n",
       "    </tr>\n",
       "    <tr>\n",
       "      <th>HET</th>\n",
       "      <td>27</td>\n",
       "      <td>HET</td>\n",
       "    </tr>\n",
       "    <tr>\n",
       "      <th>Acet</th>\n",
       "      <td>26</td>\n",
       "      <td>Acet</td>\n",
       "    </tr>\n",
       "    <tr>\n",
       "      <th>BivProm</th>\n",
       "      <td>11</td>\n",
       "      <td>BivProm</td>\n",
       "    </tr>\n",
       "    <tr>\n",
       "      <th>GapArtf</th>\n",
       "      <td>9</td>\n",
       "      <td>GapArtf</td>\n",
       "    </tr>\n",
       "    <tr>\n",
       "      <th>znf</th>\n",
       "      <td>2</td>\n",
       "      <td>znf</td>\n",
       "    </tr>\n",
       "    <tr>\n",
       "      <th>DNase</th>\n",
       "      <td>1</td>\n",
       "      <td>DNase</td>\n",
       "    </tr>\n",
       "  </tbody>\n",
       "</table>\n",
       "</div>"
      ],
      "text/plain": [
       "         counts major_state\n",
       "ReprPC      233      ReprPC\n",
       "EnhA        151        EnhA\n",
       "Quies       115       Quies\n",
       "EnhWk        64       EnhWk\n",
       "TxEx         47        TxEx\n",
       "TSS          45         TSS\n",
       "Tx           42          Tx\n",
       "PromF        33       PromF\n",
       "TxEnh        31       TxEnh\n",
       "TxWk         31        TxWk\n",
       "HET          27         HET\n",
       "Acet         26        Acet\n",
       "BivProm      11     BivProm\n",
       "GapArtf       9     GapArtf\n",
       "znf           2         znf\n",
       "DNase         1       DNase"
      ]
     },
     "execution_count": 56,
     "metadata": {},
     "output_type": "execute_result"
    }
   ],
   "source": [
    "fm_state_cnts"
   ]
  },
  {
   "cell_type": "code",
   "execution_count": 80,
   "id": "6e08b928",
   "metadata": {},
   "outputs": [
    {
     "data": {
      "image/png": "[encoded data removed]",
      "text/plain": [
       "<Figure size 288x216 with 1 Axes>"
      ]
     },
     "metadata": {
      "needs_background": "light"
     },
     "output_type": "display_data"
    }
   ],
   "source": [
    "# Ploting the distribution of ALL Fine-mapped SNPs\n",
    "fig, ax = plt.subplots(figsize=(4,3))\n",
    "\n",
    "sns.barplot(x='major_state', y='counts', data=fm_state_cnts, hue='major_state', palette=state_colors, dodge=False)\n",
    "\n",
    "ax.set_xlabel('');\n",
    "ax.set_xticklabels(fm_state_cnts['major_state'], rotation = 60);\n",
    "\n",
    "# ax.legend(loc='upper center', ncol=2, bbox_to_anchor=(1.5, 0.9),\n",
    "#           fancybox=True, shadow=False)\n",
    "ax.legend_.set_visible(False)\n",
    "\n",
    "chromhmm_summary_fn = os.path.join(outdir, 'sgl_pieqtl_snps_characterized_chromhmm.svg')\n",
    "fig.savefig(chromhmm_summary_fn)\n",
    "\n",
    "chromhmm_summary_fn = os.path.join(outdir, 'sgl_pieqtl_snps_characterized_chromhmm.png')\n",
    "fig.savefig(chromhmm_summary_fn)"
   ]
  },
  {
   "cell_type": "markdown",
   "id": "775761c6",
   "metadata": {},
   "source": [
    "## Per study"
   ]
  },
  {
   "cell_type": "code",
   "execution_count": 108,
   "id": "2e18578c",
   "metadata": {},
   "outputs": [
    {
     "data": {
      "text/plain": [
       "T1D_34012112_Gaulton         945\n",
       "T1D_32005708                 811\n",
       "T1D_34594039_GCST90018925    386\n",
       "Name: gwas_source, dtype: int64"
      ]
     },
     "execution_count": 108,
     "metadata": {},
     "output_type": "execute_result"
    }
   ],
   "source": [
    "intersect_df.gwas_source.value_counts()"
   ]
  },
  {
   "cell_type": "code",
   "execution_count": 110,
   "id": "0220b05b",
   "metadata": {},
   "outputs": [
    {
     "data": {
      "text/html": [
       "<div>\n",
       "<style scoped>\n",
       "    .dataframe tbody tr th:only-of-type {\n",
       "        vertical-align: middle;\n",
       "    }\n",
       "\n",
       "    .dataframe tbody tr th {\n",
       "        vertical-align: top;\n",
       "    }\n",
       "\n",
       "    .dataframe thead th {\n",
       "        text-align: right;\n",
       "    }\n",
       "</style>\n",
       "<table border=\"1\" class=\"dataframe\">\n",
       "  <thead>\n",
       "    <tr style=\"text-align: right;\">\n",
       "      <th></th>\n",
       "      <th>sid_y</th>\n",
       "      <th>geneid</th>\n",
       "      <th>cline</th>\n",
       "    </tr>\n",
       "  </thead>\n",
       "  <tbody>\n",
       "    <tr>\n",
       "      <th>0</th>\n",
       "      <td>1:36107510</td>\n",
       "      <td>ENSG00000142686</td>\n",
       "      <td>monocyte_naive</td>\n",
       "    </tr>\n",
       "    <tr>\n",
       "      <th>1</th>\n",
       "      <td>1:38397341</td>\n",
       "      <td>ENSG00000183431</td>\n",
       "      <td>NK-cell_naive</td>\n",
       "    </tr>\n",
       "    <tr>\n",
       "      <th>2</th>\n",
       "      <td>1:38397341</td>\n",
       "      <td>ENSG00000183386</td>\n",
       "      <td>CD4_T-cell_naive</td>\n",
       "    </tr>\n",
       "    <tr>\n",
       "      <th>3</th>\n",
       "      <td>1:38397341</td>\n",
       "      <td>ENSG00000183386</td>\n",
       "      <td>CD8_T-cell_naive</td>\n",
       "    </tr>\n",
       "    <tr>\n",
       "      <th>4</th>\n",
       "      <td>1:38397369</td>\n",
       "      <td>ENSG00000183431</td>\n",
       "      <td>NK-cell_naive</td>\n",
       "    </tr>\n",
       "    <tr>\n",
       "      <th>...</th>\n",
       "      <td>...</td>\n",
       "      <td>...</td>\n",
       "      <td>...</td>\n",
       "    </tr>\n",
       "    <tr>\n",
       "      <th>2137</th>\n",
       "      <td>6:31229274</td>\n",
       "      <td>ENSG00000271821</td>\n",
       "      <td>CD4_T-cell_naive</td>\n",
       "    </tr>\n",
       "    <tr>\n",
       "      <th>2138</th>\n",
       "      <td>6:31229282</td>\n",
       "      <td>ENSG00000206344</td>\n",
       "      <td>CD4_T-cell_naive</td>\n",
       "    </tr>\n",
       "    <tr>\n",
       "      <th>2139</th>\n",
       "      <td>6:31229282</td>\n",
       "      <td>ENSG00000271821</td>\n",
       "      <td>CD4_T-cell_naive</td>\n",
       "    </tr>\n",
       "    <tr>\n",
       "      <th>2140</th>\n",
       "      <td>6:31266117</td>\n",
       "      <td>ENSG00000206344</td>\n",
       "      <td>NK-cell_naive</td>\n",
       "    </tr>\n",
       "    <tr>\n",
       "      <th>2141</th>\n",
       "      <td>6:32746436</td>\n",
       "      <td>ENSG00000204267</td>\n",
       "      <td>B-cell_naive</td>\n",
       "    </tr>\n",
       "  </tbody>\n",
       "</table>\n",
       "<p>1519 rows × 3 columns</p>\n",
       "</div>"
      ],
      "text/plain": [
       "           sid_y           geneid             cline\n",
       "0     1:36107510  ENSG00000142686    monocyte_naive\n",
       "1     1:38397341  ENSG00000183431     NK-cell_naive\n",
       "2     1:38397341  ENSG00000183386  CD4_T-cell_naive\n",
       "3     1:38397341  ENSG00000183386  CD8_T-cell_naive\n",
       "4     1:38397369  ENSG00000183431     NK-cell_naive\n",
       "...          ...              ...               ...\n",
       "2137  6:31229274  ENSG00000271821  CD4_T-cell_naive\n",
       "2138  6:31229282  ENSG00000206344  CD4_T-cell_naive\n",
       "2139  6:31229282  ENSG00000271821  CD4_T-cell_naive\n",
       "2140  6:31266117  ENSG00000206344     NK-cell_naive\n",
       "2141  6:32746436  ENSG00000204267      B-cell_naive\n",
       "\n",
       "[1519 rows x 3 columns]"
      ]
     },
     "execution_count": 110,
     "metadata": {},
     "output_type": "execute_result"
    }
   ],
   "source": [
    "intersect_df[['sid_y', 'geneid', 'cline']].drop_duplicates()"
   ]
  },
  {
   "cell_type": "code",
   "execution_count": null,
   "id": "fcdcb99d",
   "metadata": {},
   "outputs": [],
   "source": []
  }
 ],
 "metadata": {
  "kernelspec": {
   "display_name": "HiChIP-DB",
   "language": "python",
   "name": "hichip-db"
  },
  "language_info": {
   "codemirror_mode": {
    "name": "ipython",
    "version": 3
   },
   "file_extension": ".py",
   "mimetype": "text/x-python",
   "name": "python",
   "nbconvert_exporter": "python",
   "pygments_lexer": "ipython3",
   "version": "3.9.10"
  }
 },
 "nbformat": 4,
 "nbformat_minor": 5
}
