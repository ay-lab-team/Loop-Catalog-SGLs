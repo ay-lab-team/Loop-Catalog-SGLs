{
 "cells": [
  {
   "cell_type": "code",
   "execution_count": 1,
   "id": "efd9700a",
   "metadata": {},
   "outputs": [],
   "source": [
    "import os \n",
    "import pandas as pd\n",
    "import subprocess\n",
    "os.chdir('/mnt/BioHome/jreyna/jreyna/projects/dchallenge/')"
   ]
  },
  {
   "cell_type": "markdown",
   "id": "6788af55",
   "metadata": {},
   "source": [
    "## Download the supplementary data"
   ]
  },
  {
   "cell_type": "code",
   "execution_count": 2,
   "id": "18fda5ea",
   "metadata": {},
   "outputs": [],
   "source": [
    "# make the directory to save our data\n",
    "outdir = 'results/main/pieqtls/2021_chandra_et_al/'\n",
    "os.makedirs(outdir, exist_ok=True)\n",
    "\n",
    "# get link and output file name\n",
    "supp_link = 'https://static-content.springer.com/esm/art%3A10.1038%2Fs41588-020-00745-3/MediaObjects/41588_2020_745_MOESM3_ESM.xlsx'\n",
    "supp_fn = os.path.join(outdir, '41588_2020_745_MOESM3_ESM.xlsx')\n",
    "\n",
    "# download the data\n",
    "if not os.path.exists(supp_fn):\n",
    "    cmd = 'wget -O {} {}'.format(supp_fn, supp_link)\n",
    "    print(subprocess.check_output(cmd, shell=True))"
   ]
  },
  {
   "cell_type": "markdown",
   "id": "3e34175f",
   "metadata": {},
   "source": [
    "# Processing the <1mb pieQTLs"
   ]
  },
  {
   "cell_type": "code",
   "execution_count": 3,
   "id": "bfa8391f",
   "metadata": {},
   "outputs": [],
   "source": [
    "#clines_supp = ['classical monocytes', 'natural killer cells', 'naive B cells', 'CD4 T cells', 'CD8 T cells']\n",
    "clines_proj = ['monocyte_naive', 'NK-cell_naive', 'B-cell_naive', 'CD4_T-cell_naive', 'CD8_T-cell_naive']\n",
    "letters = ['A', 'B', 'C', 'D', 'E']"
   ]
  },
  {
   "cell_type": "code",
   "execution_count": 4,
   "id": "7e719168",
   "metadata": {},
   "outputs": [
    {
     "name": "stdout",
     "output_type": "stream",
     "text": [
      "(6636, 16)\n",
      "(6173, 16)\n",
      "(9041, 16)\n",
      "(7739, 16)\n",
      "(6309, 16)\n"
     ]
    }
   ],
   "source": [
    "for i, cline in enumerate(clines_proj):\n",
    "    \n",
    "    letter = letters[i]\n",
    "    tabname = 'Supplementary Table 4{}'.format(letter)\n",
    "    \n",
    "    data = pd.read_excel(supp_fn, sheet_name=tabname, skiprows=2)\n",
    "    \n",
    "    print(data.shape)\n",
    "    data_dir = '{}/{}/'.format(outdir, cline)\n",
    "    os.makedirs(data_dir, exist_ok=True)\n",
    "    #data_fn = os.path.join(data_dir, 'proximal.pieqtls.tsv')\n",
    "    #data.to_csv(data_fn, sep='\\t', index=False)\n"
   ]
  },
  {
   "cell_type": "markdown",
   "id": "8628d906",
   "metadata": {},
   "source": [
    "# Processing the >1mb and <=10mb pieQTLs"
   ]
  },
  {
   "cell_type": "code",
   "execution_count": 61,
   "id": "0b81df6c",
   "metadata": {},
   "outputs": [],
   "source": [
    "for i, cline in enumerate(clines_proj):\n",
    "    \n",
    "    letter = letters[i]\n",
    "    tabname = 'Supplementary Table 5{}'.format(letter)\n",
    "    \n",
    "    data = pd.read_excel(supp_fn, sheet_name=tabname, skiprows=2)\n",
    "    \n",
    "    data_dir = '{}/{}/'.format(outdir, cline)\n",
    "    os.makedirs(data_dir, exist_ok=True)\n",
    "    data_fn = os.path.join(data_dir, 'distal.pieqtls.tsv')\n",
    "    data.to_csv(data_fn, sep='\\t', index=False)\n"
   ]
  },
  {
   "cell_type": "code",
   "execution_count": null,
   "id": "b4d8b606",
   "metadata": {},
   "outputs": [],
   "source": []
  },
  {
   "cell_type": "code",
   "execution_count": null,
   "id": "e512564e",
   "metadata": {},
   "outputs": [],
   "source": []
  },
  {
   "cell_type": "code",
   "execution_count": null,
   "id": "1b8a937b",
   "metadata": {},
   "outputs": [],
   "source": []
  },
  {
   "cell_type": "code",
   "execution_count": null,
   "id": "27938950",
   "metadata": {},
   "outputs": [],
   "source": []
  }
 ],
 "metadata": {
  "kernelspec": {
   "display_name": "HiChIP-DB",
   "language": "python",
   "name": "hichip-db"
  },
  "language_info": {
   "codemirror_mode": {
    "name": "ipython",
    "version": 3
   },
   "file_extension": ".py",
   "mimetype": "text/x-python",
   "name": "python",
   "nbconvert_exporter": "python",
   "pygments_lexer": "ipython3",
   "version": "3.9.10"
  }
 },
 "nbformat": 4,
 "nbformat_minor": 5
}
