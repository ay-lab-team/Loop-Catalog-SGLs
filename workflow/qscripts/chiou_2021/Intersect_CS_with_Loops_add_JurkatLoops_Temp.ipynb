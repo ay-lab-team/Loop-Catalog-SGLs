{
 "cells": [
  {
   "cell_type": "markdown",
   "id": "77a0622b",
   "metadata": {},
   "source": [
    "# Intersect CS with Loops"
   ]
  },
  {
   "cell_type": "markdown",
   "id": "1b89da94",
   "metadata": {},
   "source": [
    "We saw how Chiou et al., 2021 tried to use co-accessibility of snATAC-seq data in order to link SNPs to genes. Here we will try something very similar but instead use HiChIP data."
   ]
  },
  {
   "cell_type": "code",
   "execution_count": 2,
   "id": "5385e3a8",
   "metadata": {},
   "outputs": [],
   "source": [
    "import os \n",
    "import numpy as np\n",
    "import pandas as pd\n",
    "import glob\n",
    "import subprocess as sp\n",
    "import json\n",
    "import warnings\n",
    "import pybedtools as pbt\n",
    "import cooler\n",
    "import seaborn as sns\n",
    "from matplotlib import pyplot as plt\n",
    "warnings.filterwarnings('ignore')"
   ]
  },
  {
   "cell_type": "code",
   "execution_count": 3,
   "id": "87d36cee",
   "metadata": {},
   "outputs": [
    {
     "data": {
      "text/plain": [
       "<module 'chromolooper.sgls' from '/mnt/bioadhoc-temp/Groups/vd-ay/jreyna/projects/chromolooper/chromolooper/sgls.py'>"
      ]
     },
     "execution_count": 3,
     "metadata": {},
     "output_type": "execute_result"
    }
   ],
   "source": [
    "from chromolooper import sgls\n",
    "import importlib\n",
    "importlib.reload(sgls)"
   ]
  },
  {
   "cell_type": "code",
   "execution_count": 4,
   "id": "b025724b",
   "metadata": {},
   "outputs": [],
   "source": [
    "# change the working directory\n",
    "os.chdir('/mnt/BioHome/jreyna/jreyna-temp/projects/dchallenge')\n",
    "pd.set_option('display.max_columns', 1000)"
   ]
  },
  {
   "cell_type": "code",
   "execution_count": 5,
   "id": "364ed29a",
   "metadata": {},
   "outputs": [],
   "source": [
    "outdir = 'results/main/chiou_2021/analysis/intersect_cs_with_loops/'\n",
    "os.makedirs(outdir, exist_ok=True)"
   ]
  },
  {
   "cell_type": "code",
   "execution_count": 114,
   "id": "5295c325",
   "metadata": {},
   "outputs": [
    {
     "name": "stdout",
     "output_type": "stream",
     "text": [
      "bedtools v2.16.2-zip-466a9f0\r\n"
     ]
    }
   ],
   "source": [
    "!/mnt/BioApps/bedtools/bin/bedtools --version"
   ]
  },
  {
   "cell_type": "code",
   "execution_count": 42,
   "id": "98fe24ff",
   "metadata": {},
   "outputs": [],
   "source": [
    "pbt.set_bedtools_path(sgls.BEDTOOLS_DIR)\n",
    "pbt.set_tempdir('/mnt/BioHome/jreyna/tmp/')"
   ]
  },
  {
   "cell_type": "markdown",
   "id": "19d5dd21",
   "metadata": {},
   "source": [
    "## Loading the Extra Jurkat Loops"
   ]
  },
  {
   "cell_type": "code",
   "execution_count": 7,
   "id": "d85f1a35",
   "metadata": {},
   "outputs": [],
   "source": [
    "jurkat_loop_glob = '/mnt/BioAdHoc/Groups/vd-vijay/sourya/Projects/2020_IQTL_HiChIP/Data/' + \\\n",
    "                    'Jurkat_FitHiChIP_Loops/HiChIP_Samples_*/Out_FitHiChIP/' + \\\n",
    "                    'FitHiChIP_Peak2ALL_b5000_L10000_U3000000/P2PBckgr_1/Coverage_Bias/FitHiC_BiasCorr/' + \\\n",
    "                    'FitHiChIP.interactions_FitHiC_Q0.01.bed'\n",
    "jurkat_loop_files = glob.glob(jurkat_loop_glob)\n",
    "jurkat_loops = sgls.read_multiple_tables_to_df(jurkat_loop_files, header=0)\n",
    "jurkat_loops = sgls.rename_col_with_ints(jurkat_loops, np.arange(0, 6), sgls.BEDPE_COLS[0:6])\n",
    "\n",
    "jurkat_loops['sample'] = jurkat_loops['file'].apply(lambda x: x.split('/')[10])\n",
    "jurkat_loops.columns = sgls.add_prefix_to_names(jurkat_loops.columns.tolist(), 'jurkatLs_')\n",
    "jurkat_loops['jurkatLs_id'] = sgls.create_loop_id_col(jurkat_loops, extras=[27])"
   ]
  },
  {
   "cell_type": "code",
   "execution_count": 8,
   "id": "4595cdcb",
   "metadata": {},
   "outputs": [],
   "source": [
    "jurkat_loop_cols = sgls.range_list(0,6) + [28]\n",
    "jurkat_loop_cols = jurkat_loops.columns[jurkat_loop_cols].tolist()"
   ]
  },
  {
   "cell_type": "code",
   "execution_count": 9,
   "id": "6f42f1d1",
   "metadata": {},
   "outputs": [],
   "source": [
    "jurkat_loops_pbt = pbt.BedTool.from_dataframe(jurkat_loops.loc[:, jurkat_loop_cols])"
   ]
  },
  {
   "cell_type": "markdown",
   "id": "cb45a035",
   "metadata": {},
   "source": [
    "## Loading the SGLs"
   ]
  },
  {
   "cell_type": "code",
   "execution_count": 10,
   "id": "e42858aa",
   "metadata": {},
   "outputs": [],
   "source": [
    "sgl_jurkat_fn = os.path.join(outdir, 'strongest_atac_jurkat_sgls.tsv')\n",
    "strongest_atac_sgls_jurkat = pd.read_table(sgl_jurkat_fn) "
   ]
  },
  {
   "cell_type": "code",
   "execution_count": 11,
   "id": "5d715a23",
   "metadata": {},
   "outputs": [
    {
     "name": "stdout",
     "output_type": "stream",
     "text": [
      "There are 98 SGLs.\n"
     ]
    }
   ],
   "source": [
    "print('There are {} SGLs.'.format(strongest_atac_sgls_jurkat.shape[0]))"
   ]
  },
  {
   "cell_type": "code",
   "execution_count": 12,
   "id": "43033330",
   "metadata": {},
   "outputs": [],
   "source": [
    "sgl_snp_cols = ['loop_chrA',\n",
    "                 'snp_start',\n",
    "                 'snp_end',\n",
    "                 'snp_rsid',\n",
    "                 'snp_ppa',\n",
    "                 'snp_signal_name']"
   ]
  },
  {
   "cell_type": "code",
   "execution_count": 13,
   "id": "dadf4108",
   "metadata": {},
   "outputs": [],
   "source": [
    "# create a snp bed file in compressed and indexed mode\n",
    "snps_df = strongest_atac_sgls_jurkat[sgl_snp_cols].drop_duplicates()\n",
    "snp_fn = os.path.join(outdir, 'sgls.snps.bed')\n",
    "sgls.df_to_bed_file(snps_df, snp_fn, sort=True, other_cols=[3,4,5])\n",
    "snp_bed_gz, _ = sgls.bgzip(snp_fn)"
   ]
  },
  {
   "cell_type": "code",
   "execution_count": 14,
   "id": "700184b0",
   "metadata": {},
   "outputs": [
    {
     "name": "stdout",
     "output_type": "stream",
     "text": [
      "https://informaticsdata.liai.org/bioadhoc-temp/Groups/vd-ay/jreyna/projects/dchallenge/results/main/chiou_2021/analysis/intersect_cs_with_loops/sgls.snps.bed.gz\n"
     ]
    }
   ],
   "source": [
    "print(sgls.make_lji_url(snp_bed_gz))"
   ]
  },
  {
   "cell_type": "code",
   "execution_count": 105,
   "id": "6ac18fd0",
   "metadata": {},
   "outputs": [],
   "source": [
    "# build pbt for the strongests SGLs\n",
    "strongest_loop_cols = sgls.add_prefix_to_names(sgls.BEDPE_COLS[0:6] + ['id'], 'loop_')\n",
    "strongest_pbt = pbt.BedTool.from_dataframe(strongest_atac_sgls_jurkat[strongest_loop_cols])\n",
    "strongest_pbt2 = pbt.BedTool.from_dataframe(strongest_atac_sgls_jurkat[strongest_loop_cols[0:3]])"
   ]
  },
  {
   "cell_type": "code",
   "execution_count": 16,
   "id": "525260a4",
   "metadata": {},
   "outputs": [],
   "source": [
    "strongest_jurkat_p2p = sgls.pairtopair_dataframe(strongest_atac_sgls_jurkat, jurkat_loops,\n",
    "                                     strongest_loop_cols, jurkat_loop_cols)"
   ]
  },
  {
   "cell_type": "code",
   "execution_count": 28,
   "id": "5ef6db1f",
   "metadata": {},
   "outputs": [
    {
     "data": {
      "text/plain": [
       "'https://informaticsdata.liai.org/bioadhoc-temp/Groups/vd-ay/jreyna/projects/dchallenge/results/main/chiou_2021/analysis/intersect_cs_with_loops/strongest_atac_jurkat_sgls.with_jurkatLoops.tsv'"
      ]
     },
     "execution_count": 28,
     "metadata": {},
     "output_type": "execute_result"
    }
   ],
   "source": [
    "best_loops = strongest_jurkat_p2p.loc[~strongest_jurkat_p2p.jurkatLs_p.isna(),:]\n",
    "sgl_with_jurkatLs_fn = os.path.join(outdir, 'strongest_atac_jurkat_sgls.with_jurkatLoops.tsv')\n",
    "sgls.df_to_tsv_file(best_loops, sgl_with_jurkatLs_fn)\n",
    "sgls.make_lji_url(sgl_with_jurkatLs_fn)"
   ]
  },
  {
   "cell_type": "code",
   "execution_count": 147,
   "id": "952d40af",
   "metadata": {},
   "outputs": [
    {
     "data": {
      "text/plain": [
       "<module 'chromolooper.sgls' from '/mnt/bioadhoc-temp/Groups/vd-ay/jreyna/projects/chromolooper/chromolooper/sgls.py'>"
      ]
     },
     "execution_count": 147,
     "metadata": {},
     "output_type": "execute_result"
    }
   ],
   "source": [
    "importlib.reload(sgls)"
   ]
  },
  {
   "cell_type": "code",
   "execution_count": 150,
   "id": "41e048f8",
   "metadata": {},
   "outputs": [],
   "source": [
    "a = sgls.find_bedpe_like_columns(strongest_jurkat_p2p)"
   ]
  },
  {
   "cell_type": "code",
   "execution_count": null,
   "id": "80028319",
   "metadata": {},
   "outputs": [],
   "source": []
  },
  {
   "cell_type": "code",
   "execution_count": null,
   "id": "67307db4",
   "metadata": {},
   "outputs": [],
   "source": []
  }
 ],
 "metadata": {
  "kernelspec": {
   "display_name": "(hichip-db)",
   "language": "python",
   "name": "hichip-db"
  },
  "language_info": {
   "codemirror_mode": {
    "name": "ipython",
    "version": 3
   },
   "file_extension": ".py",
   "mimetype": "text/x-python",
   "name": "python",
   "nbconvert_exporter": "python",
   "pygments_lexer": "ipython3",
   "version": "3.9.10"
  }
 },
 "nbformat": 4,
 "nbformat_minor": 5
}
