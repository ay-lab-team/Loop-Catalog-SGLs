{
 "cells": [
  {
   "cell_type": "markdown",
   "id": "c6cf0627",
   "metadata": {},
   "source": [
    "# Extracting Credible Sets"
   ]
  },
  {
   "cell_type": "markdown",
   "id": "722d61d3",
   "metadata": {},
   "source": [
    "The [Chiou et al., 2021 paper](nature.com/articles/s41588-021-00823-0) used fine-mapping with a large cohort of GWAS data to determine 81 unique loci associated with T1D and included an additional ~60 independent signals. Originally I had tried to use the Ay lab fine-mapping pipeline but we could only obtain 10 regions (did not do a direct comparison). Using these fine-mapped results we should be able to get a better list of SGLs. In this notebook I am extracting the credible sets for downstream use, this data was stored in Supplementary table 1 of the publication."
   ]
  },
  {
   "cell_type": "code",
   "execution_count": 1,
   "id": "6f5f3ccd",
   "metadata": {},
   "outputs": [],
   "source": [
    "import os\n",
    "import pandas as pd \n",
    "\n",
    "# # add tabix to path variable \n",
    "# os.environ[\"PATH\"] += \":/mnt/bioadhoc-temp/Groups/vd-ay/jreyna/software/mamba/envs/hichip-db/bin/\"\n",
    "\n",
    "# change the working directory\n",
    "os.chdir('/mnt/BioHome/jreyna/jreyna-temp/projects/t1d-loop-catalog/')"
   ]
  },
  {
   "cell_type": "code",
   "execution_count": 2,
   "id": "ccc796fd",
   "metadata": {},
   "outputs": [],
   "source": [
    "outdir = 'results/hg38/external_studies/chiou_2021/processing/finemapping/'\n",
    "os.makedirs(outdir, exist_ok=True)"
   ]
  },
  {
   "cell_type": "markdown",
   "id": "185a8744",
   "metadata": {},
   "source": [
    "## Load the variant data"
   ]
  },
  {
   "cell_type": "code",
   "execution_count": 4,
   "id": "4e5378ba",
   "metadata": {},
   "outputs": [],
   "source": [
    "# load the data\n",
    "cs_fn = 'results/hg38/external_studies/chiou_2021/Supplemental1.credible_sets.41586_2021_3552_MOESM4_ESM.xlsx'\n",
    "cs_vars = pd.read_excel(cs_fn, skiprows=2)\n",
    "cs_vars.columns = ['rsid', 'hg38_id', 'hg19_id', 'chrom', 'hg38_pos', 'hg38_signal_name', 'ppa'] # 'hg38_pos', 'hg38_pos' ,'']\n",
    "\n",
    "# add major and minor alleles\n",
    "_, pos, nmajor, nminor = zip(*cs_vars['hg19_id'].str.split(':'))\n",
    "cs_vars['hg19_pos'] = pos\n",
    "cs_vars['major_allele'] = nmajor\n",
    "cs_vars['minor_allele'] = nminor\n",
    "\n",
    "# add the hg19 signal name\n",
    "def create_hg19_id(sr):\n",
    "    hg38_id = sr['hg38_signal_name']\n",
    "    info = hg38_id.split(':')\n",
    "    info[1] = sr['hg19_pos']\n",
    "    final = ':'.join(info)\n",
    "    return(final)\n",
    "cs_vars['hg19_signal_name'] = cs_vars.apply(create_hg19_id, axis=1)\n",
    "\n",
    "# add the start position for bed file format\n",
    "cs_vars['hg19_start'] = cs_vars['hg19_pos'].astype(int) - 1\n",
    "cs_vars['hg38_start'] = cs_vars['hg38_pos'].astype(int) - 1\n",
    "\n",
    "# rename from pos to end\n",
    "cs_vars.rename(columns={'hg19_pos': 'hg19_end', 'hg38_pos': 'hg38_end'}, inplace=True)"
   ]
  },
  {
   "cell_type": "code",
   "execution_count": 5,
   "id": "e14eab8f",
   "metadata": {},
   "outputs": [],
   "source": [
    "# extract hg19 data\n",
    "hg19_cols = ['chrom', 'hg19_start', 'hg19_end', 'rsid', 'hg19_id', 'hg19_signal_name', 'ppa', 'major_allele', 'minor_allele']\n",
    "hg19_data = cs_vars[hg19_cols]\n",
    "\n",
    "# remove hg19 from column names\n",
    "hg19_data.columns = ['chrom', 'start', 'end', 'rsid', 'id', 'signal_name', 'ppa', 'major_allele', 'minor_allele']\n",
    "\n",
    "# save the data with a full set of columns\n",
    "full_fn = os.path.join(outdir, 'hg19.finemapping.full.bed')\n",
    "hg19_data.to_csv(full_fn, sep='\\t', index=False, header=True)\n",
    "\n",
    "# make a list of columns with just genetic coordinate information & save\n",
    "basic_cols = ['chrom', 'start', 'end', 'rsid', 'ppa']\n",
    "basic_fn = os.path.join(outdir, 'hg19.finemapping.basic.bed')\n",
    "hg19_data[basic_cols].to_csv(basic_fn, sep='\\t', index=False, header=True)"
   ]
  },
  {
   "cell_type": "code",
   "execution_count": 6,
   "id": "6f68457f",
   "metadata": {},
   "outputs": [
    {
     "ename": "",
     "evalue": "",
     "output_type": "error",
     "traceback": [
      "\u001b[1;31mThe Kernel crashed while executing code in the the current cell or a previous cell. Please review the code in the cell(s) to identify a possible cause of the failure. Click <a href='https://aka.ms/vscodeJupyterKernelCrash'>here</a> for more info. View Jupyter <a href='command:jupyter.viewOutput'>log</a> for further details."
     ]
    }
   ],
   "source": [
    "# extract hg38 data\n",
    "hg38_cols = ['chrom', 'hg38_start', 'hg38_end', 'rsid', 'hg38_id', 'hg38_signal_name', 'ppa', 'major_allele', 'minor_allele']\n",
    "hg38_data = cs_vars[hg38_cols]\n",
    "\n",
    "# remove hg38 from column names\n",
    "hg38_data.columns = ['chrom', 'start', 'end', 'rsid', 'id', 'signal_name', 'ppa', 'major_allele', 'minor_allele']\n",
    "\n",
    "# save the data with a full set of columns\n",
    "full_fn = os.path.join(outdir, 'hg38.finemapping.full.bed')\n",
    "hg38_data.to_csv(full_fn, sep='\\t', index=False, header=True)\n",
    "\n",
    "# make a list of columns with just genetic coordinate information & save\n",
    "basic_fn = os.path.join(outdir, 'hg38.finemapping.basic.bed')\n",
    "hg38_data[basic_cols].to_csv(basic_fn, sep='\\t', index=False, header=True)"
   ]
  },
  {
   "cell_type": "code",
   "execution_count": null,
   "id": "2058d517",
   "metadata": {},
   "outputs": [
    {
     "ename": "",
     "evalue": "",
     "output_type": "error",
     "traceback": [
      "\u001b[1;31mFailed to start the Kernel. \n",
      "\u001b[1;31mUnable to start Kernel '(hichip-db) (Python 3.9.10)' due to connection timeout. \n",
      "\u001b[1;31mView Jupyter <a href='command:jupyter.viewOutput'>log</a> for further details."
     ]
    }
   ],
   "source": [
    "# save_data['ppa_pct'] = pd.cut(save_data.PPA,\n",
    "#                               bins=[0,0.1,0.2,.5,0.8,0.9,1],\n",
    "#                               labels=['0-10%', '10-20%', '20-50%', '50-80%', '80-90%', '90-100%'] )\n",
    "# save_data.loc[save_data['ppa_pct'] == '80-90%']\n",
    "# save_data.loc[save_data.ppa_pct == '50-80%']"
   ]
  }
 ],
 "metadata": {
  "kernelspec": {
   "display_name": "(hichip-db)",
   "language": "python",
   "name": "hichip-db"
  },
  "language_info": {
   "codemirror_mode": {
    "name": "ipython",
    "version": 3
   },
   "file_extension": ".py",
   "mimetype": "text/x-python",
   "name": "python",
   "nbconvert_exporter": "python",
   "pygments_lexer": "ipython3",
   "version": "3.9.10"
  }
 },
 "nbformat": 4,
 "nbformat_minor": 5
}
