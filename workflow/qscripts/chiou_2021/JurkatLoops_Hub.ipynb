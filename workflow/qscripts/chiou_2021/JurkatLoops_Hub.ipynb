{
 "cells": [
  {
   "cell_type": "markdown",
   "id": "77a0622b",
   "metadata": {},
   "source": [
    "# Jurkat Loop Hub"
   ]
  },
  {
   "cell_type": "markdown",
   "id": "1b89da94",
   "metadata": {},
   "source": [
    "4-5 replicates of HiC samples for Jurkat cells have been generated and processed through HiC-Pro."
   ]
  },
  {
   "cell_type": "code",
   "execution_count": 1,
   "id": "5385e3a8",
   "metadata": {},
   "outputs": [],
   "source": [
    "import os \n",
    "import numpy as np\n",
    "import pandas as pd\n",
    "import glob\n",
    "import subprocess as sp\n",
    "import json\n",
    "import warnings\n",
    "import pybedtools as pbt\n",
    "import cooler\n",
    "import seaborn as sns\n",
    "from matplotlib import pyplot as plt\n",
    "warnings.filterwarnings('ignore')"
   ]
  },
  {
   "cell_type": "code",
   "execution_count": 2,
   "id": "87d36cee",
   "metadata": {},
   "outputs": [
    {
     "data": {
      "text/plain": [
       "<module 'chromolooper.sgls' from '/mnt/bioadhoc-temp/Groups/vd-ay/jreyna/projects/chromolooper/chromolooper/sgls.py'>"
      ]
     },
     "execution_count": 2,
     "metadata": {},
     "output_type": "execute_result"
    }
   ],
   "source": [
    "from chromolooper import sgls\n",
    "import importlib\n",
    "importlib.reload(sgls)"
   ]
  },
  {
   "cell_type": "code",
   "execution_count": 3,
   "id": "b025724b",
   "metadata": {},
   "outputs": [],
   "source": [
    "# change the working directory\n",
    "os.chdir('/mnt/BioHome/jreyna/jreyna-temp/projects/dchallenge')\n",
    "pd.set_option('display.max_columns', 1000)"
   ]
  },
  {
   "cell_type": "code",
   "execution_count": 4,
   "id": "364ed29a",
   "metadata": {},
   "outputs": [],
   "source": [
    "outdir = 'results/main/jurkat_loops/'\n",
    "os.makedirs(outdir, exist_ok=True)"
   ]
  },
  {
   "cell_type": "code",
   "execution_count": 5,
   "id": "98fe24ff",
   "metadata": {},
   "outputs": [],
   "source": [
    "pbt.set_bedtools_path(sgls.BEDTOOLS_DIR)"
   ]
  },
  {
   "cell_type": "markdown",
   "id": "19d5dd21",
   "metadata": {},
   "source": [
    "## Loading the Extra Jurkat Loops"
   ]
  },
  {
   "cell_type": "code",
   "execution_count": 6,
   "id": "d85f1a35",
   "metadata": {},
   "outputs": [],
   "source": [
    "jurkat_loop_glob = '/mnt/BioAdHoc/Groups/vd-vijay/sourya/Projects/2020_IQTL_HiChIP/Data/' + \\\n",
    "                    'Jurkat_FitHiChIP_Loops/HiChIP_Samples_*/Out_FitHiChIP/' + \\\n",
    "                    'FitHiChIP_Peak2ALL_b5000_L10000_U3000000/P2PBckgr_1/Coverage_Bias/FitHiC_BiasCorr/' + \\\n",
    "                    'FitHiChIP.interactions_FitHiC_Q0.01.bed'\n",
    "jurkat_loop_files = glob.glob(jurkat_loop_glob)\n",
    "jurkat_loops = sgls.read_multiple_tables_to_df(jurkat_loop_files, header=0)\n",
    "jurkat_loops = sgls.rename_col_with_ints(jurkat_loops, np.arange(0, 6), sgls.BEDPE_COLS[0:6])\n",
    "\n",
    "jurkat_loops['sample'] = jurkat_loops['file'].apply(lambda x: x.split('/')[10])\n",
    "jurkat_loops.columns = sgls.add_prefix_to_names(jurkat_loops.columns.tolist(), 'jurkatLs_')\n",
    "jurkat_loops['jurkatLs_id'] = sgls.create_loop_id_col(jurkat_loops, extras=[27])"
   ]
  },
  {
   "cell_type": "markdown",
   "id": "a3e59a73",
   "metadata": {},
   "source": [
    "## Extract the top scoring loops at each pair of loci"
   ]
  },
  {
   "cell_type": "code",
   "execution_count": 179,
   "id": "5a0d5b42",
   "metadata": {},
   "outputs": [],
   "source": [
    "jurkatLs_prefix = 'jurkatLs_'"
   ]
  },
  {
   "cell_type": "code",
   "execution_count": 9,
   "id": "4ee56ee3",
   "metadata": {},
   "outputs": [],
   "source": [
    "coord_id_cols = sgls.add_prefix_to_names(sgls.BEDPE_COLS[0:6], jurkatLs_prefix)\n",
    "best_pval_loops = sgls.get_grp_min(jurkat_loops, 'jurkatLs_p', coord_id_cols)"
   ]
  },
  {
   "cell_type": "code",
   "execution_count": 183,
   "id": "25771793",
   "metadata": {},
   "outputs": [],
   "source": [
    "bedpe_cols = sgls.add_prefix_to_names(sgls.BEDPE_COLS[0:6] + ['p'], jurkatLs_prefix)"
   ]
  },
  {
   "cell_type": "code",
   "execution_count": 184,
   "id": "1143b79d",
   "metadata": {},
   "outputs": [
    {
     "data": {
      "text/plain": [
       "['jurkatLs_chrA',\n",
       " 'jurkatLs_startA',\n",
       " 'jurkatLs_endA',\n",
       " 'jurkatLs_chrB',\n",
       " 'jurkatLs_startB',\n",
       " 'jurkatLs_endB',\n",
       " 'jurkatLs_p']"
      ]
     },
     "execution_count": 184,
     "metadata": {},
     "output_type": "execute_result"
    }
   ],
   "source": [
    "bedpe_cols"
   ]
  },
  {
   "cell_type": "code",
   "execution_count": 186,
   "id": "cba6b21b",
   "metadata": {},
   "outputs": [],
   "source": [
    "best_pval_loops_bedpe = best_pval_loops.loc[:, bedpe_cols]"
   ]
  },
  {
   "cell_type": "code",
   "execution_count": 187,
   "id": "53bc7051",
   "metadata": {},
   "outputs": [
    {
     "data": {
      "text/html": [
       "<div>\n",
       "<style scoped>\n",
       "    .dataframe tbody tr th:only-of-type {\n",
       "        vertical-align: middle;\n",
       "    }\n",
       "\n",
       "    .dataframe tbody tr th {\n",
       "        vertical-align: top;\n",
       "    }\n",
       "\n",
       "    .dataframe thead th {\n",
       "        text-align: right;\n",
       "    }\n",
       "</style>\n",
       "<table border=\"1\" class=\"dataframe\">\n",
       "  <thead>\n",
       "    <tr style=\"text-align: right;\">\n",
       "      <th></th>\n",
       "      <th>jurkatLs_chrA</th>\n",
       "      <th>jurkatLs_startA</th>\n",
       "      <th>jurkatLs_endA</th>\n",
       "      <th>jurkatLs_chrB</th>\n",
       "      <th>jurkatLs_startB</th>\n",
       "      <th>jurkatLs_endB</th>\n",
       "      <th>jurkatLs_p</th>\n",
       "    </tr>\n",
       "  </thead>\n",
       "  <tbody>\n",
       "    <tr>\n",
       "      <th>3364</th>\n",
       "      <td>chrY</td>\n",
       "      <td>58985000</td>\n",
       "      <td>58990000</td>\n",
       "      <td>chrY</td>\n",
       "      <td>58995000</td>\n",
       "      <td>59000000</td>\n",
       "      <td>1.779359e-06</td>\n",
       "    </tr>\n",
       "    <tr>\n",
       "      <th>4958</th>\n",
       "      <td>chrY</td>\n",
       "      <td>58985000</td>\n",
       "      <td>58990000</td>\n",
       "      <td>chrY</td>\n",
       "      <td>58995000</td>\n",
       "      <td>59000000</td>\n",
       "      <td>1.770517e-06</td>\n",
       "    </tr>\n",
       "    <tr>\n",
       "      <th>4892</th>\n",
       "      <td>chrY</td>\n",
       "      <td>58985000</td>\n",
       "      <td>58990000</td>\n",
       "      <td>chrY</td>\n",
       "      <td>58995000</td>\n",
       "      <td>59000000</td>\n",
       "      <td>1.770827e-06</td>\n",
       "    </tr>\n",
       "    <tr>\n",
       "      <th>3424</th>\n",
       "      <td>chrY</td>\n",
       "      <td>58985000</td>\n",
       "      <td>58990000</td>\n",
       "      <td>chrY</td>\n",
       "      <td>58995000</td>\n",
       "      <td>59000000</td>\n",
       "      <td>1.777067e-06</td>\n",
       "    </tr>\n",
       "    <tr>\n",
       "      <th>3811</th>\n",
       "      <td>chrY</td>\n",
       "      <td>58985000</td>\n",
       "      <td>58990000</td>\n",
       "      <td>chrY</td>\n",
       "      <td>58995000</td>\n",
       "      <td>59000000</td>\n",
       "      <td>1.779459e-06</td>\n",
       "    </tr>\n",
       "    <tr>\n",
       "      <th>...</th>\n",
       "      <td>...</td>\n",
       "      <td>...</td>\n",
       "      <td>...</td>\n",
       "      <td>...</td>\n",
       "      <td>...</td>\n",
       "      <td>...</td>\n",
       "      <td>...</td>\n",
       "    </tr>\n",
       "    <tr>\n",
       "      <th>428</th>\n",
       "      <td>chr10</td>\n",
       "      <td>72165000</td>\n",
       "      <td>72170000</td>\n",
       "      <td>chr10</td>\n",
       "      <td>73635000</td>\n",
       "      <td>73640000</td>\n",
       "      <td>1.192323e-08</td>\n",
       "    </tr>\n",
       "    <tr>\n",
       "      <th>426</th>\n",
       "      <td>chr10</td>\n",
       "      <td>72165000</td>\n",
       "      <td>72170000</td>\n",
       "      <td>chr10</td>\n",
       "      <td>73635000</td>\n",
       "      <td>73640000</td>\n",
       "      <td>1.192461e-08</td>\n",
       "    </tr>\n",
       "    <tr>\n",
       "      <th>283</th>\n",
       "      <td>chr10</td>\n",
       "      <td>72165000</td>\n",
       "      <td>72170000</td>\n",
       "      <td>chr10</td>\n",
       "      <td>73635000</td>\n",
       "      <td>73640000</td>\n",
       "      <td>1.187159e-08</td>\n",
       "    </tr>\n",
       "    <tr>\n",
       "      <th>335</th>\n",
       "      <td>chr10</td>\n",
       "      <td>72165000</td>\n",
       "      <td>72170000</td>\n",
       "      <td>chr10</td>\n",
       "      <td>73635000</td>\n",
       "      <td>73640000</td>\n",
       "      <td>1.186005e-08</td>\n",
       "    </tr>\n",
       "    <tr>\n",
       "      <th>207</th>\n",
       "      <td>chr1</td>\n",
       "      <td>234655000</td>\n",
       "      <td>234660000</td>\n",
       "      <td>chr1</td>\n",
       "      <td>235260000</td>\n",
       "      <td>235265000</td>\n",
       "      <td>4.490127e-08</td>\n",
       "    </tr>\n",
       "  </tbody>\n",
       "</table>\n",
       "<p>1230 rows × 7 columns</p>\n",
       "</div>"
      ],
      "text/plain": [
       "     jurkatLs_chrA  jurkatLs_startA  jurkatLs_endA jurkatLs_chrB  \\\n",
       "3364          chrY         58985000       58990000          chrY   \n",
       "4958          chrY         58985000       58990000          chrY   \n",
       "4892          chrY         58985000       58990000          chrY   \n",
       "3424          chrY         58985000       58990000          chrY   \n",
       "3811          chrY         58985000       58990000          chrY   \n",
       "...            ...              ...            ...           ...   \n",
       "428          chr10         72165000       72170000         chr10   \n",
       "426          chr10         72165000       72170000         chr10   \n",
       "283          chr10         72165000       72170000         chr10   \n",
       "335          chr10         72165000       72170000         chr10   \n",
       "207           chr1        234655000      234660000          chr1   \n",
       "\n",
       "      jurkatLs_startB  jurkatLs_endB    jurkatLs_p  \n",
       "3364         58995000       59000000  1.779359e-06  \n",
       "4958         58995000       59000000  1.770517e-06  \n",
       "4892         58995000       59000000  1.770827e-06  \n",
       "3424         58995000       59000000  1.777067e-06  \n",
       "3811         58995000       59000000  1.779459e-06  \n",
       "...               ...            ...           ...  \n",
       "428          73635000       73640000  1.192323e-08  \n",
       "426          73635000       73640000  1.192461e-08  \n",
       "283          73635000       73640000  1.187159e-08  \n",
       "335          73635000       73640000  1.186005e-08  \n",
       "207         235260000      235265000  4.490127e-08  \n",
       "\n",
       "[1230 rows x 7 columns]"
      ]
     },
     "execution_count": 187,
     "metadata": {},
     "output_type": "execute_result"
    }
   ],
   "source": [
    "best_pval_loops_bedpe"
   ]
  },
  {
   "cell_type": "code",
   "execution_count": null,
   "id": "7d77b04e",
   "metadata": {},
   "outputs": [],
   "source": []
  },
  {
   "cell_type": "code",
   "execution_count": null,
   "id": "69fd7946",
   "metadata": {},
   "outputs": [],
   "source": []
  },
  {
   "cell_type": "code",
   "execution_count": null,
   "id": "6d3e14ce",
   "metadata": {},
   "outputs": [],
   "source": []
  },
  {
   "cell_type": "code",
   "execution_count": null,
   "id": "92fc6003",
   "metadata": {},
   "outputs": [],
   "source": []
  },
  {
   "cell_type": "markdown",
   "id": "52d3a7d3",
   "metadata": {},
   "source": [
    "## Make a hub of all Jurkat loops"
   ]
  },
  {
   "cell_type": "code",
   "execution_count": 175,
   "id": "0495e80c",
   "metadata": {},
   "outputs": [],
   "source": [
    "# getting colors for the hubs\n",
    "colors = pd.read_table('results/refs/dice_colors/colors.revised.t1d-project.V2.tsv')\n",
    "cd4_tcell_color = colors.set_index('color-name').loc['cd4t-cell', 'hex']"
   ]
  },
  {
   "cell_type": "code",
   "execution_count": 176,
   "id": "cb44a4f4",
   "metadata": {},
   "outputs": [],
   "source": [
    "# getting a list of jurkat longrange files\n",
    "jurkat_loop_glob = '/mnt/BioAdHoc/Groups/vd-vijay/sourya/Projects/2020_IQTL_HiChIP/Data/' + \\\n",
    "                    'Jurkat_FitHiChIP_Loops/HiChIP_Samples_*/Out_FitHiChIP/' + \\\n",
    "                    'FitHiChIP_Peak2ALL_b5000_L10000_U3000000/P2PBckgr_1/Coverage_Bias/FitHiC_BiasCorr/' + \\\n",
    "                    'FitHiChIP.interactions_FitHiC_Q0.01_WashU.bed.gz'\n",
    "jurkat_loop_files = glob.glob(jurkat_loop_glob)"
   ]
  },
  {
   "cell_type": "code",
   "execution_count": 193,
   "id": "ccca37e3",
   "metadata": {},
   "outputs": [
    {
     "name": "stdout",
     "output_type": "stream",
     "text": [
      "https://informaticsdata.liai.org/bioadhoc-temp/Groups/vd-ay/jreyna/projects/dchallenge/results/main/jurkat_loops/jurkat.loops.config.txt\n"
     ]
    }
   ],
   "source": [
    "# make each hub entry\n",
    "hub_entries = []\n",
    "for fn in jurkat_loop_files:\n",
    "    url = sgls.make_lji_url(fn)\n",
    "    entry = sgls.make_washu_longrange_dict(name, url, color=cd4_tcell_color,)\n",
    "    hub_entries.append(entry)\n",
    "\n",
    "# write the washu hub\n",
    "jurkat_json = os.path.join(outdir, 'jurkat.loops.config.txt')\n",
    "sgls.create_washu_hub(hub_entries, jurkat_json)\n",
    "\n",
    "# get the hub link\n",
    "hub_link = sgls.make_lji_url(jurkat_json)\n",
    "print(hub_link)"
   ]
  },
  {
   "cell_type": "code",
   "execution_count": 190,
   "id": "0811ec9d",
   "metadata": {},
   "outputs": [],
   "source": [
    "s = '/mnt/bioadhoc-temp/Groups/vd-ay/jreyna/projects/dchallenge/results/refs/gencode/v30/gencode.v30.annotation.grch37.genes_only.sorted.bed.gz'"
   ]
  },
  {
   "cell_type": "code",
   "execution_count": 192,
   "id": "f68fb006",
   "metadata": {},
   "outputs": [
    {
     "name": "stdout",
     "output_type": "stream",
     "text": [
      "https://informaticsdata.liai.org/bioadhoc-temp/Groups/vd-ay/jreyna/projects/dchallenge/results/refs/gencode/v30/gencode.v30.annotation.grch37.genes_only.sorted.bed.gz\n"
     ]
    }
   ],
   "source": [
    "print(sgls.make_lji_url(s))"
   ]
  },
  {
   "cell_type": "code",
   "execution_count": null,
   "id": "0e982cd4",
   "metadata": {},
   "outputs": [],
   "source": []
  }
 ],
 "metadata": {
  "kernelspec": {
   "display_name": "(hichip-db)",
   "language": "python",
   "name": "hichip-db"
  },
  "language_info": {
   "codemirror_mode": {
    "name": "ipython",
    "version": 3
   },
   "file_extension": ".py",
   "mimetype": "text/x-python",
   "name": "python",
   "nbconvert_exporter": "python",
   "pygments_lexer": "ipython3",
   "version": "3.9.10"
  }
 },
 "nbformat": 4,
 "nbformat_minor": 5
}
