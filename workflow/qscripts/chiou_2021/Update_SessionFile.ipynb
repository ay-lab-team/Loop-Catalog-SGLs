{
 "cells": [
  {
   "cell_type": "markdown",
   "id": "77a0622b",
   "metadata": {},
   "source": [
    "# Intersect CS with Loops"
   ]
  },
  {
   "cell_type": "code",
   "execution_count": 153,
   "id": "bbf8abe8",
   "metadata": {},
   "outputs": [],
   "source": [
    "# combine multiple hubs together "
   ]
  },
  {
   "cell_type": "code",
   "execution_count": 154,
   "id": "0a754058",
   "metadata": {},
   "outputs": [],
   "source": [
    "jsons = ['/mnt/bioadhoc-temp/Groups/vd-ay/jreyna/projects/dchallenge/results/main/jurkat_loops/jurkat.loops.config.txt',\n",
    "         '/mnt/bioadhoc-temp/Groups/vd-ay/jreyna/projects/dchallenge/results/main/loop_catalog/processing/hg38_to_hg19/washu/fit_hp/hub.config.txt']"
   ]
  },
  {
   "cell_type": "code",
   "execution_count": 155,
   "id": "c1f8be54",
   "metadata": {},
   "outputs": [],
   "source": [
    "import json"
   ]
  },
  {
   "cell_type": "code",
   "execution_count": 180,
   "id": "6050e8f3",
   "metadata": {},
   "outputs": [],
   "source": [
    "def join_datahub_files(jsons, merged_json):\n",
    "    \"\"\"\n",
    "    Join WashU datahubs.\n",
    "    \n",
    "    Params:\n",
    "    -------\n",
    "    jsons: list, list of json file paths\n",
    "    \n",
    "    Returns:\n",
    "    --------\n",
    "    True or False if successfully completed. \n",
    "    \n",
    "    \"\"\"\n",
    "    \n",
    "    # merge the jsons together\n",
    "    new_json = []\n",
    "    for fn in jsons:\n",
    "        with open(fn, 'r') as fr:\n",
    "            new_json.extend(json.load(fr))\n",
    "            \n",
    "    # write the merged json\n",
    "    with open(merged_json, 'w') as fw:\n",
    "        dump = json.dumps(new_json, indent='\\t')\n",
    "        fw.write(dump)\n",
    "        \n",
    "    return(True)"
   ]
  },
  {
   "cell_type": "code",
   "execution_count": 180,
   "id": "b5d4368f",
   "metadata": {},
   "outputs": [],
   "source": [
    "def update_sessionFile(sessionFile, newSessionFile, regionSets=None, highlights=None)\n",
    "    \"\"\"\n",
    "    Update WashU sessionFile with regions and highlights.\n",
    "    \n",
    "    Params:\n",
    "    -------\n",
    "    jsons: list, list of json file paths\n",
    "    \n",
    "    Returns:\n",
    "    --------\n",
    "    True or False if successfully completed. \n",
    "    \n",
    "    \"\"\"\n",
    "    \n",
    "    if region_sets is None and highlights is None:\n",
    "        raise Exception('Both region_sets and highlights are None. Please pass a valid input.')\n",
    "    \n",
    "    # load json file\n",
    "    with open(sessionFile, 'r') as fr:\n",
    "        session_jdata = json.load(fr)\n",
    "            \n",
    "    # update the region sets     \n",
    "    if region_sets is not None: \n",
    "        session_jdata['regionSets'] = region_sets\n",
    "        \n",
    "    # update the highlights     \n",
    "    if highlights is not None: \n",
    "        session_jdata['highlights'] = highlights\n",
    "    \n",
    "    # write the updated session file\n",
    "    with open(newSessionFile, 'w') as fw:\n",
    "        dump = json.dumps(session_jdata, indent='\\t')\n",
    "        fw.write(dump)\n",
    "        \n",
    "    return(True)"
   ]
  },
  {
   "cell_type": "code",
   "execution_count": 181,
   "id": "a1e77d59",
   "metadata": {},
   "outputs": [
    {
     "data": {
      "text/plain": [
       "True"
      ]
     },
     "execution_count": 181,
     "metadata": {},
     "output_type": "execute_result"
    }
   ],
   "source": [
    "merged_json = os.path.join(outdir, 'test.json')\n",
    "join_datahub_files(jsons, merged_json)"
   ]
  },
  {
   "cell_type": "code",
   "execution_count": 183,
   "id": "276d7e9b",
   "metadata": {},
   "outputs": [
    {
     "name": "stdout",
     "output_type": "stream",
     "text": [
      "[\r\n",
      "\t{\r\n",
      "\t\t\"type\": \"longrange\",\r\n",
      "\t\t\"name\": \"HiChIP_Samples_Run3_Jan2020_Jurkat_JC_L001\",\r\n",
      "\t\t\"url\": \"https://informaticsdata.liai.org/BioAdHoc/Groups/vd-vijay/sourya/Projects/2020_IQTL_HiChIP/Data/Jurkat_FitHiChIP_Loops/HiChIP_Samples_Run1_Nov2019_Jurkat_JC_L004/Out_FitHiChIP/FitHiChIP_Peak2ALL_b5000_L10000_U3000000/P2PBckgr_1/Coverage_Bias/FitHiC_BiasCorr/FitHiChIP.interactions_FitHiC_Q0.01_WashU.bed.gz\",\r\n",
      "\t\t\"showOnHubLoad\": true,\r\n",
      "\t\t\"options\": {\r\n",
      "\t\t\t\"ensembleStyle\": true,\r\n",
      "\t\t\t\"height\": 200,\r\n",
      "\t\t\t\"color\": \"#00BFFF\",\r\n"
     ]
    }
   ],
   "source": [
    "!head $merged_json"
   ]
  }
 ],
 "metadata": {
  "kernelspec": {
   "display_name": "(hichip-db)",
   "language": "python",
   "name": "hichip-db"
  },
  "language_info": {
   "codemirror_mode": {
    "name": "ipython",
    "version": 3
   },
   "file_extension": ".py",
   "mimetype": "text/x-python",
   "name": "python",
   "nbconvert_exporter": "python",
   "pygments_lexer": "ipython3",
   "version": "3.9.10"
  }
 },
 "nbformat": 4,
 "nbformat_minor": 5
}
