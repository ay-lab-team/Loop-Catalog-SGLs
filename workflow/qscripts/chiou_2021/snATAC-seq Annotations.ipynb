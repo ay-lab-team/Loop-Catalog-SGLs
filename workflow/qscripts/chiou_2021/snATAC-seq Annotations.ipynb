{
 "cells": [
  {
   "cell_type": "code",
   "execution_count": null,
   "id": "79788380",
   "metadata": {},
   "outputs": [],
   "source": [
    "import os\n",
    "import pandas as pd \n",
    "import glob\n",
    "import json\n",
    "import subprocess as sp\n",
    "import numpy as np\n",
    "os.chdir('/mnt/BioHome/jreyna/jreyna-temp/projects/dchallenge')"
   ]
  },
  {
   "cell_type": "markdown",
   "id": "986cef4a",
   "metadata": {},
   "source": [
    "Data was processed using GRCh37."
   ]
  },
  {
   "cell_type": "code",
   "execution_count": 4,
   "id": "f620af93",
   "metadata": {},
   "outputs": [],
   "source": [
    "outdir = 'results/main/chiou_2021/processing/'\n",
    "os.makedirs(outdir, exist_ok=True)"
   ]
  },
  {
   "cell_type": "markdown",
   "id": "097ab41c",
   "metadata": {},
   "source": [
    "## Loading the cell meta-data"
   ]
  },
  {
   "cell_type": "code",
   "execution_count": 38,
   "id": "9b57c41a",
   "metadata": {},
   "outputs": [],
   "source": [
    "# getting the cell name dictionary\n",
    "cell_names = pd.read_table('results/refs/meta/cell_types.dict.tsv')\n",
    "cell_names = cell_names.loc[cell_names['source'] == 'Chiou et al., 2021 - SuppData3']\n",
    "t1d_cells = cell_names.loc[~cell_names['color-name'].isna()]"
   ]
  },
  {
   "cell_type": "code",
   "execution_count": 60,
   "id": "f7aedba9",
   "metadata": {},
   "outputs": [
    {
     "data": {
      "text/html": [
       "<div>\n",
       "<style scoped>\n",
       "    .dataframe tbody tr th:only-of-type {\n",
       "        vertical-align: middle;\n",
       "    }\n",
       "\n",
       "    .dataframe tbody tr th {\n",
       "        vertical-align: top;\n",
       "    }\n",
       "\n",
       "    .dataframe thead th {\n",
       "        text-align: right;\n",
       "    }\n",
       "</style>\n",
       "<table border=\"1\" class=\"dataframe\">\n",
       "  <thead>\n",
       "    <tr style=\"text-align: right;\">\n",
       "      <th></th>\n",
       "      <th>source</th>\n",
       "      <th>source-name</th>\n",
       "      <th>full-name</th>\n",
       "      <th>color-name</th>\n",
       "    </tr>\n",
       "    <tr>\n",
       "      <th>project-name</th>\n",
       "      <th></th>\n",
       "      <th></th>\n",
       "      <th></th>\n",
       "      <th></th>\n",
       "    </tr>\n",
       "  </thead>\n",
       "  <tbody>\n",
       "    <tr>\n",
       "      <th>activated-cd4t-cell</th>\n",
       "      <td>Chiou et al., 2021 - SuppData3</td>\n",
       "      <td>activated CD4 T</td>\n",
       "      <td>Activated CD4+ T-cell</td>\n",
       "      <td>cd4t-cell</td>\n",
       "    </tr>\n",
       "    <tr>\n",
       "      <th>adaptive-nk-cell</th>\n",
       "      <td>Chiou et al., 2021 - SuppData3</td>\n",
       "      <td>adaptive NK</td>\n",
       "      <td>Adaptive Natural Killer cell</td>\n",
       "      <td>nk-cell</td>\n",
       "    </tr>\n",
       "    <tr>\n",
       "      <th>monocyte</th>\n",
       "      <td>Chiou et al., 2021 - SuppData3</td>\n",
       "      <td>classical monocyte</td>\n",
       "      <td>Monocyte</td>\n",
       "      <td>monocyte</td>\n",
       "    </tr>\n",
       "    <tr>\n",
       "      <th>dendrictic</th>\n",
       "      <td>Chiou et al., 2021 - SuppData3</td>\n",
       "      <td>conventional dendritic</td>\n",
       "      <td>Dendritic cell</td>\n",
       "      <td>monocyte</td>\n",
       "    </tr>\n",
       "    <tr>\n",
       "      <th>cyto-nk-cell</th>\n",
       "      <td>Chiou et al., 2021 - SuppData3</td>\n",
       "      <td>cytotoxic NK</td>\n",
       "      <td>Cytotoxic Natural Killer cell</td>\n",
       "      <td>nk-cell</td>\n",
       "    </tr>\n",
       "    <tr>\n",
       "      <th>mem-b-cell</th>\n",
       "      <td>Chiou et al., 2021 - SuppData3</td>\n",
       "      <td>memory B</td>\n",
       "      <td>Memory B cell</td>\n",
       "      <td>b-cell</td>\n",
       "    </tr>\n",
       "    <tr>\n",
       "      <th>mem-cd8t-cell</th>\n",
       "      <td>Chiou et al., 2021 - SuppData3</td>\n",
       "      <td>memory CD8 T</td>\n",
       "      <td>Memory CD8+ T-cell</td>\n",
       "      <td>cd8t-cell</td>\n",
       "    </tr>\n",
       "    <tr>\n",
       "      <th>b-cell</th>\n",
       "      <td>Chiou et al., 2021 - SuppData3</td>\n",
       "      <td>naive B</td>\n",
       "      <td>B cell</td>\n",
       "      <td>b-cell</td>\n",
       "    </tr>\n",
       "    <tr>\n",
       "      <th>non-class-monocyte</th>\n",
       "      <td>Chiou et al., 2021 - SuppData3</td>\n",
       "      <td>non-classical monocyte</td>\n",
       "      <td>Non-classical Monocyte</td>\n",
       "      <td>monocyte</td>\n",
       "    </tr>\n",
       "    <tr>\n",
       "      <th>pancreatic-cd8t-cell</th>\n",
       "      <td>Chiou et al., 2021 - SuppData3</td>\n",
       "      <td>pancreatic CD8 T</td>\n",
       "      <td>Pancreatic CD8+ T-cell</td>\n",
       "      <td>cd8t-cell</td>\n",
       "    </tr>\n",
       "    <tr>\n",
       "      <th>pancreatic-macrophage</th>\n",
       "      <td>Chiou et al., 2021 - SuppData3</td>\n",
       "      <td>pancreatic macrophage</td>\n",
       "      <td>Pancreatic Macrophage</td>\n",
       "      <td>monocyte</td>\n",
       "    </tr>\n",
       "    <tr>\n",
       "      <th>treg</th>\n",
       "      <td>Chiou et al., 2021 - SuppData3</td>\n",
       "      <td>regulatory T</td>\n",
       "      <td>Regulatory T-cells</td>\n",
       "      <td>cd4t-cell</td>\n",
       "    </tr>\n",
       "  </tbody>\n",
       "</table>\n",
       "</div>"
      ],
      "text/plain": [
       "                                               source             source-name  \\\n",
       "project-name                                                                    \n",
       "activated-cd4t-cell    Chiou et al., 2021 - SuppData3         activated CD4 T   \n",
       "adaptive-nk-cell       Chiou et al., 2021 - SuppData3             adaptive NK   \n",
       "monocyte               Chiou et al., 2021 - SuppData3      classical monocyte   \n",
       "dendrictic             Chiou et al., 2021 - SuppData3  conventional dendritic   \n",
       "cyto-nk-cell           Chiou et al., 2021 - SuppData3            cytotoxic NK   \n",
       "mem-b-cell             Chiou et al., 2021 - SuppData3                memory B   \n",
       "mem-cd8t-cell          Chiou et al., 2021 - SuppData3            memory CD8 T   \n",
       "b-cell                 Chiou et al., 2021 - SuppData3                 naive B   \n",
       "non-class-monocyte     Chiou et al., 2021 - SuppData3  non-classical monocyte   \n",
       "pancreatic-cd8t-cell   Chiou et al., 2021 - SuppData3        pancreatic CD8 T   \n",
       "pancreatic-macrophage  Chiou et al., 2021 - SuppData3   pancreatic macrophage   \n",
       "treg                   Chiou et al., 2021 - SuppData3            regulatory T   \n",
       "\n",
       "                                           full-name color-name  \n",
       "project-name                                                     \n",
       "activated-cd4t-cell            Activated CD4+ T-cell  cd4t-cell  \n",
       "adaptive-nk-cell        Adaptive Natural Killer cell    nk-cell  \n",
       "monocyte                                    Monocyte   monocyte  \n",
       "dendrictic                            Dendritic cell   monocyte  \n",
       "cyto-nk-cell           Cytotoxic Natural Killer cell    nk-cell  \n",
       "mem-b-cell                             Memory B cell     b-cell  \n",
       "mem-cd8t-cell                     Memory CD8+ T-cell  cd8t-cell  \n",
       "b-cell                                        B cell     b-cell  \n",
       "non-class-monocyte            Non-classical Monocyte   monocyte  \n",
       "pancreatic-cd8t-cell          Pancreatic CD8+ T-cell  cd8t-cell  \n",
       "pancreatic-macrophage          Pancreatic Macrophage   monocyte  \n",
       "treg                              Regulatory T-cells  cd4t-cell  "
      ]
     },
     "execution_count": 60,
     "metadata": {},
     "output_type": "execute_result"
    }
   ],
   "source": [
    "t1d_cells.set_index('project-name', inplace=True)\n",
    "t1d_cells"
   ]
  },
  {
   "cell_type": "code",
   "execution_count": 40,
   "id": "37d62239",
   "metadata": {},
   "outputs": [],
   "source": [
    "# loading the cell colors\n",
    "cell_colors = pd.read_table('results/refs/dice_colors/colors.revised.t1d-project.V2.tsv')\n",
    "cell_colors.set_index('color-name', inplace=True)"
   ]
  },
  {
   "cell_type": "code",
   "execution_count": 41,
   "id": "6d83102d",
   "metadata": {},
   "outputs": [
    {
     "data": {
      "text/html": [
       "<div>\n",
       "<style scoped>\n",
       "    .dataframe tbody tr th:only-of-type {\n",
       "        vertical-align: middle;\n",
       "    }\n",
       "\n",
       "    .dataframe tbody tr th {\n",
       "        vertical-align: top;\n",
       "    }\n",
       "\n",
       "    .dataframe thead th {\n",
       "        text-align: right;\n",
       "    }\n",
       "</style>\n",
       "<table border=\"1\" class=\"dataframe\">\n",
       "  <thead>\n",
       "    <tr style=\"text-align: right;\">\n",
       "      <th></th>\n",
       "      <th>dice-name</th>\n",
       "      <th>hex</th>\n",
       "      <th>rgb</th>\n",
       "      <th>full-name</th>\n",
       "    </tr>\n",
       "    <tr>\n",
       "      <th>color-name</th>\n",
       "      <th></th>\n",
       "      <th></th>\n",
       "      <th></th>\n",
       "      <th></th>\n",
       "    </tr>\n",
       "  </thead>\n",
       "  <tbody>\n",
       "    <tr>\n",
       "      <th>monocyte</th>\n",
       "      <td>CM</td>\n",
       "      <td>#B22222</td>\n",
       "      <td>178,34,34</td>\n",
       "      <td>Monocyte</td>\n",
       "    </tr>\n",
       "    <tr>\n",
       "      <th>b-cell</th>\n",
       "      <td>BN</td>\n",
       "      <td>#32CD32</td>\n",
       "      <td>50,205,50</td>\n",
       "      <td>B cell</td>\n",
       "    </tr>\n",
       "    <tr>\n",
       "      <th>cd4t-cell</th>\n",
       "      <td>CD4N</td>\n",
       "      <td>#00BFFF</td>\n",
       "      <td>0,191,255</td>\n",
       "      <td>CD4 T-cell</td>\n",
       "    </tr>\n",
       "    <tr>\n",
       "      <th>cd8t-cell</th>\n",
       "      <td>CD8N</td>\n",
       "      <td>#EE82EE</td>\n",
       "      <td>238,130,238</td>\n",
       "      <td>CD8 T-cells</td>\n",
       "    </tr>\n",
       "    <tr>\n",
       "      <th>nk-cell</th>\n",
       "      <td>NK</td>\n",
       "      <td>#FFD700</td>\n",
       "      <td>255,215,0</td>\n",
       "      <td>NK cell</td>\n",
       "    </tr>\n",
       "  </tbody>\n",
       "</table>\n",
       "</div>"
      ],
      "text/plain": [
       "           dice-name      hex          rgb    full-name\n",
       "color-name                                             \n",
       "monocyte          CM  #B22222    178,34,34     Monocyte\n",
       "b-cell            BN  #32CD32    50,205,50       B cell\n",
       "cd4t-cell       CD4N  #00BFFF    0,191,255   CD4 T-cell\n",
       "cd8t-cell       CD8N  #EE82EE  238,130,238  CD8 T-cells\n",
       "nk-cell           NK  #FFD700    255,215,0      NK cell"
      ]
     },
     "execution_count": 41,
     "metadata": {},
     "output_type": "execute_result"
    }
   ],
   "source": [
    "cell_colors"
   ]
  },
  {
   "cell_type": "markdown",
   "id": "0cc70f89",
   "metadata": {},
   "source": [
    "## Processing Supplementary table 3"
   ]
  },
  {
   "cell_type": "code",
   "execution_count": 12,
   "id": "48de44d2",
   "metadata": {},
   "outputs": [],
   "source": [
    "# supp table 4\n",
    "# table = pd.read_excel('results/main/chiou_2021/Supplemental4.celltype.cCREs.41586_2021_3552_MOESM7_ESM.xlsx',\n",
    "#                      skiprows=2)\n",
    "\n",
    "# supp table 3\n",
    "table = pd.read_excel('results/main/chiou_2021/Supplemental3.cCREs.41586_2021_3552_MOESM6_ESM.xlsx', skiprows=2)"
   ]
  },
  {
   "cell_type": "code",
   "execution_count": 69,
   "id": "f02141b4",
   "metadata": {},
   "outputs": [],
   "source": [
    "table['chr'] = 'chr' + table['chrom.'].astype(str)"
   ]
  },
  {
   "cell_type": "markdown",
   "id": "c6656478",
   "metadata": {},
   "source": [
    "#### Extract the cell peaks and save to bed"
   ]
  },
  {
   "cell_type": "code",
   "execution_count": 72,
   "id": "1aafc3b6",
   "metadata": {},
   "outputs": [],
   "source": [
    "for project_name, sr in t1d_cells.iterrows():\n",
    "    \n",
    "    # extract the peaks\n",
    "    source_name = sr['source-name']\n",
    "    cell_peaks = table.loc[:, ['chr', 'start', 'end', source_name]]\n",
    "    cell_peaks = cell_peaks.loc[cell_peaks[source_name] == 1]\n",
    "    cell_peaks.drop(source_name, axis=1, inplace=True)\n",
    "    \n",
    "    # save the peaks to bed file\n",
    "    bed_fn = os.path.join(outdir, '{}.bed'.format(project_name))\n",
    "    \n",
    "    cell_peaks.to_csv(bed_fn, sep='\\t', index=False, header=False)"
   ]
  },
  {
   "cell_type": "markdown",
   "id": "a2e8e20d",
   "metadata": {},
   "source": [
    "#### Make a bgzip version of files"
   ]
  },
  {
   "cell_type": "code",
   "execution_count": 73,
   "id": "b84a9a66",
   "metadata": {},
   "outputs": [],
   "source": [
    "tabix = '/mnt/BioApps/tabix/tabix-0.2.6/tabix'\n",
    "bgzip = '/mnt/BioApps/tabix/tabix-0.2.6/bgzip'"
   ]
  },
  {
   "cell_type": "code",
   "execution_count": 74,
   "id": "a92405f9",
   "metadata": {},
   "outputs": [
    {
     "name": "stdout",
     "output_type": "stream",
     "text": [
      "b''\n",
      "b''\n",
      "b''\n",
      "b''\n",
      "b''\n",
      "b''\n",
      "b''\n",
      "b''\n",
      "b''\n",
      "b''\n",
      "b''\n",
      "b''\n",
      "b''\n",
      "b''\n",
      "b''\n",
      "b''\n",
      "b''\n",
      "b''\n",
      "b''\n",
      "b''\n",
      "b''\n",
      "b''\n",
      "b''\n",
      "b''\n"
     ]
    }
   ],
   "source": [
    "for fn in glob.glob(os.path.join(outdir, '*.bed')):\n",
    "    \n",
    "    # make a gz file\n",
    "    cmd = '{0} -c {1} > {1}.gz'.format(bgzip, fn)\n",
    "    j = sp.check_output(cmd, shell=True)\n",
    "    print(j)\n",
    "    \n",
    "    # make an index file\n",
    "    cmd = '{0} -f {1}.gz'.format(tabix, fn)\n",
    "    g = sp.check_output(cmd, shell=True)\n",
    "    print(g)"
   ]
  },
  {
   "cell_type": "markdown",
   "id": "a514e769",
   "metadata": {},
   "source": [
    "#### Make a hub for longrange loops"
   ]
  },
  {
   "cell_type": "code",
   "execution_count": 79,
   "id": "11b05df0",
   "metadata": {},
   "outputs": [
    {
     "name": "stdout",
     "output_type": "stream",
     "text": [
      "https://informaticsdata.liai.org/bioadhoc-temp/Groups/vd-ay/jreyna/projects/dchallenge/results/main/chiou_2021/processing/activated-cd4t-cell.bed.gz\n",
      "source         Chiou et al., 2021 - SuppData3\n",
      "source-name                   activated CD4 T\n",
      "full-name               Activated CD4+ T-cell\n",
      "color-name                          cd4t-cell\n",
      "Name: activated-cd4t-cell, dtype: object\n",
      "https://informaticsdata.liai.org/bioadhoc-temp/Groups/vd-ay/jreyna/projects/dchallenge/results/main/chiou_2021/processing/mem-cd8t-cell.bed.gz\n",
      "source         Chiou et al., 2021 - SuppData3\n",
      "source-name                      memory CD8 T\n",
      "full-name                  Memory CD8+ T-cell\n",
      "color-name                          cd8t-cell\n",
      "Name: mem-cd8t-cell, dtype: object\n",
      "https://informaticsdata.liai.org/bioadhoc-temp/Groups/vd-ay/jreyna/projects/dchallenge/results/main/chiou_2021/processing/pancreatic-macrophage.bed.gz\n",
      "source         Chiou et al., 2021 - SuppData3\n",
      "source-name             pancreatic macrophage\n",
      "full-name               Pancreatic Macrophage\n",
      "color-name                           monocyte\n",
      "Name: pancreatic-macrophage, dtype: object\n",
      "https://informaticsdata.liai.org/bioadhoc-temp/Groups/vd-ay/jreyna/projects/dchallenge/results/main/chiou_2021/processing/pancreatic-cd8t-cell.bed.gz\n",
      "source         Chiou et al., 2021 - SuppData3\n",
      "source-name                  pancreatic CD8 T\n",
      "full-name              Pancreatic CD8+ T-cell\n",
      "color-name                          cd8t-cell\n",
      "Name: pancreatic-cd8t-cell, dtype: object\n",
      "https://informaticsdata.liai.org/bioadhoc-temp/Groups/vd-ay/jreyna/projects/dchallenge/results/main/chiou_2021/processing/mem-b-cell.bed.gz\n",
      "source         Chiou et al., 2021 - SuppData3\n",
      "source-name                          memory B\n",
      "full-name                       Memory B cell\n",
      "color-name                             b-cell\n",
      "Name: mem-b-cell, dtype: object\n",
      "https://informaticsdata.liai.org/bioadhoc-temp/Groups/vd-ay/jreyna/projects/dchallenge/results/main/chiou_2021/processing/monocyte.bed.gz\n",
      "source         Chiou et al., 2021 - SuppData3\n",
      "source-name                classical monocyte\n",
      "full-name                            Monocyte\n",
      "color-name                           monocyte\n",
      "Name: monocyte, dtype: object\n",
      "https://informaticsdata.liai.org/bioadhoc-temp/Groups/vd-ay/jreyna/projects/dchallenge/results/main/chiou_2021/processing/b-cell.bed.gz\n",
      "source         Chiou et al., 2021 - SuppData3\n",
      "source-name                           naive B\n",
      "full-name                              B cell\n",
      "color-name                             b-cell\n",
      "Name: b-cell, dtype: object\n",
      "https://informaticsdata.liai.org/bioadhoc-temp/Groups/vd-ay/jreyna/projects/dchallenge/results/main/chiou_2021/processing/treg.bed.gz\n",
      "source         Chiou et al., 2021 - SuppData3\n",
      "source-name                      regulatory T\n",
      "full-name                  Regulatory T-cells\n",
      "color-name                          cd4t-cell\n",
      "Name: treg, dtype: object\n",
      "https://informaticsdata.liai.org/bioadhoc-temp/Groups/vd-ay/jreyna/projects/dchallenge/results/main/chiou_2021/processing/adaptive-nk-cell.bed.gz\n",
      "source         Chiou et al., 2021 - SuppData3\n",
      "source-name                       adaptive NK\n",
      "full-name        Adaptive Natural Killer cell\n",
      "color-name                            nk-cell\n",
      "Name: adaptive-nk-cell, dtype: object\n",
      "https://informaticsdata.liai.org/bioadhoc-temp/Groups/vd-ay/jreyna/projects/dchallenge/results/main/chiou_2021/processing/cyto-nk-cell.bed.gz\n",
      "source         Chiou et al., 2021 - SuppData3\n",
      "source-name                      cytotoxic NK\n",
      "full-name       Cytotoxic Natural Killer cell\n",
      "color-name                            nk-cell\n",
      "Name: cyto-nk-cell, dtype: object\n",
      "https://informaticsdata.liai.org/bioadhoc-temp/Groups/vd-ay/jreyna/projects/dchallenge/results/main/chiou_2021/processing/dendrictic.bed.gz\n",
      "source         Chiou et al., 2021 - SuppData3\n",
      "source-name            conventional dendritic\n",
      "full-name                      Dendritic cell\n",
      "color-name                           monocyte\n",
      "Name: dendrictic, dtype: object\n",
      "https://informaticsdata.liai.org/bioadhoc-temp/Groups/vd-ay/jreyna/projects/dchallenge/results/main/chiou_2021/processing/non-class-monocyte.bed.gz\n",
      "source         Chiou et al., 2021 - SuppData3\n",
      "source-name            non-classical monocyte\n",
      "full-name              Non-classical Monocyte\n",
      "color-name                           monocyte\n",
      "Name: non-class-monocyte, dtype: object\n"
     ]
    }
   ],
   "source": [
    "# collect json formatted information\n",
    "url_root = 'https://informaticsdata.liai.org/bioadhoc-temp/Groups/vd-ay/jreyna/projects/dchallenge/results/main/chiou_2021/processing'\n",
    "hub = []\n",
    "for fn in glob.glob(os.path.join(outdir, '*.bed.gz')):\n",
    "    \n",
    "    # get basename for url\n",
    "    bn = os.path.basename(fn)\n",
    "    \n",
    "    # create the whole URL\n",
    "    full_url = os.path.join(url_root, bn)                       \n",
    "    print(full_url)\n",
    "    \n",
    "    # get cell name \n",
    "    cell_name = bn.split('.')[0]\n",
    "    \n",
    "    # use cell name to get cell metadata info\n",
    "    cell_info = t1d_cells.loc[cell_name]\n",
    "        \n",
    "    # fill in the JSON details\n",
    "    entry = {}\n",
    "    entry['type'] = 'bed'\n",
    "    entry['name'] = 'snATACseq peaks for {}'.format(cell_info['full-name'])\n",
    "    entry['url'] = full_url\n",
    "    \n",
    "    print(cell_info)\n",
    "    \n",
    "    \n",
    "    # add color name if cell has been pre-assigned a color\n",
    "    if str(cell_info['color-name']) == 'nan': # starting with nan cases\n",
    "        entry['showOnHubLoad'] = False\n",
    "        entry['options'] = {'ensembleStyle': True, 'height': 200}\n",
    "    else:\n",
    "        entry['showOnHubLoad'] = True\n",
    "        color = cell_colors.loc[cell_info['color-name'], 'hex']\n",
    "        entry['options'] = {'ensembleStyle': True, 'height': 200, 'color': color}\n",
    "\n",
    "    hub.append(entry)"
   ]
  },
  {
   "cell_type": "code",
   "execution_count": 80,
   "id": "50a33ca7",
   "metadata": {},
   "outputs": [],
   "source": [
    "## save the hub\n",
    "hub_fn = os.path.join(outdir, 'hub.config.txt')\n",
    "with open(hub_fn, 'w') as fw:\n",
    "    s = json.dumps(hub,  indent=True)\n",
    "    fw.write(s) "
   ]
  },
  {
   "cell_type": "code",
   "execution_count": 81,
   "id": "eb43f663",
   "metadata": {},
   "outputs": [],
   "source": [
    "hub_link = os.path.join(url_root, os.path.basename(hub_fn))"
   ]
  },
  {
   "cell_type": "code",
   "execution_count": 82,
   "id": "5c20cf3d",
   "metadata": {},
   "outputs": [
    {
     "data": {
      "text/plain": [
       "'https://informaticsdata.liai.org/bioadhoc-temp/Groups/vd-ay/jreyna/projects/dchallenge/results/main/chiou_2021/processing/hub.config.txt'"
      ]
     },
     "execution_count": 82,
     "metadata": {},
     "output_type": "execute_result"
    }
   ],
   "source": [
    "hub_link"
   ]
  },
  {
   "cell_type": "code",
   "execution_count": null,
   "id": "ef5883b2",
   "metadata": {},
   "outputs": [],
   "source": []
  },
  {
   "cell_type": "code",
   "execution_count": null,
   "id": "28c7d68c",
   "metadata": {},
   "outputs": [],
   "source": []
  },
  {
   "cell_type": "code",
   "execution_count": null,
   "id": "7719bf2e",
   "metadata": {},
   "outputs": [],
   "source": []
  },
  {
   "cell_type": "code",
   "execution_count": null,
   "id": "6240921b",
   "metadata": {},
   "outputs": [],
   "source": []
  }
 ],
 "metadata": {
  "kernelspec": {
   "display_name": "(hichip-db)",
   "language": "python",
   "name": "hichip-db"
  },
  "language_info": {
   "codemirror_mode": {
    "name": "ipython",
    "version": 3
   },
   "file_extension": ".py",
   "mimetype": "text/x-python",
   "name": "python",
   "nbconvert_exporter": "python",
   "pygments_lexer": "ipython3",
   "version": "3.9.10"
  }
 },
 "nbformat": 4,
 "nbformat_minor": 5
}
