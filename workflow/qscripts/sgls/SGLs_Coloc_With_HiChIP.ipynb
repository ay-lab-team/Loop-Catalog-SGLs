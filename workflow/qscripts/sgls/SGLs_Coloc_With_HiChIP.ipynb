{
 "cells": [
  {
   "cell_type": "code",
   "execution_count": 1,
   "id": "0adb0efb",
   "metadata": {},
   "outputs": [],
   "source": [
    "import os \n",
    "import pandas as pd\n",
    "import numpy as np\n",
    "import subprocess\n",
    "import glob\n",
    "import pybedtools as pbt \n",
    "from IPython.display import HTML\n",
    "pd.set_option('display.min_rows', 100) \n",
    "pd.set_option('display.max_columns', None)\n",
    "\n",
    "pbt.set_bedtools_path('/mnt/BioHome/jreyna/software/anaconda3/envs/hic_tls/bin/')\n",
    "pbt.set_tempdir('/mnt/hpcscratch/jreyna/')\n",
    "os.chdir('/mnt/BioHome/jreyna/jreyna/projects/dchallenge/')\n",
    "\n",
    "gsizes = 'results/refs/hg19/hg19.chrom.sizes'\n",
    "res = 5000\n",
    "\n",
    "# make the directory to save our data\n",
    "outdir = 'results/main/sgls/coloc_with_hichip/'\n",
    "os.makedirs(outdir, exist_ok=True)\n",
    "bedpe_cols = ['chrA', 'startA', 'endA', 'chrB', 'startB', 'endB']"
   ]
  },
  {
   "cell_type": "code",
   "execution_count": null,
   "id": "829ff3c8",
   "metadata": {},
   "outputs": [],
   "source": []
  }
 ],
 "metadata": {
  "kernelspec": {
   "display_name": "HiC",
   "language": "python",
   "name": "hic_tls"
  },
  "language_info": {
   "codemirror_mode": {
    "name": "ipython",
    "version": 3
   },
   "file_extension": ".py",
   "mimetype": "text/x-python",
   "name": "python",
   "nbconvert_exporter": "python",
   "pygments_lexer": "ipython3",
   "version": "3.6.7"
  }
 },
 "nbformat": 4,
 "nbformat_minor": 5
}
