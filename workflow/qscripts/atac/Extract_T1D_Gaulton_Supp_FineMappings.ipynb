{
 "cells": [
  {
   "cell_type": "code",
   "execution_count": 1,
   "id": "efd9700a",
   "metadata": {},
   "outputs": [],
   "source": [
    "import os \n",
    "import pandas as pd\n",
    "import subprocess\n",
    "os.chdir('/mnt/BioHome/jreyna/jreyna/projects/dchallenge/')"
   ]
  },
  {
   "cell_type": "markdown",
   "id": "6788af55",
   "metadata": {},
   "source": [
    "## Download the supplementary data"
   ]
  },
  {
   "cell_type": "code",
   "execution_count": 13,
   "id": "18fda5ea",
   "metadata": {},
   "outputs": [
    {
     "name": "stderr",
     "output_type": "stream",
     "text": [
      "--2022-02-10 13:31:20--  https://static-content.springer.com/esm/art%3A10.1038%2Fs41586-021-03552-w/MediaObjects/41586_2021_3552_MOESM3_ESM.xlsx\n",
      "Resolving static-content.springer.com (static-content.springer.com)... 151.101.64.95, 151.101.128.95, 151.101.0.95, ...\n",
      "Connecting to static-content.springer.com (static-content.springer.com)|151.101.64.95|:443... connected.\n",
      "HTTP request sent, awaiting response... 200 OK\n",
      "Length: 247032 (241K) [application/octet-stream]\n",
      "Saving to: ‘results/main/gwas/2021_chiou_et_al/41586_2021_3552_MOESM3_ESM.xlsx’\n",
      "\n",
      "     0K .......... .......... .......... .......... .......... 20% 65.1M 0s\n",
      "    50K .......... .......... .......... .......... .......... 41% 33.4M 0s\n",
      "   100K .......... .......... .......... .......... .......... 62% 27.4M 0s\n",
      "   150K .......... .......... .......... .......... .......... 82% 52.8M 0s\n",
      "   200K .......... .......... .......... .......... .         100% 56.5M=0.006s\n",
      "\n"
     ]
    },
    {
     "name": "stdout",
     "output_type": "stream",
     "text": [
      "b''\n"
     ]
    },
    {
     "name": "stderr",
     "output_type": "stream",
     "text": [
      "2022-02-10 13:31:20 (41.8 MB/s) - ‘results/main/gwas/2021_chiou_et_al/41586_2021_3552_MOESM3_ESM.xlsx’ saved [247032/247032]\n",
      "\n"
     ]
    }
   ],
   "source": [
    "# make the directory to save our data\n",
    "outdir = 'results/main/gwas/2021_chiou_et_al/'\n",
    "os.makedirs(outdir, exist_ok=True)\n",
    "\n",
    "# get link and output file name\n",
    "supp_link = 'https://static-content.springer.com/esm/art%3A10.1038%2Fs41586-021-03552-w/MediaObjects/41586_2021_3552_MOESM3_ESM.xlsx'\n",
    "supp_fn = os.path.join(outdir, '41586_2021_3552_MOESM3_ESM.xlsx')\n",
    "\n",
    "# download the data\n",
    "if not os.path.exists(supp_fn):\n",
    "    cmd = 'wget -O {} {}'.format(supp_fn, supp_link)\n",
    "    print(subprocess.check_output(cmd, shell=True))"
   ]
  },
  {
   "cell_type": "markdown",
   "id": "8628d906",
   "metadata": {},
   "source": [
    "# Processing the FineMapped Signals"
   ]
  },
  {
   "cell_type": "code",
   "execution_count": 14,
   "id": "10f21215",
   "metadata": {},
   "outputs": [],
   "source": [
    "tabname = 'Supplementary Table 3'\n",
    "data = pd.read_excel(supp_fn, sheet_name=tabname, skiprows=2, )\n",
    "data.columns = ['Marker', 'Chrom.', 'Position (hg19)', 'Position (hg38)',\n",
    "                'Allele Ref.', 'Alt.' ,'Signal name', 'Alt.AF', 'PPA',\n",
    "                'Previous studies Index (r2)', 'PMID']\n",
    "data = data.iloc[1:,:]"
   ]
  },
  {
   "cell_type": "code",
   "execution_count": 15,
   "id": "f0309ac3",
   "metadata": {},
   "outputs": [
    {
     "data": {
      "text/html": [
       "<div>\n",
       "<style scoped>\n",
       "    .dataframe tbody tr th:only-of-type {\n",
       "        vertical-align: middle;\n",
       "    }\n",
       "\n",
       "    .dataframe tbody tr th {\n",
       "        vertical-align: top;\n",
       "    }\n",
       "\n",
       "    .dataframe thead th {\n",
       "        text-align: right;\n",
       "    }\n",
       "</style>\n",
       "<table border=\"1\" class=\"dataframe\">\n",
       "  <thead>\n",
       "    <tr style=\"text-align: right;\">\n",
       "      <th></th>\n",
       "      <th>Marker</th>\n",
       "      <th>Chrom.</th>\n",
       "      <th>Position (hg19)</th>\n",
       "      <th>Position (hg38)</th>\n",
       "      <th>Allele Ref.</th>\n",
       "      <th>Alt.</th>\n",
       "      <th>Signal name</th>\n",
       "      <th>Alt.AF</th>\n",
       "      <th>PPA</th>\n",
       "      <th>Previous studies Index (r2)</th>\n",
       "      <th>PMID</th>\n",
       "    </tr>\n",
       "  </thead>\n",
       "  <tbody>\n",
       "    <tr>\n",
       "      <th>1</th>\n",
       "      <td>rs10751776</td>\n",
       "      <td>1.0</td>\n",
       "      <td>25296743.0</td>\n",
       "      <td>24970252.0</td>\n",
       "      <td>A</td>\n",
       "      <td>C</td>\n",
       "      <td>RUNX3 (1:25296743:A:C)</td>\n",
       "      <td>0.509915</td>\n",
       "      <td>0.040594</td>\n",
       "      <td>NaN</td>\n",
       "      <td>NaN</td>\n",
       "    </tr>\n",
       "    <tr>\n",
       "      <th>2</th>\n",
       "      <td>rs574384</td>\n",
       "      <td>1.0</td>\n",
       "      <td>36087661.0</td>\n",
       "      <td>35622060.0</td>\n",
       "      <td>C</td>\n",
       "      <td>A</td>\n",
       "      <td>PSMB2 (1:36087661:C:A)</td>\n",
       "      <td>0.894668</td>\n",
       "      <td>0.195293</td>\n",
       "      <td>NaN</td>\n",
       "      <td>NaN</td>\n",
       "    </tr>\n",
       "    <tr>\n",
       "      <th>3</th>\n",
       "      <td>rs12742756</td>\n",
       "      <td>1.0</td>\n",
       "      <td>38347417.0</td>\n",
       "      <td>37881745.0</td>\n",
       "      <td>A</td>\n",
       "      <td>G</td>\n",
       "      <td>INPP5B (1:38347417:A:G)</td>\n",
       "      <td>0.428204</td>\n",
       "      <td>0.070499</td>\n",
       "      <td>NaN</td>\n",
       "      <td>NaN</td>\n",
       "    </tr>\n",
       "    <tr>\n",
       "      <th>4</th>\n",
       "      <td>rs855330</td>\n",
       "      <td>1.0</td>\n",
       "      <td>64113889.0</td>\n",
       "      <td>63648218.0</td>\n",
       "      <td>T</td>\n",
       "      <td>C</td>\n",
       "      <td>PGM1 (1:64113889:T:C)</td>\n",
       "      <td>0.259422</td>\n",
       "      <td>0.161160</td>\n",
       "      <td>NaN</td>\n",
       "      <td>NaN</td>\n",
       "    </tr>\n",
       "    <tr>\n",
       "      <th>5</th>\n",
       "      <td>rs150709401</td>\n",
       "      <td>1.0</td>\n",
       "      <td>114135880.0</td>\n",
       "      <td>113593258.0</td>\n",
       "      <td>A</td>\n",
       "      <td>G</td>\n",
       "      <td>PTPN22 (1:114135880:A:G)</td>\n",
       "      <td>0.009602</td>\n",
       "      <td>0.257619</td>\n",
       "      <td>NaN</td>\n",
       "      <td>NaN</td>\n",
       "    </tr>\n",
       "  </tbody>\n",
       "</table>\n",
       "</div>"
      ],
      "text/plain": [
       "        Marker  Chrom.  Position (hg19)  Position (hg38) Allele Ref. Alt.  \\\n",
       "1   rs10751776     1.0       25296743.0       24970252.0           A    C   \n",
       "2     rs574384     1.0       36087661.0       35622060.0           C    A   \n",
       "3   rs12742756     1.0       38347417.0       37881745.0           A    G   \n",
       "4     rs855330     1.0       64113889.0       63648218.0           T    C   \n",
       "5  rs150709401     1.0      114135880.0      113593258.0           A    G   \n",
       "\n",
       "                Signal name    Alt.AF       PPA Previous studies Index (r2)  \\\n",
       "1    RUNX3 (1:25296743:A:C)  0.509915  0.040594                         NaN   \n",
       "2    PSMB2 (1:36087661:C:A)  0.894668  0.195293                         NaN   \n",
       "3   INPP5B (1:38347417:A:G)  0.428204  0.070499                         NaN   \n",
       "4     PGM1 (1:64113889:T:C)  0.259422  0.161160                         NaN   \n",
       "5  PTPN22 (1:114135880:A:G)  0.009602  0.257619                         NaN   \n",
       "\n",
       "  PMID  \n",
       "1  NaN  \n",
       "2  NaN  \n",
       "3  NaN  \n",
       "4  NaN  \n",
       "5  NaN  "
      ]
     },
     "execution_count": 15,
     "metadata": {},
     "output_type": "execute_result"
    }
   ],
   "source": [
    "data.head()"
   ]
  },
  {
   "cell_type": "code",
   "execution_count": 17,
   "id": "0b81df6c",
   "metadata": {},
   "outputs": [],
   "source": [
    "data_fn = os.path.join(outdir, 'gwas.finemapping.supp_table3.tsv')\n",
    "data.to_csv(data_fn, sep='\\t', index=False)"
   ]
  },
  {
   "cell_type": "code",
   "execution_count": null,
   "id": "b4d8b606",
   "metadata": {},
   "outputs": [],
   "source": []
  },
  {
   "cell_type": "code",
   "execution_count": null,
   "id": "e512564e",
   "metadata": {},
   "outputs": [],
   "source": []
  },
  {
   "cell_type": "code",
   "execution_count": null,
   "id": "1b8a937b",
   "metadata": {},
   "outputs": [],
   "source": []
  },
  {
   "cell_type": "code",
   "execution_count": null,
   "id": "27938950",
   "metadata": {},
   "outputs": [],
   "source": []
  }
 ],
 "metadata": {
  "kernelspec": {
   "display_name": "HiChIP DB",
   "language": "python",
   "name": "hichip-db"
  },
  "language_info": {
   "codemirror_mode": {
    "name": "ipython",
    "version": 3
   },
   "file_extension": ".py",
   "mimetype": "text/x-python",
   "name": "python",
   "nbconvert_exporter": "python",
   "pygments_lexer": "ipython3",
   "version": "3.10.2"
  }
 },
 "nbformat": 4,
 "nbformat_minor": 5
}
