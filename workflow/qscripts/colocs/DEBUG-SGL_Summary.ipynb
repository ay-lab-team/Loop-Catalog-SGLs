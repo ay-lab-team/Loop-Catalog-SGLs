{
 "cells": [
  {
   "cell_type": "code",
   "execution_count": 2,
   "id": "a427fba8",
   "metadata": {},
   "outputs": [],
   "source": [
    "import os \n",
    "import glob\n",
    "import pandas as pd \n",
    "os.chdir('/mnt/BioHome/jreyna/jreyna/projects/dchallenge/')"
   ]
  },
  {
   "cell_type": "code",
   "execution_count": 3,
   "id": "a89b0299",
   "metadata": {},
   "outputs": [],
   "source": [
    "outdir = 'results/main/coloc/sgls/'\n",
    "os.makedirs(outdir, exist_ok=True)"
   ]
  },
  {
   "cell_type": "code",
   "execution_count": 4,
   "id": "53937980",
   "metadata": {},
   "outputs": [
    {
     "name": "stdout",
     "output_type": "stream",
     "text": [
      "There are 106 SGL results.\n"
     ]
    }
   ],
   "source": [
    "sgl_fns = glob.glob('results/main/sgls/*/*/*/*/master.tsv') \n",
    "print('There are {} SGL results.'.format(len(sgl_fns)))"
   ]
  },
  {
   "cell_type": "code",
   "execution_count": 5,
   "id": "c2476d9a",
   "metadata": {},
   "outputs": [],
   "source": [
    "sgl_fns = glob.glob('results/main/GRCh37/sgls/ldpairs/*/*/*/*/*/script_version/master.tsv') "
   ]
  },
  {
   "cell_type": "code",
   "execution_count": 16,
   "id": "cac6314a",
   "metadata": {},
   "outputs": [],
   "source": [
    "data = []\n",
    "i = 0\n",
    "for fn in sgl_fns:\n",
    "        \n",
    "    split_info = fn.split('/')\n",
    "    \n",
    "    # get the current json string for the current file  \n",
    "    gwas_source, eqtl_source, ge_source, loop_source = split_info[3:7]  \n",
    "    \n",
    "    df = pd.read_table(fn)\n",
    "    df.loc[:, 'gwas_source'] = gwas_source\n",
    "    df.loc[:, 'eqtl_source'] = eqtl_source\n",
    "    df.loc[:, 'ge_source'] = ge_source\n",
    "    df.loc[:, 'loop_source'] = loop_source\n",
    "    \n",
    "    if 'flt.has_fithichip_loop' in df.columns: \n",
    "        #print(i)\n",
    "        df = df.loc[(df['flt.has_fithichip_loop'] == 1)]\n",
    "        data.append(df)\n",
    "    \n",
    "    i += 1 "
   ]
  },
  {
   "cell_type": "code",
   "execution_count": 17,
   "id": "44443c4a",
   "metadata": {},
   "outputs": [],
   "source": [
    "all_data = pd.concat(data)"
   ]
  },
  {
   "cell_type": "code",
   "execution_count": 22,
   "id": "be29ed35",
   "metadata": {},
   "outputs": [],
   "source": [
    "def get_washu_coords(sr):\n",
    "    \n",
    "    snp_pos = sr['coloc.pos']\n",
    "    gene_tss = sr.tss_end\n",
    "    \n",
    "    if snp_pos < gene_tss:\n",
    "        left = snp_pos\n",
    "        right = gene_tss\n",
    "    else:\n",
    "        left = gene_tss\n",
    "        right = snp_pos\n",
    "\n",
    "    coord = sr.chrom + ':' + str(left) + '-' + str(right)\n",
    "    \n",
    "    return(coord)"
   ]
  },
  {
   "cell_type": "code",
   "execution_count": 24,
   "id": "e361e30c",
   "metadata": {
    "scrolled": false
   },
   "outputs": [
    {
     "data": {
      "text/plain": [
       "['chrA',\n",
       " 'startA',\n",
       " 'endA',\n",
       " 'chrB',\n",
       " 'startB',\n",
       " 'endB',\n",
       " 'name',\n",
       " 'score',\n",
       " 'strandA',\n",
       " 'strandB',\n",
       " 'sid',\n",
       " 'genename',\n",
       " 'geneid',\n",
       " 'flt.is_eqtl_pair',\n",
       " 'flt.is_eqtl_gene',\n",
       " 'flt.is_closest_gene',\n",
       " 'flt.is_coloc_pair',\n",
       " 'flt.has_fithichip_loop',\n",
       " 'flt.has_snp_anchor',\n",
       " 'flt.has_gene_anchor',\n",
       " 'flt.is_coloc_sgl',\n",
       " 'flt.is_eqtl_sgl',\n",
       " 'coloc.chr',\n",
       " 'coloc.pos',\n",
       " 'coloc.pp_H0_Coloc_Summary',\n",
       " 'coloc.pp_H1_Coloc_Summary',\n",
       " 'coloc.pp_H2_Coloc_Summary',\n",
       " 'coloc.pp_H3_Coloc_Summary',\n",
       " 'coloc.pp_H4_Coloc_Summary',\n",
       " 'coloc.rs_id',\n",
       " 'coloc.variant_id',\n",
       " 'coloc.dist',\n",
       " 'coloc.pvalue',\n",
       " 'coloc.FDR',\n",
       " 'coloc.slope_snp',\n",
       " 'coloc.ref',\n",
       " 'coloc.alt',\n",
       " 'coloc.AC',\n",
       " 'coloc.AF',\n",
       " 'coloc.AN',\n",
       " 'coloc.slope_se_snp',\n",
       " 'coloc.slope_gwas',\n",
       " 'coloc.slope_se_gwas',\n",
       " 'coloc.pval_nominal',\n",
       " 'coloc.SampleSize',\n",
       " 'coloc.old_pos',\n",
       " 'coloc.was_converted',\n",
       " 'coloc.rsID',\n",
       " 'coloc.ld_chr',\n",
       " 'coloc.ld_pos',\n",
       " 'coloc.ld_rsID',\n",
       " 'coloc.LD',\n",
       " 'coloc.id',\n",
       " 'loop.id',\n",
       " 'loop.chrA',\n",
       " 'loop.startA',\n",
       " 'loop.endA',\n",
       " 'loop.chrB',\n",
       " 'loop.startB',\n",
       " 'loop.endB',\n",
       " 'loop.score',\n",
       " 'loop.cc',\n",
       " 'loop.Coverage1',\n",
       " 'loop.isPeak1',\n",
       " 'loop.Bias1',\n",
       " 'loop.Mapp1',\n",
       " 'loop.GCContent1',\n",
       " 'loop.RESites1',\n",
       " 'loop.Coverage2',\n",
       " 'loop.isPeak2',\n",
       " 'loop.Bias2',\n",
       " 'loop.Mapp2',\n",
       " 'loop.GCContent2',\n",
       " 'loop.RESites2',\n",
       " 'loop.exp_cc_Bias',\n",
       " 'loop.p_Bias',\n",
       " 'loop.dbinom_Bias',\n",
       " 'loop.P-Value_Bias',\n",
       " 'loop.Q-Value_Bias',\n",
       " 'eqtl.chr',\n",
       " 'eqtl.pos',\n",
       " 'eqtl.beta',\n",
       " 'eqtl.pval',\n",
       " 'eqtl.fdr',\n",
       " 'eqtl.dist',\n",
       " 'eqtl.molecular_trait_id',\n",
       " 'eqtl.ref',\n",
       " 'eqtl.alt',\n",
       " 'eqtl.variant',\n",
       " 'eqtl.ma_samples',\n",
       " 'eqtl.maf',\n",
       " 'eqtl.se',\n",
       " 'eqtl.type',\n",
       " 'eqtl.ac',\n",
       " 'eqtl.an',\n",
       " 'eqtl.r2',\n",
       " 'eqtl.molecular_trait_object_id',\n",
       " 'eqtl.median_tpm',\n",
       " 'eqtl.rsid',\n",
       " 'eqtl.old_pos',\n",
       " 'eqtl.was_converted',\n",
       " 'gene.start',\n",
       " 'gene.end',\n",
       " 'gene.strand',\n",
       " 'gwas_source',\n",
       " 'eqtl_source',\n",
       " 'ge_source',\n",
       " 'loop_source']"
      ]
     },
     "execution_count": 24,
     "metadata": {},
     "output_type": "execute_result"
    }
   ],
   "source": [
    "all_data.columns.tolist()"
   ]
  },
  {
   "cell_type": "code",
   "execution_count": null,
   "id": "f840470f",
   "metadata": {},
   "outputs": [],
   "source": []
  },
  {
   "cell_type": "code",
   "execution_count": null,
   "id": "b3ab6251",
   "metadata": {},
   "outputs": [],
   "source": []
  },
  {
   "cell_type": "code",
   "execution_count": null,
   "id": "603e6a89",
   "metadata": {},
   "outputs": [],
   "source": []
  },
  {
   "cell_type": "code",
   "execution_count": null,
   "id": "1404ab33",
   "metadata": {},
   "outputs": [],
   "source": []
  },
  {
   "cell_type": "code",
   "execution_count": 25,
   "id": "70b88b02",
   "metadata": {},
   "outputs": [
    {
     "ename": "AttributeError",
     "evalue": "'Series' object has no attribute 'tss_end'",
     "output_type": "error",
     "traceback": [
      "\u001b[0;31m---------------------------------------------------------------------------\u001b[0m",
      "\u001b[0;31mAttributeError\u001b[0m                            Traceback (most recent call last)",
      "Input \u001b[0;32mIn [25]\u001b[0m, in \u001b[0;36m<cell line: 1>\u001b[0;34m()\u001b[0m\n\u001b[0;32m----> 1\u001b[0m all_data\u001b[38;5;241m.\u001b[39mloc[:, \u001b[38;5;124m'\u001b[39m\u001b[38;5;124mwashu_coords\u001b[39m\u001b[38;5;124m'\u001b[39m] \u001b[38;5;241m=\u001b[39m \u001b[43mall_data\u001b[49m\u001b[38;5;241;43m.\u001b[39;49m\u001b[43mapply\u001b[49m\u001b[43m(\u001b[49m\u001b[43mget_washu_coords\u001b[49m\u001b[43m,\u001b[49m\u001b[43m \u001b[49m\u001b[43maxis\u001b[49m\u001b[38;5;241;43m=\u001b[39;49m\u001b[38;5;241;43m1\u001b[39;49m\u001b[43m)\u001b[49m\n",
      "File \u001b[0;32m~/jreyna/software/mambaforge/envs/hichip-db/lib/python3.9/site-packages/pandas/core/frame.py:8833\u001b[0m, in \u001b[0;36mDataFrame.apply\u001b[0;34m(self, func, axis, raw, result_type, args, **kwargs)\u001b[0m\n\u001b[1;32m   8822\u001b[0m \u001b[38;5;28;01mfrom\u001b[39;00m \u001b[38;5;21;01mpandas\u001b[39;00m\u001b[38;5;21;01m.\u001b[39;00m\u001b[38;5;21;01mcore\u001b[39;00m\u001b[38;5;21;01m.\u001b[39;00m\u001b[38;5;21;01mapply\u001b[39;00m \u001b[38;5;28;01mimport\u001b[39;00m frame_apply\n\u001b[1;32m   8824\u001b[0m op \u001b[38;5;241m=\u001b[39m frame_apply(\n\u001b[1;32m   8825\u001b[0m     \u001b[38;5;28mself\u001b[39m,\n\u001b[1;32m   8826\u001b[0m     func\u001b[38;5;241m=\u001b[39mfunc,\n\u001b[0;32m   (...)\u001b[0m\n\u001b[1;32m   8831\u001b[0m     kwargs\u001b[38;5;241m=\u001b[39mkwargs,\n\u001b[1;32m   8832\u001b[0m )\n\u001b[0;32m-> 8833\u001b[0m \u001b[38;5;28;01mreturn\u001b[39;00m \u001b[43mop\u001b[49m\u001b[38;5;241;43m.\u001b[39;49m\u001b[43mapply\u001b[49m\u001b[43m(\u001b[49m\u001b[43m)\u001b[49m\u001b[38;5;241m.\u001b[39m__finalize__(\u001b[38;5;28mself\u001b[39m, method\u001b[38;5;241m=\u001b[39m\u001b[38;5;124m\"\u001b[39m\u001b[38;5;124mapply\u001b[39m\u001b[38;5;124m\"\u001b[39m)\n",
      "File \u001b[0;32m~/jreyna/software/mambaforge/envs/hichip-db/lib/python3.9/site-packages/pandas/core/apply.py:727\u001b[0m, in \u001b[0;36mFrameApply.apply\u001b[0;34m(self)\u001b[0m\n\u001b[1;32m    724\u001b[0m \u001b[38;5;28;01melif\u001b[39;00m \u001b[38;5;28mself\u001b[39m\u001b[38;5;241m.\u001b[39mraw:\n\u001b[1;32m    725\u001b[0m     \u001b[38;5;28;01mreturn\u001b[39;00m \u001b[38;5;28mself\u001b[39m\u001b[38;5;241m.\u001b[39mapply_raw()\n\u001b[0;32m--> 727\u001b[0m \u001b[38;5;28;01mreturn\u001b[39;00m \u001b[38;5;28;43mself\u001b[39;49m\u001b[38;5;241;43m.\u001b[39;49m\u001b[43mapply_standard\u001b[49m\u001b[43m(\u001b[49m\u001b[43m)\u001b[49m\n",
      "File \u001b[0;32m~/jreyna/software/mambaforge/envs/hichip-db/lib/python3.9/site-packages/pandas/core/apply.py:851\u001b[0m, in \u001b[0;36mFrameApply.apply_standard\u001b[0;34m(self)\u001b[0m\n\u001b[1;32m    850\u001b[0m \u001b[38;5;28;01mdef\u001b[39;00m \u001b[38;5;21mapply_standard\u001b[39m(\u001b[38;5;28mself\u001b[39m):\n\u001b[0;32m--> 851\u001b[0m     results, res_index \u001b[38;5;241m=\u001b[39m \u001b[38;5;28;43mself\u001b[39;49m\u001b[38;5;241;43m.\u001b[39;49m\u001b[43mapply_series_generator\u001b[49m\u001b[43m(\u001b[49m\u001b[43m)\u001b[49m\n\u001b[1;32m    853\u001b[0m     \u001b[38;5;66;03m# wrap results\u001b[39;00m\n\u001b[1;32m    854\u001b[0m     \u001b[38;5;28;01mreturn\u001b[39;00m \u001b[38;5;28mself\u001b[39m\u001b[38;5;241m.\u001b[39mwrap_results(results, res_index)\n",
      "File \u001b[0;32m~/jreyna/software/mambaforge/envs/hichip-db/lib/python3.9/site-packages/pandas/core/apply.py:867\u001b[0m, in \u001b[0;36mFrameApply.apply_series_generator\u001b[0;34m(self)\u001b[0m\n\u001b[1;32m    864\u001b[0m \u001b[38;5;28;01mwith\u001b[39;00m option_context(\u001b[38;5;124m\"\u001b[39m\u001b[38;5;124mmode.chained_assignment\u001b[39m\u001b[38;5;124m\"\u001b[39m, \u001b[38;5;28;01mNone\u001b[39;00m):\n\u001b[1;32m    865\u001b[0m     \u001b[38;5;28;01mfor\u001b[39;00m i, v \u001b[38;5;129;01min\u001b[39;00m \u001b[38;5;28menumerate\u001b[39m(series_gen):\n\u001b[1;32m    866\u001b[0m         \u001b[38;5;66;03m# ignore SettingWithCopy here in case the user mutates\u001b[39;00m\n\u001b[0;32m--> 867\u001b[0m         results[i] \u001b[38;5;241m=\u001b[39m \u001b[38;5;28;43mself\u001b[39;49m\u001b[38;5;241;43m.\u001b[39;49m\u001b[43mf\u001b[49m\u001b[43m(\u001b[49m\u001b[43mv\u001b[49m\u001b[43m)\u001b[49m\n\u001b[1;32m    868\u001b[0m         \u001b[38;5;28;01mif\u001b[39;00m \u001b[38;5;28misinstance\u001b[39m(results[i], ABCSeries):\n\u001b[1;32m    869\u001b[0m             \u001b[38;5;66;03m# If we have a view on v, we need to make a copy because\u001b[39;00m\n\u001b[1;32m    870\u001b[0m             \u001b[38;5;66;03m#  series_generator will swap out the underlying data\u001b[39;00m\n\u001b[1;32m    871\u001b[0m             results[i] \u001b[38;5;241m=\u001b[39m results[i]\u001b[38;5;241m.\u001b[39mcopy(deep\u001b[38;5;241m=\u001b[39m\u001b[38;5;28;01mFalse\u001b[39;00m)\n",
      "Input \u001b[0;32mIn [22]\u001b[0m, in \u001b[0;36mget_washu_coords\u001b[0;34m(sr)\u001b[0m\n\u001b[1;32m      1\u001b[0m \u001b[38;5;28;01mdef\u001b[39;00m \u001b[38;5;21mget_washu_coords\u001b[39m(sr):\n\u001b[1;32m      3\u001b[0m     snp_pos \u001b[38;5;241m=\u001b[39m sr[\u001b[38;5;124m'\u001b[39m\u001b[38;5;124mcoloc.pos\u001b[39m\u001b[38;5;124m'\u001b[39m]\n\u001b[0;32m----> 4\u001b[0m     gene_tss \u001b[38;5;241m=\u001b[39m \u001b[43msr\u001b[49m\u001b[38;5;241;43m.\u001b[39;49m\u001b[43mtss_end\u001b[49m\n\u001b[1;32m      6\u001b[0m     \u001b[38;5;28;01mif\u001b[39;00m snp_pos \u001b[38;5;241m<\u001b[39m gene_tss:\n\u001b[1;32m      7\u001b[0m         left \u001b[38;5;241m=\u001b[39m snp_pos\n",
      "File \u001b[0;32m~/jreyna/software/mambaforge/envs/hichip-db/lib/python3.9/site-packages/pandas/core/generic.py:5583\u001b[0m, in \u001b[0;36mNDFrame.__getattr__\u001b[0;34m(self, name)\u001b[0m\n\u001b[1;32m   5576\u001b[0m \u001b[38;5;28;01mif\u001b[39;00m (\n\u001b[1;32m   5577\u001b[0m     name \u001b[38;5;129;01mnot\u001b[39;00m \u001b[38;5;129;01min\u001b[39;00m \u001b[38;5;28mself\u001b[39m\u001b[38;5;241m.\u001b[39m_internal_names_set\n\u001b[1;32m   5578\u001b[0m     \u001b[38;5;129;01mand\u001b[39;00m name \u001b[38;5;129;01mnot\u001b[39;00m \u001b[38;5;129;01min\u001b[39;00m \u001b[38;5;28mself\u001b[39m\u001b[38;5;241m.\u001b[39m_metadata\n\u001b[1;32m   5579\u001b[0m     \u001b[38;5;129;01mand\u001b[39;00m name \u001b[38;5;129;01mnot\u001b[39;00m \u001b[38;5;129;01min\u001b[39;00m \u001b[38;5;28mself\u001b[39m\u001b[38;5;241m.\u001b[39m_accessors\n\u001b[1;32m   5580\u001b[0m     \u001b[38;5;129;01mand\u001b[39;00m \u001b[38;5;28mself\u001b[39m\u001b[38;5;241m.\u001b[39m_info_axis\u001b[38;5;241m.\u001b[39m_can_hold_identifiers_and_holds_name(name)\n\u001b[1;32m   5581\u001b[0m ):\n\u001b[1;32m   5582\u001b[0m     \u001b[38;5;28;01mreturn\u001b[39;00m \u001b[38;5;28mself\u001b[39m[name]\n\u001b[0;32m-> 5583\u001b[0m \u001b[38;5;28;01mreturn\u001b[39;00m \u001b[38;5;28;43mobject\u001b[39;49m\u001b[38;5;241;43m.\u001b[39;49m\u001b[38;5;21;43m__getattribute__\u001b[39;49m\u001b[43m(\u001b[49m\u001b[38;5;28;43mself\u001b[39;49m\u001b[43m,\u001b[49m\u001b[43m \u001b[49m\u001b[43mname\u001b[49m\u001b[43m)\u001b[49m\n",
      "\u001b[0;31mAttributeError\u001b[0m: 'Series' object has no attribute 'tss_end'"
     ]
    }
   ],
   "source": [
    "all_data.loc[:, 'washu_coords'] = all_data.apply(get_washu_coords, axis=1)"
   ]
  },
  {
   "cell_type": "markdown",
   "id": "1298112e",
   "metadata": {},
   "source": [
    "## Finding SGLs"
   ]
  },
  {
   "cell_type": "code",
   "execution_count": null,
   "id": "963c522a",
   "metadata": {},
   "outputs": [],
   "source": [
    "sgl_data = all_data.loc[(all_data.is_coloc_pair == 1)]"
   ]
  },
  {
   "cell_type": "code",
   "execution_count": null,
   "id": "878aa4a3",
   "metadata": {},
   "outputs": [],
   "source": [
    "sgl_data.columns"
   ]
  },
  {
   "cell_type": "code",
   "execution_count": null,
   "id": "d067b4be",
   "metadata": {},
   "outputs": [],
   "source": [
    "sgl_data"
   ]
  },
  {
   "cell_type": "code",
   "execution_count": null,
   "id": "0e638d3f",
   "metadata": {},
   "outputs": [],
   "source": [
    "sgl_data[['sid', 'geneid', 'gwas_source', 'eqtl_source', 'loop_source', 'washu_coords']]"
   ]
  },
  {
   "cell_type": "markdown",
   "id": "321e73ad",
   "metadata": {},
   "source": [
    "## Investigating colocs without FitHiChIP Loops"
   ]
  },
  {
   "cell_type": "code",
   "execution_count": null,
   "id": "bf27be9c",
   "metadata": {},
   "outputs": [],
   "source": [
    "eqtl_data = all_data.loc[(all_data.is_eqtl_pair == 1)]"
   ]
  },
  {
   "cell_type": "code",
   "execution_count": null,
   "id": "c40bb6b8",
   "metadata": {},
   "outputs": [],
   "source": [
    "eqtl_data"
   ]
  },
  {
   "cell_type": "code",
   "execution_count": null,
   "id": "d991a34c",
   "metadata": {},
   "outputs": [],
   "source": [
    "eqtl_data[['sid', 'geneid', 'gwas_source', 'eqtl_source', 'loop_source']]"
   ]
  },
  {
   "cell_type": "code",
   "execution_count": null,
   "id": "1eeda155",
   "metadata": {},
   "outputs": [],
   "source": [
    "eqtl_data.eqtl_source.unique()"
   ]
  },
  {
   "cell_type": "code",
   "execution_count": null,
   "id": "77f5ce65",
   "metadata": {},
   "outputs": [],
   "source": []
  },
  {
   "cell_type": "code",
   "execution_count": null,
   "id": "67857c73",
   "metadata": {},
   "outputs": [],
   "source": []
  },
  {
   "cell_type": "code",
   "execution_count": null,
   "id": "f38800b6",
   "metadata": {},
   "outputs": [],
   "source": []
  },
  {
   "cell_type": "code",
   "execution_count": null,
   "id": "9e6bce65",
   "metadata": {},
   "outputs": [],
   "source": []
  },
  {
   "cell_type": "code",
   "execution_count": null,
   "id": "a1151f47",
   "metadata": {},
   "outputs": [],
   "source": []
  }
 ],
 "metadata": {
  "kernelspec": {
   "display_name": "HiChIP-DB",
   "language": "python",
   "name": "hichip-db"
  },
  "language_info": {
   "codemirror_mode": {
    "name": "ipython",
    "version": 3
   },
   "file_extension": ".py",
   "mimetype": "text/x-python",
   "name": "python",
   "nbconvert_exporter": "python",
   "pygments_lexer": "ipython3",
   "version": "3.9.10"
  }
 },
 "nbformat": 4,
 "nbformat_minor": 5
}
