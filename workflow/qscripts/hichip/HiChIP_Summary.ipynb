{
 "cells": [
  {
   "cell_type": "code",
   "execution_count": 23,
   "id": "ebc414ab",
   "metadata": {},
   "outputs": [],
   "source": [
    "import os \n",
    "import pandas as pd\n",
    "import numpy as np\n",
    "import subprocess\n",
    "import glob\n",
    "import pybedtools as pbt \n",
    "from IPython.display import HTML\n",
    "import seaborn as sns \n",
    "import matplotlib.pyplot as plt\n",
    "pd.set_option('display.min_rows', 100) \n",
    "pd.set_option('display.max_columns', None)\n",
    "pd.options.mode.chained_assignment = None  # default='warn'\n",
    "\n",
    "pbt.set_bedtools_path('/mnt/BioHome/jreyna/software/anaconda3/envs/hic_tls/bin/')\n",
    "pbt.set_tempdir('/mnt/hpcscratch/jreyna/')\n",
    "os.chdir('/mnt/bioadhoc-temp/Groups/vd-ay/jreyna-temp/projects/dchallenge/')\n",
    "\n",
    "gsizes = 'results/refs/hg19/hg19.chrom.sizes'\n",
    "res = 5000\n",
    "\n",
    "# make the directory to save our data\n",
    "outdir = 'results/main/hichip/summary/'\n",
    "os.makedirs(outdir, exist_ok=True)\n",
    "bedpe_cols = ['chrA', 'startA', 'endA', 'chrB', 'startB', 'endB']"
   ]
  },
  {
   "cell_type": "markdown",
   "id": "be3c60bc",
   "metadata": {},
   "source": [
    "## Loading the gene data"
   ]
  },
  {
   "cell_type": "code",
   "execution_count": 24,
   "id": "10527447",
   "metadata": {},
   "outputs": [],
   "source": [
    "# get reference files \n",
    "genome_sizes=\"results/refs/hg19/hg19.chrom.sizes\"\n",
    "\n",
    "# loading the sample sheet\n",
    "samplesheet = pd.read_table('config/sgl_samplesheets/sgl.samplesheet.tsv')\n",
    "samplesheet = samplesheet.loc[~samplesheet['eqtl_source'].isna()]"
   ]
  },
  {
   "cell_type": "code",
   "execution_count": 25,
   "id": "f2c9b576",
   "metadata": {},
   "outputs": [],
   "source": [
    "# loading all hichip data\n",
    "hichip_template = 'results/main/h3k27ac_hichip/{loop_source}/FitHiChIP_S/FitHiChIP.interactions_FitHiC_Q0.01.bed'\n",
    "hichip_data = []\n",
    "hichip_pbts = {}\n",
    "curr_id = 0"
   ]
  },
  {
   "cell_type": "code",
   "execution_count": 26,
   "id": "c4fa0a1f",
   "metadata": {},
   "outputs": [
    {
     "data": {
      "text/plain": [
       "['results/main/h3k27ac_hichip/NK-cell_naive/FitHiChIP_S/FitHiChIP.interactions_FitHiC_Q0.01.bed',\n",
       " 'results/main/h3k27ac_hichip/monocyte_naive/FitHiChIP_S/FitHiChIP.interactions_FitHiC_Q0.01.bed',\n",
       " 'results/main/h3k27ac_hichip/CD8_T-cell_naive/FitHiChIP_S/FitHiChIP.interactions_FitHiC_Q0.01.bed',\n",
       " 'results/main/h3k27ac_hichip/Tfh_memory/FitHiChIP_S/FitHiChIP.interactions_FitHiC_Q0.01.bed',\n",
       " 'results/main/h3k27ac_hichip/B-cell_naive/FitHiChIP_S/FitHiChIP.interactions_FitHiC_Q0.01.bed',\n",
       " 'results/main/h3k27ac_hichip/Th1-17_memory/FitHiChIP_S/FitHiChIP.interactions_FitHiC_Q0.01.bed',\n",
       " 'results/main/h3k27ac_hichip/Th2_memory/FitHiChIP_S/FitHiChIP.interactions_FitHiC_Q0.01.bed',\n",
       " 'results/main/h3k27ac_hichip/Treg_memory/FitHiChIP_S/FitHiChIP.interactions_FitHiC_Q0.01.bed',\n",
       " 'results/main/h3k27ac_hichip/monocyte_nonclassical_naive/FitHiChIP_S/FitHiChIP.interactions_FitHiC_Q0.01.bed',\n",
       " 'results/main/h3k27ac_hichip/Th17_memory/FitHiChIP_S/FitHiChIP.interactions_FitHiC_Q0.01.bed',\n",
       " 'results/main/h3k27ac_hichip/Treg_naive/FitHiChIP_S/FitHiChIP.interactions_FitHiC_Q0.01.bed',\n",
       " 'results/main/h3k27ac_hichip/Th1_memory/FitHiChIP_S/FitHiChIP.interactions_FitHiC_Q0.01.bed',\n",
       " 'results/main/h3k27ac_hichip/CD4_T-cell_naive/FitHiChIP_S/FitHiChIP.interactions_FitHiC_Q0.01.bed']"
      ]
     },
     "execution_count": 26,
     "metadata": {},
     "output_type": "execute_result"
    }
   ],
   "source": [
    "glob.glob(hichip_template.format(loop_source='*'))"
   ]
  },
  {
   "cell_type": "code",
   "execution_count": 27,
   "id": "4c60ec5b",
   "metadata": {},
   "outputs": [
    {
     "name": "stdout",
     "output_type": "stream",
     "text": [
      "results/main/h3k27ac_hichip/NK-cell_naive/FitHiChIP_S/FitHiChIP.interactions_FitHiC_Q0.01.bed\n",
      "results/main/h3k27ac_hichip/monocyte_naive/FitHiChIP_S/FitHiChIP.interactions_FitHiC_Q0.01.bed\n",
      "results/main/h3k27ac_hichip/CD8_T-cell_naive/FitHiChIP_S/FitHiChIP.interactions_FitHiC_Q0.01.bed\n",
      "results/main/h3k27ac_hichip/B-cell_naive/FitHiChIP_S/FitHiChIP.interactions_FitHiC_Q0.01.bed\n",
      "results/main/h3k27ac_hichip/CD4_T-cell_naive/FitHiChIP_S/FitHiChIP.interactions_FitHiC_Q0.01.bed\n"
     ]
    }
   ],
   "source": [
    "for hichip_fn in glob.glob(hichip_template.format(loop_source='*')):\n",
    "    \n",
    "    celltype = hichip_fn.split('/')[3]\n",
    "    \n",
    "    if celltype not in ['CD8_T-cell_naive', 'CD4_T-cell_naive', 'monocyte_naive', 'B-cell_naive', 'NK-cell_naive']:\n",
    "        continue\n",
    "        \n",
    "    print(hichip_fn)\n",
    "\n",
    "    \n",
    "    # load hichip\n",
    "    curr_hichip = pd.read_table(hichip_fn)\n",
    "    curr_hichip['celltype'] = celltype\n",
    "    curr_hichip['loop.id'] = range(curr_id, curr_id + len(curr_hichip))\n",
    "    curr_id += len(curr_hichip)\n",
    "    hichip_data.append(curr_hichip)\n",
    "    \n",
    "    # create pbt\n",
    "    hichip_pbt = pbt.BedTool.from_dataframe(curr_hichip[['chr1', 's1', 'e1', 'chr2', 's2', 'e2', 'loop.id']])\n",
    "    \n",
    "    hichip_pbts[celltype] = hichip_pbt\n",
    "\n",
    "# concat everything together\n",
    "hichip = pd.concat(hichip_data)"
   ]
  },
  {
   "cell_type": "code",
   "execution_count": 28,
   "id": "2d86ed81",
   "metadata": {},
   "outputs": [],
   "source": [
    "celltype_summary = hichip.celltype.value_counts()"
   ]
  },
  {
   "cell_type": "code",
   "execution_count": 29,
   "id": "1c61339b",
   "metadata": {},
   "outputs": [],
   "source": [
    "celltype_summary = celltype_summary.to_frame()\n",
    "celltype_summary.columns = ['count']\n",
    "celltype_summary['cell_type'] = ['NK cells', 'B-cells', 'CD4 T-cells', 'CD8 T-cells', 'Monocytes']\n",
    "celltype_summary['cell_type_orig'] = celltype_summary.index.tolist()"
   ]
  },
  {
   "cell_type": "code",
   "execution_count": 34,
   "id": "70fc01b3",
   "metadata": {},
   "outputs": [],
   "source": [
    "celltype_summary.sort_index(inplace=True)"
   ]
  },
  {
   "cell_type": "code",
   "execution_count": 35,
   "id": "605eecf0",
   "metadata": {},
   "outputs": [],
   "source": [
    "color_fn = 'results/refs/dice_colors/colors.revised.t1d-project.tsv'\n",
    "colors = pd.read_table(color_fn)\n",
    "colors_dict = {sr.studyname: sr.hex for i, sr in colors.iterrows()}"
   ]
  },
  {
   "cell_type": "code",
   "execution_count": 36,
   "id": "2b1b2e42",
   "metadata": {},
   "outputs": [
    {
     "data": {
      "text/plain": [
       "{'Monocytes': '#B22222',\n",
       " 'B-cells': '#32CD32',\n",
       " 'CD4 T-cells': '#00BFFF',\n",
       " 'CD8 T-cells': '#EE82EE',\n",
       " 'NK cells': '#FFD700'}"
      ]
     },
     "execution_count": 36,
     "metadata": {},
     "output_type": "execute_result"
    }
   ],
   "source": [
    "colors_dict"
   ]
  },
  {
   "cell_type": "code",
   "execution_count": 37,
   "id": "1b3a2e22",
   "metadata": {},
   "outputs": [
    {
     "data": {
      "image/png": "[encoded data removed]",
      "text/plain": [
       "<Figure size 216x216 with 1 Axes>"
      ]
     },
     "metadata": {
      "needs_background": "light"
     },
     "output_type": "display_data"
    }
   ],
   "source": [
    "fig, ax = plt.subplots(figsize=(3,3))\n",
    "sns.barplot(x='cell_type', y='count', hue='cell_type', palette=colors_dict, data=celltype_summary, dodge=False)\n",
    "ax.set_xlabel('')\n",
    "\n",
    "ax.set_xticklabels(celltype_summary['cell_type'], rotation = 60)\n",
    "legend = ax.legend_\n",
    "legend.set_visible(False)\n",
    "\n",
    "hichip_summary_fn = os.path.join(outdir, 'hichip_summary.svg')\n",
    "fig.savefig(hichip_summary_fn)"
   ]
  },
  {
   "cell_type": "code",
   "execution_count": null,
   "id": "6952b63c",
   "metadata": {},
   "outputs": [],
   "source": []
  },
  {
   "cell_type": "code",
   "execution_count": null,
   "id": "150f3e40",
   "metadata": {},
   "outputs": [],
   "source": []
  },
  {
   "cell_type": "code",
   "execution_count": null,
   "id": "d7739d7e",
   "metadata": {},
   "outputs": [],
   "source": []
  },
  {
   "cell_type": "code",
   "execution_count": null,
   "id": "0c6ad346",
   "metadata": {},
   "outputs": [],
   "source": []
  },
  {
   "cell_type": "code",
   "execution_count": null,
   "id": "947c1e78",
   "metadata": {},
   "outputs": [],
   "source": []
  },
  {
   "cell_type": "code",
   "execution_count": null,
   "id": "7ab65323",
   "metadata": {},
   "outputs": [],
   "source": []
  },
  {
   "cell_type": "code",
   "execution_count": null,
   "id": "3357f5ab",
   "metadata": {},
   "outputs": [],
   "source": []
  },
  {
   "cell_type": "code",
   "execution_count": null,
   "id": "b99f1ae6",
   "metadata": {},
   "outputs": [],
   "source": []
  },
  {
   "cell_type": "code",
   "execution_count": null,
   "id": "ec605a05",
   "metadata": {},
   "outputs": [],
   "source": []
  }
 ],
 "metadata": {
  "kernelspec": {
   "display_name": "HiChIP-DB",
   "language": "python",
   "name": "hichip-db"
  },
  "language_info": {
   "codemirror_mode": {
    "name": "ipython",
    "version": 3
   },
   "file_extension": ".py",
   "mimetype": "text/x-python",
   "name": "python",
   "nbconvert_exporter": "python",
   "pygments_lexer": "ipython3",
   "version": "3.9.10"
  }
 },
 "nbformat": 4,
 "nbformat_minor": 5
}
