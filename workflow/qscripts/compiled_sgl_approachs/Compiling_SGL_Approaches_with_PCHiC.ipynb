{
 "cells": [
  {
   "cell_type": "code",
   "execution_count": 23,
   "id": "867d4b7c",
   "metadata": {},
   "outputs": [],
   "source": [
    "import os \n",
    "import pandas as pd\n",
    "pd.set_option('display.max_columns', None)\n",
    "pd.set_option('display.max_rows', 100)\n",
    "import subprocess\n",
    "import glob\n",
    "import pybedtools as pbt \n",
    "pbt.set_tempdir('/mnt/hpcscratch/jreyna/')\n",
    "\n",
    "pbt.set_bedtools_path('/mnt/BioApps/bedtools/bin/')\n",
    "import numpy as np\n",
    "\n",
    "os.chdir('/mnt/bioadhoc-temp/Groups/vd-ay/jreyna-temp/projects/dchallenge/')\n",
    "\n",
    "genome_sizes = 'results/refs/hg19/hg19.chrom.sizes'\n",
    "\n",
    "# make the directory to save our data\n",
    "outdir = 'results/main/compiled_sgl_approaches//'\n",
    "os.makedirs(outdir, exist_ok=True)"
   ]
  },
  {
   "cell_type": "code",
   "execution_count": 24,
   "id": "83d6f696",
   "metadata": {},
   "outputs": [
    {
     "name": "stdout",
     "output_type": "stream",
     "text": [
      "rm: cannot remove ‘/mnt/hpcscratch/jreyna/*’: No such file or directory\r\n"
     ]
    }
   ],
   "source": [
    "rm /mnt/hpcscratch/jreyna/*"
   ]
  },
  {
   "cell_type": "markdown",
   "id": "74b7352d",
   "metadata": {},
   "source": [
    "## Loading SGLs from different sources"
   ]
  },
  {
   "cell_type": "code",
   "execution_count": 25,
   "id": "e6d57ee7",
   "metadata": {},
   "outputs": [],
   "source": [
    "coloc_fn = 'results/main/coloc/sgl_intersect/coloc_ld_sgls.tsv'"
   ]
  },
  {
   "cell_type": "code",
   "execution_count": 26,
   "id": "063551c0",
   "metadata": {},
   "outputs": [],
   "source": [
    "pieqtl_fn = 'results/main/pieqtls/sgl_intersect/pieqtls_sgls.tsv'"
   ]
  },
  {
   "cell_type": "code",
   "execution_count": 27,
   "id": "cf7d5075",
   "metadata": {},
   "outputs": [],
   "source": [
    "finemap_fn = 'results/main/finemapping/sgl_intersect/finemap_sgls.tsv'"
   ]
  },
  {
   "cell_type": "code",
   "execution_count": 28,
   "id": "4b9000e4",
   "metadata": {},
   "outputs": [],
   "source": [
    "coloc = pd.read_table(coloc_fn)\n",
    "coloc['sgl_type'] = 'coloc'\n",
    "\n",
    "pieqtl = pd.read_table(pieqtl_fn)\n",
    "pieqtl['sgl_type'] = 'pieqtl'\n",
    "\n",
    "finemap = pd.read_table(finemap_fn)\n",
    "finemap['sgl_type'] = 'finemap'\n",
    "\n",
    "# Adding chr to the chromosome columns \n",
    "finemap['chrA_loop'] = 'chr' + finemap['chrA_loop'].astype(str)\n",
    "finemap['chrB_loop'] = 'chr' + finemap['chrB_loop'].astype(str)"
   ]
  },
  {
   "cell_type": "code",
   "execution_count": 29,
   "id": "0b2be63c",
   "metadata": {},
   "outputs": [
    {
     "ename": "ModuleNotFoundError",
     "evalue": "No module named 'pandas.io.formats.html'",
     "output_type": "error",
     "traceback": [
      "\u001b[0;31m---------------------------------------------------------------------------\u001b[0m",
      "\u001b[0;31mModuleNotFoundError\u001b[0m                       Traceback (most recent call last)",
      "File \u001b[0;32m~/jreyna/software/mambaforge/envs/hichip-db/lib/python3.9/site-packages/IPython/core/formatters.py:343\u001b[0m, in \u001b[0;36m__call__\u001b[0;34m(self, obj)\u001b[0m\n",
      "File \u001b[0;32m~/jreyna/software/mambaforge/envs/hichip-db/lib/python3.9/site-packages/pandas/core/frame.py:1053\u001b[0m, in \u001b[0;36m_repr_html_\u001b[0;34m(self)\u001b[0m\n",
      "File \u001b[0;32m~/jreyna/software/mambaforge/envs/hichip-db/lib/python3.9/site-packages/pandas/io/formats/format.py:1088\u001b[0m, in \u001b[0;36mto_html\u001b[0;34m(self, buf, encoding, classes, notebook, border, table_id, render_links)\u001b[0m\n",
      "\u001b[0;31mModuleNotFoundError\u001b[0m: No module named 'pandas.io.formats.html'"
     ]
    },
    {
     "data": {
      "text/plain": [
       "  chr_snp  start_snp   end_snp chr_gene  start_gene  end_gene  coloc.id  chrA  \\\n",
       "0    chr6   91014028  91014029     chr6    89673468  89673469         9  chr6   \n",
       "1    chr6   91002493  91002494     chr6    89673468  89673469        15  chr6   \n",
       "\n",
       "     startA      endA  chrB    startB      endB  loop.id   chr      pos  \\\n",
       "0  89670000  89675000  chr6  91005000  91010000   520647  chr9  4282536   \n",
       "1  89670000  89675000  chr6  91005000  91010000   520647  chr9  4287466   \n",
       "\n",
       "   pp_H0_Coloc_Summary  pp_H1_Coloc_Summary  pp_H2_Coloc_Summary  \\\n",
       "0        4.728672e-289        9.059926e-287             0.001165   \n",
       "1        4.728672e-289        9.059926e-287             0.001165   \n",
       "\n",
       "   pp_H3_Coloc_Summary  pp_H4_Coloc_Summary    ld_rsID     variant_id  \\\n",
       "0              0.22249             0.776345  rs4380994  9:4296430:A:G   \n",
       "1              0.22249             0.776345  rs7041847  9:4296430:A:G   \n",
       "\n",
       "          geneName   dist    pvalue       FDR  slope_snp ref alt    AC  \\\n",
       "0  ENSG00000107249  51962  0.027644  0.568634  -0.325938   A   G  1700   \n",
       "1  ENSG00000107249  51962  0.027644  0.568634  -0.325938   A   G  1700   \n",
       "\n",
       "         AF    AN  slope_se_snp  slope_gwas  slope_se_gwas  pval_nominal  \\\n",
       "0  0.339457  5008      0.008901   -0.119714       0.013994  1.180000e-17   \n",
       "1  0.339457  5008      0.008901   -0.119714       0.013994  1.180000e-17   \n",
       "\n",
       "   old_pos  was_converted        rsID main.chr  main.pos       rs_id  \\\n",
       "0  4296430              1  rs10814917     chr9   4296430  rs10814917   \n",
       "1  4296430              1  rs10814917     chr9   4296430  rs10814917   \n",
       "\n",
       "         LD           gwas_source eqtl_source       ge_source  chr1        s1  \\\n",
       "0  0.942558  T1D_34012112_Gaulton  Quach_2016  monocyte_naive  chr6  89670000   \n",
       "1  0.949290  T1D_34012112_Gaulton  Quach_2016  monocyte_naive  chr6  89670000   \n",
       "\n",
       "         e1  chr2        s2        e2  cc  Coverage1  isPeak1     Bias1  \\\n",
       "0  89675000  chr6  91005000  91010000  18       3005        1  1.802139   \n",
       "1  89675000  chr6  91005000  91010000  18       3005        1  1.802139   \n",
       "\n",
       "   Mapp1  GCContent1  RESites1  Coverage2  isPeak2      Bias2  Mapp2  \\\n",
       "0      0           0         0      17414        1  10.443413      0   \n",
       "1      0           0         0      17414        1  10.443413      0   \n",
       "\n",
       "   GCContent2  RESites2             p  exp_cc_Bias        p_Bias  dbinom_Bias  \\\n",
       "0           0         0  1.130191e-07     6.483465  4.502776e-08     0.000098   \n",
       "1           0         0  1.130191e-07     6.483465  4.502776e-08     0.000098   \n",
       "\n",
       "   P-Value_Bias  Q-Value_Bias          celltype sgl_type  \n",
       "0      0.000147      0.009584  CD4_T-cell_naive    coloc  \n",
       "1      0.000147      0.009584  CD4_T-cell_naive    coloc  "
      ]
     },
     "execution_count": 29,
     "metadata": {},
     "output_type": "execute_result"
    }
   ],
   "source": [
    "coloc"
   ]
  },
  {
   "cell_type": "code",
   "execution_count": null,
   "id": "58f607af",
   "metadata": {},
   "outputs": [],
   "source": []
  },
  {
   "cell_type": "code",
   "execution_count": null,
   "id": "2bd22694",
   "metadata": {},
   "outputs": [],
   "source": []
  },
  {
   "cell_type": "code",
   "execution_count": null,
   "id": "88bbbebf",
   "metadata": {},
   "outputs": [],
   "source": []
  },
  {
   "cell_type": "markdown",
   "id": "e58c2c59",
   "metadata": {},
   "source": [
    "## Loading Gene Data"
   ]
  },
  {
   "cell_type": "code",
   "execution_count": 8,
   "id": "102a6a30",
   "metadata": {},
   "outputs": [
    {
     "name": "stdout",
     "output_type": "stream",
     "text": [
      "# Load the gene data\n",
      "   chrom  start    end        gname          gene_id strand\n",
      "0   chr1  11869  14409      DDX11L1  ENSG00000223972      +\n",
      "12  chr1  14404  29570       WASH7P  ENSG00000227232      -\n",
      "25  chr1  17369  17436    MIR6859-1  ENSG00000278267      -\n",
      "28  chr1  29554  31109  MIR1302-2HG  ENSG00000243485      +\n",
      "36  chr1  30366  30503    MIR1302-2  ENSG00000284332      +\n",
      "There are 58825 genes in this GTF-derived file.\n"
     ]
    }
   ],
   "source": [
    "print('# Load the gene data')\n",
    "\n",
    "res = 5000\n",
    "\n",
    "genes_fn = 'results/refs/gencode/v30/gencode.v30.annotation.bed'\n",
    "\n",
    "# load the gencode coords\n",
    "cols = ['chrom', 'start', 'end', 'strand', 'type', 'gene_id', 'gname']\n",
    "gencode = pd.read_table(genes_fn, header=None, names=cols)\n",
    "\n",
    "# extract just the genes\n",
    "genes_df = gencode.loc[gencode['type'].isin(['gene'])]\n",
    "genes_df = genes_df.loc[~genes_df.duplicated(subset='gene_id'), :]\n",
    "genes_df.loc[:, 'chrom'] = genes_df['chrom'].astype(str)\n",
    "genes_df = genes_df.iloc[:, [0,1,2,6,5,3]]\n",
    "\n",
    "print(genes_df.head())\n",
    "\n",
    "print('There are {} genes in this GTF-derived file.'.format(genes_df.shape[0]))"
   ]
  },
  {
   "cell_type": "markdown",
   "id": "22128e7d",
   "metadata": {},
   "source": [
    "## Intersecting PC-HiC Data"
   ]
  },
  {
   "cell_type": "markdown",
   "id": "996d6a9b",
   "metadata": {},
   "source": [
    "#### Coloc Approach"
   ]
  },
  {
   "cell_type": "code",
   "execution_count": 9,
   "id": "2d332b5e",
   "metadata": {},
   "outputs": [],
   "source": [
    "# creating a dictionary which matches \n",
    "# hichip and pc-hic data\n",
    "hichip_pchic_matches = {'monocytes': 'monocyte_naive',\n",
    "                        'naive-b': 'B-cell_naive',\n",
    "                        'total-b': 'B-cell_naive',\n",
    "                        'gms_merged': 'B-cell_naive', \n",
    "                        'naive-cd4': 'CD4_T-cell_naive', \n",
    "                        'total-cd4': 'CD4_T-cell_naive', \n",
    "                        'non-activated-total-cd4': 'CD4_T-cell_naive',\n",
    "                        'naive-cd8': 'CD8_T-cell_naive',\n",
    "                        'total-cd8': 'CD8_T-cell_naive'} "
   ]
  },
  {
   "cell_type": "code",
   "execution_count": 19,
   "id": "a53c5311",
   "metadata": {},
   "outputs": [
    {
     "name": "stderr",
     "output_type": "stream",
     "text": [
      "rm: cannot remove ‘/mnt/hpcscratch/jreyna/*’: No such file or directory\n",
      "rm: cannot remove ‘/mnt/hpcscratch/jreyna/*’: No such file or directory\n"
     ]
    },
    {
     "name": "stdout",
     "output_type": "stream",
     "text": [
      "overlap not found: results/main/pc_hic/2016_javierre/processing/non-activated-total-cd4.bedpe\n",
      "overlap not found: results/main/pc_hic/2016_javierre/processing/monocytes.bedpe\n"
     ]
    },
    {
     "name": "stderr",
     "output_type": "stream",
     "text": [
      "rm: cannot remove ‘/mnt/hpcscratch/jreyna/*’: No such file or directory\n"
     ]
    },
    {
     "name": "stdout",
     "output_type": "stream",
     "text": [
      "overlap not found: results/main/pc_hic/2016_javierre/processing/naive-b.bedpe\n",
      "overlap not found: results/main/pc_hic/2016_javierre/processing/total-cd8.bedpe\n"
     ]
    },
    {
     "name": "stderr",
     "output_type": "stream",
     "text": [
      "rm: cannot remove ‘/mnt/hpcscratch/jreyna/*’: No such file or directory\n",
      "rm: cannot remove ‘/mnt/hpcscratch/jreyna/*’: No such file or directory\n"
     ]
    },
    {
     "name": "stdout",
     "output_type": "stream",
     "text": [
      "overlap not found: results/main/pc_hic/2016_javierre/processing/total-cd4.bedpe\n"
     ]
    },
    {
     "name": "stderr",
     "output_type": "stream",
     "text": [
      "rm: cannot remove ‘/mnt/hpcscratch/jreyna/*’: No such file or directory\n",
      "rm: cannot remove ‘/mnt/hpcscratch/jreyna/*’: No such file or directory\n"
     ]
    },
    {
     "name": "stdout",
     "output_type": "stream",
     "text": [
      "overlap not found: results/main/pc_hic/2016_javierre/processing/total-b.bedpe\n",
      "overlap not found: results/main/pc_hic/2016_javierre/processing/naive-cd4.bedpe\n"
     ]
    },
    {
     "name": "stderr",
     "output_type": "stream",
     "text": [
      "rm: cannot remove ‘/mnt/hpcscratch/jreyna/*’: No such file or directory\n"
     ]
    },
    {
     "name": "stdout",
     "output_type": "stream",
     "text": [
      "overlap not found: results/main/pc_hic/2016_javierre/processing/naive-cd8.bedpe\n"
     ]
    },
    {
     "name": "stderr",
     "output_type": "stream",
     "text": [
      "rm: cannot remove ‘/mnt/hpcscratch/jreyna/*’: No such file or directory\n",
      "rm: cannot remove ‘/mnt/hpcscratch/jreyna/*’: No such file or directory\n"
     ]
    },
    {
     "name": "stdout",
     "output_type": "stream",
     "text": [
      "overlap not found: results/main/pc_hic/2019_jung/processing/gms_merged.bedpe\n"
     ]
    }
   ],
   "source": [
    "# getting a list of pc_hic files \n",
    "pc_hics = glob.glob('results/main/pc_hic/2016_javierre/processing/*.bedpe')\n",
    "pc_hics += glob.glob('results/main/pc_hic/2019_jung/processing/*.bedpe')\n",
    "\n",
    "# adding a merge id for post fixing\n",
    "coloc['mid'] = range(coloc.shape[0])\n",
    "\n",
    "# renaming loop columns\n",
    "coloc.rename(columns={'chrA': 'chrA_loop', 'startA': 'startA_loop', 'endA': 'endA_loop',\n",
    "                      'chrB': 'chrB_loop', 'startB': 'startB_loop', 'endB': 'endB_loop',\n",
    "                      'celltype': 'cline_loop'}, inplace=True)\n",
    "\n",
    "# initializing the merge list and column names\n",
    "pchic_merge_data = []\n",
    "pchic_cols = ['chrA', 'startA', 'endA', 'chrB', 'startB', 'endB', 'score', 'pchic_cline']\n",
    "hichip_bedpe_cols = ['chrA_loop', 'startA_loop', 'endA_loop',\n",
    "                    'chrB_loop', 'startB_loop', 'endB_loop', 'mid']\n",
    "for fn in pc_hics:\n",
    "    pchic_cline = os.path.basename(fn).split('.')[0]\n",
    "    \n",
    "    os.system('rm /mnt/hpcscratch/jreyna/*')\n",
    "    \n",
    "    if pchic_cline in hichip_pchic_matches: \n",
    "        \n",
    "        # getting hichip data for the current cell line\n",
    "        hichip_cline = hichip_pchic_matches[pchic_cline]\n",
    "        hichip_cline_df = coloc.loc[coloc.cline_loop == hichip_cline, hichip_bedpe_cols]\n",
    "        \n",
    "        # loading pc-hic data for the current cell line\n",
    "        pchic_cline_df = pd.read_table(fn, names=pchic_cols)\n",
    "        #pchic_cline_df.chrA = pchic_cline_df.chrA.str.replace('chr', '')\n",
    "        #pchic_cline_df.chrB = pchic_cline_df.chrB.str.replace('chr', '')\n",
    "        \n",
    "        # intersecting hichip and pc-hic bedpes\n",
    "        hichip_cline_pbt = pbt.BedTool.from_dataframe(hichip_cline_df)\n",
    "        pchic_cline_pbt = pbt.BedTool.from_dataframe(pchic_cline_df)\n",
    "        \n",
    "    \n",
    "        if len(hichip_cline_pbt) > 0 and len(pchic_cline_pbt) > 0: \n",
    "        \n",
    "            both_loops = hichip_cline_pbt.pairtopair(pchic_cline_pbt)        \n",
    "            both_loops = both_loops.to_dataframe(disable_auto_names=True, header=None).iloc[:, 0:15]\n",
    "\n",
    "            if both_loops.shape[0] > 0: \n",
    "                pchic_merge_data.append(both_loops)\n",
    "                print('overlap found: {}'.format(fn))\n",
    "            else:\n",
    "                print('overlap not found: {}'.format(fn))\n",
    "        else:\n",
    "            print('overlap not found: {}'.format(fn))\n"
   ]
  },
  {
   "cell_type": "code",
   "execution_count": null,
   "id": "4ac6ab3c",
   "metadata": {},
   "outputs": [],
   "source": []
  },
  {
   "cell_type": "code",
   "execution_count": null,
   "id": "1d07a931",
   "metadata": {},
   "outputs": [],
   "source": []
  },
  {
   "cell_type": "code",
   "execution_count": 20,
   "id": "03cdce2a",
   "metadata": {},
   "outputs": [
    {
     "ename": "ValueError",
     "evalue": "No objects to concatenate",
     "output_type": "error",
     "traceback": [
      "\u001b[0;31m---------------------------------------------------------------------------\u001b[0m",
      "\u001b[0;31mValueError\u001b[0m                                Traceback (most recent call last)",
      "Input \u001b[0;32mIn [20]\u001b[0m, in \u001b[0;36m<cell line: 1>\u001b[0;34m()\u001b[0m\n\u001b[0;32m----> 1\u001b[0m pchic_merge_df \u001b[38;5;241m=\u001b[39m \u001b[43mpd\u001b[49m\u001b[38;5;241;43m.\u001b[39;49m\u001b[43mconcat\u001b[49m\u001b[43m(\u001b[49m\u001b[43mpchic_merge_data\u001b[49m\u001b[43m,\u001b[49m\u001b[43m \u001b[49m\u001b[43maxis\u001b[49m\u001b[38;5;241;43m=\u001b[39;49m\u001b[38;5;241;43m0\u001b[39;49m\u001b[43m)\u001b[49m\n\u001b[1;32m      2\u001b[0m pchic_merge_df\u001b[38;5;241m.\u001b[39mcolumns \u001b[38;5;241m=\u001b[39m [\u001b[38;5;124m'\u001b[39m\u001b[38;5;124mhichip_chrA\u001b[39m\u001b[38;5;124m'\u001b[39m, \u001b[38;5;124m'\u001b[39m\u001b[38;5;124mhichip_startA\u001b[39m\u001b[38;5;124m'\u001b[39m, \u001b[38;5;124m'\u001b[39m\u001b[38;5;124mhichip_endA\u001b[39m\u001b[38;5;124m'\u001b[39m,\n\u001b[1;32m      3\u001b[0m                     \u001b[38;5;124m'\u001b[39m\u001b[38;5;124mhichip_chrB\u001b[39m\u001b[38;5;124m'\u001b[39m, \u001b[38;5;124m'\u001b[39m\u001b[38;5;124mhichip_startB\u001b[39m\u001b[38;5;124m'\u001b[39m, \u001b[38;5;124m'\u001b[39m\u001b[38;5;124mhichip_endB\u001b[39m\u001b[38;5;124m'\u001b[39m, \u001b[38;5;124m'\u001b[39m\u001b[38;5;124mhichip_mid\u001b[39m\u001b[38;5;124m'\u001b[39m, \n\u001b[1;32m      4\u001b[0m                     \u001b[38;5;124m'\u001b[39m\u001b[38;5;124mpchic_chrA\u001b[39m\u001b[38;5;124m'\u001b[39m, \u001b[38;5;124m'\u001b[39m\u001b[38;5;124mpchic_startA\u001b[39m\u001b[38;5;124m'\u001b[39m, \u001b[38;5;124m'\u001b[39m\u001b[38;5;124mpchic_endA\u001b[39m\u001b[38;5;124m'\u001b[39m,\n\u001b[1;32m      5\u001b[0m                     \u001b[38;5;124m'\u001b[39m\u001b[38;5;124mpchic_chrB\u001b[39m\u001b[38;5;124m'\u001b[39m, \u001b[38;5;124m'\u001b[39m\u001b[38;5;124mpchic_startB\u001b[39m\u001b[38;5;124m'\u001b[39m, \u001b[38;5;124m'\u001b[39m\u001b[38;5;124mpchic_endB\u001b[39m\u001b[38;5;124m'\u001b[39m, \u001b[38;5;124m'\u001b[39m\u001b[38;5;124mpchic_score\u001b[39m\u001b[38;5;124m'\u001b[39m, \u001b[38;5;124m'\u001b[39m\u001b[38;5;124mpchic_cline\u001b[39m\u001b[38;5;124m'\u001b[39m]\n\u001b[1;32m      6\u001b[0m pchic_merge_df \u001b[38;5;241m=\u001b[39m pchic_merge_df\u001b[38;5;241m.\u001b[39msort_values(\u001b[38;5;124m'\u001b[39m\u001b[38;5;124mpchic_score\u001b[39m\u001b[38;5;124m'\u001b[39m, ascending\u001b[38;5;241m=\u001b[39m\u001b[38;5;28;01mFalse\u001b[39;00m)\n",
      "File \u001b[0;32m~/jreyna/software/mambaforge/envs/hichip-db/lib/python3.9/site-packages/pandas/util/_decorators.py:311\u001b[0m, in \u001b[0;36mwrapper\u001b[0;34m(*args, **kwargs)\u001b[0m\n",
      "File \u001b[0;32m~/jreyna/software/mambaforge/envs/hichip-db/lib/python3.9/site-packages/pandas/core/reshape/concat.py:346\u001b[0m, in \u001b[0;36mconcat\u001b[0;34m(objs, axis, join, ignore_index, keys, levels, names, verify_integrity, sort, copy)\u001b[0m\n",
      "File \u001b[0;32m~/jreyna/software/mambaforge/envs/hichip-db/lib/python3.9/site-packages/pandas/core/reshape/concat.py:403\u001b[0m, in \u001b[0;36m__init__\u001b[0;34m(self, objs, axis, join, keys, levels, names, ignore_index, verify_integrity, copy, sort)\u001b[0m\n",
      "\u001b[0;31mValueError\u001b[0m: No objects to concatenate"
     ]
    }
   ],
   "source": [
    "pchic_merge_df = pd.concat(pchic_merge_data, axis=0)\n",
    "pchic_merge_df.columns = ['hichip_chrA', 'hichip_startA', 'hichip_endA',\n",
    "                    'hichip_chrB', 'hichip_startB', 'hichip_endB', 'hichip_mid', \n",
    "                    'pchic_chrA', 'pchic_startA', 'pchic_endA',\n",
    "                    'pchic_chrB', 'pchic_startB', 'pchic_endB', 'pchic_score', 'pchic_cline']\n",
    "pchic_merge_df = pchic_merge_df.sort_values('pchic_score', ascending=False)\n",
    "pchic_merge_df = pchic_merge_df.drop_duplicates(subset=['hichip_mid'], keep='first')\n",
    "\n",
    "# creating a table of HiChIP ID versus PC-HiC cell versus score (entries) \n",
    "pchic_merge_clean = pchic_merge_df[['hichip_mid', 'pchic_score', 'pchic_cline']]\n",
    "pchic_merge_clean = pchic_merge_clean.pivot(index='hichip_mid', columns='pchic_cline', values='pchic_score')\n",
    "pchic_merge_clean.columns = 'pchic.' + pchic_merge_clean.columns\n",
    "\n",
    "# merging and cleaning the merged dataset \n",
    "coloc = coloc.merge(pchic_merge_clean, left_on='mid', right_on='hichip_mid')\n",
    "coloc.drop('mid', axis=1, inplace=True)\n",
    "\n",
    "# no overlap with gms_merged so manually adding \n",
    "coloc['pchic.monocytes'] = np.nan\n",
    "coloc['pchic.naive-b'] = np.nan\n",
    "coloc['pchic.total-b'] = np.nan\n",
    "coloc['pchic.gms_merged'] = np.nan\n",
    "coloc['pchic.total-cd8'] = np.nan"
   ]
  },
  {
   "cell_type": "code",
   "execution_count": null,
   "id": "e048cddd",
   "metadata": {},
   "outputs": [],
   "source": [
    "# adding column to specify PC-HiC Support\n",
    "pchic_support = []\n",
    "for i, sr in coloc.iterrows():\n",
    "    \n",
    "    pchic_supp = 0 \n",
    "    if sr.cline_loop == 'CD4_T-cell_naive':\n",
    "        if sr['pchic.naive-cd4'] >= 5 or sr['pchic.total-cd4'] >= 5 or sr['pchic.non-activated-total-cd4'] > 5:\n",
    "            pchic_supp = 1 \n",
    "            \n",
    "    elif sr.cline_loop == 'CD8_T-cell_naive':\n",
    "        if sr['pchic.naive-cd8'] >= 5 or sr['pchic.total-cd8'] >= 5:\n",
    "            pchic_supp = 1 \n",
    "            \n",
    "    elif sr.cline_loop == 'monocyte_naive':\n",
    "        if sr['pchic.monocytes'] >= 5:\n",
    "            pchic_supp = 1             \n",
    "            \n",
    "    elif sr.cline_loop == 'B-cell_naive':\n",
    "        if sr['pchic.naive-b'] >= 5 or sr['pchic.total-b'] >= 5 or sr['pchic.gms_merged'] >= 5:\n",
    "            pchic_supp = 1        \n",
    "    \n",
    "    pchic_support.append(pchic_supp)\n",
    "        \n",
    "coloc['pchic_support'] = pchic_support"
   ]
  },
  {
   "cell_type": "code",
   "execution_count": null,
   "id": "be6c5a17",
   "metadata": {},
   "outputs": [],
   "source": [
    "coloc = coloc.merge(genes_df[['gene_id', 'gname']], left_on='geneName', right_on='gene_id')"
   ]
  },
  {
   "cell_type": "code",
   "execution_count": null,
   "id": "b1074006",
   "metadata": {},
   "outputs": [],
   "source": [
    "coloc"
   ]
  },
  {
   "cell_type": "code",
   "execution_count": null,
   "id": "5675578f",
   "metadata": {},
   "outputs": [],
   "source": [
    "coloc_cols = ['chrA_loop', 'startA_loop', 'endA_loop',\n",
    "                'chrB_loop', 'startB_loop', 'endB_loop', \n",
    "                'pos', 'ld_rsID', 'gname', 'gene_id', 'cline_loop', 'sgl_type', 'pchic.monocytes', \n",
    "                'pchic.naive-b', 'pchic.naive-cd4', 'pchic.naive-cd8',\n",
    "                'pchic.non-activated-total-cd4', 'pchic.total-b',\n",
    "                'pchic.total-cd4', 'pchic.total-cd8','pchic_support', 'rs_id']"
   ]
  },
  {
   "cell_type": "code",
   "execution_count": null,
   "id": "2c85d6d6",
   "metadata": {},
   "outputs": [],
   "source": [
    "# coloc_cols = ['chrA', 'startA', 'endA',\n",
    "#                 'chrB', 'startB', 'endB', \n",
    "#                 'pos', 'ld_rsID', 'gname', 'gene_id', 'cline_loop', 'sgl_type', 'pchic.monocytes', \n",
    "#                 'pchic.naive-b', 'pchic.naive-cd4', 'pchic.naive-cd8',\n",
    "#                 'pchic.non-activated-total-cd4', 'pchic.total-b',\n",
    "#                 'pchic.total-cd4', 'pchic.total-cd8','pchic_support', 'rs_id']"
   ]
  },
  {
   "cell_type": "code",
   "execution_count": null,
   "id": "0d3be001",
   "metadata": {},
   "outputs": [],
   "source": [
    "coloc_min = coloc.loc[:, coloc_cols]"
   ]
  },
  {
   "cell_type": "code",
   "execution_count": null,
   "id": "01ea09f2",
   "metadata": {},
   "outputs": [],
   "source": [
    "coloc_min.columns = ['chrA', 'startA', 'endA',\n",
    "                      'chrB', 'startB', 'endB',\n",
    "                      'pos', 'rsid', 'genename', 'geneid', \n",
    "                      'cline', 'sgl_type', 'pchic.monocytes',\n",
    "                      'pchic.naive-b', 'pchic.naive-cd4', 'pchic.naive-cd8',\n",
    "                      'pchic.non-activated-total-cd4', 'pchic.total-b',\n",
    "                      'pchic.total-cd4', 'pchic.total-cd8','pchic_support', 'lead.rs_id']"
   ]
  },
  {
   "cell_type": "code",
   "execution_count": null,
   "id": "2c6b75bb",
   "metadata": {},
   "outputs": [],
   "source": [
    "coloc_min"
   ]
  },
  {
   "cell_type": "markdown",
   "id": "812dc038",
   "metadata": {},
   "source": [
    "#### Finemap Approach"
   ]
  },
  {
   "cell_type": "code",
   "execution_count": null,
   "id": "b2ad3b18",
   "metadata": {},
   "outputs": [],
   "source": [
    "# creating a dictionary which matches \n",
    "# hichip and pc-hic data\n",
    "hichip_pchic_matches = {'monocytes': 'CM',\n",
    "                        'naive-b': 'NB',\n",
    "                        'total-b': 'NB',\n",
    "                        'gms_merged': 'NB', \n",
    "                        'naive-cd4': 'CD4N', \n",
    "                        'total-cd4': 'CD4N', \n",
    "                        'non-activated-total-cd4': 'CD4N',\n",
    "                        'naive-cd8': 'CD8N',\n",
    "                        'total-cd8': 'CD8N'} "
   ]
  },
  {
   "cell_type": "code",
   "execution_count": null,
   "id": "254ba4ef",
   "metadata": {},
   "outputs": [],
   "source": [
    "# getting a list of pc_hic files \n",
    "pc_hics = glob.glob('results/main/pc_hic/2016_javierre/processing/*.bedpe')\n",
    "pc_hics += glob.glob('results/main/pc_hic/2019_jung/processing/*.bedpe')\n",
    "\n",
    "# adding a merge id for post fixing\n",
    "finemap['mid'] = range(finemap.shape[0])\n",
    "\n",
    "# initializing the merge list and column names\n",
    "pchic_merge_data = []\n",
    "pchic_cols = ['chrA', 'startA', 'endA', 'chrB', 'startB', 'endB', 'score', 'pchic_cline']\n",
    "hichip_bedpe_cols = ['chrA_loop', 'startA_loop', 'endA_loop',\n",
    "                    'chrB_loop', 'startB_loop', 'endB_loop', 'mid']\n",
    "for fn in pc_hics:\n",
    "    pchic_cline = os.path.basename(fn).split('.')[0]\n",
    "    if pchic_cline in hichip_pchic_matches: \n",
    "        \n",
    "        # getting hichip data for the current cell line\n",
    "        hichip_cline = hichip_pchic_matches[pchic_cline]\n",
    "        hichip_cline_df = finemap.loc[finemap.cline_loop == hichip_cline, hichip_bedpe_cols]\n",
    "        \n",
    "        # loading pc-hic data for the current cell line\n",
    "        pchic_cline_df = pd.read_table(fn, names=pchic_cols)\n",
    "        #         pchic_cline_df.chrA = pchic_cline_df.chrA.str.replace('chr', '')\n",
    "        #         pchic_cline_df.chrB = pchic_cline_df.chrB.str.replace('chr', '')\n",
    "        \n",
    "        # intersecting hichip and pc-hic bedpes\n",
    "        hichip_cline_pbt = pbt.BedTool.from_dataframe(hichip_cline_df)\n",
    "        pchic_cline_pbt = pbt.BedTool.from_dataframe(pchic_cline_df)\n",
    "        both_loops = hichip_cline_pbt.pairtopair(pchic_cline_pbt)        \n",
    "        both_loops = both_loops.to_dataframe(disable_auto_names=True, header=None).iloc[:, 0:15]\n",
    "        \n",
    "        if both_loops.shape[0] > 0: \n",
    "            pchic_merge_data.append(both_loops)\n",
    "            print('overlap found: {}'.format(fn))\n",
    "        else:\n",
    "            print('overlap not found: {}'.format(fn))\n",
    "        "
   ]
  },
  {
   "cell_type": "code",
   "execution_count": null,
   "id": "4a23d3d4",
   "metadata": {},
   "outputs": [],
   "source": [
    "pchic_merge_df = pd.concat(pchic_merge_data, axis=0)\n",
    "pchic_merge_df.columns = ['hichip_chrA', 'hichip_startA', 'hichip_endA',\n",
    "                    'hichip_chrB', 'hichip_startB', 'hichip_endB', 'hichip_mid', \n",
    "                    'pchic_chrA', 'pchic_startA', 'pchic_endA',\n",
    "                    'pchic_chrB', 'pchic_startB', 'pchic_endB', 'pchic_score', 'pchic_cline']\n",
    "pchic_merge_df = pchic_merge_df.sort_values('pchic_score', ascending=False)\n",
    "pchic_merge_df = pchic_merge_df.drop_duplicates(subset=['hichip_mid'], keep='first')\n",
    "\n",
    "# creating a table of HiChIP ID versus PC-HiC cell versus score (entries) \n",
    "pchic_merge_clean = pchic_merge_df[['hichip_mid', 'pchic_score', 'pchic_cline']]\n",
    "pchic_merge_clean = pchic_merge_clean.pivot(index='hichip_mid', columns='pchic_cline', values='pchic_score')\n",
    "pchic_merge_clean.columns = 'pchic.' + pchic_merge_clean.columns\n",
    "\n",
    "# merging and cleaning the merged dataset \n",
    "finemap = finemap.merge(pchic_merge_clean, left_on='mid', right_on='hichip_mid')\n",
    "finemap.drop('mid', axis=1, inplace=True)\n",
    "\n",
    "# no overlap with gms_merged so manually adding \n",
    "finemap['pchic.gms_merged'] = np.nan"
   ]
  },
  {
   "cell_type": "code",
   "execution_count": null,
   "id": "4c87a756",
   "metadata": {},
   "outputs": [],
   "source": [
    "# adding column to specify PC-HiC Support\n",
    "pchic_support = []\n",
    "for i, sr in finemap.iterrows():\n",
    "    \n",
    "    pchic_supp = 0 \n",
    "    if sr.cline_loop == 'CD4N':\n",
    "        if sr['pchic.naive-cd4'] >= 5 or sr['pchic.total-cd4'] >= 5 or sr['pchic.non-activated-total-cd4'] > 5:\n",
    "            pchic_supp = 1 \n",
    "            \n",
    "    elif sr.cline_loop == 'CD8N':\n",
    "        if sr['pchic.naive-cd8'] >= 5 or sr['pchic.total-cd8'] >= 5:\n",
    "            pchic_supp = 1 \n",
    "            \n",
    "    elif sr.cline_loop == 'CM':\n",
    "        if sr['pchic.monocytes'] >= 5:\n",
    "            pchic_supp = 1             \n",
    "            \n",
    "    elif sr.cline_loop == 'NB':\n",
    "        if sr['pchic.naive-b'] >= 5 or sr['pchic.total-b'] >= 5 or sr['pchic.gms_merged'] >= 5:\n",
    "            pchic_supp = 1        \n",
    "    \n",
    "    pchic_support.append(pchic_supp)\n",
    "        \n",
    "finemap['pchic_support'] = pchic_support"
   ]
  },
  {
   "cell_type": "code",
   "execution_count": null,
   "id": "52f86de6",
   "metadata": {},
   "outputs": [],
   "source": [
    "# generating the hgvs id to query myvariant \n",
    "finemap['hgvs_id'] = finemap['chrA_loop'].astype(str) + \":g.\" + \\\n",
    "                        finemap['pos'].astype(str) + finemap['allele2'] + '>' + finemap['allele1']"
   ]
  },
  {
   "cell_type": "code",
   "execution_count": null,
   "id": "32fc3458",
   "metadata": {},
   "outputs": [],
   "source": [
    "finemap_cols = ['chrA_loop', 'startA_loop', 'endA_loop',\n",
    "                'chrB_loop', 'startB_loop', 'endB_loop', \n",
    "                'pos', 'hgvs_id', 'genename', 'geneid', 'cline_loop', 'sgl_type', 'pchic.monocytes', \n",
    "                'pchic.naive-b', 'pchic.naive-cd4', 'pchic.naive-cd8',\n",
    "                'pchic.non-activated-total-cd4', 'pchic.total-b',\n",
    "                'pchic.total-cd4', 'pchic.total-cd8','pchic_support']"
   ]
  },
  {
   "cell_type": "code",
   "execution_count": null,
   "id": "0ff399e2",
   "metadata": {},
   "outputs": [],
   "source": [
    "finemap_min = finemap[finemap_cols]"
   ]
  },
  {
   "cell_type": "code",
   "execution_count": null,
   "id": "4c0d6497",
   "metadata": {},
   "outputs": [],
   "source": [
    "finemap_min.columns = ['chrA', 'startA', 'endA',\n",
    "                      'chrB', 'startB', 'endB',\n",
    "                      'pos', 'hgvs_id', 'genename', 'geneid', \n",
    "                      'cline', 'sgl_type', 'pchic.monocytes',\n",
    "                      'pchic.naive-b', 'pchic.naive-cd4', 'pchic.naive-cd8',\n",
    "                      'pchic.non-activated-total-cd4', 'pchic.total-b',\n",
    "                      'pchic.total-cd4', 'pchic.total-cd8','pchic_support']"
   ]
  },
  {
   "cell_type": "markdown",
   "id": "fd1bfae3",
   "metadata": {},
   "source": [
    "#### Pieqtl Approach"
   ]
  },
  {
   "cell_type": "code",
   "execution_count": null,
   "id": "f9515b0a",
   "metadata": {},
   "outputs": [],
   "source": [
    "# create locus A columns which require startA and endA\n",
    "def pos_to_bin(pos, res):\n",
    "    start = int(np.floor(pos / res) * res)\n",
    "    end = start + res \n",
    "    return([start, end])\n",
    "\n",
    "lociA = pieqtl['pieQTL.Position'].apply(pos_to_bin, res=5000)\n",
    "lociA = pd.DataFrame(lociA.values.tolist())\n",
    "lociA.columns = ['startA', 'endA']\n",
    "\n",
    "# create locus B columns which require startB and endB\n",
    "def tss_to_bin(tss, res, slop=0):\n",
    "    start = int(np.floor(tss / res) * res)\n",
    "    end = start + res \n",
    "    return([start, end])\n",
    "\n",
    "lociB = pieqtl['TSS'].apply(tss_to_bin, res=5000)\n",
    "lociB = pd.DataFrame(lociB.values.tolist())\n",
    "lociB.columns = ['startB', 'endB']\n",
    "\n",
    "# create locus columns to main intersect df \n",
    "pieqtl = pd.concat([pieqtl, lociA, lociB], axis=1)\n",
    "\n",
    "# creating a dictionary which matches \n",
    "# hichip and pc-hic data\n",
    "hichip_pchic_matches = {'monocytes': 'monocyte_naive',\n",
    "                        'naive-b': 'B-cell_naive',\n",
    "                        'total-b': 'B-cell_naive',\n",
    "                        'gms_merged': 'B-cell_naive', \n",
    "                        'naive-cd4': 'CD4_T-cell_naive', \n",
    "                        'total-cd4': 'CD4_T-cell_naive', \n",
    "                        'non-activated-total-cd4': 'CD4_T-cell_naive',\n",
    "                        'naive-cd8': 'CD8_T-cell_naive',\n",
    "                        'total-cd8': 'CD8_T-cell_naive'} "
   ]
  },
  {
   "cell_type": "code",
   "execution_count": null,
   "id": "1e12e76f",
   "metadata": {},
   "outputs": [],
   "source": [
    "# getting a list of pc_hic files \n",
    "pc_hics = glob.glob('results/main/pc_hic/2016_javierre/processing/*.bedpe')\n",
    "pc_hics += glob.glob('results/main/pc_hic/2019_jung/processing/*.bedpe')\n",
    "\n",
    "# adding a merge id for post fixing\n",
    "pieqtl['mid'] = range(pieqtl.shape[0])\n",
    "\n",
    "# initializing the merge list and column names\n",
    "pchic_merge_data = []\n",
    "pchic_cols = ['chrA', 'startA', 'endA', 'chrB', 'startB', 'endB', 'score', 'pchic_cline']\n",
    "intersect_bedpe_cols = ['CHR', 'startA', 'endA', 'CHR', 'startB', 'endB', 'mid']\n",
    "\n",
    "for fn in pc_hics:\n",
    "    \n",
    "    pchic_cline = os.path.basename(fn).split('.')[0]\n",
    "    if pchic_cline in hichip_pchic_matches: \n",
    "        \n",
    "        # getting pieqtl data for the current cell line\n",
    "        pieqtl_cline = hichip_pchic_matches[pchic_cline]\n",
    "        pieqtl_cline_df = pieqtl.loc[pieqtl.cline == pieqtl_cline, intersect_bedpe_cols]\n",
    "        pieqtl_cline_df.iloc[:, 0] = pieqtl_cline_df.iloc[:, 0].str.replace('chr', '')\n",
    "        pieqtl_cline_df.iloc[:, 3] = pieqtl_cline_df.iloc[:, 0].str.replace('chr', '')\n",
    "        \n",
    "        # loading pc-hic data for the current cell line\n",
    "        pchic_cline_df = pd.read_table(fn, names=pchic_cols)\n",
    "        pchic_cline_df.chrA = pchic_cline_df.chrA.str.replace('chr', '')\n",
    "        pchic_cline_df.chrB = pchic_cline_df.chrB.str.replace('chr', '')\n",
    "        \n",
    "        # intersecting pieqtl and pc-hic bedpes\n",
    "        pieqtl_cline_pbt = pbt.BedTool.from_dataframe(pieqtl_cline_df)\n",
    "        pchic_cline_pbt = pbt.BedTool.from_dataframe(pchic_cline_df)\n",
    "        both_loops = pieqtl_cline_pbt.pairtopair(pchic_cline_pbt)        \n",
    "        both_loops = both_loops.to_dataframe(disable_auto_names=True, header=None).iloc[:, 0:15]\n",
    "        \n",
    "        if both_loops.shape[0] > 0: \n",
    "            pchic_merge_data.append(both_loops)\n",
    "            print('overlap found: {}'.format(fn))\n",
    "        else:\n",
    "            print('overlap not found: {}'.format(fn))\n",
    "        "
   ]
  },
  {
   "cell_type": "code",
   "execution_count": null,
   "id": "3c0a488e",
   "metadata": {},
   "outputs": [],
   "source": [
    "pchic_merge_df = pd.concat(pchic_merge_data, axis=0)\n",
    "pchic_merge_df.columns = ['hichip_chrA', 'hichip_startA', 'hichip_endA',\n",
    "                    'hichip_chrB', 'hichip_startB', 'hichip_endB', 'hichip_mid', \n",
    "                    'pchic_chrA', 'pchic_startA', 'pchic_endA',\n",
    "                    'pchic_chrB', 'pchic_startB', 'pchic_endB', 'pchic_score', 'pchic_cline']\n",
    "pchic_merge_df = pchic_merge_df.sort_values('pchic_score', ascending=False)\n",
    "pchic_merge_df = pchic_merge_df.drop_duplicates(subset=['hichip_mid'], keep='first')\n",
    "\n",
    "# creating a table of HiChIP ID versus PC-HiC cell versus score (entries) \n",
    "pchic_merge_clean = pchic_merge_df[['hichip_mid', 'pchic_score', 'pchic_cline']]\n",
    "pchic_merge_clean = pchic_merge_clean.pivot(index='hichip_mid', columns='pchic_cline', values='pchic_score')\n",
    "pchic_merge_clean.columns = 'pchic.' + pchic_merge_clean.columns\n",
    "\n",
    "# merging and cleaning the merged dataset \n",
    "pieqtl = pieqtl.merge(pchic_merge_clean, left_on='mid', right_on='hichip_mid')\n",
    "pieqtl.drop('mid', axis=1, inplace=True)\n",
    "\n",
    "pchic_support = []\n",
    "for i, sr in pieqtl.iterrows():\n",
    "    \n",
    "    pchic_supp = 0 \n",
    "    if sr.cline == 'CD4_T-cell_naive':\n",
    "        if sr['pchic.naive-cd4'] >= 5 or sr['pchic.total-cd4'] >= 5 or sr['pchic.non-activated-total-cd4'] > 5:\n",
    "            pchic_supp = 1 \n",
    "    elif sr.cline == 'CD8_T-cell_naive':\n",
    "        if sr['pchic.naive-cd8'] >= 5 or sr['pchic.total-cd8'] >= 5:\n",
    "            pchic_supp = 1 \n",
    "    elif sr.cline == 'monocyte_naive':\n",
    "        if sr['pchic.monocytes'] >= 5:\n",
    "            pchic_supp = 1             \n",
    "            \n",
    "    elif sr.cline == 'B-cell_naive':\n",
    "        if sr['pchic.naive-b'] >= 5 or sr['pchic.total-b'] >= 5: #or sr['pchic.gms_merged'] >= 5:\n",
    "            pchic_supp = 1        \n",
    "            \n",
    "    pchic_support.append(pchic_supp)\n",
    "        \n",
    "pieqtl['pchic_support'] = pchic_support"
   ]
  },
  {
   "cell_type": "code",
   "execution_count": null,
   "id": "5d989250",
   "metadata": {},
   "outputs": [],
   "source": [
    "# generating the hgvs id to query myvariant \n",
    "pieqtl['hgvs_id'] = pieqtl['CHR'].astype(str) + \":g.\" + \\\n",
    "                        pieqtl['POS'].astype(str) + pieqtl['ref'] + '>' + pieqtl['alt']"
   ]
  },
  {
   "cell_type": "code",
   "execution_count": null,
   "id": "96a8427e",
   "metadata": {},
   "outputs": [],
   "source": [
    "pieqtl_cols = ['CHR', 'startA', 'endA',\n",
    "               'CHR', 'startB', 'endB',\n",
    "               'POS', 'hgvs_id', 'genename', 'geneid', 'cline', 'sgl_type', 'pchic.monocytes',\n",
    "                'pchic.naive-b', 'pchic.naive-cd4', 'pchic.naive-cd8',\n",
    "                'pchic.non-activated-total-cd4', 'pchic.total-b',\n",
    "                'pchic.total-cd4', 'pchic.total-cd8','pchic_support']"
   ]
  },
  {
   "cell_type": "code",
   "execution_count": null,
   "id": "3de93408",
   "metadata": {},
   "outputs": [],
   "source": [
    "pieqtl_min = pieqtl[pieqtl_cols]"
   ]
  },
  {
   "cell_type": "code",
   "execution_count": null,
   "id": "44b2780e",
   "metadata": {},
   "outputs": [],
   "source": [
    "pieqtl_min.columns = ['chrA', 'startA', 'endA',\n",
    "                      'chrB', 'startB', 'endB',\n",
    "                      'pos', 'hgvs_id', 'genename', 'geneid', \n",
    "                      'cline', 'sgl_type', 'pchic.monocytes',\n",
    "                      'pchic.naive-b', 'pchic.naive-cd4', 'pchic.naive-cd8',\n",
    "                      'pchic.non-activated-total-cd4', 'pchic.total-b',\n",
    "                      'pchic.total-cd4', 'pchic.total-cd8','pchic_support']"
   ]
  },
  {
   "cell_type": "markdown",
   "id": "756eb7e7",
   "metadata": {},
   "source": [
    "## Concating and comparing"
   ]
  },
  {
   "cell_type": "code",
   "execution_count": null,
   "id": "bb76b8a0",
   "metadata": {},
   "outputs": [],
   "source": [
    "genes_fn = 'results/refs/gencode/v30/gencode.v30.annotation.grch37.bed'\n",
    "\n",
    "# load the gencode coords\n",
    "cols = ['chrom', 'start', 'end', 'strand', 'type', 'gene_id', 'gene_name', 'subtype']\n",
    "gencode = pd.read_table(genes_fn, header=None, names=cols)\n",
    "\n",
    "# extract just the genes\n",
    "genes_df = gencode.loc[gencode['type'].isin(['gene'])]\n",
    "genes_df = genes_df.loc[~genes_df.duplicated(subset='gene_id'), :]\n",
    "genes_df.loc[:, 'chrom'] = genes_df['chrom'].astype(str)\n",
    "# genes_df = genes_df.iloc[:, [0,1,2,6,5,3]]"
   ]
  },
  {
   "cell_type": "code",
   "execution_count": null,
   "id": "2f32cb09",
   "metadata": {},
   "outputs": [],
   "source": [
    "# combining finemap nd pieqtls first\n",
    "agg_sgls = pd.concat([finemap_min, pieqtl_min])\n",
    "agg_sgls = agg_sgls.merge(genes_df[['gene_id', 'subtype']], left_on='geneid', right_on='gene_id')"
   ]
  },
  {
   "cell_type": "code",
   "execution_count": null,
   "id": "472456f0",
   "metadata": {},
   "outputs": [],
   "source": [
    "import myvariant\n",
    "\n",
    "# generate a dictionary of hgvs id to rsid\n",
    "mv = myvariant.MyVariantInfo()\n",
    "query = mv.getvariants(agg_sgls.hgvs_id, fields=['dbsnp.rsid'])\n",
    "\n",
    "hgvs_to_rsid = {}\n",
    "for rec in query:\n",
    "    \n",
    "    if 'dbsnp' in rec:\n",
    "        hgvs_to_rsid[rec['query']] = rec['dbsnp']['rsid']\n",
    "    else:\n",
    "        hgvs_to_rsid[rec['query']] = 'Not Found'\n",
    "\n",
    "agg_sgls['rsid'] = agg_sgls['hgvs_id'].replace(hgvs_to_rsid)"
   ]
  },
  {
   "cell_type": "code",
   "execution_count": null,
   "id": "cc34a77e",
   "metadata": {},
   "outputs": [],
   "source": [
    "agg_sgls"
   ]
  },
  {
   "cell_type": "code",
   "execution_count": null,
   "id": "10cd8b8d",
   "metadata": {},
   "outputs": [],
   "source": [
    "# add the colocs \n",
    "agg_sgls.drop('hgvs_id', axis=1, inplace=True)\n",
    "tmp_coloc_min = coloc_min.merge(genes_df[['gene_id', 'subtype']], left_on='geneid', right_on='gene_id')\n",
    "agg_sgls = pd.concat([agg_sgls, tmp_coloc_min])"
   ]
  },
  {
   "cell_type": "code",
   "execution_count": null,
   "id": "283c71e1",
   "metadata": {},
   "outputs": [],
   "source": [
    "agg_gene_grps = agg_sgls.groupby('subtype')"
   ]
  },
  {
   "cell_type": "code",
   "execution_count": null,
   "id": "2b0b40c6",
   "metadata": {},
   "outputs": [],
   "source": [
    "list(agg_gene_grps.groups.keys())"
   ]
  },
  {
   "cell_type": "code",
   "execution_count": null,
   "id": "e651ec75",
   "metadata": {},
   "outputs": [],
   "source": [
    "# creating a dictionary which matches \n",
    "# hichip and pc-hic data\n",
    "dice_to_sgl_names = {'CM': 'monocyte_naive',\n",
    "                        'NB': 'B-cell_naive', \n",
    "                        'CD4N': 'CD4_T-cell_naive',\n",
    "                        'CD8N': 'CD8_T-cell_naive'}"
   ]
  },
  {
   "cell_type": "code",
   "execution_count": null,
   "id": "d2dd8140",
   "metadata": {},
   "outputs": [],
   "source": [
    "agg_sgls.cline = agg_sgls.cline.replace(dice_to_sgl_names)"
   ]
  },
  {
   "cell_type": "markdown",
   "id": "40a19701",
   "metadata": {},
   "source": [
    "## Focusing on protein coding genes"
   ]
  },
  {
   "cell_type": "code",
   "execution_count": null,
   "id": "0373f153",
   "metadata": {},
   "outputs": [],
   "source": [
    "prots_only = agg_gene_grps.get_group('protein_coding')\n",
    "prots_only.sort_values(['geneid', 'cline', 'sgl_type'], inplace=True)"
   ]
  },
  {
   "cell_type": "code",
   "execution_count": null,
   "id": "0be1dd47",
   "metadata": {},
   "outputs": [],
   "source": [
    "sig_prots = prots_only.loc[prots_only.pchic_support == 1]"
   ]
  },
  {
   "cell_type": "code",
   "execution_count": null,
   "id": "a971548b",
   "metadata": {
    "scrolled": false
   },
   "outputs": [],
   "source": [
    "g = sig_prots.groupby(['cline', 'sgl_type'])\n",
    "sgl_count_per_cell = g.genename.value_counts()\n",
    "sgl_count_per_cell = sgl_count_per_cell.to_frame()\n",
    "sgl_count_per_cell.columns = ['sgl_counts']\n",
    "sgl_count_per_cell.reset_index(inplace=True)"
   ]
  },
  {
   "cell_type": "code",
   "execution_count": null,
   "id": "0379a1d0",
   "metadata": {},
   "outputs": [],
   "source": [
    "sgl_count_per_cell.sort_values('sgl_counts', ascending=False)"
   ]
  },
  {
   "cell_type": "code",
   "execution_count": null,
   "id": "e6da90e1",
   "metadata": {},
   "outputs": [],
   "source": [
    "sgl_count_per_cell.genename.nunique()"
   ]
  },
  {
   "cell_type": "markdown",
   "id": "66c20e41",
   "metadata": {},
   "source": [
    "## Intersecting Dice Gene Expression"
   ]
  },
  {
   "cell_type": "code",
   "execution_count": null,
   "id": "408e2357",
   "metadata": {},
   "outputs": [],
   "source": [
    "ge_list = ['results/main/dice_gene_expression/CD4N_TPM.csv', \n",
    "           'results/main/dice_gene_expression/CD8N_TPM.csv', \n",
    "           'results/main/dice_gene_expression/CM_TPM.csv', \n",
    "           'results/main/dice_gene_expression/NB_TPM.csv']"
   ]
  },
  {
   "cell_type": "code",
   "execution_count": null,
   "id": "e4515cbd",
   "metadata": {},
   "outputs": [],
   "source": [
    "dice_expr_list = []\n",
    "for ge_fn in ge_list:\n",
    "    print(ge_fn)\n",
    "\n",
    "    df = pd.read_table(ge_fn, sep=',')\n",
    "    cline = ge_fn.split('/')[-1].split('_')[0]\n",
    "    df['cline'] = dice_to_sgl_names[cline]\n",
    "    \n",
    "    df.drop(['Transcript_Length(bp)', 'Additional_annotations'], axis=1, inplace=True)\n",
    "    df.set_index('Feature_name', inplace=True)\n",
    "    df = df.median(axis=1).to_frame()\n",
    "    df.columns = ['ge.' + dice_to_sgl_names[cline]]\n",
    "    \n",
    "    dice_expr_list.append(df)\n",
    "\n",
    "# concat all of the gene expression data\n",
    "dice_expr = pd.concat(dice_expr_list, axis=1)\n",
    "dice_expr.index = dice_expr.index.str.replace('\\.[A-Za-z0-9_-]*$', '')"
   ]
  },
  {
   "cell_type": "code",
   "execution_count": null,
   "id": "9e93680f",
   "metadata": {},
   "outputs": [],
   "source": [
    "sig_prots = sig_prots.merge(dice_expr, left_on='geneid', right_index=True)"
   ]
  },
  {
   "cell_type": "code",
   "execution_count": null,
   "id": "667264de",
   "metadata": {},
   "outputs": [],
   "source": [
    "# calculating the specfic expression approach\n",
    "ge_cell_specific = []\n",
    "for i, sr in sig_prots.iterrows():\n",
    "    \n",
    "    ge_spec = 0\n",
    "    if sr.cline == 'CD4_T-cell_naive' and sr['ge.CD4_T-cell_naive'] > 8:\n",
    "        ge_spec = 1 \n",
    "        \n",
    "    elif sr.cline == 'CD8_T-cell_naive' and sr['ge.CD8_T-cell_naive'] > 8:\n",
    "        ge_spec = 1 \n",
    "        \n",
    "    elif sr.cline == 'monocyte_naive' and sr['ge.monocyte_naive'] > 8:\n",
    "        ge_spec = 1 \n",
    "        \n",
    "    elif sr.cline == 'B-cell_naive' and sr['ge.B-cell_naive'] > 8:\n",
    "        ge_spec = 1 \n",
    "    \n",
    "    ge_cell_specific.append(ge_spec)\n",
    "        \n",
    "sig_prots['ge_support'] = ge_cell_specific"
   ]
  },
  {
   "cell_type": "code",
   "execution_count": null,
   "id": "77332534",
   "metadata": {},
   "outputs": [],
   "source": [
    "# making a final table\n",
    "expr_sig_prots = sig_prots.loc[sig_prots.ge_support == 1]\n",
    "expr_sig_prots.sort_values(['genename', 'cline'], inplace=True)"
   ]
  },
  {
   "cell_type": "code",
   "execution_count": null,
   "id": "0ac81f00",
   "metadata": {
    "scrolled": false
   },
   "outputs": [],
   "source": [
    "single_reps = expr_sig_prots.drop_duplicates(['genename', 'cline'])\n",
    "pd.set_option('display.max_rows', None)\n",
    "display(single_reps)\n",
    "pd.set_option('display.max_rows', 100)"
   ]
  },
  {
   "cell_type": "markdown",
   "id": "382faa5c",
   "metadata": {},
   "source": [
    "## Comparing this final list to a consensus gene set"
   ]
  },
  {
   "cell_type": "code",
   "execution_count": null,
   "id": "218443e2",
   "metadata": {},
   "outputs": [],
   "source": [
    "consensus_genes = pd.read_table('results/main/gene_lists/consensus_gene_list.txt', squeeze=True)\n",
    "consensus_genes = set(consensus_genes.values.tolist())"
   ]
  },
  {
   "cell_type": "code",
   "execution_count": null,
   "id": "2842b172",
   "metadata": {},
   "outputs": [],
   "source": [
    "consensus_genes"
   ]
  },
  {
   "cell_type": "code",
   "execution_count": null,
   "id": "37c1fdaf",
   "metadata": {},
   "outputs": [],
   "source": [
    "single_reps_genes = set(single_reps.genename.values.tolist())"
   ]
  },
  {
   "cell_type": "code",
   "execution_count": null,
   "id": "53d55d7f",
   "metadata": {},
   "outputs": [],
   "source": [
    "highly_studied_genes = single_reps_genes.intersection(consensus_genes)"
   ]
  },
  {
   "cell_type": "code",
   "execution_count": null,
   "id": "7fd4d25d",
   "metadata": {},
   "outputs": [],
   "source": [
    "highly_studied_genes"
   ]
  },
  {
   "cell_type": "code",
   "execution_count": null,
   "id": "a992d65d",
   "metadata": {},
   "outputs": [],
   "source": [
    "understudied_genes = single_reps_genes.difference(consensus_genes)"
   ]
  },
  {
   "cell_type": "code",
   "execution_count": null,
   "id": "0664af2c",
   "metadata": {},
   "outputs": [],
   "source": [
    "understudied_genes"
   ]
  },
  {
   "cell_type": "markdown",
   "id": "c739af07",
   "metadata": {},
   "source": [
    "#### Investigating lesser studied genes"
   ]
  },
  {
   "cell_type": "code",
   "execution_count": null,
   "id": "f59f222c",
   "metadata": {},
   "outputs": [],
   "source": [
    "understudied_sgl_genes = single_reps.loc[single_reps.genename.isin(understudied_genes)]"
   ]
  },
  {
   "cell_type": "code",
   "execution_count": null,
   "id": "936cfa1e",
   "metadata": {},
   "outputs": [],
   "source": [
    "understudied_sgl_genes_fn = os.path.join(outdir, 'understudied_sgl_genes.tsv')\n",
    "understudied_sgl_genes.to_csv(understudied_sgl_genes_fn, sep='\\t')"
   ]
  },
  {
   "cell_type": "code",
   "execution_count": null,
   "id": "3fccb880",
   "metadata": {},
   "outputs": [],
   "source": [
    "understudied_sgl_genes_fn"
   ]
  },
  {
   "cell_type": "code",
   "execution_count": null,
   "id": "2b3d6a69",
   "metadata": {},
   "outputs": [],
   "source": []
  },
  {
   "cell_type": "markdown",
   "id": "de149971",
   "metadata": {},
   "source": [
    "## Visualizing loops in an SGL only"
   ]
  },
  {
   "cell_type": "code",
   "execution_count": null,
   "id": "9fb33d08",
   "metadata": {},
   "outputs": [],
   "source": [
    "# initializing the merge list and column names\n",
    "pchic_merge_data = []\n",
    "hichip_bedpe_cols = ['chrA_loop', 'startA_loop', 'endA_loop',\n",
    "                    'chrB_loop', 'startB_loop', 'endB_loop', 'mid']\n",
    "for hichip_cline in hichip_clines:\n",
    "        \n",
    "    # getting hichip data for the current cell line\n",
    "    hichip_cline_df = coloc.loc[coloc.cline_loop == hichip_cline, hichip_bedpe_cols]\n",
    "\n",
    "    # intersecting hichip and prioritized SGLS\n",
    "    hichip_cline_pbt = pbt.BedTool.from_dataframe(hichip_cline_df)\n",
    "\n",
    "    both_loops = hichip_cline_pbt.pairtobed(pchic_cline_pbt)       \n",
    "    both_loops = both_loops.to_dataframe(disable_auto_names=True, header=None).iloc[:, 0:15]\n"
   ]
  },
  {
   "cell_type": "code",
   "execution_count": null,
   "id": "d319f9ac",
   "metadata": {},
   "outputs": [],
   "source": []
  },
  {
   "cell_type": "code",
   "execution_count": null,
   "id": "195b0c6a",
   "metadata": {},
   "outputs": [],
   "source": []
  },
  {
   "cell_type": "code",
   "execution_count": 16,
   "id": "8035b3c5",
   "metadata": {},
   "outputs": [],
   "source": [
    "# Saving some simple loops for visualization of examples"
   ]
  },
  {
   "cell_type": "code",
   "execution_count": null,
   "id": "098c70b8",
   "metadata": {},
   "outputs": [],
   "source": []
  },
  {
   "cell_type": "code",
   "execution_count": null,
   "id": "698fd2b3",
   "metadata": {},
   "outputs": [],
   "source": []
  },
  {
   "cell_type": "code",
   "execution_count": null,
   "id": "60d69590",
   "metadata": {},
   "outputs": [],
   "source": []
  },
  {
   "cell_type": "code",
   "execution_count": null,
   "id": "1eba7c61",
   "metadata": {},
   "outputs": [],
   "source": []
  },
  {
   "cell_type": "code",
   "execution_count": null,
   "id": "18e56fee",
   "metadata": {},
   "outputs": [],
   "source": []
  },
  {
   "cell_type": "code",
   "execution_count": null,
   "id": "5c9ef515",
   "metadata": {},
   "outputs": [],
   "source": []
  },
  {
   "cell_type": "code",
   "execution_count": null,
   "id": "854edb6c",
   "metadata": {},
   "outputs": [],
   "source": []
  }
 ],
 "metadata": {
  "kernelspec": {
   "display_name": "HiChIP-DB",
   "language": "python",
   "name": "hichip-db"
  },
  "language_info": {
   "codemirror_mode": {
    "name": "ipython",
    "version": 3
   },
   "file_extension": ".py",
   "mimetype": "text/x-python",
   "name": "python",
   "nbconvert_exporter": "python",
   "pygments_lexer": "ipython3",
   "version": "3.9.10"
  }
 },
 "nbformat": 4,
 "nbformat_minor": 5
}
