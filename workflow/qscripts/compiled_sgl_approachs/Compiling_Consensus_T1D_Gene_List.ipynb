{
 "cells": [
  {
   "cell_type": "code",
   "execution_count": 3,
   "id": "64603581",
   "metadata": {},
   "outputs": [],
   "source": [
    "import os\n",
    "import pandas as pd \n",
    "from itertools import chain\n",
    "pd.set_option('display.max_rows', 1000)"
   ]
  },
  {
   "cell_type": "code",
   "execution_count": 4,
   "id": "a85d869e",
   "metadata": {},
   "outputs": [],
   "source": [
    "os.chdir('/mnt/BioHome/jreyna/jreyna/projects/dchallenge/')"
   ]
  },
  {
   "cell_type": "code",
   "execution_count": 5,
   "id": "4b932175",
   "metadata": {},
   "outputs": [],
   "source": [
    "outdir = 'results/main/gene_lists/'\n",
    "os.makedirs(outdir, exist_ok=True)"
   ]
  },
  {
   "cell_type": "code",
   "execution_count": 6,
   "id": "cd0ad747",
   "metadata": {},
   "outputs": [],
   "source": [
    "# genes from malacards\n",
    "malacards = pd.read_table('results/refs/genecards/2022.MalaCards.T1D.tsv')\n",
    "\n",
    "# genes from a Klak et al 2020\n",
    "# https://www.ncbi.nlm.nih.gov/pmc/articles/PMC7882399/\n",
    "klak_genes = ['PTPN22', 'PHTF1', 'CAMSAP2', 'IL10', 'IFIH1', 'STAT4', 'CTLA4', 'ACOXL',\n",
    "        'EFR3B', 'AFF3', 'CCR5', 'AC080079.1', 'NOL8P1', 'ADAD1', 'IL21', 'IL2',\n",
    "        'LINC02357', 'IL7R', 'CENPW', 'BACH2', 'AL596442.1', 'AL049612.1', 'TNFAIP3', 'SKAP2',\n",
    "        'COBL', 'IKZF1', 'GLIS3', 'NRP1', 'IL2RA', 'RNLS', 'INS', 'BAD',\n",
    "        'ITGB7', 'ERBB3', 'DGKA', 'ZDHHC17', 'SH2B3', 'CD69', 'LMO7', 'GPR183', 'AL163932.1',\n",
    "        'LINC01550', 'ZFP36L1', 'MAGOH3P', 'DLK1', 'CTSH', 'RASGPR1', 'IL27', 'CLEC16A',\n",
    "        'DEXI', 'BCAR1', 'SMARCE1', 'ORMDL3', 'CD226', 'PTPN2', 'FUT2', 'PRKD2', 'TYK2',\n",
    "        'CDC34', 'MADCAM1', 'SIRPG', 'UBASH3A', 'AC002378.1', 'C1QTNF6', 'RAC2', 'TLR7/8', 'GAB3']\n",
    "\n",
    "# genes from the edGAR database \n",
    "# http://edgar.biocomp.unibo.it/cgi-bin/gene_disease_db/main_table.py\n",
    "edgar_genes = ['CAPN10', 'INSR', 'SLC2A4', 'ABCC8', 'CDKAL1', 'DNAJC3', 'ENPP1', 'GCGR',\n",
    "        'GCK', 'GLIS3', 'GPD2', 'HNF1A', 'HNF1A', 'IGF2BP2', 'IL2RA', 'IL6',\n",
    "        'KCNJ11', 'LIPC', 'NEUROD1', 'RETN', 'SLC2A2', 'SLC30A8', 'SUMO4', 'TBC1D4',\n",
    "        'TCF7L2', 'ABCC8', 'ABCC8', 'AKT2', 'HNF1A', 'HNF1B', 'HNF4A', 'INS',\n",
    "        'INS', 'INSR', 'IRS1', 'KCNJ11', 'KCNJ11', 'MAPK8IP1', 'PAX4', 'ZFP57',\n",
    "        'PPP1R3A', 'CAPN10', 'CCR5', 'CTLA4', 'FOXP3', 'GCK', 'HMGA1', 'IRS2',\n",
    "        'ITPR3', 'MTNR1B', 'OAS1', 'PDX1', 'PLAGL1', 'PPARG', 'PTPN1', 'WFS1',\n",
    "        'EIF2AK3', 'INSR', 'PAX4', 'PTPN22']\n",
    "\n",
    "# open target genes \n",
    "# https://platform.opentargets.org/disease/MONDO_0005147/associations\n",
    "open_targets = pd.read_table('results/refs/open_targets/open-targets-genelist - MONDO_0005147-associated-diseases.tsv')\n",
    "open_targets = open_targets.loc[open_targets.overallAssociationScore >= 0.5]\n",
    "\n",
    "#gwas catalog genes\n",
    "# https://www.ebi.ac.uk/gwas/efotraits/MONDO_0005147\n",
    "gwas_t1d = pd.read_csv('results/refs/gwas_catalog/gwas-gene-list - efotraits_MONDO_0005147-associations-2022-05-18.csv')"
   ]
  },
  {
   "cell_type": "code",
   "execution_count": 7,
   "id": "931694f4",
   "metadata": {},
   "outputs": [],
   "source": [
    "gwas_t1d_genes = list(set(chain(*gwas_t1d['Mapped gene'].str.split(', ').tolist())))"
   ]
  },
  {
   "cell_type": "code",
   "execution_count": 8,
   "id": "434af680",
   "metadata": {},
   "outputs": [],
   "source": [
    "studied_t1d_genes = set(malacards.Symbol.tolist() + \\\n",
    "                        klak_genes + edgar_genes + open_targets.symbol.tolist() + gwas_t1d_genes)"
   ]
  },
  {
   "cell_type": "code",
   "execution_count": 9,
   "id": "51ad3d41",
   "metadata": {},
   "outputs": [],
   "source": [
    "consensus_fn = os.path.join(outdir, 'consensus_gene_list.txt')\n",
    "with open(consensus_fn, 'w') as fw:\n",
    "    for x in studied_t1d_genes:\n",
    "        fw.write(x + '\\n')"
   ]
  },
  {
   "cell_type": "code",
   "execution_count": null,
   "id": "f09a4fb9",
   "metadata": {},
   "outputs": [],
   "source": [
    "import tabix\n",
    "\n",
    "# Open a remote or local file.\n",
    "url = 'results/main/gwas/source/T1D_32005708/GRCh37/GCST010681_buildGRCh37.hgvs_id.bed'\n",
    "\n",
    "tb = tabix.open(url)\n",
    "\n",
    "# These queries are identical. A query returns an iterator over the results.\n",
    "records = tb.query(\"1\", 1000000, 1250000)\n",
    "records = tb.queryi(0, 1000000, 1250000)\n",
    "records = tb.querys(\"1:1000000-1250000\")\n",
    "\n",
    "# Each record is a list of strings.\n",
    "for record in records:\n",
    "    print record[:3]"
   ]
  }
 ],
 "metadata": {
  "kernelspec": {
   "display_name": "HiChIP-DB",
   "language": "python",
   "name": "hichip-db"
  },
  "language_info": {
   "codemirror_mode": {
    "name": "ipython",
    "version": 3
   },
   "file_extension": ".py",
   "mimetype": "text/x-python",
   "name": "python",
   "nbconvert_exporter": "python",
   "pygments_lexer": "ipython3",
   "version": "3.9.10"
  }
 },
 "nbformat": 4,
 "nbformat_minor": 5
}
