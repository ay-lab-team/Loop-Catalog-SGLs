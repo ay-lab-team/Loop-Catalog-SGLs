{
 "cells": [
  {
   "cell_type": "code",
   "execution_count": 1,
   "id": "0c7b213c",
   "metadata": {
    "execution": {
     "iopub.execute_input": "2022-07-05T22:46:16.401307Z",
     "iopub.status.busy": "2022-07-05T22:46:16.401052Z",
     "iopub.status.idle": "2022-07-05T22:46:38.767287Z",
     "shell.execute_reply": "2022-07-05T22:46:38.766201Z"
    }
   },
   "outputs": [],
   "source": [
    "import os\n",
    "import pandas as pd \n",
    "os.chdir('/mnt/BioHome/jreyna/jreyna/projects/dchallenge')\n",
    "\n",
    "outdir = 'results/main/pc_hic/2016_javierre/processing/'\n",
    "os.makedirs(outdir, exist_ok=True)"
   ]
  },
  {
   "cell_type": "code",
   "execution_count": 2,
   "id": "2f384279",
   "metadata": {
    "execution": {
     "iopub.execute_input": "2022-07-05T22:46:38.778716Z",
     "iopub.status.busy": "2022-07-05T22:46:38.777121Z",
     "iopub.status.idle": "2022-07-05T22:46:42.646678Z",
     "shell.execute_reply": "2022-07-05T22:46:42.646266Z"
    }
   },
   "outputs": [
    {
     "name": "stderr",
     "output_type": "stream",
     "text": [
      "/mnt/beegfs/jreyna/pbstmp.5039141.herman.hpc.lji.org/ipykernel_21035/2537193064.py:1: DtypeWarning: Columns (0) have mixed types. Specify dtype option on import or set low_memory=False.\n",
      "  loops = pd.read_table('results/main/pc_hic/2016_javierre/data/PCHiC_peak_matrix_cutoff5.tsv')\n"
     ]
    }
   ],
   "source": [
    "loops = pd.read_table('results/main/pc_hic/2016_javierre/data/PCHiC_peak_matrix_cutoff5.tsv')\n",
    "\n",
    "# reformatting dataframe into bedpe format\n",
    "bedpe_reformat_cols = ['baitChr',\n",
    "         'baitStart',\n",
    "         'baitEnd',\n",
    "         'oeChr',\n",
    "         'oeStart',\n",
    "         'oeEnd',\n",
    "         'Mon',\n",
    "         'Mac0',\n",
    "         'Mac1',\n",
    "         'Mac2',\n",
    "         'Neu',\n",
    "         'MK',\n",
    "         'EP',\n",
    "         'Ery',\n",
    "         'FoeT',\n",
    "         'nCD4',\n",
    "         'tCD4',\n",
    "         'aCD4',\n",
    "         'naCD4',\n",
    "         'nCD8',\n",
    "         'tCD8',\n",
    "         'nB',\n",
    "         'tB',\n",
    "         'baitID',\n",
    "         'baitName',\n",
    "         'oeID',\n",
    "         'oeName',\n",
    "         'dist',\n",
    "         'clusterID',\n",
    "         'clusterPostProb']\n",
    "\n",
    "main_bedpe = loops.loc[:, bedpe_reformat_cols]"
   ]
  },
  {
   "cell_type": "code",
   "execution_count": 3,
   "id": "2f1f2e94",
   "metadata": {
    "execution": {
     "iopub.execute_input": "2022-07-05T22:46:42.668896Z",
     "iopub.status.busy": "2022-07-05T22:46:42.667786Z",
     "iopub.status.idle": "2022-07-05T22:46:42.673037Z",
     "shell.execute_reply": "2022-07-05T22:46:42.672611Z"
    }
   },
   "outputs": [],
   "source": [
    "# listing cells within the dataframe\n",
    "cells = ['Mon', 'Mac0', 'Mac1', 'Mac2',\n",
    "             'Neu', 'MK', 'EP', 'Ery',\n",
    "             'FoeT', 'nCD4', 'tCD4', 'aCD4',\n",
    "             'naCD4', 'nCD8', 'tCD8',\n",
    "             'nB', 'tB']\n",
    "\n",
    "# listing the new names from the corresponding cells\n",
    "new_cells = ['monocytes', 'macrophage0', 'macrophage1', 'macrophage2',\n",
    "                'neutrophils', 'megakaryocyte', 'epithelial', 'erythrocyte',\n",
    "                'fetal-thymus', 'naive-cd4', 'total-cd4', 'activated-total-cd4',\n",
    "                'non-activated-total-cd4', 'naive-cd8', 'total-cd8',\n",
    "                'naive-b', 'total-b']\n",
    "\n",
    "# listing bedpe columns with pc-hic columns \n",
    "bedpe_cols = ['baitChr', 'baitStart', 'baitEnd',\n",
    "                 'oeChr', 'oeStart', 'oeEnd']"
   ]
  },
  {
   "cell_type": "code",
   "execution_count": 4,
   "id": "38b3c525",
   "metadata": {
    "execution": {
     "iopub.execute_input": "2022-07-05T22:46:42.676623Z",
     "iopub.status.busy": "2022-07-05T22:46:42.675776Z",
     "iopub.status.idle": "2022-07-05T22:47:50.917784Z",
     "shell.execute_reply": "2022-07-05T22:47:50.916622Z"
    }
   },
   "outputs": [],
   "source": [
    "# save interactions\n",
    "for cell, new_cell in zip(cells, new_cells): \n",
    "    cell_bedpe = main_bedpe.loc[:, bedpe_cols + [cell]]\n",
    "    cell_bedpe.iloc[:, 0] = 'chr' + cell_bedpe.iloc[:, 0].astype(str)\n",
    "    cell_bedpe.iloc[:, 3] = 'chr' + cell_bedpe.iloc[:, 3].astype(str)\n",
    "    bedpe_fn = os.path.join(outdir, '{}.bedpe'.format(new_cell))\n",
    "    cell_bedpe.to_csv(bedpe_fn, sep='\\t', header=False, index=False)"
   ]
  },
  {
   "cell_type": "code",
   "execution_count": null,
   "id": "23a2ab29",
   "metadata": {},
   "outputs": [],
   "source": []
  },
  {
   "cell_type": "code",
   "execution_count": null,
   "id": "f54ee0c7",
   "metadata": {},
   "outputs": [],
   "source": []
  },
  {
   "cell_type": "code",
   "execution_count": null,
   "id": "3f3aba7f",
   "metadata": {},
   "outputs": [],
   "source": []
  },
  {
   "cell_type": "code",
   "execution_count": null,
   "id": "36e6bf42",
   "metadata": {},
   "outputs": [],
   "source": []
  },
  {
   "cell_type": "code",
   "execution_count": null,
   "id": "2ea0e12b",
   "metadata": {},
   "outputs": [],
   "source": []
  }
 ],
 "metadata": {
  "kernelspec": {
   "display_name": "HiChIP-DB",
   "language": "python",
   "name": "hichip-db"
  },
  "language_info": {
   "codemirror_mode": {
    "name": "ipython",
    "version": 3
   },
   "file_extension": ".py",
   "mimetype": "text/x-python",
   "name": "python",
   "nbconvert_exporter": "python",
   "pygments_lexer": "ipython3",
   "version": "3.9.10"
  }
 },
 "nbformat": 4,
 "nbformat_minor": 5
}
