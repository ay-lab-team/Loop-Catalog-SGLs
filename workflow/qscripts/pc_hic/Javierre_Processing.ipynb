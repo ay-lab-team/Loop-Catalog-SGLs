{
 "cells": [
  {
   "cell_type": "code",
   "execution_count": 90,
   "id": "0c7b213c",
   "metadata": {
    "execution": {
     "iopub.execute_input": "2022-07-06T20:59:36.823884Z",
     "iopub.status.busy": "2022-07-06T20:59:36.823334Z",
     "iopub.status.idle": "2022-07-06T20:59:37.699101Z",
     "shell.execute_reply": "2022-07-06T20:59:37.698492Z"
    }
   },
   "outputs": [],
   "source": [
    "import os\n",
    "import pandas as pd \n",
    "import glob\n",
    "import json\n",
    "import subprocess as sp\n",
    "import numpy as np\n",
    "os.chdir('/mnt/BioHome/jreyna/jreyna-temp/projects/dchallenge')\n",
    "\n",
    "outdir = 'results/main/pc_hic/2016_javierre/processing/'\n",
    "os.makedirs(outdir, exist_ok=True)"
   ]
  },
  {
   "cell_type": "markdown",
   "id": "d2066f90",
   "metadata": {},
   "source": [
    "## load the cell name conversion for Javierre et al 2016"
   ]
  },
  {
   "cell_type": "code",
   "execution_count": 54,
   "id": "b243b827",
   "metadata": {},
   "outputs": [],
   "source": [
    "cell_meta = pd.read_table('results/refs/meta/cell_types.dict.tsv')\n",
    "cell_dict = cell_meta.loc[cell_meta.source == 'Javierre et al., 2016']\n",
    "cell_dict = cell_dict[['source-name', 'project-name']]\n",
    "cell_dict.set_index('source-name', inplace=True)\n",
    "cell_dict = cell_dict['project-name'].to_dict()"
   ]
  },
  {
   "cell_type": "code",
   "execution_count": 97,
   "id": "e0608225",
   "metadata": {},
   "outputs": [],
   "source": [
    "# loading the cell colors\n",
    "cell_colors = pd.read_table('results/refs/dice_colors/colors.revised.t1d-project.V2.tsv')\n",
    "cell_colors.set_index('color-name', inplace=True)"
   ]
  },
  {
   "cell_type": "code",
   "execution_count": 98,
   "id": "f0846892",
   "metadata": {},
   "outputs": [
    {
     "data": {
      "text/html": [
       "<div>\n",
       "<style scoped>\n",
       "    .dataframe tbody tr th:only-of-type {\n",
       "        vertical-align: middle;\n",
       "    }\n",
       "\n",
       "    .dataframe tbody tr th {\n",
       "        vertical-align: top;\n",
       "    }\n",
       "\n",
       "    .dataframe thead th {\n",
       "        text-align: right;\n",
       "    }\n",
       "</style>\n",
       "<table border=\"1\" class=\"dataframe\">\n",
       "  <thead>\n",
       "    <tr style=\"text-align: right;\">\n",
       "      <th></th>\n",
       "      <th>dice-name</th>\n",
       "      <th>hex</th>\n",
       "      <th>rgb</th>\n",
       "      <th>full-name</th>\n",
       "    </tr>\n",
       "    <tr>\n",
       "      <th>color-name</th>\n",
       "      <th></th>\n",
       "      <th></th>\n",
       "      <th></th>\n",
       "      <th></th>\n",
       "    </tr>\n",
       "  </thead>\n",
       "  <tbody>\n",
       "    <tr>\n",
       "      <th>monocyte</th>\n",
       "      <td>CM</td>\n",
       "      <td>#B22222</td>\n",
       "      <td>178,34,34</td>\n",
       "      <td>Monocyte</td>\n",
       "    </tr>\n",
       "    <tr>\n",
       "      <th>b-cell</th>\n",
       "      <td>BN</td>\n",
       "      <td>#32CD32</td>\n",
       "      <td>50,205,50</td>\n",
       "      <td>B cell</td>\n",
       "    </tr>\n",
       "    <tr>\n",
       "      <th>cd4t-cell</th>\n",
       "      <td>CD4N</td>\n",
       "      <td>#00BFFF</td>\n",
       "      <td>0,191,255</td>\n",
       "      <td>CD4 T-cell</td>\n",
       "    </tr>\n",
       "    <tr>\n",
       "      <th>cd8t-cell</th>\n",
       "      <td>CD8N</td>\n",
       "      <td>#EE82EE</td>\n",
       "      <td>238,130,238</td>\n",
       "      <td>CD8 T-cells</td>\n",
       "    </tr>\n",
       "    <tr>\n",
       "      <th>nk-cell</th>\n",
       "      <td>NK</td>\n",
       "      <td>#FFD700</td>\n",
       "      <td>255,215,0</td>\n",
       "      <td>NK cell</td>\n",
       "    </tr>\n",
       "  </tbody>\n",
       "</table>\n",
       "</div>"
      ],
      "text/plain": [
       "           dice-name      hex          rgb    full-name\n",
       "color-name                                             \n",
       "monocyte          CM  #B22222    178,34,34     Monocyte\n",
       "b-cell            BN  #32CD32    50,205,50       B cell\n",
       "cd4t-cell       CD4N  #00BFFF    0,191,255   CD4 T-cell\n",
       "cd8t-cell       CD8N  #EE82EE  238,130,238  CD8 T-cells\n",
       "nk-cell           NK  #FFD700    255,215,0      NK cell"
      ]
     },
     "execution_count": 98,
     "metadata": {},
     "output_type": "execute_result"
    }
   ],
   "source": [
    "cell_colors"
   ]
  },
  {
   "cell_type": "markdown",
   "id": "530f2ad5",
   "metadata": {},
   "source": [
    "## Load and extract necessary data"
   ]
  },
  {
   "cell_type": "code",
   "execution_count": 3,
   "id": "2f384279",
   "metadata": {
    "execution": {
     "iopub.execute_input": "2022-07-06T20:59:37.704199Z",
     "iopub.status.busy": "2022-07-06T20:59:37.703006Z",
     "iopub.status.idle": "2022-07-06T20:59:41.584386Z",
     "shell.execute_reply": "2022-07-06T20:59:41.583937Z"
    }
   },
   "outputs": [
    {
     "name": "stderr",
     "output_type": "stream",
     "text": [
      "/tmp/ipykernel_19120/2537193064.py:1: DtypeWarning: Columns (0) have mixed types. Specify dtype option on import or set low_memory=False.\n",
      "  loops = pd.read_table('results/main/pc_hic/2016_javierre/data/PCHiC_peak_matrix_cutoff5.tsv')\n"
     ]
    }
   ],
   "source": [
    "loops = pd.read_table('results/main/pc_hic/2016_javierre/data/PCHiC_peak_matrix_cutoff5.tsv')\n",
    "\n",
    "# reformatting dataframe into bedpe format\n",
    "bedpe_reformat_cols = ['baitChr',\n",
    "         'baitStart',\n",
    "         'baitEnd',\n",
    "         'oeChr',\n",
    "         'oeStart',\n",
    "         'oeEnd',\n",
    "         'Mon',\n",
    "         'Mac0',\n",
    "         'Mac1',\n",
    "         'Mac2',\n",
    "         'Neu',\n",
    "         'MK',\n",
    "         'EP',\n",
    "         'Ery',\n",
    "         'FoeT',\n",
    "         'nCD4',\n",
    "         'tCD4',\n",
    "         'aCD4',\n",
    "         'naCD4',\n",
    "         'nCD8',\n",
    "         'tCD8',\n",
    "         'nB',\n",
    "         'tB',\n",
    "         'baitID',\n",
    "         'baitName',\n",
    "         'oeID',\n",
    "         'oeName',\n",
    "         'dist',\n",
    "         'clusterID',\n",
    "         'clusterPostProb']\n",
    "\n",
    "main_bedpe = loops.loc[:, bedpe_reformat_cols]"
   ]
  },
  {
   "cell_type": "code",
   "execution_count": 4,
   "id": "01f54744",
   "metadata": {},
   "outputs": [],
   "source": [
    "# add chr to the chromosome column names\n",
    "main_bedpe.iloc[:, 0] = 'chr' + main_bedpe.iloc[:, 0].astype(str)\n",
    "main_bedpe.iloc[:, 3] = 'chr' + main_bedpe.iloc[:, 3].astype(str)\n",
    "\n",
    "# add the longrange 4th column\n",
    "main_bedpe['lr-right'] = main_bedpe['oeChr'].astype(str) + ':' + \\\n",
    "                            main_bedpe['oeStart'].astype(str) + '-' + \\\n",
    "                            main_bedpe['oeEnd'].astype(str)"
   ]
  },
  {
   "cell_type": "markdown",
   "id": "f58b8983",
   "metadata": {
    "execution": {
     "iopub.execute_input": "2022-07-06T20:59:41.619507Z",
     "iopub.status.busy": "2022-07-06T20:59:41.618496Z",
     "iopub.status.idle": "2022-07-06T21:00:36.518942Z",
     "shell.execute_reply": "2022-07-06T21:00:36.517985Z"
    }
   },
   "source": [
    "## Save interactions as bedpe"
   ]
  },
  {
   "cell_type": "code",
   "execution_count": 5,
   "id": "2f1f2e94",
   "metadata": {
    "execution": {
     "iopub.execute_input": "2022-07-06T20:59:41.588405Z",
     "iopub.status.busy": "2022-07-06T20:59:41.587533Z",
     "iopub.status.idle": "2022-07-06T20:59:41.615204Z",
     "shell.execute_reply": "2022-07-06T20:59:41.614663Z"
    }
   },
   "outputs": [],
   "source": [
    "# listing bedpe columns with pc-hic columns \n",
    "bedpe_cols = ['baitChr', 'baitStart', 'baitEnd',\n",
    "                 'oeChr', 'oeStart', 'oeEnd']\n",
    "\n",
    "for cell_name, proj_name in cell_dict.items():\n",
    "    if cell_name in main_bedpe.columns:\n",
    "        cell_bedpe = main_bedpe.loc[:, bedpe_cols + [cell_name]]\n",
    "        bedpe_fn = os.path.join(outdir, '{}.bedpe'.format(proj_name))\n",
    "        cell_bedpe.to_csv(bedpe_fn, sep='\\t', header=False, index=False)"
   ]
  },
  {
   "cell_type": "markdown",
   "id": "93e35ccf",
   "metadata": {
    "execution": {
     "iopub.execute_input": "2022-07-06T20:59:41.619507Z",
     "iopub.status.busy": "2022-07-06T20:59:41.618496Z",
     "iopub.status.idle": "2022-07-06T21:00:36.518942Z",
     "shell.execute_reply": "2022-07-06T21:00:36.517985Z"
    }
   },
   "source": [
    "## Save interactions as longrange"
   ]
  },
  {
   "cell_type": "code",
   "execution_count": 6,
   "id": "f54ee0c7",
   "metadata": {},
   "outputs": [],
   "source": [
    "# listing bedpe columns with pc-hic columns \n",
    "longrange_cols = ['baitChr', 'baitStart', 'baitEnd', 'lr-right']\n",
    "\n",
    "for cell_name, proj_name in cell_dict.items():\n",
    "    if cell_name in main_bedpe.columns:\n",
    "\n",
    "        cell_bedpe = main_bedpe.loc[:, longrange_cols + [cell_name]]\n",
    "        cell_bedpe['lr-right'] = cell_bedpe['lr-right'] + ',' + cell_bedpe[cell_name].astype(str)\n",
    "        \n",
    "        bedpe_fn = os.path.join(outdir, '{}.longrange.bed'.format(proj_name))\n",
    "        cell_bedpe.to_csv(bedpe_fn, sep='\\t', header=False, index=False)"
   ]
  },
  {
   "cell_type": "code",
   "execution_count": 34,
   "id": "4cfd8646",
   "metadata": {},
   "outputs": [],
   "source": [
    "# also make an index file for reach longrange file"
   ]
  },
  {
   "cell_type": "code",
   "execution_count": 39,
   "id": "8ade6621",
   "metadata": {},
   "outputs": [],
   "source": [
    "tabix = '/mnt/BioApps/tabix/tabix-0.2.6/tabix'\n",
    "bgzip = '/mnt/BioApps/tabix/tabix-0.2.6/bgzip'"
   ]
  },
  {
   "cell_type": "code",
   "execution_count": 40,
   "id": "3cc0334f",
   "metadata": {},
   "outputs": [
    {
     "name": "stdout",
     "output_type": "stream",
     "text": [
      "b''\n",
      "b''\n",
      "b''\n",
      "b''\n",
      "b''\n",
      "b''\n",
      "b''\n",
      "b''\n",
      "b''\n",
      "b''\n",
      "b''\n",
      "b''\n",
      "b''\n",
      "b''\n",
      "b''\n",
      "b''\n",
      "b''\n",
      "b''\n",
      "b''\n",
      "b''\n",
      "b''\n",
      "b''\n",
      "b''\n",
      "b''\n",
      "b''\n",
      "b''\n",
      "b''\n",
      "b''\n",
      "b''\n",
      "b''\n",
      "b''\n",
      "b''\n",
      "b''\n",
      "b''\n"
     ]
    }
   ],
   "source": [
    "for fn in glob.glob(os.path.join(outdir, '*.longrange.bed')):\n",
    "    \n",
    "    # make a gz file\n",
    "    cmd = '{0} -c {1} > {1}.gz'.format(bgzip, fn)\n",
    "    j = sp.check_output(cmd, shell=True)\n",
    "    print(j)\n",
    "    \n",
    "    # make an index file\n",
    "    cmd = '{0} {1}.gz'.format(tabix, fn)\n",
    "    g = sp.check_output(cmd, shell=True)\n",
    "    print(g)"
   ]
  },
  {
   "cell_type": "markdown",
   "id": "a05fcdfb",
   "metadata": {},
   "source": [
    "## Make a hub for longrange loops"
   ]
  },
  {
   "cell_type": "code",
   "execution_count": 110,
   "id": "1362520f",
   "metadata": {},
   "outputs": [
    {
     "name": "stdout",
     "output_type": "stream",
     "text": [
      "https://informaticsdata.liai.org/bioadhoc-temp/Groups/vd-ay/jreyna/projects/dchallenge/results/main/pc_hic/2016_javierre/processing/neutrophil.longrange.bed.gz\n",
      "source          Javierre et al., 2016\n",
      "source-name                       Neu\n",
      "full-name                  Neutrophil\n",
      "project-name               neutrophil\n",
      "color-name                        NaN\n",
      "Name: 10, dtype: object\n",
      "https://informaticsdata.liai.org/bioadhoc-temp/Groups/vd-ay/jreyna/projects/dchallenge/results/main/pc_hic/2016_javierre/processing/monocyte.longrange.bed.gz\n",
      "source          Javierre et al., 2016\n",
      "source-name                       Mon\n",
      "full-name                    Monocyte\n",
      "project-name                 monocyte\n",
      "color-name                   monocyte\n",
      "Name: 6, dtype: object\n",
      "https://informaticsdata.liai.org/bioadhoc-temp/Groups/vd-ay/jreyna/projects/dchallenge/results/main/pc_hic/2016_javierre/processing/total-b-cell.longrange.bed.gz\n",
      "source          Javierre et al., 2016\n",
      "source-name                        tB\n",
      "full-name                Total B cell\n",
      "project-name             total-b-cell\n",
      "color-name                     b-cell\n",
      "Name: 23, dtype: object\n",
      "https://informaticsdata.liai.org/bioadhoc-temp/Groups/vd-ay/jreyna/projects/dchallenge/results/main/pc_hic/2016_javierre/processing/cd8t-cell.longrange.bed.gz\n",
      "source          Javierre et al., 2016\n",
      "source-name                      nCD8\n",
      "full-name                 CD8+ T-cell\n",
      "project-name                cd8t-cell\n",
      "color-name                  cd8t-cell\n",
      "Name: 20, dtype: object\n",
      "https://informaticsdata.liai.org/bioadhoc-temp/Groups/vd-ay/jreyna/projects/dchallenge/results/main/pc_hic/2016_javierre/processing/erythroblasts.longrange.bed.gz\n",
      "source          Javierre et al., 2016\n",
      "source-name                       Ery\n",
      "full-name               Erythroblasts\n",
      "project-name            erythroblasts\n",
      "color-name                        NaN\n",
      "Name: 13, dtype: object\n",
      "https://informaticsdata.liai.org/bioadhoc-temp/Groups/vd-ay/jreyna/projects/dchallenge/results/main/pc_hic/2016_javierre/processing/megakaryocyte.longrange.bed.gz\n",
      "source          Javierre et al., 2016\n",
      "source-name                        MK\n",
      "full-name               Megakaryocyte\n",
      "project-name            megakaryocyte\n",
      "color-name                        NaN\n",
      "Name: 11, dtype: object\n",
      "https://informaticsdata.liai.org/bioadhoc-temp/Groups/vd-ay/jreyna/projects/dchallenge/results/main/pc_hic/2016_javierre/processing/macrophage-m0.longrange.bed.gz\n",
      "source          Javierre et al., 2016\n",
      "source-name                      Mac0\n",
      "full-name               Macrophage M0\n",
      "project-name            macrophage-m0\n",
      "color-name                        NaN\n",
      "Name: 7, dtype: object\n",
      "https://informaticsdata.liai.org/bioadhoc-temp/Groups/vd-ay/jreyna/projects/dchallenge/results/main/pc_hic/2016_javierre/processing/fetal-thymus.longrange.bed.gz\n",
      "source          Javierre et al., 2016\n",
      "source-name                      FetT\n",
      "full-name                Fetal Thymus\n",
      "project-name             fetal-thymus\n",
      "color-name                        NaN\n",
      "Name: 14, dtype: object\n",
      "https://informaticsdata.liai.org/bioadhoc-temp/Groups/vd-ay/jreyna/projects/dchallenge/results/main/pc_hic/2016_javierre/processing/nonactivated-cd4t-cell.longrange.bed.gz\n",
      "source              Javierre et al., 2016\n",
      "source-name                         naCD4\n",
      "full-name       Non-activated CD4+ T-cell\n",
      "project-name       nonactivated-cd4t-cell\n",
      "color-name                      cd4t-cell\n",
      "Name: 19, dtype: object\n",
      "https://informaticsdata.liai.org/bioadhoc-temp/Groups/vd-ay/jreyna/projects/dchallenge/results/main/pc_hic/2016_javierre/processing/activated-cd4t-cell.longrange.bed.gz\n",
      "source          Javierre et al., 2016\n",
      "source-name                      aCD4\n",
      "full-name       Activated CD4+ T-cell\n",
      "project-name      activated-cd4t-cell\n",
      "color-name                  cd4t-cell\n",
      "Name: 18, dtype: object\n",
      "https://informaticsdata.liai.org/bioadhoc-temp/Groups/vd-ay/jreyna/projects/dchallenge/results/main/pc_hic/2016_javierre/processing/b-cell.longrange.bed.gz\n",
      "source          Javierre et al., 2016\n",
      "source-name                        nB\n",
      "full-name                      B cell\n",
      "project-name                   b-cell\n",
      "color-name                     b-cell\n",
      "Name: 22, dtype: object\n",
      "https://informaticsdata.liai.org/bioadhoc-temp/Groups/vd-ay/jreyna/projects/dchallenge/results/main/pc_hic/2016_javierre/processing/total-cd4t-cell.longrange.bed.gz\n",
      "source          Javierre et al., 2016\n",
      "source-name                      tCD4\n",
      "full-name           Total CD4+ T-cell\n",
      "project-name          total-cd4t-cell\n",
      "color-name                  cd4t-cell\n",
      "Name: 17, dtype: object\n",
      "https://informaticsdata.liai.org/bioadhoc-temp/Groups/vd-ay/jreyna/projects/dchallenge/results/main/pc_hic/2016_javierre/processing/macrophage-m1.longrange.bed.gz\n",
      "source          Javierre et al., 2016\n",
      "source-name                      Mac1\n",
      "full-name               Macrophage M1\n",
      "project-name            macrophage-m1\n",
      "color-name                        NaN\n",
      "Name: 8, dtype: object\n",
      "https://informaticsdata.liai.org/bioadhoc-temp/Groups/vd-ay/jreyna/projects/dchallenge/results/main/pc_hic/2016_javierre/processing/total-cd8t-cell.longrange.bed.gz\n",
      "source          Javierre et al., 2016\n",
      "source-name                      tCD8\n",
      "full-name           Total CD8+ T-cell\n",
      "project-name          total-cd8t-cell\n",
      "color-name                  cd8t-cell\n",
      "Name: 21, dtype: object\n",
      "https://informaticsdata.liai.org/bioadhoc-temp/Groups/vd-ay/jreyna/projects/dchallenge/results/main/pc_hic/2016_javierre/processing/endothelial-precursors.longrange.bed.gz\n",
      "source           Javierre et al., 2016\n",
      "source-name                         EP\n",
      "full-name       Endothelial Precursors\n",
      "project-name    endothelial-precursors\n",
      "color-name                         NaN\n",
      "Name: 12, dtype: object\n",
      "https://informaticsdata.liai.org/bioadhoc-temp/Groups/vd-ay/jreyna/projects/dchallenge/results/main/pc_hic/2016_javierre/processing/cd4t-cell.longrange.bed.gz\n",
      "source          Javierre et al., 2016\n",
      "source-name                      nCD4\n",
      "full-name                 CD4+ T-cell\n",
      "project-name                cd4t-cell\n",
      "color-name                  cd4t-cell\n",
      "Name: 16, dtype: object\n",
      "https://informaticsdata.liai.org/bioadhoc-temp/Groups/vd-ay/jreyna/projects/dchallenge/results/main/pc_hic/2016_javierre/processing/macrophage-m2.longrange.bed.gz\n",
      "source          Javierre et al., 2016\n",
      "source-name                      Mac2\n",
      "full-name               Macrophage M2\n",
      "project-name            macrophage-m2\n",
      "color-name                        NaN\n",
      "Name: 9, dtype: object\n"
     ]
    }
   ],
   "source": [
    "# collect json formatted information\n",
    "url_root = 'https://informaticsdata.liai.org/bioadhoc-temp/Groups/vd-ay/jreyna/projects/dchallenge/results/main/pc_hic/2016_javierre/processing/'\n",
    "hub = []\n",
    "for fn in glob.glob(os.path.join(outdir, '*.longrange.bed.gz')):\n",
    "    \n",
    "    # get basename for url\n",
    "    bn = os.path.basename(fn)\n",
    "    \n",
    "    # create the whole URL\n",
    "    full_url = os.path.join(url_root, bn)                       \n",
    "    print(full_url)\n",
    "    \n",
    "    # get cell name \n",
    "    cell_name = bn.split('.')[0]\n",
    "    \n",
    "    # use cell name to get cell metadata info\n",
    "    cell_info = cell_meta.loc[(cell_meta.source == 'Javierre et al., 2016') & \\\n",
    "                              (cell_meta['project-name'] == cell_name)]\n",
    "    cell_info = cell_info.iloc[0] \n",
    "    \n",
    "    # fill in the JSON details\n",
    "    entry = {}\n",
    "    entry['type'] = 'longrange'\n",
    "    entry['name'] = 'PC HiC Loops for {}'.format(cell_name)\n",
    "    entry['url'] = full_url\n",
    "    \n",
    "    print(cell_info)\n",
    "    \n",
    "    \n",
    "    # add color name if cell has been pre-assigned a color\n",
    "    if str(cell_info['color-name']) == 'nan': # starting with nan cases\n",
    "        entry['showOnHubLoad'] = False\n",
    "        entry['options'] = {'ensembleStyle': True, 'height': 100, 'displayMode': 'arc'}\n",
    "    else:\n",
    "        entry['showOnHubLoad'] = True\n",
    "        color = cell_colors.loc[cell_info['color-name'], 'hex']\n",
    "        entry['options'] = {'ensembleStyle': True, 'height': 100, 'displayMode': 'arc', 'color': color}\n",
    "\n",
    "    hub.append(entry)"
   ]
  },
  {
   "cell_type": "code",
   "execution_count": 111,
   "id": "3d80e4c3",
   "metadata": {},
   "outputs": [],
   "source": [
    "## save the hub\n",
    "hub_fn = os.path.join(outdir, 'hub.config.txt')\n",
    "with open(hub_fn, 'w') as fw:\n",
    "    s = json.dumps(hub,  indent=True)\n",
    "    fw.write(s) "
   ]
  },
  {
   "cell_type": "code",
   "execution_count": 112,
   "id": "5f1bcce6",
   "metadata": {},
   "outputs": [],
   "source": [
    "hub_link = os.path.join(url_root, os.path.basename(hub_fn))"
   ]
  },
  {
   "cell_type": "code",
   "execution_count": 113,
   "id": "a92419de",
   "metadata": {},
   "outputs": [
    {
     "name": "stdout",
     "output_type": "stream",
     "text": [
      "https://informaticsdata.liai.org/bioadhoc-temp/Groups/vd-ay/jreyna/projects/dchallenge/results/main/pc_hic/2016_javierre/processing/hub.config.txt\n"
     ]
    }
   ],
   "source": [
    "print(hub_link)"
   ]
  },
  {
   "cell_type": "code",
   "execution_count": null,
   "id": "d95e3f30",
   "metadata": {},
   "outputs": [],
   "source": []
  },
  {
   "cell_type": "code",
   "execution_count": null,
   "id": "d7104843",
   "metadata": {},
   "outputs": [],
   "source": []
  },
  {
   "cell_type": "code",
   "execution_count": null,
   "id": "686c9f6a",
   "metadata": {},
   "outputs": [],
   "source": []
  },
  {
   "cell_type": "code",
   "execution_count": null,
   "id": "2ea0e12b",
   "metadata": {},
   "outputs": [],
   "source": []
  }
 ],
 "metadata": {
  "kernelspec": {
   "display_name": "HiChIP-DB",
   "language": "python",
   "name": "hichip-db"
  },
  "language_info": {
   "codemirror_mode": {
    "name": "ipython",
    "version": 3
   },
   "file_extension": ".py",
   "mimetype": "text/x-python",
   "name": "python",
   "nbconvert_exporter": "python",
   "pygments_lexer": "ipython3",
   "version": "3.9.10"
  }
 },
 "nbformat": 4,
 "nbformat_minor": 5
}
