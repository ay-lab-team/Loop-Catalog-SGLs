{
 "cells": [
  {
   "cell_type": "code",
   "execution_count": 1,
   "id": "3658c6c6",
   "metadata": {
    "execution": {
     "iopub.execute_input": "2022-07-05T22:41:19.175670Z",
     "iopub.status.busy": "2022-07-05T22:41:19.175046Z",
     "iopub.status.idle": "2022-07-05T22:41:20.660972Z",
     "shell.execute_reply": "2022-07-05T22:41:20.659320Z"
    }
   },
   "outputs": [],
   "source": [
    "import os\n",
    "import pandas as pd \n",
    "os.chdir('/mnt/BioHome/jreyna/jreyna/projects/dchallenge')\n",
    "\n",
    "outdir = 'results/main/pc_hic/2019_jung/processing/'\n",
    "os.makedirs(outdir, exist_ok=True)"
   ]
  },
  {
   "cell_type": "code",
   "execution_count": 2,
   "id": "7ec72946",
   "metadata": {
    "execution": {
     "iopub.execute_input": "2022-07-05T22:41:20.671054Z",
     "iopub.status.busy": "2022-07-05T22:41:20.668605Z",
     "iopub.status.idle": "2022-07-05T22:41:20.677634Z",
     "shell.execute_reply": "2022-07-05T22:41:20.676457Z"
    }
   },
   "outputs": [],
   "source": [
    "# listing cells within the dataframe\n",
    "cells = ['GM', 'PA', 'TH1']\n",
    "\n",
    "# listing the new names from the corresponding cells\n",
    "new_cells = ['gms_merged', 'pancreas', 'thymus']"
   ]
  },
  {
   "cell_type": "code",
   "execution_count": 3,
   "id": "a351f9a1",
   "metadata": {
    "execution": {
     "iopub.execute_input": "2022-07-05T22:41:20.683966Z",
     "iopub.status.busy": "2022-07-05T22:41:20.682307Z",
     "iopub.status.idle": "2022-07-05T22:43:47.577481Z",
     "shell.execute_reply": "2022-07-05T22:43:47.576523Z"
    }
   },
   "outputs": [],
   "source": [
    "for cell, new_cell in zip(cells, new_cells):\n",
    "    \n",
    "    # load loops\n",
    "    loops = pd.read_table('results/main/pc_hic/2019_jung/{}.combined.txt'.format(cell))\n",
    "    #loops = pd.read_table('results/main/pc_hic/2019_jung/{}.combined.txt'.format(cell), nrows=10000)\n",
    "    #loops = loops.loc[loops['-log10(result)'] > 5]\n",
    "\n",
    "    # get left anchor\n",
    "    chr1_data = loops['frag1'].str.split('[:-]')\n",
    "    chr1_data = pd.DataFrame(chr1_data.values.tolist())\n",
    "\n",
    "    # get right anchor\n",
    "    chr2_data = loops['frag2'].str.split('[:-]')\n",
    "    chr2_data = pd.DataFrame(chr2_data.values.tolist())\n",
    "    \n",
    "    # combine all the data\n",
    "    result_score = loops.loc[:, ['-log10(result)']].reset_index(drop=True)\n",
    "    new_loop_data = pd.concat([chr1_data, chr2_data, result_score], axis=1)\n",
    "    \n",
    "    # save the data \n",
    "    bedpe_fn = os.path.join(outdir, '{}.bedpe'.format(new_cell))\n",
    "    new_loop_data.to_csv(bedpe_fn, sep='\\t', header=False, index=False)"
   ]
  },
  {
   "cell_type": "code",
   "execution_count": null,
   "id": "bf88ce82",
   "metadata": {},
   "outputs": [],
   "source": []
  },
  {
   "cell_type": "code",
   "execution_count": null,
   "id": "e521a7eb",
   "metadata": {},
   "outputs": [],
   "source": []
  },
  {
   "cell_type": "code",
   "execution_count": null,
   "id": "fd609885",
   "metadata": {},
   "outputs": [],
   "source": []
  },
  {
   "cell_type": "code",
   "execution_count": null,
   "id": "8a0fa7cf",
   "metadata": {},
   "outputs": [],
   "source": []
  },
  {
   "cell_type": "code",
   "execution_count": null,
   "id": "b3e3ed51",
   "metadata": {},
   "outputs": [],
   "source": []
  },
  {
   "cell_type": "code",
   "execution_count": null,
   "id": "bde7f1e8",
   "metadata": {},
   "outputs": [],
   "source": []
  },
  {
   "cell_type": "code",
   "execution_count": null,
   "id": "5d93251d",
   "metadata": {},
   "outputs": [],
   "source": []
  },
  {
   "cell_type": "code",
   "execution_count": null,
   "id": "c5565a92",
   "metadata": {},
   "outputs": [],
   "source": []
  },
  {
   "cell_type": "code",
   "execution_count": null,
   "id": "f2ab1831",
   "metadata": {},
   "outputs": [],
   "source": []
  }
 ],
 "metadata": {
  "kernelspec": {
   "display_name": "HiC",
   "language": "python",
   "name": "hic_tls"
  },
  "language_info": {
   "codemirror_mode": {
    "name": "ipython",
    "version": 3
   },
   "file_extension": ".py",
   "mimetype": "text/x-python",
   "name": "python",
   "nbconvert_exporter": "python",
   "pygments_lexer": "ipython3",
   "version": "3.6.7"
  }
 },
 "nbformat": 4,
 "nbformat_minor": 5
}
