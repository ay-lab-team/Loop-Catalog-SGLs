{
 "cells": [
  {
   "cell_type": "code",
   "execution_count": 1,
   "id": "c5fcf266",
   "metadata": {},
   "outputs": [],
   "source": [
    "import os \n",
    "import json\n",
    "import glob\n",
    "import gzip\n",
    "import pandas as pd \n",
    "\n",
    "outdir = 'results/main/hubs/gwas_hub/'\n",
    "link_path = 'https://informaticsdata.liai.org/BioAdHoc/Groups/vd-ay/jreyna/projects/dchallenge/results/main/hubs/gwas_hub/'\n",
    "os.makedirs(outdir, exist_ok=True)\n",
    "\n",
    "os.chdir('/mnt/BioHome/jreyna/jreyna/projects/dchallenge/')"
   ]
  },
  {
   "cell_type": "markdown",
   "id": "9f4ef2c2",
   "metadata": {},
   "source": [
    "## Get all WashU Files"
   ]
  },
  {
   "cell_type": "code",
   "execution_count": 2,
   "id": "2311c874",
   "metadata": {},
   "outputs": [],
   "source": [
    "# setting template names\n",
    "gwas_tpl = 'results/main/gwas/source/*/GRCh37/GWAS_input_colocalization_pval_lt_5eMinus8.track.refbed.bed.gz'"
   ]
  },
  {
   "cell_type": "code",
   "execution_count": 3,
   "id": "e1ce9f65",
   "metadata": {},
   "outputs": [],
   "source": [
    "gwas_data = []\n",
    "for gwas in glob.glob(gwas_tpl.format(gwas_source='*')):\n",
    "        \n",
    "    run_info = gwas.split('/')\n",
    "    gwas_source = run_info[4]    \n",
    "    gwas_data.append([gwas_source, gwas])\n",
    "    \n",
    "gwas_df = pd.DataFrame(gwas_data)\n",
    "gwas_df.columns = ['gwas_source', 'file']"
   ]
  },
  {
   "cell_type": "markdown",
   "id": "01010a8c",
   "metadata": {},
   "source": [
    "## Get GWAS Meta Data"
   ]
  },
  {
   "cell_type": "code",
   "execution_count": 4,
   "id": "f8af17ce",
   "metadata": {},
   "outputs": [
    {
     "data": {
      "text/html": [
       "<div>\n",
       "<style scoped>\n",
       "    .dataframe tbody tr th:only-of-type {\n",
       "        vertical-align: middle;\n",
       "    }\n",
       "\n",
       "    .dataframe tbody tr th {\n",
       "        vertical-align: top;\n",
       "    }\n",
       "\n",
       "    .dataframe thead th {\n",
       "        text-align: right;\n",
       "    }\n",
       "</style>\n",
       "<table border=\"1\" class=\"dataframe\">\n",
       "  <thead>\n",
       "    <tr style=\"text-align: right;\">\n",
       "      <th></th>\n",
       "      <th>authorship</th>\n",
       "      <th>link</th>\n",
       "    </tr>\n",
       "    <tr>\n",
       "      <th>gwas_id</th>\n",
       "      <th></th>\n",
       "      <th></th>\n",
       "    </tr>\n",
       "  </thead>\n",
       "  <tbody>\n",
       "    <tr>\n",
       "      <th>T1D_34012112_Gaulton</th>\n",
       "      <td>Chiou et al., 2021</td>\n",
       "      <td>https://www.ebi.ac.uk/gwas/publications/34012112</td>\n",
       "    </tr>\n",
       "    <tr>\n",
       "      <th>T1D_34594039_GCST90018925</th>\n",
       "      <td>Sakaue et al., 2021</td>\n",
       "      <td>https://www.ebi.ac.uk/gwas/publications/34594039</td>\n",
       "    </tr>\n",
       "    <tr>\n",
       "      <th>T1D_32005708</th>\n",
       "      <td>Forgetta et al., 2020</td>\n",
       "      <td>https://www.ebi.ac.uk/gwas/publications/32005708</td>\n",
       "    </tr>\n",
       "    <tr>\n",
       "      <th>T1D_25751624</th>\n",
       "      <td>Onengut-Gumuscu et al., 2015</td>\n",
       "      <td>https://www.ebi.ac.uk/gwas/publications/25751624</td>\n",
       "    </tr>\n",
       "  </tbody>\n",
       "</table>\n",
       "</div>"
      ],
      "text/plain": [
       "                                             authorship  \\\n",
       "gwas_id                                                   \n",
       "T1D_34012112_Gaulton                 Chiou et al., 2021   \n",
       "T1D_34594039_GCST90018925           Sakaue et al., 2021   \n",
       "T1D_32005708                      Forgetta et al., 2020   \n",
       "T1D_25751624               Onengut-Gumuscu et al., 2015   \n",
       "\n",
       "                                                                        link  \n",
       "gwas_id                                                                       \n",
       "T1D_34012112_Gaulton        https://www.ebi.ac.uk/gwas/publications/34012112  \n",
       "T1D_34594039_GCST90018925  https://www.ebi.ac.uk/gwas/publications/34594039   \n",
       "T1D_32005708                https://www.ebi.ac.uk/gwas/publications/32005708  \n",
       "T1D_25751624               https://www.ebi.ac.uk/gwas/publications/25751624   "
      ]
     },
     "execution_count": 4,
     "metadata": {},
     "output_type": "execute_result"
    }
   ],
   "source": [
    "gwas_meta = pd.read_table('config/gwas_samplesheets/gwas.samplesheet.tsv')\n",
    "gwas_meta.set_index('gwas_id', inplace=True)\n",
    "gwas_meta"
   ]
  },
  {
   "cell_type": "markdown",
   "id": "f3380136",
   "metadata": {},
   "source": [
    "## Making the Hub"
   ]
  },
  {
   "cell_type": "markdown",
   "id": "ce09b613",
   "metadata": {},
   "source": [
    "### Creating a Remote Hub"
   ]
  },
  {
   "cell_type": "code",
   "execution_count": 5,
   "id": "6ac465a7",
   "metadata": {},
   "outputs": [],
   "source": [
    "def create_remote_washu_refbed_dict(name, url):\n",
    "    d = {'type': 'refbed',\n",
    "         'showOnHubLoad': True,\n",
    "         'name': name,\n",
    "         'url': url,\n",
    "         'options': {'ensemblStyle': True,\n",
    "                     'height': 100,\n",
    "                     'displayMode': 'auto',\n",
    "                     'categoryColors': {\n",
    "                        'Sig': 'rgb(255,0,0)',\n",
    "                        'Not Sig.': 'rgb(0,0,255)'}}}\n",
    "    return(d)"
   ]
  },
  {
   "cell_type": "code",
   "execution_count": 6,
   "id": "1954f223",
   "metadata": {},
   "outputs": [
    {
     "name": "stdout",
     "output_type": "stream",
     "text": [
      "results/main/gwas/source/T1D_34012112_Gaulton/GRCh37/GWAS_input_colocalization_pval_lt_5eMinus8.track.refbed.bed.gz\n",
      "new_path: results/main/hubs/gwas_hub/T1D_34012112_Gaulton.GWAS_input_colocalization_pval_lt_5eMinus8.track.refbed.bed.gz\n",
      "\n",
      "results/main/gwas/source/T1D_25751624/GRCh37/GWAS_input_colocalization_pval_lt_5eMinus8.track.refbed.bed.gz\n",
      "new_path: results/main/hubs/gwas_hub/T1D_25751624.GWAS_input_colocalization_pval_lt_5eMinus8.track.refbed.bed.gz\n",
      "\n",
      "results/main/gwas/source/T1D_32005708/GRCh37/GWAS_input_colocalization_pval_lt_5eMinus8.track.refbed.bed.gz\n",
      "new_path: results/main/hubs/gwas_hub/T1D_32005708.GWAS_input_colocalization_pval_lt_5eMinus8.track.refbed.bed.gz\n",
      "\n",
      "results/main/gwas/source/T1D_34594039_GCST90018925/GRCh37/GWAS_input_colocalization_pval_lt_5eMinus8.track.refbed.bed.gz\n",
      "new_path: results/main/hubs/gwas_hub/T1D_34594039_GCST90018925.GWAS_input_colocalization_pval_lt_5eMinus8.track.refbed.bed.gz\n",
      "\n"
     ]
    }
   ],
   "source": [
    "json_files = []\n",
    "\n",
    "for i, sr in gwas_df.iterrows():\n",
    "    \n",
    "    print(sr.file)\n",
    "    \n",
    "    basename = os.path.basename(sr.file)\n",
    "    \n",
    "    old_path = sr.file\n",
    "    old_index_path = sr.file + '.tbi'\n",
    "    \n",
    "    new_basename = '{}.{}'.format(sr.gwas_source, basename)\n",
    "    new_path = os.path.join(outdir, new_basename)\n",
    "    new_index_path = new_path + '.tbi'\n",
    "    \n",
    "    if os.path.exists(old_path) and os.path.exists(old_index_path):\n",
    "        if not os.path.exists(new_path) and not os.path.exists(new_index_path):\n",
    "                \n",
    "            os.link(old_path, new_path)\n",
    "            os.link(old_index_path, new_index_path)\n",
    "\n",
    "        # add the file to the json hub config\n",
    "        authorship = gwas_meta.loc[sr.gwas_source, 'authorship']\n",
    "        name = 'GWAS SNPs (Sigs Only) - {}'.format(authorship)\n",
    "        url = os.path.join(link_path, new_basename)\n",
    "        d = create_remote_washu_refbed_dict(name, url)\n",
    "        json_files.append(d)"
   ]
  },
  {
   "cell_type": "code",
   "execution_count": 7,
   "id": "f1b7734c",
   "metadata": {},
   "outputs": [],
   "source": [
    "hub_path = os.path.join(outdir, 'hub.config.json')\n",
    "with open(hub_path, 'w') as fw:\n",
    "    print(json.dumps(json_files, indent='\\t'), file=fw)"
   ]
  }
 ],
 "metadata": {
  "kernelspec": {
   "display_name": "HiChIP-DB",
   "language": "python",
   "name": "hichip-db"
  },
  "language_info": {
   "codemirror_mode": {
    "name": "ipython",
    "version": 3
   },
   "file_extension": ".py",
   "mimetype": "text/x-python",
   "name": "python",
   "nbconvert_exporter": "python",
   "pygments_lexer": "ipython3",
   "version": "3.9.10"
  }
 },
 "nbformat": 4,
 "nbformat_minor": 5
}
