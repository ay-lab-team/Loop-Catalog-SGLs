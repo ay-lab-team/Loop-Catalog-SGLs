{
 "cells": [
  {
   "cell_type": "code",
   "execution_count": 62,
   "id": "c5fcf266",
   "metadata": {},
   "outputs": [],
   "source": [
    "import os \n",
    "import json\n",
    "import glob\n",
    "import gzip\n",
    "import pandas as pd \n",
    "\n",
    "outdir = 'results/main/hubs/coloc_hub/'\n",
    "link_path = 'https://informaticsdata.liai.org/BioAdHoc/Groups/vd-ay/jreyna/projects/dchallenge/results/main/hubs/coloc_hub/'\n",
    "\n",
    "os.makedirs(outdir, exist_ok=True)"
   ]
  },
  {
   "cell_type": "code",
   "execution_count": 63,
   "id": "fe414526",
   "metadata": {},
   "outputs": [],
   "source": [
    "os.chdir('/mnt/BioHome/jreyna/jreyna/projects/dchallenge/')"
   ]
  },
  {
   "cell_type": "code",
   "execution_count": 64,
   "id": "2311c874",
   "metadata": {},
   "outputs": [],
   "source": [
    "# setting template names\n",
    "coloc_tpl = 'results/main/GRCh37/coloc/Results/*/*/*/*/FINAL_Summary_Coloc_Gene_SNP_Pairs.longrange.bed.gz'"
   ]
  },
  {
   "cell_type": "markdown",
   "id": "9f4ef2c2",
   "metadata": {},
   "source": [
    "## Getting all WashU Files"
   ]
  },
  {
   "cell_type": "markdown",
   "id": "667e2f5d",
   "metadata": {},
   "source": [
    "#### Coloc Files"
   ]
  },
  {
   "cell_type": "code",
   "execution_count": 65,
   "id": "e1ce9f65",
   "metadata": {},
   "outputs": [],
   "source": [
    "coloc_data = []\n",
    "for coloc in glob.glob(coloc_tpl):\n",
    "    \n",
    "    run_info = coloc.split('/')\n",
    "    gwas_source = run_info[6]\n",
    "    eqtl_source = run_info[7]\n",
    "    ge_source = run_info[8]   \n",
    "    if eqtl_source == 'ImmuNexUT':\n",
    "        eqtl_db = 'ImmuNexUT'\n",
    "    else:\n",
    "        eqtl_db = 'eQTL_Catalogue'    \n",
    "    \n",
    "    coloc_data.append([gwas_source, eqtl_db, eqtl_source, ge_source, coloc])\n",
    "coloc_df = pd.DataFrame(coloc_data)\n",
    "coloc_df.columns = ['gwas_source', 'eqtl_db', 'eqtl_source', 'ge_source', 'file']"
   ]
  },
  {
   "cell_type": "code",
   "execution_count": 66,
   "id": "0a37f0ab",
   "metadata": {},
   "outputs": [
    {
     "data": {
      "text/plain": [
       "(165, 5)"
      ]
     },
     "execution_count": 66,
     "metadata": {},
     "output_type": "execute_result"
    }
   ],
   "source": [
    "coloc_df.shape"
   ]
  },
  {
   "cell_type": "markdown",
   "id": "f3380136",
   "metadata": {},
   "source": [
    "## Making the Hub"
   ]
  },
  {
   "cell_type": "code",
   "execution_count": 67,
   "id": "f90657b0",
   "metadata": {},
   "outputs": [],
   "source": [
    "def create_washu_longrange_dict(name, file):\n",
    "    d = {\"type\": \"longrange\",\n",
    "         \"showOnHubLoad\": True,\n",
    "         \"name\": name,\n",
    "         \"filename\": file,\n",
    "         \"options\": {\"displayMode\": \"arc\"}}\n",
    "    return(d)\n",
    "\n",
    "def create_washu_bed_dict(name, file):\n",
    "    d = {\"type\": \"bed\",\n",
    "         \"showOnHubLoad\": True,\n",
    "         \"name\": name,\n",
    "         \"filename\": file}\n",
    "    return(d)\n",
    "\n",
    "def create_washu_vcf_dict(name, file):\n",
    "    d = {\"type\": \"vcf\",\n",
    "         \"showOnHubLoad\": True,\n",
    "         \"name\": name,\n",
    "         \"filename\": file}\n",
    "    return(d)\n",
    "\n",
    "def create_washu_geneAnnotation_dict(name, file):\n",
    "    d = {\"type\": \"refbed\",\n",
    "         \"showOnHubLoad\": True,\n",
    "         \"name\": name,\n",
    "         \"filename\": file}\n",
    "    return(d)\n",
    "\n"
   ]
  },
  {
   "cell_type": "code",
   "execution_count": 68,
   "id": "af5101f8",
   "metadata": {},
   "outputs": [],
   "source": [
    "def create_remote_washu_longrange_dict(name, url):\n",
    "    d = {'type': 'longrange',\n",
    "         'showOnHubLoad': True,\n",
    "         'name': name,\n",
    "         'url': url,\n",
    "         'options': {'ensemblStyle': True, 'height': 100, 'displayMode': 'arc'}}\n",
    "    return(d)\n",
    "\n",
    "def create_remote_washu_refbed_dict(name, url):\n",
    "    d = {'type': 'refbed',\n",
    "         'showOnHubLoad': True,\n",
    "         'name': name,\n",
    "         'url': url,\n",
    "         'options': {'ensemblStyle': True,\n",
    "                     'height': 100,\n",
    "                     'displayMode': 'auto',\n",
    "                     'categoryColors': {\n",
    "                        'Left': 'rgb(255,0,0)',\n",
    "                        'Right': 'rgb(0,0,255)',\n",
    "                        'Middle': 'rgb(255,0,0)'}}}\n",
    "    return(d)"
   ]
  },
  {
   "cell_type": "markdown",
   "id": "f8a4212f",
   "metadata": {},
   "source": [
    "## Make Hub For SNP-Gene Pair Arcs"
   ]
  },
  {
   "cell_type": "code",
   "execution_count": 69,
   "id": "54f3fde3",
   "metadata": {},
   "outputs": [],
   "source": [
    "def zcount(filename):\n",
    "    with gzip.open(filename) as f:\n",
    "        return(len(f.readlines()))"
   ]
  },
  {
   "cell_type": "code",
   "execution_count": 70,
   "id": "56cd5258",
   "metadata": {},
   "outputs": [],
   "source": [
    "json_files = []\n",
    "curr_outdir = os.path.join(outdir, 'snp_gene_pairs')\n",
    "os.makedirs(curr_outdir, exist_ok=True)\n",
    "\n",
    "curr_linkpath = os.path.join(link_path, 'snp_gene_pairs')\n",
    "\n",
    "for i, sr in coloc_df.iterrows():\n",
    "\n",
    "    #print(sr.gwas_source, sr.eqtl_db, sr.eqtl_source, sr.ge_source)\n",
    "                \n",
    "    # get coloc files (ready)\n",
    "    new_basename = 'colocs.{}.{}.{}.{}.longrange.bed.gz'.format(sr. gwas_source, sr.eqtl_db,\n",
    "                                                      sr.eqtl_source, sr.ge_source)\n",
    "    new_path = os.path.join(curr_outdir, new_basename)\n",
    "\n",
    "    # hard link over the file\n",
    "    old_path = sr.file\n",
    "\n",
    "    num_lines = zcount(sr.file)\n",
    "    if num_lines == 0:\n",
    "        continue\n",
    "\n",
    "    old_index_path = sr.file + '.tbi'\n",
    "    new_path = os.path.join(curr_outdir, new_basename)\n",
    "    new_index_path = new_path + '.tbi'\n",
    "\n",
    "    if os.path.exists(old_path) and os.path.exists(old_index_path):\n",
    "\n",
    "        if not os.path.exists(new_path) and not os.path.exists(new_index_path):\n",
    "\n",
    "            os.link(old_path, new_path)\n",
    "            os.link(old_index_path, new_index_path)\n",
    "\n",
    "        # add the file to the json hub config\n",
    "        url = os.path.join(curr_linkpath, new_basename)\n",
    "\n",
    "        d = create_remote_washu_longrange_dict(new_basename, url)\n",
    "        json_files.append(d)\n",
    "                \n",
    "hub_path = os.path.join(curr_outdir, 'hub.config.json')\n",
    "with open(hub_path, 'w') as fw:\n",
    "    print(json.dumps(json_files, indent='\\t'), file=fw)"
   ]
  },
  {
   "cell_type": "markdown",
   "id": "c0c4e3cb",
   "metadata": {},
   "source": [
    "## Make Hub For SNP-Gene Pair Flat Representations"
   ]
  },
  {
   "cell_type": "code",
   "execution_count": 77,
   "id": "616eb93c",
   "metadata": {},
   "outputs": [],
   "source": [
    "# setting template names\n",
    "coloc_tpl = 'results/main/GRCh37/coloc/Results/*/*/*/*/FINAL_Summary_Coloc_Gene_SNP_Pairs.gene_sorted.with_gene_meta.bed.gz'"
   ]
  },
  {
   "cell_type": "code",
   "execution_count": 78,
   "id": "84c553dc",
   "metadata": {},
   "outputs": [],
   "source": [
    "coloc_data = []\n",
    "for coloc in glob.glob(coloc_tpl):\n",
    "    \n",
    "    run_info = coloc.split('/')\n",
    "    gwas_source = run_info[6]\n",
    "    eqtl_source = run_info[7]\n",
    "    ge_source = run_info[8]   \n",
    "    if eqtl_source == 'ImmuNexUT':\n",
    "        eqtl_db = 'ImmuNexUT'\n",
    "    else:\n",
    "        eqtl_db = 'eQTL_Catalogue'    \n",
    "    \n",
    "    coloc_data.append([gwas_source, eqtl_db, eqtl_source, ge_source, coloc])\n",
    "        \n",
    "coloc_df = pd.DataFrame(coloc_data)\n",
    "coloc_df.columns = ['gwas_source', 'eqtl_db', 'eqtl_source', 'ge_source', 'file']"
   ]
  },
  {
   "cell_type": "code",
   "execution_count": 79,
   "id": "a2958ace",
   "metadata": {},
   "outputs": [
    {
     "data": {
      "text/html": [
       "<div>\n",
       "<style scoped>\n",
       "    .dataframe tbody tr th:only-of-type {\n",
       "        vertical-align: middle;\n",
       "    }\n",
       "\n",
       "    .dataframe tbody tr th {\n",
       "        vertical-align: top;\n",
       "    }\n",
       "\n",
       "    .dataframe thead th {\n",
       "        text-align: right;\n",
       "    }\n",
       "</style>\n",
       "<table border=\"1\" class=\"dataframe\">\n",
       "  <thead>\n",
       "    <tr style=\"text-align: right;\">\n",
       "      <th></th>\n",
       "      <th>gwas_source</th>\n",
       "      <th>eqtl_db</th>\n",
       "      <th>eqtl_source</th>\n",
       "      <th>ge_source</th>\n",
       "      <th>file</th>\n",
       "    </tr>\n",
       "  </thead>\n",
       "  <tbody>\n",
       "    <tr>\n",
       "      <th>0</th>\n",
       "      <td>T1D_34012112_Gaulton</td>\n",
       "      <td>eQTL_Catalogue</td>\n",
       "      <td>BLUEPRINT</td>\n",
       "      <td>T-cell</td>\n",
       "      <td>results/main/GRCh37/coloc/Results/eQTL_Catalog...</td>\n",
       "    </tr>\n",
       "    <tr>\n",
       "      <th>1</th>\n",
       "      <td>T1D_34012112_Gaulton</td>\n",
       "      <td>eQTL_Catalogue</td>\n",
       "      <td>BLUEPRINT</td>\n",
       "      <td>neutrophil</td>\n",
       "      <td>results/main/GRCh37/coloc/Results/eQTL_Catalog...</td>\n",
       "    </tr>\n",
       "    <tr>\n",
       "      <th>2</th>\n",
       "      <td>T1D_34012112_Gaulton</td>\n",
       "      <td>eQTL_Catalogue</td>\n",
       "      <td>Quach_2016</td>\n",
       "      <td>monocyte_R848</td>\n",
       "      <td>results/main/GRCh37/coloc/Results/eQTL_Catalog...</td>\n",
       "    </tr>\n",
       "    <tr>\n",
       "      <th>3</th>\n",
       "      <td>T1D_34012112_Gaulton</td>\n",
       "      <td>eQTL_Catalogue</td>\n",
       "      <td>Quach_2016</td>\n",
       "      <td>monocyte_Pam3CSK4</td>\n",
       "      <td>results/main/GRCh37/coloc/Results/eQTL_Catalog...</td>\n",
       "    </tr>\n",
       "    <tr>\n",
       "      <th>4</th>\n",
       "      <td>T1D_34012112_Gaulton</td>\n",
       "      <td>eQTL_Catalogue</td>\n",
       "      <td>van_de_Bunt_2015</td>\n",
       "      <td>pancreatic_islet</td>\n",
       "      <td>results/main/GRCh37/coloc/Results/eQTL_Catalog...</td>\n",
       "    </tr>\n",
       "    <tr>\n",
       "      <th>...</th>\n",
       "      <td>...</td>\n",
       "      <td>...</td>\n",
       "      <td>...</td>\n",
       "      <td>...</td>\n",
       "      <td>...</td>\n",
       "    </tr>\n",
       "    <tr>\n",
       "      <th>160</th>\n",
       "      <td>T1D_25751624</td>\n",
       "      <td>ImmuNexUT</td>\n",
       "      <td>ImmuNexUT</td>\n",
       "      <td>NC_Mono</td>\n",
       "      <td>results/main/GRCh37/coloc/Results/ImmuNexUT/T1...</td>\n",
       "    </tr>\n",
       "    <tr>\n",
       "      <th>161</th>\n",
       "      <td>T1D_25751624</td>\n",
       "      <td>ImmuNexUT</td>\n",
       "      <td>ImmuNexUT</td>\n",
       "      <td>CD16p_Mono</td>\n",
       "      <td>results/main/GRCh37/coloc/Results/ImmuNexUT/T1...</td>\n",
       "    </tr>\n",
       "    <tr>\n",
       "      <th>162</th>\n",
       "      <td>T1D_25751624</td>\n",
       "      <td>ImmuNexUT</td>\n",
       "      <td>ImmuNexUT</td>\n",
       "      <td>CM_CD8</td>\n",
       "      <td>results/main/GRCh37/coloc/Results/ImmuNexUT/T1...</td>\n",
       "    </tr>\n",
       "    <tr>\n",
       "      <th>163</th>\n",
       "      <td>T1D_25751624</td>\n",
       "      <td>ImmuNexUT</td>\n",
       "      <td>ImmuNexUT</td>\n",
       "      <td>Plasmablast</td>\n",
       "      <td>results/main/GRCh37/coloc/Results/ImmuNexUT/T1...</td>\n",
       "    </tr>\n",
       "    <tr>\n",
       "      <th>164</th>\n",
       "      <td>T1D_25751624</td>\n",
       "      <td>ImmuNexUT</td>\n",
       "      <td>ImmuNexUT</td>\n",
       "      <td>SM_B</td>\n",
       "      <td>results/main/GRCh37/coloc/Results/ImmuNexUT/T1...</td>\n",
       "    </tr>\n",
       "  </tbody>\n",
       "</table>\n",
       "<p>165 rows × 5 columns</p>\n",
       "</div>"
      ],
      "text/plain": [
       "              gwas_source         eqtl_db       eqtl_source  \\\n",
       "0    T1D_34012112_Gaulton  eQTL_Catalogue         BLUEPRINT   \n",
       "1    T1D_34012112_Gaulton  eQTL_Catalogue         BLUEPRINT   \n",
       "2    T1D_34012112_Gaulton  eQTL_Catalogue        Quach_2016   \n",
       "3    T1D_34012112_Gaulton  eQTL_Catalogue        Quach_2016   \n",
       "4    T1D_34012112_Gaulton  eQTL_Catalogue  van_de_Bunt_2015   \n",
       "..                    ...             ...               ...   \n",
       "160          T1D_25751624       ImmuNexUT         ImmuNexUT   \n",
       "161          T1D_25751624       ImmuNexUT         ImmuNexUT   \n",
       "162          T1D_25751624       ImmuNexUT         ImmuNexUT   \n",
       "163          T1D_25751624       ImmuNexUT         ImmuNexUT   \n",
       "164          T1D_25751624       ImmuNexUT         ImmuNexUT   \n",
       "\n",
       "             ge_source                                               file  \n",
       "0               T-cell  results/main/GRCh37/coloc/Results/eQTL_Catalog...  \n",
       "1           neutrophil  results/main/GRCh37/coloc/Results/eQTL_Catalog...  \n",
       "2        monocyte_R848  results/main/GRCh37/coloc/Results/eQTL_Catalog...  \n",
       "3    monocyte_Pam3CSK4  results/main/GRCh37/coloc/Results/eQTL_Catalog...  \n",
       "4     pancreatic_islet  results/main/GRCh37/coloc/Results/eQTL_Catalog...  \n",
       "..                 ...                                                ...  \n",
       "160            NC_Mono  results/main/GRCh37/coloc/Results/ImmuNexUT/T1...  \n",
       "161         CD16p_Mono  results/main/GRCh37/coloc/Results/ImmuNexUT/T1...  \n",
       "162             CM_CD8  results/main/GRCh37/coloc/Results/ImmuNexUT/T1...  \n",
       "163        Plasmablast  results/main/GRCh37/coloc/Results/ImmuNexUT/T1...  \n",
       "164               SM_B  results/main/GRCh37/coloc/Results/ImmuNexUT/T1...  \n",
       "\n",
       "[165 rows x 5 columns]"
      ]
     },
     "execution_count": 79,
     "metadata": {},
     "output_type": "execute_result"
    }
   ],
   "source": [
    "coloc_df"
   ]
  },
  {
   "cell_type": "code",
   "execution_count": 80,
   "id": "7487634d",
   "metadata": {},
   "outputs": [],
   "source": [
    "json_files = []\n",
    "curr_outdir = os.path.join(outdir, 'snp_gene_pairs_flat')\n",
    "os.makedirs(curr_outdir, exist_ok=True)\n",
    "\n",
    "curr_linkpath = os.path.join(link_path, 'snp_gene_pairs_flat')\n",
    "\n",
    "for i, sr in coloc_df.iterrows():\n",
    "\n",
    "    #print(sr.gwas_source, sr.eqtl_db, sr.eqtl_source, sr.ge_source)\n",
    "                \n",
    "    # get coloc files (ready)\n",
    "    new_basename = 'colocs.{}.{}.{}.{}.refbed.bed.gz'.format(sr. gwas_source, sr.eqtl_db,\n",
    "                                                      sr.eqtl_source, sr.ge_source)\n",
    "    new_path = os.path.join(curr_outdir, new_basename)\n",
    "\n",
    "    # hard link over the file\n",
    "    old_path = sr.file\n",
    "\n",
    "    num_lines = zcount(sr.file)\n",
    "    if num_lines == 0:\n",
    "        continue\n",
    "\n",
    "    old_index_path = sr.file + '.tbi'\n",
    "    new_path = os.path.join(curr_outdir, new_basename)\n",
    "    new_index_path = new_path + '.tbi'\n",
    "\n",
    "    if os.path.exists(old_path) and os.path.exists(old_index_path):\n",
    "\n",
    "        if not os.path.exists(new_path) and not os.path.exists(new_index_path):\n",
    "\n",
    "            os.link(old_path, new_path)\n",
    "            os.link(old_index_path, new_index_path)\n",
    "\n",
    "        # add the file to the json hub config\n",
    "        url = os.path.join(curr_linkpath, new_basename)\n",
    "\n",
    "        d = create_remote_washu_refbed_dict(new_basename, url)\n",
    "        json_files.append(d)\n",
    "                \n",
    "hub_path = os.path.join(curr_outdir, 'hub.config.json')\n",
    "with open(hub_path, 'w') as fw:\n",
    "    print(json.dumps(json_files, indent='\\t'), file=fw)"
   ]
  },
  {
   "cell_type": "code",
   "execution_count": null,
   "id": "10866ea2",
   "metadata": {},
   "outputs": [],
   "source": []
  },
  {
   "cell_type": "code",
   "execution_count": null,
   "id": "4bf55cca",
   "metadata": {},
   "outputs": [],
   "source": []
  },
  {
   "cell_type": "code",
   "execution_count": null,
   "id": "b33e6b05",
   "metadata": {},
   "outputs": [],
   "source": []
  },
  {
   "cell_type": "code",
   "execution_count": null,
   "id": "5b2edddc",
   "metadata": {},
   "outputs": [],
   "source": []
  },
  {
   "cell_type": "code",
   "execution_count": null,
   "id": "23644784",
   "metadata": {},
   "outputs": [],
   "source": []
  },
  {
   "cell_type": "code",
   "execution_count": null,
   "id": "318db0aa",
   "metadata": {},
   "outputs": [],
   "source": []
  },
  {
   "cell_type": "code",
   "execution_count": null,
   "id": "02b229aa",
   "metadata": {},
   "outputs": [],
   "source": []
  },
  {
   "cell_type": "code",
   "execution_count": null,
   "id": "7c1c60c3",
   "metadata": {},
   "outputs": [],
   "source": []
  }
 ],
 "metadata": {
  "kernelspec": {
   "display_name": "HiChIP-DB",
   "language": "python",
   "name": "hichip-db"
  },
  "language_info": {
   "codemirror_mode": {
    "name": "ipython",
    "version": 3
   },
   "file_extension": ".py",
   "mimetype": "text/x-python",
   "name": "python",
   "nbconvert_exporter": "python",
   "pygments_lexer": "ipython3",
   "version": "3.9.10"
  }
 },
 "nbformat": 4,
 "nbformat_minor": 5
}
