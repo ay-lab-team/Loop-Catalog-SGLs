{
 "cells": [
  {
   "cell_type": "code",
   "execution_count": 1,
   "id": "64603581",
   "metadata": {},
   "outputs": [],
   "source": [
    "import os\n",
    "import pandas as pd \n",
    "import matplotlib.pyplot as plt\n",
    "from matplotlib_venn import venn2, venn3, venn3_circles"
   ]
  },
  {
   "cell_type": "code",
   "execution_count": 2,
   "id": "ac795e4e",
   "metadata": {},
   "outputs": [],
   "source": [
    "cell_dict = {'B-cell_naive': 'NB',\n",
    "                'NK-cell_naive': 'NK',\n",
    "                'monocyte_naive': 'CM', \n",
    "                'CD4_T-cell_naive': 'CD4N',\n",
    "                'CD8_T-cell_naive': 'CD8N'}"
   ]
  },
  {
   "cell_type": "code",
   "execution_count": 3,
   "id": "a85d869e",
   "metadata": {},
   "outputs": [],
   "source": [
    "os.chdir('/mnt/BioHome/jreyna/jreyna/projects/dchallenge/')"
   ]
  },
  {
   "cell_type": "code",
   "execution_count": 4,
   "id": "4b932175",
   "metadata": {},
   "outputs": [],
   "source": [
    "outdir = 'results/notebooks/gene_list_comparison/v2/'\n",
    "os.makedirs(outdir, exist_ok=True)"
   ]
  },
  {
   "cell_type": "code",
   "execution_count": 5,
   "id": "7e927db4",
   "metadata": {},
   "outputs": [],
   "source": [
    "finemap_dir = 'results/main/Intersect_T1D_Finemap_GWAS_SNPs_with_HiChIP/'\n",
    "coloc_dir = 'results/notebooks/colocalization_with_eqtl_catalogue/'\n",
    "pieqtl_dir = 'results/notebooks/Intersect_PieQTLs_with_T1D_Significant_GWAS_SNPs/'"
   ]
  },
  {
   "cell_type": "markdown",
   "id": "fb8f5b35",
   "metadata": {},
   "source": [
    "### Loading the GENCODE"
   ]
  },
  {
   "cell_type": "code",
   "execution_count": 6,
   "id": "c889b514",
   "metadata": {},
   "outputs": [],
   "source": [
    "gencode = pd.read_table('results/refs/gencode/v30/gencode.v30.annotation.bed', header=None)\n",
    "gencode = gencode.iloc[:, [5,6]]\n",
    "gencode.set_index(6, inplace=True)\n",
    "gencode = gencode.squeeze()\n",
    "gencode = gencode.to_dict()\n",
    "gencode.update({v:k for k,v in gencode.items()})"
   ]
  },
  {
   "cell_type": "markdown",
   "id": "a1bf16da",
   "metadata": {},
   "source": [
    "### Loading the data"
   ]
  },
  {
   "cell_type": "code",
   "execution_count": 7,
   "id": "eff5da6d",
   "metadata": {},
   "outputs": [],
   "source": [
    "join_fn = os.path.join(outdir, 'Unique_Genes_And_SNPs.xlsx')\n",
    "writer = pd.ExcelWriter(join_fn, engine='xlsxwriter')"
   ]
  },
  {
   "cell_type": "code",
   "execution_count": 33,
   "id": "4941f068",
   "metadata": {},
   "outputs": [],
   "source": [
    "# finemapping\n",
    "finemap_summary = os.path.join(finemap_dir, 'Unique_Counts_By_Cell_Line.xlsx')\n",
    "finemap_summary = pd.read_excel(finemap_summary)\n",
    "finemap_summary.columns = ['Cell Line', 'SNPs', 'Genes']\n",
    "finemap_summary.sort_values(['Cell Line'], inplace=True)\n",
    "\n",
    "# colocalization \n",
    "coloc_summary = os.path.join(coloc_dir, 'Unique_Counts_By_Cell_Line.xlsx')\n",
    "coloc_summary = pd.read_excel(coloc_summary)\n",
    "coloc_summary.columns = ['Cell Line', 'SNPs', 'Genes']\n",
    "coloc_summary.loc[:, 'Cell Line'] = coloc_summary.loc[:, 'Cell Line'].map(cell_dict)\n",
    "\n",
    "# pieqtls\n",
    "pieqtls_summary = os.path.join(pieqtl_dir, 'Unique_Counts_By_Cell_Line.xlsx')\n",
    "# 'results/notebooks/Intersect_PieQTLs_with_T1D_Significant_GWAS_SNPs/Unique_Counts_By_Cell_Line.xlsx'\n",
    "pieqtls_summary = pd.read_excel(pieqtls_summary)\n",
    "pieqtls_summary.columns = ['Cell Line', 'SNPs', 'Genes']\n",
    "pieqtls_summary.loc[:, 'Cell Line'] = pieqtls_summary.loc[:, 'Cell Line'].map(cell_dict)"
   ]
  },
  {
   "cell_type": "code",
   "execution_count": 34,
   "id": "b2b93290",
   "metadata": {},
   "outputs": [],
   "source": [
    "finemap_summary.to_excel(writer, index=False, sheet_name='finemapping')\n",
    "coloc_summary.to_excel(writer, index=False, sheet_name='colocalization')\n",
    "pieqtls_summary.to_excel(writer, index=False, sheet_name='pieqtls')"
   ]
  },
  {
   "cell_type": "code",
   "execution_count": 35,
   "id": "ff5b0080",
   "metadata": {},
   "outputs": [
    {
     "name": "stderr",
     "output_type": "stream",
     "text": [
      "/mnt/BioHome/jreyna/software/anaconda3/hichip-db/lib/python3.10/site-packages/xlsxwriter/workbook.py:339: UserWarning: Calling close() on already closed file.\n",
      "  warn(\"Calling close() on already closed file.\")\n"
     ]
    }
   ],
   "source": [
    "writer.save()"
   ]
  },
  {
   "cell_type": "code",
   "execution_count": 36,
   "id": "f4dd18a8",
   "metadata": {},
   "outputs": [
    {
     "data": {
      "text/html": [
       "<div>\n",
       "<style scoped>\n",
       "    .dataframe tbody tr th:only-of-type {\n",
       "        vertical-align: middle;\n",
       "    }\n",
       "\n",
       "    .dataframe tbody tr th {\n",
       "        vertical-align: top;\n",
       "    }\n",
       "\n",
       "    .dataframe thead th {\n",
       "        text-align: right;\n",
       "    }\n",
       "</style>\n",
       "<table border=\"1\" class=\"dataframe\">\n",
       "  <thead>\n",
       "    <tr style=\"text-align: right;\">\n",
       "      <th></th>\n",
       "      <th>Cell Line</th>\n",
       "      <th>SNPs</th>\n",
       "      <th>Genes</th>\n",
       "    </tr>\n",
       "  </thead>\n",
       "  <tbody>\n",
       "    <tr>\n",
       "      <th>0</th>\n",
       "      <td>CD4N</td>\n",
       "      <td>41</td>\n",
       "      <td>65</td>\n",
       "    </tr>\n",
       "    <tr>\n",
       "      <th>1</th>\n",
       "      <td>CD8N</td>\n",
       "      <td>29</td>\n",
       "      <td>40</td>\n",
       "    </tr>\n",
       "    <tr>\n",
       "      <th>2</th>\n",
       "      <td>CM</td>\n",
       "      <td>30</td>\n",
       "      <td>35</td>\n",
       "    </tr>\n",
       "    <tr>\n",
       "      <th>3</th>\n",
       "      <td>NB</td>\n",
       "      <td>37</td>\n",
       "      <td>62</td>\n",
       "    </tr>\n",
       "    <tr>\n",
       "      <th>4</th>\n",
       "      <td>NK</td>\n",
       "      <td>51</td>\n",
       "      <td>68</td>\n",
       "    </tr>\n",
       "  </tbody>\n",
       "</table>\n",
       "</div>"
      ],
      "text/plain": [
       "  Cell Line  SNPs  Genes\n",
       "0      CD4N    41     65\n",
       "1      CD8N    29     40\n",
       "2        CM    30     35\n",
       "3        NB    37     62\n",
       "4        NK    51     68"
      ]
     },
     "execution_count": 36,
     "metadata": {},
     "output_type": "execute_result"
    }
   ],
   "source": [
    "finemap_summary"
   ]
  },
  {
   "cell_type": "code",
   "execution_count": 37,
   "id": "05b4b934",
   "metadata": {},
   "outputs": [
    {
     "data": {
      "text/html": [
       "<div>\n",
       "<style scoped>\n",
       "    .dataframe tbody tr th:only-of-type {\n",
       "        vertical-align: middle;\n",
       "    }\n",
       "\n",
       "    .dataframe tbody tr th {\n",
       "        vertical-align: top;\n",
       "    }\n",
       "\n",
       "    .dataframe thead th {\n",
       "        text-align: right;\n",
       "    }\n",
       "</style>\n",
       "<table border=\"1\" class=\"dataframe\">\n",
       "  <thead>\n",
       "    <tr style=\"text-align: right;\">\n",
       "      <th></th>\n",
       "      <th>Cell Line</th>\n",
       "      <th>SNPs</th>\n",
       "      <th>Genes</th>\n",
       "    </tr>\n",
       "  </thead>\n",
       "  <tbody>\n",
       "    <tr>\n",
       "      <th>0</th>\n",
       "      <td>NB</td>\n",
       "      <td>3</td>\n",
       "      <td>3</td>\n",
       "    </tr>\n",
       "    <tr>\n",
       "      <th>1</th>\n",
       "      <td>CD4N</td>\n",
       "      <td>1</td>\n",
       "      <td>1</td>\n",
       "    </tr>\n",
       "    <tr>\n",
       "      <th>2</th>\n",
       "      <td>CD8N</td>\n",
       "      <td>2</td>\n",
       "      <td>2</td>\n",
       "    </tr>\n",
       "    <tr>\n",
       "      <th>3</th>\n",
       "      <td>NK</td>\n",
       "      <td>3</td>\n",
       "      <td>3</td>\n",
       "    </tr>\n",
       "    <tr>\n",
       "      <th>4</th>\n",
       "      <td>CM</td>\n",
       "      <td>2</td>\n",
       "      <td>2</td>\n",
       "    </tr>\n",
       "  </tbody>\n",
       "</table>\n",
       "</div>"
      ],
      "text/plain": [
       "  Cell Line  SNPs  Genes\n",
       "0        NB     3      3\n",
       "1      CD4N     1      1\n",
       "2      CD8N     2      2\n",
       "3        NK     3      3\n",
       "4        CM     2      2"
      ]
     },
     "execution_count": 37,
     "metadata": {},
     "output_type": "execute_result"
    }
   ],
   "source": [
    "coloc_summary"
   ]
  },
  {
   "cell_type": "code",
   "execution_count": 38,
   "id": "177d2880",
   "metadata": {},
   "outputs": [
    {
     "data": {
      "text/html": [
       "<div>\n",
       "<style scoped>\n",
       "    .dataframe tbody tr th:only-of-type {\n",
       "        vertical-align: middle;\n",
       "    }\n",
       "\n",
       "    .dataframe tbody tr th {\n",
       "        vertical-align: top;\n",
       "    }\n",
       "\n",
       "    .dataframe thead th {\n",
       "        text-align: right;\n",
       "    }\n",
       "</style>\n",
       "<table border=\"1\" class=\"dataframe\">\n",
       "  <thead>\n",
       "    <tr style=\"text-align: right;\">\n",
       "      <th></th>\n",
       "      <th>Cell Line</th>\n",
       "      <th>SNPs</th>\n",
       "      <th>Genes</th>\n",
       "    </tr>\n",
       "  </thead>\n",
       "  <tbody>\n",
       "    <tr>\n",
       "      <th>0</th>\n",
       "      <td>NB</td>\n",
       "      <td>348</td>\n",
       "      <td>39</td>\n",
       "    </tr>\n",
       "    <tr>\n",
       "      <th>1</th>\n",
       "      <td>CD4N</td>\n",
       "      <td>322</td>\n",
       "      <td>33</td>\n",
       "    </tr>\n",
       "    <tr>\n",
       "      <th>2</th>\n",
       "      <td>CD8N</td>\n",
       "      <td>269</td>\n",
       "      <td>35</td>\n",
       "    </tr>\n",
       "    <tr>\n",
       "      <th>3</th>\n",
       "      <td>NK</td>\n",
       "      <td>319</td>\n",
       "      <td>45</td>\n",
       "    </tr>\n",
       "    <tr>\n",
       "      <th>4</th>\n",
       "      <td>CM</td>\n",
       "      <td>116</td>\n",
       "      <td>25</td>\n",
       "    </tr>\n",
       "  </tbody>\n",
       "</table>\n",
       "</div>"
      ],
      "text/plain": [
       "  Cell Line  SNPs  Genes\n",
       "0        NB   348     39\n",
       "1      CD4N   322     33\n",
       "2      CD8N   269     35\n",
       "3        NK   319     45\n",
       "4        CM   116     25"
      ]
     },
     "execution_count": 38,
     "metadata": {},
     "output_type": "execute_result"
    }
   ],
   "source": [
    "pieqtls_summary"
   ]
  },
  {
   "cell_type": "code",
   "execution_count": null,
   "id": "6e97f325",
   "metadata": {},
   "outputs": [],
   "source": []
  },
  {
   "cell_type": "markdown",
   "id": "447f8f03",
   "metadata": {},
   "source": [
    "### Making the venn diagram"
   ]
  },
  {
   "cell_type": "code",
   "execution_count": 54,
   "id": "2d04908a",
   "metadata": {},
   "outputs": [],
   "source": [
    "finemap_genes = os.path.join(finemap_dir, 'gene_list.txt')\n",
    "finemap_genes = pd.read_table(finemap_genes, header=None).squeeze('columns').tolist()"
   ]
  },
  {
   "cell_type": "code",
   "execution_count": 55,
   "id": "4def984f",
   "metadata": {},
   "outputs": [],
   "source": [
    "coloc_genes = os.path.join(coloc_dir, 'gene_list.txt')\n",
    "coloc_genes = pd.read_table(coloc_genes, header=None).squeeze('columns').tolist()"
   ]
  },
  {
   "cell_type": "code",
   "execution_count": 56,
   "id": "3c61e9cb",
   "metadata": {},
   "outputs": [],
   "source": [
    "pieqtls_genes = os.path.join(pieqtl_dir, 'gene_list.txt')\n",
    "pieqtls_genes = pd.read_table(pieqtls_genes, header=None).squeeze('columns').tolist()"
   ]
  },
  {
   "cell_type": "code",
   "execution_count": 57,
   "id": "94a89595",
   "metadata": {},
   "outputs": [
    {
     "data": {
      "text/plain": [
       "91"
      ]
     },
     "execution_count": 57,
     "metadata": {},
     "output_type": "execute_result"
    }
   ],
   "source": [
    "len(pieqtls_genes)"
   ]
  },
  {
   "cell_type": "code",
   "execution_count": 58,
   "id": "0da65fc4",
   "metadata": {},
   "outputs": [
    {
     "data": {
      "text/plain": [
       "161"
      ]
     },
     "execution_count": 58,
     "metadata": {},
     "output_type": "execute_result"
    }
   ],
   "source": [
    "len(finemap_genes)"
   ]
  },
  {
   "cell_type": "code",
   "execution_count": 59,
   "id": "6b36a88d",
   "metadata": {},
   "outputs": [
    {
     "data": {
      "text/plain": [
       "9"
      ]
     },
     "execution_count": 59,
     "metadata": {},
     "output_type": "execute_result"
    }
   ],
   "source": [
    "len(coloc_genes)"
   ]
  },
  {
   "cell_type": "code",
   "execution_count": 60,
   "id": "eaaec0b3",
   "metadata": {},
   "outputs": [],
   "source": [
    "finemap_label = 'Finemapped-SNPs\\n+ Loops'\n",
    "coloc_label = 'Colocalization\\nOnly'\n",
    "pieqtl_label = 'pieQTL-Linked \\n+ Sig.GWAS'"
   ]
  },
  {
   "cell_type": "code",
   "execution_count": 66,
   "id": "c5cec227",
   "metadata": {},
   "outputs": [
    {
     "data": {
      "image/png": "[encoded data removed]",
      "text/plain": [
       "<Figure size 432x288 with 1 Axes>"
      ]
     },
     "metadata": {},
     "output_type": "display_data"
    }
   ],
   "source": [
    "fig, ax = plt.subplots()\n",
    "vn = venn3([set(finemap_genes), set(coloc_genes), set(pieqtls_genes)], set_labels=[finemap_label,\n",
    "                                                                             coloc_label,\n",
    "                                                                             pieqtl_label])\n",
    "a = vn.get_label_by_id('A')\n",
    "a.set_position((0.25, 0.65))\n",
    "\n",
    "b = vn.get_label_by_id('B')\n",
    "b.set_position((1, 0.25))\n",
    "\n",
    "c = vn.get_label_by_id('C')\n",
    "c.set_position((-0.5, 0.55))\n",
    "\n",
    "fn = os.path.join(outdir, 'threeway_comparison.png')\n",
    "fig.savefig(fn, dpi=600)"
   ]
  },
  {
   "cell_type": "code",
   "execution_count": null,
   "id": "318d5b4c",
   "metadata": {},
   "outputs": [],
   "source": []
  },
  {
   "cell_type": "code",
   "execution_count": null,
   "id": "c1494394",
   "metadata": {},
   "outputs": [],
   "source": []
  },
  {
   "cell_type": "code",
   "execution_count": null,
   "id": "2967d8a6",
   "metadata": {},
   "outputs": [],
   "source": []
  },
  {
   "cell_type": "code",
   "execution_count": 19,
   "id": "633d8666",
   "metadata": {},
   "outputs": [
    {
     "data": {
      "text/plain": [
       "259"
      ]
     },
     "execution_count": 19,
     "metadata": {},
     "output_type": "execute_result"
    }
   ],
   "source": [
    "len(set(finemap_genes + coloc_genes + pieqtls_genes))"
   ]
  },
  {
   "cell_type": "code",
   "execution_count": 20,
   "id": "0547753e",
   "metadata": {},
   "outputs": [
    {
     "data": {
      "image/png": "[encoded data removed]",
      "text/plain": [
       "<Figure size 432x288 with 1 Axes>"
      ]
     },
     "metadata": {},
     "output_type": "display_data"
    }
   ],
   "source": [
    "fig, ax = plt.subplots()\n",
    "venn2([set(finemap_genes), set(coloc_genes)], set_labels=[finemap_label,\n",
    "                                                          coloc_label])\n",
    "fn = os.path.join(outdir, 'two_comparison.finemap.coloc.png')\n",
    "fig.savefig(fn, dpi=600)"
   ]
  },
  {
   "cell_type": "code",
   "execution_count": 21,
   "id": "b532333a",
   "metadata": {},
   "outputs": [
    {
     "data": {
      "image/png": "[encoded data removed]",
      "text/plain": [
       "<Figure size 432x288 with 1 Axes>"
      ]
     },
     "metadata": {},
     "output_type": "display_data"
    }
   ],
   "source": [
    "fig, ax = plt.subplots()\n",
    "\n",
    "venn2([set(pieqtls_genes), set(finemap_genes)], set_labels=[pieqtl_label, finemap_label])\n",
    "\n",
    "fn = os.path.join(outdir, 'two_comparison.finemap.pieqtl.png')\n",
    "fig.savefig(fn, dpi=600)"
   ]
  },
  {
   "cell_type": "code",
   "execution_count": 22,
   "id": "52adc381",
   "metadata": {},
   "outputs": [
    {
     "data": {
      "image/png": "[encoded data removed]",
      "text/plain": [
       "<Figure size 432x288 with 1 Axes>"
      ]
     },
     "metadata": {},
     "output_type": "display_data"
    }
   ],
   "source": [
    "fig, ax = plt.subplots()\n",
    "\n",
    "venn2([set(pieqtls_genes), set(coloc_genes)], set_labels=[pieqtl_label, coloc_label])\n",
    "\n",
    "fn = os.path.join(outdir, 'two_comparison.coloc.pieqtl.png')\n",
    "fig.savefig(fn, dpi=600)"
   ]
  },
  {
   "cell_type": "markdown",
   "id": "f1399734",
   "metadata": {},
   "source": [
    "## Compiling the gene lists"
   ]
  },
  {
   "cell_type": "code",
   "execution_count": 23,
   "id": "d28f7ff1",
   "metadata": {},
   "outputs": [],
   "source": [
    "major_cells = ['B-cell_naive', 'CD4_T-cell_naive',\n",
    "               'CD8_T-cell_naive', 'NK-cell_naive','monocyte_naive', \n",
    "               'CD4N', 'CD8N', 'CM', 'NB', 'NK']"
   ]
  },
  {
   "cell_type": "code",
   "execution_count": 24,
   "id": "71ac4e5d",
   "metadata": {},
   "outputs": [],
   "source": [
    "finemap_genes = os.path.join(finemap_dir, 'genes_by_cell.xlsx')\n",
    "finemap_genes = pd.read_excel(finemap_genes)\n",
    "\n",
    "pieqtl_genes = os.path.join(pieqtl_dir, 'genes_by_cell.xlsx')\n",
    "pieqtl_genes = pd.read_excel(pieqtl_genes)\n",
    "pieqtl_genes.loc[:, 'cline'] = pieqtl_genes['cline'].apply(lambda x: cell_dict[x])\n",
    "\n",
    "coloc_genes = os.path.join(coloc_dir, 'genes_by_cell.xlsx')\n",
    "coloc_genes = pd.read_excel(coloc_genes)\n",
    "coloc_genes.loc[:, 'cline'] = coloc_genes['cline'].apply(lambda x: cell_dict[x])"
   ]
  },
  {
   "cell_type": "code",
   "execution_count": 25,
   "id": "c2ba3e45",
   "metadata": {},
   "outputs": [],
   "source": [
    "compiled = pd.concat([finemap_genes, pieqtl_genes, coloc_genes], axis=0)\n",
    "compiled = compiled.loc[compiled.cline.isin(major_cells)]\n",
    "\n",
    "def geneid_to_genename(x):\n",
    "    if x in gencode:\n",
    "        return(gencode[x])\n",
    "    else:\n",
    "        return(x)\n",
    "compiled.loc[:, 'genename'] = compiled['geneid'].apply(geneid_to_genename)"
   ]
  },
  {
   "cell_type": "code",
   "execution_count": 26,
   "id": "0663f910",
   "metadata": {},
   "outputs": [
    {
     "data": {
      "text/html": [
       "<div>\n",
       "<style scoped>\n",
       "    .dataframe tbody tr th:only-of-type {\n",
       "        vertical-align: middle;\n",
       "    }\n",
       "\n",
       "    .dataframe tbody tr th {\n",
       "        vertical-align: top;\n",
       "    }\n",
       "\n",
       "    .dataframe thead th {\n",
       "        text-align: right;\n",
       "    }\n",
       "</style>\n",
       "<table border=\"1\" class=\"dataframe\">\n",
       "  <thead>\n",
       "    <tr style=\"text-align: right;\">\n",
       "      <th></th>\n",
       "      <th>cline</th>\n",
       "      <th>geneid</th>\n",
       "      <th>source</th>\n",
       "      <th>genename</th>\n",
       "    </tr>\n",
       "  </thead>\n",
       "  <tbody>\n",
       "    <tr>\n",
       "      <th>0</th>\n",
       "      <td>CD4N</td>\n",
       "      <td>ENSG00000066044</td>\n",
       "      <td>finemap_with_hichip</td>\n",
       "      <td>ELAVL1</td>\n",
       "    </tr>\n",
       "    <tr>\n",
       "      <th>1</th>\n",
       "      <td>CD4N</td>\n",
       "      <td>ENSG00000082074</td>\n",
       "      <td>finemap_with_hichip</td>\n",
       "      <td>FYB1</td>\n",
       "    </tr>\n",
       "    <tr>\n",
       "      <th>2</th>\n",
       "      <td>CD4N</td>\n",
       "      <td>ENSG00000083807</td>\n",
       "      <td>finemap_with_hichip</td>\n",
       "      <td>SLC27A5</td>\n",
       "    </tr>\n",
       "    <tr>\n",
       "      <th>3</th>\n",
       "      <td>CD4N</td>\n",
       "      <td>ENSG00000089022</td>\n",
       "      <td>finemap_with_hichip</td>\n",
       "      <td>MAPKAPK5</td>\n",
       "    </tr>\n",
       "    <tr>\n",
       "      <th>4</th>\n",
       "      <td>CD4N</td>\n",
       "      <td>ENSG00000100065</td>\n",
       "      <td>finemap_with_hichip</td>\n",
       "      <td>CARD10</td>\n",
       "    </tr>\n",
       "    <tr>\n",
       "      <th>...</th>\n",
       "      <td>...</td>\n",
       "      <td>...</td>\n",
       "      <td>...</td>\n",
       "      <td>...</td>\n",
       "    </tr>\n",
       "    <tr>\n",
       "      <th>6</th>\n",
       "      <td>NK</td>\n",
       "      <td>ENSG00000197728</td>\n",
       "      <td>colocalization</td>\n",
       "      <td>RPS26</td>\n",
       "    </tr>\n",
       "    <tr>\n",
       "      <th>7</th>\n",
       "      <td>NK</td>\n",
       "      <td>ENSG00000226455</td>\n",
       "      <td>colocalization</td>\n",
       "      <td>AL121787.1</td>\n",
       "    </tr>\n",
       "    <tr>\n",
       "      <th>8</th>\n",
       "      <td>NK</td>\n",
       "      <td>ENSG00000286116</td>\n",
       "      <td>colocalization</td>\n",
       "      <td>AL157394.2</td>\n",
       "    </tr>\n",
       "    <tr>\n",
       "      <th>9</th>\n",
       "      <td>CM</td>\n",
       "      <td>ENSG00000065675</td>\n",
       "      <td>colocalization</td>\n",
       "      <td>PRKCQ</td>\n",
       "    </tr>\n",
       "    <tr>\n",
       "      <th>10</th>\n",
       "      <td>CM</td>\n",
       "      <td>ENSG00000197728</td>\n",
       "      <td>colocalization</td>\n",
       "      <td>RPS26</td>\n",
       "    </tr>\n",
       "  </tbody>\n",
       "</table>\n",
       "<p>458 rows × 4 columns</p>\n",
       "</div>"
      ],
      "text/plain": [
       "   cline           geneid               source    genename\n",
       "0   CD4N  ENSG00000066044  finemap_with_hichip      ELAVL1\n",
       "1   CD4N  ENSG00000082074  finemap_with_hichip        FYB1\n",
       "2   CD4N  ENSG00000083807  finemap_with_hichip     SLC27A5\n",
       "3   CD4N  ENSG00000089022  finemap_with_hichip    MAPKAPK5\n",
       "4   CD4N  ENSG00000100065  finemap_with_hichip      CARD10\n",
       "..   ...              ...                  ...         ...\n",
       "6     NK  ENSG00000197728       colocalization       RPS26\n",
       "7     NK  ENSG00000226455       colocalization  AL121787.1\n",
       "8     NK  ENSG00000286116       colocalization  AL157394.2\n",
       "9     CM  ENSG00000065675       colocalization       PRKCQ\n",
       "10    CM  ENSG00000197728       colocalization       RPS26\n",
       "\n",
       "[458 rows x 4 columns]"
      ]
     },
     "execution_count": 26,
     "metadata": {},
     "output_type": "execute_result"
    }
   ],
   "source": [
    "compiled"
   ]
  },
  {
   "cell_type": "code",
   "execution_count": 27,
   "id": "e524e6b6",
   "metadata": {},
   "outputs": [],
   "source": [
    "compiled = compiled.iloc[:, [2,0,3,1]]"
   ]
  },
  {
   "cell_type": "code",
   "execution_count": 28,
   "id": "115370da",
   "metadata": {},
   "outputs": [
    {
     "data": {
      "text/html": [
       "<div>\n",
       "<style scoped>\n",
       "    .dataframe tbody tr th:only-of-type {\n",
       "        vertical-align: middle;\n",
       "    }\n",
       "\n",
       "    .dataframe tbody tr th {\n",
       "        vertical-align: top;\n",
       "    }\n",
       "\n",
       "    .dataframe thead th {\n",
       "        text-align: right;\n",
       "    }\n",
       "</style>\n",
       "<table border=\"1\" class=\"dataframe\">\n",
       "  <thead>\n",
       "    <tr style=\"text-align: right;\">\n",
       "      <th></th>\n",
       "      <th>source</th>\n",
       "      <th>cline</th>\n",
       "      <th>genename</th>\n",
       "      <th>geneid</th>\n",
       "    </tr>\n",
       "  </thead>\n",
       "  <tbody>\n",
       "    <tr>\n",
       "      <th>0</th>\n",
       "      <td>finemap_with_hichip</td>\n",
       "      <td>CD4N</td>\n",
       "      <td>ELAVL1</td>\n",
       "      <td>ENSG00000066044</td>\n",
       "    </tr>\n",
       "    <tr>\n",
       "      <th>1</th>\n",
       "      <td>finemap_with_hichip</td>\n",
       "      <td>CD4N</td>\n",
       "      <td>FYB1</td>\n",
       "      <td>ENSG00000082074</td>\n",
       "    </tr>\n",
       "    <tr>\n",
       "      <th>2</th>\n",
       "      <td>finemap_with_hichip</td>\n",
       "      <td>CD4N</td>\n",
       "      <td>SLC27A5</td>\n",
       "      <td>ENSG00000083807</td>\n",
       "    </tr>\n",
       "    <tr>\n",
       "      <th>3</th>\n",
       "      <td>finemap_with_hichip</td>\n",
       "      <td>CD4N</td>\n",
       "      <td>MAPKAPK5</td>\n",
       "      <td>ENSG00000089022</td>\n",
       "    </tr>\n",
       "    <tr>\n",
       "      <th>4</th>\n",
       "      <td>finemap_with_hichip</td>\n",
       "      <td>CD4N</td>\n",
       "      <td>CARD10</td>\n",
       "      <td>ENSG00000100065</td>\n",
       "    </tr>\n",
       "    <tr>\n",
       "      <th>...</th>\n",
       "      <td>...</td>\n",
       "      <td>...</td>\n",
       "      <td>...</td>\n",
       "      <td>...</td>\n",
       "    </tr>\n",
       "    <tr>\n",
       "      <th>6</th>\n",
       "      <td>colocalization</td>\n",
       "      <td>NK</td>\n",
       "      <td>RPS26</td>\n",
       "      <td>ENSG00000197728</td>\n",
       "    </tr>\n",
       "    <tr>\n",
       "      <th>7</th>\n",
       "      <td>colocalization</td>\n",
       "      <td>NK</td>\n",
       "      <td>AL121787.1</td>\n",
       "      <td>ENSG00000226455</td>\n",
       "    </tr>\n",
       "    <tr>\n",
       "      <th>8</th>\n",
       "      <td>colocalization</td>\n",
       "      <td>NK</td>\n",
       "      <td>AL157394.2</td>\n",
       "      <td>ENSG00000286116</td>\n",
       "    </tr>\n",
       "    <tr>\n",
       "      <th>9</th>\n",
       "      <td>colocalization</td>\n",
       "      <td>CM</td>\n",
       "      <td>PRKCQ</td>\n",
       "      <td>ENSG00000065675</td>\n",
       "    </tr>\n",
       "    <tr>\n",
       "      <th>10</th>\n",
       "      <td>colocalization</td>\n",
       "      <td>CM</td>\n",
       "      <td>RPS26</td>\n",
       "      <td>ENSG00000197728</td>\n",
       "    </tr>\n",
       "  </tbody>\n",
       "</table>\n",
       "<p>458 rows × 4 columns</p>\n",
       "</div>"
      ],
      "text/plain": [
       "                 source cline    genename           geneid\n",
       "0   finemap_with_hichip  CD4N      ELAVL1  ENSG00000066044\n",
       "1   finemap_with_hichip  CD4N        FYB1  ENSG00000082074\n",
       "2   finemap_with_hichip  CD4N     SLC27A5  ENSG00000083807\n",
       "3   finemap_with_hichip  CD4N    MAPKAPK5  ENSG00000089022\n",
       "4   finemap_with_hichip  CD4N      CARD10  ENSG00000100065\n",
       "..                  ...   ...         ...              ...\n",
       "6        colocalization    NK       RPS26  ENSG00000197728\n",
       "7        colocalization    NK  AL121787.1  ENSG00000226455\n",
       "8        colocalization    NK  AL157394.2  ENSG00000286116\n",
       "9        colocalization    CM       PRKCQ  ENSG00000065675\n",
       "10       colocalization    CM       RPS26  ENSG00000197728\n",
       "\n",
       "[458 rows x 4 columns]"
      ]
     },
     "execution_count": 28,
     "metadata": {},
     "output_type": "execute_result"
    }
   ],
   "source": [
    "compiled "
   ]
  },
  {
   "cell_type": "code",
   "execution_count": 29,
   "id": "f51eb83b",
   "metadata": {},
   "outputs": [
    {
     "data": {
      "text/html": [
       "<div>\n",
       "<style scoped>\n",
       "    .dataframe tbody tr th:only-of-type {\n",
       "        vertical-align: middle;\n",
       "    }\n",
       "\n",
       "    .dataframe tbody tr th {\n",
       "        vertical-align: top;\n",
       "    }\n",
       "\n",
       "    .dataframe thead th {\n",
       "        text-align: right;\n",
       "    }\n",
       "</style>\n",
       "<table border=\"1\" class=\"dataframe\">\n",
       "  <thead>\n",
       "    <tr style=\"text-align: right;\">\n",
       "      <th></th>\n",
       "      <th>geneid</th>\n",
       "    </tr>\n",
       "    <tr>\n",
       "      <th>source</th>\n",
       "      <th></th>\n",
       "    </tr>\n",
       "  </thead>\n",
       "  <tbody>\n",
       "    <tr>\n",
       "      <th>colocalization</th>\n",
       "      <td>9</td>\n",
       "    </tr>\n",
       "    <tr>\n",
       "      <th>finemap_with_hichip</th>\n",
       "      <td>161</td>\n",
       "    </tr>\n",
       "    <tr>\n",
       "      <th>pieqtls_with_sig_gwas</th>\n",
       "      <td>91</td>\n",
       "    </tr>\n",
       "  </tbody>\n",
       "</table>\n",
       "</div>"
      ],
      "text/plain": [
       "                       geneid\n",
       "source                       \n",
       "colocalization              9\n",
       "finemap_with_hichip       161\n",
       "pieqtls_with_sig_gwas      91"
      ]
     },
     "execution_count": 29,
     "metadata": {},
     "output_type": "execute_result"
    }
   ],
   "source": [
    "compiled.groupby('source').geneid.nunique().to_frame()"
   ]
  },
  {
   "cell_type": "code",
   "execution_count": 30,
   "id": "43d3ac70",
   "metadata": {},
   "outputs": [
    {
     "data": {
      "text/plain": [
       "259"
      ]
     },
     "execution_count": 30,
     "metadata": {},
     "output_type": "execute_result"
    }
   ],
   "source": [
    "compiled.geneid.nunique()"
   ]
  },
  {
   "cell_type": "code",
   "execution_count": 31,
   "id": "8fe9e888",
   "metadata": {},
   "outputs": [],
   "source": [
    "compiled_fn = os.path.join(outdir, 'Compiled_Gene_Lists.xlsx')\n",
    "compiled.to_excel(compiled_fn, index=False)"
   ]
  },
  {
   "cell_type": "code",
   "execution_count": 69,
   "id": "ae32d912",
   "metadata": {},
   "outputs": [
    {
     "data": {
      "text/plain": [
       "array(['finemap_with_hichip', 'pieqtls_with_sig_gwas', 'colocalization'],\n",
       "      dtype=object)"
      ]
     },
     "execution_count": 69,
     "metadata": {},
     "output_type": "execute_result"
    }
   ],
   "source": [
    "compiled.source.unique()"
   ]
  },
  {
   "cell_type": "code",
   "execution_count": null,
   "id": "f94783fc",
   "metadata": {},
   "outputs": [],
   "source": []
  },
  {
   "cell_type": "code",
   "execution_count": null,
   "id": "d9449f5a",
   "metadata": {},
   "outputs": [],
   "source": []
  },
  {
   "cell_type": "code",
   "execution_count": null,
   "id": "cb999edb",
   "metadata": {},
   "outputs": [],
   "source": []
  },
  {
   "cell_type": "code",
   "execution_count": null,
   "id": "ff93c0f5",
   "metadata": {},
   "outputs": [],
   "source": []
  },
  {
   "cell_type": "code",
   "execution_count": null,
   "id": "a19045e7",
   "metadata": {},
   "outputs": [],
   "source": []
  },
  {
   "cell_type": "code",
   "execution_count": 79,
   "id": "08af2f38",
   "metadata": {},
   "outputs": [],
   "source": [
    "pd.options.display.min_rows = 100"
   ]
  },
  {
   "cell_type": "code",
   "execution_count": 80,
   "id": "86987dc0",
   "metadata": {},
   "outputs": [
    {
     "data": {
      "text/html": [
       "<div>\n",
       "<style scoped>\n",
       "    .dataframe tbody tr th:only-of-type {\n",
       "        vertical-align: middle;\n",
       "    }\n",
       "\n",
       "    .dataframe tbody tr th {\n",
       "        vertical-align: top;\n",
       "    }\n",
       "\n",
       "    .dataframe thead th {\n",
       "        text-align: right;\n",
       "    }\n",
       "</style>\n",
       "<table border=\"1\" class=\"dataframe\">\n",
       "  <thead>\n",
       "    <tr style=\"text-align: right;\">\n",
       "      <th></th>\n",
       "      <th>cline</th>\n",
       "    </tr>\n",
       "    <tr>\n",
       "      <th>geneid</th>\n",
       "      <th></th>\n",
       "    </tr>\n",
       "  </thead>\n",
       "  <tbody>\n",
       "    <tr>\n",
       "      <th>ENSG00000137312</th>\n",
       "      <td>5</td>\n",
       "    </tr>\n",
       "    <tr>\n",
       "      <th>ENSG00000272221</th>\n",
       "      <td>5</td>\n",
       "    </tr>\n",
       "    <tr>\n",
       "      <th>ENSG00000206344</th>\n",
       "      <td>5</td>\n",
       "    </tr>\n",
       "    <tr>\n",
       "      <th>ENSG00000204536</th>\n",
       "      <td>5</td>\n",
       "    </tr>\n",
       "    <tr>\n",
       "      <th>ENSG00000186470</th>\n",
       "      <td>5</td>\n",
       "    </tr>\n",
       "    <tr>\n",
       "      <th>ENSG00000204520</th>\n",
       "      <td>5</td>\n",
       "    </tr>\n",
       "    <tr>\n",
       "      <th>ENSG00000204351</th>\n",
       "      <td>5</td>\n",
       "    </tr>\n",
       "    <tr>\n",
       "      <th>ENSG00000026950</th>\n",
       "      <td>5</td>\n",
       "    </tr>\n",
       "    <tr>\n",
       "      <th>ENSG00000204618</th>\n",
       "      <td>4</td>\n",
       "    </tr>\n",
       "    <tr>\n",
       "      <th>ENSG00000225864</th>\n",
       "      <td>4</td>\n",
       "    </tr>\n",
       "    <tr>\n",
       "      <th>ENSG00000204428</th>\n",
       "      <td>4</td>\n",
       "    </tr>\n",
       "    <tr>\n",
       "      <th>ENSG00000240053</th>\n",
       "      <td>4</td>\n",
       "    </tr>\n",
       "    <tr>\n",
       "      <th>ENSG00000204623</th>\n",
       "      <td>4</td>\n",
       "    </tr>\n",
       "    <tr>\n",
       "      <th>ENSG00000197375</th>\n",
       "      <td>4</td>\n",
       "    </tr>\n",
       "    <tr>\n",
       "      <th>ENSG00000204516</th>\n",
       "      <td>4</td>\n",
       "    </tr>\n",
       "    <tr>\n",
       "      <th>ENSG00000214401</th>\n",
       "      <td>3</td>\n",
       "    </tr>\n",
       "    <tr>\n",
       "      <th>ENSG00000237669</th>\n",
       "      <td>3</td>\n",
       "    </tr>\n",
       "    <tr>\n",
       "      <th>ENSG00000236935</th>\n",
       "      <td>3</td>\n",
       "    </tr>\n",
       "    <tr>\n",
       "      <th>ENSG00000124508</th>\n",
       "      <td>3</td>\n",
       "    </tr>\n",
       "    <tr>\n",
       "      <th>ENSG00000262703</th>\n",
       "      <td>3</td>\n",
       "    </tr>\n",
       "    <tr>\n",
       "      <th>ENSG00000230521</th>\n",
       "      <td>3</td>\n",
       "    </tr>\n",
       "    <tr>\n",
       "      <th>ENSG00000204472</th>\n",
       "      <td>2</td>\n",
       "    </tr>\n",
       "    <tr>\n",
       "      <th>ENSG00000204482</th>\n",
       "      <td>2</td>\n",
       "    </tr>\n",
       "    <tr>\n",
       "      <th>ENSG00000204387</th>\n",
       "      <td>2</td>\n",
       "    </tr>\n",
       "    <tr>\n",
       "      <th>ENSG00000224796</th>\n",
       "      <td>2</td>\n",
       "    </tr>\n",
       "    <tr>\n",
       "      <th>ENSG00000204267</th>\n",
       "      <td>2</td>\n",
       "    </tr>\n",
       "    <tr>\n",
       "      <th>ENSG00000226314</th>\n",
       "      <td>2</td>\n",
       "    </tr>\n",
       "    <tr>\n",
       "      <th>ENSG00000199332</th>\n",
       "      <td>2</td>\n",
       "    </tr>\n",
       "    <tr>\n",
       "      <th>ENSG00000204439</th>\n",
       "      <td>2</td>\n",
       "    </tr>\n",
       "    <tr>\n",
       "      <th>ENSG00000204463</th>\n",
       "      <td>2</td>\n",
       "    </tr>\n",
       "    <tr>\n",
       "      <th>...</th>\n",
       "      <td>...</td>\n",
       "    </tr>\n",
       "    <tr>\n",
       "      <th>ENSG00000089022</th>\n",
       "      <td>1</td>\n",
       "    </tr>\n",
       "    <tr>\n",
       "      <th>ENSG00000090104</th>\n",
       "      <td>1</td>\n",
       "    </tr>\n",
       "    <tr>\n",
       "      <th>ENSG00000103811</th>\n",
       "      <td>1</td>\n",
       "    </tr>\n",
       "    <tr>\n",
       "      <th>ENSG00000105287</th>\n",
       "      <td>1</td>\n",
       "    </tr>\n",
       "    <tr>\n",
       "      <th>ENSG00000134242</th>\n",
       "      <td>1</td>\n",
       "    </tr>\n",
       "    <tr>\n",
       "      <th>ENSG00000137185</th>\n",
       "      <td>1</td>\n",
       "    </tr>\n",
       "    <tr>\n",
       "      <th>ENSG00000137411</th>\n",
       "      <td>1</td>\n",
       "    </tr>\n",
       "    <tr>\n",
       "      <th>ENSG00000139531</th>\n",
       "      <td>1</td>\n",
       "    </tr>\n",
       "    <tr>\n",
       "      <th>ENSG00000142686</th>\n",
       "      <td>1</td>\n",
       "    </tr>\n",
       "    <tr>\n",
       "      <th>ENSG00000146112</th>\n",
       "      <td>1</td>\n",
       "    </tr>\n",
       "    <tr>\n",
       "      <th>ENSG00000173064</th>\n",
       "      <td>1</td>\n",
       "    </tr>\n",
       "    <tr>\n",
       "      <th>ENSG00000178562</th>\n",
       "      <td>1</td>\n",
       "    </tr>\n",
       "    <tr>\n",
       "      <th>ENSG00000182952</th>\n",
       "      <td>1</td>\n",
       "    </tr>\n",
       "    <tr>\n",
       "      <th>ENSG00000183431</th>\n",
       "      <td>1</td>\n",
       "    </tr>\n",
       "    <tr>\n",
       "      <th>ENSG00000187626</th>\n",
       "      <td>1</td>\n",
       "    </tr>\n",
       "    <tr>\n",
       "      <th>ENSG00000187987</th>\n",
       "      <td>1</td>\n",
       "    </tr>\n",
       "    <tr>\n",
       "      <th>ENSG00000196230</th>\n",
       "      <td>1</td>\n",
       "    </tr>\n",
       "    <tr>\n",
       "      <th>ENSG00000197279</th>\n",
       "      <td>1</td>\n",
       "    </tr>\n",
       "    <tr>\n",
       "      <th>ENSG00000198270</th>\n",
       "      <td>1</td>\n",
       "    </tr>\n",
       "    <tr>\n",
       "      <th>ENSG00000201207</th>\n",
       "      <td>1</td>\n",
       "    </tr>\n",
       "    <tr>\n",
       "      <th>ENSG00000204220</th>\n",
       "      <td>1</td>\n",
       "    </tr>\n",
       "    <tr>\n",
       "      <th>ENSG00000204290</th>\n",
       "      <td>1</td>\n",
       "    </tr>\n",
       "    <tr>\n",
       "      <th>ENSG00000204296</th>\n",
       "      <td>1</td>\n",
       "    </tr>\n",
       "    <tr>\n",
       "      <th>ENSG00000204410</th>\n",
       "      <td>1</td>\n",
       "    </tr>\n",
       "    <tr>\n",
       "      <th>ENSG00000204435</th>\n",
       "      <td>1</td>\n",
       "    </tr>\n",
       "    <tr>\n",
       "      <th>ENSG00000204469</th>\n",
       "      <td>1</td>\n",
       "    </tr>\n",
       "    <tr>\n",
       "      <th>ENSG00000204475</th>\n",
       "      <td>1</td>\n",
       "    </tr>\n",
       "    <tr>\n",
       "      <th>ENSG00000204560</th>\n",
       "      <td>1</td>\n",
       "    </tr>\n",
       "    <tr>\n",
       "      <th>ENSG00000204564</th>\n",
       "      <td>1</td>\n",
       "    </tr>\n",
       "    <tr>\n",
       "      <th>ENSG00000272501</th>\n",
       "      <td>1</td>\n",
       "    </tr>\n",
       "  </tbody>\n",
       "</table>\n",
       "<p>91 rows × 1 columns</p>\n",
       "</div>"
      ],
      "text/plain": [
       "                 cline\n",
       "geneid                \n",
       "ENSG00000137312      5\n",
       "ENSG00000272221      5\n",
       "ENSG00000206344      5\n",
       "ENSG00000204536      5\n",
       "ENSG00000186470      5\n",
       "ENSG00000204520      5\n",
       "ENSG00000204351      5\n",
       "ENSG00000026950      5\n",
       "ENSG00000204618      4\n",
       "ENSG00000225864      4\n",
       "ENSG00000204428      4\n",
       "ENSG00000240053      4\n",
       "ENSG00000204623      4\n",
       "ENSG00000197375      4\n",
       "ENSG00000204516      4\n",
       "ENSG00000214401      3\n",
       "ENSG00000237669      3\n",
       "ENSG00000236935      3\n",
       "ENSG00000124508      3\n",
       "ENSG00000262703      3\n",
       "ENSG00000230521      3\n",
       "ENSG00000204472      2\n",
       "ENSG00000204482      2\n",
       "ENSG00000204387      2\n",
       "ENSG00000224796      2\n",
       "ENSG00000204267      2\n",
       "ENSG00000226314      2\n",
       "ENSG00000199332      2\n",
       "ENSG00000204439      2\n",
       "ENSG00000204463      2\n",
       "...                ...\n",
       "ENSG00000089022      1\n",
       "ENSG00000090104      1\n",
       "ENSG00000103811      1\n",
       "ENSG00000105287      1\n",
       "ENSG00000134242      1\n",
       "ENSG00000137185      1\n",
       "ENSG00000137411      1\n",
       "ENSG00000139531      1\n",
       "ENSG00000142686      1\n",
       "ENSG00000146112      1\n",
       "ENSG00000173064      1\n",
       "ENSG00000178562      1\n",
       "ENSG00000182952      1\n",
       "ENSG00000183431      1\n",
       "ENSG00000187626      1\n",
       "ENSG00000187987      1\n",
       "ENSG00000196230      1\n",
       "ENSG00000197279      1\n",
       "ENSG00000198270      1\n",
       "ENSG00000201207      1\n",
       "ENSG00000204220      1\n",
       "ENSG00000204290      1\n",
       "ENSG00000204296      1\n",
       "ENSG00000204410      1\n",
       "ENSG00000204435      1\n",
       "ENSG00000204469      1\n",
       "ENSG00000204475      1\n",
       "ENSG00000204560      1\n",
       "ENSG00000204564      1\n",
       "ENSG00000272501      1\n",
       "\n",
       "[91 rows x 1 columns]"
      ]
     },
     "execution_count": 80,
     "metadata": {},
     "output_type": "execute_result"
    }
   ],
   "source": [
    "pie = compiled.loc[compiled['source'] == 'pieqtls_with_sig_gwas']\n",
    "shared_genes = pie.groupby('geneid').cline.nunique()\n",
    "shared_genes.sort_values(ascending=False).to_frame()"
   ]
  },
  {
   "cell_type": "code",
   "execution_count": 81,
   "id": "ff54bde0",
   "metadata": {},
   "outputs": [
    {
     "data": {
      "text/html": [
       "<div>\n",
       "<style scoped>\n",
       "    .dataframe tbody tr th:only-of-type {\n",
       "        vertical-align: middle;\n",
       "    }\n",
       "\n",
       "    .dataframe tbody tr th {\n",
       "        vertical-align: top;\n",
       "    }\n",
       "\n",
       "    .dataframe thead th {\n",
       "        text-align: right;\n",
       "    }\n",
       "</style>\n",
       "<table border=\"1\" class=\"dataframe\">\n",
       "  <thead>\n",
       "    <tr style=\"text-align: right;\">\n",
       "      <th></th>\n",
       "      <th>geneid</th>\n",
       "    </tr>\n",
       "    <tr>\n",
       "      <th>cline</th>\n",
       "      <th></th>\n",
       "    </tr>\n",
       "  </thead>\n",
       "  <tbody>\n",
       "    <tr>\n",
       "      <th>NK</th>\n",
       "      <td>45</td>\n",
       "    </tr>\n",
       "    <tr>\n",
       "      <th>NB</th>\n",
       "      <td>39</td>\n",
       "    </tr>\n",
       "    <tr>\n",
       "      <th>CD8N</th>\n",
       "      <td>35</td>\n",
       "    </tr>\n",
       "    <tr>\n",
       "      <th>CD4N</th>\n",
       "      <td>33</td>\n",
       "    </tr>\n",
       "    <tr>\n",
       "      <th>CM</th>\n",
       "      <td>25</td>\n",
       "    </tr>\n",
       "  </tbody>\n",
       "</table>\n",
       "</div>"
      ],
      "text/plain": [
       "       geneid\n",
       "cline        \n",
       "NK         45\n",
       "NB         39\n",
       "CD8N       35\n",
       "CD4N       33\n",
       "CM         25"
      ]
     },
     "execution_count": 81,
     "metadata": {},
     "output_type": "execute_result"
    }
   ],
   "source": [
    "shared_cells = pie.groupby('cline').geneid.nunique()\n",
    "shared_cells.sort_values(ascending=False).to_frame()"
   ]
  },
  {
   "cell_type": "code",
   "execution_count": null,
   "id": "02af274d",
   "metadata": {},
   "outputs": [],
   "source": []
  },
  {
   "cell_type": "code",
   "execution_count": null,
   "id": "5f1998de",
   "metadata": {},
   "outputs": [],
   "source": []
  },
  {
   "cell_type": "code",
   "execution_count": null,
   "id": "d9575084",
   "metadata": {},
   "outputs": [],
   "source": []
  },
  {
   "cell_type": "code",
   "execution_count": null,
   "id": "e1bee4ec",
   "metadata": {},
   "outputs": [],
   "source": []
  },
  {
   "cell_type": "code",
   "execution_count": null,
   "id": "1e88a185",
   "metadata": {},
   "outputs": [],
   "source": []
  },
  {
   "cell_type": "code",
   "execution_count": null,
   "id": "24d64e56",
   "metadata": {},
   "outputs": [],
   "source": []
  },
  {
   "cell_type": "code",
   "execution_count": null,
   "id": "b16e4cc5",
   "metadata": {},
   "outputs": [],
   "source": []
  },
  {
   "cell_type": "code",
   "execution_count": null,
   "id": "d33e4a68",
   "metadata": {},
   "outputs": [],
   "source": []
  },
  {
   "cell_type": "code",
   "execution_count": null,
   "id": "7c25caab",
   "metadata": {},
   "outputs": [],
   "source": []
  },
  {
   "cell_type": "code",
   "execution_count": null,
   "id": "afd943e6",
   "metadata": {},
   "outputs": [],
   "source": []
  }
 ],
 "metadata": {
  "kernelspec": {
   "display_name": "HiChIP-DB",
   "language": "python",
   "name": "hichip-db"
  },
  "language_info": {
   "codemirror_mode": {
    "name": "ipython",
    "version": 3
   },
   "file_extension": ".py",
   "mimetype": "text/x-python",
   "name": "python",
   "nbconvert_exporter": "python",
   "pygments_lexer": "ipython3",
   "version": "3.9.10"
  }
 },
 "nbformat": 4,
 "nbformat_minor": 5
}
