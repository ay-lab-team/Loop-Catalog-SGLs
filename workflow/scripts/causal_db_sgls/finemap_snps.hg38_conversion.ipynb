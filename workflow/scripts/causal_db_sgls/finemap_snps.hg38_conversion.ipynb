{
 "cells": [
  {
   "cell_type": "code",
   "execution_count": 3,
   "metadata": {},
   "outputs": [],
   "source": [
    "import os\n",
    "import glob\n",
    "import pandas as pd \n",
    "from chromolooper import sgls\n",
    "import re\n",
    "from myvariant import MyVariantInfo\n",
    "import numpy as np\n",
    "\n",
    "pd.options.mode.chained_assignment = None  # default='warn'\n",
    "\n",
    "os.chdir('/mnt/BioHome/jreyna/jreyna/projects/Loop-Catalog-SGLs/')\n",
    "\n",
    "outdir = 'results/hg38/finemapping/snps/'\n",
    "os.makedirs(outdir, exist_ok=True)"
   ]
  },
  {
   "attachments": {},
   "cell_type": "markdown",
   "metadata": {},
   "source": [
    "## Load all finemapped snp data"
   ]
  },
  {
   "cell_type": "code",
   "execution_count": 7,
   "metadata": {},
   "outputs": [],
   "source": [
    "# add meta information\n",
    "causal_metadata_fn = 'workflow/scripts/finemap_sgls/causal_db/init.gwas_study.causal_db.immune_select_samples.tsv'\n",
    "causal_metadata = pd.read_table(causal_metadata_fn, header=None)\n",
    "\n",
    "causal_metadata_mapper =  causal_metadata.iloc[:, [2, 8, 18]]\n",
    "causal_metadata_mapper.columns = ['mesh_term', 'author', 'filename']"
   ]
  },
  {
   "cell_type": "code",
   "execution_count": 10,
   "metadata": {},
   "outputs": [],
   "source": [
    "# load all the finemapping snp data\n",
    "fns = glob.glob('/mnt/BioAdHoc/Groups/vd-ay/sourya/Projects/2020_IQTL_HiChIP/Data/CausalDB/credible_set/*_total_credible_set.txt')\n",
    "\n",
    "all_data = []\n",
    "for i, fn in enumerate(fns):\n",
    "\n",
    "    info = fn.split('/')\n",
    "\n",
    "    causaldb_fn = info[-1].split('_')[0]\n",
    "\n",
    "    if causaldb_fn in causal_metadata_mapper.filename.tolist():\n",
    "\n",
    "        # loading the data\n",
    "        tdf = pd.read_table(fn)\n",
    "        if tdf.shape[0] > 0:\n",
    "            tdf.loc[:, 'causaldb_fn'] = causaldb_fn\n",
    "            all_data.append(tdf)"
   ]
  },
  {
   "cell_type": "code",
   "execution_count": 11,
   "metadata": {},
   "outputs": [
    {
     "ename": "ValueError",
     "evalue": "No objects to concatenate",
     "output_type": "error",
     "traceback": [
      "\u001b[0;31m---------------------------------------------------------------------------\u001b[0m",
      "\u001b[0;31mValueError\u001b[0m                                Traceback (most recent call last)",
      "Cell \u001b[0;32mIn[11], line 1\u001b[0m\n\u001b[0;32m----> 1\u001b[0m all_df \u001b[38;5;241m=\u001b[39m \u001b[43mpd\u001b[49m\u001b[38;5;241;43m.\u001b[39;49m\u001b[43mconcat\u001b[49m\u001b[43m(\u001b[49m\u001b[43mall_data\u001b[49m\u001b[43m)\u001b[49m\n\u001b[1;32m      3\u001b[0m \u001b[38;5;66;03m# add causaldb metadata\u001b[39;00m\n\u001b[1;32m      4\u001b[0m all_df \u001b[38;5;241m=\u001b[39m all_df\u001b[38;5;241m.\u001b[39mmerge(causal_metadata_mapper, left_on\u001b[38;5;241m=\u001b[39m\u001b[38;5;124m'\u001b[39m\u001b[38;5;124mcausaldb_fn\u001b[39m\u001b[38;5;124m'\u001b[39m, right_on\u001b[38;5;241m=\u001b[39m\u001b[38;5;124m'\u001b[39m\u001b[38;5;124mfilename\u001b[39m\u001b[38;5;124m'\u001b[39m)\n",
      "File \u001b[0;32m/mnt/BioAdHoc/Groups/vd-ay/jreyna/software/Herman-Cluster-v3/mambaforge-pypy3/envs/lc-pipelines/lib/python3.12/site-packages/pandas/core/reshape/concat.py:380\u001b[0m, in \u001b[0;36mconcat\u001b[0;34m(objs, axis, join, ignore_index, keys, levels, names, verify_integrity, sort, copy)\u001b[0m\n\u001b[1;32m    377\u001b[0m \u001b[38;5;28;01melif\u001b[39;00m copy \u001b[38;5;129;01mand\u001b[39;00m using_copy_on_write():\n\u001b[1;32m    378\u001b[0m     copy \u001b[38;5;241m=\u001b[39m \u001b[38;5;28;01mFalse\u001b[39;00m\n\u001b[0;32m--> 380\u001b[0m op \u001b[38;5;241m=\u001b[39m \u001b[43m_Concatenator\u001b[49m\u001b[43m(\u001b[49m\n\u001b[1;32m    381\u001b[0m \u001b[43m    \u001b[49m\u001b[43mobjs\u001b[49m\u001b[43m,\u001b[49m\n\u001b[1;32m    382\u001b[0m \u001b[43m    \u001b[49m\u001b[43maxis\u001b[49m\u001b[38;5;241;43m=\u001b[39;49m\u001b[43maxis\u001b[49m\u001b[43m,\u001b[49m\n\u001b[1;32m    383\u001b[0m \u001b[43m    \u001b[49m\u001b[43mignore_index\u001b[49m\u001b[38;5;241;43m=\u001b[39;49m\u001b[43mignore_index\u001b[49m\u001b[43m,\u001b[49m\n\u001b[1;32m    384\u001b[0m \u001b[43m    \u001b[49m\u001b[43mjoin\u001b[49m\u001b[38;5;241;43m=\u001b[39;49m\u001b[43mjoin\u001b[49m\u001b[43m,\u001b[49m\n\u001b[1;32m    385\u001b[0m \u001b[43m    \u001b[49m\u001b[43mkeys\u001b[49m\u001b[38;5;241;43m=\u001b[39;49m\u001b[43mkeys\u001b[49m\u001b[43m,\u001b[49m\n\u001b[1;32m    386\u001b[0m \u001b[43m    \u001b[49m\u001b[43mlevels\u001b[49m\u001b[38;5;241;43m=\u001b[39;49m\u001b[43mlevels\u001b[49m\u001b[43m,\u001b[49m\n\u001b[1;32m    387\u001b[0m \u001b[43m    \u001b[49m\u001b[43mnames\u001b[49m\u001b[38;5;241;43m=\u001b[39;49m\u001b[43mnames\u001b[49m\u001b[43m,\u001b[49m\n\u001b[1;32m    388\u001b[0m \u001b[43m    \u001b[49m\u001b[43mverify_integrity\u001b[49m\u001b[38;5;241;43m=\u001b[39;49m\u001b[43mverify_integrity\u001b[49m\u001b[43m,\u001b[49m\n\u001b[1;32m    389\u001b[0m \u001b[43m    \u001b[49m\u001b[43mcopy\u001b[49m\u001b[38;5;241;43m=\u001b[39;49m\u001b[43mcopy\u001b[49m\u001b[43m,\u001b[49m\n\u001b[1;32m    390\u001b[0m \u001b[43m    \u001b[49m\u001b[43msort\u001b[49m\u001b[38;5;241;43m=\u001b[39;49m\u001b[43msort\u001b[49m\u001b[43m,\u001b[49m\n\u001b[1;32m    391\u001b[0m \u001b[43m\u001b[49m\u001b[43m)\u001b[49m\n\u001b[1;32m    393\u001b[0m \u001b[38;5;28;01mreturn\u001b[39;00m op\u001b[38;5;241m.\u001b[39mget_result()\n",
      "File \u001b[0;32m/mnt/BioAdHoc/Groups/vd-ay/jreyna/software/Herman-Cluster-v3/mambaforge-pypy3/envs/lc-pipelines/lib/python3.12/site-packages/pandas/core/reshape/concat.py:443\u001b[0m, in \u001b[0;36m_Concatenator.__init__\u001b[0;34m(self, objs, axis, join, keys, levels, names, ignore_index, verify_integrity, copy, sort)\u001b[0m\n\u001b[1;32m    440\u001b[0m \u001b[38;5;28mself\u001b[39m\u001b[38;5;241m.\u001b[39mverify_integrity \u001b[38;5;241m=\u001b[39m verify_integrity\n\u001b[1;32m    441\u001b[0m \u001b[38;5;28mself\u001b[39m\u001b[38;5;241m.\u001b[39mcopy \u001b[38;5;241m=\u001b[39m copy\n\u001b[0;32m--> 443\u001b[0m objs, keys \u001b[38;5;241m=\u001b[39m \u001b[38;5;28;43mself\u001b[39;49m\u001b[38;5;241;43m.\u001b[39;49m\u001b[43m_clean_keys_and_objs\u001b[49m\u001b[43m(\u001b[49m\u001b[43mobjs\u001b[49m\u001b[43m,\u001b[49m\u001b[43m \u001b[49m\u001b[43mkeys\u001b[49m\u001b[43m)\u001b[49m\n\u001b[1;32m    445\u001b[0m \u001b[38;5;66;03m# figure out what our result ndim is going to be\u001b[39;00m\n\u001b[1;32m    446\u001b[0m ndims \u001b[38;5;241m=\u001b[39m \u001b[38;5;28mself\u001b[39m\u001b[38;5;241m.\u001b[39m_get_ndims(objs)\n",
      "File \u001b[0;32m/mnt/BioAdHoc/Groups/vd-ay/jreyna/software/Herman-Cluster-v3/mambaforge-pypy3/envs/lc-pipelines/lib/python3.12/site-packages/pandas/core/reshape/concat.py:505\u001b[0m, in \u001b[0;36m_Concatenator._clean_keys_and_objs\u001b[0;34m(self, objs, keys)\u001b[0m\n\u001b[1;32m    502\u001b[0m     objs_list \u001b[38;5;241m=\u001b[39m \u001b[38;5;28mlist\u001b[39m(objs)\n\u001b[1;32m    504\u001b[0m \u001b[38;5;28;01mif\u001b[39;00m \u001b[38;5;28mlen\u001b[39m(objs_list) \u001b[38;5;241m==\u001b[39m \u001b[38;5;241m0\u001b[39m:\n\u001b[0;32m--> 505\u001b[0m     \u001b[38;5;28;01mraise\u001b[39;00m \u001b[38;5;167;01mValueError\u001b[39;00m(\u001b[38;5;124m\"\u001b[39m\u001b[38;5;124mNo objects to concatenate\u001b[39m\u001b[38;5;124m\"\u001b[39m)\n\u001b[1;32m    507\u001b[0m \u001b[38;5;28;01mif\u001b[39;00m keys \u001b[38;5;129;01mis\u001b[39;00m \u001b[38;5;28;01mNone\u001b[39;00m:\n\u001b[1;32m    508\u001b[0m     objs_list \u001b[38;5;241m=\u001b[39m \u001b[38;5;28mlist\u001b[39m(com\u001b[38;5;241m.\u001b[39mnot_none(\u001b[38;5;241m*\u001b[39mobjs_list))\n",
      "\u001b[0;31mValueError\u001b[0m: No objects to concatenate"
     ]
    }
   ],
   "source": [
    "all_df = pd.concat(all_data)\n",
    "\n",
    "# add causaldb metadata\n",
    "all_df = all_df.merge(causal_metadata_mapper, left_on='causaldb_fn', right_on='filename')\n",
    "\n",
    "all_df.loc[:, 'rsID'] = all_df.loc[:, 'rsID'].apply(lambda x: 'rs{}'.format(x))"
   ]
  },
  {
   "cell_type": "code",
   "execution_count": 5,
   "metadata": {},
   "outputs": [
    {
     "data": {
      "text/plain": [
       "8840"
      ]
     },
     "execution_count": 5,
     "metadata": {},
     "output_type": "execute_result"
    }
   ],
   "source": [
    "# extracing all the unique rsids for query\n",
    "rs_numbers = all_df.rsID.unique().tolist()\n",
    "\n",
    "len(rs_numbers)"
   ]
  },
  {
   "cell_type": "markdown",
   "metadata": {},
   "source": [
    "## Querying and adding coordinates from hg38 with checks"
   ]
  },
  {
   "cell_type": "code",
   "execution_count": 6,
   "metadata": {},
   "outputs": [
    {
     "name": "stdout",
     "output_type": "stream",
     "text": [
      "querying 1-1000...done.\n",
      "querying 1001-2000...done.\n",
      "querying 2001-3000...done.\n",
      "querying 3001-4000...done.\n",
      "querying 4001-5000...done.\n",
      "querying 5001-6000...done.\n",
      "querying 6001-7000...done.\n",
      "querying 7001-8000...done.\n",
      "querying 8001-8840...done.\n",
      "Finished.\n",
      "3923 input query terms found dup hits:\n",
      "\t[('rs34372802', 2), ('rs77411920', 2), ('rs6657092', 3), ('rs11264130', 3), ('rs552564', 2), ('rs120\n",
      "398 input query terms found no hit:\n",
      "\t['rs142528524', 'rs113429865', 'rs79725762', 'rs77516441', 'rs111289255', 'rs527435679', 'rs14809495\n",
      "Pass \"returnall=True\" to return complete lists of duplicate or missing query terms.\n",
      "querying 1-1000...done.\n",
      "querying 1001-2000...done.\n",
      "querying 2001-3000...done.\n",
      "querying 3001-4000...done.\n",
      "querying 4001-5000...done.\n",
      "querying 5001-6000...done.\n",
      "querying 6001-7000...done.\n",
      "querying 7001-8000...done.\n",
      "querying 8001-8840...done.\n",
      "Finished.\n",
      "3920 input query terms found dup hits:\n",
      "\t[('rs34372802', 2), ('rs77411920', 2), ('rs6657092', 3), ('rs11264130', 3), ('rs552564', 2), ('rs120\n",
      "402 input query terms found no hit:\n",
      "\t['rs142528524', 'rs113429865', 'rs79725762', 'rs77516441', 'rs111289255', 'rs527435679', 'rs14809495\n",
      "Pass \"returnall=True\" to return complete lists of duplicate or missing query terms.\n"
     ]
    }
   ],
   "source": [
    "# querying the variants in hg38\n",
    "mv = MyVariantInfo()\n",
    "rs_query_hg38 = mv.querymany(rs_numbers, \n",
    "                        scopes='dbsnp.rsid',\n",
    "                        fields=['hg38.start', 'dbsnp.chrom'],\n",
    "                        assembly='hg38',\n",
    "                        as_dataframe=True,\n",
    "                        verbose=True)\n",
    "\n",
    "# drop NA's and duplicates\n",
    "rs_query_hg38.dropna(subset=['hg38.start'], inplace=True)\n",
    "rs_query_hg38.drop_duplicates(subset=['dbsnp.chrom', 'hg38.start'], inplace=True)\n",
    "\n",
    "                        \n",
    "# querying the variants in hg19\n",
    "rs_query_hg19 = mv.querymany(rs_numbers, \n",
    "                        scopes='dbsnp.rsid',\n",
    "                        fields=['hg19.start', 'dbsnp.chrom'],\n",
    "                        assembly='hg19',\n",
    "                        as_dataframe=True,\n",
    "                        verbose=True)\n",
    "\n",
    "# drop NA's and duplicates\n",
    "rs_query_hg19.dropna(subset=['hg19.start'], inplace=True)\n",
    "rs_query_hg19.drop_duplicates(subset=['dbsnp.chrom', 'hg19.start'], inplace=True)"
   ]
  },
  {
   "cell_type": "code",
   "execution_count": 7,
   "metadata": {},
   "outputs": [],
   "source": [
    "rs_query = rs_query_hg38.merge(rs_query_hg19, suffixes=['_hg38', '_hg19'], left_index=True, right_index=True)"
   ]
  },
  {
   "cell_type": "code",
   "execution_count": 8,
   "metadata": {},
   "outputs": [],
   "source": [
    "rs_query.drop(['_id_hg38', '_score_hg38', 'dbsnp._license_hg38',\n",
    "                '_id_hg19', '_score_hg19', 'dbsnp._license_hg19'], axis=1, inplace=True)"
   ]
  },
  {
   "cell_type": "code",
   "execution_count": 9,
   "metadata": {},
   "outputs": [],
   "source": [
    "rs_query['hg38.start'] = rs_query['hg38.start'].astype(int)\n",
    "rs_query['hg19.start'] = rs_query['hg19.start'].astype(int)"
   ]
  },
  {
   "cell_type": "code",
   "execution_count": 10,
   "metadata": {},
   "outputs": [],
   "source": [
    "# merge back to the all_df\n",
    "all_hg38_df = all_df.merge(rs_query, left_on='rsID', right_index=True)\n",
    "\n",
    "# filtering for snp where the rs query returns the same hg19 coordinates \n",
    "# as the myvariant service\n",
    "chr_check = all_hg38_df['CHR'].astype(str) == all_hg38_df['dbsnp.chrom_hg19'].astype(str)\n",
    "snp_check = all_hg38_df['BP'].astype(int) == all_hg38_df['hg19.start'].astype(int)\n",
    "\n",
    "good_hg38_df = all_hg38_df.loc[chr_check & snp_check]"
   ]
  },
  {
   "attachments": {},
   "cell_type": "markdown",
   "metadata": {},
   "source": [
    "#### Checking issues with incongruent hg19 coordiates between CAUSALdb and dbSNP"
   ]
  },
  {
   "cell_type": "code",
   "execution_count": 11,
   "metadata": {},
   "outputs": [
    {
     "name": "stdout",
     "output_type": "stream",
     "text": [
      "There are 10466 initial SNP instances\n"
     ]
    }
   ],
   "source": [
    "print('There are {} initial SNP instances'.format(all_hg38_df.shape[0]))"
   ]
  },
  {
   "cell_type": "code",
   "execution_count": 12,
   "metadata": {},
   "outputs": [
    {
     "name": "stdout",
     "output_type": "stream",
     "text": [
      "There are 10114 good SNP instances\n"
     ]
    }
   ],
   "source": [
    "print('There are {} good SNP instances'.format(good_hg38_df.shape[0]))"
   ]
  },
  {
   "cell_type": "code",
   "execution_count": 13,
   "metadata": {},
   "outputs": [
    {
     "name": "stdout",
     "output_type": "stream",
     "text": [
      "There are 260 bad SNP instances due to pos\n"
     ]
    }
   ],
   "source": [
    "bad_pos_hg38_df = all_hg38_df.loc[chr_check & ~snp_check][['rsID', 'CHR', 'BP', 'dbsnp.chrom_hg19', 'hg19.start']]\n",
    "print('There are {} bad SNP instances due to pos'.format(bad_pos_hg38_df.shape[0]))"
   ]
  },
  {
   "cell_type": "code",
   "execution_count": 14,
   "metadata": {},
   "outputs": [
    {
     "data": {
      "text/html": [
       "<div>\n",
       "<style scoped>\n",
       "    .dataframe tbody tr th:only-of-type {\n",
       "        vertical-align: middle;\n",
       "    }\n",
       "\n",
       "    .dataframe tbody tr th {\n",
       "        vertical-align: top;\n",
       "    }\n",
       "\n",
       "    .dataframe thead th {\n",
       "        text-align: right;\n",
       "    }\n",
       "</style>\n",
       "<table border=\"1\" class=\"dataframe\">\n",
       "  <thead>\n",
       "    <tr style=\"text-align: right;\">\n",
       "      <th></th>\n",
       "      <th>rsID</th>\n",
       "      <th>CHR</th>\n",
       "      <th>BP</th>\n",
       "      <th>dbsnp.chrom_hg19</th>\n",
       "      <th>hg19.start</th>\n",
       "    </tr>\n",
       "  </thead>\n",
       "  <tbody>\n",
       "    <tr>\n",
       "      <th>1338</th>\n",
       "      <td>rs34937962</td>\n",
       "      <td>1</td>\n",
       "      <td>200761255</td>\n",
       "      <td>1</td>\n",
       "      <td>200761257</td>\n",
       "    </tr>\n",
       "    <tr>\n",
       "      <th>2917</th>\n",
       "      <td>rs34937962</td>\n",
       "      <td>1</td>\n",
       "      <td>200761255</td>\n",
       "      <td>1</td>\n",
       "      <td>200761257</td>\n",
       "    </tr>\n",
       "    <tr>\n",
       "      <th>1353</th>\n",
       "      <td>rs66733041</td>\n",
       "      <td>2</td>\n",
       "      <td>100762450</td>\n",
       "      <td>2</td>\n",
       "      <td>100762452</td>\n",
       "    </tr>\n",
       "    <tr>\n",
       "      <th>3303</th>\n",
       "      <td>rs66733041</td>\n",
       "      <td>2</td>\n",
       "      <td>100762450</td>\n",
       "      <td>2</td>\n",
       "      <td>100762452</td>\n",
       "    </tr>\n",
       "    <tr>\n",
       "      <th>1406</th>\n",
       "      <td>rs66739067</td>\n",
       "      <td>2</td>\n",
       "      <td>100793341</td>\n",
       "      <td>2</td>\n",
       "      <td>100793343</td>\n",
       "    </tr>\n",
       "  </tbody>\n",
       "</table>\n",
       "</div>"
      ],
      "text/plain": [
       "            rsID  CHR         BP dbsnp.chrom_hg19  hg19.start\n",
       "1338  rs34937962    1  200761255                1   200761257\n",
       "2917  rs34937962    1  200761255                1   200761257\n",
       "1353  rs66733041    2  100762450                2   100762452\n",
       "3303  rs66733041    2  100762450                2   100762452\n",
       "1406  rs66739067    2  100793341                2   100793343"
      ]
     },
     "execution_count": 14,
     "metadata": {},
     "output_type": "execute_result"
    }
   ],
   "source": [
    "bad_pos_hg38_df.head()"
   ]
  },
  {
   "cell_type": "code",
   "execution_count": 15,
   "metadata": {},
   "outputs": [
    {
     "name": "stdout",
     "output_type": "stream",
     "text": [
      "There are 92 bad SNP instances due to chr\n"
     ]
    }
   ],
   "source": [
    "bad_chr_hg38_df = all_hg38_df.loc[~chr_check & ~snp_check][['rsID', 'CHR', 'BP', 'dbsnp.chrom_hg19', 'hg19.start']]\n",
    "print('There are {} bad SNP instances due to chr'.format(bad_chr_hg38_df.shape[0]))"
   ]
  },
  {
   "cell_type": "code",
   "execution_count": 16,
   "metadata": {},
   "outputs": [
    {
     "data": {
      "text/html": [
       "<div>\n",
       "<style scoped>\n",
       "    .dataframe tbody tr th:only-of-type {\n",
       "        vertical-align: middle;\n",
       "    }\n",
       "\n",
       "    .dataframe tbody tr th {\n",
       "        vertical-align: top;\n",
       "    }\n",
       "\n",
       "    .dataframe thead th {\n",
       "        text-align: right;\n",
       "    }\n",
       "</style>\n",
       "<table border=\"1\" class=\"dataframe\">\n",
       "  <thead>\n",
       "    <tr style=\"text-align: right;\">\n",
       "      <th></th>\n",
       "      <th>rsID</th>\n",
       "      <th>CHR</th>\n",
       "      <th>BP</th>\n",
       "      <th>dbsnp.chrom_hg19</th>\n",
       "      <th>hg19.start</th>\n",
       "    </tr>\n",
       "  </thead>\n",
       "  <tbody>\n",
       "    <tr>\n",
       "      <th>2067</th>\n",
       "      <td>rs1388113297</td>\n",
       "      <td>12</td>\n",
       "      <td>9910164</td>\n",
       "      <td>8</td>\n",
       "      <td>122004498</td>\n",
       "    </tr>\n",
       "    <tr>\n",
       "      <th>4894</th>\n",
       "      <td>rs1388113297</td>\n",
       "      <td>12</td>\n",
       "      <td>9910164</td>\n",
       "      <td>8</td>\n",
       "      <td>122004498</td>\n",
       "    </tr>\n",
       "    <tr>\n",
       "      <th>4793</th>\n",
       "      <td>rs1388091085</td>\n",
       "      <td>12</td>\n",
       "      <td>9123932</td>\n",
       "      <td>4</td>\n",
       "      <td>160140439</td>\n",
       "    </tr>\n",
       "    <tr>\n",
       "      <th>4794</th>\n",
       "      <td>rs1388091076</td>\n",
       "      <td>12</td>\n",
       "      <td>9123477</td>\n",
       "      <td>9</td>\n",
       "      <td>70154083</td>\n",
       "    </tr>\n",
       "    <tr>\n",
       "      <th>4795</th>\n",
       "      <td>rs1388091050</td>\n",
       "      <td>12</td>\n",
       "      <td>9122609</td>\n",
       "      <td>4</td>\n",
       "      <td>146752648</td>\n",
       "    </tr>\n",
       "  </tbody>\n",
       "</table>\n",
       "</div>"
      ],
      "text/plain": [
       "              rsID  CHR       BP dbsnp.chrom_hg19  hg19.start\n",
       "2067  rs1388113297   12  9910164                8   122004498\n",
       "4894  rs1388113297   12  9910164                8   122004498\n",
       "4793  rs1388091085   12  9123932                4   160140439\n",
       "4794  rs1388091076   12  9123477                9    70154083\n",
       "4795  rs1388091050   12  9122609                4   146752648"
      ]
     },
     "execution_count": 16,
     "metadata": {},
     "output_type": "execute_result"
    }
   ],
   "source": [
    "bad_chr_hg38_df.head()"
   ]
  },
  {
   "cell_type": "markdown",
   "metadata": {},
   "source": [
    "## Save the hg38 versions of the total_credible_set.txt"
   ]
  },
  {
   "cell_type": "code",
   "execution_count": 17,
   "metadata": {},
   "outputs": [],
   "source": [
    "# swap the hg19 with hg38 coords\n",
    "good_hg38_df['BP'] = good_hg38_df['hg38.start']\n",
    "\n",
    "# drop uncessary columns\n",
    "good_hg38_df.drop(['dbsnp.chrom_hg38',\n",
    "                    'hg38.start',\n",
    "                    'notfound_hg38',\n",
    "                    'dbsnp.chrom_hg19',\n",
    "                    'hg19.start',\n",
    "                    'notfound_hg19'], axis=1, inplace=True)"
   ]
  },
  {
   "cell_type": "code",
   "execution_count": 18,
   "metadata": {},
   "outputs": [
    {
     "data": {
      "text/plain": [
       "['CHR',\n",
       " 'BP',\n",
       " 'rsID',\n",
       " 'MAF',\n",
       " 'EA',\n",
       " 'NEA',\n",
       " 'BETA',\n",
       " 'SE',\n",
       " 'P',\n",
       " 'Zscore',\n",
       " 'PAINTOR',\n",
       " 'CAVIARBF',\n",
       " 'FINEMAP',\n",
       " 'meta_id',\n",
       " 'block_id',\n",
       " 'label',\n",
       " 'causaldb_fn',\n",
       " 'mesh_term',\n",
       " 'author',\n",
       " 'filename']"
      ]
     },
     "execution_count": 18,
     "metadata": {},
     "output_type": "execute_result"
    }
   ],
   "source": [
    "good_hg38_df.columns.tolist()"
   ]
  },
  {
   "cell_type": "code",
   "execution_count": 19,
   "metadata": {},
   "outputs": [],
   "source": [
    "tmpl = 'results/hg38/finemapping/snps/singles/{}_total_credible_set.hg38.txt'\n",
    "for filename, grp_df in good_hg38_df.groupby('filename'):\n",
    "    outfn = tmpl.format(filename)\n",
    "    grp_df.drop(['mesh_term', 'author', 'filename'], axis=1, inplace=True)\n",
    "    grp_df.to_csv(outfn, sep='\\t', index=False, header=True)"
   ]
  }
 ],
 "metadata": {
  "kernelspec": {
   "display_name": "Python 3",
   "language": "python",
   "name": "python3"
  },
  "language_info": {
   "codemirror_mode": {
    "name": "ipython",
    "version": 3
   },
   "file_extension": ".py",
   "mimetype": "text/x-python",
   "name": "python",
   "nbconvert_exporter": "python",
   "pygments_lexer": "ipython3",
   "version": "3.12.0"
  },
  "orig_nbformat": 4
 },
 "nbformat": 4,
 "nbformat_minor": 2
}
