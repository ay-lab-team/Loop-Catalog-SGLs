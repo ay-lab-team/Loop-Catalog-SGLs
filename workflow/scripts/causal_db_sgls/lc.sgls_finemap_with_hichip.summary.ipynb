{
 "cells": [
  {
   "cell_type": "code",
   "execution_count": 1,
   "metadata": {},
   "outputs": [],
   "source": [
    "import os\n",
    "import glob\n",
    "import pandas as pd \n",
    "from matplotlib import pyplot as plt\n",
    "import seaborn as sns \n",
    "sns.set_theme(style=\"whitegrid\")\n",
    "\n",
    "pd.options.display.max_rows = 200\n",
    "\n",
    "os.chdir('/mnt/BioAdHoc/Groups/vd-ay/jreyna/projects/Loop-Catalog-SGLs/')\n",
    "\n",
    "outdir = 'results/hg38/finemapping/sgls_summary/'\n",
    "os.makedirs(outdir, exist_ok=True)"
   ]
  },
  {
   "cell_type": "markdown",
   "metadata": {},
   "source": [
    "#### Adding gene information"
   ]
  },
  {
   "cell_type": "code",
   "execution_count": 2,
   "metadata": {},
   "outputs": [
    {
     "name": "stderr",
     "output_type": "stream",
     "text": [
      "<>:7: SyntaxWarning: invalid escape sequence '\\.'\n",
      "<>:7: SyntaxWarning: invalid escape sequence '\\.'\n",
      "/mnt/BioHome/jreyna/tmp/ipykernel_2221860/3830488000.py:7: SyntaxWarning: invalid escape sequence '\\.'\n",
      "  gencode_df.loc[:,'geneid'] = gencode_df.loc[:,'geneid'].str.replace('\\.[0-9]*', '', regex=True)\n"
     ]
    }
   ],
   "source": [
    "old_fn = 'results/hg38/refs/gencode/v30/gencode.v30.annotation.w_genetypes.bed'\n",
    "fn = 'results/hg38/refs/gencode/v30/gencode.v30.annotation.genes_only.bed.gz'\n",
    "gencode_df = pd.read_table(fn, header=None)\n",
    "gencode_df = gencode_df.iloc[:, [0,1,2,5,6,7,8]]\n",
    "gencode_df.columns =['chrom', 'start', 'end', 'strand', 'genename', 'geneid', 'genetype']\n",
    "# gencode_df = gencode_df.loc[gencode_df.type == 'gene'].drop('type', axis=1)\n",
    "gencode_df.loc[:,'geneid'] = gencode_df.loc[:,'geneid'].str.replace('\\.[0-9]*', '', regex=True)"
   ]
  },
  {
   "cell_type": "code",
   "execution_count": 3,
   "metadata": {},
   "outputs": [
    {
     "data": {
      "text/html": [
       "<div>\n",
       "<style scoped>\n",
       "    .dataframe tbody tr th:only-of-type {\n",
       "        vertical-align: middle;\n",
       "    }\n",
       "\n",
       "    .dataframe tbody tr th {\n",
       "        vertical-align: top;\n",
       "    }\n",
       "\n",
       "    .dataframe thead th {\n",
       "        text-align: right;\n",
       "    }\n",
       "</style>\n",
       "<table border=\"1\" class=\"dataframe\">\n",
       "  <thead>\n",
       "    <tr style=\"text-align: right;\">\n",
       "      <th></th>\n",
       "      <th>chrom</th>\n",
       "      <th>start</th>\n",
       "      <th>end</th>\n",
       "      <th>strand</th>\n",
       "      <th>genename</th>\n",
       "      <th>geneid</th>\n",
       "      <th>genetype</th>\n",
       "    </tr>\n",
       "  </thead>\n",
       "  <tbody>\n",
       "    <tr>\n",
       "      <th>0</th>\n",
       "      <td>chr1</td>\n",
       "      <td>11868</td>\n",
       "      <td>14409</td>\n",
       "      <td>+</td>\n",
       "      <td>DDX11L1</td>\n",
       "      <td>ENSG00000223972</td>\n",
       "      <td>transcribed_unprocessed_pseudogene</td>\n",
       "    </tr>\n",
       "    <tr>\n",
       "      <th>1</th>\n",
       "      <td>chr1</td>\n",
       "      <td>14403</td>\n",
       "      <td>29570</td>\n",
       "      <td>-</td>\n",
       "      <td>WASH7P</td>\n",
       "      <td>ENSG00000227232</td>\n",
       "      <td>unprocessed_pseudogene</td>\n",
       "    </tr>\n",
       "    <tr>\n",
       "      <th>2</th>\n",
       "      <td>chr1</td>\n",
       "      <td>17368</td>\n",
       "      <td>17436</td>\n",
       "      <td>-</td>\n",
       "      <td>MIR6859-1</td>\n",
       "      <td>ENSG00000278267</td>\n",
       "      <td>miRNA</td>\n",
       "    </tr>\n",
       "    <tr>\n",
       "      <th>3</th>\n",
       "      <td>chr1</td>\n",
       "      <td>29553</td>\n",
       "      <td>31109</td>\n",
       "      <td>+</td>\n",
       "      <td>MIR1302-2HG</td>\n",
       "      <td>ENSG00000243485</td>\n",
       "      <td>lincRNA</td>\n",
       "    </tr>\n",
       "    <tr>\n",
       "      <th>4</th>\n",
       "      <td>chr1</td>\n",
       "      <td>30365</td>\n",
       "      <td>30503</td>\n",
       "      <td>+</td>\n",
       "      <td>MIR1302-2</td>\n",
       "      <td>ENSG00000284332</td>\n",
       "      <td>miRNA</td>\n",
       "    </tr>\n",
       "    <tr>\n",
       "      <th>...</th>\n",
       "      <td>...</td>\n",
       "      <td>...</td>\n",
       "      <td>...</td>\n",
       "      <td>...</td>\n",
       "      <td>...</td>\n",
       "      <td>...</td>\n",
       "      <td>...</td>\n",
       "    </tr>\n",
       "    <tr>\n",
       "      <th>58865</th>\n",
       "      <td>chrY</td>\n",
       "      <td>57184100</td>\n",
       "      <td>57197337</td>\n",
       "      <td>+</td>\n",
       "      <td>IL9R</td>\n",
       "      <td>ENSG00000124334_PAR_Y</td>\n",
       "      <td>protein_coding</td>\n",
       "    </tr>\n",
       "    <tr>\n",
       "      <th>58866</th>\n",
       "      <td>chrY</td>\n",
       "      <td>57190737</td>\n",
       "      <td>57208756</td>\n",
       "      <td>+</td>\n",
       "      <td>AJ271736.1</td>\n",
       "      <td>ENSG00000270726_PAR_Y</td>\n",
       "      <td>processed_transcript</td>\n",
       "    </tr>\n",
       "    <tr>\n",
       "      <th>58867</th>\n",
       "      <td>chrY</td>\n",
       "      <td>57201142</td>\n",
       "      <td>57203357</td>\n",
       "      <td>-</td>\n",
       "      <td>WASIR1</td>\n",
       "      <td>ENSG00000185203_PAR_Y</td>\n",
       "      <td>antisense</td>\n",
       "    </tr>\n",
       "    <tr>\n",
       "      <th>58868</th>\n",
       "      <td>chrY</td>\n",
       "      <td>57207345</td>\n",
       "      <td>57212230</td>\n",
       "      <td>+</td>\n",
       "      <td>WASH6P</td>\n",
       "      <td>ENSG00000182484_PAR_Y</td>\n",
       "      <td>transcribed_unprocessed_pseudogene</td>\n",
       "    </tr>\n",
       "    <tr>\n",
       "      <th>58869</th>\n",
       "      <td>chrY</td>\n",
       "      <td>57212183</td>\n",
       "      <td>57214397</td>\n",
       "      <td>-</td>\n",
       "      <td>DDX11L16</td>\n",
       "      <td>ENSG00000227159_PAR_Y</td>\n",
       "      <td>unprocessed_pseudogene</td>\n",
       "    </tr>\n",
       "  </tbody>\n",
       "</table>\n",
       "<p>58870 rows × 7 columns</p>\n",
       "</div>"
      ],
      "text/plain": [
       "      chrom     start       end strand     genename                 geneid  \\\n",
       "0      chr1     11868     14409      +      DDX11L1        ENSG00000223972   \n",
       "1      chr1     14403     29570      -       WASH7P        ENSG00000227232   \n",
       "2      chr1     17368     17436      -    MIR6859-1        ENSG00000278267   \n",
       "3      chr1     29553     31109      +  MIR1302-2HG        ENSG00000243485   \n",
       "4      chr1     30365     30503      +    MIR1302-2        ENSG00000284332   \n",
       "...     ...       ...       ...    ...          ...                    ...   \n",
       "58865  chrY  57184100  57197337      +         IL9R  ENSG00000124334_PAR_Y   \n",
       "58866  chrY  57190737  57208756      +   AJ271736.1  ENSG00000270726_PAR_Y   \n",
       "58867  chrY  57201142  57203357      -       WASIR1  ENSG00000185203_PAR_Y   \n",
       "58868  chrY  57207345  57212230      +       WASH6P  ENSG00000182484_PAR_Y   \n",
       "58869  chrY  57212183  57214397      -     DDX11L16  ENSG00000227159_PAR_Y   \n",
       "\n",
       "                                 genetype  \n",
       "0      transcribed_unprocessed_pseudogene  \n",
       "1                  unprocessed_pseudogene  \n",
       "2                                   miRNA  \n",
       "3                                 lincRNA  \n",
       "4                                   miRNA  \n",
       "...                                   ...  \n",
       "58865                      protein_coding  \n",
       "58866                processed_transcript  \n",
       "58867                           antisense  \n",
       "58868  transcribed_unprocessed_pseudogene  \n",
       "58869              unprocessed_pseudogene  \n",
       "\n",
       "[58870 rows x 7 columns]"
      ]
     },
     "execution_count": 3,
     "metadata": {},
     "output_type": "execute_result"
    }
   ],
   "source": [
    "gencode_df"
   ]
  },
  {
   "cell_type": "markdown",
   "metadata": {},
   "source": [
    "## Load all SGL Data\n"
   ]
  },
  {
   "cell_type": "code",
   "execution_count": 4,
   "metadata": {},
   "outputs": [],
   "source": [
    "#fns = glob.glob('results/hg38/finemapping/sgls/*/Naive_B_1814-RH-1.phs001703v3p1.Homo_Sapiens.H3K27ac.b1.5000.finemap_sgls.tsv')\n",
    "fns = glob.glob('results/hg38/finemapping/sgls/*/*.finemap_sgls.tsv')\n",
    "\n",
    "# # removing all donors for this analysis\n",
    "# fns = [x for x in fns if 'All-Donors' not in x]\n",
    "\n",
    "# # removign all biorep donors from this analysis\n",
    "# fns = [x for x in fns if 'biorep_merged' not in x]"
   ]
  },
  {
   "cell_type": "code",
   "execution_count": 5,
   "metadata": {},
   "outputs": [],
   "source": [
    "all_data = []\n",
    "for fn in fns:\n",
    "    \n",
    "    # split meta information\n",
    "    info = fn.split('/')\n",
    "    genome = info[1]\n",
    "    causaldb_fn = info[4]\n",
    "    sample = info[5].rsplit('.', maxsplit=3)[0]\n",
    "\n",
    "    # load sgl table\n",
    "    tdf = pd.read_table(fn)\n",
    "    tdf.loc[:, 'causaldb_fn'] = causaldb_fn\n",
    "    tdf.loc[:, 'sample'] = sample\n",
    "\n",
    "    # append to all\n",
    "    all_data.append(tdf)\n",
    "\n",
    "all_df = pd.concat(all_data)\n",
    "all_df.rename(columns={'-log10_qval': '-log10_qval_loop'}, inplace=True)"
   ]
  },
  {
   "cell_type": "code",
   "execution_count": 6,
   "metadata": {},
   "outputs": [
    {
     "data": {
      "text/html": [
       "<div>\n",
       "<style scoped>\n",
       "    .dataframe tbody tr th:only-of-type {\n",
       "        vertical-align: middle;\n",
       "    }\n",
       "\n",
       "    .dataframe tbody tr th {\n",
       "        vertical-align: top;\n",
       "    }\n",
       "\n",
       "    .dataframe thead th {\n",
       "        text-align: right;\n",
       "    }\n",
       "</style>\n",
       "<table border=\"1\" class=\"dataframe\">\n",
       "  <thead>\n",
       "    <tr style=\"text-align: right;\">\n",
       "      <th></th>\n",
       "      <th>chrA_loop</th>\n",
       "      <th>startA_loop</th>\n",
       "      <th>endA_loop</th>\n",
       "      <th>chrB_loop</th>\n",
       "      <th>startB_loop</th>\n",
       "      <th>endB_loop</th>\n",
       "      <th>-log10_qval_loop</th>\n",
       "      <th>chrom</th>\n",
       "      <th>start_snp</th>\n",
       "      <th>end_snp</th>\n",
       "      <th>...</th>\n",
       "      <th>label</th>\n",
       "      <th>causaldb_fn</th>\n",
       "      <th>snp_anchor</th>\n",
       "      <th>chr_gene</th>\n",
       "      <th>start_gene</th>\n",
       "      <th>end_gene</th>\n",
       "      <th>genename</th>\n",
       "      <th>geneid</th>\n",
       "      <th>strand</th>\n",
       "      <th>sample</th>\n",
       "    </tr>\n",
       "  </thead>\n",
       "  <tbody>\n",
       "    <tr>\n",
       "      <th>0</th>\n",
       "      <td>1</td>\n",
       "      <td>113830000</td>\n",
       "      <td>113835000</td>\n",
       "      <td>1</td>\n",
       "      <td>113925000</td>\n",
       "      <td>113930000</td>\n",
       "      <td>4.663678</td>\n",
       "      <td>1</td>\n",
       "      <td>113834945</td>\n",
       "      <td>113834946</td>\n",
       "      <td>...</td>\n",
       "      <td>7.0</td>\n",
       "      <td>CA266</td>\n",
       "      <td>AnchorA</td>\n",
       "      <td>1</td>\n",
       "      <td>113929323</td>\n",
       "      <td>113929324</td>\n",
       "      <td>HIPK1</td>\n",
       "      <td>ENSG00000163349</td>\n",
       "      <td>+</td>\n",
       "      <td>CD4_Naive_1831-RH-1.phs001703v3p1.Homo_Sapiens...</td>\n",
       "    </tr>\n",
       "    <tr>\n",
       "      <th>1</th>\n",
       "      <td>1</td>\n",
       "      <td>113830000</td>\n",
       "      <td>113835000</td>\n",
       "      <td>1</td>\n",
       "      <td>113925000</td>\n",
       "      <td>113930000</td>\n",
       "      <td>4.663678</td>\n",
       "      <td>1</td>\n",
       "      <td>113834945</td>\n",
       "      <td>113834946</td>\n",
       "      <td>...</td>\n",
       "      <td>7.0</td>\n",
       "      <td>CA266</td>\n",
       "      <td>AnchorA</td>\n",
       "      <td>1</td>\n",
       "      <td>113929491</td>\n",
       "      <td>113929492</td>\n",
       "      <td>HIPK1-AS1</td>\n",
       "      <td>ENSG00000235527</td>\n",
       "      <td>-</td>\n",
       "      <td>CD4_Naive_1831-RH-1.phs001703v3p1.Homo_Sapiens...</td>\n",
       "    </tr>\n",
       "    <tr>\n",
       "      <th>2</th>\n",
       "      <td>12</td>\n",
       "      <td>56040000</td>\n",
       "      <td>56045000</td>\n",
       "      <td>12</td>\n",
       "      <td>56100000</td>\n",
       "      <td>56105000</td>\n",
       "      <td>5.029779</td>\n",
       "      <td>12</td>\n",
       "      <td>56041627</td>\n",
       "      <td>56041628</td>\n",
       "      <td>...</td>\n",
       "      <td>7.0</td>\n",
       "      <td>CA266</td>\n",
       "      <td>AnchorA</td>\n",
       "      <td>12</td>\n",
       "      <td>56101330</td>\n",
       "      <td>56101331</td>\n",
       "      <td>AC034102.2</td>\n",
       "      <td>ENSG00000257411</td>\n",
       "      <td>+</td>\n",
       "      <td>CD4_Naive_1831-RH-1.phs001703v3p1.Homo_Sapiens...</td>\n",
       "    </tr>\n",
       "  </tbody>\n",
       "</table>\n",
       "<p>3 rows × 33 columns</p>\n",
       "</div>"
      ],
      "text/plain": [
       "   chrA_loop  startA_loop  endA_loop  chrB_loop  startB_loop  endB_loop  \\\n",
       "0          1    113830000  113835000          1    113925000  113930000   \n",
       "1          1    113830000  113835000          1    113925000  113930000   \n",
       "2         12     56040000   56045000         12     56100000   56105000   \n",
       "\n",
       "   -log10_qval_loop  chrom  start_snp    end_snp  ... label  causaldb_fn  \\\n",
       "0          4.663678      1  113834945  113834946  ...   7.0        CA266   \n",
       "1          4.663678      1  113834945  113834946  ...   7.0        CA266   \n",
       "2          5.029779     12   56041627   56041628  ...   7.0        CA266   \n",
       "\n",
       "  snp_anchor chr_gene  start_gene   end_gene    genename           geneid  \\\n",
       "0    AnchorA        1   113929323  113929324       HIPK1  ENSG00000163349   \n",
       "1    AnchorA        1   113929491  113929492   HIPK1-AS1  ENSG00000235527   \n",
       "2    AnchorA       12    56101330   56101331  AC034102.2  ENSG00000257411   \n",
       "\n",
       "   strand                                             sample  \n",
       "0       +  CD4_Naive_1831-RH-1.phs001703v3p1.Homo_Sapiens...  \n",
       "1       -  CD4_Naive_1831-RH-1.phs001703v3p1.Homo_Sapiens...  \n",
       "2       +  CD4_Naive_1831-RH-1.phs001703v3p1.Homo_Sapiens...  \n",
       "\n",
       "[3 rows x 33 columns]"
      ]
     },
     "execution_count": 6,
     "metadata": {},
     "output_type": "execute_result"
    }
   ],
   "source": [
    "all_df.head(3)"
   ]
  },
  {
   "cell_type": "code",
   "execution_count": 7,
   "metadata": {},
   "outputs": [],
   "source": [
    "# load meta information\n",
    "causal_metadata_fn = 'workflow/scripts/finemap_sgls/causal_db/init.gwas_study.causal_db.immune_select_samples.tsv'\n",
    "causal_metadata = pd.read_table(causal_metadata_fn, header=None)\n",
    "\n",
    "# merge meta data\n",
    "causal_metadata_mapper =  causal_metadata.iloc[:, [2, 8, 18]]\n",
    "causal_metadata_mapper.columns = ['mesh_term', 'author', 'filename']\n",
    "all_df = all_df.merge(causal_metadata_mapper, left_on='causaldb_fn', right_on='filename')\n",
    "\n",
    "# add snp position\n",
    "all_df['snp_pos'] = all_df['chrom'].astype(str) + ':' + all_df['end_snp'].astype(str)"
   ]
  },
  {
   "cell_type": "code",
   "execution_count": 8,
   "metadata": {},
   "outputs": [
    {
     "data": {
      "text/html": [
       "<div>\n",
       "<style scoped>\n",
       "    .dataframe tbody tr th:only-of-type {\n",
       "        vertical-align: middle;\n",
       "    }\n",
       "\n",
       "    .dataframe tbody tr th {\n",
       "        vertical-align: top;\n",
       "    }\n",
       "\n",
       "    .dataframe thead th {\n",
       "        text-align: right;\n",
       "    }\n",
       "</style>\n",
       "<table border=\"1\" class=\"dataframe\">\n",
       "  <thead>\n",
       "    <tr style=\"text-align: right;\">\n",
       "      <th></th>\n",
       "      <th>chrA_loop</th>\n",
       "      <th>startA_loop</th>\n",
       "      <th>endA_loop</th>\n",
       "      <th>chrB_loop</th>\n",
       "      <th>startB_loop</th>\n",
       "      <th>endB_loop</th>\n",
       "      <th>-log10_qval_loop</th>\n",
       "      <th>chrom</th>\n",
       "      <th>start_snp</th>\n",
       "      <th>end_snp</th>\n",
       "      <th>...</th>\n",
       "      <th>start_gene</th>\n",
       "      <th>end_gene</th>\n",
       "      <th>genename</th>\n",
       "      <th>geneid</th>\n",
       "      <th>strand</th>\n",
       "      <th>sample</th>\n",
       "      <th>mesh_term</th>\n",
       "      <th>author</th>\n",
       "      <th>filename</th>\n",
       "      <th>snp_pos</th>\n",
       "    </tr>\n",
       "  </thead>\n",
       "  <tbody>\n",
       "    <tr>\n",
       "      <th>0</th>\n",
       "      <td>1</td>\n",
       "      <td>113830000</td>\n",
       "      <td>113835000</td>\n",
       "      <td>1</td>\n",
       "      <td>113925000</td>\n",
       "      <td>113930000</td>\n",
       "      <td>4.663678</td>\n",
       "      <td>1</td>\n",
       "      <td>113834945</td>\n",
       "      <td>113834946</td>\n",
       "      <td>...</td>\n",
       "      <td>113929323</td>\n",
       "      <td>113929324</td>\n",
       "      <td>HIPK1</td>\n",
       "      <td>ENSG00000163349</td>\n",
       "      <td>+</td>\n",
       "      <td>CD4_Naive_1831-RH-1.phs001703v3p1.Homo_Sapiens...</td>\n",
       "      <td>Diabetes Mellitus, Type 1</td>\n",
       "      <td>Onengut Gumuscu S</td>\n",
       "      <td>CA266</td>\n",
       "      <td>1:113834946</td>\n",
       "    </tr>\n",
       "    <tr>\n",
       "      <th>1</th>\n",
       "      <td>1</td>\n",
       "      <td>113830000</td>\n",
       "      <td>113835000</td>\n",
       "      <td>1</td>\n",
       "      <td>113925000</td>\n",
       "      <td>113930000</td>\n",
       "      <td>4.663678</td>\n",
       "      <td>1</td>\n",
       "      <td>113834945</td>\n",
       "      <td>113834946</td>\n",
       "      <td>...</td>\n",
       "      <td>113929491</td>\n",
       "      <td>113929492</td>\n",
       "      <td>HIPK1-AS1</td>\n",
       "      <td>ENSG00000235527</td>\n",
       "      <td>-</td>\n",
       "      <td>CD4_Naive_1831-RH-1.phs001703v3p1.Homo_Sapiens...</td>\n",
       "      <td>Diabetes Mellitus, Type 1</td>\n",
       "      <td>Onengut Gumuscu S</td>\n",
       "      <td>CA266</td>\n",
       "      <td>1:113834946</td>\n",
       "    </tr>\n",
       "    <tr>\n",
       "      <th>2</th>\n",
       "      <td>12</td>\n",
       "      <td>56040000</td>\n",
       "      <td>56045000</td>\n",
       "      <td>12</td>\n",
       "      <td>56100000</td>\n",
       "      <td>56105000</td>\n",
       "      <td>5.029779</td>\n",
       "      <td>12</td>\n",
       "      <td>56041627</td>\n",
       "      <td>56041628</td>\n",
       "      <td>...</td>\n",
       "      <td>56101330</td>\n",
       "      <td>56101331</td>\n",
       "      <td>AC034102.2</td>\n",
       "      <td>ENSG00000257411</td>\n",
       "      <td>+</td>\n",
       "      <td>CD4_Naive_1831-RH-1.phs001703v3p1.Homo_Sapiens...</td>\n",
       "      <td>Diabetes Mellitus, Type 1</td>\n",
       "      <td>Onengut Gumuscu S</td>\n",
       "      <td>CA266</td>\n",
       "      <td>12:56041628</td>\n",
       "    </tr>\n",
       "    <tr>\n",
       "      <th>3</th>\n",
       "      <td>12</td>\n",
       "      <td>56040000</td>\n",
       "      <td>56045000</td>\n",
       "      <td>12</td>\n",
       "      <td>56100000</td>\n",
       "      <td>56105000</td>\n",
       "      <td>5.029779</td>\n",
       "      <td>12</td>\n",
       "      <td>56041627</td>\n",
       "      <td>56041628</td>\n",
       "      <td>...</td>\n",
       "      <td>56104536</td>\n",
       "      <td>56104537</td>\n",
       "      <td>PA2G4</td>\n",
       "      <td>ENSG00000170515</td>\n",
       "      <td>+</td>\n",
       "      <td>CD4_Naive_1831-RH-1.phs001703v3p1.Homo_Sapiens...</td>\n",
       "      <td>Diabetes Mellitus, Type 1</td>\n",
       "      <td>Onengut Gumuscu S</td>\n",
       "      <td>CA266</td>\n",
       "      <td>12:56041628</td>\n",
       "    </tr>\n",
       "    <tr>\n",
       "      <th>4</th>\n",
       "      <td>12</td>\n",
       "      <td>56040000</td>\n",
       "      <td>56045000</td>\n",
       "      <td>12</td>\n",
       "      <td>56100000</td>\n",
       "      <td>56105000</td>\n",
       "      <td>5.029779</td>\n",
       "      <td>12</td>\n",
       "      <td>56041719</td>\n",
       "      <td>56041720</td>\n",
       "      <td>...</td>\n",
       "      <td>56101330</td>\n",
       "      <td>56101331</td>\n",
       "      <td>AC034102.2</td>\n",
       "      <td>ENSG00000257411</td>\n",
       "      <td>+</td>\n",
       "      <td>CD4_Naive_1831-RH-1.phs001703v3p1.Homo_Sapiens...</td>\n",
       "      <td>Diabetes Mellitus, Type 1</td>\n",
       "      <td>Onengut Gumuscu S</td>\n",
       "      <td>CA266</td>\n",
       "      <td>12:56041720</td>\n",
       "    </tr>\n",
       "  </tbody>\n",
       "</table>\n",
       "<p>5 rows × 37 columns</p>\n",
       "</div>"
      ],
      "text/plain": [
       "   chrA_loop  startA_loop  endA_loop  chrB_loop  startB_loop  endB_loop  \\\n",
       "0          1    113830000  113835000          1    113925000  113930000   \n",
       "1          1    113830000  113835000          1    113925000  113930000   \n",
       "2         12     56040000   56045000         12     56100000   56105000   \n",
       "3         12     56040000   56045000         12     56100000   56105000   \n",
       "4         12     56040000   56045000         12     56100000   56105000   \n",
       "\n",
       "   -log10_qval_loop  chrom  start_snp    end_snp  ... start_gene   end_gene  \\\n",
       "0          4.663678      1  113834945  113834946  ...  113929323  113929324   \n",
       "1          4.663678      1  113834945  113834946  ...  113929491  113929492   \n",
       "2          5.029779     12   56041627   56041628  ...   56101330   56101331   \n",
       "3          5.029779     12   56041627   56041628  ...   56104536   56104537   \n",
       "4          5.029779     12   56041719   56041720  ...   56101330   56101331   \n",
       "\n",
       "     genename           geneid  strand  \\\n",
       "0       HIPK1  ENSG00000163349       +   \n",
       "1   HIPK1-AS1  ENSG00000235527       -   \n",
       "2  AC034102.2  ENSG00000257411       +   \n",
       "3       PA2G4  ENSG00000170515       +   \n",
       "4  AC034102.2  ENSG00000257411       +   \n",
       "\n",
       "                                              sample  \\\n",
       "0  CD4_Naive_1831-RH-1.phs001703v3p1.Homo_Sapiens...   \n",
       "1  CD4_Naive_1831-RH-1.phs001703v3p1.Homo_Sapiens...   \n",
       "2  CD4_Naive_1831-RH-1.phs001703v3p1.Homo_Sapiens...   \n",
       "3  CD4_Naive_1831-RH-1.phs001703v3p1.Homo_Sapiens...   \n",
       "4  CD4_Naive_1831-RH-1.phs001703v3p1.Homo_Sapiens...   \n",
       "\n",
       "                   mesh_term             author  filename      snp_pos  \n",
       "0  Diabetes Mellitus, Type 1  Onengut Gumuscu S     CA266  1:113834946  \n",
       "1  Diabetes Mellitus, Type 1  Onengut Gumuscu S     CA266  1:113834946  \n",
       "2  Diabetes Mellitus, Type 1  Onengut Gumuscu S     CA266  12:56041628  \n",
       "3  Diabetes Mellitus, Type 1  Onengut Gumuscu S     CA266  12:56041628  \n",
       "4  Diabetes Mellitus, Type 1  Onengut Gumuscu S     CA266  12:56041720  \n",
       "\n",
       "[5 rows x 37 columns]"
      ]
     },
     "execution_count": 8,
     "metadata": {},
     "output_type": "execute_result"
    }
   ],
   "source": [
    "all_df.head()"
   ]
  },
  {
   "cell_type": "markdown",
   "metadata": {},
   "source": [
    "#### Mini-summary"
   ]
  },
  {
   "cell_type": "code",
   "execution_count": 9,
   "metadata": {},
   "outputs": [
    {
     "data": {
      "text/plain": [
       "(28595, 37)"
      ]
     },
     "execution_count": 9,
     "metadata": {},
     "output_type": "execute_result"
    }
   ],
   "source": [
    "t = all_df.drop_duplicates(subset=['chrA_loop', 'startA_loop', 'chrB_loop', 'startB_loop', 'snp_pos', 'geneid', 'mesh_term'])\n",
    "t.shape"
   ]
  },
  {
   "cell_type": "code",
   "execution_count": 10,
   "metadata": {},
   "outputs": [
    {
     "data": {
      "text/plain": [
       "(147422, 37)"
      ]
     },
     "execution_count": 10,
     "metadata": {},
     "output_type": "execute_result"
    }
   ],
   "source": [
    "t = all_df.drop_duplicates(subset=['chrA_loop', 'startA_loop', 'chrB_loop', 'startB_loop', 'snp_pos', 'geneid', 'sample'])\n",
    "t.shape"
   ]
  },
  {
   "cell_type": "code",
   "execution_count": 11,
   "metadata": {},
   "outputs": [
    {
     "name": "stdout",
     "output_type": "stream",
     "text": [
      "Number of samples with SGLs: 74\n",
      "Number of SGL events: 182306\n",
      "Number of unique snps: 4241\n",
      "Number of unique genes: 2354\n",
      "Number of unique loops: 7269\n",
      "Number of unique sgls: 28162\n"
     ]
    }
   ],
   "source": [
    "# count the samples\n",
    "num_samples = all_df['sample'].nunique()\n",
    "print('Number of samples with SGLs:', num_samples)\n",
    "\n",
    "# count the total number of sgl events across all studies\n",
    "print('Number of SGL events:', all_df.shape[0]) \n",
    "\n",
    "# count the unique snps\n",
    "num_uniq_snps = (all_df['chrA_loop'].astype(str) + '-' + all_df['end_snp'].astype(str)).nunique()\n",
    "print('Number of unique snps:', num_uniq_snps)\n",
    "\n",
    "# count the unique genes\n",
    "num_uniq_genes = all_df.geneid.nunique()\n",
    "print('Number of unique genes:', num_uniq_genes)\n",
    "\n",
    "# count the unique loops\n",
    "uniq_loops_df = all_df.drop_duplicates(subset=['chrA_loop', 'startA_loop', 'chrB_loop', 'startB_loop'])\n",
    "print('Number of unique loops:', uniq_loops_df.shape[0])\n",
    "\n",
    "# count the total number of sgls\n",
    "uniq_sgls_df = all_df.drop_duplicates(subset=['chrA_loop', 'startA_loop', 'chrB_loop', 'startB_loop', 'snp_pos', 'geneid'])\n",
    "print('Number of unique sgls:', uniq_sgls_df.shape[0])"
   ]
  },
  {
   "cell_type": "markdown",
   "metadata": {},
   "source": [
    "Also want to look at the number of SNPs we started with"
   ]
  },
  {
   "cell_type": "code",
   "execution_count": 12,
   "metadata": {},
   "outputs": [
    {
     "data": {
      "text/html": [
       "<div>\n",
       "<style scoped>\n",
       "    .dataframe tbody tr th:only-of-type {\n",
       "        vertical-align: middle;\n",
       "    }\n",
       "\n",
       "    .dataframe tbody tr th {\n",
       "        vertical-align: top;\n",
       "    }\n",
       "\n",
       "    .dataframe thead th {\n",
       "        text-align: right;\n",
       "    }\n",
       "</style>\n",
       "<table border=\"1\" class=\"dataframe\">\n",
       "  <thead>\n",
       "    <tr style=\"text-align: right;\">\n",
       "      <th></th>\n",
       "      <th>num_snps</th>\n",
       "      <th>filename</th>\n",
       "      <th>author</th>\n",
       "    </tr>\n",
       "    <tr>\n",
       "      <th>mesh_term</th>\n",
       "      <th></th>\n",
       "      <th></th>\n",
       "      <th></th>\n",
       "    </tr>\n",
       "  </thead>\n",
       "  <tbody>\n",
       "    <tr>\n",
       "      <th>Arthritis, Rheumatoid</th>\n",
       "      <td>1121</td>\n",
       "      <td>AT452AT454AT551BE151CA104CA391PH378</td>\n",
       "      <td>Roslin InstituteRoslin InstituteRoslin Institu...</td>\n",
       "    </tr>\n",
       "    <tr>\n",
       "      <th>Dermatitis, Atopic</th>\n",
       "      <td>674</td>\n",
       "      <td>GD09159</td>\n",
       "      <td>Sliz E</td>\n",
       "    </tr>\n",
       "    <tr>\n",
       "      <th>Diabetes Mellitus, Type 1</th>\n",
       "      <td>7729</td>\n",
       "      <td>AT280CA265CA266GD08996GD09063GD09519GD09657</td>\n",
       "      <td>Roslin InstituteOnengut Gumuscu SOnengut Gumus...</td>\n",
       "    </tr>\n",
       "    <tr>\n",
       "      <th>Psoriasis</th>\n",
       "      <td>590</td>\n",
       "      <td>AT258AT548GD09415</td>\n",
       "      <td>Roslin InstituteRoslin InstituteTsoi LC</td>\n",
       "    </tr>\n",
       "  </tbody>\n",
       "</table>\n",
       "</div>"
      ],
      "text/plain": [
       "                           num_snps  \\\n",
       "mesh_term                             \n",
       "Arthritis, Rheumatoid          1121   \n",
       "Dermatitis, Atopic              674   \n",
       "Diabetes Mellitus, Type 1      7729   \n",
       "Psoriasis                       590   \n",
       "\n",
       "                                                              filename  \\\n",
       "mesh_term                                                                \n",
       "Arthritis, Rheumatoid              AT452AT454AT551BE151CA104CA391PH378   \n",
       "Dermatitis, Atopic                                             GD09159   \n",
       "Diabetes Mellitus, Type 1  AT280CA265CA266GD08996GD09063GD09519GD09657   \n",
       "Psoriasis                                            AT258AT548GD09415   \n",
       "\n",
       "                                                                      author  \n",
       "mesh_term                                                                     \n",
       "Arthritis, Rheumatoid      Roslin InstituteRoslin InstituteRoslin Institu...  \n",
       "Dermatitis, Atopic                                                    Sliz E  \n",
       "Diabetes Mellitus, Type 1  Roslin InstituteOnengut Gumuscu SOnengut Gumus...  \n",
       "Psoriasis                            Roslin InstituteRoslin InstituteTsoi LC  "
      ]
     },
     "execution_count": 12,
     "metadata": {},
     "output_type": "execute_result"
    }
   ],
   "source": [
    "num_snps_study = pd.read_table('results/hg38/finemapping/snps/singles/num_snps.tsv', header=None)\n",
    "num_snps_study.columns = ['num_snps', 'filename']\n",
    "num_snps_study = num_snps_study.merge(causal_metadata_mapper)\n",
    "num_snps_study_mesh = num_snps_study.groupby('mesh_term').sum()\n",
    "num_snps_study_mesh"
   ]
  },
  {
   "cell_type": "markdown",
   "metadata": {},
   "source": [
    "Looking into the average distance"
   ]
  },
  {
   "cell_type": "code",
   "execution_count": 52,
   "metadata": {},
   "outputs": [],
   "source": [
    "dist = (all_df.startB_loop - all_df.startA_loop)"
   ]
  },
  {
   "cell_type": "code",
   "execution_count": 54,
   "metadata": {},
   "outputs": [
    {
     "data": {
      "text/plain": [
       "count     182306\n",
       "mean      363413\n",
       "std       495946\n",
       "min        20000\n",
       "25%        60000\n",
       "50%       140000\n",
       "75%       375000\n",
       "max      2000000\n",
       "dtype: int64"
      ]
     },
     "execution_count": 54,
     "metadata": {},
     "output_type": "execute_result"
    }
   ],
   "source": [
    "dist.describe().astype(int)"
   ]
  },
  {
   "cell_type": "code",
   "execution_count": 60,
   "metadata": {},
   "outputs": [
    {
     "data": {
      "text/plain": [
       "<Axes: ylabel='Frequency'>"
      ]
     },
     "execution_count": 60,
     "metadata": {},
     "output_type": "execute_result"
    },
    {
     "data": {
      "image/png": "[encoded data removed]",
      "text/plain": [
       "<Figure size 640x480 with 1 Axes>"
      ]
     },
     "metadata": {},
     "output_type": "display_data"
    }
   ],
   "source": [
    "dist.plot(kind='hist', bins=50)"
   ]
  },
  {
   "cell_type": "code",
   "execution_count": null,
   "metadata": {},
   "outputs": [],
   "source": []
  },
  {
   "cell_type": "code",
   "execution_count": null,
   "metadata": {},
   "outputs": [],
   "source": []
  },
  {
   "cell_type": "markdown",
   "metadata": {},
   "source": [
    "## Overview of SGLs Across Each Disease"
   ]
  },
  {
   "cell_type": "markdown",
   "metadata": {},
   "source": [
    "### Count the number of sgls per GWAS Study"
   ]
  },
  {
   "cell_type": "markdown",
   "metadata": {},
   "source": [
    "I would expect that, in general, that studies with more snps will have more SGLs."
   ]
  },
  {
   "cell_type": "code",
   "execution_count": 13,
   "metadata": {},
   "outputs": [],
   "source": [
    "grps = all_df.groupby(['causaldb_fn', 'mesh_term', 'author'])\n",
    "counts = grps['chrA_loop'].count().to_frame()\n",
    "counts.columns = ['num_sgls']"
   ]
  },
  {
   "cell_type": "code",
   "execution_count": 14,
   "metadata": {},
   "outputs": [
    {
     "data": {
      "text/html": [
       "<div>\n",
       "<style scoped>\n",
       "    .dataframe tbody tr th:only-of-type {\n",
       "        vertical-align: middle;\n",
       "    }\n",
       "\n",
       "    .dataframe tbody tr th {\n",
       "        vertical-align: top;\n",
       "    }\n",
       "\n",
       "    .dataframe thead th {\n",
       "        text-align: right;\n",
       "    }\n",
       "</style>\n",
       "<table border=\"1\" class=\"dataframe\">\n",
       "  <thead>\n",
       "    <tr style=\"text-align: right;\">\n",
       "      <th></th>\n",
       "      <th></th>\n",
       "      <th></th>\n",
       "      <th>num_sgls</th>\n",
       "    </tr>\n",
       "    <tr>\n",
       "      <th>causaldb_fn</th>\n",
       "      <th>mesh_term</th>\n",
       "      <th>author</th>\n",
       "      <th></th>\n",
       "    </tr>\n",
       "  </thead>\n",
       "  <tbody>\n",
       "    <tr>\n",
       "      <th>PH378</th>\n",
       "      <th>Arthritis, Rheumatoid</th>\n",
       "      <th>Okada Y</th>\n",
       "      <td>17692</td>\n",
       "    </tr>\n",
       "    <tr>\n",
       "      <th>AT452</th>\n",
       "      <th>Arthritis, Rheumatoid</th>\n",
       "      <th>Roslin Institute</th>\n",
       "      <td>7790</td>\n",
       "    </tr>\n",
       "    <tr>\n",
       "      <th>CA104</th>\n",
       "      <th>Arthritis, Rheumatoid</th>\n",
       "      <th>Eyre S</th>\n",
       "      <td>5359</td>\n",
       "    </tr>\n",
       "    <tr>\n",
       "      <th>AT551</th>\n",
       "      <th>Arthritis, Rheumatoid</th>\n",
       "      <th>Roslin Institute</th>\n",
       "      <td>5136</td>\n",
       "    </tr>\n",
       "    <tr>\n",
       "      <th>CA391</th>\n",
       "      <th>Arthritis, Rheumatoid</th>\n",
       "      <th>Stahl EA</th>\n",
       "      <td>1391</td>\n",
       "    </tr>\n",
       "    <tr>\n",
       "      <th>BE151</th>\n",
       "      <th>Arthritis, Rheumatoid</th>\n",
       "      <th>Nealelab</th>\n",
       "      <td>956</td>\n",
       "    </tr>\n",
       "    <tr>\n",
       "      <th>AT454</th>\n",
       "      <th>Arthritis, Rheumatoid</th>\n",
       "      <th>Roslin Institute</th>\n",
       "      <td>604</td>\n",
       "    </tr>\n",
       "    <tr>\n",
       "      <th>GD09159</th>\n",
       "      <th>Dermatitis, Atopic</th>\n",
       "      <th>Sliz E</th>\n",
       "      <td>14765</td>\n",
       "    </tr>\n",
       "    <tr>\n",
       "      <th>GD08996</th>\n",
       "      <th>Diabetes Mellitus, Type 1</th>\n",
       "      <th>Chiou J</th>\n",
       "      <td>34873</td>\n",
       "    </tr>\n",
       "    <tr>\n",
       "      <th>AT280</th>\n",
       "      <th>Diabetes Mellitus, Type 1</th>\n",
       "      <th>Roslin Institute</th>\n",
       "      <td>33364</td>\n",
       "    </tr>\n",
       "    <tr>\n",
       "      <th>GD09063</th>\n",
       "      <th>Diabetes Mellitus, Type 1</th>\n",
       "      <th>Robertson CC</th>\n",
       "      <td>14511</td>\n",
       "    </tr>\n",
       "    <tr>\n",
       "      <th>GD09657</th>\n",
       "      <th>Diabetes Mellitus, Type 1</th>\n",
       "      <th>Inshaw JRJ</th>\n",
       "      <td>10599</td>\n",
       "    </tr>\n",
       "    <tr>\n",
       "      <th>GD09519</th>\n",
       "      <th>Diabetes Mellitus, Type 1</th>\n",
       "      <th>Forgetta V</th>\n",
       "      <td>9453</td>\n",
       "    </tr>\n",
       "    <tr>\n",
       "      <th>CA265</th>\n",
       "      <th>Diabetes Mellitus, Type 1</th>\n",
       "      <th>Onengut Gumuscu S</th>\n",
       "      <td>7855</td>\n",
       "    </tr>\n",
       "    <tr>\n",
       "      <th>CA266</th>\n",
       "      <th>Diabetes Mellitus, Type 1</th>\n",
       "      <th>Onengut Gumuscu S</th>\n",
       "      <td>3177</td>\n",
       "    </tr>\n",
       "    <tr>\n",
       "      <th>AT258</th>\n",
       "      <th>Psoriasis</th>\n",
       "      <th>Roslin Institute</th>\n",
       "      <td>7737</td>\n",
       "    </tr>\n",
       "    <tr>\n",
       "      <th>GD09415</th>\n",
       "      <th>Psoriasis</th>\n",
       "      <th>Tsoi LC</th>\n",
       "      <td>4948</td>\n",
       "    </tr>\n",
       "    <tr>\n",
       "      <th>AT548</th>\n",
       "      <th>Psoriasis</th>\n",
       "      <th>Roslin Institute</th>\n",
       "      <td>2096</td>\n",
       "    </tr>\n",
       "  </tbody>\n",
       "</table>\n",
       "</div>"
      ],
      "text/plain": [
       "                                                         num_sgls\n",
       "causaldb_fn mesh_term                 author                     \n",
       "PH378       Arthritis, Rheumatoid     Okada Y               17692\n",
       "AT452       Arthritis, Rheumatoid     Roslin Institute       7790\n",
       "CA104       Arthritis, Rheumatoid     Eyre S                 5359\n",
       "AT551       Arthritis, Rheumatoid     Roslin Institute       5136\n",
       "CA391       Arthritis, Rheumatoid     Stahl EA               1391\n",
       "BE151       Arthritis, Rheumatoid     Nealelab                956\n",
       "AT454       Arthritis, Rheumatoid     Roslin Institute        604\n",
       "GD09159     Dermatitis, Atopic        Sliz E                14765\n",
       "GD08996     Diabetes Mellitus, Type 1 Chiou J               34873\n",
       "AT280       Diabetes Mellitus, Type 1 Roslin Institute      33364\n",
       "GD09063     Diabetes Mellitus, Type 1 Robertson CC          14511\n",
       "GD09657     Diabetes Mellitus, Type 1 Inshaw JRJ            10599\n",
       "GD09519     Diabetes Mellitus, Type 1 Forgetta V             9453\n",
       "CA265       Diabetes Mellitus, Type 1 Onengut Gumuscu S      7855\n",
       "CA266       Diabetes Mellitus, Type 1 Onengut Gumuscu S      3177\n",
       "AT258       Psoriasis                 Roslin Institute       7737\n",
       "GD09415     Psoriasis                 Tsoi LC                4948\n",
       "AT548       Psoriasis                 Roslin Institute       2096"
      ]
     },
     "execution_count": 14,
     "metadata": {},
     "output_type": "execute_result"
    }
   ],
   "source": [
    "counts.sort_values(['mesh_term', 'num_sgls'], ascending=[True, False])"
   ]
  },
  {
   "cell_type": "code",
   "execution_count": 15,
   "metadata": {},
   "outputs": [
    {
     "data": {
      "text/html": [
       "<div>\n",
       "<style scoped>\n",
       "    .dataframe tbody tr th:only-of-type {\n",
       "        vertical-align: middle;\n",
       "    }\n",
       "\n",
       "    .dataframe tbody tr th {\n",
       "        vertical-align: top;\n",
       "    }\n",
       "\n",
       "    .dataframe thead th {\n",
       "        text-align: right;\n",
       "    }\n",
       "</style>\n",
       "<table border=\"1\" class=\"dataframe\">\n",
       "  <thead>\n",
       "    <tr style=\"text-align: right;\">\n",
       "      <th></th>\n",
       "      <th>num_sgls</th>\n",
       "    </tr>\n",
       "  </thead>\n",
       "  <tbody>\n",
       "    <tr>\n",
       "      <th>count</th>\n",
       "      <td>18.000000</td>\n",
       "    </tr>\n",
       "    <tr>\n",
       "      <th>mean</th>\n",
       "      <td>10128.111111</td>\n",
       "    </tr>\n",
       "    <tr>\n",
       "      <th>std</th>\n",
       "      <td>10016.671320</td>\n",
       "    </tr>\n",
       "    <tr>\n",
       "      <th>min</th>\n",
       "      <td>604.000000</td>\n",
       "    </tr>\n",
       "    <tr>\n",
       "      <th>25%</th>\n",
       "      <td>3619.750000</td>\n",
       "    </tr>\n",
       "    <tr>\n",
       "      <th>50%</th>\n",
       "      <td>7763.500000</td>\n",
       "    </tr>\n",
       "    <tr>\n",
       "      <th>75%</th>\n",
       "      <td>13533.000000</td>\n",
       "    </tr>\n",
       "    <tr>\n",
       "      <th>max</th>\n",
       "      <td>34873.000000</td>\n",
       "    </tr>\n",
       "  </tbody>\n",
       "</table>\n",
       "</div>"
      ],
      "text/plain": [
       "           num_sgls\n",
       "count     18.000000\n",
       "mean   10128.111111\n",
       "std    10016.671320\n",
       "min      604.000000\n",
       "25%     3619.750000\n",
       "50%     7763.500000\n",
       "75%    13533.000000\n",
       "max    34873.000000"
      ]
     },
     "execution_count": 15,
     "metadata": {},
     "output_type": "execute_result"
    }
   ],
   "source": [
    "counts.describe()"
   ]
  },
  {
   "cell_type": "markdown",
   "metadata": {},
   "source": [
    "### Count and plot the number of sgls, snps and genes per mesh term"
   ]
  },
  {
   "cell_type": "code",
   "execution_count": 16,
   "metadata": {},
   "outputs": [
    {
     "name": "stderr",
     "output_type": "stream",
     "text": [
      "/mnt/BioHome/jreyna/tmp/ipykernel_2221860/4268753814.py:2: SettingWithCopyWarning: \n",
      "A value is trying to be set on a copy of a slice from a DataFrame.\n",
      "Try using .loc[row_indexer,col_indexer] = value instead\n",
      "\n",
      "See the caveats in the documentation: https://pandas.pydata.org/pandas-docs/stable/user_guide/indexing.html#returning-a-view-versus-a-copy\n",
      "  uniq_sgls_mesh_df['loop_id'] = uniq_sgls_mesh_df['chrA_loop'].astype(str) + ':' \\\n"
     ]
    },
    {
     "data": {
      "text/html": [
       "<div>\n",
       "<style scoped>\n",
       "    .dataframe tbody tr th:only-of-type {\n",
       "        vertical-align: middle;\n",
       "    }\n",
       "\n",
       "    .dataframe tbody tr th {\n",
       "        vertical-align: top;\n",
       "    }\n",
       "\n",
       "    .dataframe thead th {\n",
       "        text-align: right;\n",
       "    }\n",
       "</style>\n",
       "<table border=\"1\" class=\"dataframe\">\n",
       "  <thead>\n",
       "    <tr style=\"text-align: right;\">\n",
       "      <th></th>\n",
       "      <th>num_sgls</th>\n",
       "    </tr>\n",
       "    <tr>\n",
       "      <th>mesh_term</th>\n",
       "      <th></th>\n",
       "    </tr>\n",
       "  </thead>\n",
       "  <tbody>\n",
       "    <tr>\n",
       "      <th>Diabetes Mellitus, Type 1</th>\n",
       "      <td>16534</td>\n",
       "    </tr>\n",
       "    <tr>\n",
       "      <th>Arthritis, Rheumatoid</th>\n",
       "      <td>6122</td>\n",
       "    </tr>\n",
       "    <tr>\n",
       "      <th>Dermatitis, Atopic</th>\n",
       "      <td>3257</td>\n",
       "    </tr>\n",
       "    <tr>\n",
       "      <th>Psoriasis</th>\n",
       "      <td>2682</td>\n",
       "    </tr>\n",
       "  </tbody>\n",
       "</table>\n",
       "</div>"
      ],
      "text/plain": [
       "                           num_sgls\n",
       "mesh_term                          \n",
       "Diabetes Mellitus, Type 1     16534\n",
       "Arthritis, Rheumatoid          6122\n",
       "Dermatitis, Atopic             3257\n",
       "Psoriasis                      2682"
      ]
     },
     "execution_count": 16,
     "metadata": {},
     "output_type": "execute_result"
    }
   ],
   "source": [
    "uniq_sgls_mesh_df = all_df.drop_duplicates(subset=['chrA_loop', 'startA_loop', 'chrB_loop', 'startB_loop', 'snp_pos', 'geneid', 'mesh_term'])\n",
    "uniq_sgls_mesh_df['loop_id'] = uniq_sgls_mesh_df['chrA_loop'].astype(str) + ':' \\\n",
    "                            + uniq_sgls_mesh_df['startA_loop'].astype(str) + '--' \\\n",
    "                            + uniq_sgls_mesh_df['chrB_loop'].astype(str) + ':' \\\n",
    "                            + uniq_sgls_mesh_df['startB_loop'].astype(str)\n",
    "\n",
    "mesh_sgl_grps = uniq_sgls_mesh_df.groupby(['mesh_term'])\n",
    "sgl_counts = mesh_sgl_grps['loop_id'].count().to_frame()\n",
    "sgl_counts.columns = ['num_sgls']\n",
    "sgl_counts.sort_values('num_sgls', ascending=False)"
   ]
  },
  {
   "cell_type": "code",
   "execution_count": 17,
   "metadata": {},
   "outputs": [
    {
     "data": {
      "text/html": [
       "<div>\n",
       "<style scoped>\n",
       "    .dataframe tbody tr th:only-of-type {\n",
       "        vertical-align: middle;\n",
       "    }\n",
       "\n",
       "    .dataframe tbody tr th {\n",
       "        vertical-align: top;\n",
       "    }\n",
       "\n",
       "    .dataframe thead th {\n",
       "        text-align: right;\n",
       "    }\n",
       "</style>\n",
       "<table border=\"1\" class=\"dataframe\">\n",
       "  <thead>\n",
       "    <tr style=\"text-align: right;\">\n",
       "      <th></th>\n",
       "      <th>num_genes</th>\n",
       "    </tr>\n",
       "    <tr>\n",
       "      <th>mesh_term</th>\n",
       "      <th></th>\n",
       "    </tr>\n",
       "  </thead>\n",
       "  <tbody>\n",
       "    <tr>\n",
       "      <th>Diabetes Mellitus, Type 1</th>\n",
       "      <td>1546</td>\n",
       "    </tr>\n",
       "    <tr>\n",
       "      <th>Psoriasis</th>\n",
       "      <td>687</td>\n",
       "    </tr>\n",
       "    <tr>\n",
       "      <th>Arthritis, Rheumatoid</th>\n",
       "      <td>589</td>\n",
       "    </tr>\n",
       "    <tr>\n",
       "      <th>Dermatitis, Atopic</th>\n",
       "      <td>417</td>\n",
       "    </tr>\n",
       "  </tbody>\n",
       "</table>\n",
       "</div>"
      ],
      "text/plain": [
       "                           num_genes\n",
       "mesh_term                           \n",
       "Diabetes Mellitus, Type 1       1546\n",
       "Psoriasis                        687\n",
       "Arthritis, Rheumatoid            589\n",
       "Dermatitis, Atopic               417"
      ]
     },
     "execution_count": 17,
     "metadata": {},
     "output_type": "execute_result"
    }
   ],
   "source": [
    "# number of unique genes per mesh term\n",
    "mesh_gene_grps = uniq_sgls_mesh_df.drop_duplicates(['geneid', 'mesh_term']).groupby(['mesh_term'])\n",
    "gene_counts = mesh_gene_grps['loop_id'].count().to_frame()\n",
    "gene_counts.columns = ['num_genes']\n",
    "gene_counts.sort_values('num_genes', ascending=False)"
   ]
  },
  {
   "cell_type": "code",
   "execution_count": 18,
   "metadata": {},
   "outputs": [
    {
     "data": {
      "text/html": [
       "<div>\n",
       "<style scoped>\n",
       "    .dataframe tbody tr th:only-of-type {\n",
       "        vertical-align: middle;\n",
       "    }\n",
       "\n",
       "    .dataframe tbody tr th {\n",
       "        vertical-align: top;\n",
       "    }\n",
       "\n",
       "    .dataframe thead th {\n",
       "        text-align: right;\n",
       "    }\n",
       "</style>\n",
       "<table border=\"1\" class=\"dataframe\">\n",
       "  <thead>\n",
       "    <tr style=\"text-align: right;\">\n",
       "      <th></th>\n",
       "      <th>num_snps</th>\n",
       "    </tr>\n",
       "    <tr>\n",
       "      <th>mesh_term</th>\n",
       "      <th></th>\n",
       "    </tr>\n",
       "  </thead>\n",
       "  <tbody>\n",
       "    <tr>\n",
       "      <th>Diabetes Mellitus, Type 1</th>\n",
       "      <td>2884</td>\n",
       "    </tr>\n",
       "    <tr>\n",
       "      <th>Arthritis, Rheumatoid</th>\n",
       "      <td>577</td>\n",
       "    </tr>\n",
       "    <tr>\n",
       "      <th>Dermatitis, Atopic</th>\n",
       "      <td>536</td>\n",
       "    </tr>\n",
       "    <tr>\n",
       "      <th>Psoriasis</th>\n",
       "      <td>309</td>\n",
       "    </tr>\n",
       "  </tbody>\n",
       "</table>\n",
       "</div>"
      ],
      "text/plain": [
       "                           num_snps\n",
       "mesh_term                          \n",
       "Diabetes Mellitus, Type 1      2884\n",
       "Arthritis, Rheumatoid           577\n",
       "Dermatitis, Atopic              536\n",
       "Psoriasis                       309"
      ]
     },
     "execution_count": 18,
     "metadata": {},
     "output_type": "execute_result"
    }
   ],
   "source": [
    "# number of unique snps per mesh term\n",
    "mesh_snp_grps = uniq_sgls_mesh_df.drop_duplicates(['snp_pos', 'mesh_term']).groupby(['mesh_term'])\n",
    "snp_counts = mesh_snp_grps['loop_id'].count().to_frame()\n",
    "snp_counts.columns = ['num_snps']\n",
    "snp_counts.sort_values('num_snps', ascending=False)"
   ]
  },
  {
   "cell_type": "code",
   "execution_count": 19,
   "metadata": {},
   "outputs": [
    {
     "data": {
      "text/html": [
       "<div>\n",
       "<style scoped>\n",
       "    .dataframe tbody tr th:only-of-type {\n",
       "        vertical-align: middle;\n",
       "    }\n",
       "\n",
       "    .dataframe tbody tr th {\n",
       "        vertical-align: top;\n",
       "    }\n",
       "\n",
       "    .dataframe thead th {\n",
       "        text-align: right;\n",
       "    }\n",
       "</style>\n",
       "<table border=\"1\" class=\"dataframe\">\n",
       "  <thead>\n",
       "    <tr style=\"text-align: right;\">\n",
       "      <th></th>\n",
       "      <th>num_total_snps</th>\n",
       "      <th>num_snps</th>\n",
       "      <th>num_sgls</th>\n",
       "      <th>num_genes</th>\n",
       "    </tr>\n",
       "    <tr>\n",
       "      <th>mesh_term</th>\n",
       "      <th></th>\n",
       "      <th></th>\n",
       "      <th></th>\n",
       "      <th></th>\n",
       "    </tr>\n",
       "  </thead>\n",
       "  <tbody>\n",
       "    <tr>\n",
       "      <th>Arthritis, Rheumatoid</th>\n",
       "      <td>1121</td>\n",
       "      <td>577</td>\n",
       "      <td>6122</td>\n",
       "      <td>589</td>\n",
       "    </tr>\n",
       "    <tr>\n",
       "      <th>Dermatitis, Atopic</th>\n",
       "      <td>674</td>\n",
       "      <td>536</td>\n",
       "      <td>3257</td>\n",
       "      <td>417</td>\n",
       "    </tr>\n",
       "    <tr>\n",
       "      <th>Diabetes Mellitus, Type 1</th>\n",
       "      <td>7729</td>\n",
       "      <td>2884</td>\n",
       "      <td>16534</td>\n",
       "      <td>1546</td>\n",
       "    </tr>\n",
       "    <tr>\n",
       "      <th>Psoriasis</th>\n",
       "      <td>590</td>\n",
       "      <td>309</td>\n",
       "      <td>2682</td>\n",
       "      <td>687</td>\n",
       "    </tr>\n",
       "  </tbody>\n",
       "</table>\n",
       "</div>"
      ],
      "text/plain": [
       "                           num_total_snps  num_snps  num_sgls  num_genes\n",
       "mesh_term                                                               \n",
       "Arthritis, Rheumatoid                1121       577      6122        589\n",
       "Dermatitis, Atopic                    674       536      3257        417\n",
       "Diabetes Mellitus, Type 1            7729      2884     16534       1546\n",
       "Psoriasis                             590       309      2682        687"
      ]
     },
     "execution_count": 19,
     "metadata": {},
     "output_type": "execute_result"
    }
   ],
   "source": [
    "combine_uniq_mesh_counts = pd.concat([num_snps_study_mesh[['num_snps']], snp_counts, sgl_counts, gene_counts], axis=1)\n",
    "combine_uniq_mesh_counts.columns = ['num_total_snps', 'num_snps', 'num_sgls', 'num_genes']\n",
    "combine_uniq_mesh_counts"
   ]
  },
  {
   "cell_type": "code",
   "execution_count": 20,
   "metadata": {},
   "outputs": [
    {
     "data": {
      "text/html": [
       "<div>\n",
       "<style scoped>\n",
       "    .dataframe tbody tr th:only-of-type {\n",
       "        vertical-align: middle;\n",
       "    }\n",
       "\n",
       "    .dataframe tbody tr th {\n",
       "        vertical-align: top;\n",
       "    }\n",
       "\n",
       "    .dataframe thead th {\n",
       "        text-align: right;\n",
       "    }\n",
       "</style>\n",
       "<table border=\"1\" class=\"dataframe\">\n",
       "  <thead>\n",
       "    <tr style=\"text-align: right;\">\n",
       "      <th></th>\n",
       "      <th>num_snps</th>\n",
       "      <th>filename</th>\n",
       "      <th>author</th>\n",
       "    </tr>\n",
       "    <tr>\n",
       "      <th>mesh_term</th>\n",
       "      <th></th>\n",
       "      <th></th>\n",
       "      <th></th>\n",
       "    </tr>\n",
       "  </thead>\n",
       "  <tbody>\n",
       "    <tr>\n",
       "      <th>Arthritis, Rheumatoid</th>\n",
       "      <td>1121</td>\n",
       "      <td>AT452AT454AT551BE151CA104CA391PH378</td>\n",
       "      <td>Roslin InstituteRoslin InstituteRoslin Institu...</td>\n",
       "    </tr>\n",
       "    <tr>\n",
       "      <th>Dermatitis, Atopic</th>\n",
       "      <td>674</td>\n",
       "      <td>GD09159</td>\n",
       "      <td>Sliz E</td>\n",
       "    </tr>\n",
       "    <tr>\n",
       "      <th>Diabetes Mellitus, Type 1</th>\n",
       "      <td>7729</td>\n",
       "      <td>AT280CA265CA266GD08996GD09063GD09519GD09657</td>\n",
       "      <td>Roslin InstituteOnengut Gumuscu SOnengut Gumus...</td>\n",
       "    </tr>\n",
       "    <tr>\n",
       "      <th>Psoriasis</th>\n",
       "      <td>590</td>\n",
       "      <td>AT258AT548GD09415</td>\n",
       "      <td>Roslin InstituteRoslin InstituteTsoi LC</td>\n",
       "    </tr>\n",
       "  </tbody>\n",
       "</table>\n",
       "</div>"
      ],
      "text/plain": [
       "                           num_snps  \\\n",
       "mesh_term                             \n",
       "Arthritis, Rheumatoid          1121   \n",
       "Dermatitis, Atopic              674   \n",
       "Diabetes Mellitus, Type 1      7729   \n",
       "Psoriasis                       590   \n",
       "\n",
       "                                                              filename  \\\n",
       "mesh_term                                                                \n",
       "Arthritis, Rheumatoid              AT452AT454AT551BE151CA104CA391PH378   \n",
       "Dermatitis, Atopic                                             GD09159   \n",
       "Diabetes Mellitus, Type 1  AT280CA265CA266GD08996GD09063GD09519GD09657   \n",
       "Psoriasis                                            AT258AT548GD09415   \n",
       "\n",
       "                                                                      author  \n",
       "mesh_term                                                                     \n",
       "Arthritis, Rheumatoid      Roslin InstituteRoslin InstituteRoslin Institu...  \n",
       "Dermatitis, Atopic                                                    Sliz E  \n",
       "Diabetes Mellitus, Type 1  Roslin InstituteOnengut Gumuscu SOnengut Gumus...  \n",
       "Psoriasis                            Roslin InstituteRoslin InstituteTsoi LC  "
      ]
     },
     "execution_count": 20,
     "metadata": {},
     "output_type": "execute_result"
    }
   ],
   "source": [
    "num_snps_study_mesh"
   ]
  },
  {
   "cell_type": "code",
   "execution_count": 21,
   "metadata": {},
   "outputs": [
    {
     "data": {
      "image/png": "[encoded data removed]",
      "text/plain": [
       "<Figure size 640x480 with 1 Axes>"
      ]
     },
     "metadata": {},
     "output_type": "display_data"
    }
   ],
   "source": [
    "# extract data\n",
    "plot_data = combine_uniq_mesh_counts.melt(ignore_index=False).reset_index()\n",
    "plot_data.replace({'num_total_snps': 'GWAS SNPs', 'num_snps': 'SGL SNPs',\n",
    "                    'num_genes': 'SGL Genes', 'num_sgls': 'SGLs',\n",
    "                    'Arthritis, Rheumatoid': 'RA', 'Dermatitis, Atopic': 'AD',\n",
    "                    'Diabetes Mellitus, Type 1': 'T1D', 'Psoriasis': 'PS'}, inplace=True)\n",
    "\n",
    "# plot data\n",
    "fig, ax = plt.subplots()\n",
    "\n",
    "sns.barplot(plot_data, x='mesh_term', y='value', hue='variable', ax=ax)\n",
    "\n",
    "# remove left spine\n",
    "sns.despine(left=True)\n",
    "\n",
    "# move legend\n",
    "sns.move_legend(ax, \"upper center\", bbox_to_anchor=(1.2, 0.65))\n",
    "\n",
    "# rotate X-Axis Ticks by 45-degrees\n",
    "#ax.tick_params(axis='x', labelrotation = 75)\n",
    "\n",
    "# set labels\n",
    "ax.set_xlabel('')\n",
    "ax.set_ylabel('Count')\n",
    "legend = ax.legend_\n",
    "legend.set_title('') \n",
    "\n",
    "outfn = os.path.join(outdir, 'sgl_breakdowns.png')\n",
    "fig.savefig(outfn, dpi=600, bbox_inches='tight')"
   ]
  },
  {
   "cell_type": "markdown",
   "metadata": {},
   "source": [
    "We can see that Type 1 Diabetes has the most number of SGLs. "
   ]
  },
  {
   "cell_type": "code",
   "execution_count": 22,
   "metadata": {},
   "outputs": [],
   "source": [
    "mesh_grps = all_df.groupby(['mesh_term'])"
   ]
  },
  {
   "cell_type": "code",
   "execution_count": 23,
   "metadata": {},
   "outputs": [
    {
     "data": {
      "text/plain": [
       "mesh_term                  genename  \n",
       "Arthritis, Rheumatoid      Z84485.1       630\n",
       "                           BRPF3          630\n",
       "                           ARID5B         603\n",
       "                           IER3           593\n",
       "                           FLOT1          593\n",
       "                           IER3-AS1       593\n",
       "                           HIST1H2BN      484\n",
       "                           HIST1H2AK      484\n",
       "                           HIST1H4A       477\n",
       "                           HIST1H3A       477\n",
       "Dermatitis, Atopic         TRIB1          684\n",
       "                           NFKBIA         500\n",
       "                           MIR6090        435\n",
       "                           HCG27          394\n",
       "                           AL662844.4     394\n",
       "                           AC009812.1     374\n",
       "                           ZBTB10         374\n",
       "                           AC034102.7     312\n",
       "                           ESYT1          312\n",
       "                           ZC3H10         312\n",
       "Diabetes Mellitus, Type 1  APOBR         2160\n",
       "                           AC138894.1    2160\n",
       "                           CHRAC1        1906\n",
       "                           KANSL1-AS1    1831\n",
       "                           HIST1H2AK     1372\n",
       "                           HIST1H2BN     1372\n",
       "                           HIST1H2AG     1094\n",
       "                           HIST1H2BJ     1094\n",
       "                           IKZF3          997\n",
       "                           HIST1H3J       948\n",
       "Psoriasis                  AL356234.1     440\n",
       "                           REL            435\n",
       "                           LINC01185      435\n",
       "                           ZNF668         332\n",
       "                           ZNF646         332\n",
       "                           AC026471.1     328\n",
       "                           ARMC5          328\n",
       "                           TNFAIP3        271\n",
       "                           AL357060.1     271\n",
       "                           IFNGR1         201\n",
       "Name: count, dtype: int64"
      ]
     },
     "execution_count": 23,
     "metadata": {},
     "output_type": "execute_result"
    }
   ],
   "source": [
    "def get_top_counts(df, n=10):\n",
    "    sorted_df = df.genename.value_counts().iloc[0:n]\n",
    "    return(sorted_df)\n",
    "mesh_grps.apply(get_top_counts)"
   ]
  },
  {
   "cell_type": "markdown",
   "metadata": {},
   "source": [
    "If we get the top SGLs based on genes we can see that gene such as NFKBIA are coming up."
   ]
  },
  {
   "cell_type": "code",
   "execution_count": 24,
   "metadata": {},
   "outputs": [],
   "source": [
    "cols = ['chrA_loop', 'startA_loop', 'endA_loop',\n",
    "         'chrB_loop', 'startB_loop', 'endB_loop',\n",
    "         '-log10_qval_loop', 'sample',\n",
    "         'end_snp', 'snp_anchor', \n",
    "         'genename', 'geneid', \n",
    "         'mesh_term', 'author', 'causaldb_fn']\n",
    "\n",
    "new_cols = ['ChrA', 'StartA', 'EndA',\n",
    "             'ChrB', 'StartB', 'EndB',\n",
    "             '-log10(Q values)', 'Sample Name',\n",
    "             'SNP Pos', 'SNP Anchor', \n",
    "             'Gene Name', 'Gene ID', \n",
    "             'Mesh Term', 'Author', 'CAUSALdb Study ID']\n",
    "\n",
    "# mesh_outfn = os.path.join(outdir, 'sgls.supplemental_table.xlsx')\n",
    "# with pd.ExcelWriter(mesh_outfn) as fw:\n",
    "#     for grp, grp_df in mesh_grps:\n",
    "#         tdf = grp_df[cols].sort_values(['author', 'sample', 'chrA_loop', 'startA_loop', 'chrB_loop', 'startB_loop', 'end_snp', 'geneid'])\n",
    "#         tdf.loc[:, 'chrA_loop'] = 'chr' + tdf.loc[:, 'chrA_loop'].astype(str)\n",
    "#         tdf.loc[:, 'chrB_loop'] = 'chr' + tdf.loc[:, 'chrB_loop'].astype(str)\n",
    "#         tdf.columns = new_cols\n",
    "#         tdf.to_excel(fw, sheet_name=grp[0], index=False)"
   ]
  },
  {
   "cell_type": "markdown",
   "metadata": {},
   "source": [
    "## Diving into SGLs for T1D"
   ]
  },
  {
   "cell_type": "code",
   "execution_count": 25,
   "metadata": {},
   "outputs": [],
   "source": [
    "t1d_df = mesh_grps.get_group('Diabetes Mellitus, Type 1')"
   ]
  },
  {
   "cell_type": "code",
   "execution_count": 26,
   "metadata": {},
   "outputs": [
    {
     "data": {
      "text/plain": [
       "1546"
      ]
     },
     "execution_count": 26,
     "metadata": {},
     "output_type": "execute_result"
    }
   ],
   "source": [
    "t1d_df.geneid.nunique()"
   ]
  },
  {
   "cell_type": "code",
   "execution_count": 27,
   "metadata": {},
   "outputs": [
    {
     "data": {
      "text/html": [
       "<div>\n",
       "<style scoped>\n",
       "    .dataframe tbody tr th:only-of-type {\n",
       "        vertical-align: middle;\n",
       "    }\n",
       "\n",
       "    .dataframe tbody tr th {\n",
       "        vertical-align: top;\n",
       "    }\n",
       "\n",
       "    .dataframe thead th {\n",
       "        text-align: right;\n",
       "    }\n",
       "</style>\n",
       "<table border=\"1\" class=\"dataframe\">\n",
       "  <thead>\n",
       "    <tr style=\"text-align: right;\">\n",
       "      <th></th>\n",
       "      <th>chrom</th>\n",
       "      <th>end_snp</th>\n",
       "      <th>genename</th>\n",
       "      <th>geneid</th>\n",
       "      <th>start_gene</th>\n",
       "      <th>end_gene</th>\n",
       "      <th>startA_loop</th>\n",
       "      <th>startB_loop</th>\n",
       "      <th>-log10_qval_loop</th>\n",
       "      <th>sample</th>\n",
       "      <th>author</th>\n",
       "    </tr>\n",
       "  </thead>\n",
       "  <tbody>\n",
       "    <tr>\n",
       "      <th>50273</th>\n",
       "      <td>13</td>\n",
       "      <td>91310826</td>\n",
       "      <td>MIR17HG</td>\n",
       "      <td>ENSG00000215417</td>\n",
       "      <td>91347819</td>\n",
       "      <td>91347820</td>\n",
       "      <td>91310000</td>\n",
       "      <td>91345000</td>\n",
       "      <td>625.319750</td>\n",
       "      <td>THP-1-WT-Batch1.GSE149420.Homo_Sapiens.H3K4me3.b1</td>\n",
       "      <td>Forgetta V</td>\n",
       "    </tr>\n",
       "    <tr>\n",
       "      <th>50274</th>\n",
       "      <td>13</td>\n",
       "      <td>91312880</td>\n",
       "      <td>MIR17HG</td>\n",
       "      <td>ENSG00000215417</td>\n",
       "      <td>91347819</td>\n",
       "      <td>91347820</td>\n",
       "      <td>91310000</td>\n",
       "      <td>91345000</td>\n",
       "      <td>625.319750</td>\n",
       "      <td>THP-1-WT-Batch1.GSE149420.Homo_Sapiens.H3K4me3.b1</td>\n",
       "      <td>Forgetta V</td>\n",
       "    </tr>\n",
       "    <tr>\n",
       "      <th>81842</th>\n",
       "      <td>8</td>\n",
       "      <td>140637192</td>\n",
       "      <td>TRAPPC9</td>\n",
       "      <td>ENSG00000167632</td>\n",
       "      <td>140458578</td>\n",
       "      <td>140458579</td>\n",
       "      <td>140455000</td>\n",
       "      <td>140635000</td>\n",
       "      <td>546.012211</td>\n",
       "      <td>CD4_Naive_All-Donors.phs001703v3p1.Homo_Sapien...</td>\n",
       "      <td>Chiou J</td>\n",
       "    </tr>\n",
       "    <tr>\n",
       "      <th>81841</th>\n",
       "      <td>8</td>\n",
       "      <td>140638981</td>\n",
       "      <td>TRAPPC9</td>\n",
       "      <td>ENSG00000167632</td>\n",
       "      <td>140458578</td>\n",
       "      <td>140458579</td>\n",
       "      <td>140455000</td>\n",
       "      <td>140635000</td>\n",
       "      <td>546.012211</td>\n",
       "      <td>CD4_Naive_All-Donors.phs001703v3p1.Homo_Sapien...</td>\n",
       "      <td>Chiou J</td>\n",
       "    </tr>\n",
       "    <tr>\n",
       "      <th>46353</th>\n",
       "      <td>13</td>\n",
       "      <td>91310826</td>\n",
       "      <td>MIR17HG</td>\n",
       "      <td>ENSG00000215417</td>\n",
       "      <td>91347819</td>\n",
       "      <td>91347820</td>\n",
       "      <td>91310000</td>\n",
       "      <td>91345000</td>\n",
       "      <td>538.991056</td>\n",
       "      <td>THP-1-WT-Batch2.GSE149420.Homo_Sapiens.H3K4me3.b1</td>\n",
       "      <td>Forgetta V</td>\n",
       "    </tr>\n",
       "    <tr>\n",
       "      <th>46354</th>\n",
       "      <td>13</td>\n",
       "      <td>91312880</td>\n",
       "      <td>MIR17HG</td>\n",
       "      <td>ENSG00000215417</td>\n",
       "      <td>91347819</td>\n",
       "      <td>91347820</td>\n",
       "      <td>91310000</td>\n",
       "      <td>91345000</td>\n",
       "      <td>538.991056</td>\n",
       "      <td>THP-1-WT-Batch2.GSE149420.Homo_Sapiens.H3K4me3.b1</td>\n",
       "      <td>Forgetta V</td>\n",
       "    </tr>\n",
       "    <tr>\n",
       "      <th>81921</th>\n",
       "      <td>8</td>\n",
       "      <td>140637192</td>\n",
       "      <td>CHRAC1</td>\n",
       "      <td>ENSG00000104472</td>\n",
       "      <td>140511310</td>\n",
       "      <td>140511311</td>\n",
       "      <td>140510000</td>\n",
       "      <td>140635000</td>\n",
       "      <td>482.900635</td>\n",
       "      <td>CD4_Naive_All-Donors.phs001703v3p1.Homo_Sapien...</td>\n",
       "      <td>Chiou J</td>\n",
       "    </tr>\n",
       "    <tr>\n",
       "      <th>81920</th>\n",
       "      <td>8</td>\n",
       "      <td>140638981</td>\n",
       "      <td>CHRAC1</td>\n",
       "      <td>ENSG00000104472</td>\n",
       "      <td>140511310</td>\n",
       "      <td>140511311</td>\n",
       "      <td>140510000</td>\n",
       "      <td>140635000</td>\n",
       "      <td>482.900635</td>\n",
       "      <td>CD4_Naive_All-Donors.phs001703v3p1.Homo_Sapien...</td>\n",
       "      <td>Chiou J</td>\n",
       "    </tr>\n",
       "    <tr>\n",
       "      <th>48709</th>\n",
       "      <td>13</td>\n",
       "      <td>91310826</td>\n",
       "      <td>MIR17HG</td>\n",
       "      <td>ENSG00000215417</td>\n",
       "      <td>91347819</td>\n",
       "      <td>91347820</td>\n",
       "      <td>91310000</td>\n",
       "      <td>91345000</td>\n",
       "      <td>432.843386</td>\n",
       "      <td>THP-1-del-cIDR-Batch1.GSE149420.Homo_Sapiens.H...</td>\n",
       "      <td>Forgetta V</td>\n",
       "    </tr>\n",
       "    <tr>\n",
       "      <th>48710</th>\n",
       "      <td>13</td>\n",
       "      <td>91312880</td>\n",
       "      <td>MIR17HG</td>\n",
       "      <td>ENSG00000215417</td>\n",
       "      <td>91347819</td>\n",
       "      <td>91347820</td>\n",
       "      <td>91310000</td>\n",
       "      <td>91345000</td>\n",
       "      <td>432.843386</td>\n",
       "      <td>THP-1-del-cIDR-Batch1.GSE149420.Homo_Sapiens.H...</td>\n",
       "      <td>Forgetta V</td>\n",
       "    </tr>\n",
       "  </tbody>\n",
       "</table>\n",
       "</div>"
      ],
      "text/plain": [
       "       chrom    end_snp genename           geneid  start_gene   end_gene  \\\n",
       "50273     13   91310826  MIR17HG  ENSG00000215417    91347819   91347820   \n",
       "50274     13   91312880  MIR17HG  ENSG00000215417    91347819   91347820   \n",
       "81842      8  140637192  TRAPPC9  ENSG00000167632   140458578  140458579   \n",
       "81841      8  140638981  TRAPPC9  ENSG00000167632   140458578  140458579   \n",
       "46353     13   91310826  MIR17HG  ENSG00000215417    91347819   91347820   \n",
       "46354     13   91312880  MIR17HG  ENSG00000215417    91347819   91347820   \n",
       "81921      8  140637192   CHRAC1  ENSG00000104472   140511310  140511311   \n",
       "81920      8  140638981   CHRAC1  ENSG00000104472   140511310  140511311   \n",
       "48709     13   91310826  MIR17HG  ENSG00000215417    91347819   91347820   \n",
       "48710     13   91312880  MIR17HG  ENSG00000215417    91347819   91347820   \n",
       "\n",
       "       startA_loop  startB_loop  -log10_qval_loop  \\\n",
       "50273     91310000     91345000        625.319750   \n",
       "50274     91310000     91345000        625.319750   \n",
       "81842    140455000    140635000        546.012211   \n",
       "81841    140455000    140635000        546.012211   \n",
       "46353     91310000     91345000        538.991056   \n",
       "46354     91310000     91345000        538.991056   \n",
       "81921    140510000    140635000        482.900635   \n",
       "81920    140510000    140635000        482.900635   \n",
       "48709     91310000     91345000        432.843386   \n",
       "48710     91310000     91345000        432.843386   \n",
       "\n",
       "                                                  sample      author  \n",
       "50273  THP-1-WT-Batch1.GSE149420.Homo_Sapiens.H3K4me3.b1  Forgetta V  \n",
       "50274  THP-1-WT-Batch1.GSE149420.Homo_Sapiens.H3K4me3.b1  Forgetta V  \n",
       "81842  CD4_Naive_All-Donors.phs001703v3p1.Homo_Sapien...     Chiou J  \n",
       "81841  CD4_Naive_All-Donors.phs001703v3p1.Homo_Sapien...     Chiou J  \n",
       "46353  THP-1-WT-Batch2.GSE149420.Homo_Sapiens.H3K4me3.b1  Forgetta V  \n",
       "46354  THP-1-WT-Batch2.GSE149420.Homo_Sapiens.H3K4me3.b1  Forgetta V  \n",
       "81921  CD4_Naive_All-Donors.phs001703v3p1.Homo_Sapien...     Chiou J  \n",
       "81920  CD4_Naive_All-Donors.phs001703v3p1.Homo_Sapien...     Chiou J  \n",
       "48709  THP-1-del-cIDR-Batch1.GSE149420.Homo_Sapiens.H...  Forgetta V  \n",
       "48710  THP-1-del-cIDR-Batch1.GSE149420.Homo_Sapiens.H...  Forgetta V  "
      ]
     },
     "execution_count": 27,
     "metadata": {},
     "output_type": "execute_result"
    }
   ],
   "source": [
    "sgl_viz_cols = ['chrom', 'end_snp',\n",
    "                'genename', 'geneid', 'start_gene', 'end_gene',\n",
    "                'startA_loop', 'startB_loop', '-log10_qval_loop',\n",
    "                'sample', 'author']\n",
    "t1d_df.sort_values(['-log10_qval_loop', 'chrom', 'end_snp'], ascending=[False, True, True])[sgl_viz_cols].head(10)"
   ]
  },
  {
   "cell_type": "code",
   "execution_count": 28,
   "metadata": {},
   "outputs": [],
   "source": [
    "t1d_uniq_sgls = t1d_df.drop_duplicates(['chrA_loop', 'chrB_loop', 'startA_loop', 'startB_loop', 'geneid', 'start_snp'])"
   ]
  },
  {
   "cell_type": "markdown",
   "metadata": {},
   "source": [
    "### Count and plot the number of sgls and snps per gene"
   ]
  },
  {
   "cell_type": "code",
   "execution_count": 29,
   "metadata": {},
   "outputs": [
    {
     "data": {
      "image/png": "[encoded data removed]",
      "text/plain": [
       "<Figure size 600x400 with 1 Axes>"
      ]
     },
     "metadata": {},
     "output_type": "display_data"
    }
   ],
   "source": [
    "# getting the data\n",
    "snps_per_gene = t1d_uniq_sgls.groupby('geneid').snp_pos.nunique().sort_values(ascending=False).reset_index()\n",
    "\n",
    "# plotting\n",
    "fig, ax = plt.subplots(figsize=(6,4))\n",
    "sns.set_theme(style=\"whitegrid\")\n",
    "sns.histplot(snps_per_gene['snp_pos'], color='blue', binwidth=2, ax=ax, element='bars')\n",
    "\n",
    "ax.set_xlim(0, 60)\n",
    "ax.set_xlabel('No. of Linked SNPs')\n",
    "ax.set_ylabel('Gene Frequency')\n",
    "ax.set_title('')\n",
    "\n",
    "outfn = os.path.join(outdir, 't1d_sgls.snps_per_gene.png')\n",
    "fig.savefig(outfn, dpi=600, bbox_inches='tight')\n"
   ]
  },
  {
   "cell_type": "code",
   "execution_count": 30,
   "metadata": {},
   "outputs": [
    {
     "data": {
      "text/plain": [
       "count    1546.000000\n",
       "mean       10.694696\n",
       "std        20.013101\n",
       "min         1.000000\n",
       "25%         1.000000\n",
       "50%         3.000000\n",
       "75%        10.000000\n",
       "max       344.000000\n",
       "Name: snp_pos, dtype: float64"
      ]
     },
     "execution_count": 30,
     "metadata": {},
     "output_type": "execute_result"
    }
   ],
   "source": [
    "snps_per_gene.snp_pos.describe()"
   ]
  },
  {
   "cell_type": "code",
   "execution_count": 31,
   "metadata": {},
   "outputs": [
    {
     "data": {
      "text/plain": [
       "snp_pos\n",
       "1     26.390686\n",
       "2     14.747736\n",
       "3      9.249677\n",
       "4      8.020699\n",
       "6      4.592497\n",
       "5      4.204398\n",
       "7      3.234153\n",
       "8      2.522639\n",
       "23     1.487710\n",
       "10     1.358344\n",
       "Name: count, dtype: float64"
      ]
     },
     "execution_count": 31,
     "metadata": {},
     "output_type": "execute_result"
    }
   ],
   "source": [
    "((snps_per_gene.snp_pos.value_counts() / len(snps_per_gene)) * 100).head(10)"
   ]
  },
  {
   "cell_type": "code",
   "execution_count": 32,
   "metadata": {},
   "outputs": [],
   "source": [
    "# tdf = snps_per_gene.snp_pos.sort_values(ascending=True).to_frame()\n",
    "# tdf['pos'] = list(range(tdf.shape[0]))\n",
    "# tdf.columns = ['num_linked_snps', 'pos']\n",
    "\n",
    "# # plotting\n",
    "# fig, ax = plt.subplots(figsize=(6,4))\n",
    "# sns.set_theme(style=\"whitegrid\")\n",
    "# sns.scatterplot(tdf, x='pos', y='num_linked_snps', s=10)\n",
    "\n",
    "# #ax.set_xlim(0, 60)\n",
    "# ax.set_xlabel('Gene')\n",
    "# ax.set_ylabel('No. of Linked SNPs')\n",
    "# ax.set_title('')\n",
    "# #ax.set_xticklabels([])\n",
    "# # outfn = os.path.join(outdir, 't1d_sgls.snps_per_gene.png')\n",
    "# # fig.savefig(outfn, dpi=600, bbox_inches='tight')\n"
   ]
  },
  {
   "cell_type": "code",
   "execution_count": 33,
   "metadata": {},
   "outputs": [
    {
     "data": {
      "image/png": "[encoded data removed]",
      "text/plain": [
       "<Figure size 300x400 with 1 Axes>"
      ]
     },
     "metadata": {},
     "output_type": "display_data"
    }
   ],
   "source": [
    "# getting the data\n",
    "genes_per_snp = t1d_uniq_sgls.groupby('snp_pos').geneid.nunique().sort_values(ascending=False).reset_index()\n",
    "\n",
    "# plotting\n",
    "fig, ax = plt.subplots(figsize=(3,4))\n",
    "sns.set_theme(style=\"whitegrid\")\n",
    "sns.histplot(genes_per_snp['geneid'], color='red', binwidth=2, ax=ax)\n",
    "\n",
    "ax.set_xlim(0, 30)\n",
    "ax.set_xlabel('No. of Linked Genes')\n",
    "ax.set_ylabel('SNP Frequency')\n",
    "\n",
    "outfn = os.path.join(outdir, 't1d_sgls.genes_per_snp.png')\n",
    "fig.savefig(outfn, dpi=600, bbox_inches='tight')"
   ]
  },
  {
   "cell_type": "code",
   "execution_count": 34,
   "metadata": {},
   "outputs": [
    {
     "data": {
      "text/plain": [
       "count    2884.000000\n",
       "mean        5.733010\n",
       "std        10.087725\n",
       "min         1.000000\n",
       "25%         1.000000\n",
       "50%         3.000000\n",
       "75%         5.000000\n",
       "max       104.000000\n",
       "Name: geneid, dtype: float64"
      ]
     },
     "execution_count": 34,
     "metadata": {},
     "output_type": "execute_result"
    }
   ],
   "source": [
    "genes_per_snp.geneid.describe()"
   ]
  },
  {
   "cell_type": "code",
   "execution_count": 35,
   "metadata": {},
   "outputs": [
    {
     "data": {
      "text/plain": [
       "geneid\n",
       "1     27.461859\n",
       "2     21.497920\n",
       "3     11.858530\n",
       "4      8.737864\n",
       "5      6.067961\n",
       "7      4.056865\n",
       "6      2.808599\n",
       "8      2.669903\n",
       "9      1.525659\n",
       "15     1.490985\n",
       "Name: count, dtype: float64"
      ]
     },
     "execution_count": 35,
     "metadata": {},
     "output_type": "execute_result"
    }
   ],
   "source": [
    "((genes_per_snp.geneid.value_counts() / len(genes_per_snp)) * 100).head(10)"
   ]
  },
  {
   "cell_type": "markdown",
   "metadata": {},
   "source": [
    "### Compare to the Consensus Gene List"
   ]
  },
  {
   "cell_type": "code",
   "execution_count": 36,
   "metadata": {},
   "outputs": [],
   "source": [
    "def print_genelist(genelist):\n",
    "    print('\\n'.join(list(genelist)))"
   ]
  },
  {
   "cell_type": "markdown",
   "metadata": {},
   "source": [
    "#### Save a list of unique genes for T1D"
   ]
  },
  {
   "cell_type": "code",
   "execution_count": 37,
   "metadata": {},
   "outputs": [
    {
     "name": "stdout",
     "output_type": "stream",
     "text": [
      "The unique number of genes is: 1532\n"
     ]
    }
   ],
   "source": [
    "# get the uniq T1D SGL genes\n",
    "uniq_genes = t1d_df.genename.unique()\n",
    "print('The unique number of genes is: {}'.format(len(uniq_genes)))"
   ]
  },
  {
   "cell_type": "code",
   "execution_count": 38,
   "metadata": {},
   "outputs": [
    {
     "data": {
      "text/plain": [
       "True"
      ]
     },
     "execution_count": 38,
     "metadata": {},
     "output_type": "execute_result"
    }
   ],
   "source": [
    "'IL15RA' in uniq_genes"
   ]
  },
  {
   "cell_type": "code",
   "execution_count": null,
   "metadata": {},
   "outputs": [],
   "source": []
  },
  {
   "cell_type": "code",
   "execution_count": null,
   "metadata": {},
   "outputs": [],
   "source": []
  },
  {
   "cell_type": "code",
   "execution_count": null,
   "metadata": {},
   "outputs": [],
   "source": []
  },
  {
   "cell_type": "code",
   "execution_count": null,
   "metadata": {},
   "outputs": [],
   "source": []
  },
  {
   "cell_type": "code",
   "execution_count": 39,
   "metadata": {},
   "outputs": [],
   "source": [
    "# save the SGL genes found for T1D\n",
    "uniq_fn = os.path.join(outdir, 'uniq_genes.t1d.txt')\n",
    "with open(uniq_fn, 'w') as fw:\n",
    "    s = '\\n'.join(sorted(uniq_genes))\n",
    "    fw.write(s)"
   ]
  },
  {
   "cell_type": "markdown",
   "metadata": {},
   "source": [
    "#### Load the consensus T1D gene list"
   ]
  },
  {
   "cell_type": "code",
   "execution_count": 40,
   "metadata": {},
   "outputs": [
    {
     "name": "stdout",
     "output_type": "stream",
     "text": [
      "The number of consensus genes is: 497\n"
     ]
    }
   ],
   "source": [
    "t1d_consensus_list_fn = '/mnt/bioadhoc-temp/Groups/vd-ay/jreyna/projects/dchallenge/results/main/gene_lists/consensus_gene_list.txt'\n",
    "t1d_consensus_genes = pd.read_table(t1d_consensus_list_fn, header=None, names=['genename'])\n",
    "print('The number of consensus genes is: {}'.format(t1d_consensus_genes.shape[0]))"
   ]
  },
  {
   "cell_type": "code",
   "execution_count": 41,
   "metadata": {},
   "outputs": [
    {
     "data": {
      "text/plain": [
       "True"
      ]
     },
     "execution_count": 41,
     "metadata": {},
     "output_type": "execute_result"
    }
   ],
   "source": [
    "'IL15' in t1d_consensus_genes.genename.tolist()"
   ]
  },
  {
   "cell_type": "code",
   "execution_count": 42,
   "metadata": {},
   "outputs": [
    {
     "data": {
      "text/html": [
       "<div>\n",
       "<style scoped>\n",
       "    .dataframe tbody tr th:only-of-type {\n",
       "        vertical-align: middle;\n",
       "    }\n",
       "\n",
       "    .dataframe tbody tr th {\n",
       "        vertical-align: top;\n",
       "    }\n",
       "\n",
       "    .dataframe thead th {\n",
       "        text-align: right;\n",
       "    }\n",
       "</style>\n",
       "<table border=\"1\" class=\"dataframe\">\n",
       "  <thead>\n",
       "    <tr style=\"text-align: right;\">\n",
       "      <th></th>\n",
       "      <th>genename</th>\n",
       "    </tr>\n",
       "  </thead>\n",
       "  <tbody>\n",
       "    <tr>\n",
       "      <th>0</th>\n",
       "      <td>APOB</td>\n",
       "    </tr>\n",
       "    <tr>\n",
       "      <th>1</th>\n",
       "      <td>PI4KA</td>\n",
       "    </tr>\n",
       "    <tr>\n",
       "      <th>2</th>\n",
       "      <td>PSMB8</td>\n",
       "    </tr>\n",
       "    <tr>\n",
       "      <th>3</th>\n",
       "      <td>AMBP</td>\n",
       "    </tr>\n",
       "    <tr>\n",
       "      <th>4</th>\n",
       "      <td>CD6</td>\n",
       "    </tr>\n",
       "    <tr>\n",
       "      <th>...</th>\n",
       "      <td>...</td>\n",
       "    </tr>\n",
       "    <tr>\n",
       "      <th>492</th>\n",
       "      <td>KLF3-AS1</td>\n",
       "    </tr>\n",
       "    <tr>\n",
       "      <th>493</th>\n",
       "      <td>CTRB2</td>\n",
       "    </tr>\n",
       "    <tr>\n",
       "      <th>494</th>\n",
       "      <td>CLN3</td>\n",
       "    </tr>\n",
       "    <tr>\n",
       "      <th>495</th>\n",
       "      <td>IL6R</td>\n",
       "    </tr>\n",
       "    <tr>\n",
       "      <th>496</th>\n",
       "      <td>AIRE</td>\n",
       "    </tr>\n",
       "  </tbody>\n",
       "</table>\n",
       "<p>497 rows × 1 columns</p>\n",
       "</div>"
      ],
      "text/plain": [
       "     genename\n",
       "0        APOB\n",
       "1       PI4KA\n",
       "2       PSMB8\n",
       "3        AMBP\n",
       "4         CD6\n",
       "..        ...\n",
       "492  KLF3-AS1\n",
       "493     CTRB2\n",
       "494      CLN3\n",
       "495      IL6R\n",
       "496      AIRE\n",
       "\n",
       "[497 rows x 1 columns]"
      ]
     },
     "execution_count": 42,
     "metadata": {},
     "output_type": "execute_result"
    }
   ],
   "source": [
    "t1d_consensus_genes"
   ]
  },
  {
   "cell_type": "code",
   "execution_count": null,
   "metadata": {},
   "outputs": [],
   "source": []
  },
  {
   "cell_type": "markdown",
   "metadata": {},
   "source": [
    "#### Overlap the SGL genes with the consensus genes "
   ]
  },
  {
   "cell_type": "code",
   "execution_count": 43,
   "metadata": {},
   "outputs": [],
   "source": [
    "t1d_plus_consensus_df = t1d_df.loc[t1d_df.genename.isin(t1d_consensus_genes.iloc[:, 0].tolist())]"
   ]
  },
  {
   "cell_type": "code",
   "execution_count": 44,
   "metadata": {},
   "outputs": [
    {
     "name": "stdout",
     "output_type": "stream",
     "text": [
      "The unique number of shared genes is: 106\n"
     ]
    }
   ],
   "source": [
    "shared_t1d_plus_consensus_genes = sorted(t1d_plus_consensus_df.genename.unique().tolist())\n",
    "print('The unique number of shared genes is: {}'.format(len(shared_t1d_plus_consensus_genes)))"
   ]
  },
  {
   "cell_type": "code",
   "execution_count": 45,
   "metadata": {},
   "outputs": [],
   "source": [
    "all_t1d_genes = set(t1d_df.genename.tolist())"
   ]
  },
  {
   "cell_type": "code",
   "execution_count": 46,
   "metadata": {},
   "outputs": [],
   "source": [
    "only_t1d_genes = all_t1d_genes.difference(shared_t1d_plus_consensus_genes)"
   ]
  },
  {
   "cell_type": "code",
   "execution_count": null,
   "metadata": {},
   "outputs": [],
   "source": []
  },
  {
   "cell_type": "code",
   "execution_count": null,
   "metadata": {},
   "outputs": [],
   "source": []
  },
  {
   "cell_type": "code",
   "execution_count": null,
   "metadata": {},
   "outputs": [],
   "source": []
  },
  {
   "cell_type": "code",
   "execution_count": 47,
   "metadata": {},
   "outputs": [],
   "source": [
    "# save the SGL genes found for T1D\n",
    "uniq_fn = os.path.join(outdir, 'left_venn_only.uniq_genes.t1d.txt')\n",
    "with open(uniq_fn, 'w') as fw:\n",
    "    s = '\\n'.join(sorted(only_t1d_genes))\n",
    "    fw.write(s)"
   ]
  },
  {
   "cell_type": "code",
   "execution_count": 48,
   "metadata": {},
   "outputs": [
    {
     "ename": "SyntaxError",
     "evalue": "invalid syntax (811582240.py, line 1)",
     "output_type": "error",
     "traceback": [
      "\u001b[0;36m  Cell \u001b[0;32mIn[48], line 1\u001b[0;36m\u001b[0m\n\u001b[0;31m    7 +\u001b[0m\n\u001b[0m        ^\u001b[0m\n\u001b[0;31mSyntaxError\u001b[0m\u001b[0;31m:\u001b[0m invalid syntax\n"
     ]
    }
   ],
   "source": [
    "7 + "
   ]
  },
  {
   "cell_type": "markdown",
   "metadata": {},
   "source": [
    "## Investigating Shared Genes"
   ]
  },
  {
   "cell_type": "code",
   "execution_count": null,
   "metadata": {},
   "outputs": [],
   "source": [
    "# extract protein coding genes and non-MT\n",
    "prot_list = ['protein_coding', 'IG_V_gene', 'IG_C_gene', 'IG_J_gene',\n",
    "             'TR_C_gene', 'TR_J_gene', 'TR_V_gene', 'TR_D_gene', 'IG_D_gene']\n",
    "base_genes_df = gencode_df.loc[(gencode_df.genetype.isin(prot_list)) & (~gencode_df.chrom.isin(['chrM']))]\n",
    "\n",
    "# get shared genes for T1D\n",
    "shared_gene_df = base_genes_df.loc[base_genes_df.genename.isin(shared_t1d_plus_consensus_genes)]\n",
    "\n",
    "# set associated sgls\n",
    "shared_gene_sgls = t1d_df.loc[all_df.geneid.isin(shared_gene_df.geneid.tolist())]\n",
    "\n",
    "# testing the removal of hist proteins\n",
    "shared_gene_sgls = shared_gene_sgls.loc[~shared_gene_sgls.genename.str.contains('HIST')]\n",
    "\n",
    "# add distance \n",
    "shared_gene_sgls.loc[:, 'distance'] = shared_gene_sgls.loc[:, 'startB_loop'] - shared_gene_sgls.loc[:, 'startA_loop']"
   ]
  },
  {
   "cell_type": "code",
   "execution_count": null,
   "metadata": {},
   "outputs": [
    {
     "data": {
      "text/html": [
       "<div>\n",
       "<style scoped>\n",
       "    .dataframe tbody tr th:only-of-type {\n",
       "        vertical-align: middle;\n",
       "    }\n",
       "\n",
       "    .dataframe tbody tr th {\n",
       "        vertical-align: top;\n",
       "    }\n",
       "\n",
       "    .dataframe thead th {\n",
       "        text-align: right;\n",
       "    }\n",
       "</style>\n",
       "<table border=\"1\" class=\"dataframe\">\n",
       "  <thead>\n",
       "    <tr style=\"text-align: right;\">\n",
       "      <th></th>\n",
       "      <th>chrA_loop</th>\n",
       "      <th>startA_loop</th>\n",
       "      <th>endA_loop</th>\n",
       "      <th>chrB_loop</th>\n",
       "      <th>startB_loop</th>\n",
       "      <th>endB_loop</th>\n",
       "      <th>-log10_qval_loop</th>\n",
       "      <th>chrom</th>\n",
       "      <th>start_snp</th>\n",
       "      <th>end_snp</th>\n",
       "      <th>...</th>\n",
       "      <th>end_gene</th>\n",
       "      <th>genename</th>\n",
       "      <th>geneid</th>\n",
       "      <th>strand</th>\n",
       "      <th>sample</th>\n",
       "      <th>mesh_term</th>\n",
       "      <th>author</th>\n",
       "      <th>filename</th>\n",
       "      <th>snp_pos</th>\n",
       "      <th>distance</th>\n",
       "    </tr>\n",
       "  </thead>\n",
       "  <tbody>\n",
       "    <tr>\n",
       "      <th>18</th>\n",
       "      <td>12</td>\n",
       "      <td>111405000</td>\n",
       "      <td>111410000</td>\n",
       "      <td>12</td>\n",
       "      <td>111445000</td>\n",
       "      <td>111450000</td>\n",
       "      <td>8.225973</td>\n",
       "      <td>12</td>\n",
       "      <td>111446803</td>\n",
       "      <td>111446804</td>\n",
       "      <td>...</td>\n",
       "      <td>111405948</td>\n",
       "      <td>SH2B3</td>\n",
       "      <td>ENSG00000111252</td>\n",
       "      <td>+</td>\n",
       "      <td>CD4_Naive_1831-RH-1.phs001703v3p1.Homo_Sapiens...</td>\n",
       "      <td>Diabetes Mellitus, Type 1</td>\n",
       "      <td>Onengut Gumuscu S</td>\n",
       "      <td>CA266</td>\n",
       "      <td>12:111446804</td>\n",
       "      <td>40000</td>\n",
       "    </tr>\n",
       "    <tr>\n",
       "      <th>19</th>\n",
       "      <td>13</td>\n",
       "      <td>99305000</td>\n",
       "      <td>99310000</td>\n",
       "      <td>13</td>\n",
       "      <td>99425000</td>\n",
       "      <td>99430000</td>\n",
       "      <td>10.171024</td>\n",
       "      <td>13</td>\n",
       "      <td>99429511</td>\n",
       "      <td>99429512</td>\n",
       "      <td>...</td>\n",
       "      <td>99307399</td>\n",
       "      <td>GPR183</td>\n",
       "      <td>ENSG00000169508</td>\n",
       "      <td>-</td>\n",
       "      <td>CD4_Naive_1831-RH-1.phs001703v3p1.Homo_Sapiens...</td>\n",
       "      <td>Diabetes Mellitus, Type 1</td>\n",
       "      <td>Onengut Gumuscu S</td>\n",
       "      <td>CA266</td>\n",
       "      <td>13:99429512</td>\n",
       "      <td>120000</td>\n",
       "    </tr>\n",
       "    <tr>\n",
       "      <th>21</th>\n",
       "      <td>16</td>\n",
       "      <td>28490000</td>\n",
       "      <td>28495000</td>\n",
       "      <td>16</td>\n",
       "      <td>28535000</td>\n",
       "      <td>28540000</td>\n",
       "      <td>5.411512</td>\n",
       "      <td>16</td>\n",
       "      <td>28494338</td>\n",
       "      <td>28494339</td>\n",
       "      <td>...</td>\n",
       "      <td>28539174</td>\n",
       "      <td>NUPR1</td>\n",
       "      <td>ENSG00000176046</td>\n",
       "      <td>-</td>\n",
       "      <td>CD4_Naive_1831-RH-1.phs001703v3p1.Homo_Sapiens...</td>\n",
       "      <td>Diabetes Mellitus, Type 1</td>\n",
       "      <td>Onengut Gumuscu S</td>\n",
       "      <td>CA266</td>\n",
       "      <td>16:28494339</td>\n",
       "      <td>45000</td>\n",
       "    </tr>\n",
       "    <tr>\n",
       "      <th>25</th>\n",
       "      <td>6</td>\n",
       "      <td>90140000</td>\n",
       "      <td>90145000</td>\n",
       "      <td>6</td>\n",
       "      <td>90295000</td>\n",
       "      <td>90300000</td>\n",
       "      <td>8.993829</td>\n",
       "      <td>6</td>\n",
       "      <td>90140444</td>\n",
       "      <td>90140445</td>\n",
       "      <td>...</td>\n",
       "      <td>90296908</td>\n",
       "      <td>BACH2</td>\n",
       "      <td>ENSG00000112182</td>\n",
       "      <td>-</td>\n",
       "      <td>CD4_Naive_1831-RH-1.phs001703v3p1.Homo_Sapiens...</td>\n",
       "      <td>Diabetes Mellitus, Type 1</td>\n",
       "      <td>Onengut Gumuscu S</td>\n",
       "      <td>CA266</td>\n",
       "      <td>6:90140445</td>\n",
       "      <td>155000</td>\n",
       "    </tr>\n",
       "    <tr>\n",
       "      <th>26</th>\n",
       "      <td>6</td>\n",
       "      <td>90140000</td>\n",
       "      <td>90145000</td>\n",
       "      <td>6</td>\n",
       "      <td>90295000</td>\n",
       "      <td>90300000</td>\n",
       "      <td>8.993829</td>\n",
       "      <td>6</td>\n",
       "      <td>90142538</td>\n",
       "      <td>90142539</td>\n",
       "      <td>...</td>\n",
       "      <td>90296908</td>\n",
       "      <td>BACH2</td>\n",
       "      <td>ENSG00000112182</td>\n",
       "      <td>-</td>\n",
       "      <td>CD4_Naive_1831-RH-1.phs001703v3p1.Homo_Sapiens...</td>\n",
       "      <td>Diabetes Mellitus, Type 1</td>\n",
       "      <td>Onengut Gumuscu S</td>\n",
       "      <td>CA266</td>\n",
       "      <td>6:90142539</td>\n",
       "      <td>155000</td>\n",
       "    </tr>\n",
       "    <tr>\n",
       "      <th>...</th>\n",
       "      <td>...</td>\n",
       "      <td>...</td>\n",
       "      <td>...</td>\n",
       "      <td>...</td>\n",
       "      <td>...</td>\n",
       "      <td>...</td>\n",
       "      <td>...</td>\n",
       "      <td>...</td>\n",
       "      <td>...</td>\n",
       "      <td>...</td>\n",
       "      <td>...</td>\n",
       "      <td>...</td>\n",
       "      <td>...</td>\n",
       "      <td>...</td>\n",
       "      <td>...</td>\n",
       "      <td>...</td>\n",
       "      <td>...</td>\n",
       "      <td>...</td>\n",
       "      <td>...</td>\n",
       "      <td>...</td>\n",
       "      <td>...</td>\n",
       "    </tr>\n",
       "    <tr>\n",
       "      <th>182262</th>\n",
       "      <td>5</td>\n",
       "      <td>35830000</td>\n",
       "      <td>35835000</td>\n",
       "      <td>5</td>\n",
       "      <td>35850000</td>\n",
       "      <td>35855000</td>\n",
       "      <td>22.439913</td>\n",
       "      <td>5</td>\n",
       "      <td>35833520</td>\n",
       "      <td>35833521</td>\n",
       "      <td>...</td>\n",
       "      <td>35852695</td>\n",
       "      <td>IL7R</td>\n",
       "      <td>ENSG00000168685</td>\n",
       "      <td>+</td>\n",
       "      <td>CD8_Naive_All-Donors.phs001703v3p1.Homo_Sapien...</td>\n",
       "      <td>Diabetes Mellitus, Type 1</td>\n",
       "      <td>Onengut Gumuscu S</td>\n",
       "      <td>CA265</td>\n",
       "      <td>5:35833521</td>\n",
       "      <td>20000</td>\n",
       "    </tr>\n",
       "    <tr>\n",
       "      <th>182263</th>\n",
       "      <td>5</td>\n",
       "      <td>35850000</td>\n",
       "      <td>35855000</td>\n",
       "      <td>5</td>\n",
       "      <td>35920000</td>\n",
       "      <td>35925000</td>\n",
       "      <td>13.997801</td>\n",
       "      <td>5</td>\n",
       "      <td>35921967</td>\n",
       "      <td>35921968</td>\n",
       "      <td>...</td>\n",
       "      <td>35852695</td>\n",
       "      <td>IL7R</td>\n",
       "      <td>ENSG00000168685</td>\n",
       "      <td>+</td>\n",
       "      <td>CD8_Naive_All-Donors.phs001703v3p1.Homo_Sapien...</td>\n",
       "      <td>Diabetes Mellitus, Type 1</td>\n",
       "      <td>Onengut Gumuscu S</td>\n",
       "      <td>CA265</td>\n",
       "      <td>5:35921968</td>\n",
       "      <td>70000</td>\n",
       "    </tr>\n",
       "    <tr>\n",
       "      <th>182264</th>\n",
       "      <td>5</td>\n",
       "      <td>35850000</td>\n",
       "      <td>35855000</td>\n",
       "      <td>5</td>\n",
       "      <td>35920000</td>\n",
       "      <td>35925000</td>\n",
       "      <td>13.997801</td>\n",
       "      <td>5</td>\n",
       "      <td>35924645</td>\n",
       "      <td>35924646</td>\n",
       "      <td>...</td>\n",
       "      <td>35852695</td>\n",
       "      <td>IL7R</td>\n",
       "      <td>ENSG00000168685</td>\n",
       "      <td>+</td>\n",
       "      <td>CD8_Naive_All-Donors.phs001703v3p1.Homo_Sapien...</td>\n",
       "      <td>Diabetes Mellitus, Type 1</td>\n",
       "      <td>Onengut Gumuscu S</td>\n",
       "      <td>CA265</td>\n",
       "      <td>5:35924646</td>\n",
       "      <td>70000</td>\n",
       "    </tr>\n",
       "    <tr>\n",
       "      <th>182283</th>\n",
       "      <td>6</td>\n",
       "      <td>90170000</td>\n",
       "      <td>90175000</td>\n",
       "      <td>6</td>\n",
       "      <td>90295000</td>\n",
       "      <td>90300000</td>\n",
       "      <td>5.432919</td>\n",
       "      <td>6</td>\n",
       "      <td>90170673</td>\n",
       "      <td>90170674</td>\n",
       "      <td>...</td>\n",
       "      <td>90296908</td>\n",
       "      <td>BACH2</td>\n",
       "      <td>ENSG00000112182</td>\n",
       "      <td>-</td>\n",
       "      <td>CD8_Naive_All-Donors.phs001703v3p1.Homo_Sapien...</td>\n",
       "      <td>Diabetes Mellitus, Type 1</td>\n",
       "      <td>Onengut Gumuscu S</td>\n",
       "      <td>CA265</td>\n",
       "      <td>6:90170674</td>\n",
       "      <td>125000</td>\n",
       "    </tr>\n",
       "    <tr>\n",
       "      <th>182285</th>\n",
       "      <td>7</td>\n",
       "      <td>50260000</td>\n",
       "      <td>50265000</td>\n",
       "      <td>7</td>\n",
       "      <td>50300000</td>\n",
       "      <td>50305000</td>\n",
       "      <td>6.161417</td>\n",
       "      <td>7</td>\n",
       "      <td>50264485</td>\n",
       "      <td>50264486</td>\n",
       "      <td>...</td>\n",
       "      <td>50304068</td>\n",
       "      <td>IKZF1</td>\n",
       "      <td>ENSG00000185811</td>\n",
       "      <td>+</td>\n",
       "      <td>CD8_Naive_All-Donors.phs001703v3p1.Homo_Sapien...</td>\n",
       "      <td>Diabetes Mellitus, Type 1</td>\n",
       "      <td>Onengut Gumuscu S</td>\n",
       "      <td>CA265</td>\n",
       "      <td>7:50264486</td>\n",
       "      <td>40000</td>\n",
       "    </tr>\n",
       "  </tbody>\n",
       "</table>\n",
       "<p>10256 rows × 38 columns</p>\n",
       "</div>"
      ],
      "text/plain": [
       "        chrA_loop  startA_loop  endA_loop  chrB_loop  startB_loop  endB_loop  \\\n",
       "18             12    111405000  111410000         12    111445000  111450000   \n",
       "19             13     99305000   99310000         13     99425000   99430000   \n",
       "21             16     28490000   28495000         16     28535000   28540000   \n",
       "25              6     90140000   90145000          6     90295000   90300000   \n",
       "26              6     90140000   90145000          6     90295000   90300000   \n",
       "...           ...          ...        ...        ...          ...        ...   \n",
       "182262          5     35830000   35835000          5     35850000   35855000   \n",
       "182263          5     35850000   35855000          5     35920000   35925000   \n",
       "182264          5     35850000   35855000          5     35920000   35925000   \n",
       "182283          6     90170000   90175000          6     90295000   90300000   \n",
       "182285          7     50260000   50265000          7     50300000   50305000   \n",
       "\n",
       "        -log10_qval_loop  chrom  start_snp    end_snp  ...   end_gene  \\\n",
       "18              8.225973     12  111446803  111446804  ...  111405948   \n",
       "19             10.171024     13   99429511   99429512  ...   99307399   \n",
       "21              5.411512     16   28494338   28494339  ...   28539174   \n",
       "25              8.993829      6   90140444   90140445  ...   90296908   \n",
       "26              8.993829      6   90142538   90142539  ...   90296908   \n",
       "...                  ...    ...        ...        ...  ...        ...   \n",
       "182262         22.439913      5   35833520   35833521  ...   35852695   \n",
       "182263         13.997801      5   35921967   35921968  ...   35852695   \n",
       "182264         13.997801      5   35924645   35924646  ...   35852695   \n",
       "182283          5.432919      6   90170673   90170674  ...   90296908   \n",
       "182285          6.161417      7   50264485   50264486  ...   50304068   \n",
       "\n",
       "        genename           geneid strand  \\\n",
       "18         SH2B3  ENSG00000111252      +   \n",
       "19        GPR183  ENSG00000169508      -   \n",
       "21         NUPR1  ENSG00000176046      -   \n",
       "25         BACH2  ENSG00000112182      -   \n",
       "26         BACH2  ENSG00000112182      -   \n",
       "...          ...              ...    ...   \n",
       "182262      IL7R  ENSG00000168685      +   \n",
       "182263      IL7R  ENSG00000168685      +   \n",
       "182264      IL7R  ENSG00000168685      +   \n",
       "182283     BACH2  ENSG00000112182      -   \n",
       "182285     IKZF1  ENSG00000185811      +   \n",
       "\n",
       "                                                   sample  \\\n",
       "18      CD4_Naive_1831-RH-1.phs001703v3p1.Homo_Sapiens...   \n",
       "19      CD4_Naive_1831-RH-1.phs001703v3p1.Homo_Sapiens...   \n",
       "21      CD4_Naive_1831-RH-1.phs001703v3p1.Homo_Sapiens...   \n",
       "25      CD4_Naive_1831-RH-1.phs001703v3p1.Homo_Sapiens...   \n",
       "26      CD4_Naive_1831-RH-1.phs001703v3p1.Homo_Sapiens...   \n",
       "...                                                   ...   \n",
       "182262  CD8_Naive_All-Donors.phs001703v3p1.Homo_Sapien...   \n",
       "182263  CD8_Naive_All-Donors.phs001703v3p1.Homo_Sapien...   \n",
       "182264  CD8_Naive_All-Donors.phs001703v3p1.Homo_Sapien...   \n",
       "182283  CD8_Naive_All-Donors.phs001703v3p1.Homo_Sapien...   \n",
       "182285  CD8_Naive_All-Donors.phs001703v3p1.Homo_Sapien...   \n",
       "\n",
       "                        mesh_term             author  filename       snp_pos  \\\n",
       "18      Diabetes Mellitus, Type 1  Onengut Gumuscu S     CA266  12:111446804   \n",
       "19      Diabetes Mellitus, Type 1  Onengut Gumuscu S     CA266   13:99429512   \n",
       "21      Diabetes Mellitus, Type 1  Onengut Gumuscu S     CA266   16:28494339   \n",
       "25      Diabetes Mellitus, Type 1  Onengut Gumuscu S     CA266    6:90140445   \n",
       "26      Diabetes Mellitus, Type 1  Onengut Gumuscu S     CA266    6:90142539   \n",
       "...                           ...                ...       ...           ...   \n",
       "182262  Diabetes Mellitus, Type 1  Onengut Gumuscu S     CA265    5:35833521   \n",
       "182263  Diabetes Mellitus, Type 1  Onengut Gumuscu S     CA265    5:35921968   \n",
       "182264  Diabetes Mellitus, Type 1  Onengut Gumuscu S     CA265    5:35924646   \n",
       "182283  Diabetes Mellitus, Type 1  Onengut Gumuscu S     CA265    6:90170674   \n",
       "182285  Diabetes Mellitus, Type 1  Onengut Gumuscu S     CA265    7:50264486   \n",
       "\n",
       "        distance  \n",
       "18         40000  \n",
       "19        120000  \n",
       "21         45000  \n",
       "25        155000  \n",
       "26        155000  \n",
       "...          ...  \n",
       "182262     20000  \n",
       "182263     70000  \n",
       "182264     70000  \n",
       "182283    125000  \n",
       "182285     40000  \n",
       "\n",
       "[10256 rows x 38 columns]"
      ]
     },
     "execution_count": 42,
     "metadata": {},
     "output_type": "execute_result"
    }
   ],
   "source": [
    "shared_gene_sgls"
   ]
  },
  {
   "cell_type": "code",
   "execution_count": null,
   "metadata": {},
   "outputs": [],
   "source": [
    "# calculating genes which are present in SGLs across more than 3 samples\n",
    "shared_gene_freqs = shared_gene_sgls.drop_duplicates(['genename', 'sample']).genename.value_counts()\n",
    "shared_genes_high_freq = shared_gene_freqs[shared_gene_freqs > 3]\n",
    "shared_genes_high_freq_list = shared_genes_high_freq.index.tolist()"
   ]
  },
  {
   "cell_type": "code",
   "execution_count": null,
   "metadata": {
    "scrolled": true
   },
   "outputs": [],
   "source": [
    "pd.options.display.max_rows = 1000\n",
    "pd.options.display.max_colwidth = 1000\n",
    "pd.options.display.max_columns = 100\n",
    "\n",
    "check_genes = []\n",
    "candidates = shared_gene_sgls.loc[shared_gene_sgls.distance > 200000].sort_values(['distance', 'genename'], ascending=[False, True])\n",
    "candidates = candidates.loc[candidates.chr_gene != 6]\n",
    "candidates = candidates.loc[~candidates.genename.isin(check_genes)]\n",
    "candidates = candidates.loc[candidates.genename.isin(shared_genes_high_freq_list)]\n",
    "candidates = candidates.loc[~candidates['sample'].str.startswith('THP-1')]\n",
    "\n",
    "# display(candidates.iloc[:, 14:])\n",
    "# #pd.options.display.max_rows = 200\n"
   ]
  },
  {
   "cell_type": "code",
   "execution_count": null,
   "metadata": {},
   "outputs": [
    {
     "data": {
      "text/plain": [
       "array(['RAD51B', 'SMARCE1', 'IKZF3', 'CCR7', 'CCRL2', 'ITSN2', 'ATXN2L',\n",
       "       'NCOA1', 'PSMB2', 'CCR5', 'SBK1'], dtype=object)"
      ]
     },
     "execution_count": 45,
     "metadata": {},
     "output_type": "execute_result"
    }
   ],
   "source": [
    "candidates.genename.unique()"
   ]
  },
  {
   "cell_type": "code",
   "execution_count": null,
   "metadata": {},
   "outputs": [],
   "source": []
  },
  {
   "cell_type": "code",
   "execution_count": null,
   "metadata": {},
   "outputs": [],
   "source": []
  },
  {
   "cell_type": "code",
   "execution_count": null,
   "metadata": {},
   "outputs": [],
   "source": []
  },
  {
   "cell_type": "code",
   "execution_count": null,
   "metadata": {},
   "outputs": [],
   "source": []
  },
  {
   "cell_type": "code",
   "execution_count": null,
   "metadata": {},
   "outputs": [],
   "source": []
  },
  {
   "cell_type": "code",
   "execution_count": null,
   "metadata": {},
   "outputs": [],
   "source": []
  },
  {
   "cell_type": "code",
   "execution_count": null,
   "metadata": {},
   "outputs": [],
   "source": []
  },
  {
   "cell_type": "code",
   "execution_count": null,
   "metadata": {},
   "outputs": [
    {
     "ename": "SyntaxError",
     "evalue": "invalid syntax (431988044.py, line 1)",
     "output_type": "error",
     "traceback": [
      "\u001b[0;36m  Cell \u001b[0;32mIn[46], line 1\u001b[0;36m\u001b[0m\n\u001b[0;31m    7 +\u001b[0m\n\u001b[0m       ^\u001b[0m\n\u001b[0;31mSyntaxError\u001b[0m\u001b[0;31m:\u001b[0m invalid syntax\n"
     ]
    }
   ],
   "source": [
    "7 +"
   ]
  },
  {
   "cell_type": "markdown",
   "metadata": {},
   "source": [
    "## Investigate Novel Genes"
   ]
  },
  {
   "cell_type": "code",
   "execution_count": null,
   "metadata": {},
   "outputs": [],
   "source": [
    "# extract protein coding genes and non-MT\n",
    "prot_list = ['protein_coding', 'IG_V_gene', 'IG_C_gene', 'IG_J_gene',\n",
    "             'TR_C_gene', 'TR_J_gene', 'TR_V_gene', 'TR_D_gene', 'IG_D_gene']\n",
    "base_genes_df = gencode_df.loc[(gencode_df.genetype.isin(prot_list)) & (~gencode_df.chrom.isin(['chrM']))]\n",
    "\n",
    "# get novel genes for T1D\n",
    "novel_gene_df = base_genes_df.loc[base_genes_df.genename.isin(only_t1d_genes)]\n",
    "\n",
    "# set associated sgls\n",
    "novel_gene_sgls = t1d_df.loc[all_df.geneid.isin(novel_gene_df.geneid.tolist())]\n",
    "\n",
    "# testing the removal of hist proteins\n",
    "novel_gene_sgls = novel_gene_sgls.loc[~novel_gene_sgls.genename.str.contains('HIST')]\n",
    "\n",
    "# add distance \n",
    "novel_gene_sgls.loc[:, 'distance'] = novel_gene_sgls.loc[:, 'startB_loop'] - novel_gene_sgls.loc[:, 'startA_loop']"
   ]
  },
  {
   "cell_type": "code",
   "execution_count": null,
   "metadata": {},
   "outputs": [],
   "source": [
    "#print(','.join(list(novel_gene_sgls.geneid.unique())))"
   ]
  },
  {
   "cell_type": "code",
   "execution_count": null,
   "metadata": {},
   "outputs": [],
   "source": [
    "# counting snp-gene pairs \n",
    "novel_gene_sgls.loc[:, 'sgname'] = novel_gene_sgls.loc[:, 'genename'] + ' & ' + novel_gene_sgls.loc[:, 'snp_pos']\n",
    "sgpair_counts = novel_gene_sgls.sgname.value_counts().to_frame()"
   ]
  },
  {
   "cell_type": "markdown",
   "metadata": {},
   "source": [
    "I'm interested in the frequency of each SNP + gene pair. Hopefully there is a pair with lots of samples. "
   ]
  },
  {
   "cell_type": "code",
   "execution_count": null,
   "metadata": {},
   "outputs": [
    {
     "data": {
      "text/plain": [
       "array([  2,   1,  18,   9,   8,  10,   5,   4,   6,   3,  30,  12,  45,\n",
       "        19,  15,  35,  14, 100,  40,   7,  24,  11,  20,  34,  53,  65,\n",
       "        52,  39,  13,  70,  28,  38,  76,  60,  90,  21, 212,  22,  41,\n",
       "        23,  16,  17,  36,  32,  27,  44,  43,  25,  96,  29, 170,  68,\n",
       "        37,  75, 126,  26,  48, 138,  42,  80,  69, 120,  54,  57,  33,\n",
       "       117, 102,  46, 106, 318, 156,  64, 150,  55,  84,  31])"
      ]
     },
     "execution_count": 115,
     "metadata": {},
     "output_type": "execute_result"
    }
   ],
   "source": [
    "sgl_freqs = sgpair_counts.sort_index()['count'].unique()\n",
    "sgl_freqs"
   ]
  },
  {
   "cell_type": "code",
   "execution_count": null,
   "metadata": {},
   "outputs": [
    {
     "data": {
      "text/html": [
       "<div>\n",
       "<style scoped>\n",
       "    .dataframe tbody tr th:only-of-type {\n",
       "        vertical-align: middle;\n",
       "    }\n",
       "\n",
       "    .dataframe tbody tr th {\n",
       "        vertical-align: top;\n",
       "    }\n",
       "\n",
       "    .dataframe thead th {\n",
       "        text-align: right;\n",
       "    }\n",
       "</style>\n",
       "<table border=\"1\" class=\"dataframe\">\n",
       "  <thead>\n",
       "    <tr style=\"text-align: right;\">\n",
       "      <th></th>\n",
       "      <th>count</th>\n",
       "    </tr>\n",
       "    <tr>\n",
       "      <th>sgname</th>\n",
       "      <th></th>\n",
       "    </tr>\n",
       "  </thead>\n",
       "  <tbody>\n",
       "    <tr>\n",
       "      <th>SGF29 &amp; 16:28494339</th>\n",
       "      <td>318</td>\n",
       "    </tr>\n",
       "    <tr>\n",
       "      <th>APOBR &amp; 16:28554346</th>\n",
       "      <td>212</td>\n",
       "    </tr>\n",
       "    <tr>\n",
       "      <th>AC138894.1 &amp; 16:28554837</th>\n",
       "      <td>212</td>\n",
       "    </tr>\n",
       "    <tr>\n",
       "      <th>AC138894.1 &amp; 16:28554346</th>\n",
       "      <td>212</td>\n",
       "    </tr>\n",
       "    <tr>\n",
       "      <th>APOBR &amp; 16:28554837</th>\n",
       "      <td>212</td>\n",
       "    </tr>\n",
       "    <tr>\n",
       "      <th>...</th>\n",
       "      <td>...</td>\n",
       "    </tr>\n",
       "    <tr>\n",
       "      <th>CEP192 &amp; 18:12841177</th>\n",
       "      <td>1</td>\n",
       "    </tr>\n",
       "    <tr>\n",
       "      <th>CEP192 &amp; 18:12843264</th>\n",
       "      <td>1</td>\n",
       "    </tr>\n",
       "    <tr>\n",
       "      <th>CCDC157 &amp; 22:30116269</th>\n",
       "      <td>1</td>\n",
       "    </tr>\n",
       "    <tr>\n",
       "      <th>SF3A1 &amp; 22:30116269</th>\n",
       "      <td>1</td>\n",
       "    </tr>\n",
       "    <tr>\n",
       "      <th>OSM &amp; 22:30181782</th>\n",
       "      <td>1</td>\n",
       "    </tr>\n",
       "  </tbody>\n",
       "</table>\n",
       "<p>6244 rows × 1 columns</p>\n",
       "</div>"
      ],
      "text/plain": [
       "                          count\n",
       "sgname                         \n",
       "SGF29 & 16:28494339         318\n",
       "APOBR & 16:28554346         212\n",
       "AC138894.1 & 16:28554837    212\n",
       "AC138894.1 & 16:28554346    212\n",
       "APOBR & 16:28554837         212\n",
       "...                         ...\n",
       "CEP192 & 18:12841177          1\n",
       "CEP192 & 18:12843264          1\n",
       "CCDC157 & 22:30116269         1\n",
       "SF3A1 & 22:30116269           1\n",
       "OSM & 22:30181782             1\n",
       "\n",
       "[6244 rows x 1 columns]"
      ]
     },
     "metadata": {},
     "output_type": "display_data"
    }
   ],
   "source": [
    "pd.options.display.max_rows = 100\n",
    "display(sgpair_counts)\n",
    "pd.options.display.max_rows = 100"
   ]
  },
  {
   "cell_type": "code",
   "execution_count": null,
   "metadata": {},
   "outputs": [],
   "source": [
    "# calculating genes which are present in SGLs across more than 3 samples\n",
    "novel_gene_freqs = novel_gene_sgls.drop_duplicates(['genename', 'sample']).genename.value_counts()\n",
    "novel_genes_high_freq = novel_gene_freqs[novel_gene_freqs > 3]\n",
    "novel_genes_high_freq_list = novel_genes_high_freq.index.tolist()"
   ]
  },
  {
   "cell_type": "code",
   "execution_count": null,
   "metadata": {
    "scrolled": false
   },
   "outputs": [],
   "source": [
    "pd.options.display.max_rows = 1000\n",
    "pd.options.display.max_colwidth = 1000\n",
    "pd.options.display.max_columns = 100\n",
    "\n",
    "check_genes = ['CD63', 'AC009779.2', 'AC073896.2', 'AC145285.3', 'SETD9', 'PUM3', 'AC022506.1', 'DDIT3', 'MBD6', 'PKNOX1', 'GPBP1']\n",
    "check_genes += ['SLC30A1', 'ZBTB37', 'EIF1', 'CENPL', 'DARS2', 'ZFYVE26', 'KMT2E', 'NIPBL', 'BRIX1', 'RAD1', 'LONRF1']\n",
    "check_genes += ['RAPGEF6', 'ITGB1', 'FAM210A', 'RNMT', 'DTL', 'INTS7', 'SIMM12', 'EPC1', 'SMIM12', 'NUDT6']\n",
    "check_genes += ['RFX3', 'SPATA5', 'DUSP28', 'HSPA4', 'ZIC2', 'ANKMY1', 'RNPEPL1', 'ZSCAN22', 'FKBP1B']\n",
    "check_genes += ['WDCP', 'SFPQ', 'CYP20A1', 'DOCK9', 'NCK1', 'FANCI', 'RRP1', 'STK40', 'AFG3L2']\n",
    "check_genes += ['STAG1', 'NEK7', 'UBE2G2', 'RO60', 'DNAJC27', 'TNFSF4', 'ABHD2', 'IFT27', 'GDF9', 'UQCRQ']\n",
    "check_genes += ['PRKAR1A', 'WIPI1', 'NCF4', 'TRAPPC10', 'PTRHD1', 'HAPLN3', 'HEXIM2', 'KIF14', 'UBAC2']\n",
    "check_genes += ['GDF11', 'STARD3', 'SECISBP2', 'RARA', 'CCR1', 'CCR2', 'ORMDL2', 'SENP3', 'SENP3-EIF4A1']\n",
    "candidates = novel_gene_sgls.loc[novel_gene_sgls.distance > 200000].sort_values(['distance', 'genename'], ascending=[False, True])\n",
    "candidates = candidates.loc[candidates.chr_gene != 6]\n",
    "candidates = candidates.loc[~candidates.genename.isin(check_genes)]\n",
    "candidates = candidates.loc[candidates.genename.isin(novel_genes_high_freq_list)]\n",
    "candidates = candidates.loc[~candidates['sample'].str.startswith('THP-1')]\n",
    "\n",
    "#display(candidates.iloc[:, 14:])\n",
    "#pd.options.display.max_rows = 200\n"
   ]
  },
  {
   "cell_type": "code",
   "execution_count": null,
   "metadata": {},
   "outputs": [
    {
     "name": "stdout",
     "output_type": "stream",
     "text": [
      "MTF1\n"
     ]
    }
   ],
   "source": [
    "for x in candidates.genename.unique():\n",
    "    print(x)\n",
    "    break"
   ]
  },
  {
   "cell_type": "code",
   "execution_count": null,
   "metadata": {},
   "outputs": [
    {
     "data": {
      "text/html": [
       "<div>\n",
       "<style scoped>\n",
       "    .dataframe tbody tr th:only-of-type {\n",
       "        vertical-align: middle;\n",
       "    }\n",
       "\n",
       "    .dataframe tbody tr th {\n",
       "        vertical-align: top;\n",
       "    }\n",
       "\n",
       "    .dataframe thead th {\n",
       "        text-align: right;\n",
       "    }\n",
       "</style>\n",
       "<table border=\"1\" class=\"dataframe\">\n",
       "  <thead>\n",
       "    <tr style=\"text-align: right;\">\n",
       "      <th></th>\n",
       "      <th>chrA_loop</th>\n",
       "      <th>startA_loop</th>\n",
       "      <th>endA_loop</th>\n",
       "      <th>chrB_loop</th>\n",
       "      <th>startB_loop</th>\n",
       "      <th>endB_loop</th>\n",
       "      <th>-log10_qval_loop</th>\n",
       "      <th>chr_snp</th>\n",
       "      <th>start_snp</th>\n",
       "      <th>end_snp</th>\n",
       "      <th>snp_anchor</th>\n",
       "      <th>chr_gene</th>\n",
       "      <th>start_gene</th>\n",
       "      <th>end_gene</th>\n",
       "      <th>genename</th>\n",
       "      <th>geneid</th>\n",
       "      <th>strand</th>\n",
       "      <th>causaldb_fn</th>\n",
       "      <th>sample</th>\n",
       "      <th>mesh_term</th>\n",
       "      <th>author</th>\n",
       "      <th>filename</th>\n",
       "      <th>snp_pos</th>\n",
       "      <th>sgname</th>\n",
       "      <th>distance</th>\n",
       "    </tr>\n",
       "  </thead>\n",
       "  <tbody>\n",
       "    <tr>\n",
       "      <th>83310</th>\n",
       "      <td>3</td>\n",
       "      <td>136250000</td>\n",
       "      <td>136255000</td>\n",
       "      <td>3</td>\n",
       "      <td>136860000</td>\n",
       "      <td>136865000</td>\n",
       "      <td>8.139618</td>\n",
       "      <td>3</td>\n",
       "      <td>136254605</td>\n",
       "      <td>136254606</td>\n",
       "      <td>AnchorA</td>\n",
       "      <td>3</td>\n",
       "      <td>136862207</td>\n",
       "      <td>136862208</td>\n",
       "      <td>NCK1</td>\n",
       "      <td>ENSG00000158092</td>\n",
       "      <td>+</td>\n",
       "      <td>GD09519</td>\n",
       "      <td>CD4_Naive_1815-RH-1.phs001703v3p1.Homo_Sapiens.H3K27ac.b2</td>\n",
       "      <td>Diabetes Mellitus, Type 1</td>\n",
       "      <td>Forgetta V</td>\n",
       "      <td>GD09519</td>\n",
       "      <td>3:136254606</td>\n",
       "      <td>NCK1 &amp; 3:136254606</td>\n",
       "      <td>610000</td>\n",
       "    </tr>\n",
       "    <tr>\n",
       "      <th>83312</th>\n",
       "      <td>3</td>\n",
       "      <td>136250000</td>\n",
       "      <td>136255000</td>\n",
       "      <td>3</td>\n",
       "      <td>136860000</td>\n",
       "      <td>136865000</td>\n",
       "      <td>8.139618</td>\n",
       "      <td>3</td>\n",
       "      <td>136250752</td>\n",
       "      <td>136250753</td>\n",
       "      <td>AnchorA</td>\n",
       "      <td>3</td>\n",
       "      <td>136862207</td>\n",
       "      <td>136862208</td>\n",
       "      <td>NCK1</td>\n",
       "      <td>ENSG00000158092</td>\n",
       "      <td>+</td>\n",
       "      <td>GD09519</td>\n",
       "      <td>CD4_Naive_1815-RH-1.phs001703v3p1.Homo_Sapiens.H3K27ac.b2</td>\n",
       "      <td>Diabetes Mellitus, Type 1</td>\n",
       "      <td>Forgetta V</td>\n",
       "      <td>GD09519</td>\n",
       "      <td>3:136250753</td>\n",
       "      <td>NCK1 &amp; 3:136250753</td>\n",
       "      <td>610000</td>\n",
       "    </tr>\n",
       "    <tr>\n",
       "      <th>85688</th>\n",
       "      <td>3</td>\n",
       "      <td>136250000</td>\n",
       "      <td>136255000</td>\n",
       "      <td>3</td>\n",
       "      <td>136860000</td>\n",
       "      <td>136865000</td>\n",
       "      <td>7.231814</td>\n",
       "      <td>3</td>\n",
       "      <td>136254605</td>\n",
       "      <td>136254606</td>\n",
       "      <td>AnchorA</td>\n",
       "      <td>3</td>\n",
       "      <td>136862207</td>\n",
       "      <td>136862208</td>\n",
       "      <td>NCK1</td>\n",
       "      <td>ENSG00000158092</td>\n",
       "      <td>+</td>\n",
       "      <td>GD09519</td>\n",
       "      <td>CD4_Naive_1829-RH-1.phs001703v3p1.Homo_Sapiens.H3K27ac.b2</td>\n",
       "      <td>Diabetes Mellitus, Type 1</td>\n",
       "      <td>Forgetta V</td>\n",
       "      <td>GD09519</td>\n",
       "      <td>3:136254606</td>\n",
       "      <td>NCK1 &amp; 3:136254606</td>\n",
       "      <td>610000</td>\n",
       "    </tr>\n",
       "    <tr>\n",
       "      <th>85690</th>\n",
       "      <td>3</td>\n",
       "      <td>136250000</td>\n",
       "      <td>136255000</td>\n",
       "      <td>3</td>\n",
       "      <td>136860000</td>\n",
       "      <td>136865000</td>\n",
       "      <td>7.231814</td>\n",
       "      <td>3</td>\n",
       "      <td>136250752</td>\n",
       "      <td>136250753</td>\n",
       "      <td>AnchorA</td>\n",
       "      <td>3</td>\n",
       "      <td>136862207</td>\n",
       "      <td>136862208</td>\n",
       "      <td>NCK1</td>\n",
       "      <td>ENSG00000158092</td>\n",
       "      <td>+</td>\n",
       "      <td>GD09519</td>\n",
       "      <td>CD4_Naive_1829-RH-1.phs001703v3p1.Homo_Sapiens.H3K27ac.b2</td>\n",
       "      <td>Diabetes Mellitus, Type 1</td>\n",
       "      <td>Forgetta V</td>\n",
       "      <td>GD09519</td>\n",
       "      <td>3:136250753</td>\n",
       "      <td>NCK1 &amp; 3:136250753</td>\n",
       "      <td>610000</td>\n",
       "    </tr>\n",
       "  </tbody>\n",
       "</table>\n",
       "</div>"
      ],
      "text/plain": [
       "       chrA_loop  startA_loop  endA_loop  chrB_loop  startB_loop  endB_loop  \\\n",
       "83310          3    136250000  136255000          3    136860000  136865000   \n",
       "83312          3    136250000  136255000          3    136860000  136865000   \n",
       "85688          3    136250000  136255000          3    136860000  136865000   \n",
       "85690          3    136250000  136255000          3    136860000  136865000   \n",
       "\n",
       "       -log10_qval_loop  chr_snp  start_snp    end_snp snp_anchor  chr_gene  \\\n",
       "83310          8.139618        3  136254605  136254606    AnchorA         3   \n",
       "83312          8.139618        3  136250752  136250753    AnchorA         3   \n",
       "85688          7.231814        3  136254605  136254606    AnchorA         3   \n",
       "85690          7.231814        3  136250752  136250753    AnchorA         3   \n",
       "\n",
       "       start_gene   end_gene genename           geneid strand causaldb_fn  \\\n",
       "83310   136862207  136862208     NCK1  ENSG00000158092      +     GD09519   \n",
       "83312   136862207  136862208     NCK1  ENSG00000158092      +     GD09519   \n",
       "85688   136862207  136862208     NCK1  ENSG00000158092      +     GD09519   \n",
       "85690   136862207  136862208     NCK1  ENSG00000158092      +     GD09519   \n",
       "\n",
       "                                                          sample  \\\n",
       "83310  CD4_Naive_1815-RH-1.phs001703v3p1.Homo_Sapiens.H3K27ac.b2   \n",
       "83312  CD4_Naive_1815-RH-1.phs001703v3p1.Homo_Sapiens.H3K27ac.b2   \n",
       "85688  CD4_Naive_1829-RH-1.phs001703v3p1.Homo_Sapiens.H3K27ac.b2   \n",
       "85690  CD4_Naive_1829-RH-1.phs001703v3p1.Homo_Sapiens.H3K27ac.b2   \n",
       "\n",
       "                       mesh_term      author filename      snp_pos  \\\n",
       "83310  Diabetes Mellitus, Type 1  Forgetta V  GD09519  3:136254606   \n",
       "83312  Diabetes Mellitus, Type 1  Forgetta V  GD09519  3:136250753   \n",
       "85688  Diabetes Mellitus, Type 1  Forgetta V  GD09519  3:136254606   \n",
       "85690  Diabetes Mellitus, Type 1  Forgetta V  GD09519  3:136250753   \n",
       "\n",
       "                   sgname  distance  \n",
       "83310  NCK1 & 3:136254606    610000  \n",
       "83312  NCK1 & 3:136250753    610000  \n",
       "85688  NCK1 & 3:136254606    610000  \n",
       "85690  NCK1 & 3:136250753    610000  "
      ]
     },
     "execution_count": 117,
     "metadata": {},
     "output_type": "execute_result"
    }
   ],
   "source": [
    "nck1 = candidates.loc[candidates.genename == 'NCK1']\n",
    "nck1"
   ]
  },
  {
   "cell_type": "markdown",
   "metadata": {},
   "source": [
    "Unfortunately there are not. Initially I was trying to find an example where a SGL is found across many samples but this is just not found in the data. So I started to think, what else can I find or what other point can I make? For now, the point that I will try making is that we found a good SNP (or gene) which is found across many samples. "
   ]
  },
  {
   "cell_type": "markdown",
   "metadata": {},
   "source": [
    "I'll start with a good SNP, if I find one. "
   ]
  },
  {
   "cell_type": "code",
   "execution_count": null,
   "metadata": {},
   "outputs": [
    {
     "ename": "ValueError",
     "evalue": "Length of ascending (2) != length of by (1)",
     "output_type": "error",
     "traceback": [
      "\u001b[0;31m---------------------------------------------------------------------------\u001b[0m",
      "\u001b[0;31mValueError\u001b[0m                                Traceback (most recent call last)",
      "\u001b[0;32m/mnt/BioHome/jreyna/tmp/ipykernel_1229407/3899327764.py\u001b[0m in \u001b[0;36m?\u001b[0;34m()\u001b[0m\n\u001b[1;32m      1\u001b[0m \u001b[0msnp_counts\u001b[0m \u001b[0;34m=\u001b[0m \u001b[0mnovel_gene_sgls\u001b[0m\u001b[0;34m.\u001b[0m\u001b[0mdrop_duplicates\u001b[0m\u001b[0;34m(\u001b[0m\u001b[0msubset\u001b[0m\u001b[0;34m=\u001b[0m\u001b[0;34m[\u001b[0m\u001b[0;34m'sample'\u001b[0m\u001b[0;34m,\u001b[0m \u001b[0;34m'snp_pos'\u001b[0m\u001b[0;34m]\u001b[0m\u001b[0;34m)\u001b[0m \u001b[0;31m# want unique sample + snps\u001b[0m\u001b[0;34m\u001b[0m\u001b[0;34m\u001b[0m\u001b[0m\n\u001b[1;32m      2\u001b[0m \u001b[0msnp_counts\u001b[0m \u001b[0;34m=\u001b[0m \u001b[0msnp_counts\u001b[0m\u001b[0;34m.\u001b[0m\u001b[0mgroupby\u001b[0m\u001b[0;34m(\u001b[0m\u001b[0mby\u001b[0m\u001b[0;34m=\u001b[0m\u001b[0;34m[\u001b[0m\u001b[0;34m'snp_pos'\u001b[0m\u001b[0;34m]\u001b[0m\u001b[0;34m)\u001b[0m\u001b[0;34m.\u001b[0m\u001b[0mcount\u001b[0m\u001b[0;34m(\u001b[0m\u001b[0;34m)\u001b[0m\u001b[0;34m[\u001b[0m\u001b[0;34m'chrA_loop'\u001b[0m\u001b[0;34m]\u001b[0m \u001b[0;31m# counting the unique number of snps per sample\u001b[0m\u001b[0;34m\u001b[0m\u001b[0;34m\u001b[0m\u001b[0m\n\u001b[0;32m----> 3\u001b[0;31m \u001b[0msnp_counts\u001b[0m \u001b[0;34m=\u001b[0m \u001b[0msnp_counts\u001b[0m\u001b[0;34m.\u001b[0m\u001b[0mreset_index\u001b[0m\u001b[0;34m(\u001b[0m\u001b[0;34m)\u001b[0m\u001b[0;34m.\u001b[0m\u001b[0mrename\u001b[0m\u001b[0;34m(\u001b[0m\u001b[0mcolumns\u001b[0m\u001b[0;34m=\u001b[0m\u001b[0;34m{\u001b[0m\u001b[0;34m'chrA_loop'\u001b[0m\u001b[0;34m:\u001b[0m \u001b[0;34m'count'\u001b[0m\u001b[0;34m}\u001b[0m\u001b[0;34m)\u001b[0m\u001b[0;34m.\u001b[0m\u001b[0msort_values\u001b[0m\u001b[0;34m(\u001b[0m\u001b[0;34m[\u001b[0m\u001b[0;34m'count'\u001b[0m\u001b[0;34m]\u001b[0m\u001b[0;34m,\u001b[0m \u001b[0mascending\u001b[0m\u001b[0;34m=\u001b[0m\u001b[0;34m[\u001b[0m\u001b[0;32mTrue\u001b[0m\u001b[0;34m,\u001b[0m \u001b[0;32mFalse\u001b[0m\u001b[0;34m]\u001b[0m\u001b[0;34m)\u001b[0m \u001b[0;31m# cleaning + sorting\u001b[0m\u001b[0;34m\u001b[0m\u001b[0;34m\u001b[0m\u001b[0m\n\u001b[0m\u001b[1;32m      4\u001b[0m \u001b[0msnp_counts\u001b[0m \u001b[0;34m=\u001b[0m \u001b[0msnp_counts\u001b[0m\u001b[0;34m.\u001b[0m\u001b[0mpivot\u001b[0m\u001b[0;34m(\u001b[0m\u001b[0mindex\u001b[0m\u001b[0;34m=\u001b[0m\u001b[0;34m'snp_pos'\u001b[0m\u001b[0;34m,\u001b[0m \u001b[0mcolumns\u001b[0m\u001b[0;34m=\u001b[0m\u001b[0;34m'sample_grp'\u001b[0m\u001b[0;34m,\u001b[0m \u001b[0mvalues\u001b[0m\u001b[0;34m=\u001b[0m\u001b[0;34m'count'\u001b[0m\u001b[0;34m,\u001b[0m \u001b[0;34m)\u001b[0m \u001b[0;31m# pivoting for side-by-side analysis of grps\u001b[0m\u001b[0;34m\u001b[0m\u001b[0;34m\u001b[0m\u001b[0m\n\u001b[1;32m      5\u001b[0m \u001b[0msnp_counts\u001b[0m \u001b[0;34m=\u001b[0m \u001b[0msnp_counts\u001b[0m\u001b[0;34m.\u001b[0m\u001b[0mfillna\u001b[0m\u001b[0;34m(\u001b[0m\u001b[0;36m0\u001b[0m\u001b[0;34m)\u001b[0m \u001b[0;31m# remove NaN's\u001b[0m\u001b[0;34m\u001b[0m\u001b[0;34m\u001b[0m\u001b[0m\n\u001b[1;32m      6\u001b[0m \u001b[0msnp_counts\u001b[0m \u001b[0;34m=\u001b[0m \u001b[0msnp_counts\u001b[0m\u001b[0;34m.\u001b[0m\u001b[0mastype\u001b[0m\u001b[0;34m(\u001b[0m\u001b[0mint\u001b[0m\u001b[0;34m)\u001b[0m \u001b[0;31m# convert to ints\u001b[0m\u001b[0;34m\u001b[0m\u001b[0;34m\u001b[0m\u001b[0m\n",
      "\u001b[0;32m/mnt/BioAdHoc/Groups/vd-ay/jreyna/software/Herman-Cluster-v3/mambaforge-pypy3/envs/lc-pipelines/lib/python3.12/site-packages/pandas/core/frame.py\u001b[0m in \u001b[0;36m?\u001b[0;34m(self, by, axis, ascending, inplace, kind, na_position, ignore_index, key)\u001b[0m\n\u001b[1;32m   6921\u001b[0m             \u001b[0mlen\u001b[0m\u001b[0;34m(\u001b[0m\u001b[0mby\u001b[0m\u001b[0;34m)\u001b[0m \u001b[0;34m!=\u001b[0m \u001b[0mlen\u001b[0m\u001b[0;34m(\u001b[0m\u001b[0mascending\u001b[0m\u001b[0;34m)\u001b[0m  \u001b[0;31m# type: ignore[arg-type]\u001b[0m\u001b[0;34m\u001b[0m\u001b[0;34m\u001b[0m\u001b[0m\n\u001b[1;32m   6922\u001b[0m         \u001b[0;34m)\u001b[0m\u001b[0;34m:\u001b[0m\u001b[0;34m\u001b[0m\u001b[0;34m\u001b[0m\u001b[0m\n\u001b[1;32m   6923\u001b[0m             \u001b[0;31m# error: Argument 1 to \"len\" has incompatible type \"Union[bool,\u001b[0m\u001b[0;34m\u001b[0m\u001b[0;34m\u001b[0m\u001b[0m\n\u001b[1;32m   6924\u001b[0m             \u001b[0;31m# List[bool]]\"; expected \"Sized\"\u001b[0m\u001b[0;34m\u001b[0m\u001b[0;34m\u001b[0m\u001b[0m\n\u001b[0;32m-> 6925\u001b[0;31m             raise ValueError(\n\u001b[0m\u001b[1;32m   6926\u001b[0m                 \u001b[0;34mf\"\u001b[0m\u001b[0;34mLength of ascending (\u001b[0m\u001b[0;34m{\u001b[0m\u001b[0mlen\u001b[0m\u001b[0;34m(\u001b[0m\u001b[0mascending\u001b[0m\u001b[0;34m)\u001b[0m\u001b[0;34m}\u001b[0m\u001b[0;34m)\u001b[0m\u001b[0;34m\"\u001b[0m  \u001b[0;31m# type: ignore[arg-type]\u001b[0m\u001b[0;34m\u001b[0m\u001b[0;34m\u001b[0m\u001b[0m\n\u001b[1;32m   6927\u001b[0m                 \u001b[0;34mf\"\u001b[0m\u001b[0;34m != length of by (\u001b[0m\u001b[0;34m{\u001b[0m\u001b[0mlen\u001b[0m\u001b[0;34m(\u001b[0m\u001b[0mby\u001b[0m\u001b[0;34m)\u001b[0m\u001b[0;34m}\u001b[0m\u001b[0;34m)\u001b[0m\u001b[0;34m\"\u001b[0m\u001b[0;34m\u001b[0m\u001b[0;34m\u001b[0m\u001b[0m\n\u001b[1;32m   6928\u001b[0m             \u001b[0;34m)\u001b[0m\u001b[0;34m\u001b[0m\u001b[0;34m\u001b[0m\u001b[0m\n",
      "\u001b[0;31mValueError\u001b[0m: Length of ascending (2) != length of by (1)"
     ]
    }
   ],
   "source": [
    "snp_counts = novel_gene_sgls.drop_duplicates(subset=['sample', 'snp_pos']) # want unique sample + snps\n",
    "snp_counts = snp_counts.groupby(by=['snp_pos']).count()['chrA_loop'] # counting the unique number of snps per sample \n",
    "snp_counts = snp_counts.reset_index().rename(columns={'chrA_loop': 'count'}).sort_values(['count'], ascending=[True, False]) # cleaning + sorting\n",
    "snp_counts = snp_counts.pivot(index='snp_pos', columns='sample_grp', values='count', ) # pivoting for side-by-side analysis of grps\n",
    "snp_counts = snp_counts.fillna(0) # remove NaN's\n",
    "snp_counts = snp_counts.astype(int) # convert to ints\n",
    "snp_counts.loc[:, 'sum'] = snp_counts.iloc[:, 0:6].sum(axis=1) # add row sum\n",
    "snp_counts.loc[:, 'max'] = snp_counts.iloc[:, 0:6].max(axis=1) # add row max\n",
    "\n",
    "# add the mb location\n",
    "def get_mb(x):\n",
    "    spl = x.split(':')\n",
    "    res = spl[0] + ':' + spl[1][0:2]\n",
    "    return(res)\n",
    "snp_counts['chr_mb'] = [get_mb(x)for x in snp_counts.index.values]\n",
    "\n",
    "# filter based on the max\n",
    "snp_counts_flt = snp_counts.loc[snp_counts['max'] > 2].sort_values(['chr_mb', 'max'], ascending=[True, False])\n",
    "\n",
    "snp_counts_flt = snp_counts_flt.reset_index().set_index(['chr_mb', 'snp_pos']) # creating multi-index with chr_mb"
   ]
  },
  {
   "cell_type": "code",
   "execution_count": null,
   "metadata": {},
   "outputs": [
    {
     "ename": "NameError",
     "evalue": "name 'snp_counts_flt' is not defined",
     "output_type": "error",
     "traceback": [
      "\u001b[0;31m---------------------------------------------------------------------------\u001b[0m",
      "\u001b[0;31mNameError\u001b[0m                                 Traceback (most recent call last)",
      "Cell \u001b[0;32mIn[123], line 15\u001b[0m\n\u001b[1;32m     11\u001b[0m         is_gte_thresh \u001b[38;5;241m=\u001b[39m data \u001b[38;5;241m>\u001b[39m \u001b[38;5;241m3\u001b[39m\n\u001b[1;32m     12\u001b[0m         \u001b[38;5;28;01mreturn\u001b[39;00m pd\u001b[38;5;241m.\u001b[39mDataFrame(np\u001b[38;5;241m.\u001b[39mwhere(is_max, attr, \u001b[38;5;124m'\u001b[39m\u001b[38;5;124m'\u001b[39m),\n\u001b[1;32m     13\u001b[0m                             index\u001b[38;5;241m=\u001b[39mdata\u001b[38;5;241m.\u001b[39mindex, columns\u001b[38;5;241m=\u001b[39mdata\u001b[38;5;241m.\u001b[39mcolumns)\n\u001b[0;32m---> 15\u001b[0m \u001b[43msnp_counts_flt\u001b[49m\u001b[38;5;241m.\u001b[39mstyle\u001b[38;5;241m.\u001b[39mapply(highlight_max, subset\u001b[38;5;241m=\u001b[39m[\u001b[38;5;124m'\u001b[39m\u001b[38;5;124mmax\u001b[39m\u001b[38;5;124m'\u001b[39m])\n",
      "\u001b[0;31mNameError\u001b[0m: name 'snp_counts_flt' is not defined"
     ]
    }
   ],
   "source": [
    "\n",
    "# highlight based on the max\n",
    "def highlight_max(data, color='yellow'):\n",
    "    '''\n",
    "    highlight the maximum in a Series or DataFrame\n",
    "    '''\n",
    "    attr = 'background-color: {}'.format(color)\n",
    "    if data.ndim == 1:  # Series from .apply(axis=0) or axis=1\n",
    "        is_gte_thresh = data > 3\n",
    "        return [attr if v else '' for v in is_gte_thresh]\n",
    "    else:  # from .apply(axis=None)\n",
    "        is_gte_thresh = data > 3\n",
    "        return pd.DataFrame(np.where(is_max, attr, ''),\n",
    "                            index=data.index, columns=data.columns)\n",
    "\n",
    "snp_counts_flt.style.apply(highlight_max, subset=['max'])"
   ]
  },
  {
   "cell_type": "code",
   "execution_count": null,
   "metadata": {},
   "outputs": [],
   "source": [
    "novel_gene_sgls.loc[(novel_gene_sgls.snp_pos.str.contains('^11:64'))]['genename']"
   ]
  },
  {
   "cell_type": "markdown",
   "metadata": {},
   "source": [
    "#### Deeper dive into specific cases"
   ]
  },
  {
   "cell_type": "code",
   "execution_count": null,
   "metadata": {},
   "outputs": [
    {
     "data": {
      "text/html": [
       "<div>\n",
       "<style scoped>\n",
       "    .dataframe tbody tr th:only-of-type {\n",
       "        vertical-align: middle;\n",
       "    }\n",
       "\n",
       "    .dataframe tbody tr th {\n",
       "        vertical-align: top;\n",
       "    }\n",
       "\n",
       "    .dataframe thead th {\n",
       "        text-align: right;\n",
       "    }\n",
       "</style>\n",
       "<table border=\"1\" class=\"dataframe\">\n",
       "  <thead>\n",
       "    <tr style=\"text-align: right;\">\n",
       "      <th></th>\n",
       "      <th>chrA_loop</th>\n",
       "      <th>startA_loop</th>\n",
       "      <th>endA_loop</th>\n",
       "      <th>chrB_loop</th>\n",
       "      <th>startB_loop</th>\n",
       "      <th>endB_loop</th>\n",
       "      <th>-log10_qval_loop</th>\n",
       "      <th>chr_snp</th>\n",
       "      <th>start_snp</th>\n",
       "      <th>end_snp</th>\n",
       "      <th>...</th>\n",
       "      <th>genename</th>\n",
       "      <th>geneid</th>\n",
       "      <th>strand</th>\n",
       "      <th>causaldb_fn</th>\n",
       "      <th>sample</th>\n",
       "      <th>sample_grp</th>\n",
       "      <th>mesh_term</th>\n",
       "      <th>author</th>\n",
       "      <th>filename</th>\n",
       "      <th>snp_pos</th>\n",
       "    </tr>\n",
       "  </thead>\n",
       "  <tbody>\n",
       "  </tbody>\n",
       "</table>\n",
       "<p>0 rows × 24 columns</p>\n",
       "</div>"
      ],
      "text/plain": [
       "Empty DataFrame\n",
       "Columns: [chrA_loop, startA_loop, endA_loop, chrB_loop, startB_loop, endB_loop, -log10_qval_loop, chr_snp, start_snp, end_snp, snp_anchor, chr_gene, start_gene, end_gene, genename, geneid, strand, causaldb_fn, sample, sample_grp, mesh_term, author, filename, snp_pos]\n",
       "Index: []\n",
       "\n",
       "[0 rows x 24 columns]"
      ]
     },
     "execution_count": 116,
     "metadata": {},
     "output_type": "execute_result"
    }
   ],
   "source": [
    "novel_geneA = 'ZNF487'\n",
    "novel_gene_df = t1d_df.loc[t1d_df.genename == novel_geneA]\n",
    "novel_gene_df"
   ]
  },
  {
   "cell_type": "code",
   "execution_count": null,
   "metadata": {},
   "outputs": [],
   "source": [
    "t = novel_gene_sgls.drop_duplicates(['geneid', 'sample'])"
   ]
  },
  {
   "cell_type": "code",
   "execution_count": null,
   "metadata": {},
   "outputs": [
    {
     "data": {
      "text/plain": [
       "genename    geneid         \n",
       "AC116366.3  ENSG00000283782    43\n",
       "CHRAC1      ENSG00000104472    43\n",
       "TRAPPC9     ENSG00000167632    42\n",
       "AC138894.1  ENSG00000261832    42\n",
       "APOBR       ENSG00000184730    42\n",
       "TAPBP       ENSG00000231925    40\n",
       "STARD3      ENSG00000131748    40\n",
       "UBAC2       ENSG00000134882    40\n",
       "SGF29       ENSG00000176476    39\n",
       "AL031777.3  ENSG00000282988    38\n",
       "MSL2        ENSG00000174579    37\n",
       "SEH1L       ENSG00000085415    36\n",
       "ZC3H10      ENSG00000135482    32\n",
       "ESYT1       ENSG00000139641    32\n",
       "RPL41       ENSG00000229117    32\n",
       "NPAT        ENSG00000149308    31\n",
       "ZNF165      ENSG00000197279    31\n",
       "ATM         ENSG00000149311    31\n",
       "PSMD3       ENSG00000108344    31\n",
       "RGL2        ENSG00000237441    30\n",
       "Name: count, dtype: int64"
      ]
     },
     "execution_count": 118,
     "metadata": {},
     "output_type": "execute_result"
    }
   ],
   "source": [
    "t.value_counts(subset=['genename', 'geneid']).head(20)"
   ]
  }
 ],
 "metadata": {
  "kernelspec": {
   "display_name": "lc-pipelines",
   "language": "python",
   "name": "python3"
  },
  "language_info": {
   "codemirror_mode": {
    "name": "ipython",
    "version": 3
   },
   "file_extension": ".py",
   "mimetype": "text/x-python",
   "name": "python",
   "nbconvert_exporter": "python",
   "pygments_lexer": "ipython3",
   "version": "3.12.0"
  }
 },
 "nbformat": 4,
 "nbformat_minor": 2
}
