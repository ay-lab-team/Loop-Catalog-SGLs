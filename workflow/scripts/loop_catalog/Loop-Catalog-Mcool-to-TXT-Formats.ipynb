{
 "cells": [
  {
   "cell_type": "markdown",
   "id": "1e098ba6",
   "metadata": {},
   "source": [
    "# Loop Catalog Mcool to TXT Formats"
   ]
  },
  {
   "cell_type": "markdown",
   "id": "30fab84c",
   "metadata": {},
   "source": [
    "The focus of this notebook is to convert hg19 mcool data into longrange format for washu visualizations. This notebook starts from the hg19 mcool data that was generated in the `Loop-Catalog-hg38-to-hg19` and generates both bedpe and longrange files for easier data manipulation and visualization."
   ]
  },
  {
   "cell_type": "code",
   "execution_count": 15,
   "id": "eb1e704f",
   "metadata": {},
   "outputs": [],
   "source": [
    "import os \n",
    "import numpy as np\n",
    "import pandas as pd\n",
    "import glob\n",
    "import subprocess as sp\n",
    "import json\n",
    "import cooler\n",
    "import warnings\n",
    "warnings.filterwarnings('ignore')\n",
    "\n",
    "# change the working directory\n",
    "os.chdir('/mnt/BioHome/jreyna/jreyna-temp/projects/dchallenge')\n",
    "\n",
    "pd.set_option('display.max_columns', 1000)"
   ]
  },
  {
   "cell_type": "code",
   "execution_count": 2,
   "id": "8f16e550",
   "metadata": {},
   "outputs": [
    {
     "data": {
      "text/plain": [
       "<module 'chromolooper.sgls' from '/mnt/bioadhoc-temp/Groups/vd-ay/jreyna/projects/chromolooper/chromolooper/sgls.py'>"
      ]
     },
     "execution_count": 2,
     "metadata": {},
     "output_type": "execute_result"
    }
   ],
   "source": [
    "from chromolooper import sgls\n",
    "import importlib\n",
    "importlib.reload(sgls)"
   ]
  },
  {
   "cell_type": "code",
   "execution_count": 3,
   "id": "d218a322",
   "metadata": {},
   "outputs": [],
   "source": [
    "datadir = 'results/main/loop_catalog/processing/hg38_to_hg19/liftover/'\n",
    "outdir = 'results/main/loop_catalog/processing/hg38_to_hg19/washu/'\n",
    "os.makedirs(outdir, exist_ok=True)"
   ]
  },
  {
   "cell_type": "markdown",
   "id": "a9154b9b",
   "metadata": {},
   "source": [
    "## Convert from Mcool to longrange and BEDPE"
   ]
  },
  {
   "cell_type": "code",
   "execution_count": 4,
   "id": "6ae81199",
   "metadata": {},
   "outputs": [
    {
     "name": "stdout",
     "output_type": "stream",
     "text": [
      "already created results/main/loop_catalog/processing/hg38_to_hg19/washu/fit_cp/lgs102943.GSE116193.Homo_Sapiens.H3K27ac.b1.hg19.res_5000.longrange.bed\n",
      "already created results/main/loop_catalog/processing/hg38_to_hg19/washu/fit_cp/lgs301283.GSE116193.Homo_Sapiens.H3K27ac.b1.hg19.res_5000.longrange.bed\n",
      "already created results/main/loop_catalog/processing/hg38_to_hg19/washu/fit_cp/lgs000379.GSE116193.Homo_Sapiens.H3K27ac.b1.hg19.res_5000.longrange.bed\n",
      "already created results/main/loop_catalog/processing/hg38_to_hg19/washu/fit_cp/lgs101645.GSE116193.Homo_Sapiens.H3K27ac.b1.hg19.res_5000.longrange.bed\n",
      "already created results/main/loop_catalog/processing/hg38_to_hg19/washu/fit_cp/lgs102580.GSE116193.Homo_Sapiens.H3K27ac.b1.hg19.res_5000.longrange.bed\n",
      "already created results/main/loop_catalog/processing/hg38_to_hg19/washu/fit_cp/lgs301315.GSE116193.Homo_Sapiens.H3K27ac.b1.hg19.res_5000.longrange.bed\n",
      "already created results/main/loop_catalog/processing/hg38_to_hg19/washu/fit_hp/GM12878.GSE101498.Homo_Sapiens.H3K27ac.b2.hg19.res_5000.longrange.bed\n",
      "already created results/main/loop_catalog/processing/hg38_to_hg19/washu/fit_hp/Naive_Tcells.GSE101498.Homo_Sapiens.H3K27ac.b3.hg19.res_5000.longrange.bed\n",
      "already created results/main/loop_catalog/processing/hg38_to_hg19/washu/fit_hp/lgs000379.GSE116193.Homo_Sapiens.H3K27ac.b1.hg19.res_5000.longrange.bed\n",
      "already created results/main/loop_catalog/processing/hg38_to_hg19/washu/fit_hp/Treg.GSE101498.Homo_Sapiens.H3K27ac.b1.hg19.res_5000.longrange.bed\n",
      "already created results/main/loop_catalog/processing/hg38_to_hg19/washu/fit_hp/HARA.GSE147854.Homo_Sapiens.H3K27ac.b1.hg19.res_5000.longrange.bed\n",
      "already created results/main/loop_catalog/processing/hg38_to_hg19/washu/fit_hp/Treg.GSE101498.Homo_Sapiens.H3K27ac.b2.hg19.res_5000.longrange.bed\n",
      "already created results/main/loop_catalog/processing/hg38_to_hg19/washu/fit_hp/Naive_Tcells.GSE101498.Homo_Sapiens.H3K27ac.b1.hg19.res_5000.longrange.bed\n",
      "already created results/main/loop_catalog/processing/hg38_to_hg19/washu/fit_hp/MyLa.GSE137906.Homo_Sapiens.H3K27ac.b1.hg19.res_5000.longrange.bed\n",
      "already created results/main/loop_catalog/processing/hg38_to_hg19/washu/fit_hp/MyLa.GSE101498.Homo_Sapiens.H3K27ac.b1.hg19.res_5000.longrange.bed\n",
      "already created results/main/loop_catalog/processing/hg38_to_hg19/washu/fit_hp/Th17.GSE101498.Homo_Sapiens.H3K27ac.b2.hg19.res_5000.longrange.bed\n",
      "already created results/main/loop_catalog/processing/hg38_to_hg19/washu/fit_hp/lgs301283.GSE116193.Homo_Sapiens.H3K27ac.b1.hg19.res_5000.longrange.bed\n",
      "already created results/main/loop_catalog/processing/hg38_to_hg19/washu/fit_hp/lgs301315.GSE116193.Homo_Sapiens.H3K27ac.b1.hg19.res_5000.longrange.bed\n",
      "already created results/main/loop_catalog/processing/hg38_to_hg19/washu/fit_hp/MyLa.GSE101498.Homo_Sapiens.H3K27ac.b2.hg19.res_5000.longrange.bed\n",
      "already created results/main/loop_catalog/processing/hg38_to_hg19/washu/fit_hp/Naive_Tcells.GSE101498.Homo_Sapiens.H3K27ac.b2.hg19.res_5000.longrange.bed\n",
      "already created results/main/loop_catalog/processing/hg38_to_hg19/washu/fit_hp/lgs102943.GSE116193.Homo_Sapiens.H3K27ac.b1.hg19.res_5000.longrange.bed\n",
      "already created results/main/loop_catalog/processing/hg38_to_hg19/washu/fit_hp/Treg.GSE101498.Homo_Sapiens.H3K27ac.b3.hg19.res_5000.longrange.bed\n",
      "already created results/main/loop_catalog/processing/hg38_to_hg19/washu/fit_hp/lgs101645.GSE116193.Homo_Sapiens.H3K27ac.b1.hg19.res_5000.longrange.bed\n",
      "already created results/main/loop_catalog/processing/hg38_to_hg19/washu/fit_hp/lgs102580.GSE116193.Homo_Sapiens.H3K27ac.b1.hg19.res_5000.longrange.bed\n",
      "already created results/main/loop_catalog/processing/hg38_to_hg19/washu/fit_hp/Th17.GSE101498.Homo_Sapiens.H3K27ac.b3.hg19.res_5000.longrange.bed\n",
      "already created results/main/loop_catalog/processing/hg38_to_hg19/washu/fit_hp/MyLa.GSE151193.Homo_Sapiens.H3K27ac.b1.hg19.res_5000.longrange.bed\n",
      "already created results/main/loop_catalog/processing/hg38_to_hg19/washu/fit_hp/Th17.GSE101498.Homo_Sapiens.H3K27ac.b1.hg19.res_5000.longrange.bed\n",
      "already created results/main/loop_catalog/processing/hg38_to_hg19/washu/fit_hp/GM12878.GSE101498.Homo_Sapiens.H3K27ac.b1.hg19.res_5000.longrange.bed\n",
      "already created results/main/loop_catalog/processing/hg38_to_hg19/washu/hiccups/MyLa.GSE101498.Homo_Sapiens.H3K27ac.b2.hg19.res_5000.longrange.bed\n",
      "already created results/main/loop_catalog/processing/hg38_to_hg19/washu/hiccups/MyLa.GSE151193.Homo_Sapiens.H3K27ac.b1.hg19.res_5000.longrange.bed\n",
      "already created results/main/loop_catalog/processing/hg38_to_hg19/washu/hiccups/Treg.GSE101498.Homo_Sapiens.H3K27ac.b3.hg19.res_5000.longrange.bed\n",
      "already created results/main/loop_catalog/processing/hg38_to_hg19/washu/hiccups/Treg.GSE101498.Homo_Sapiens.H3K27ac.b2.hg19.res_5000.longrange.bed\n",
      "already created results/main/loop_catalog/processing/hg38_to_hg19/washu/hiccups/Th17.GSE101498.Homo_Sapiens.H3K27ac.b2.hg19.res_5000.longrange.bed\n",
      "already created results/main/loop_catalog/processing/hg38_to_hg19/washu/hiccups/Naive_Tcells.GSE101498.Homo_Sapiens.H3K27ac.b3.hg19.res_5000.longrange.bed\n",
      "already created results/main/loop_catalog/processing/hg38_to_hg19/washu/hiccups/GM12878.GSE101498.Homo_Sapiens.H3K27ac.b1.hg19.res_5000.longrange.bed\n",
      "already created results/main/loop_catalog/processing/hg38_to_hg19/washu/hiccups/Th17.GSE101498.Homo_Sapiens.H3K27ac.b1.hg19.res_5000.longrange.bed\n",
      "already created results/main/loop_catalog/processing/hg38_to_hg19/washu/hiccups/MyLa.GSE137906.Homo_Sapiens.H3K27ac.b1.hg19.res_5000.longrange.bed\n",
      "already created results/main/loop_catalog/processing/hg38_to_hg19/washu/hiccups/Th17.GSE101498.Homo_Sapiens.H3K27ac.b3.hg19.res_5000.longrange.bed\n",
      "already created results/main/loop_catalog/processing/hg38_to_hg19/washu/hiccups/Naive_Tcells.GSE101498.Homo_Sapiens.H3K27ac.b2.hg19.res_5000.longrange.bed\n",
      "already created results/main/loop_catalog/processing/hg38_to_hg19/washu/hiccups/MyLa.GSE101498.Homo_Sapiens.H3K27ac.b1.hg19.res_5000.longrange.bed\n",
      "already created results/main/loop_catalog/processing/hg38_to_hg19/washu/hiccups/GM12878.GSE101498.Homo_Sapiens.H3K27ac.b2.hg19.res_5000.longrange.bed\n"
     ]
    }
   ],
   "source": [
    "res = 5000\n",
    "mcool_glob = os.path.join(datadir, '*/*.hg19.mcool')\n",
    "\n",
    "for fn in glob.glob(mcool_glob):\n",
    "    \n",
    "    # get the method for loop calling \n",
    "    loop_method = fn.split('/')[6]\n",
    "\n",
    "    # output data\n",
    "    base_prefix = os.path.basename(fn).replace('mcool', '')\n",
    "    os.makedirs(os.path.join(outdir, loop_method + '/'), exist_ok=True) # make dir if needed\n",
    "    dump_fn = os.path.join(outdir, loop_method + '/', base_prefix + '5kb.bedpe')\n",
    "    longrange_fn = os.path.join(outdir, loop_method + '/', base_prefix + 'res_{}.longrange.bed'.format(res))\n",
    "    bedpe_fn = os.path.join(outdir, loop_method + '/', base_prefix + 'res_{}.bedpe'.format(res))\n",
    "\n",
    "    # run sample if longrange has not been created\n",
    "    if os.path.exists(longrange_fn):\n",
    "        print('already created {}'.format(longrange_fn))\n",
    "        continue\n",
    "    else:\n",
    "        print('creating {}'.format(longrange_fn))\n",
    "\n",
    "    # dump the mcool file \n",
    "    dump_df = sgls.cooler_cli_mcool2bedpe(fn, res)\n",
    "    dump_df.iloc[:, 6] = dump_df.iloc[:, 6] / 100 # have to remove a factor of 100 that I had to include prev\n",
    "    dump_df['right'] = sgls.create_washu_second_anchor_col(dump_df,3,4,5,6) # add the washu second anchor info\n",
    "     \n",
    "    # create the bedpe file\n",
    "    bedpe_df = dump_df.iloc[:, [0,1,2,3,4,5,6]]\n",
    "    bedpe_df.to_csv(bedpe_fn, sep='\\t', header=False, index=False)\n",
    "        \n",
    "    # create the longrange file\n",
    "    lr_df = dump_df.iloc[:, [0,1,2,7]]\n",
    "    lr_df.to_csv(longrange_fn, sep='\\t', header=False, index=False)"
   ]
  },
  {
   "cell_type": "markdown",
   "id": "4e5894d7",
   "metadata": {},
   "source": [
    "##### Compress and index files "
   ]
  },
  {
   "cell_type": "code",
   "execution_count": 5,
   "id": "187ab8bd",
   "metadata": {},
   "outputs": [],
   "source": [
    "for fn in glob.glob(os.path.join(outdir, '*/*.longrange.bed')):\n",
    "    cmp_fn, idx_fn = sgls.bgzip(fn, keep_bed=True, index=True, force=True, verbose=False)"
   ]
  },
  {
   "cell_type": "markdown",
   "id": "daf933fc",
   "metadata": {},
   "source": [
    "## Make hub for hiccups"
   ]
  },
  {
   "cell_type": "code",
   "execution_count": 17,
   "id": "972ff1af",
   "metadata": {},
   "outputs": [
    {
     "name": "stdout",
     "output_type": "stream",
     "text": [
      "https://informaticsdata.liai.org/bioadhoc-temp/Groups/vd-ay/jreyna/projects/dchallenge/results/main/loop_catalog/processing/hg38_to_hg19/washu/hiccups/MyLa.GSE101498.Homo_Sapiens.H3K27ac.b1.hg19.res_5000.longrange.bed.gz\n",
      "https://informaticsdata.liai.org/bioadhoc-temp/Groups/vd-ay/jreyna/projects/dchallenge/results/main/loop_catalog/processing/hg38_to_hg19/washu/hiccups/Naive_Tcells.GSE101498.Homo_Sapiens.H3K27ac.b2.hg19.res_5000.longrange.bed.gz\n",
      "https://informaticsdata.liai.org/bioadhoc-temp/Groups/vd-ay/jreyna/projects/dchallenge/results/main/loop_catalog/processing/hg38_to_hg19/washu/hiccups/Treg.GSE101498.Homo_Sapiens.H3K27ac.b3.hg19.res_5000.longrange.bed.gz\n",
      "https://informaticsdata.liai.org/bioadhoc-temp/Groups/vd-ay/jreyna/projects/dchallenge/results/main/loop_catalog/processing/hg38_to_hg19/washu/hiccups/MyLa.GSE101498.Homo_Sapiens.H3K27ac.b2.hg19.res_5000.longrange.bed.gz\n",
      "https://informaticsdata.liai.org/bioadhoc-temp/Groups/vd-ay/jreyna/projects/dchallenge/results/main/loop_catalog/processing/hg38_to_hg19/washu/hiccups/Naive_Tcells.GSE101498.Homo_Sapiens.H3K27ac.b3.hg19.res_5000.longrange.bed.gz\n",
      "https://informaticsdata.liai.org/bioadhoc-temp/Groups/vd-ay/jreyna/projects/dchallenge/results/main/loop_catalog/processing/hg38_to_hg19/washu/hiccups/GM12878.GSE101498.Homo_Sapiens.H3K27ac.b2.hg19.res_5000.longrange.bed.gz\n",
      "https://informaticsdata.liai.org/bioadhoc-temp/Groups/vd-ay/jreyna/projects/dchallenge/results/main/loop_catalog/processing/hg38_to_hg19/washu/hiccups/GM12878.GSE101498.Homo_Sapiens.H3K27ac.b1.hg19.res_5000.longrange.bed.gz\n",
      "https://informaticsdata.liai.org/bioadhoc-temp/Groups/vd-ay/jreyna/projects/dchallenge/results/main/loop_catalog/processing/hg38_to_hg19/washu/hiccups/Treg.GSE101498.Homo_Sapiens.H3K27ac.b2.hg19.res_5000.longrange.bed.gz\n",
      "https://informaticsdata.liai.org/bioadhoc-temp/Groups/vd-ay/jreyna/projects/dchallenge/results/main/loop_catalog/processing/hg38_to_hg19/washu/hiccups/MyLa.GSE151193.Homo_Sapiens.H3K27ac.b1.hg19.res_5000.longrange.bed.gz\n",
      "https://informaticsdata.liai.org/bioadhoc-temp/Groups/vd-ay/jreyna/projects/dchallenge/results/main/loop_catalog/processing/hg38_to_hg19/washu/hiccups/MyLa.GSE137906.Homo_Sapiens.H3K27ac.b1.hg19.res_5000.longrange.bed.gz\n",
      "https://informaticsdata.liai.org/bioadhoc-temp/Groups/vd-ay/jreyna/projects/dchallenge/results/main/loop_catalog/processing/hg38_to_hg19/washu/hiccups/Th17.GSE101498.Homo_Sapiens.H3K27ac.b2.hg19.res_5000.longrange.bed.gz\n",
      "https://informaticsdata.liai.org/bioadhoc-temp/Groups/vd-ay/jreyna/projects/dchallenge/results/main/loop_catalog/processing/hg38_to_hg19/washu/hiccups/Th17.GSE101498.Homo_Sapiens.H3K27ac.b1.hg19.res_5000.longrange.bed.gz\n",
      "https://informaticsdata.liai.org/bioadhoc-temp/Groups/vd-ay/jreyna/projects/dchallenge/results/main/loop_catalog/processing/hg38_to_hg19/washu/hiccups/Th17.GSE101498.Homo_Sapiens.H3K27ac.b3.hg19.res_5000.longrange.bed.gz\n"
     ]
    }
   ],
   "source": [
    "# collect json formatted information\n",
    "url_root = 'https://informaticsdata.liai.org/bioadhoc-temp/Groups/vd-ay/jreyna/projects/dchallenge/results/main/loop_catalog/processing/hg38_to_hg19/washu/hiccups/'\n",
    "hub = []\n",
    "for fn in glob.glob(os.path.join(outdir, 'hiccups/*.longrange.bed.gz')):\n",
    "        \n",
    "    # get basename for url\n",
    "    bn = os.path.basename(fn)\n",
    "    \n",
    "    # create the whole URL\n",
    "    full_url = os.path.join(url_root, bn)                       \n",
    "    print(full_url)\n",
    "    \n",
    "    #     # get cell name \n",
    "    cell_name = bn.split('.')[0]\n",
    "\n",
    "    #     # use cell name to get cell metadata info\n",
    "    #     cell_info = t1d_cells.loc[cell_name]\n",
    "    #     print(cell_info)\n",
    "\n",
    "    name = 'Loop Catalog HiCCuPs peaks for {}'.format(cell_name)\n",
    "    #color = cell_colors.loc[cell_info['color-name'], 'hex']\n",
    "\n",
    "    # create json entries\n",
    "    entry = sgls.make_washu_longrange_dict(name, full_url)\n",
    "    hub.append(entry)"
   ]
  },
  {
   "cell_type": "code",
   "execution_count": 18,
   "id": "4b5b5c0a",
   "metadata": {},
   "outputs": [],
   "source": [
    "## save the hub\n",
    "hub_fn = os.path.join(outdir, 'hiccups/hub.config.txt')\n",
    "sgls.create_washu_hub(hub, hub_fn)"
   ]
  },
  {
   "cell_type": "code",
   "execution_count": 19,
   "id": "e81d4cfe",
   "metadata": {},
   "outputs": [
    {
     "name": "stdout",
     "output_type": "stream",
     "text": [
      "https://informaticsdata.liai.org/bioadhoc-temp/Groups/vd-ay/jreyna/projects/dchallenge/results/main/loop_catalog/processing/hg38_to_hg19/washu/hiccups/hub.config.txt\n"
     ]
    }
   ],
   "source": [
    "hub_link = sgls.make_lji_url(hub_fn)\n",
    "print(hub_link)"
   ]
  },
  {
   "cell_type": "markdown",
   "id": "cff56ac7",
   "metadata": {},
   "source": [
    "## Make hub for fit_cp"
   ]
  },
  {
   "cell_type": "code",
   "execution_count": 20,
   "id": "e4f3428b",
   "metadata": {},
   "outputs": [
    {
     "name": "stdout",
     "output_type": "stream",
     "text": [
      "https://informaticsdata.liai.org/bioadhoc-temp/Groups/vd-ay/jreyna/projects/dchallenge/results/main/loop_catalog/processing/hg38_to_hg19/washu/fit_cp/lgs102943.GSE116193.Homo_Sapiens.H3K27ac.b1.hg19.res_5000.longrange.bed.gz\n",
      "https://informaticsdata.liai.org/bioadhoc-temp/Groups/vd-ay/jreyna/projects/dchallenge/results/main/loop_catalog/processing/hg38_to_hg19/washu/fit_cp/lgs101645.GSE116193.Homo_Sapiens.H3K27ac.b1.hg19.res_5000.longrange.bed.gz\n",
      "https://informaticsdata.liai.org/bioadhoc-temp/Groups/vd-ay/jreyna/projects/dchallenge/results/main/loop_catalog/processing/hg38_to_hg19/washu/fit_cp/lgs102580.GSE116193.Homo_Sapiens.H3K27ac.b1.hg19.res_5000.longrange.bed.gz\n",
      "https://informaticsdata.liai.org/bioadhoc-temp/Groups/vd-ay/jreyna/projects/dchallenge/results/main/loop_catalog/processing/hg38_to_hg19/washu/fit_cp/lgs000379.GSE116193.Homo_Sapiens.H3K27ac.b1.hg19.res_5000.longrange.bed.gz\n",
      "https://informaticsdata.liai.org/bioadhoc-temp/Groups/vd-ay/jreyna/projects/dchallenge/results/main/loop_catalog/processing/hg38_to_hg19/washu/fit_cp/lgs301315.GSE116193.Homo_Sapiens.H3K27ac.b1.hg19.res_5000.longrange.bed.gz\n",
      "https://informaticsdata.liai.org/bioadhoc-temp/Groups/vd-ay/jreyna/projects/dchallenge/results/main/loop_catalog/processing/hg38_to_hg19/washu/fit_cp/lgs301283.GSE116193.Homo_Sapiens.H3K27ac.b1.hg19.res_5000.longrange.bed.gz\n"
     ]
    }
   ],
   "source": [
    "# collect json formatted information\n",
    "url_root = 'https://informaticsdata.liai.org/bioadhoc-temp/Groups/vd-ay/jreyna/projects/dchallenge/results/main/loop_catalog/processing/hg38_to_hg19/washu/fit_cp/'\n",
    "hub = []\n",
    "for fn in glob.glob(os.path.join(outdir, 'fit_cp/*.longrange.bed.gz')):\n",
    "        \n",
    "    # get basename for url\n",
    "    bn = os.path.basename(fn)\n",
    "    \n",
    "    # create the whole URL\n",
    "    full_url = os.path.join(url_root, bn)                       \n",
    "    print(full_url)\n",
    "    \n",
    "    #     # get cell name \n",
    "    cell_name = bn.split('.')[0]\n",
    "\n",
    "    #     # use cell name to get cell metadata info\n",
    "    #     cell_info = t1d_cells.loc[cell_name]\n",
    "\n",
    "    name = 'Loop Catalog fit_cp peaks for {}'.format(cell_name)   \n",
    "    entry = sgls.make_washu_longrange_dict(name, full_url)\n",
    "\n",
    "    #print(cell_info)\n",
    "    \n",
    "    entry['showOnHubLoad'] = True\n",
    "    #color = cell_colors.loc[cell_info['color-name'], 'hex']\n",
    "    entry['options'] = {'ensembleStyle': True, 'height': 200, 'color': 'red', 'displayMode': 'arc'}\n",
    "\n",
    "    hub.append(entry)"
   ]
  },
  {
   "cell_type": "code",
   "execution_count": 21,
   "id": "7cff17dc",
   "metadata": {},
   "outputs": [],
   "source": [
    "## save the hub\n",
    "hub_fn = os.path.join(outdir, 'fit_cp/hub.config.txt')\n",
    "sgls.create_washu_hub(hub, hub_fn)"
   ]
  },
  {
   "cell_type": "code",
   "execution_count": 22,
   "id": "8a374b5f",
   "metadata": {},
   "outputs": [
    {
     "name": "stdout",
     "output_type": "stream",
     "text": [
      "https://informaticsdata.liai.org/bioadhoc-temp/Groups/vd-ay/jreyna/projects/dchallenge/results/main/loop_catalog/processing/hg38_to_hg19/washu/fit_cp/hub.config.txt\n"
     ]
    }
   ],
   "source": [
    "hub_link = sgls.make_lji_url(hub_fn)\n",
    "print(hub_link)"
   ]
  },
  {
   "cell_type": "markdown",
   "id": "55154c66",
   "metadata": {},
   "source": [
    "## Make hub for fit_hp"
   ]
  },
  {
   "cell_type": "code",
   "execution_count": 23,
   "id": "1188cb07",
   "metadata": {},
   "outputs": [
    {
     "name": "stdout",
     "output_type": "stream",
     "text": [
      "https://informaticsdata.liai.org/bioadhoc-temp/Groups/vd-ay/jreyna/projects/dchallenge/results/main/loop_catalog/processing/hg38_to_hg19/washu/fit_hp/MyLa.GSE151193.Homo_Sapiens.H3K27ac.b1.hg19.res_5000.longrange.bed.gz\n",
      "https://informaticsdata.liai.org/bioadhoc-temp/Groups/vd-ay/jreyna/projects/dchallenge/results/main/loop_catalog/processing/hg38_to_hg19/washu/fit_hp/GM12878.GSE101498.Homo_Sapiens.H3K27ac.b1.hg19.res_5000.longrange.bed.gz\n",
      "https://informaticsdata.liai.org/bioadhoc-temp/Groups/vd-ay/jreyna/projects/dchallenge/results/main/loop_catalog/processing/hg38_to_hg19/washu/fit_hp/Naive_Tcells.GSE101498.Homo_Sapiens.H3K27ac.b1.hg19.res_5000.longrange.bed.gz\n",
      "https://informaticsdata.liai.org/bioadhoc-temp/Groups/vd-ay/jreyna/projects/dchallenge/results/main/loop_catalog/processing/hg38_to_hg19/washu/fit_hp/GM12878.GSE101498.Homo_Sapiens.H3K27ac.b2.hg19.res_5000.longrange.bed.gz\n",
      "https://informaticsdata.liai.org/bioadhoc-temp/Groups/vd-ay/jreyna/projects/dchallenge/results/main/loop_catalog/processing/hg38_to_hg19/washu/fit_hp/HARA.GSE147854.Homo_Sapiens.H3K27ac.b1.hg19.res_5000.longrange.bed.gz\n",
      "https://informaticsdata.liai.org/bioadhoc-temp/Groups/vd-ay/jreyna/projects/dchallenge/results/main/loop_catalog/processing/hg38_to_hg19/washu/fit_hp/MyLa.GSE101498.Homo_Sapiens.H3K27ac.b1.hg19.res_5000.longrange.bed.gz\n",
      "https://informaticsdata.liai.org/bioadhoc-temp/Groups/vd-ay/jreyna/projects/dchallenge/results/main/loop_catalog/processing/hg38_to_hg19/washu/fit_hp/Th17.GSE101498.Homo_Sapiens.H3K27ac.b1.hg19.res_5000.longrange.bed.gz\n",
      "https://informaticsdata.liai.org/bioadhoc-temp/Groups/vd-ay/jreyna/projects/dchallenge/results/main/loop_catalog/processing/hg38_to_hg19/washu/fit_hp/Th17.GSE101498.Homo_Sapiens.H3K27ac.b2.hg19.res_5000.longrange.bed.gz\n",
      "https://informaticsdata.liai.org/bioadhoc-temp/Groups/vd-ay/jreyna/projects/dchallenge/results/main/loop_catalog/processing/hg38_to_hg19/washu/fit_hp/lgs102580.GSE116193.Homo_Sapiens.H3K27ac.b1.hg19.res_5000.longrange.bed.gz\n",
      "https://informaticsdata.liai.org/bioadhoc-temp/Groups/vd-ay/jreyna/projects/dchallenge/results/main/loop_catalog/processing/hg38_to_hg19/washu/fit_hp/Naive_Tcells.GSE101498.Homo_Sapiens.H3K27ac.b2.hg19.res_5000.longrange.bed.gz\n",
      "https://informaticsdata.liai.org/bioadhoc-temp/Groups/vd-ay/jreyna/projects/dchallenge/results/main/loop_catalog/processing/hg38_to_hg19/washu/fit_hp/MyLa.GSE101498.Homo_Sapiens.H3K27ac.b2.hg19.res_5000.longrange.bed.gz\n",
      "https://informaticsdata.liai.org/bioadhoc-temp/Groups/vd-ay/jreyna/projects/dchallenge/results/main/loop_catalog/processing/hg38_to_hg19/washu/fit_hp/Treg.GSE101498.Homo_Sapiens.H3K27ac.b1.hg19.res_5000.longrange.bed.gz\n",
      "https://informaticsdata.liai.org/bioadhoc-temp/Groups/vd-ay/jreyna/projects/dchallenge/results/main/loop_catalog/processing/hg38_to_hg19/washu/fit_hp/lgs101645.GSE116193.Homo_Sapiens.H3K27ac.b1.hg19.res_5000.longrange.bed.gz\n",
      "https://informaticsdata.liai.org/bioadhoc-temp/Groups/vd-ay/jreyna/projects/dchallenge/results/main/loop_catalog/processing/hg38_to_hg19/washu/fit_hp/lgs301283.GSE116193.Homo_Sapiens.H3K27ac.b1.hg19.res_5000.longrange.bed.gz\n",
      "https://informaticsdata.liai.org/bioadhoc-temp/Groups/vd-ay/jreyna/projects/dchallenge/results/main/loop_catalog/processing/hg38_to_hg19/washu/fit_hp/MyLa.GSE137906.Homo_Sapiens.H3K27ac.b1.hg19.res_5000.longrange.bed.gz\n",
      "https://informaticsdata.liai.org/bioadhoc-temp/Groups/vd-ay/jreyna/projects/dchallenge/results/main/loop_catalog/processing/hg38_to_hg19/washu/fit_hp/Treg.GSE101498.Homo_Sapiens.H3K27ac.b3.hg19.res_5000.longrange.bed.gz\n",
      "https://informaticsdata.liai.org/bioadhoc-temp/Groups/vd-ay/jreyna/projects/dchallenge/results/main/loop_catalog/processing/hg38_to_hg19/washu/fit_hp/Treg.GSE101498.Homo_Sapiens.H3K27ac.b2.hg19.res_5000.longrange.bed.gz\n",
      "https://informaticsdata.liai.org/bioadhoc-temp/Groups/vd-ay/jreyna/projects/dchallenge/results/main/loop_catalog/processing/hg38_to_hg19/washu/fit_hp/lgs102943.GSE116193.Homo_Sapiens.H3K27ac.b1.hg19.res_5000.longrange.bed.gz\n",
      "https://informaticsdata.liai.org/bioadhoc-temp/Groups/vd-ay/jreyna/projects/dchallenge/results/main/loop_catalog/processing/hg38_to_hg19/washu/fit_hp/Th17.GSE101498.Homo_Sapiens.H3K27ac.b3.hg19.res_5000.longrange.bed.gz\n",
      "https://informaticsdata.liai.org/bioadhoc-temp/Groups/vd-ay/jreyna/projects/dchallenge/results/main/loop_catalog/processing/hg38_to_hg19/washu/fit_hp/Naive_Tcells.GSE101498.Homo_Sapiens.H3K27ac.b3.hg19.res_5000.longrange.bed.gz\n",
      "https://informaticsdata.liai.org/bioadhoc-temp/Groups/vd-ay/jreyna/projects/dchallenge/results/main/loop_catalog/processing/hg38_to_hg19/washu/fit_hp/lgs000379.GSE116193.Homo_Sapiens.H3K27ac.b1.hg19.res_5000.longrange.bed.gz\n",
      "https://informaticsdata.liai.org/bioadhoc-temp/Groups/vd-ay/jreyna/projects/dchallenge/results/main/loop_catalog/processing/hg38_to_hg19/washu/fit_hp/lgs301315.GSE116193.Homo_Sapiens.H3K27ac.b1.hg19.res_5000.longrange.bed.gz\n"
     ]
    }
   ],
   "source": [
    "# collect json formatted information\n",
    "url_root = 'https://informaticsdata.liai.org/bioadhoc-temp/Groups/vd-ay/jreyna/projects/dchallenge/results/main/loop_catalog/processing/hg38_to_hg19/washu/fit_hp/'\n",
    "hub = []\n",
    "for fn in glob.glob(os.path.join(outdir, 'fit_hp/*.longrange.bed.gz')):\n",
    "        \n",
    "    # get basename for url\n",
    "    bn = os.path.basename(fn)\n",
    "    \n",
    "    # create the whole URL\n",
    "    full_url = os.path.join(url_root, bn)                       \n",
    "    print(full_url)\n",
    "    \n",
    "    #     # get cell name \n",
    "    cell_name = bn.split('.')[0]\n",
    "\n",
    "    #     # use cell name to get cell metadata info\n",
    "    #     cell_info = t1d_cells.loc[cell_name]\n",
    "\n",
    "    name = 'Loop Catalog fit_hp peaks for {}'.format(cell_name)   \n",
    "    entry = sgls.make_washu_longrange_dict(name, full_url)\n",
    "\n",
    "    #print(cell_info)\n",
    "    \n",
    "    entry['showOnHubLoad'] = True\n",
    "    #color = cell_colors.loc[cell_info['color-name'], 'hex']\n",
    "    entry['options'] = {'ensembleStyle': True, 'height': 200, 'color': 'red', 'displayMode': 'arc'}\n",
    "\n",
    "    hub.append(entry)"
   ]
  },
  {
   "cell_type": "code",
   "execution_count": 24,
   "id": "17c3f32f",
   "metadata": {},
   "outputs": [],
   "source": [
    "## save the hub\n",
    "hub_fn = os.path.join(outdir, 'fit_hp/hub.config.txt')\n",
    "sgls.create_washu_hub(hub, hub_fn)"
   ]
  },
  {
   "cell_type": "code",
   "execution_count": 25,
   "id": "b97e2c6b",
   "metadata": {},
   "outputs": [
    {
     "name": "stdout",
     "output_type": "stream",
     "text": [
      "https://informaticsdata.liai.org/bioadhoc-temp/Groups/vd-ay/jreyna/projects/dchallenge/results/main/loop_catalog/processing/hg38_to_hg19/washu/fit_hp/hub.config.txt\n"
     ]
    }
   ],
   "source": [
    "hub_link = sgls.make_lji_url(hub_fn)\n",
    "print(hub_link)"
   ]
  },
  {
   "cell_type": "code",
   "execution_count": null,
   "id": "ca30a0f7",
   "metadata": {},
   "outputs": [],
   "source": []
  }
 ],
 "metadata": {
  "kernelspec": {
   "display_name": "(hichip-db)",
   "language": "python",
   "name": "hichip-db"
  },
  "language_info": {
   "codemirror_mode": {
    "name": "ipython",
    "version": 3
   },
   "file_extension": ".py",
   "mimetype": "text/x-python",
   "name": "python",
   "nbconvert_exporter": "python",
   "pygments_lexer": "ipython3",
   "version": "3.9.10"
  }
 },
 "nbformat": 4,
 "nbformat_minor": 5
}
