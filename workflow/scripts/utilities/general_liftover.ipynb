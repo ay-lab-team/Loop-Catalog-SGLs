{
 "cells": [
  {
   "cell_type": "code",
   "execution_count": 45,
   "id": "3dfb3c12",
   "metadata": {},
   "outputs": [],
   "source": [
    "import os \n",
    "import argparse\n",
    "from numpy import nan\n",
    "from biolib import liftover as liftover_utility\n",
    "from liftover import get_lifter"
   ]
  },
  {
   "cell_type": "code",
   "execution_count": 46,
   "id": "44f49def",
   "metadata": {},
   "outputs": [],
   "source": [
    "lift_converter = get_lifter('hg38', 'hg19')"
   ]
  },
  {
   "cell_type": "code",
   "execution_count": 2,
   "id": "77f459c3",
   "metadata": {},
   "outputs": [],
   "source": [
    "os.chdir('<project-dir>')"
   ]
  },
  {
   "cell_type": "code",
   "execution_count": 25,
   "id": "d768bd39",
   "metadata": {},
   "outputs": [],
   "source": [
    "# commandline interface\n",
    "fn = 'results/main/coloc/Results/eQTL_Catalogue/T1D_34012112_Gaulton/BLUEPRINT/T-cell/FINAL_Summary_Coloc_Gene_SNP_Pairs.bed'\n",
    "outfn = 'test.tsv'\n",
    "chr_col = 1 - 1\n",
    "pos_col = 2 - 1\n",
    "sep = '\\t'\n",
    "header = True"
   ]
  },
  {
   "cell_type": "code",
   "execution_count": 53,
   "id": "6f62f413",
   "metadata": {},
   "outputs": [],
   "source": [
    "with open(fn) as fr, open(outfn, 'w') as fw:\n",
    "    \n",
    "    # write the header\n",
    "    if header:\n",
    "        header_str = next(fr)\n",
    "        fw.write('{}{}{}'.format(header_str, sep, 'was_converted'))\n",
    "        \n",
    "    # parse the rest of the file\n",
    "    for line in fr:\n",
    "        \n",
    "        # get chrom and pos\n",
    "        info = line.strip().split(sep)\n",
    "        chrom = info[chr_col]\n",
    "        pos = int(info[pos_col])\n",
    "        \n",
    "        # get the new chrom and pos\n",
    "        new_info = info.copy()\n",
    "        new_coords = lift_converter[chrom][pos]\n",
    "                 \n",
    "        if len(new_coords) == 0:\n",
    "            new_info[chr_col] = nan\n",
    "            new_info[pos_col] = nan\n",
    "            new_info.append(0)\n",
    "            \n",
    "        elif len(new_coords) == 1:\n",
    "            new_info[chr_col] = new_coords[0][0]\n",
    "            new_info[pos_col] = new_coords[0][1]\n",
    "            new_info.append(1)\n",
    "\n",
    "        else:\n",
    "            raise Exception('Check this case: {}'.format(new_coords))\n",
    "  \n",
    "        new_info = [str(x) for x in new_info]\n",
    "        new_info_str = sep.join(new_info) + '\\n'\n",
    "        fw.write(new_info_str)"
   ]
  },
  {
   "cell_type": "code",
   "execution_count": null,
   "id": "72881417",
   "metadata": {},
   "outputs": [],
   "source": []
  },
  {
   "cell_type": "code",
   "execution_count": null,
   "id": "c491a457",
   "metadata": {},
   "outputs": [],
   "source": []
  }
 ],
 "metadata": {
  "kernelspec": {
   "display_name": "HiChIP-DB",
   "language": "python",
   "name": "hichip-db"
  },
  "language_info": {
   "codemirror_mode": {
    "name": "ipython",
    "version": 3
   },
   "file_extension": ".py",
   "mimetype": "text/x-python",
   "name": "python",
   "nbconvert_exporter": "python",
   "pygments_lexer": "ipython3",
   "version": "3.9.10"
  }
 },
 "nbformat": 4,
 "nbformat_minor": 5
}
