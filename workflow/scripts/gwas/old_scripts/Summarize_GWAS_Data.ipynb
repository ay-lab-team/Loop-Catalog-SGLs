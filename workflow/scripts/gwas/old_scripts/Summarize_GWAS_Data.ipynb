{
 "cells": [
  {
   "cell_type": "code",
   "execution_count": 2,
   "id": "2997e421",
   "metadata": {},
   "outputs": [],
   "source": [
    "import os \n",
    "import glob\n",
    "import pandas as pd \n",
    "import matplotlib.pyplot as plt\n",
    "import seaborn as sns \n",
    "import numpy as np\n",
    "from qmplot import manhattanplot\n",
    "\n",
    "os.chdir(\"/mnt/BioHome/jreyna/jreyna/projects/dchallenge/\")\n",
    "outdir = 'results/main/basic_stats/'\n",
    "os.makedirs(outdir, exist_ok=True)"
   ]
  },
  {
   "cell_type": "markdown",
   "id": "9c34c4da",
   "metadata": {},
   "source": [
    "## Loading GWAS"
   ]
  },
  {
   "cell_type": "code",
   "execution_count": 53,
   "id": "e5acb9b6",
   "metadata": {},
   "outputs": [],
   "source": [
    "# loading GWAS samplesheet information\n",
    "gwas_meta = pd.read_table('config/gwas.samplesheet.tsv')\n",
    "gwas_meta.loc[:, 'gwas_id'] = gwas_meta['gwas_id'].str.replace('#', '').values.tolist()\n",
    "gwas_meta"
   ]
  },
  {
   "cell_type": "code",
   "execution_count": 66,
   "id": "26783c4a",
   "metadata": {},
   "outputs": [],
   "source": [
    "# loading GWAS SNP information\n",
    "gwas_fn = 'results/main/2021_Nikhil_eQTL/Data/T1D_GWAS/'\n",
    "gwas_fn += '*/GRCh38/GWAS_input_colocalization_pval_lt_5eMinus8.txt'\n",
    "gwas_glob = glob.glob(gwas_fn)\n",
    "\n",
    "data = []\n",
    "for fn in gwas_glob:\n",
    "    df = pd.read_table(fn, ' ')\n",
    "    study = fn.split('/')[5]\n",
    "    \n",
    "    if study in gwas_meta.gwas_id.values:\n",
    "        df['study'] = study\n",
    "        data.append(df)\n",
    "\n",
    "all_df = pd.concat(data)\n",
    "all_df['sid'] = all_df['CHR'].str.replace('chr', '') + ':' +  all_df['POS'].astype(str)"
   ]
  },
  {
   "cell_type": "markdown",
   "id": "e68655e5",
   "metadata": {},
   "source": [
    "## Unique SNPs"
   ]
  },
  {
   "cell_type": "code",
   "execution_count": 68,
   "id": "fb7308d8",
   "metadata": {},
   "outputs": [],
   "source": [
    "study_grps = all_df.groupby('study')"
   ]
  },
  {
   "cell_type": "code",
   "execution_count": 74,
   "id": "77b49b93",
   "metadata": {},
   "outputs": [],
   "source": [
    "uniq_snps = study_grps.sid.nunique().to_frame()\n",
    "uniq_snps = uniq_snps.merge(gwas_meta[['gwas_id', 'authorship']], left_index=True, right_on='gwas_id')\n",
    "uniq_snps = uniq_snps.loc[:, ['authorship', 'gwas_id', 'sid']]"
   ]
  },
  {
   "cell_type": "code",
   "execution_count": 77,
   "id": "8c8e647b",
   "metadata": {},
   "outputs": [
    {
     "data": {
      "text/html": [
       "<div>\n",
       "<style scoped>\n",
       "    .dataframe tbody tr th:only-of-type {\n",
       "        vertical-align: middle;\n",
       "    }\n",
       "\n",
       "    .dataframe tbody tr th {\n",
       "        vertical-align: top;\n",
       "    }\n",
       "\n",
       "    .dataframe thead th {\n",
       "        text-align: right;\n",
       "    }\n",
       "</style>\n",
       "<table border=\"1\" class=\"dataframe\">\n",
       "  <thead>\n",
       "    <tr style=\"text-align: right;\">\n",
       "      <th></th>\n",
       "      <th>authorship</th>\n",
       "      <th>gwas_id</th>\n",
       "      <th>sid</th>\n",
       "    </tr>\n",
       "  </thead>\n",
       "  <tbody>\n",
       "    <tr>\n",
       "      <th>3</th>\n",
       "      <td>Onengut-Gumuscu et al., 2015</td>\n",
       "      <td>T1D_25751624</td>\n",
       "      <td>1722</td>\n",
       "    </tr>\n",
       "    <tr>\n",
       "      <th>2</th>\n",
       "      <td>Forgetta et al., 2020</td>\n",
       "      <td>T1D_32005708</td>\n",
       "      <td>21097</td>\n",
       "    </tr>\n",
       "    <tr>\n",
       "      <th>0</th>\n",
       "      <td>Chiou et al., 2021</td>\n",
       "      <td>T1D_34012112_Gaulton</td>\n",
       "      <td>45798</td>\n",
       "    </tr>\n",
       "    <tr>\n",
       "      <th>1</th>\n",
       "      <td>Sakaue et al., 2021</td>\n",
       "      <td>T1D_34594039_GCST90018925</td>\n",
       "      <td>20419</td>\n",
       "    </tr>\n",
       "  </tbody>\n",
       "</table>\n",
       "</div>"
      ],
      "text/plain": [
       "                     authorship                    gwas_id    sid\n",
       "3  Onengut-Gumuscu et al., 2015               T1D_25751624   1722\n",
       "2         Forgetta et al., 2020               T1D_32005708  21097\n",
       "0            Chiou et al., 2021       T1D_34012112_Gaulton  45798\n",
       "1           Sakaue et al., 2021  T1D_34594039_GCST90018925  20419"
      ]
     },
     "execution_count": 77,
     "metadata": {},
     "output_type": "execute_result"
    }
   ],
   "source": [
    "uniq_snps"
   ]
  },
  {
   "cell_type": "markdown",
   "id": "e665f34a",
   "metadata": {},
   "source": [
    "## Getting the list of shared SNPs between all methods (if any)"
   ]
  },
  {
   "cell_type": "code",
   "execution_count": 83,
   "id": "e8a36f14",
   "metadata": {},
   "outputs": [],
   "source": [
    "i = 0 \n",
    "for grp, study_df in study_grps:\n",
    "    \n",
    "    if i == 0:\n",
    "        shared = set(study_df.sid.tolist())\n",
    "    else:\n",
    "        shared = shared.intersection(study_df.sid.tolist())\n",
    "\n",
    "    i += 1 "
   ]
  },
  {
   "cell_type": "code",
   "execution_count": 85,
   "id": "83f76055",
   "metadata": {},
   "outputs": [
    {
     "data": {
      "text/plain": [
       "191"
      ]
     },
     "execution_count": 85,
     "metadata": {},
     "output_type": "execute_result"
    }
   ],
   "source": [
    "len(shared)"
   ]
  }
 ],
 "metadata": {
  "kernelspec": {
   "display_name": "HiC",
   "language": "python",
   "name": "hic_tls"
  },
  "language_info": {
   "codemirror_mode": {
    "name": "ipython",
    "version": 3
   },
   "file_extension": ".py",
   "mimetype": "text/x-python",
   "name": "python",
   "nbconvert_exporter": "python",
   "pygments_lexer": "ipython3",
   "version": "3.6.7"
  }
 },
 "nbformat": 4,
 "nbformat_minor": 5
}
