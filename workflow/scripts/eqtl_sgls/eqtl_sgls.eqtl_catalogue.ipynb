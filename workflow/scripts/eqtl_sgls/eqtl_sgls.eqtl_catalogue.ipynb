{
 "cells": [
  {
   "cell_type": "code",
   "execution_count": 1,
   "metadata": {},
   "outputs": [],
   "source": [
    "import os \n",
    "import pandas as pd\n",
    "import numpy as np\n",
    "import pybedtools as pbt \n",
    "import argparse\n",
    "from collections import namedtuple\n",
    "\n",
    "os.chdir('<project-dir>')"
   ]
  },
  {
   "cell_type": "code",
   "execution_count": 2,
   "metadata": {},
   "outputs": [],
   "source": [
    "############# Create a commmand line interface #############\n",
    "# gwas file must include: \n",
    "# loop file must include:\n",
    "# gene coords file must include: \n",
    "\n",
    "# Create an argument parser\n",
    "# parser = argparse.ArgumentParser(description='Perform an analysis of fine mapped GWAS and HiChIP loops.')\n",
    "\n",
    "# Define the arguments\n",
    "# parser.add_argument('--eqtl', dest='eqtl_fn', type=str, required=True, help='File path of the fine mapped GWAS file.')\n",
    "# parser.add_argument('--loop', dest='loop_fn', type=str, required=True, help='File path of the HiChIP loop file.')\n",
    "# parser.add_argument('--gene-coords', type=str, required=True, help='File path of the gene coordinates.')\n",
    "# parser.add_argument('--output', type=str, required=True, help='Output save the results, including the output directory.')\n",
    "# parser.add_argument('--res', type=int, required=False, default=5000, help='Resolution of the HiChIP loops.')\n",
    "# parser.add_argument('--bedtools-path', type=str,\n",
    "#                                         required=True,\n",
    "#                                         help='File path of the HiChIP loop file.')\n",
    "\n",
    "# Parse the arguments\n",
    "#args = parser.parse_args()\n",
    "\n",
    "args = namedtuple(\"args\", [\"eqtl_fn\", \"loop_fn\", \"bedtools_path\"])\n",
    "args.eqtl_fn = 'results/hg38/eqtl/eqtl_catalogue/QTD000031.credible_sets.tsv.gz'\n",
    "args.eqtl_fn = 'results/hg38/eqtl/eqtl_catalogue/QTD000105.credible_sets.tsv.gz'\n",
    "args.loop_fn = 'results/hg38/loops/hichip/chip-seq/macs2/stringent/CD4_Naive_1800-RH-1.phs001703v3p1.Homo_Sapiens.H3K27ac.b1.10000.fithichip_q0.01.loops.bed'\n",
    "args.loop_fn = 'results/hg38/loops/hichip/chip-seq/macs2/stringent/CD4_Naive_1815-RH-1.phs001703v3p1.Homo_Sapiens.H3K27ac.b1.5000.fithichip_q0.01.loops.bed'\n",
    "args.gene_coords = 'results/hg38/refs/gencode/v30/gencode.v30.annotation.bed'\n",
    "args.bedtools_path = '<path-to-bedtools>'\n",
    "\n",
    "# set bedtools path\n",
    "pbt.set_bedtools_path(args.bedtools_path)\n",
    "\n",
    "# make the directory to save our data\n",
    "bedpe_cols = ['chrA', 'startA', 'endA', 'chrB', 'startB', 'endB']"
   ]
  },
  {
   "cell_type": "code",
   "execution_count": 4,
   "metadata": {},
   "outputs": [],
   "source": [
    "############# Load GENCODE Data #############\n",
    "gencode = pd.read_table(args.gene_coords, header=None)\n",
    "gencode.columns = ['gene_chrom', 'gene_start', 'gene_end', 'gene_strand', 'gene_type', 'gene_id', 'gene_name']\n",
    "gencode = gencode.loc[gencode.gene_type == 'gene']\n",
    "gencode.reset_index(inplace=True)\n",
    "\n",
    "# add tss coordinates\n",
    "def get_tss(sr):\n",
    "    if sr.gene_strand == '+':\n",
    "        return([sr.gene_start, sr.gene_start + 1])\n",
    "    else:\n",
    "        return([sr.gene_end - 1, sr.gene_end])\n",
    "tss_df = pd.DataFrame(gencode.apply(get_tss, axis=1).tolist())\n",
    "tss_df.columns = ['tss_start', 'tss_end']\n",
    "gencode = pd.concat([gencode, tss_df], axis=1)"
   ]
  },
  {
   "cell_type": "code",
   "execution_count": 6,
   "metadata": {},
   "outputs": [],
   "source": [
    "############# Load eQTL Data #############\n",
    "eqtl_df = pd.read_table(args.eqtl_fn)\n",
    "\n",
    "# extract variant coordinates\n",
    "variant_df = pd.DataFrame(eqtl_df.variant.apply(lambda x: x.split('_')[0:2]).tolist())\n",
    "variant_df.columns = ['snp_chrom', 'snp_end']\n",
    "variant_df.loc[:, 'snp_end'] = variant_df.loc[:, 'snp_end'].astype(int)\n",
    "variant_df.loc[:, 'snp_start'] = variant_df.loc[:, 'snp_end'] - 1  \n",
    "eqtl_df = pd.concat([eqtl_df, variant_df], axis=1)"
   ]
  },
  {
   "cell_type": "code",
   "execution_count": 7,
   "metadata": {},
   "outputs": [],
   "source": [
    "############# Merge eQTL with GENCODE Data #############\n",
    "# merge eqtls with gencode coordinates\n",
    "eqtl_df = eqtl_df.merge(gencode, on='gene_id', how='left', indicator=True)\n",
    "\n",
    "# extract the complete and lost eqtls\n",
    "#lost_eqtls = eqtl_df.loc[eqtl_df['_merge'] != 'both']\n",
    "complete_eqtls = eqtl_df.loc[eqtl_df['_merge'] == 'both']\n",
    "\n",
    "# remove chr\n",
    "complete_eqtls.loc[:, 'snp_chrom'] = complete_eqtls.loc[:, 'snp_chrom'].str.replace('chr', '')\n",
    "complete_eqtls.loc[:, 'gene_chrom'] = complete_eqtls.loc[:, 'gene_chrom'].str.replace('chr', '')\n",
    "\n",
    "# reorder the columns\n",
    "complete_eqtls = complete_eqtls[['snp_chrom', 'snp_start', 'snp_end',\n",
    "                                'gene_chrom', 'tss_start', 'tss_end',\n",
    "                                'molecular_trait_id', 'gene_id', 'cs_id', 'variant', 'rsid',\n",
    "                                'cs_size', 'pip', 'pvalue', 'beta', 'se', 'z', 'cs_min_r2', \n",
    "                                'region', 'gene_start', 'gene_end', 'gene_strand', 'gene_type', 'gene_name']]\n",
    "complete_eqtls.sort_values(['snp_chrom', 'snp_start', 'snp_end', 'gene_chrom', 'gene_start', 'gene_end'], inplace=True)\n",
    "\n",
    "# create a pybedtools for finemap data\n",
    "eqtl_pbt = pbt.BedTool.from_dataframe(complete_eqtls)"
   ]
  },
  {
   "cell_type": "code",
   "execution_count": 9,
   "metadata": {},
   "outputs": [],
   "source": [
    "############# Load HiChIP Loops #############\n",
    "loop_df = pd.read_table(args.loop_fn)\n",
    "loop_df.rename(columns={'chr1': 'loop_chrA', \n",
    "                        's1': 'loop_startA', \n",
    "                        'e1': 'loop_endA',\n",
    "                        'chr2': 'loop_chrB', \n",
    "                        's2': 'loop_startB', \n",
    "                        'e2': 'loop_endB'}, inplace=True)\n",
    "\n",
    "# calculating the -log10(q value)\n",
    "loop_df['-log10_qval'] =  loop_df['Q-Value_Bias'].apply(lambda x: -np.log(x))\n",
    "\n",
    "# removing chr\n",
    "loop_df['loop_chrA'] = loop_df['loop_chrA'].stra.replace('chr', '') \n",
    "loop_df['loop_chrB'] = loop_df['loop_chrB'].str.replace('chr', '') \n",
    "\n",
    "# create a dataframe in bed format which filters for significant\n",
    "# SNPs only p-val < 0.05 (or -log10(p-val) > 1.3)\n",
    "loop_bed = loop_df.iloc[:, [0,1,2,3,4,5,-1]]\n",
    "\n",
    "# create a pybedtools for the looping data\n",
    "loop_pbt = pbt.BedTool.from_dataframe(loop_bed)"
   ]
  },
  {
   "cell_type": "code",
   "execution_count": 12,
   "metadata": {},
   "outputs": [],
   "source": [
    "############# Intersect Fine Mapped GWAS and loops #############\n",
    "\n",
    "# #### Perform the intersection\n",
    "\n",
    "# intersecting the eQTLs with loops \n",
    "# need to use **{} because is=True doesn't work so the workaround is to use\n",
    "# dictionary expansions\n",
    "intersect_pbt = loop_pbt.pair_to_pair(eqtl_pbt, **{'type': 'both', 'is': True})\n",
    "\n",
    "# # convert the intersection into a dataframe and rename columns \n",
    "eqtl_hichip = intersect_pbt.to_dataframe(header=None, disable_auto_names=True)\n",
    "\n",
    "if len(eqtl_hichip) == 0:\n",
    "    print('No overlap between GWAS and HiChIP loops. Exiting.')\n",
    "    #exit()\n",
    "    \n",
    "# adding the header columns\n",
    "eqtl_hichip.columns = loop_bed.columns.tolist() + complete_eqtls.columns.tolist()"
   ]
  },
  {
   "cell_type": "code",
   "execution_count": 16,
   "metadata": {},
   "outputs": [
    {
     "data": {
      "text/plain": [
       "loop_chrA                                  1\n",
       "loop_startA                         22020000\n",
       "loop_endA                           22025000\n",
       "loop_chrB                                  1\n",
       "loop_startB                         22040000\n",
       "loop_endB                           22045000\n",
       "-log10_qval                         7.454802\n",
       "snp_chrom                                  1\n",
       "snp_start                           22043663\n",
       "snp_end                             22043664\n",
       "gene_chrom                                 1\n",
       "tss_start                           22024558\n",
       "tss_end                             22024559\n",
       "molecular_trait_id           ENSG00000218510\n",
       "gene_id                      ENSG00000218510\n",
       "cs_id                     ENSG00000218510_L1\n",
       "variant                    chr1_22043664_G_A\n",
       "rsid                              rs12748456\n",
       "cs_size                                   20\n",
       "pip                                 0.003695\n",
       "pvalue                                   0.0\n",
       "beta                                0.705282\n",
       "se                                  0.108984\n",
       "z                                   6.668085\n",
       "cs_min_r2                           0.317638\n",
       "region                chr1:21024558-23024558\n",
       "gene_start                        22024558.0\n",
       "gene_end                          22031223.0\n",
       "gene_strand                                +\n",
       "gene_type                               gene\n",
       "gene_name                          LINC00339\n",
       "Name: 0, dtype: object"
      ]
     },
     "execution_count": 16,
     "metadata": {},
     "output_type": "execute_result"
    }
   ],
   "source": [
    "eqtl_hichip.iloc[0]"
   ]
  },
  {
   "cell_type": "code",
   "execution_count": null,
   "metadata": {},
   "outputs": [],
   "source": []
  },
  {
   "cell_type": "code",
   "execution_count": null,
   "metadata": {},
   "outputs": [],
   "source": []
  },
  {
   "cell_type": "code",
   "execution_count": null,
   "metadata": {},
   "outputs": [],
   "source": []
  }
 ],
 "metadata": {
  "kernelspec": {
   "display_name": "Python 3 (ipykernel)",
   "language": "python",
   "name": "python3"
  },
  "language_info": {
   "codemirror_mode": {
    "name": "ipython",
    "version": 3
   },
   "file_extension": ".py",
   "mimetype": "text/x-python",
   "name": "python",
   "nbconvert_exporter": "python",
   "pygments_lexer": "ipython3",
   "version": "3.12.3"
  }
 },
 "nbformat": 4,
 "nbformat_minor": 4
}
