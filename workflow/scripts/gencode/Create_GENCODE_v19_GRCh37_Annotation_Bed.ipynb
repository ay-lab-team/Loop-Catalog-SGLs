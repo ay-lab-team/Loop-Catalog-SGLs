{
 "cells": [
  {
   "cell_type": "code",
   "execution_count": 1,
   "id": "4ecbe542",
   "metadata": {},
   "outputs": [],
   "source": [
    "import os\n",
    "import subprocess\n",
    "import pandas as pd \n",
    "os.chdir('<project-dir>')\n",
    "outdir = 'results/refs/ensembl/'\n",
    "os.makedirs(outdir, exist_ok=True)\n",
    "\n",
    "fn = os.path.join(outdir, 'gencode.v19.annotation.gtf.gz')\n",
    "if not os.path.exists(fn):\n",
    "    url = 'https://ftp.ebi.ac.uk/pub/databases/gencode/Gencode_human/release_19/gencode.v19.annotation.gtf.gz'\n",
    "    cmd = 'wget -O {} {}'.format(fn, url)\n",
    "    output = subprocess.check_output(cmd, shell=True)"
   ]
  },
  {
   "cell_type": "code",
   "execution_count": 2,
   "id": "a99a9685",
   "metadata": {},
   "outputs": [],
   "source": [
    "gtf = pd.read_table(fn, header=None, skiprows=5)"
   ]
  },
  {
   "cell_type": "code",
   "execution_count": 22,
   "id": "105621f3",
   "metadata": {},
   "outputs": [],
   "source": [
    "snp = gtf.loc[gtf[8].str.match('.*RP11-632C17__A.1'), :]"
   ]
  },
  {
   "cell_type": "code",
   "execution_count": 26,
   "id": "e4447e00",
   "metadata": {},
   "outputs": [],
   "source": [
    "# extract the main columns\n",
    "parsed = gtf.iloc[:, [0,3,4,8,6,2]]"
   ]
  },
  {
   "cell_type": "code",
   "execution_count": 27,
   "id": "7c53ff12",
   "metadata": {},
   "outputs": [
    {
     "name": "stderr",
     "output_type": "stream",
     "text": [
      "/mnt/BioHome/jreyna/software/anaconda3/envs/hic_tls/lib/python3.6/site-packages/ipykernel_launcher.py:2: SettingWithCopyWarning: \n",
      "A value is trying to be set on a copy of a slice from a DataFrame.\n",
      "Try using .loc[row_indexer,col_indexer] = value instead\n",
      "\n",
      "See the caveats in the documentation: https://pandas.pydata.org/pandas-docs/stable/user_guide/indexing.html#returning-a-view-versus-a-copy\n",
      "  \n",
      "/mnt/BioHome/jreyna/software/anaconda3/envs/hic_tls/lib/python3.6/site-packages/ipykernel_launcher.py:3: SettingWithCopyWarning: \n",
      "A value is trying to be set on a copy of a slice from a DataFrame.\n",
      "Try using .loc[row_indexer,col_indexer] = value instead\n",
      "\n",
      "See the caveats in the documentation: https://pandas.pydata.org/pandas-docs/stable/user_guide/indexing.html#returning-a-view-versus-a-copy\n",
      "  This is separate from the ipykernel package so we can avoid doing imports until\n"
     ]
    }
   ],
   "source": [
    "# get the gene id and gene name\n",
    "parsed['gene_id'] = parsed[8].str.extract('gene_id \"(ENSG[0-9.]+)\"')\n",
    "parsed['gene_name'] = parsed[8].str.extract('gene_name \"([A-Za-z0-9-\\._]+)\"')\n",
    "\n",
    "# final data cleanup\n",
    "parsed = parsed.iloc[:, [0,1,2,4,5,6,7]]"
   ]
  },
  {
   "cell_type": "code",
   "execution_count": 28,
   "id": "23fcb31f",
   "metadata": {},
   "outputs": [],
   "source": [
    "# use the gene ID as the name when the name is not \n",
    "# available\n",
    "new_genenames = []\n",
    "for ID, name in parsed.values[:, 5:7]:\n",
    "    if type(name) == str:\n",
    "        new_genenames.append(name)\n",
    "    else:\n",
    "        new_genenames.append(ID)\n",
    "parsed.loc[:, 'gene_name'] = new_genenames"
   ]
  },
  {
   "cell_type": "code",
   "execution_count": 29,
   "id": "241f7d96",
   "metadata": {},
   "outputs": [],
   "source": [
    "# save the final output\n",
    "bed = os.path.join(outdir, 'gencode.v19.annotation.bed')\n",
    "parsed.to_csv(bed, sep='\\t', header=None, index=False)"
   ]
  }
 ],
 "metadata": {
  "kernelspec": {
   "display_name": "HiC",
   "language": "python",
   "name": "hic_tls"
  },
  "language_info": {
   "codemirror_mode": {
    "name": "ipython",
    "version": 3
   },
   "file_extension": ".py",
   "mimetype": "text/x-python",
   "name": "python",
   "nbconvert_exporter": "python",
   "pygments_lexer": "ipython3",
   "version": "3.6.7"
  }
 },
 "nbformat": 4,
 "nbformat_minor": 5
}
