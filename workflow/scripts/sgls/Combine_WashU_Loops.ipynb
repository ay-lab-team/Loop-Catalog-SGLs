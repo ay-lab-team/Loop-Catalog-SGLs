{
 "cells": [
  {
   "cell_type": "code",
   "execution_count": 29,
   "id": "a89b0299",
   "metadata": {},
   "outputs": [],
   "source": [
    "import os \n",
    "import glob\n",
    "import json\n",
    "os.chdir('/mnt/BioHome/jreyna/jreyna/projects/dchallenge/')\n",
    "\n",
    "outdir = 'results/notebooks/combine_washu_loops/'\n",
    "os.makedirs(outdir, exist_ok=True)"
   ]
  },
  {
   "cell_type": "code",
   "execution_count": null,
   "id": "cac6314a",
   "metadata": {},
   "outputs": [],
   "source": [
    "washu_jsons = []\n",
    "for fn in glob.glob('results/main/sgls/*/*/*/*/master.tsv'):\n",
    "    split_info = fn.split('/')\n",
    "    \n",
    "    # get the current json string for the current file  \n",
    "    gwas_source, eqtl_source, ge_source, loop_source = split_info[3:7]    \n",
    "    json_loops = {'type': 'longrange',\n",
    "                      'filename': os.path.basename(fn),\n",
    "                      'name': '{} {} {} {} Loops'.format(gwas_source, eqtl_source, ge_source, loop_source),\n",
    "                      'options': {'displayMode': 'arc', 'color':'red'},\n",
    "                      'showOnHubLoad': True\n",
    "                   }\n",
    "    washu_jsons.append(json_loops)\n",
    "    \n",
    "    # symlink the file and index over to the output directory\n",
    "    sym_loops = os.path.join(outdir, '{}.{}.{}.{}.bed.gz')\n",
    "    if not os.path.islink(sym_loops):\n",
    "        os.symlink(fn, sym_loops)\n",
    "        \n",
    "    sym_index = sym_loops + '.tbi'\n",
    "    if not os.path.islink(sym_index):\n",
    "        os.symlink(fn + '.tbi', sym_index)\n"
   ]
  },
  {
   "cell_type": "code",
   "execution_count": null,
   "id": "3ca140f8",
   "metadata": {},
   "outputs": [],
   "source": [
    "hub_json_fn = os.path.join(outdir, 'hub.config.json')\n",
    "with open(hub_json_fn, 'w') as f:\n",
    "    f.write(json.dumps(washu_jsons, indent=4))"
   ]
  },
  {
   "cell_type": "code",
   "execution_count": null,
   "id": "963c522a",
   "metadata": {},
   "outputs": [],
   "source": []
  },
  {
   "cell_type": "code",
   "execution_count": null,
   "id": "ef2f77a6",
   "metadata": {},
   "outputs": [],
   "source": []
  },
  {
   "cell_type": "code",
   "execution_count": null,
   "id": "787332b7",
   "metadata": {},
   "outputs": [],
   "source": []
  },
  {
   "cell_type": "code",
   "execution_count": null,
   "id": "f38800b6",
   "metadata": {},
   "outputs": [],
   "source": []
  },
  {
   "cell_type": "code",
   "execution_count": null,
   "id": "9e6bce65",
   "metadata": {},
   "outputs": [],
   "source": []
  },
  {
   "cell_type": "code",
   "execution_count": null,
   "id": "a1151f47",
   "metadata": {},
   "outputs": [],
   "source": []
  }
 ],
 "metadata": {
  "kernelspec": {
   "display_name": "HiChIP DB",
   "language": "python",
   "name": "hichip-db"
  },
  "language_info": {
   "codemirror_mode": {
    "name": "ipython",
    "version": 3
   },
   "file_extension": ".py",
   "mimetype": "text/x-python",
   "name": "python",
   "nbconvert_exporter": "python",
   "pygments_lexer": "ipython3",
   "version": "3.10.2"
  }
 },
 "nbformat": 4,
 "nbformat_minor": 5
}
