{
 "cells": [
  {
   "cell_type": "code",
   "execution_count": 20,
   "id": "6f173ae9",
   "metadata": {},
   "outputs": [],
   "source": [
    "import os \n",
    "import sys\n",
    "import pybedtools as pbt\n",
    "import pandas as pd\n",
    "import numpy as np\n",
    "import subprocess as sp\n",
    "import json\n",
    "import glob\n",
    "pbt.helpers.set_tempdir('/mnt/BioHome/jreyna/tmp/')\n",
    "pbt.set_bedtools_path('/mnt/BioApps/bedtools/bin/')\n",
    "bgzip = '/mnt/BioApps/tabix/tabix-0.2.6/bgzip'\n",
    "tabix = '/mnt/BioApps/tabix/tabix-0.2.6/tabix'"
   ]
  },
  {
   "cell_type": "code",
   "execution_count": 21,
   "id": "0872fb23",
   "metadata": {},
   "outputs": [],
   "source": [
    "os.chdir('/mnt/BioHome/jreyna/jreyna/projects/dchallenge/')"
   ]
  },
  {
   "cell_type": "code",
   "execution_count": 22,
   "id": "500ed886",
   "metadata": {},
   "outputs": [],
   "source": [
    "bedpe_6cols = ['chrA', 'startA', 'endA', 'chrB', 'startB', 'endB']\n",
    "bedpe_10cols = ['chrA', 'startA', 'endA', 'chrB', 'startB', 'endB', 'name', 'score', 'strand1', 'strand2']"
   ]
  },
  {
   "cell_type": "markdown",
   "id": "36357d8a",
   "metadata": {},
   "source": [
    "# Parse the Snakemake arguments"
   ]
  },
  {
   "cell_type": "raw",
   "id": "afc15b16",
   "metadata": {},
   "source": [
    "snakemake.input = ['results/main/sgls/T1D_34012112_Gaulton/Quach_2016/monocyte_R848/eqtls.coloc_filtered.tsv.gz',\n",
    "              'results/main/coloc/eQTL_Catalogue/T1D_34012112_Gaulton/GRCh37/Quach_2016/monocyte_R848/',\n",
    "              'results/main/coloc/eQTL_Catalogue/T1D_34012112_Gaulton/GRCh37/Quach_2016/monocyte_R848/ldpairs/coloc_ld_snps.txt',\n",
    "              'results/main/h3k27ac_hichip/monocyte_naive/FitHiChIP_S/FitHiChIP.interactions_FitHiC_Q0.01.grch38.bed',\n",
    "              'results/refs/hg38/hg38.chrom.sizes',\n",
    "              'results/refs/gencode/v30/gencode.v30.annotation.bed']"
   ]
  },
  {
   "cell_type": "code",
   "execution_count": 23,
   "id": "231f9b2d",
   "metadata": {},
   "outputs": [],
   "source": [
    "eqtls = glob.glob('results/main/sgls/*/*/*/eqtls.coloc_filtered.tsv.gz')"
   ]
  },
  {
   "cell_type": "code",
   "execution_count": 24,
   "id": "1f76fb46",
   "metadata": {},
   "outputs": [],
   "source": [
    "colocs = glob.glob('results/main/coloc/Results/eQTL_Catalogue/*/*/*/FINAL*')"
   ]
  },
  {
   "cell_type": "code",
   "execution_count": 25,
   "id": "733a3b4b",
   "metadata": {},
   "outputs": [
    {
     "data": {
      "text/plain": [
       "['results/main/coloc/Results/eQTL_Catalogue/T1D_32005708/Lepik_2017/blood/FINAL_Summary_Coloc_Gene_SNP_Pairs.bed',\n",
       " 'results/main/coloc/Results/eQTL_Catalogue/T1D_32005708/GTEx/blood/FINAL_Summary_Coloc_Gene_SNP_Pairs.bed',\n",
       " 'results/main/coloc/Results/eQTL_Catalogue/T1D_32005708/GTEx/pancreas/FINAL_Summary_Coloc_Gene_SNP_Pairs.bed',\n",
       " 'results/main/coloc/Results/eQTL_Catalogue/T1D_32005708/GTEx/LCL/FINAL_Summary_Coloc_Gene_SNP_Pairs.bed',\n",
       " 'results/main/coloc/Results/eQTL_Catalogue/T1D_32005708/Quach_2016/monocyte_IAV/FINAL_Summary_Coloc_Gene_SNP_Pairs.bed',\n",
       " 'results/main/coloc/Results/eQTL_Catalogue/T1D_32005708/GENCORD/T-cell/FINAL_Summary_Coloc_Gene_SNP_Pairs.bed',\n",
       " 'results/main/coloc/Results/eQTL_Catalogue/T1D_32005708/GENCORD/LCL/FINAL_Summary_Coloc_Gene_SNP_Pairs.bed',\n",
       " 'results/main/coloc/Results/eQTL_Catalogue/T1D_32005708/van_de_Bunt_2015/pancreatic_islet/FINAL_Summary_Coloc_Gene_SNP_Pairs.bed',\n",
       " 'results/main/coloc/Results/eQTL_Catalogue/T1D_32005708/BLUEPRINT/neutrophil/FINAL_Summary_Coloc_Gene_SNP_Pairs.bed',\n",
       " 'results/main/coloc/Results/eQTL_Catalogue/T1D_32005708/BLUEPRINT/monocyte/FINAL_Summary_Coloc_Gene_SNP_Pairs.bed',\n",
       " 'results/main/coloc/Results/eQTL_Catalogue/T1D_32005708/Schmiedel_2018/B-cell_naive/FINAL_Summary_Coloc_Gene_SNP_Pairs.bed',\n",
       " 'results/main/coloc/Results/eQTL_Catalogue/T1D_32005708/Schmiedel_2018/Th1_memory/FINAL_Summary_Coloc_Gene_SNP_Pairs.bed',\n",
       " 'results/main/coloc/Results/eQTL_Catalogue/T1D_32005708/Schmiedel_2018/Treg_memory/FINAL_Summary_Coloc_Gene_SNP_Pairs.bed',\n",
       " 'results/main/coloc/Results/eQTL_Catalogue/T1D_32005708/Schmiedel_2018/Treg_naive/FINAL_Summary_Coloc_Gene_SNP_Pairs.bed',\n",
       " 'results/main/coloc/Results/eQTL_Catalogue/T1D_32005708/Schmiedel_2018/Tfh_memory/FINAL_Summary_Coloc_Gene_SNP_Pairs.bed',\n",
       " 'results/main/coloc/Results/eQTL_Catalogue/T1D_32005708/Schmiedel_2018/Th17_memory/FINAL_Summary_Coloc_Gene_SNP_Pairs.bed',\n",
       " 'results/main/coloc/Results/eQTL_Catalogue/T1D_32005708/Schmiedel_2018/monocyte_CD16_naive/FINAL_Summary_Coloc_Gene_SNP_Pairs.bed',\n",
       " 'results/main/coloc/Results/eQTL_Catalogue/T1D_32005708/Schmiedel_2018/Th1-17_memory/FINAL_Summary_Coloc_Gene_SNP_Pairs.bed',\n",
       " 'results/main/coloc/Results/eQTL_Catalogue/T1D_32005708/Schmiedel_2018/NK-cell_naive/FINAL_Summary_Coloc_Gene_SNP_Pairs.bed',\n",
       " 'results/main/coloc/Results/eQTL_Catalogue/T1D_32005708/Schmiedel_2018/CD8_T-cell_anti-CD3-CD28/FINAL_Summary_Coloc_Gene_SNP_Pairs.bed',\n",
       " 'results/main/coloc/Results/eQTL_Catalogue/T1D_32005708/Schmiedel_2018/CD4_T-cell_anti-CD3-CD28/FINAL_Summary_Coloc_Gene_SNP_Pairs.bed',\n",
       " 'results/main/coloc/Results/eQTL_Catalogue/T1D_32005708/Schmiedel_2018/monocyte_naive/FINAL_Summary_Coloc_Gene_SNP_Pairs.bed',\n",
       " 'results/main/coloc/Results/eQTL_Catalogue/T1D_32005708/Schmiedel_2018/Th2_memory/FINAL_Summary_Coloc_Gene_SNP_Pairs.bed',\n",
       " 'results/main/coloc/Results/eQTL_Catalogue/T1D_32005708/Schmiedel_2018/CD8_T-cell_naive/FINAL_Summary_Coloc_Gene_SNP_Pairs.bed',\n",
       " 'results/main/coloc/Results/eQTL_Catalogue/T1D_34012112_Gaulton/BLUEPRINT/neutrophil/FINAL_Summary_Coloc_Gene_SNP_Pairs.bed',\n",
       " 'results/main/coloc/Results/eQTL_Catalogue/T1D_34012112_Gaulton/BLUEPRINT/T-cell/FINAL_Summary_Coloc_Gene_SNP_Pairs.bed',\n",
       " 'results/main/coloc/Results/eQTL_Catalogue/T1D_34012112_Gaulton/GTEx/LCL/FINAL_Summary_Coloc_Gene_SNP_Pairs.bed',\n",
       " 'results/main/coloc/Results/eQTL_Catalogue/T1D_34012112_Gaulton/Quach_2016/monocyte_R848/FINAL_Summary_Coloc_Gene_SNP_Pairs.bed',\n",
       " 'results/main/coloc/Results/eQTL_Catalogue/T1D_34012112_Gaulton/Quach_2016/monocyte_Pam3CSK4/FINAL_Summary_Coloc_Gene_SNP_Pairs.bed',\n",
       " 'results/main/coloc/Results/eQTL_Catalogue/T1D_34012112_Gaulton/Schmiedel_2018/B-cell_naive/FINAL_Summary_Coloc_Gene_SNP_Pairs.bed',\n",
       " 'results/main/coloc/Results/eQTL_Catalogue/T1D_34012112_Gaulton/Schmiedel_2018/CD4_T-cell_naive/FINAL_Summary_Coloc_Gene_SNP_Pairs.bed',\n",
       " 'results/main/coloc/Results/eQTL_Catalogue/T1D_34012112_Gaulton/Schmiedel_2018/Th1_memory/FINAL_Summary_Coloc_Gene_SNP_Pairs.bed',\n",
       " 'results/main/coloc/Results/eQTL_Catalogue/T1D_34012112_Gaulton/Schmiedel_2018/CD4_T-cell_anti-CD3-CD28/FINAL_Summary_Coloc_Gene_SNP_Pairs.bed',\n",
       " 'results/main/coloc/Results/eQTL_Catalogue/T1D_34012112_Gaulton/Schmiedel_2018/Treg_naive/FINAL_Summary_Coloc_Gene_SNP_Pairs.bed',\n",
       " 'results/main/coloc/Results/eQTL_Catalogue/T1D_34012112_Gaulton/Schmiedel_2018/Tfh_memory/FINAL_Summary_Coloc_Gene_SNP_Pairs.bed',\n",
       " 'results/main/coloc/Results/eQTL_Catalogue/T1D_34012112_Gaulton/Schmiedel_2018/CD8_T-cell_naive/FINAL_Summary_Coloc_Gene_SNP_Pairs.bed',\n",
       " 'results/main/coloc/Results/eQTL_Catalogue/T1D_34012112_Gaulton/Schmiedel_2018/NK-cell_naive/FINAL_Summary_Coloc_Gene_SNP_Pairs.bed',\n",
       " 'results/main/coloc/Results/eQTL_Catalogue/T1D_34012112_Gaulton/Schmiedel_2018/test/FINAL_Summary_Coloc_Gene_SNP_Pairs.bed',\n",
       " 'results/main/coloc/Results/eQTL_Catalogue/T1D_34012112_Gaulton/Schmiedel_2018/Th17_memory/FINAL_Summary_Coloc_Gene_SNP_Pairs.bed',\n",
       " 'results/main/coloc/Results/eQTL_Catalogue/T1D_34012112_Gaulton/Schmiedel_2018/Th1-17_memory/FINAL_Summary_Coloc_Gene_SNP_Pairs.bed',\n",
       " 'results/main/coloc/Results/eQTL_Catalogue/T1D_34012112_Gaulton/Schmiedel_2018/Treg_memory/FINAL_Summary_Coloc_Gene_SNP_Pairs.bed',\n",
       " 'results/main/coloc/Results/eQTL_Catalogue/T1D_34012112_Gaulton/Schmiedel_2018/Th2_memory/FINAL_Summary_Coloc_Gene_SNP_Pairs.bed',\n",
       " 'results/main/coloc/Results/eQTL_Catalogue/T1D_34012112_Gaulton/van_de_Bunt_2015/pancreatic_islet/FINAL_Summary_Coloc_Gene_SNP_Pairs.bed',\n",
       " 'results/main/coloc/Results/eQTL_Catalogue/T1D_25751624/GENCORD/T-cell/FINAL_Summary_Coloc_Gene_SNP_Pairs.bed',\n",
       " 'results/main/coloc/Results/eQTL_Catalogue/T1D_25751624/GENCORD/LCL/FINAL_Summary_Coloc_Gene_SNP_Pairs.bed',\n",
       " 'results/main/coloc/Results/eQTL_Catalogue/T1D_25751624/van_de_Bunt_2015/pancreatic_islet/FINAL_Summary_Coloc_Gene_SNP_Pairs.bed',\n",
       " 'results/main/coloc/Results/eQTL_Catalogue/T1D_25751624/Schmiedel_2018/NK-cell_naive/FINAL_Summary_Coloc_Gene_SNP_Pairs.bed',\n",
       " 'results/main/coloc/Results/eQTL_Catalogue/T1D_25751624/Schmiedel_2018/CD8_T-cell_anti-CD3-CD28/FINAL_Summary_Coloc_Gene_SNP_Pairs.bed',\n",
       " 'results/main/coloc/Results/eQTL_Catalogue/T1D_25751624/Schmiedel_2018/monocyte_CD16_naive/FINAL_Summary_Coloc_Gene_SNP_Pairs.bed',\n",
       " 'results/main/coloc/Results/eQTL_Catalogue/T1D_25751624/Schmiedel_2018/monocyte_naive/FINAL_Summary_Coloc_Gene_SNP_Pairs.bed',\n",
       " 'results/main/coloc/Results/eQTL_Catalogue/T1D_25751624/Schmiedel_2018/B-cell_naive/FINAL_Summary_Coloc_Gene_SNP_Pairs.bed',\n",
       " 'results/main/coloc/Results/eQTL_Catalogue/T1D_25751624/Schmiedel_2018/Th2_memory/FINAL_Summary_Coloc_Gene_SNP_Pairs.bed',\n",
       " 'results/main/coloc/Results/eQTL_Catalogue/T1D_25751624/Schmiedel_2018/CD4_T-cell_anti-CD3-CD28/FINAL_Summary_Coloc_Gene_SNP_Pairs.bed',\n",
       " 'results/main/coloc/Results/eQTL_Catalogue/T1D_25751624/Schmiedel_2018/Tfh_memory/FINAL_Summary_Coloc_Gene_SNP_Pairs.bed',\n",
       " 'results/main/coloc/Results/eQTL_Catalogue/T1D_25751624/Schmiedel_2018/Treg_naive/FINAL_Summary_Coloc_Gene_SNP_Pairs.bed',\n",
       " 'results/main/coloc/Results/eQTL_Catalogue/T1D_25751624/Schmiedel_2018/Th1_memory/FINAL_Summary_Coloc_Gene_SNP_Pairs.bed',\n",
       " 'results/main/coloc/Results/eQTL_Catalogue/T1D_25751624/Schmiedel_2018/Th17_memory/FINAL_Summary_Coloc_Gene_SNP_Pairs.bed',\n",
       " 'results/main/coloc/Results/eQTL_Catalogue/T1D_25751624/Schmiedel_2018/CD4_T-cell_naive/FINAL_Summary_Coloc_Gene_SNP_Pairs.bed',\n",
       " 'results/main/coloc/Results/eQTL_Catalogue/T1D_25751624/Schmiedel_2018/Th1-17_memory/FINAL_Summary_Coloc_Gene_SNP_Pairs.bed',\n",
       " 'results/main/coloc/Results/eQTL_Catalogue/T1D_25751624/Schmiedel_2018/Treg_memory/FINAL_Summary_Coloc_Gene_SNP_Pairs.bed',\n",
       " 'results/main/coloc/Results/eQTL_Catalogue/T1D_25751624/Quach_2016/monocyte_LPS/FINAL_Summary_Coloc_Gene_SNP_Pairs.bed',\n",
       " 'results/main/coloc/Results/eQTL_Catalogue/T1D_25751624/Quach_2016/monocyte_Pam3CSK4/FINAL_Summary_Coloc_Gene_SNP_Pairs.bed',\n",
       " 'results/main/coloc/Results/eQTL_Catalogue/T1D_25751624/Quach_2016/monocyte_IAV/FINAL_Summary_Coloc_Gene_SNP_Pairs.bed',\n",
       " 'results/main/coloc/Results/eQTL_Catalogue/T1D_25751624/Quach_2016/monocyte_naive/FINAL_Summary_Coloc_Gene_SNP_Pairs.bed',\n",
       " 'results/main/coloc/Results/eQTL_Catalogue/T1D_25751624/Quach_2016/monocyte_R848/FINAL_Summary_Coloc_Gene_SNP_Pairs.bed',\n",
       " 'results/main/coloc/Results/eQTL_Catalogue/T1D_25751624/Lepik_2017/blood/FINAL_Summary_Coloc_Gene_SNP_Pairs.bed',\n",
       " 'results/main/coloc/Results/eQTL_Catalogue/T1D_25751624/BLUEPRINT/T-cell/FINAL_Summary_Coloc_Gene_SNP_Pairs.bed',\n",
       " 'results/main/coloc/Results/eQTL_Catalogue/T1D_25751624/BLUEPRINT/neutrophil/FINAL_Summary_Coloc_Gene_SNP_Pairs.bed',\n",
       " 'results/main/coloc/Results/eQTL_Catalogue/T1D_25751624/BLUEPRINT/monocyte/FINAL_Summary_Coloc_Gene_SNP_Pairs.bed',\n",
       " 'results/main/coloc/Results/eQTL_Catalogue/T1D_25751624/GTEx/blood/FINAL_Summary_Coloc_Gene_SNP_Pairs.bed',\n",
       " 'results/main/coloc/Results/eQTL_Catalogue/T1D_25751624/GTEx/LCL/FINAL_Summary_Coloc_Gene_SNP_Pairs.bed',\n",
       " 'results/main/coloc/Results/eQTL_Catalogue/T1D_34594039_GCST90018925/GENCORD/T-cell/FINAL_Summary_Coloc_Gene_SNP_Pairs.bed',\n",
       " 'results/main/coloc/Results/eQTL_Catalogue/T1D_34594039_GCST90018925/Schmiedel_2018/Th2_memory/FINAL_Summary_Coloc_Gene_SNP_Pairs.bed',\n",
       " 'results/main/coloc/Results/eQTL_Catalogue/T1D_34594039_GCST90018925/Schmiedel_2018/Th17_memory/FINAL_Summary_Coloc_Gene_SNP_Pairs.bed',\n",
       " 'results/main/coloc/Results/eQTL_Catalogue/T1D_34594039_GCST90018925/Schmiedel_2018/monocyte_CD16_naive/FINAL_Summary_Coloc_Gene_SNP_Pairs.bed',\n",
       " 'results/main/coloc/Results/eQTL_Catalogue/T1D_34594039_GCST90018925/Schmiedel_2018/CD8_T-cell_anti-CD3-CD28/FINAL_Summary_Coloc_Gene_SNP_Pairs.bed',\n",
       " 'results/main/coloc/Results/eQTL_Catalogue/T1D_34594039_GCST90018925/Schmiedel_2018/Tfh_memory/FINAL_Summary_Coloc_Gene_SNP_Pairs.bed',\n",
       " 'results/main/coloc/Results/eQTL_Catalogue/T1D_34594039_GCST90018925/Schmiedel_2018/Th1_memory/FINAL_Summary_Coloc_Gene_SNP_Pairs.bed',\n",
       " 'results/main/coloc/Results/eQTL_Catalogue/T1D_34594039_GCST90018925/Schmiedel_2018/NK-cell_naive/FINAL_Summary_Coloc_Gene_SNP_Pairs.bed',\n",
       " 'results/main/coloc/Results/eQTL_Catalogue/T1D_34594039_GCST90018925/GTEx/LCL/FINAL_Summary_Coloc_Gene_SNP_Pairs.bed',\n",
       " 'results/main/coloc/Results/eQTL_Catalogue/T1D_34594039_GCST90018925/GTEx/pancreas/FINAL_Summary_Coloc_Gene_SNP_Pairs.bed',\n",
       " 'results/main/coloc/Results/eQTL_Catalogue/T1D_34594039_GCST90018925/BLUEPRINT/monocyte/FINAL_Summary_Coloc_Gene_SNP_Pairs.bed',\n",
       " 'results/main/coloc/Results/eQTL_Catalogue/T1D_34594039_GCST90018925/BLUEPRINT/T-cell/FINAL_Summary_Coloc_Gene_SNP_Pairs.bed']"
      ]
     },
     "execution_count": 25,
     "metadata": {},
     "output_type": "execute_result"
    }
   ],
   "source": [
    "colocs"
   ]
  },
  {
   "cell_type": "code",
   "execution_count": null,
   "id": "97e90734",
   "metadata": {},
   "outputs": [],
   "source": []
  },
  {
   "cell_type": "code",
   "execution_count": null,
   "id": "f48f7f7f",
   "metadata": {},
   "outputs": [],
   "source": []
  },
  {
   "cell_type": "code",
   "execution_count": null,
   "id": "3f5b385d",
   "metadata": {},
   "outputs": [],
   "source": []
  },
  {
   "cell_type": "code",
   "execution_count": null,
   "id": "507857ab",
   "metadata": {},
   "outputs": [],
   "source": []
  },
  {
   "cell_type": "code",
   "execution_count": null,
   "id": "b9efd941",
   "metadata": {},
   "outputs": [],
   "source": []
  },
  {
   "cell_type": "code",
   "execution_count": null,
   "id": "0be71af3",
   "metadata": {},
   "outputs": [],
   "source": []
  }
 ],
 "metadata": {
  "kernelspec": {
   "display_name": "HiChIP-DB",
   "language": "python",
   "name": "hichip-db"
  },
  "language_info": {
   "codemirror_mode": {
    "name": "ipython",
    "version": 3
   },
   "file_extension": ".py",
   "mimetype": "text/x-python",
   "name": "python",
   "nbconvert_exporter": "python",
   "pygments_lexer": "ipython3",
   "version": "3.9.10"
  }
 },
 "nbformat": 4,
 "nbformat_minor": 5
}
