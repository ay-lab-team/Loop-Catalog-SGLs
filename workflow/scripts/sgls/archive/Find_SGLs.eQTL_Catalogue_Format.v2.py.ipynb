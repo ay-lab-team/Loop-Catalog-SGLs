{
 "cells": [
  {
   "cell_type": "code",
   "execution_count": 1,
   "id": "b7e10a70",
   "metadata": {
    "tags": [
     "snakemake-job-properties"
    ]
   },
   "outputs": [],
   "source": [
    "######## snakemake preamble start (automatically inserted, do not edit) ########\n",
    "import sys\n",
    "sys.path.extend(['/home/jreyna/software/anaconda3/hichip-db/lib/python3.10/site-packages',\n",
    "                 '/mnt/BioAdHoc/Groups/vd-ay/jreyna/projects/dchallenge/workflow/scripts/sgls']);\n",
    "import pickle;\n",
    "snakemake = pickle.loads(b'\\x80\\x04\\x95S\\x0f\\x00\\x00\\x00\\x00\\x00\\x00\\x8c\\x10snakemake.script\\x94\\x8c\\tSnakemake\\x94\\x93\\x94)\\x81\\x94}\\x94(\\x8c\\x05input\\x94\\x8c\\x0csnakemake.io\\x94\\x8c\\nInputFiles\\x94\\x93\\x94)\\x81\\x94(\\x8cZresults/main/sgls/T1D_34012112_Gaulton/Quach_2016/monocyte_IAV/eqtls.coloc_filtered.tsv.gz\\x94\\x8cVresults/main/coloc/Results/eQTL_Catalogue/T1D_34012112_Gaulton/Quach_2016/monocyte_IAV\\x94\\x8c}results/main/coloc/Results/eQTL_Catalogue/T1D_34012112_Gaulton/Quach_2016/monocyte_IAV/FINAL_Summary_Coloc_Gene_SNP_Pairs.bed\\x94\\x8ceresults/main/h3k27ac_hichip/monocyte_naive/FitHiChIP_S/FitHiChIP.interactions_FitHiC_Q0.01.grch38.bed\\x94\\x8c\"results/refs/hg38/hg38.chrom.sizes\\x94\\x8c3results/refs/gencode/v30/gencode.v30.annotation.bed\\x94e}\\x94(\\x8c\\x06_names\\x94}\\x94(\\x8c\\x04eqtl\\x94K\\x00K\\x01\\x86\\x94\\x8c\\tcoloc_dir\\x94K\\x01K\\x02\\x86\\x94\\x8c\\x05coloc\\x94K\\x02N\\x86\\x94\\x8c\\x05loops\\x94K\\x03N\\x86\\x94\\x8c\\x0cgenome_sizes\\x94K\\x04N\\x86\\x94\\x8c\\x07gencode\\x94K\\x05N\\x86\\x94u\\x8c\\x12_allowed_overrides\\x94]\\x94(\\x8c\\x05index\\x94\\x8c\\x04sort\\x94eh!\\x8c\\tfunctools\\x94\\x8c\\x07partial\\x94\\x93\\x94h\\x06\\x8c\\x19Namedlist._used_attribute\\x94\\x93\\x94\\x85\\x94R\\x94(h\\')}\\x94\\x8c\\x05_name\\x94h!sNt\\x94bh\"h%h\\'\\x85\\x94R\\x94(h\\')}\\x94h+h\"sNt\\x94bh\\x13h\\x06\\x8c\\tNamedlist\\x94\\x93\\x94)\\x81\\x94h\\na}\\x94(h\\x11}\\x94h\\x1f]\\x94(h!h\"eh!h%h\\'\\x85\\x94R\\x94(h\\')}\\x94h+h!sNt\\x94bh\"h%h\\'\\x85\\x94R\\x94(h\\')}\\x94h+h\"sNt\\x94bubh\\x15h2)\\x81\\x94h\\x0ba}\\x94(h\\x11}\\x94h\\x1f]\\x94(h!h\"eh!h%h\\'\\x85\\x94R\\x94(h\\')}\\x94h+h!sNt\\x94bh\"h%h\\'\\x85\\x94R\\x94(h\\')}\\x94h+h\"sNt\\x94bubh\\x17h\\x0ch\\x19h\\rh\\x1bh\\x0eh\\x1dh\\x0fub\\x8c\\x06output\\x94h\\x06\\x8c\\x0bOutputFiles\\x94\\x93\\x94)\\x81\\x94\\x8cMresults/main/sgls/T1D_34012112_Gaulton/Quach_2016/monocyte_IAV/monocyte_naive\\x94a}\\x94(h\\x11}\\x94\\x8c\\x06outdir\\x94K\\x00N\\x86\\x94sh\\x1f]\\x94(h!h\"eh!h%h\\'\\x85\\x94R\\x94(h\\')}\\x94h+h!sNt\\x94bh\"h%h\\'\\x85\\x94R\\x94(h\\')}\\x94h+h\"sNt\\x94bhRhOub\\x8c\\x06params\\x94h\\x06\\x8c\\x06Params\\x94\\x93\\x94)\\x81\\x94M\\xa8aa}\\x94(h\\x11}\\x94\\x8c\\tloop_slop\\x94K\\x00N\\x86\\x94sh\\x1f]\\x94(h!h\"eh!h%h\\'\\x85\\x94R\\x94(h\\')}\\x94h+h!sNt\\x94bh\"h%h\\'\\x85\\x94R\\x94(h\\')}\\x94h+h\"sNt\\x94bhcM\\xa8aub\\x8c\\twildcards\\x94h\\x06\\x8c\\tWildcards\\x94\\x93\\x94)\\x81\\x94(\\x8c\\x14T1D_34012112_Gaulton\\x94\\x8c\\nQuach_2016\\x94\\x8c\\x0cmonocyte_IAV\\x94\\x8c\\x0emonocyte_naive\\x94e}\\x94(h\\x11}\\x94(\\x8c\\x0bgwas_source\\x94K\\x00N\\x86\\x94\\x8c\\x0beqtl_source\\x94K\\x01N\\x86\\x94\\x8c\\tge_source\\x94K\\x02N\\x86\\x94\\x8c\\x0bloop_source\\x94K\\x03N\\x86\\x94uh\\x1f]\\x94(h!h\"eh!h%h\\'\\x85\\x94R\\x94(h\\')}\\x94h+h!sNt\\x94bh\"h%h\\'\\x85\\x94R\\x94(h\\')}\\x94h+h\"sNt\\x94bhxhrhzhsh|hth~huub\\x8c\\x07threads\\x94K\\x01\\x8c\\tresources\\x94h\\x06\\x8c\\tResources\\x94\\x93\\x94)\\x81\\x94(K\\x01K\\x01\\x8c\\x08/scratch\\x94M\\xc0]K\\x01K\\x01e}\\x94(h\\x11}\\x94(\\x8c\\x06_cores\\x94K\\x00N\\x86\\x94\\x8c\\x06_nodes\\x94K\\x01N\\x86\\x94\\x8c\\x06tmpdir\\x94K\\x02N\\x86\\x94\\x8c\\x06mem_mb\\x94K\\x03N\\x86\\x94\\x8c\\x05nodes\\x94K\\x04N\\x86\\x94\\x8c\\x03ppn\\x94K\\x05N\\x86\\x94uh\\x1f]\\x94(h!h\"eh!h%h\\'\\x85\\x94R\\x94(h\\')}\\x94h+h!sNt\\x94bh\"h%h\\'\\x85\\x94R\\x94(h\\')}\\x94h+h\"sNt\\x94bh\\x91K\\x01h\\x93K\\x01h\\x95h\\x8eh\\x97M\\xc0]h\\x99K\\x01h\\x9bK\\x01ub\\x8c\\x03log\\x94h\\x06\\x8c\\x03Log\\x94\\x93\\x94)\\x81\\x94\\x8cfresults/main/sgls/logs/annotate_colocs.T1D_34012112_Gaulton.Quach_2016.monocyte_IAV.monocyte_naive.log\\x94a}\\x94(h\\x11}\\x94h\\x1f]\\x94(h!h\"eh!h%h\\'\\x85\\x94R\\x94(h\\')}\\x94h+h!sNt\\x94bh\"h%h\\'\\x85\\x94R\\x94(h\\')}\\x94h+h\"sNt\\x94bub\\x8c\\x06config\\x94}\\x94(\\x8c\\x0chichip_db_py\\x94\\x8c;/mnt/BioHome/jreyna/software/anaconda3/hichip-db/bin/python\\x94\\x8c\\nhic_tls_py\\x94\\x8c>/mnt/BioHome/jreyna/software/anaconda3/envs/hic_tls/bin/python\\x94\\x8c\\thic_tls_R\\x94\\x8c\\'/share/apps/R/3.4.3/lib64/R/bin/Rscript\\x94\\x8c\\x02R4\\x94\\x8c2/mnt/BioHome/jreyna/R-Versions/R-4.0.3/bin/Rscript\\x94\\x8c\\x06fithic\\x94\\x8c4/mnt/BioHome/jreyna/software/fithic/fithic/fithic.py\\x94\\x8c\\nfithic_tls\\x94\\x8c8/mnt/BioHome/jreyna/software/fithic/fithic/fithic_tls.py\\x94\\x8c\\rhicpro2fithic\\x94\\x8cA/mnt/BioHome/jreyna/software/fithic/fithic/utils/HiCPro2FitHiC.py\\x94\\x8c\\x0chicpro_utils\\x94\\x8c//mnt/BioHome/jreyna/software/HiC-Pro/bin/utils/\\x94\\x8c\\x0cjuicer_tools\\x94\\x8c{/mnt/BioAdHoc/Groups/vd-ay/abhijit/overflow/proj_overflow/Alternate_Chromosomal_structures/juicer_tools.1.8.9_jcuda.0.8.jar\\x94\\x8c\\x05Rpath\\x94\\x8c!/share/apps/R/3.4.3/lib64/R/bin/R\\x94\\x8c\\x06CLINES\\x94]\\x94(\\x8c\\x04A549\\x94\\x8c\\x05Caki2\\x94\\x8c\\x06HEK293\\x94\\x8c\\x05LNCaP\\x94\\x8c\\x08NCI-H460\\x94\\x8c\\x05Panc1\\x94\\x8c\\x05SKNSH\\x94e\\x8c\\x12DIXON_HIC_OVERLAPS\\x94]\\x94(\\x8c\\x04A549\\x94\\x8c\\x05Caki2\\x94\\x8c\\x05LNCaP\\x94\\x8c\\x08NCI-H460\\x94\\x8c\\x05Panc1\\x94\\x8c\\x05SKNSH\\x94e\\x8c\\x12DIXON_WGS_OVERLAPS\\x94]\\x94(\\x8c\\x04A549\\x94\\x8c\\x05Caki2\\x94\\x8c\\x05LNCaP\\x94\\x8c\\x08NCI-H460\\x94\\x8c\\x05Panc1\\x94e\\x8c\\x08hictrans\\x94\\x8c,/home/jreyna/software/HiCtrans/hictrans.v3.R\\x94\\x8c\\x05hicnv\\x94\\x8c&/home/jreyna/software/HiCnv/hicnv_v2.R\\x94\\x8c\\rhicnv_scripts\\x94\\x8c$/home/jreyna/software/HiCnv/scripts/\\x94\\x8c\\x07python2\\x94\\x8cD/mnt/BioHome/jreyna/software/anaconda3/envs/python_2.7.18/bin/python\\x94\\x8c\\x08mustache\\x94\\x8cA/mnt/BioHome/jreyna/software/anaconda3/envs/mustache/bin/mustache\\x94\\x8c\\x0fmustache_python\\x94\\x8c?/mnt/BioHome/jreyna/software/anaconda3/envs/mustache/bin/python\\x94\\x8c\\x14juicer_tools_1.13.02\\x94\\x8c./home/jreyna/software/juicer_tools_1.13.02.jar\\x94\\x8c\\x06cooler\\x94\\x8c>/mnt/BioHome/jreyna/software/anaconda3/envs/hic_tls/bin/cooler\\x94\\x8c\\x05bgzip\\x94\\x8c=/mnt/BioHome/jreyna/software/anaconda3/envs/hic_tls/bin/bgzip\\x94\\x8c\\x08liftover\\x94\\x8c1/home/jreyna/software/UCSC_Browser_Tools/liftOver\\x94\\x8c\\x10hichip_db_python\\x94\\x8c4/home/jreyna/software/anaconda3/hichip-db/bin/python\\x94u\\x8c\\x04rule\\x94\\x8c\\x18annotate_colocs_notebook\\x94\\x8c\\x0fbench_iteration\\x94N\\x8c\\tscriptdir\\x94\\x8cK/mnt/BioAdHoc/Groups/vd-ay/jreyna/projects/dchallenge/workflow/scripts/sgls\\x94ub.');\n",
    "from snakemake.logging import logger\n",
    "logger.printshellcmds = True\n",
    "import os\n",
    "os.chdir(r'/mnt/BioAdHoc/Groups/vd-ay/jreyna/projects/dchallenge');\n",
    "######## snakemake preamble end #########"
   ]
  },
  {
   "cell_type": "code",
   "execution_count": 2,
   "id": "6a5feb8c",
   "metadata": {},
   "outputs": [],
   "source": [
    "import os \n",
    "import sys\n",
    "import pybedtools as pbt\n",
    "import pandas as pd\n",
    "import numpy as np\n",
    "import subprocess as sp\n",
    "import json\n",
    "pbt.helpers.set_tempdir('/mnt/BioHome/jreyna/tmp/')\n",
    "pbt.set_bedtools_path('/mnt/BioApps/bedtools/bin/')\n",
    "bgzip = '/mnt/BioApps/tabix/tabix-0.2.6/bgzip'\n",
    "tabix = '/mnt/BioApps/tabix/tabix-0.2.6/tabix'"
   ]
  },
  {
   "cell_type": "code",
   "execution_count": 3,
   "id": "500ed886",
   "metadata": {},
   "outputs": [],
   "source": [
    "bedpe_6cols = ['chrA', 'startA', 'endA', 'chrB', 'startB', 'endB']\n",
    "bedpe_10cols = ['chrA', 'startA', 'endA', 'chrB', 'startB', 'endB', 'name', 'score', 'strand1', 'strand2']"
   ]
  },
  {
   "cell_type": "markdown",
   "id": "36357d8a",
   "metadata": {},
   "source": [
    "# Parse the Snakemake arguments"
   ]
  },
  {
   "cell_type": "code",
   "execution_count": 4,
   "id": "83339aaf",
   "metadata": {},
   "outputs": [],
   "source": [
    "eqtl_fn = snakemake.input[0]\n",
    "coloc_fn = snakemake.input[2]\n",
    "loop_fn = snakemake.input[3]\n",
    "celltype = snakemake.wildcards[3]\n",
    "gs_fn = snakemake.input[4]\n",
    "genes_fn = snakemake.input[5]\n",
    "loop_slop = snakemake.params[0]\n",
    "outdir = snakemake.output[0]"
   ]
  },
  {
   "cell_type": "markdown",
   "id": "ddd631a1",
   "metadata": {},
   "source": [
    "# Load the colocalization data\n"
   ]
  },
  {
   "cell_type": "code",
   "execution_count": 5,
   "id": "eb2d3bce",
   "metadata": {},
   "outputs": [
    {
     "name": "stdout",
     "output_type": "stream",
     "text": [
      "There are 2 colocalized SNP-gene pairs\n"
     ]
    },
    {
     "name": "stderr",
     "output_type": "stream",
     "text": [
      "/mnt/BioHome/jreyna/tmp//ipykernel_126971/3579177192.py:33: SettingWithCopyWarning: \n",
      "A value is trying to be set on a copy of a slice from a DataFrame\n",
      "\n",
      "See the caveats in the documentation: https://pandas.pydata.org/pandas-docs/stable/user_guide/indexing.html#returning-a-view-versus-a-copy\n",
      "  coloc_sig_df.rename(columns={'pos': 'end'}, inplace=True)\n",
      "/mnt/BioHome/jreyna/tmp//ipykernel_126971/3579177192.py:34: SettingWithCopyWarning: \n",
      "A value is trying to be set on a copy of a slice from a DataFrame.\n",
      "Try using .loc[row_indexer,col_indexer] = value instead\n",
      "\n",
      "See the caveats in the documentation: https://pandas.pydata.org/pandas-docs/stable/user_guide/indexing.html#returning-a-view-versus-a-copy\n",
      "  coloc_sig_df.loc[:, 'start'] = coloc_sig_df.loc[:, 'end'] - 1\n"
     ]
    }
   ],
   "source": [
    "# load the colocalization data\n",
    "coloc = pd.read_table(coloc_fn)\n",
    "rename_coloc_cols = {'chr': 'chr',\n",
    "    'pos': 'pos',\n",
    "    'pp_H0_Coloc_Summary': 'ppH0',\n",
    "    'pp_H1_Coloc_Summary': 'ppH1',\n",
    "    'pp_H2_Coloc_Summary': 'ppH2',\n",
    "    'pp_H3_Coloc_Summary': 'ppH3',\n",
    "    'pp_H4_Coloc_Summary': 'ppH4',\n",
    "    'rs_id': 'rsid',\n",
    "    'variant_id': 'varid',\n",
    "    'geneName': 'geneid',\n",
    "    'dist': 'dist',\n",
    "    'pvalue': 'eqtl_pval',\n",
    "    'FDR': 'eqtl_fdr',\n",
    "    'slope_snp': 'eqtl_slope',\n",
    "    'ref': 'ref',\n",
    "    'alt': 'alt',\n",
    "    'AC': 'AC',\n",
    "    'AF': 'AF',\n",
    "    'AN': 'AN',\n",
    "    'slope_se_snp': 'eqtl_slope_se',\n",
    "    'slope_gwas': 'gwas_slope',\n",
    "    'slope_se_gwas': 'gwas_slope_se',\n",
    "    'pval_nominal': 'gwas_pval',\n",
    "    'SampleSize': 'sample_size'}\n",
    "coloc.rename(columns=rename_coloc_cols, inplace=True)\n",
    "\n",
    "# extract the most significant according the H4 \n",
    "coloc_sig_df = coloc.loc[~coloc.duplicated(subset=['rsid', 'geneid']),]\n",
    "\n",
    "coloc_sig_full = coloc_sig_df.copy(deep=True)\n",
    "coloc_sig_df.rename(columns={'pos': 'end'}, inplace=True)\n",
    "coloc_sig_df.loc[:, 'start'] = coloc_sig_df.loc[:, 'end'] - 1\n",
    "\n",
    "coloc_sig_df = coloc_sig_df[['chr', 'start', 'end', 'rsid', 'varid']]\n",
    "coloc_sig_pbt = pbt.BedTool.from_dataframe(coloc_sig_df.iloc[:, 0:4]).sort()\n",
    "\n",
    "print('There are {} colocalized SNP-gene pairs'.format(coloc_sig_df.shape[0]))"
   ]
  },
  {
   "cell_type": "markdown",
   "id": "401e0809",
   "metadata": {},
   "source": [
    "# Load the gene data\n"
   ]
  },
  {
   "cell_type": "code",
   "execution_count": 6,
   "id": "081a00b6",
   "metadata": {},
   "outputs": [
    {
     "name": "stdout",
     "output_type": "stream",
     "text": [
      "# Load the gene data\n",
      "# make a genes pbt for intersection\n",
      "   chrom  start    end     genename           geneid strand\n",
      "0   chr1  11868  11869      DDX11L1  ENSG00000223972      +\n",
      "12  chr1  29569  29570       WASH7P  ENSG00000227232      -\n",
      "25  chr1  17435  17436    MIR6859-1  ENSG00000278267      -\n",
      "28  chr1  29553  29554  MIR1302-2HG  ENSG00000243485      +\n",
      "36  chr1  30365  30366    MIR1302-2  ENSG00000284332      +\n",
      "\n",
      "There are 58825 genes in this GTF-derived file.\n"
     ]
    }
   ],
   "source": [
    "print('# Load the gene data')\n",
    "\n",
    "# load the gencode coords\n",
    "cols = ['chrom', 'start', 'end', 'strand', 'type', 'geneid', 'genename']\n",
    "gencode = pd.read_table(genes_fn, header=None, names=cols)\n",
    "\n",
    "# extract just the genes\n",
    "genes_df = gencode.loc[gencode.type.isin(['gene'])]\n",
    "genes_df = genes_df.loc[~genes_df.duplicated(subset='geneid'), :]\n",
    "genes_df.loc[:, 'chrom'] = genes_df['chrom'].astype(str)\n",
    "genes_df = genes_df.iloc[:, [0,1,2,6,5,3]]\n",
    "\n",
    "# create a copy of the original gene bed before coordinate shrinking\n",
    "orig_genes_df = genes_df.copy()\n",
    "\n",
    "# convert the start/end position into start/end for the TSS\n",
    "# if the gene is + then the start is uses as the tss otherwise\n",
    "# the end is used as the tss\n",
    "genes_df.loc[(genes_df.strand == '+'), 'end'] = genes_df.loc[(genes_df.strand == '+'), 'start']\n",
    "genes_df.loc[(genes_df.strand == '+'), 'start'] = genes_df.loc[(genes_df.strand == '+'), 'start'] - 1\n",
    "genes_df.loc[(genes_df.strand == '-'), 'end'] = genes_df.loc[(genes_df.strand == '-'), 'end']\n",
    "genes_df.loc[(genes_df.strand == '-'), 'start'] = genes_df.loc[(genes_df.strand == '-'), 'end'] - 1\n",
    "\n",
    "# make a genes pbt for intersection\n",
    "print(\"# make a genes pbt for intersection\")\n",
    "print(genes_df.head())\n",
    "genes_pbt = pbt.BedTool.from_dataframe(genes_df).sort()\n",
    "\n",
    "print('\\nThere are {} genes in this GTF-derived file.'.format(genes_df.shape[0]))"
   ]
  },
  {
   "cell_type": "markdown",
   "id": "8538168a",
   "metadata": {},
   "source": [
    "# Find all genes +/- 500kb of a colocalized SNP"
   ]
  },
  {
   "cell_type": "code",
   "execution_count": 12,
   "id": "e26af376",
   "metadata": {},
   "outputs": [
    {
     "name": "stdout",
     "output_type": "stream",
     "text": [
      "# Find all genes +/- 500kb of a colocalized SNP\n"
     ]
    }
   ],
   "source": [
    "print('# Find all genes +/- 500kb of a colocalized SNP')"
   ]
  },
  {
   "cell_type": "code",
   "execution_count": 7,
   "id": "6411cb3b",
   "metadata": {},
   "outputs": [
    {
     "name": "stdout",
     "output_type": "stream",
     "text": [
      "# Find all genes +/- 1000kb\n",
      "There are 67 colocalized snp-gene pairs within +/- 1000kb.\n"
     ]
    }
   ],
   "source": [
    "slop = 1000000\n",
    "print(\"# Find all genes +/- {}kb\".format(int(slop/1000)))\n",
    "\n",
    "# get a list of gene names within +- 500kb of the SNPs\n",
    "fivekb_genes = coloc_sig_pbt.slop(b=slop, g=gs_fn)\n",
    "fivekb_genes = fivekb_genes.intersect(genes_pbt, wa=True, wb=True)\n",
    "fivekb_genes = fivekb_genes.to_dataframe()\n",
    "fivekb_genes = fivekb_genes.iloc[:, [0,1,2,4,5,6,3,7,8,9]]\n",
    "fivekb_genes.columns = bedpe_6cols + ['rsid', 'genename', 'geneid', 'strand2']\n",
    "fivekb_genes['strand1'] = '+'\n",
    "fivekb_genes['name'] = fivekb_genes['rsid'] + '_' + fivekb_genes['genename']\n",
    "fivekb_genes['score'] = '.'\n",
    "new_order = bedpe_10cols + ['rsid', 'genename', 'geneid']\n",
    "fivekb_genes = fivekb_genes[new_order]\n",
    "\n",
    "fivekb_genes['startA'] += slop\n",
    "fivekb_genes['endA'] -= slop\n",
    "fivekb_genes['sid'] = fivekb_genes['chrA'].str.replace('chr', '') + ':' + fivekb_genes['endA'].astype(str)\n",
    "\n",
    "print('There are {} colocalized snp-gene pairs within +/- 1000kb.'.format(fivekb_genes.shape[0]))"
   ]
  },
  {
   "cell_type": "markdown",
   "id": "50bfa254",
   "metadata": {},
   "source": [
    "# Find the closest gene\n"
   ]
  },
  {
   "cell_type": "code",
   "execution_count": 11,
   "id": "b22fca27",
   "metadata": {},
   "outputs": [
    {
     "name": "stdout",
     "output_type": "stream",
     "text": [
      "# Find the closest gene\n"
     ]
    }
   ],
   "source": [
    "print('# Find the closest gene')"
   ]
  },
  {
   "cell_type": "code",
   "execution_count": 8,
   "id": "2e15ab12",
   "metadata": {},
   "outputs": [
    {
     "name": "stdout",
     "output_type": "stream",
     "text": [
      "# Find the closest gene\n"
     ]
    }
   ],
   "source": [
    "print('# Find the closest gene')\n",
    "closest_gene = coloc_sig_pbt.closest(genes_pbt, d=True)\n",
    "closest_gene = closest_gene.to_dataframe().iloc[:, [0,1,2,4,5,6,3,7,8,9]]\n",
    "closest_gene.columns = bedpe_6cols + ['rsid', 'genename', 'geneid', 'dist']\n",
    "closest_gene['sid'] = closest_gene['chrA'].str.replace('chr', '') + ':' + closest_gene['endA'].astype(str)\n",
    "closest_gene.set_index(['sid', 'geneid'], inplace=True)"
   ]
  },
  {
   "cell_type": "markdown",
   "id": "a314a78d",
   "metadata": {},
   "source": [
    "# Load the H3K27ac HiChIP loops"
   ]
  },
  {
   "cell_type": "code",
   "execution_count": 10,
   "id": "f3e91cb6",
   "metadata": {},
   "outputs": [
    {
     "name": "stdout",
     "output_type": "stream",
     "text": [
      "# Load the H3K27ac HiChIP loops\n"
     ]
    }
   ],
   "source": [
    "print('# Load the H3K27ac HiChIP loops')"
   ]
  },
  {
   "cell_type": "code",
   "execution_count": 9,
   "id": "236279f7",
   "metadata": {},
   "outputs": [
    {
     "name": "stdout",
     "output_type": "stream",
     "text": [
      "# Get the loops\n"
     ]
    },
    {
     "name": "stderr",
     "output_type": "stream",
     "text": [
      "/mnt/BioHome/jreyna/tmp//ipykernel_126971/1175980432.py:6: SettingWithCopyWarning: \n",
      "A value is trying to be set on a copy of a slice from a DataFrame\n",
      "\n",
      "See the caveats in the documentation: https://pandas.pydata.org/pandas-docs/stable/user_guide/indexing.html#returning-a-view-versus-a-copy\n",
      "  tmp_loops.rename(columns={'p': 'score'}, inplace=True)\n",
      "/mnt/BioHome/jreyna/tmp//ipykernel_126971/1175980432.py:7: SettingWithCopyWarning: \n",
      "A value is trying to be set on a copy of a slice from a DataFrame.\n",
      "Try using .loc[row_indexer,col_indexer] = value instead\n",
      "\n",
      "See the caveats in the documentation: https://pandas.pydata.org/pandas-docs/stable/user_guide/indexing.html#returning-a-view-versus-a-copy\n",
      "  tmp_loops.loc[:, 'name'] = '.'\n",
      "/mnt/BioHome/jreyna/tmp//ipykernel_126971/1175980432.py:8: SettingWithCopyWarning: \n",
      "A value is trying to be set on a copy of a slice from a DataFrame.\n",
      "Try using .loc[row_indexer,col_indexer] = value instead\n",
      "\n",
      "See the caveats in the documentation: https://pandas.pydata.org/pandas-docs/stable/user_guide/indexing.html#returning-a-view-versus-a-copy\n",
      "  tmp_loops.loc[:, 'score'] = loops['p']\n",
      "/mnt/BioHome/jreyna/tmp//ipykernel_126971/1175980432.py:9: SettingWithCopyWarning: \n",
      "A value is trying to be set on a copy of a slice from a DataFrame.\n",
      "Try using .loc[row_indexer,col_indexer] = value instead\n",
      "\n",
      "See the caveats in the documentation: https://pandas.pydata.org/pandas-docs/stable/user_guide/indexing.html#returning-a-view-versus-a-copy\n",
      "  tmp_loops.loc[:, 'strand1'] = '.'\n",
      "/mnt/BioHome/jreyna/tmp//ipykernel_126971/1175980432.py:10: SettingWithCopyWarning: \n",
      "A value is trying to be set on a copy of a slice from a DataFrame.\n",
      "Try using .loc[row_indexer,col_indexer] = value instead\n",
      "\n",
      "See the caveats in the documentation: https://pandas.pydata.org/pandas-docs/stable/user_guide/indexing.html#returning-a-view-versus-a-copy\n",
      "  tmp_loops.loc[:, 'strand2'] = '.'\n"
     ]
    },
    {
     "name": "stdout",
     "output_type": "stream",
     "text": [
      "    chr1        s1        e1   chr2        s2        e2 name         score  \\\n",
      "0   chr1    999620   1004620   chr1   1019620   1024620    .  4.851310e-06   \n",
      "1   chr1   1778561   1783561   chr1   3793436   3798436    .  4.646481e-08   \n",
      "2   chr1  26278509  26283509   chr1  26318509  26323509    .  3.598136e-06   \n",
      "3  chr10  44934552  44939552  chr10  44954552  44959552    .  5.488571e-06   \n",
      "4  chr10  44944552  44949552  chr10  44959552  44964552    .  5.173212e-06   \n",
      "\n",
      "  strand1 strand2  \n",
      "0       .       .  \n",
      "1       .       .  \n",
      "2       .       .  \n",
      "3       .       .  \n",
      "4       .       .  \n"
     ]
    }
   ],
   "source": [
    "print('# Get the loops')\n",
    "\n",
    "# load the loop data\n",
    "loops = pd.read_table(loop_fn)\n",
    "tmp_loops = loops[['chr1', 's1', 'e1', 'chr2', 's2', 'e2']]\n",
    "tmp_loops.rename(columns={'p': 'score'}, inplace=True)\n",
    "tmp_loops.loc[:, 'name'] = '.'\n",
    "tmp_loops.loc[:, 'score'] = loops['p']\n",
    "tmp_loops.loc[:, 'strand1'] = '.'\n",
    "tmp_loops.loc[:, 'strand2'] = '.'\n",
    "loops = pbt.BedTool.from_dataframe(tmp_loops)\n",
    "print(tmp_loops.head())"
   ]
  },
  {
   "cell_type": "markdown",
   "id": "75c4f3d0",
   "metadata": {},
   "source": [
    "# Find SNP-Genes overlapping loops (both anchors + single anchor)"
   ]
  },
  {
   "cell_type": "code",
   "execution_count": 9,
   "id": "457ee0fd",
   "metadata": {},
   "outputs": [
    {
     "name": "stdout",
     "output_type": "stream",
     "text": [
      "# Find SNP-Genes overlapping loops (both anchors + single anchor)\n"
     ]
    }
   ],
   "source": [
    "print('# Find SNP-Genes overlapping loops (both anchors + single anchor)')"
   ]
  },
  {
   "cell_type": "markdown",
   "id": "152f32d5",
   "metadata": {},
   "source": [
    "### Find SNP-Gene overlapping a loop (both anchors)"
   ]
  },
  {
   "cell_type": "code",
   "execution_count": 8,
   "id": "f914b9cb",
   "metadata": {},
   "outputs": [
    {
     "name": "stdout",
     "output_type": "stream",
     "text": [
      "### Find SNP-Gene overlapping a loop (both anchors)\n"
     ]
    }
   ],
   "source": [
    "print('### Find SNP-Gene overlapping a loop (both anchors)')"
   ]
  },
  {
   "cell_type": "code",
   "execution_count": 10,
   "id": "dfc9ff74",
   "metadata": {},
   "outputs": [
    {
     "name": "stdout",
     "output_type": "stream",
     "text": [
      "There are 4 SNP-Gene pairs with a loop.\n"
     ]
    }
   ],
   "source": [
    "# re-arranging to fit bedpe format\n",
    "fivekb_gloops = fivekb_genes.copy()\n",
    "\n",
    "# loading into pbt\n",
    "fivekb_gloops = pbt.BedTool.from_dataframe(fivekb_gloops)\n",
    "fivekb_gloops = fivekb_gloops.pair_to_pair(loops, type='both', slop=loop_slop, **{'is':True})\n",
    "fivekb_gloops = fivekb_gloops.to_dataframe(disable_auto_names=True, header=None)\n",
    "\n",
    "if len(fivekb_gloops) > 0:\n",
    "    fivekb_gloops_set = fivekb_gloops.iloc[:, [13,12]]\n",
    "    fivekb_gloops_uniq = set([tuple(x) for x in fivekb_gloops_set.values.tolist()])\n",
    "else:\n",
    "    print('WARNING: Found no overlap between the genes and loops.')\n",
    "    fivekb_gloops_uniq = set()\n",
    "\n",
    "print('There are {} SNP-Gene pairs with a loop.'.format(len(fivekb_gloops_uniq)))"
   ]
  },
  {
   "cell_type": "markdown",
   "id": "5a07aaed",
   "metadata": {},
   "source": [
    "### Find coloc-SNP overlapping an anchor"
   ]
  },
  {
   "cell_type": "code",
   "execution_count": 7,
   "id": "1531ffbb",
   "metadata": {},
   "outputs": [
    {
     "name": "stdout",
     "output_type": "stream",
     "text": [
      "### Find coloc-SNP overlapping an anchor\n"
     ]
    }
   ],
   "source": [
    "print('### Find coloc-SNP overlapping an anchor')"
   ]
  },
  {
   "cell_type": "code",
   "execution_count": 11,
   "id": "3beb710f",
   "metadata": {},
   "outputs": [
    {
     "name": "stdout",
     "output_type": "stream",
     "text": [
      "There are 2 SNPs which overlap a loop anchor.\n"
     ]
    }
   ],
   "source": [
    "colocSNP_anchors = loops.pairtobed(coloc_sig_pbt.slop(b=loop_slop, g=gs_fn), type='either')\n",
    "colocSNP_anchors = colocSNP_anchors.to_dataframe(disable_auto_names=True, header=None)\n",
    "\n",
    "if len(colocSNP_anchors) > 0:\n",
    "    colocSNP_anchors_set = colocSNP_anchors.iloc[:, [10, 12]]\n",
    "    colocSNP_anchors_set = [x[0].replace('chr', '') + ':' + str(x[1]) for x in colocSNP_anchors_set.values.tolist()]\n",
    "else:\n",
    "    print('WARNING: Found no overlap between coloc SNPs and loop anchors.')\n",
    "    colocSNP_anchors_set = set()\n",
    "\n",
    "print('There are {} SNPs which overlap a loop anchor.'.format(len(colocSNP_anchors_set)))"
   ]
  },
  {
   "cell_type": "markdown",
   "id": "fff0d6de",
   "metadata": {},
   "source": [
    "# Construct master table"
   ]
  },
  {
   "cell_type": "code",
   "execution_count": 6,
   "id": "cf5db7c2",
   "metadata": {},
   "outputs": [
    {
     "name": "stdout",
     "output_type": "stream",
     "text": [
      "# Construct master table\n"
     ]
    }
   ],
   "source": [
    "print('# Construct master table')"
   ]
  },
  {
   "cell_type": "code",
   "execution_count": 12,
   "id": "c8af7cb7",
   "metadata": {},
   "outputs": [
    {
     "name": "stdout",
     "output_type": "stream",
     "text": [
      "# Construct master table\n",
      "Master is starting with 67 snp-gene pairs.\n"
     ]
    }
   ],
   "source": [
    "print('# Construct master table')\n",
    "\n",
    "# begin making the master\n",
    "master = fivekb_genes.copy()\n",
    "master['sid'] = master['chrA'].str.replace('chr', '') + ':' + master['endA'].astype(str)\n",
    "\n",
    "print('Master is starting with {} snp-gene pairs.'.format(master.shape[0]))"
   ]
  },
  {
   "cell_type": "markdown",
   "id": "b5e3ddef",
   "metadata": {},
   "source": [
    "#### Add eqtl results "
   ]
  },
  {
   "cell_type": "code",
   "execution_count": 5,
   "id": "3702bb55",
   "metadata": {},
   "outputs": [
    {
     "name": "stdout",
     "output_type": "stream",
     "text": [
      "#### Add eqtl results\n"
     ]
    }
   ],
   "source": [
    "print('#### Add eqtl results')"
   ]
  },
  {
   "cell_type": "code",
   "execution_count": 13,
   "id": "2ea3172d",
   "metadata": {},
   "outputs": [
    {
     "name": "stdout",
     "output_type": "stream",
     "text": [
      "# #### Add eqtl results\n"
     ]
    }
   ],
   "source": [
    "print(\"# #### Add eqtl results\")\n",
    "\n",
    "# get eQTL's\n",
    "eqtls = pd.read_table(eqtl_fn, header=0)#, nrows=1000)\n",
    "#eqtls = eqtls.loc[eqtls.fdr < 0.05]\n",
    "eqtls = eqtls.loc[eqtls.type == 'SNP']\n",
    "eqtls.drop(['molecular_trait_object_id', 'molecular_trait_id', 'type'], axis=1, inplace=True)\n",
    "eqtls_rename_cols = {'chromosome': 'chr',\n",
    "    'position': 'pos',\n",
    "    'ref': 'ref',\n",
    "    'alt': 'alt',\n",
    "    'variant': 'variant',\n",
    "    'ma_samples': 'ma_samples',\n",
    "    'maf': 'maf',\n",
    "    'pvalue': 'eqtl_pval',\n",
    "    'beta': 'eqtl_beta',\n",
    "    'se': 'eqtl_slop_se',\n",
    "    'ac': 'ac',\n",
    "    'an': 'an',\n",
    "    'r2': 'r2',\n",
    "    'gene_id': 'geneid',\n",
    "    'median_tpm': 'median_tpm',\n",
    "    'rsid': 'rsid',\n",
    "    'dist': 'dist',\n",
    "    'fdr': 'eqtl_fdr'}\n",
    "eqtls.rename(columns=eqtls_rename_cols, inplace=True)\n",
    "eqtls['sid'] = eqtls['chr'].astype(str) + ':' + eqtls['pos'].astype(str)\n",
    "eqtls['is_eqtl_pair'] = -1 # add column to filter on eqtl snp status\n",
    "eqtls.loc[(eqtls['eqtl_fdr'] < 0.05), 'is_eqtl_pair'] = 1\n",
    "eqtls.loc[(eqtls['eqtl_fdr'] > 0.05), 'is_eqtl_pair'] = 0"
   ]
  },
  {
   "cell_type": "code",
   "execution_count": 14,
   "id": "e1b1821e",
   "metadata": {},
   "outputs": [
    {
     "name": "stdout",
     "output_type": "stream",
     "text": [
      "There are 869555 eQTLs.\n"
     ]
    }
   ],
   "source": [
    "print('There are {} eQTLs.'.format(eqtls.shape[0]))\n",
    "\n",
    "# need to use outer or else you exclude some eQTL's\n",
    "master = master.merge(eqtls, on=['sid', 'geneid'], how='left')"
   ]
  },
  {
   "cell_type": "code",
   "execution_count": 15,
   "id": "a7ce08fc",
   "metadata": {},
   "outputs": [
    {
     "name": "stdout",
     "output_type": "stream",
     "text": [
      "After outer merging with eqtls, master has 67 snp-gene pairs.\n"
     ]
    },
    {
     "name": "stderr",
     "output_type": "stream",
     "text": [
      "/mnt/BioHome/jreyna/tmp//ipykernel_126971/2020375761.py:9: FutureWarning: The default value of regex will change from True to False in a future version.\n",
      "  master.loc[master.chrA.isna(), 'chrA'] = 'chr' + master.loc[master.chrA.isna(), 'sid'].str.replace(':[0-9]+', '')\n",
      "/mnt/BioHome/jreyna/tmp//ipykernel_126971/2020375761.py:10: FutureWarning: The default value of regex will change from True to False in a future version.\n",
      "  master.loc[master.chrB.isna(), 'chrB'] = 'chr' + master.loc[master.chrB.isna(), 'sid'].str.replace(':[0-9]+', '')\n",
      "/mnt/BioHome/jreyna/tmp//ipykernel_126971/2020375761.py:11: FutureWarning: The default value of regex will change from True to False in a future version.\n",
      "  master.loc[master.startA.isna(), 'startA'] = (master.loc[master.startA.isna(), 'sid'].str.replace('[0-9]+:', '')).astype(int)\n",
      "/mnt/BioHome/jreyna/tmp//ipykernel_126971/2020375761.py:13: FutureWarning: The default value of regex will change from True to False in a future version.\n",
      "  master.loc[master.endA.isna(), 'endA'] = master.loc[master.endA.isna(), 'sid'].str.replace('[0-9]+:', '')\n"
     ]
    }
   ],
   "source": [
    "# update eqtl snp status\n",
    "master.loc[master.is_eqtl_pair.isna(), 'is_eqtl_pair' ] = 0 \n",
    "master.loc[:, 'is_eqtl_pair'] = master.loc[:, 'is_eqtl_pair'].astype(int)\n",
    "\n",
    "# add gene names to entries with a missing name (after adding eQTL info)\n",
    "master.loc[master.genename.isna(), 'genename'] = master.loc[master.genename.isna(), 'geneid']\n",
    "\n",
    "# add missing chrA, chrB, startA and endA data for the eQTL rows\n",
    "master.loc[master.chrA.isna(), 'chrA'] = 'chr' + master.loc[master.chrA.isna(), 'sid'].str.replace(':[0-9]+', '')\n",
    "master.loc[master.chrB.isna(), 'chrB'] = 'chr' + master.loc[master.chrB.isna(), 'sid'].str.replace(':[0-9]+', '')\n",
    "master.loc[master.startA.isna(), 'startA'] = (master.loc[master.startA.isna(), 'sid'].str.replace('[0-9]+:', '')).astype(int)\n",
    "master.loc[master.startA.isna(), 'startA'] -= 1     \n",
    "master.loc[master.endA.isna(), 'endA'] = master.loc[master.endA.isna(), 'sid'].str.replace('[0-9]+:', '')\n",
    "\n",
    "print('After outer merging with eqtls, master has {} snp-gene pairs.'.format(master.shape[0]))"
   ]
  },
  {
   "cell_type": "markdown",
   "id": "f495c29f",
   "metadata": {},
   "source": [
    "### Add gene meta data "
   ]
  },
  {
   "cell_type": "code",
   "execution_count": 4,
   "id": "7bf5b26e",
   "metadata": {},
   "outputs": [
    {
     "name": "stdout",
     "output_type": "stream",
     "text": [
      "### Add gene meta data\n"
     ]
    }
   ],
   "source": [
    "print('### Add gene meta data')"
   ]
  },
  {
   "cell_type": "code",
   "execution_count": 16,
   "id": "07dd6889",
   "metadata": {},
   "outputs": [],
   "source": [
    "#master.loc[~master.geneid.isna(), 'geneid'] = master.loc[~master.geneid.isna(), 'geneid']\n",
    "\n",
    "# add back the original gene start and end\n",
    "master = master.merge(orig_genes_df[['start', 'end', 'geneid', 'strand']],\n",
    "                      on='geneid', how='left')\n",
    "\n",
    "# convert the startB/endB position into startB/endB for the TSS\n",
    "# if the gene is + then the startB is uses as the tss otherwise\n",
    "# the endB is used as the tss\n",
    "master.loc[(master.strand == '+'), 'endB'] = master.loc[(master.strand == '+'), 'start']\n",
    "master.loc[(master.strand == '+'), 'startB'] = master.loc[(master.strand == '+'), 'start'] - 1\n",
    "\n",
    "master.loc[(master.strand == '-'), 'endB'] = master.loc[(master.strand == '-'), 'end']\n",
    "master.loc[(master.strand == '-'), 'startB'] = master.loc[(master.strand == '-'), 'end'] - 1\n",
    "\n",
    "# convert the coordinates from floats to ints\n",
    "master.startA = master.startA.astype(int)\n",
    "master.startB = master.startB.astype(int)\n",
    "master.endA = master.endA.astype(int)\n",
    "master.endB = master.endB.astype(int)\n",
    "\n",
    "master.rename(columns={'start': 'gene_start', 'end': 'gene_end', 'strand': 'gene_strand'}, inplace=True)"
   ]
  },
  {
   "cell_type": "code",
   "execution_count": 17,
   "id": "5ed942b5",
   "metadata": {},
   "outputs": [
    {
     "data": {
      "text/html": [
       "<div>\n",
       "<style scoped>\n",
       "    .dataframe tbody tr th:only-of-type {\n",
       "        vertical-align: middle;\n",
       "    }\n",
       "\n",
       "    .dataframe tbody tr th {\n",
       "        vertical-align: top;\n",
       "    }\n",
       "\n",
       "    .dataframe thead th {\n",
       "        text-align: right;\n",
       "    }\n",
       "</style>\n",
       "<table border=\"1\" class=\"dataframe\">\n",
       "  <thead>\n",
       "    <tr style=\"text-align: right;\">\n",
       "      <th></th>\n",
       "      <th>chrA</th>\n",
       "      <th>startA</th>\n",
       "      <th>endA</th>\n",
       "      <th>chrB</th>\n",
       "      <th>startB</th>\n",
       "      <th>endB</th>\n",
       "      <th>name</th>\n",
       "      <th>score</th>\n",
       "      <th>strand1</th>\n",
       "      <th>strand2</th>\n",
       "      <th>...</th>\n",
       "      <th>an</th>\n",
       "      <th>r2</th>\n",
       "      <th>median_tpm</th>\n",
       "      <th>rsid_y</th>\n",
       "      <th>dist</th>\n",
       "      <th>eqtl_fdr</th>\n",
       "      <th>is_eqtl_pair</th>\n",
       "      <th>gene_start</th>\n",
       "      <th>gene_end</th>\n",
       "      <th>gene_strand</th>\n",
       "    </tr>\n",
       "  </thead>\n",
       "  <tbody>\n",
       "    <tr>\n",
       "      <th>0</th>\n",
       "      <td>chr2</td>\n",
       "      <td>162368010</td>\n",
       "      <td>162368011</td>\n",
       "      <td>chr2</td>\n",
       "      <td>161409553</td>\n",
       "      <td>161409554</td>\n",
       "      <td>rs984971_RNA5SP108</td>\n",
       "      <td>.</td>\n",
       "      <td>+</td>\n",
       "      <td>+</td>\n",
       "      <td>...</td>\n",
       "      <td>NaN</td>\n",
       "      <td>NaN</td>\n",
       "      <td>NaN</td>\n",
       "      <td>NaN</td>\n",
       "      <td>NaN</td>\n",
       "      <td>NaN</td>\n",
       "      <td>0</td>\n",
       "      <td>161409554</td>\n",
       "      <td>161409670</td>\n",
       "      <td>+</td>\n",
       "    </tr>\n",
       "    <tr>\n",
       "      <th>1</th>\n",
       "      <td>chr2</td>\n",
       "      <td>162368010</td>\n",
       "      <td>162368011</td>\n",
       "      <td>chr2</td>\n",
       "      <td>161416296</td>\n",
       "      <td>161416297</td>\n",
       "      <td>rs984971_TBR1</td>\n",
       "      <td>.</td>\n",
       "      <td>+</td>\n",
       "      <td>+</td>\n",
       "      <td>...</td>\n",
       "      <td>NaN</td>\n",
       "      <td>NaN</td>\n",
       "      <td>NaN</td>\n",
       "      <td>NaN</td>\n",
       "      <td>NaN</td>\n",
       "      <td>NaN</td>\n",
       "      <td>0</td>\n",
       "      <td>161416297</td>\n",
       "      <td>161425870</td>\n",
       "      <td>+</td>\n",
       "    </tr>\n",
       "    <tr>\n",
       "      <th>2</th>\n",
       "      <td>chr2</td>\n",
       "      <td>162368010</td>\n",
       "      <td>162368011</td>\n",
       "      <td>chr2</td>\n",
       "      <td>161423576</td>\n",
       "      <td>161423577</td>\n",
       "      <td>rs984971_AC009487.1</td>\n",
       "      <td>.</td>\n",
       "      <td>+</td>\n",
       "      <td>-</td>\n",
       "      <td>...</td>\n",
       "      <td>NaN</td>\n",
       "      <td>NaN</td>\n",
       "      <td>NaN</td>\n",
       "      <td>NaN</td>\n",
       "      <td>NaN</td>\n",
       "      <td>NaN</td>\n",
       "      <td>0</td>\n",
       "      <td>161422659</td>\n",
       "      <td>161423577</td>\n",
       "      <td>-</td>\n",
       "    </tr>\n",
       "    <tr>\n",
       "      <th>3</th>\n",
       "      <td>chr2</td>\n",
       "      <td>162368010</td>\n",
       "      <td>162368011</td>\n",
       "      <td>chr2</td>\n",
       "      <td>161424014</td>\n",
       "      <td>161424015</td>\n",
       "      <td>rs984971_AC009487.3</td>\n",
       "      <td>.</td>\n",
       "      <td>+</td>\n",
       "      <td>+</td>\n",
       "      <td>...</td>\n",
       "      <td>NaN</td>\n",
       "      <td>NaN</td>\n",
       "      <td>NaN</td>\n",
       "      <td>NaN</td>\n",
       "      <td>NaN</td>\n",
       "      <td>NaN</td>\n",
       "      <td>0</td>\n",
       "      <td>161424015</td>\n",
       "      <td>161428774</td>\n",
       "      <td>+</td>\n",
       "    </tr>\n",
       "    <tr>\n",
       "      <th>4</th>\n",
       "      <td>chr2</td>\n",
       "      <td>162368010</td>\n",
       "      <td>162368011</td>\n",
       "      <td>chr2</td>\n",
       "      <td>161424331</td>\n",
       "      <td>161424332</td>\n",
       "      <td>rs984971_SLC4A10</td>\n",
       "      <td>.</td>\n",
       "      <td>+</td>\n",
       "      <td>+</td>\n",
       "      <td>...</td>\n",
       "      <td>396.0</td>\n",
       "      <td>0.99900</td>\n",
       "      <td>0.414</td>\n",
       "      <td>rs984971</td>\n",
       "      <td>943679.0</td>\n",
       "      <td>0.878739</td>\n",
       "      <td>0</td>\n",
       "      <td>161424332</td>\n",
       "      <td>161985282</td>\n",
       "      <td>+</td>\n",
       "    </tr>\n",
       "    <tr>\n",
       "      <th>...</th>\n",
       "      <td>...</td>\n",
       "      <td>...</td>\n",
       "      <td>...</td>\n",
       "      <td>...</td>\n",
       "      <td>...</td>\n",
       "      <td>...</td>\n",
       "      <td>...</td>\n",
       "      <td>...</td>\n",
       "      <td>...</td>\n",
       "      <td>...</td>\n",
       "      <td>...</td>\n",
       "      <td>...</td>\n",
       "      <td>...</td>\n",
       "      <td>...</td>\n",
       "      <td>...</td>\n",
       "      <td>...</td>\n",
       "      <td>...</td>\n",
       "      <td>...</td>\n",
       "      <td>...</td>\n",
       "      <td>...</td>\n",
       "      <td>...</td>\n",
       "    </tr>\n",
       "    <tr>\n",
       "      <th>62</th>\n",
       "      <td>chr9</td>\n",
       "      <td>4296429</td>\n",
       "      <td>4296430</td>\n",
       "      <td>chr9</td>\n",
       "      <td>5110912</td>\n",
       "      <td>5110913</td>\n",
       "      <td>rs10814917_TCF3P1</td>\n",
       "      <td>.</td>\n",
       "      <td>+</td>\n",
       "      <td>+</td>\n",
       "      <td>...</td>\n",
       "      <td>NaN</td>\n",
       "      <td>NaN</td>\n",
       "      <td>NaN</td>\n",
       "      <td>NaN</td>\n",
       "      <td>NaN</td>\n",
       "      <td>NaN</td>\n",
       "      <td>0</td>\n",
       "      <td>5110913</td>\n",
       "      <td>5112849</td>\n",
       "      <td>+</td>\n",
       "    </tr>\n",
       "    <tr>\n",
       "      <th>63</th>\n",
       "      <td>chr9</td>\n",
       "      <td>4296429</td>\n",
       "      <td>4296430</td>\n",
       "      <td>chr9</td>\n",
       "      <td>5113548</td>\n",
       "      <td>5113549</td>\n",
       "      <td>rs10814917_IGHEP2</td>\n",
       "      <td>.</td>\n",
       "      <td>+</td>\n",
       "      <td>+</td>\n",
       "      <td>...</td>\n",
       "      <td>NaN</td>\n",
       "      <td>NaN</td>\n",
       "      <td>NaN</td>\n",
       "      <td>NaN</td>\n",
       "      <td>NaN</td>\n",
       "      <td>NaN</td>\n",
       "      <td>0</td>\n",
       "      <td>5113549</td>\n",
       "      <td>5114804</td>\n",
       "      <td>+</td>\n",
       "    </tr>\n",
       "    <tr>\n",
       "      <th>64</th>\n",
       "      <td>chr9</td>\n",
       "      <td>4296429</td>\n",
       "      <td>4296430</td>\n",
       "      <td>chr9</td>\n",
       "      <td>5185646</td>\n",
       "      <td>5185647</td>\n",
       "      <td>rs10814917_INSL6</td>\n",
       "      <td>.</td>\n",
       "      <td>+</td>\n",
       "      <td>-</td>\n",
       "      <td>...</td>\n",
       "      <td>396.0</td>\n",
       "      <td>0.99663</td>\n",
       "      <td>2.363</td>\n",
       "      <td>rs10814917</td>\n",
       "      <td>889217.0</td>\n",
       "      <td>0.990013</td>\n",
       "      <td>0</td>\n",
       "      <td>5123880</td>\n",
       "      <td>5185647</td>\n",
       "      <td>-</td>\n",
       "    </tr>\n",
       "    <tr>\n",
       "      <th>65</th>\n",
       "      <td>chr9</td>\n",
       "      <td>4296429</td>\n",
       "      <td>4296430</td>\n",
       "      <td>chr9</td>\n",
       "      <td>5193557</td>\n",
       "      <td>5193558</td>\n",
       "      <td>rs10814917_AL133547.1</td>\n",
       "      <td>.</td>\n",
       "      <td>+</td>\n",
       "      <td>-</td>\n",
       "      <td>...</td>\n",
       "      <td>NaN</td>\n",
       "      <td>NaN</td>\n",
       "      <td>NaN</td>\n",
       "      <td>NaN</td>\n",
       "      <td>NaN</td>\n",
       "      <td>NaN</td>\n",
       "      <td>0</td>\n",
       "      <td>5193339</td>\n",
       "      <td>5193558</td>\n",
       "      <td>-</td>\n",
       "    </tr>\n",
       "    <tr>\n",
       "      <th>66</th>\n",
       "      <td>chr9</td>\n",
       "      <td>4296429</td>\n",
       "      <td>4296430</td>\n",
       "      <td>chr9</td>\n",
       "      <td>5231418</td>\n",
       "      <td>5231419</td>\n",
       "      <td>rs10814917_INSL4</td>\n",
       "      <td>.</td>\n",
       "      <td>+</td>\n",
       "      <td>+</td>\n",
       "      <td>...</td>\n",
       "      <td>396.0</td>\n",
       "      <td>0.99663</td>\n",
       "      <td>0.450</td>\n",
       "      <td>rs10814917</td>\n",
       "      <td>934989.0</td>\n",
       "      <td>0.904434</td>\n",
       "      <td>0</td>\n",
       "      <td>5231419</td>\n",
       "      <td>5235304</td>\n",
       "      <td>+</td>\n",
       "    </tr>\n",
       "  </tbody>\n",
       "</table>\n",
       "<p>67 rows × 35 columns</p>\n",
       "</div>"
      ],
      "text/plain": [
       "    chrA     startA       endA  chrB     startB       endB  \\\n",
       "0   chr2  162368010  162368011  chr2  161409553  161409554   \n",
       "1   chr2  162368010  162368011  chr2  161416296  161416297   \n",
       "2   chr2  162368010  162368011  chr2  161423576  161423577   \n",
       "3   chr2  162368010  162368011  chr2  161424014  161424015   \n",
       "4   chr2  162368010  162368011  chr2  161424331  161424332   \n",
       "..   ...        ...        ...   ...        ...        ...   \n",
       "62  chr9    4296429    4296430  chr9    5110912    5110913   \n",
       "63  chr9    4296429    4296430  chr9    5113548    5113549   \n",
       "64  chr9    4296429    4296430  chr9    5185646    5185647   \n",
       "65  chr9    4296429    4296430  chr9    5193557    5193558   \n",
       "66  chr9    4296429    4296430  chr9    5231418    5231419   \n",
       "\n",
       "                     name score strand1 strand2  ...     an       r2  \\\n",
       "0      rs984971_RNA5SP108     .       +       +  ...    NaN      NaN   \n",
       "1           rs984971_TBR1     .       +       +  ...    NaN      NaN   \n",
       "2     rs984971_AC009487.1     .       +       -  ...    NaN      NaN   \n",
       "3     rs984971_AC009487.3     .       +       +  ...    NaN      NaN   \n",
       "4        rs984971_SLC4A10     .       +       +  ...  396.0  0.99900   \n",
       "..                    ...   ...     ...     ...  ...    ...      ...   \n",
       "62      rs10814917_TCF3P1     .       +       +  ...    NaN      NaN   \n",
       "63      rs10814917_IGHEP2     .       +       +  ...    NaN      NaN   \n",
       "64       rs10814917_INSL6     .       +       -  ...  396.0  0.99663   \n",
       "65  rs10814917_AL133547.1     .       +       -  ...    NaN      NaN   \n",
       "66       rs10814917_INSL4     .       +       +  ...  396.0  0.99663   \n",
       "\n",
       "   median_tpm      rsid_y      dist  eqtl_fdr is_eqtl_pair gene_start  \\\n",
       "0         NaN         NaN       NaN       NaN            0  161409554   \n",
       "1         NaN         NaN       NaN       NaN            0  161416297   \n",
       "2         NaN         NaN       NaN       NaN            0  161422659   \n",
       "3         NaN         NaN       NaN       NaN            0  161424015   \n",
       "4       0.414    rs984971  943679.0  0.878739            0  161424332   \n",
       "..        ...         ...       ...       ...          ...        ...   \n",
       "62        NaN         NaN       NaN       NaN            0    5110913   \n",
       "63        NaN         NaN       NaN       NaN            0    5113549   \n",
       "64      2.363  rs10814917  889217.0  0.990013            0    5123880   \n",
       "65        NaN         NaN       NaN       NaN            0    5193339   \n",
       "66      0.450  rs10814917  934989.0  0.904434            0    5231419   \n",
       "\n",
       "     gene_end  gene_strand  \n",
       "0   161409670            +  \n",
       "1   161425870            +  \n",
       "2   161423577            -  \n",
       "3   161428774            +  \n",
       "4   161985282            +  \n",
       "..        ...          ...  \n",
       "62    5112849            +  \n",
       "63    5114804            +  \n",
       "64    5185647            -  \n",
       "65    5193558            -  \n",
       "66    5235304            +  \n",
       "\n",
       "[67 rows x 35 columns]"
      ]
     },
     "execution_count": 17,
     "metadata": {},
     "output_type": "execute_result"
    }
   ],
   "source": [
    "master"
   ]
  },
  {
   "cell_type": "markdown",
   "id": "28e8ca3f",
   "metadata": {},
   "source": [
    "### Add info about closests gene"
   ]
  },
  {
   "cell_type": "code",
   "execution_count": 3,
   "id": "506b08d2",
   "metadata": {},
   "outputs": [
    {
     "name": "stdout",
     "output_type": "stream",
     "text": [
      "### Add info about closests gene\n"
     ]
    }
   ],
   "source": [
    "print('### Add info about closests gene')"
   ]
  },
  {
   "cell_type": "code",
   "execution_count": 18,
   "id": "f2802775",
   "metadata": {},
   "outputs": [
    {
     "name": "stdout",
     "output_type": "stream",
     "text": [
      "# #### Add info about closests gene\n",
      "Found 2 closest genes.\n"
     ]
    }
   ],
   "source": [
    "print(\"# #### Add info about closests gene\")\n",
    "\n",
    "# check for the closets gene\n",
    "closets_check = [0] * master.shape[0]\n",
    "for i, sr in master.iterrows():\n",
    "    rs_gene = (sr.sid, sr.geneid)\n",
    "    if rs_gene in closest_gene.index:\n",
    "        closets_check[i] = 1\n",
    "master['is_closest_gene'] = closets_check\n",
    "print('Found {} closest genes.'.format(sum(master['is_closest_gene'])))"
   ]
  },
  {
   "cell_type": "markdown",
   "id": "77139b44",
   "metadata": {},
   "source": [
    "### Add colocalization data"
   ]
  },
  {
   "cell_type": "code",
   "execution_count": 2,
   "id": "a172900e",
   "metadata": {},
   "outputs": [
    {
     "name": "stdout",
     "output_type": "stream",
     "text": [
      "### Add colocalization data\n"
     ]
    }
   ],
   "source": [
    "print('### Add colocalization data')"
   ]
  },
  {
   "cell_type": "code",
   "execution_count": 19,
   "id": "932b137c",
   "metadata": {},
   "outputs": [
    {
     "name": "stderr",
     "output_type": "stream",
     "text": [
      "/mnt/BioHome/jreyna/tmp//ipykernel_126971/3064851252.py:23: SettingWithCopyWarning: \n",
      "A value is trying to be set on a copy of a slice from a DataFrame.\n",
      "Try using .loc[row_indexer,col_indexer] = value instead\n",
      "\n",
      "See the caveats in the documentation: https://pandas.pydata.org/pandas-docs/stable/user_guide/indexing.html#returning-a-view-versus-a-copy\n",
      "  tmp_coloc['sid'] = tmp_coloc['chr'].str.replace('chr', '') + ':' +  tmp_coloc['pos'].astype(str) # NEW\n"
     ]
    }
   ],
   "source": [
    "# add colocalization data for SNP and is_coloc_snp columns\n",
    "tmp_coloc = coloc_sig_full[['chr', 'pos',\n",
    " 'ppH0',\n",
    " 'ppH1',\n",
    " 'ppH2',\n",
    " 'ppH3',\n",
    " 'ppH4',\n",
    " 'rsid',\n",
    " 'geneid',                       \n",
    " 'ref',\n",
    " 'alt',\n",
    " 'AC',\n",
    " 'AF',\n",
    " 'AN',\n",
    " 'gwas_slope',\n",
    " 'gwas_slope_se',\n",
    " 'gwas_pval',\n",
    " 'sample_size']]\n",
    "# tmp_coloc.rename(columns={'slope_gwas': 'gwas_slope',\n",
    "#                           'slope_se_gwas': 'gwas_slope_se',\n",
    "#                           'pval_nominal': 'gwas_pval_nominal',\n",
    "#                           'geneName': 'genename'}, inplace=True)\n",
    "tmp_coloc['sid'] = tmp_coloc['chr'].str.replace('chr', '') + ':' +  tmp_coloc['pos'].astype(str) # NEW\n",
    "master = master.merge(tmp_coloc, on=['sid', 'geneid'], how='left')"
   ]
  },
  {
   "cell_type": "markdown",
   "id": "fd09d082",
   "metadata": {},
   "source": [
    "### Add column to filter on coloc snp status"
   ]
  },
  {
   "cell_type": "code",
   "execution_count": 1,
   "id": "18d88794",
   "metadata": {},
   "outputs": [
    {
     "name": "stdout",
     "output_type": "stream",
     "text": [
      "### Add column to filter on coloc snp status\n"
     ]
    }
   ],
   "source": [
    "print('### Add column to filter on coloc snp status')"
   ]
  },
  {
   "cell_type": "code",
   "execution_count": 20,
   "id": "429b2c09",
   "metadata": {},
   "outputs": [
    {
     "name": "stdout",
     "output_type": "stream",
     "text": [
      "After left merging master with the colocalization table there are 67 entries.\n",
      "Checking if I have the correct number of colocalized SNPs: before 2; after 2.\n"
     ]
    }
   ],
   "source": [
    "master['is_coloc_pair'] = (~master['ppH4'].isna()).astype(int)\n",
    "\n",
    "print('After left merging master with the colocalization table there are {} entries.'.format(master.shape[0]))\n",
    "after_cnt = sum(master['is_coloc_pair'])\n",
    "print('Checking if I have the correct number of colocalized SNPs: before {}; after {}.'.\\\n",
    "      format(coloc_sig_df.shape[0], after_cnt))"
   ]
  },
  {
   "cell_type": "markdown",
   "id": "1733abce",
   "metadata": {},
   "source": [
    "### Add loop data"
   ]
  },
  {
   "cell_type": "code",
   "execution_count": null,
   "id": "f85348b9",
   "metadata": {},
   "outputs": [],
   "source": [
    "print('### Add loop data')"
   ]
  },
  {
   "cell_type": "code",
   "execution_count": 21,
   "id": "c98c11a7",
   "metadata": {},
   "outputs": [
    {
     "name": "stdout",
     "output_type": "stream",
     "text": [
      "# #### Add loop data\n",
      "There are 4 SNP-Gene loops.\n"
     ]
    }
   ],
   "source": [
    "print('# #### Add loop data')\n",
    "\n",
    "# check for the loop gene\n",
    "loop_check = [0] * master.shape[0]\n",
    "for i, sr in master.iterrows():\n",
    "\n",
    "    # check closest gene\n",
    "    rs_gene = (sr.sid, sr.geneid)\n",
    "    if rs_gene in fivekb_gloops_uniq:\n",
    "        loop_check[i] = 1       \n",
    "\n",
    "master['has_fithichip_loop'] = loop_check\n",
    "print('There are {} SNP-Gene loops.'.format(sum(loop_check)))"
   ]
  },
  {
   "cell_type": "markdown",
   "id": "da98c111",
   "metadata": {},
   "source": [
    "### Add coloc-snp boolean column"
   ]
  },
  {
   "cell_type": "code",
   "execution_count": null,
   "id": "8b981083",
   "metadata": {},
   "outputs": [],
   "source": [
    "print('Add coloc-snp boolean column')"
   ]
  },
  {
   "cell_type": "code",
   "execution_count": 22,
   "id": "a0f2671a",
   "metadata": {},
   "outputs": [
    {
     "name": "stdout",
     "output_type": "stream",
     "text": [
      "There are 0 coloc-SNP anchors.\n"
     ]
    }
   ],
   "source": [
    "master['has_colocSNP_anchor'] = master.sid.isin(colocSNP_anchors_set).astype(int)\n",
    "print('There are {} coloc-SNP anchors.'.format(sum(master['has_colocSNP_anchor'])))"
   ]
  },
  {
   "cell_type": "code",
   "execution_count": 23,
   "id": "06c98a84",
   "metadata": {},
   "outputs": [],
   "source": [
    "# #### Do the final reordering and saving\n",
    "\n",
    "# Include PC HiC data when it's available\n",
    "final_cols = ['sid', \n",
    "    'rsid',\n",
    "    'geneid',\n",
    "    'genename',\n",
    "    'chrA',\n",
    "    'endA',\n",
    "    'startB',\n",
    "    'endB',\n",
    "    'is_eqtl_pair',\n",
    "    'is_coloc_pair',\n",
    "    'is_closest_gene',\n",
    "    'has_fithichip_loop',\n",
    "    'has_colocSNP_anchor',\n",
    "    'eqtl_pval', \n",
    "    'eqtl_beta', \n",
    "     #'eqtl_fdr',\n",
    "    'dist',\n",
    "    'ppH0',\n",
    "    'ppH1',\n",
    "    'ppH2',\n",
    "    'ppH3',\n",
    "    'ppH4',\n",
    "    'gene_start',\n",
    "    'gene_end',\n",
    "    'ref_x', \n",
    "    'alt_x',\n",
    "    'AC',\n",
    "    'AF',\n",
    "    'AN',\n",
    "    'gwas_slope',\n",
    "    'gwas_slope_se',\n",
    "    'gwas_pval',\n",
    "    'sample_size',\n",
    "    'gene_start', 'gene_end', 'gene_strand']\n",
    "\n",
    "master = master[final_cols]\n",
    "master.rename(columns={'chrA':'chrom',\n",
    "                       'endA': 'snp_pos',\n",
    "                       'ref_x': 'ref',\n",
    "                       'alt_x': 'alt',\n",
    "                       'startB': 'tss_start',\n",
    "                       'endB': 'tss_end',\n",
    "                       'genename': 'gene_name',\n",
    "                       'geneid': 'geneid',\n",
    "                       'pp_H0_Coloc_Summary': 'ppH0',\n",
    "                       'pp_H1_Coloc_Summary': 'ppH1',\n",
    "                       'pp_H2_Coloc_Summary': 'ppH2',\n",
    "                       'pp_H3_Coloc_Summary': 'ppH3',\n",
    "                       'pp_H4_Coloc_Summary': 'ppH4',\n",
    "                       'pvalue': 'eqtl_pval',\n",
    "                       'beta': 'eqtl_beta',\n",
    "                       'fdr': 'eqtl_fdr',\n",
    "                       'gwas_pval_nominal': 'gwas_pval'}, inplace=True)\n",
    "\n",
    "master.sort_values(['chrom', 'snp_pos', 'tss_start', 'rsid'], inplace=True)\n",
    "master.snp_pos = master.snp_pos.astype(int)\n",
    "\n",
    "# write out the master data\n",
    "fn = os.path.join(outdir, 'master.tsv')\n",
    "os.makedirs(outdir, exist_ok=True)\n",
    "master.to_csv(fn, sep='\\t', header=True, index=False)\n",
    "\n",
    "#fn = os.path.join(outdir, 'master.xlsx')\n",
    "#excel_master = master.sort_values('rsid').set_index('rsid')\n",
    "#excel_master.to_excel(fn, na_rep='nan')"
   ]
  },
  {
   "cell_type": "raw",
   "id": "0214feb5",
   "metadata": {},
   "source": [
    "master"
   ]
  },
  {
   "cell_type": "raw",
   "id": "479e81e5",
   "metadata": {},
   "source": [
    "master[master.is_eqtl_pair == 1].head()"
   ]
  },
  {
   "cell_type": "raw",
   "id": "d82749f9",
   "metadata": {},
   "source": [
    "master[master.is_coloc_pair == 1].head()"
   ]
  },
  {
   "cell_type": "raw",
   "id": "83d94c3f",
   "metadata": {},
   "source": [
    "master[master.has_colocSNP_anchor == 1].head()"
   ]
  },
  {
   "cell_type": "raw",
   "id": "e2e7c40d",
   "metadata": {},
   "source": [
    "master[master.has_fithichip_loop == 1].head()"
   ]
  },
  {
   "cell_type": "raw",
   "id": "797a5feb",
   "metadata": {},
   "source": [
    "#########################################################################################\n",
    "# Make WashU files \n",
    "#########################################################################################\n",
    "\n",
    "def bedpe_to_WashU_longrange(fn, df):\n",
    "    \"\"\"\n",
    "       Convert from a loop bedpe file into WashU longrange, \n",
    "       includes bgzip and tabix of the fn. \n",
    "       \n",
    "       Params\n",
    "       -------\n",
    "       fn: str\n",
    "           path to the longrange output file (without gz)\n",
    "           \n",
    "       df: dataframe\n",
    "           columns 1-6 are as expected and column 7 is the p or q-value. \n",
    "           \n",
    "       Output\n",
    "       ------\n",
    "       gzfn: str\n",
    "           path to the longrange with bgzip compression\n",
    "       tabix_fn: str\n",
    "           path to the index of the longrange file\n",
    "           \n",
    "   \"\"\"\n",
    "\n",
    "    # parsing the data into WashU longrage format\n",
    "    data = []\n",
    "    for sr in df.values.tolist():\n",
    "\n",
    "        # calculate the -log(FDR)\n",
    "        qval = -np.log(sr[6])\n",
    "\n",
    "        # get the first pair data\n",
    "        second_pair_str = '{}:{}-{},{:.5f}'.format(*sr[3:6], qval)\n",
    "        first_row = sr[0:3] + [second_pair_str]\n",
    "\n",
    "        # get the second pair data\n",
    "        first_pair_str = '{}:{}-{},{:.5f}'.format(*sr[0:3], qval)\n",
    "        second_row = sr[3:6] + [first_pair_str]\n",
    "\n",
    "        # add each data row\n",
    "        data.append(first_row)\n",
    "        data.append(second_row)\n",
    "\n",
    "    data = sorted(data, key=lambda x: (x[0], x[1], x[2]))\n",
    "\n",
    "    # writing out the data\n",
    "    with open(fn, 'w') as f:\n",
    "        for line in data:\n",
    "            info = [str(x) for x in line]\n",
    "            info = '\\t'.join(info)\n",
    "            f.write(info + '\\n')\n",
    "           \n",
    "    # run bgzip\n",
    "    cmd = '{} {}'.format(bgzip, fn)\n",
    "    print(cmd)\n",
    "    job = sp.Popen(cmd, stderr=sp.PIPE,stdout=sp.PIPE, shell=True)\n",
    "\n",
    "    out, err = job.communicate()\n",
    "    print('out:', out.decode())\n",
    "    print('err:', err.decode())\n",
    "\n",
    "    # run tabix\n",
    "    lrange_gzfn = fn + '.gz'\n",
    "    cmd = '{} -f {}'.format(tabix, lrange_gzfn)\n",
    "    print(cmd)\n",
    "    job = sp.Popen(cmd, stderr=sp.PIPE,stdout=sp.PIPE, shell=True)\n",
    "\n",
    "    out, err = job.communicate()\n",
    "    print('out:', out.decode())\n",
    "    print('err:', err.decode())\n",
    "\n",
    "    print('Created the gzfn: {}'.format(fn + '.gz'))\n",
    "    print('Created the tabix: {}'.format(fn + '.gz.tbi'))\n",
    "\n",
    "def bed_WashU_bedgz(fn, df):\n",
    "    \"\"\"\n",
    "       Convert from a bed dataframe into WashU longrange file \n",
    "       includes bgzip and tabix of the fn. \n",
    "       \n",
    "       Params\n",
    "       -------\n",
    "       fn: str\n",
    "           path to the longrange output file (without gz)\n",
    "           \n",
    "       df: dataframe\n",
    "           columns 1-3 are as expected and column 7 is the p or q-value. \n",
    "           \n",
    "       Output\n",
    "       ------\n",
    "       gzfn: str\n",
    "           path to the longrange with bgzip compression\n",
    "       tabix_fn: str\n",
    "           path to the index of the longrange file\n",
    "           \n",
    "   \"\"\"\n",
    "\n",
    "    # parsing the data into WashU longrage format\n",
    "    data = []\n",
    "    for sr in df.values.tolist():\n",
    "        data.append(sr[0:4])\n",
    "    data = sorted(data, key=lambda x: (x[0], x[1], x[2]))\n",
    "\n",
    "    # writing out the data\n",
    "    with open(fn, 'w') as f:\n",
    "        for line in data:\n",
    "            info = [str(x) for x in line]\n",
    "            info = '\\t'.join(info)\n",
    "            f.write(info + '\\n')\n",
    "\n",
    "    # run bgzip\n",
    "    cmd = '{} {}'.format(bgzip, fn)\n",
    "    print(cmd)\n",
    "    job = sp.Popen(cmd, stderr=sp.PIPE,stdout=sp.PIPE, shell=True)\n",
    "\n",
    "    out, err = job.communicate()\n",
    "    print('out:', out.decode())\n",
    "    print('err:', err.decode())\n",
    "\n",
    "    # run tabix\n",
    "    gzfn = fn + '.gz'\n",
    "    cmd = '{} -f {}'.format(tabix, gzfn)\n",
    "    print(cmd)\n",
    "    job = sp.Popen(cmd, stderr=sp.PIPE,stdout=sp.PIPE, shell=True)\n",
    "\n",
    "    out, err = job.communicate()\n",
    "    print('out:', out.decode())\n",
    "    print('err:', err.decode())\n",
    "\n",
    "    print('Created the gzfn: {}'.format(fn + '.gz'))\n",
    "    print('Created the tabix: {}'.format(fn + '.gz.tbi'))\n",
    "\n",
    "def bed_to_WashU_refbed(fn, df):\n",
    "    \"\"\" \n",
    "       Convert from a bed dataframe into WashU longrange file \n",
    "       includes bgzip and tabix of the fn. \n",
    "       \n",
    "       Params\n",
    "       -------\n",
    "       fn: str\n",
    "           path to the longrange output file (without gz)\n",
    "           \n",
    "       df: dataframe\n",
    "           columns 1-3 are as expected and column 7 is the p or q-value. \n",
    "           \n",
    "       Output\n",
    "       ------\n",
    "       gzfn: str\n",
    "           path to the longrange with bgzip compression\n",
    "       tabix_fn: str\n",
    "           path to the index of the longrange file\n",
    "           \n",
    "   \"\"\"\n",
    "\n",
    "    # parsing the data into WashU longrage format\n",
    "    data = df.values.tolist()\n",
    "    data = sorted(data, key=lambda x: (x[0], x[1], x[2]))\n",
    "\n",
    "    # writing out the data\n",
    "    with open(fn, 'w') as f:\n",
    "        for line in data:\n",
    "            info = [str(x) for x in line]\n",
    "            info = '\\t'.join(info)\n",
    "            f.write(info + '\\n')\n",
    "\n",
    "    # run bgzip\n",
    "    cmd = '{} -f {}'.format(bgzip, fn) \n",
    "    print(cmd)\n",
    "    job = sp.Popen(cmd, stderr=sp.PIPE,stdout=sp.PIPE, shell=True)\n",
    "\n",
    "    out, err = job.communicate()\n",
    "    print('out:', out.decode())\n",
    "    print('err:', err.decode())\n",
    "\n",
    "    # run tabix\n",
    "    gzfn = fn + '.gz'\n",
    "    cmd = '{} {}'.format(tabix, gzfn)\n",
    "    print(cmd)\n",
    "    job = sp.Popen(cmd, stderr=sp.PIPE,stdout=sp.PIPE, shell=True)\n",
    "\n",
    "    out, err = job.communicate()\n",
    "    print('out:', out.decode())\n",
    "    print('err:', err.decode())\n",
    "\n",
    "    print('Created the gzfn: {}'.format(fn + '.gz'))\n",
    "    print('Created the tabix: {}'.format(fn + '.gz.tbi'))"
   ]
  },
  {
   "cell_type": "raw",
   "id": "22c646e2",
   "metadata": {},
   "source": [
    "# make the refbed link for genes (status: running)\n",
    "final_sg_cols = ['chrom', 'gene_start' ,'gene_end', 'gene_name', 'gene_strand']\n",
    "final_sg_genes = master.loc[(master.has_fithichip_loop == 1), final_sg_cols]\n",
    "\n",
    "final_sg_genes.gene_start = final_sg_genes.gene_start.astype(int)\n",
    "final_sg_genes.gene_end = final_sg_genes.gene_end.astype(int)\n",
    "\n",
    "final_sg_genes = final_sg_genes.loc[~final_sg_genes.duplicated()]\n",
    "final_sg_genes['chr'] = final_sg_genes['chrom'] \n",
    "final_sg_genes['transcript_start'] = final_sg_genes['gene_start']\n",
    "final_sg_genes['transcript_stop'] = final_sg_genes['gene_end']\n",
    "final_sg_genes['translation_start'] = final_sg_genes['gene_start']\n",
    "final_sg_genes['translation_stop'] = final_sg_genes['gene_end']\n",
    "final_sg_genes['strand'] = final_sg_genes['gene_strand']\n",
    "final_sg_genes['gene_name'] = final_sg_genes['gene_name']\n",
    "final_sg_genes['transcript_id'] = final_sg_genes['gene_name']\n",
    "final_sg_genes['type'] = 'coding'\n",
    "final_sg_genes['exon_gene_start'] = final_sg_genes['gene_start']\n",
    "final_sg_genes['exon_stops'] = final_sg_genes['gene_end']\n",
    "refcols = ['chr', 'transcript_start', 'transcript_stop', 'translation_start',\n",
    "          'translation_stop', 'strand', 'gene_name', 'transcript_id',\n",
    "          'type', 'exon_gene_start', 'exon_stops']\n",
    "final_sg_genes = final_sg_genes.loc[:, refcols]\n",
    "sg_genes_fn = os.path.join(outdir, 'gs_genes.bed')\n",
    "bed_to_WashU_refbed(sg_genes_fn, final_sg_genes)\n",
    "\n",
    "\n",
    "# make the longrange link for raw fithichip data (status: running)\n",
    "loop_gz = os.path.abspath(loop_fn.replace('.bed', '_WashU.bed.gz'))\n",
    "loop_tbi = os.path.abspath(loop_fn.replace('.bed', '_WashU.bed.gz.tbi'))\n",
    "loop_gz_link = os.path.join(outdir, os.path.basename(loop_gz))\n",
    "loop_tbi_link = os.path.join(outdir, os.path.basename(loop_tbi))\n",
    "if not os.path.exists(loop_gz_link):\n",
    "    os.link(loop_gz, loop_gz_link)\n",
    "    os.link(loop_tbi, loop_tbi_link)"
   ]
  },
  {
   "cell_type": "raw",
   "id": "fe675206",
   "metadata": {},
   "source": [
    "# ## All 5kb Washu Files\n",
    "\n",
    "# make the longrange link for snp-gene fivekb pairs (status: running)\n",
    "#fivekb_lrange = fivekb_lrange[fivekb_lrange.rsid.notna()].reset_index(drop=True)\n",
    "fivekb_lrange = fivekb_genes.copy()\n",
    "\n",
    "# convert full for viz\n",
    "fivekb_lrange = fivekb_lrange[['chrA', 'startA', 'endA', 'chrB', 'startB', 'endB']]\n",
    "fivekb_lrange.iloc[:, 1] -= 1 \n",
    "fivekb_lrange['score'] = 0.01\n",
    "\n",
    "fivekb_snp_gene_pairs_fn = os.path.join(outdir, '5kb.snp_gene_pairs.bed')\n",
    "bedpe_to_WashU_longrange(fivekb_snp_gene_pairs_fn, fivekb_lrange)\n",
    "\n",
    "# plot all snp-gene pairs with a loop\n",
    "fivekb_gloops_lrange = fivekb_gloops.iloc[:, [11,12,13,14,15,16,18]]\n",
    "\n",
    "fivekb_snp_gene_loops_fn = os.path.join(outdir, '5kb.snp_gene_loops.bed')\n",
    "bedpe_to_WashU_longrange(fivekb_snp_gene_loops_fn, fivekb_gloops_lrange)"
   ]
  },
  {
   "cell_type": "raw",
   "id": "61b91b56",
   "metadata": {},
   "source": [
    "# ## eQTL WashU Files\n",
    "\n",
    "# make the longrange link for snp-gene eQTL pairs (status: running)\n",
    "eqtl_lrange = master.loc[master.is_eqtl_pair == 1]\n",
    "eqtl_lrange = eqtl_lrange[eqtl_lrange.rsid.notna()].reset_index(drop=True)\n",
    "\n",
    "# convert full for viz\n",
    "eqtl_snp_gene_pairs = eqtl_lrange[['chrom', 'snp_pos', 'snp_pos', 'chrom', 'tss_start', 'tss_end', 'genename']]\n",
    "eqtl_snp_gene_pairs.iloc[:, 1] -= 1 \n",
    "eqtl_snp_gene_pairs['score'] = 0.01\n",
    "\n",
    "eqtl_snp_gene_pairs_fn = os.path.join(outdir, 'eqtl.snp_gene_pairs.bed')\n",
    "bedpe_to_WashU_longrange(eqtl_snp_gene_pairs_fn, eqtl_snp_gene_pairs.iloc[:, [0,1,2,3,4,5,7]])\n",
    "\n",
    "# make the bed for egenes only (status: running)\n",
    "eqtl_genes = eqtl_lrange.loc[:, ['chrom', 'gene_start', 'gene_end', 'gene_name']]\n",
    "eqtl_genes_only_fn = os.path.join(outdir, 'eqtl.genes_only.bed')\n",
    "bed_WashU_bedgz(eqtl_genes_only_fn, eqtl_genes)"
   ]
  },
  {
   "cell_type": "raw",
   "id": "c21f916d",
   "metadata": {},
   "source": [
    "# make the bed for eSNPs only (status: running)\n",
    "eqtl_snps = eqtl_lrange.loc[:, ['chrom', 'snp_pos', 'snp_pos', 'rsid']]\n",
    "eqtl_snps.iloc[:, 1] -= 1\n",
    "eqtl_snps = pbt.BedTool.from_dataframe(eqtl_snps)\n",
    "eqtl_snps = eqtl_snps.slop(b=500, g=gs_fn).to_dataframe()\n",
    "eqtl_snps_only_fn = os.path.join(outdir, 'eqtl.snps_only.bed')\n",
    "bed_WashU_bedgz(eqtl_snps_only_fn, eqtl_snps)\n",
    "\n",
    "# # make the longrange link for snp-gene eQTL loops (status: didn't add loop coordinates to master.)\n",
    "# eqtl_loops = master.loc[master.is_eqtl_pair == 1]"
   ]
  },
  {
   "cell_type": "raw",
   "id": "28323734",
   "metadata": {},
   "source": [
    "# ## Coloc WashU Files\n",
    "\n",
    "# make the bed for colocalized SNPs (status: running)\n",
    "final_snps = coloc_sig_df.copy()\n",
    "final_snps = final_snps.loc[~final_snps.duplicated()]\n",
    "final_snps = pbt.BedTool.from_dataframe(final_snps)\n",
    "final_snps = final_snps.slop(b=500, g=gs_fn)\n",
    "final_snps = final_snps.to_dataframe()[0:4]\n",
    "\n",
    "coloc_snps_only_fn = os.path.join(outdir, 'coloc.snps_only.bed')\n",
    "bed_WashU_bedgz(coloc_snps_only_fn, final_snps)\n",
    "\n",
    "# make the bed for colocalized genes (status: running)\n",
    "final_coloc_snp_genes_pairs = master[(master.is_coloc_pair == 1)]\n",
    "final_coloc_genes = final_coloc_snp_genes_pairs[['chrom', 'gene_start' ,'gene_end', 'gene_name']]\n",
    "coloc_genes_only_fn = os.path.join(outdir, 'coloc.genes_only.bed')\n",
    "bed_WashU_bedgz(coloc_genes_only_fn, final_coloc_genes)"
   ]
  },
  {
   "cell_type": "raw",
   "id": "7de57c1f",
   "metadata": {},
   "source": [
    "# make the longrange for colocalized snp-gene pairs (status: running)\n",
    "final_coloc_snp_genes_pairs_out = final_coloc_snp_genes_pairs[['chrom', 'snp_pos', 'snp_pos', 'chrom', \n",
    "                                                              'tss_start', 'tss_end', 'gene_name']]\n",
    "final_coloc_snp_genes_pairs_out.iloc[:, 1] -= 1\n",
    "final_coloc_snp_genes_pairs_out.iloc[:, 6] = 0.01\n",
    "\n",
    "coloc_snp_gene_pairs_fn = os.path.join(outdir, 'coloc.snp_gene_pairs.bed')\n",
    "bedpe_to_WashU_longrange(coloc_snp_gene_pairs_fn, final_coloc_snp_genes_pairs_out)"
   ]
  },
  {
   "cell_type": "raw",
   "id": "0f54d33f",
   "metadata": {},
   "source": [
    "# make the longrange for colocalized snp-gene loops (status: running)\n",
    "final_coloc_snp_genes_loops = fivekb_gloops[(fivekb_gloops[10].isin(final_coloc_snp_genes_pairs['rsid'])) & \n",
    "             (fivekb_gloops[12].isin(final_coloc_snp_genes_pairs['geneid']))]\n",
    "final_coloc_snp_genes_loops_out = final_coloc_snp_genes_loops.iloc[:, [14,15,16,17,18,19,21]]\n",
    "\n",
    "coloc_snp_gene_loops_fn = os.path.join(outdir, 'coloc.snp_gene_loops.bed')\n",
    "bedpe_to_WashU_longrange(coloc_snp_gene_loops_fn, final_coloc_snp_genes_loops_out)\n",
    "\n",
    "final_coloc_snp_genes_loops_out"
   ]
  },
  {
   "cell_type": "raw",
   "id": "e694bc24",
   "metadata": {},
   "source": [
    "# make the loop anchors as bed files (status: developing)\n",
    "left = final_coloc_snp_genes_loops[[14,15,16,6]].T.reset_index(drop=True).T\n",
    "left[3] = 'L-' + left[3] \n",
    "right = final_coloc_snp_genes_loops[[17,18,19,6]].T.reset_index(drop=True).T\n",
    "right[3] = 'R-' + right[3] \n",
    "anchors = pd.concat([left, right], ignore_index=True, axis=0)"
   ]
  },
  {
   "cell_type": "raw",
   "id": "e05ddfcd",
   "metadata": {},
   "source": [
    "coloc_anchors_fn = os.path.join(outdir, 'coloc.anchors_only.bed')\n",
    "bed_WashU_bedgz(coloc_anchors_fn, anchors)\n",
    "\n",
    "\n",
    "# # make the hub json file\n",
    "\n",
    "#gwas, cline = coloc_fn.split('/')[5:7]\n",
    "\n",
    "print(\"# make the hub json file\")\n",
    "\n",
    "gene_refbed_json = {'type': 'refbed',\n",
    "                   'filename': os.path.basename(sg_genes_fn) + '.gz',\n",
    "                   'name': 'Gencode V19',\n",
    "                   'showOnHubLoad': True\n",
    "                  }\n",
    "\n",
    "orig_loops_json = {'type': 'longrange',\n",
    "                  'filename': os.path.basename(loop_gz_link),\n",
    "                  'name': 'Original Loops',\n",
    "                  'options': {'displayMode': 'arc', 'color':'red'},\n",
    "                  'showOnHubLoad': True\n",
    "               }\n",
    "\n",
    "# fivekb_snp_gene_pairs_json = {'type': 'longrange',\n",
    "#                    'filename': os.path.basename(fivekb_snp_gene_pairs_fn) + '.gz',\n",
    "#                    'name': '5kb SNP-Gene Pairs',\n",
    "#                    'options': {'displayMode': 'arc', 'color':'purple', 'height': 200},\n",
    "#                    'showOnHubLoad': False\n",
    "#                 }\n",
    "\n",
    "# fivekb_snp_gene_loops_json = {'type': 'longrange',\n",
    "#                    'filename': os.path.basename(fivekb_snp_gene_loops_fn) + '.gz',\n",
    "#                    'name': '5kb SNP-Gene Loops',\n",
    "#                    'options': {'displayMode': 'arc', 'color':'red', 'height': 200},\n",
    "#                    'showOnHubLoad': False\n",
    "#                 }\n",
    "\n",
    "\n",
    "eqtl_snp_gene_pairs_json = {'type': 'longrange',\n",
    "                'filename': os.path.basename(eqtl_snp_gene_pairs_fn) + '.gz',\n",
    "                'name': 'eQTL SNP-Gene Pairs',\n",
    "                'options': {'displayMode': 'arc', 'color':'purple', 'height': 200},\n",
    "                'showOnHubLoad': True\n",
    "               }\n",
    "\n",
    "\n",
    "eqtl_snps_only_json = {'type': 'bed',\n",
    "                'filename': os.path.basename(eqtl_snps_only_fn) + '.gz',\n",
    "                'name': 'eQTL SNPs only',\n",
    "                'options': {'color':'purple'},\n",
    "                'showOnHubLoad': True\n",
    "\n",
    "               }\n",
    "\n",
    "\n",
    "eqtl_genes_only_json = {'type': 'bed',\n",
    "                'filename': os.path.basename(eqtl_genes_only_fn) + '.gz',\n",
    "                'name': 'eQTL genes only',\n",
    "                'options': {'color':'purple'},\n",
    "                'showOnHubLoad': True\n",
    "               }\n",
    "\n",
    "\n",
    "coloc_snp_gene_pairs_json = {'type': 'longrange',\n",
    "                'filename': os.path.basename(coloc_snp_gene_pairs_fn) + '.gz',\n",
    "                'name': 'coloc SNP-Gene Pairs',\n",
    "                'options': {'displayMode': 'arc', 'color':'purple', 'height': 200},\n",
    "                'showOnHubLoad': True\n",
    "               }\n",
    "\n",
    "coloc_snp_gene_loops_json = {'type': 'longrange',\n",
    "                'filename': os.path.basename(coloc_snp_gene_loops_fn) + '.gz',\n",
    "                'name': 'coloc SNP-Gene Loops',\n",
    "                'options': {'displayMode': 'arc', 'color':'red', 'height': 200},\n",
    "                'showOnHubLoad': True\n",
    "               }\n",
    "\n",
    "coloc_snps_only_json = {'type': 'bed',\n",
    "                'filename': os.path.basename(coloc_snps_only_fn) + '.gz',\n",
    "                'name': 'coloc SNPs only',\n",
    "                'options': {'color':'purple'},\n",
    "                'showOnHubLoad': False\n",
    "               }\n",
    "\n",
    "\n",
    "coloc_genes_only_json = {'type': 'bed',\n",
    "                'filename': os.path.basename(coloc_genes_only_fn) + '.gz',\n",
    "                'name': 'coloc genes only',\n",
    "                'options': {'color':'purple'},\n",
    "                'showOnHubLoad': False\n",
    "               }\n",
    "\n",
    "\n",
    "coloc_anchors_only_json = {'type': 'bed',\n",
    "                'filename': os.path.basename(coloc_anchors_fn) + '.gz',\n",
    "                'name': 'coloc loop anchors only',\n",
    "                'options': {'color':'red'},\n",
    "                'showOnHubLoad': False\n",
    "               }\n",
    "\n",
    "\n",
    "#hub_json = [orig_loops_json, sg_pairs_json, sg_loops_json, sg_snps_json, sg_genes_json]\n",
    "hub_json = [gene_refbed_json, \n",
    "           #fivekb_snp_gene_pairs_json,\n",
    "           #fivekb_snp_gene_loops_json,\n",
    "           eqtl_snps_only_json,\n",
    "           eqtl_genes_only_json,\n",
    "           eqtl_snp_gene_pairs_json,\n",
    "           coloc_snps_only_json,\n",
    "           coloc_genes_only_json,\n",
    "           coloc_snp_gene_pairs_json, \n",
    "           coloc_anchors_only_json,\n",
    "           coloc_snp_gene_loops_json,\n",
    "           orig_loops_json, \n",
    "          ]\n",
    "\n",
    "hub_json_fn = os.path.join(outdir, 'hub.config.json')\n",
    "with open(hub_json_fn, 'w') as f:\n",
    "    f.write(json.dumps(hub_json, indent=4))"
   ]
  }
 ],
 "metadata": {
  "kernelspec": {
   "display_name": "HiChIP DB",
   "language": "python",
   "name": "hichip-db"
  },
  "language_info": {
   "codemirror_mode": {
    "name": "ipython",
    "version": 3
   },
   "file_extension": ".py",
   "mimetype": "text/x-python",
   "name": "python",
   "nbconvert_exporter": "python",
   "pygments_lexer": "ipython3",
   "version": "3.10.2"
  }
 },
 "nbformat": 4,
 "nbformat_minor": 5
}
