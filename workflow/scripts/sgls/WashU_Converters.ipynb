{
 "cells": [
  {
   "cell_type": "code",
   "execution_count": 70,
   "id": "0e69e7c4",
   "metadata": {},
   "outputs": [],
   "source": [
    "import os \n",
    "import sys\n",
    "import pybedtools as pbt\n",
    "import pandas as pd\n",
    "import numpy as np\n",
    "import subprocess as sp\n",
    "import json\n",
    "import argparse\n",
    "from itertools import chain\n",
    "pbt.helpers.set_tempdir('/mnt/BioHome/jreyna/tmp/')\n",
    "pbt.set_bedtools_path('/mnt/BioApps/bedtools/bin/')\n",
    "bgzip = '/mnt/BioApps/tabix/tabix-0.2.6/bgzip'\n",
    "tabix = '/mnt/BioApps/tabix/tabix-0.2.6/tabix'\n",
    "\n",
    "pd.options.display.max_columns = 1000\n",
    "pd.options.display.max_rows = 1000"
   ]
  },
  {
   "cell_type": "code",
   "execution_count": 71,
   "id": "4baba2ea",
   "metadata": {},
   "outputs": [],
   "source": [
    "os.chdir('/mnt/BioHome/jreyna/jreyna/projects/dchallenge/')"
   ]
  },
  {
   "cell_type": "code",
   "execution_count": 72,
   "id": "2650f0b0",
   "metadata": {},
   "outputs": [],
   "source": [
    "# setting basical column names for bedpe\n",
    "bedpe_6cols = ['chrA', 'startA', 'endA', 'chrB', 'startB', 'endB']\n",
    "bedpe_10cols = ['chrA', 'startA', 'endA', 'chrB', 'startB', 'endB', 'name', 'score', 'strandA', 'strandB']"
   ]
  },
  {
   "cell_type": "markdown",
   "id": "5747dd77",
   "metadata": {},
   "source": [
    "# Making a command line interface"
   ]
  },
  {
   "cell_type": "code",
   "execution_count": 73,
   "id": "2a30b851",
   "metadata": {},
   "outputs": [
    {
     "data": {
      "text/plain": [
       "_StoreAction(option_strings=['--samples'], dest='samples', nargs=None, const=None, default=None, type=<class 'int'>, choices=None, help=None, metavar=None)"
      ]
     },
     "execution_count": 73,
     "metadata": {},
     "output_type": "execute_result"
    }
   ],
   "source": [
    "parser = argparse.ArgumentParser()\n",
    "parser.add_argument('--input', type=str, required=True)\n",
    "parser.add_argument('--convert-from', type=str, choices=['bed', 'bedpe', 'bp'], required=True)\n",
    "parser.add_argument('--convert-to', type=str, choices=['bed', 'longrange', 'vcf'], required=True)\n",
    "parser.add_argument('--header', action='store_true', default=True)\n",
    "\n",
    "# arguments for bed \n",
    "parser.add_argument('--chr', type=int, default=1)\n",
    "parser.add_argument('--start', type=int, default=2)\n",
    "parser.add_argument('--end', type=int, default=3)\n",
    "\n",
    "# arguments for bedpe \n",
    "parser.add_argument('--chrB', type=int, default=4)\n",
    "parser.add_argument('--startB', type=int, default=5)\n",
    "parser.add_argument('--endB', type=int, default=6)\n",
    "parser.add_argument('--score', type=int, default=7)\n",
    "\n",
    "# arguments for vcf\n",
    "parser.add_argument('--pos', type=int, default=-1)\n",
    "parser.add_argument('--id', type=int, default=None)\n",
    "parser.add_argument('--ref', type=int, default=None)\n",
    "parser.add_argument('--alt', type=int, default=None)\n",
    "parser.add_argument('--qual', type=int, default=None)\n",
    "parser.add_argument('--filter', type=int, default=None)\n",
    "parser.add_argument('--info', type=int, default=None)\n",
    "parser.add_argument('--format', type=int, default=None)\n",
    "parser.add_argument('--samples', type=int, default=None)"
   ]
  },
  {
   "cell_type": "code",
   "execution_count": 74,
   "id": "2f4de278",
   "metadata": {},
   "outputs": [],
   "source": [
    "# creating dummy values for debugging, necessary since I started this \n",
    "# code within a jupyter notebook\n",
    "debug = 'bp_to_vcf'\n",
    "if debug == 'bp_to_vcf': \n",
    "    debug = []\n",
    "    debug.append('--input A')\n",
    "    debug.append('--convert-from bp')\n",
    "    debug.append('--convert-to vcf')\n",
    "    debug.append('--header')\n",
    "    debug.append('--chr 1')\n",
    "    debug.append('--pos 2')  \n",
    "    \n",
    "    # split and chain everything together\n",
    "    debug = [x.split() for x in debug]\n",
    "    debug = list(chain(*debug))\n",
    "    params = parser.parse_args(debug)\n",
    "    params.input = 'results/main/GRCh37/sgls/ImmuNexUT/T1D_32005708/ImmuNexUT/Naive_CD4/eqtls.coloc_filtered.tsv.gz'\n",
    "    params.chr = 1\n",
    "    params.pos = -1\n",
    "    params.start = 2\n",
    "    params.end = 3\n",
    "    params.chrB = 4\n",
    "    params.startB = 5\n",
    "    params.startB = 6\n",
    "    \n",
    "elif debug == 'bedpe_to_longrange':\n",
    "\n",
    "    debug = []\n",
    "    debug.append('--convert-from bp')\n",
    "    debug.append('--convert-to vcf')\n",
    "    debug.append('--header')\n",
    "    debug.append('--end 3')\n",
    "\n",
    "    params = parser.parse_args()"
   ]
  },
  {
   "cell_type": "markdown",
   "id": "e046b435",
   "metadata": {},
   "source": [
    "# Updating column index fields"
   ]
  },
  {
   "cell_type": "code",
   "execution_count": 75,
   "id": "63d7f5d4",
   "metadata": {},
   "outputs": [],
   "source": [
    "# Conversions available are:\n",
    "# 1) bed intervals to bed intervals (--convert-from bp --convert-to vcf)\n",
    "# 2) single basepair file to variant file (--convert-from bp --convert-to vcf)\n",
    "# 1) bedpe intervals to longrange (--convert-from bedpe --convert-to longrange)"
   ]
  },
  {
   "cell_type": "code",
   "execution_count": 76,
   "id": "dbfdbd4b",
   "metadata": {},
   "outputs": [],
   "source": [
    "import gzip"
   ]
  },
  {
   "cell_type": "code",
   "execution_count": null,
   "id": "b217f4e1",
   "metadata": {},
   "outputs": [],
   "source": [
    "if params.convert_from == 'bp' and params.convert_to == 'vcf':\n",
    "\n",
    "    # convert to zero-based indexing\n",
    "    params.chr -= 1\n",
    "    params.pos -= 1\n",
    "\n",
    "    # write out the header\n",
    "    vcf_header = \"\"\"##fileformat=VCFv4.3\n",
    "    #CHROM\\tPOS\\tID\\tREF\\tALT\\tQUAL\\tFILTER\\tINFO\"\"\"\n",
    "    print(vcf_header)\n",
    "\n",
    "    # parse the file \n",
    "    fr = gzip.open(params.input)\n",
    "    if params.header == True:\n",
    "        next(fr)\n",
    "    i = 0 \n",
    "    for line in fr:\n",
    "\n",
    "        line_info = line.strip().decode().split()\n",
    "        chrom = line_info[params.chr].replace('chr', '')\n",
    "        pos = line_info[params.pos]\n",
    "        idd = line_info[params.id] if params.id != None else '.'\n",
    "        ref = line_info[params.ref] if params.ref != None else '.'\n",
    "        alt = line_info[params.alt] if params.alt != None else '.'\n",
    "        qual = line_info[params.qual] if params.qual != None else '.'\n",
    "        flt = line_info[params.filter] if params.filter != None else 'PASS'\n",
    "        info = life_info[params.info] if params.info != None else '.'\n",
    "        #form = line_info[params.format] if params.format != None else '.'\n",
    "        #samples = line_info[params.samples] if params.samples != None else '.'\n",
    "\n",
    "        new_info = [chrom, pos, idd, ref, alt, qual, flt, info] #, form, samples]\n",
    "        new_info = '\\t'.join(new_info)\n",
    "        print(new_info, file=fw)\n",
    "\n",
    "        if i == 100:\n",
    "            break\n",
    "        i += 1 \n",
    "\n",
    "    fr.close()\n",
    "    fw.close()"
   ]
  },
  {
   "cell_type": "code",
   "execution_count": null,
   "id": "8de115f0",
   "metadata": {},
   "outputs": [],
   "source": []
  },
  {
   "cell_type": "code",
   "execution_count": null,
   "id": "c7a6716f",
   "metadata": {},
   "outputs": [],
   "source": []
  },
  {
   "cell_type": "code",
   "execution_count": null,
   "id": "d5037e4e",
   "metadata": {},
   "outputs": [],
   "source": [
    "    msg = '/mnt/BioApps/tabix/tabix-0.2.6/bgzip my.vcf;'\n",
    "    msg += '/mnt/BioApps/tabix/tabix-0.2.6/tabix my.vcf.gz'"
   ]
  },
  {
   "cell_type": "code",
   "execution_count": null,
   "id": "7c101896",
   "metadata": {},
   "outputs": [],
   "source": []
  },
  {
   "cell_type": "code",
   "execution_count": null,
   "id": "e9d09552",
   "metadata": {},
   "outputs": [],
   "source": []
  },
  {
   "cell_type": "code",
   "execution_count": null,
   "id": "e5ef363e",
   "metadata": {},
   "outputs": [],
   "source": []
  }
 ],
 "metadata": {
  "kernelspec": {
   "display_name": "HiChIP-DB",
   "language": "python",
   "name": "hichip-db"
  },
  "language_info": {
   "codemirror_mode": {
    "name": "ipython",
    "version": 3
   },
   "file_extension": ".py",
   "mimetype": "text/x-python",
   "name": "python",
   "nbconvert_exporter": "python",
   "pygments_lexer": "ipython3",
   "version": "3.9.10"
  }
 },
 "nbformat": 4,
 "nbformat_minor": 5
}
