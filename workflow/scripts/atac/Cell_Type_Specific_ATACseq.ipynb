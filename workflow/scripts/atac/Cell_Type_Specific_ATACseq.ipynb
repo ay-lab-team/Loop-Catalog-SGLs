{
 "cells": [
  {
   "cell_type": "code",
   "execution_count": 32,
   "id": "74b81019",
   "metadata": {},
   "outputs": [],
   "source": [
    "import os \n",
    "import pandas as pd \n",
    "import subprocess as sp\n",
    "bgzip = '/mnt/BioApps/tabix/tabix-0.2.6/bgzip'\n",
    "tabix = '/mnt/BioApps/tabix/tabix-0.2.6/tabix'\n",
    "os.chdir(\"/mnt/BioHome/jreyna/jreyna/projects/dchallenge/\")"
   ]
  },
  {
   "cell_type": "markdown",
   "id": "55966200",
   "metadata": {},
   "source": [
    "## Cell type Accessibility "
   ]
  },
  {
   "cell_type": "code",
   "execution_count": 33,
   "id": "ce923841",
   "metadata": {},
   "outputs": [],
   "source": [
    "coacc = 'results/refs/chiou_et_al_2021/Supplemental4.celltype.cCREs.41586_2021_3552_MOESM7_ESM.xlsx'\n",
    "coacc = pd.read_excel(coacc, skiprows=2)"
   ]
  },
  {
   "cell_type": "code",
   "execution_count": 34,
   "id": "a201ac95",
   "metadata": {},
   "outputs": [],
   "source": [
    "cell_dict = {\n",
    "    'activated CD4 T': 'tbd',\n",
    "    'activated CD4 T, naive T': 'CD4N',\n",
    "    'memory B, naive B': 'tbd',\n",
    "    'INShi beta, INSlo beta': 'tbd',\n",
    "    'INShi beta': 'tbd',\n",
    "    'nonclassical monocyte': 'NCM',\n",
    "    'GCGlo alpha': 'tbd',\n",
    "    'ductal': 'tbd',\n",
    "    'cytotoxic NK': 'NK',\n",
    "    'adaptive NK': 'tbd',\n",
    "    'adaptive NK, cytotoxic NK': 'tbd',\n",
    "    'pancreatic CD8 T': 'tbd',\n",
    "    'quiescent stellate': 'tbd',\n",
    "    'regulatory T': 'TREGMEM',\n",
    "    'memory CD8 T': 'tbd',\n",
    "    'naive B': 'NB',\n",
    "    'acinar': 'tbd',\n",
    "    'SSThi delta': 'tbd',\n",
    "    'naive T': 'tbd',\n",
    "    'conventional dendritic': 'tbd',\n",
    "    'cytotoxic CD8 T, cytotoxic NK': 'tbd',\n",
    "    'pancreatic macrophage': 'tbd',\n",
    "    'plasmacytoid dendritic': 'tbd',\n",
    "    'endothelial': 'tbd',\n",
    "    'memory B': 'tbd',\n",
    "    'cytotoxic CD8 T, memory B': 'tbd',\n",
    "    'GCGhi alpha': 'tbd',\n",
    "    'cytotoxic CD8 T': 'tbd',\n",
    "    'SSTlo delta': 'tbd',\n",
    "    'gamma': 'tbd',\n",
    "    'activated stellate': 'tbd',\n",
    "    'SSTlo delta, quiescent stellate': 'tbd',\n",
    "    'activated CD4 T, regulatory T': 'tbd',\n",
    "    'classical monocyte': 'CM',\n",
    "    'INSlo beta': 'tbd',\n",
    "    'activated stellate, quiescent stellate': 'tbd',\n",
    "    'acinar, ductal': 'tbd',\n",
    "    'conventional dendritic, plasmacytoid dendritic': 'tbd',\n",
    "    'megakaryocyte': 'tbd',\n",
    "    'activated CD4 T, memory CD8 T': 'tbd',\n",
    "    'conventional dendritic, pancreatic macrophage': 'tbd',\n",
    "    'naive T, plasmacytoid dendritic': 'tbd',\n",
    "    'memory CD8 T, plasmacytoid dendritic': 'tbd',\n",
    "    'adaptive NK, endothelial': 'tbd',\n",
    "    'cytotoxic CD8 T, pancreatic CD8 T': 'tbd',\n",
    "    'classical monocyte, nonclassical monocyte': 'tbd',\n",
    "    'GCGhi alpha, INShi beta': 'tbd',\n",
    "    'adaptive NK, megakaryocyte': 'tbd',\n",
    "    'memory CD8 T, pancreatic CD8 T': 'tbd',\n",
    "    'megakaryocyte, regulatory T': 'tbd',\n",
    "    'activated CD4 T, cytotoxic CD8 T': 'tbd',\n",
    "    'endothelial, memory CD8 T': 'tbd',\n",
    "    'SSThi delta, gamma': 'tbd',\n",
    "    'SSThi delta, SSTlo delta': 'tbd',\n",
    "    'cytotoxic CD8 T, memory CD8 T': 'tbd',\n",
    "    'megakaryocyte, plasmacytoid dendritic': 'tbd',\n",
    "    'INShi beta, acinar': 'tbd',\n",
    "    'GCGhi alpha, GCGlo alpha': 'tbd',\n",
    "    'cytotoxic NK, memory CD8 T': 'tbd',\n",
    "    'cytotoxic CD8 T, adaptive NK': 'tbd',\n",
    "    'cytotoxic CD8 T, naive T': 'tbd',\n",
    "    'ductal, memory CD8 T': 'tbd',\n",
    "    'ductal, megakaryocyte': 'tbd',\n",
    "    'cytotoxic CD8 T, regulatory T': 'tbd',\n",
    "    'GCGlo alpha, INSlo beta': 'tbd',\n",
    "    'activated CD4 T, pancreatic macrophage': 'tbd',\n",
    "    'GCGlo alpha, SSTlo delta': 'tbd',\n",
    "    'adaptive NK, pancreatic CD8 T': 'tbd',\n",
    "    'nonclassical monocyte, pancreatic macrophage': 'tbd',\n",
    "    'cytotoxic NK, ductal': 'tbd',\n",
    "    'gamma, pancreatic CD8 T': 'tbd',\n",
    "    'adaptive NK, ductal': 'tbd',\n",
    "    'classical monocyte, conventional dendritic': 'tbd',\n",
    "    'cytotoxic CD8 T, endothelial': 'tbd',\n",
    "    'adaptive NK, memory CD8 T': 'tbd',\n",
    "    'SSThi delta, memory CD8 T': 'tbd',\n",
    "    'SSTlo delta, memory CD8 T': 'tbd',\n",
    "    'acinar, adaptive NK': 'tbd',\n",
    "    'activated CD4 T, memory CD8 T, regulatory T': 'tbd',\n",
    "    'pancreatic CD8 T, plasmacytoid dendritic': 'tbd',\n",
    "    'acinar, memory CD8 T': 'tbd',\n",
    "    'memory CD8 T, quiescent stellate': 'tbd',\n",
    "    'GCGhi alpha, cytotoxic NK': 'tbd',\n",
    "    'adaptive NK, pancreatic macrophage': 'tbd',\n",
    "    'activated CD4 T, ductal': 'tbd'}"
   ]
  },
  {
   "cell_type": "code",
   "execution_count": 35,
   "id": "c03fe43f",
   "metadata": {},
   "outputs": [],
   "source": [
    "cell_dict = {k: v for k, v in cell_dict.items() if v != 'tbd'}"
   ]
  },
  {
   "cell_type": "code",
   "execution_count": 36,
   "id": "04e8a5a9",
   "metadata": {},
   "outputs": [
    {
     "data": {
      "text/plain": [
       "{'activated CD4 T, naive T': 'CD4N',\n",
       " 'nonclassical monocyte': 'NCM',\n",
       " 'cytotoxic NK': 'NK',\n",
       " 'regulatory T': 'TREGMEM',\n",
       " 'naive B': 'NB',\n",
       " 'classical monocyte': 'CM'}"
      ]
     },
     "execution_count": 36,
     "metadata": {},
     "output_type": "execute_result"
    }
   ],
   "source": [
    "cell_dict"
   ]
  },
  {
   "cell_type": "code",
   "execution_count": 37,
   "id": "a87394d9",
   "metadata": {},
   "outputs": [],
   "source": [
    "cl_grps = coacc.groupby('clusters')"
   ]
  },
  {
   "cell_type": "code",
   "execution_count": 47,
   "id": "60517926",
   "metadata": {},
   "outputs": [
    {
     "name": "stdout",
     "output_type": "stream",
     "text": [
      "/mnt/BioApps/tabix/tabix-0.2.6/bgzip results/main/coacc/CD4N/CD4N.bed\n",
      "out: \n",
      "err: \n",
      "/mnt/BioApps/tabix/tabix-0.2.6/tabix -f results/main/coacc/CD4N/CD4N.bed.gz\n",
      "out: \n",
      "err: \n",
      "Created the gzfn: results/main/coacc/CD4N/CD4N.bed.gz\n",
      "Created the tabix: results/main/coacc/CD4N/CD4N.bed.gz.tbi\n",
      "/mnt/BioApps/tabix/tabix-0.2.6/bgzip results/main/coacc/NCM/NCM.bed\n",
      "out: \n",
      "err: \n",
      "/mnt/BioApps/tabix/tabix-0.2.6/tabix -f results/main/coacc/NCM/NCM.bed.gz\n",
      "out: \n",
      "err: \n",
      "Created the gzfn: results/main/coacc/NCM/NCM.bed.gz\n",
      "Created the tabix: results/main/coacc/NCM/NCM.bed.gz.tbi\n",
      "/mnt/BioApps/tabix/tabix-0.2.6/bgzip results/main/coacc/NK/NK.bed\n",
      "out: \n",
      "err: \n",
      "/mnt/BioApps/tabix/tabix-0.2.6/tabix -f results/main/coacc/NK/NK.bed.gz\n",
      "out: \n",
      "err: \n",
      "Created the gzfn: results/main/coacc/NK/NK.bed.gz\n",
      "Created the tabix: results/main/coacc/NK/NK.bed.gz.tbi\n",
      "/mnt/BioApps/tabix/tabix-0.2.6/bgzip results/main/coacc/TREGMEM/TREGMEM.bed\n",
      "out: \n",
      "err: \n",
      "/mnt/BioApps/tabix/tabix-0.2.6/tabix -f results/main/coacc/TREGMEM/TREGMEM.bed.gz\n",
      "out: \n",
      "err: \n",
      "Created the gzfn: results/main/coacc/TREGMEM/TREGMEM.bed.gz\n",
      "Created the tabix: results/main/coacc/TREGMEM/TREGMEM.bed.gz.tbi\n",
      "/mnt/BioApps/tabix/tabix-0.2.6/bgzip results/main/coacc/NB/NB.bed\n",
      "out: \n",
      "err: \n",
      "/mnt/BioApps/tabix/tabix-0.2.6/tabix -f results/main/coacc/NB/NB.bed.gz\n",
      "out: \n",
      "err: \n",
      "Created the gzfn: results/main/coacc/NB/NB.bed.gz\n",
      "Created the tabix: results/main/coacc/NB/NB.bed.gz.tbi\n",
      "/mnt/BioApps/tabix/tabix-0.2.6/bgzip results/main/coacc/CM/CM.bed\n",
      "out: \n",
      "err: \n",
      "/mnt/BioApps/tabix/tabix-0.2.6/tabix -f results/main/coacc/CM/CM.bed.gz\n",
      "out: \n",
      "err: \n",
      "Created the gzfn: results/main/coacc/CM/CM.bed.gz\n",
      "Created the tabix: results/main/coacc/CM/CM.bed.gz.tbi\n"
     ]
    }
   ],
   "source": [
    "for chiou_cl, dice_cl in cell_dict.items():\n",
    "    df = cl_grps.get_group(chiou_cl)\n",
    "    df = df.iloc[:, 0:3]\n",
    "    df.iloc[:, 0] = 'chr' + df.iloc[:, 0].astype(str)\n",
    "    dy = 'results/main/coacc/{}/'.format(dice_cl)\n",
    "    os.makedirs(dy, exist_ok=True)\n",
    "    \n",
    "    fn = os.path.join(dy, '{}.bed'.format(dice_cl))\n",
    "    df.to_csv(fn, sep='\\t', index=False, header=False)\n",
    "    \n",
    "    # run bgzip\n",
    "    cmd = '{} {}'.format(bgzip, fn)\n",
    "    print(cmd)\n",
    "    job = sp.Popen(cmd, stderr=sp.PIPE,stdout=sp.PIPE, shell=True)\n",
    "\n",
    "    out, err = job.communicate()\n",
    "    print('out:', out.decode())\n",
    "    print('err:', err.decode())\n",
    "    \n",
    "    # run tabix\n",
    "    lrange_gzfn = fn + '.gz'\n",
    "    cmd = '{} -f {}'.format(tabix, lrange_gzfn)\n",
    "    print(cmd)\n",
    "    job = sp.Popen(cmd, stderr=sp.PIPE,stdout=sp.PIPE, shell=True)\n",
    "\n",
    "    out, err = job.communicate()\n",
    "    print('out:', out.decode())\n",
    "    print('err:', err.decode())\n",
    "\n",
    "    print('Created the gzfn: {}'.format(fn + '.gz'))\n",
    "    print('Created the tabix: {}'.format(fn + '.gz.tbi'))    "
   ]
  },
  {
   "cell_type": "code",
   "execution_count": null,
   "id": "4294205c",
   "metadata": {},
   "outputs": [],
   "source": []
  },
  {
   "cell_type": "code",
   "execution_count": null,
   "id": "3ce77a39",
   "metadata": {},
   "outputs": [],
   "source": []
  },
  {
   "cell_type": "markdown",
   "id": "8daf9545",
   "metadata": {},
   "source": [
    "## Merged Accessibility "
   ]
  },
  {
   "cell_type": "code",
   "execution_count": 51,
   "id": "e3ea8613",
   "metadata": {},
   "outputs": [],
   "source": [
    "#coacc_all = 'results/refs/chiou_et_al_2021/Supplemental3.cCREs.41586_2021_3552_MOESM6_ESM.xlsx'\n",
    "#coacc_all = pd.read_excel(coacc_all, skiprows=2)"
   ]
  },
  {
   "cell_type": "code",
   "execution_count": 52,
   "id": "1ba81c2b",
   "metadata": {},
   "outputs": [],
   "source": [
    "df = coacc_all.iloc[:, 0:3]\n",
    "df.iloc[:, 0] = 'chr' + df.iloc[:, 0].astype(str)\n",
    "dy = 'results/main/coacc/ALL/'.format(dice_cl)\n",
    "os.makedirs(dy, exist_ok=True)"
   ]
  },
  {
   "cell_type": "code",
   "execution_count": 54,
   "id": "5b5ab462",
   "metadata": {},
   "outputs": [
    {
     "name": "stdout",
     "output_type": "stream",
     "text": [
      "/mnt/BioApps/tabix/tabix-0.2.6/bgzip results/main/coacc/ALL/combined-loops.bed\n",
      "out: \n",
      "err: \n",
      "/mnt/BioApps/tabix/tabix-0.2.6/tabix -f results/main/coacc/ALL/combined-loops.bed.gz\n",
      "out: \n",
      "err: \n",
      "Created the gzfn: results/main/coacc/ALL/combined-loops.bed.gz\n",
      "Created the tabix: results/main/coacc/ALL/combined-loops.bed.gz.tbi\n"
     ]
    }
   ],
   "source": [
    "fn = os.path.join(dy, 'combined-loops.bed'.format(dice_cl))\n",
    "df.to_csv(fn, sep='\\t', index=False, header=False)\n",
    "\n",
    "# run bgzip\n",
    "cmd = '{} {}'.format(bgzip, fn)\n",
    "print(cmd)\n",
    "job = sp.Popen(cmd, stderr=sp.PIPE,stdout=sp.PIPE, shell=True)\n",
    "\n",
    "out, err = job.communicate()\n",
    "print('out:', out.decode())\n",
    "print('err:', err.decode())\n",
    "\n",
    "# run tabix\n",
    "lrange_gzfn = fn + '.gz'\n",
    "cmd = '{} -f {}'.format(tabix, lrange_gzfn)\n",
    "print(cmd)\n",
    "job = sp.Popen(cmd, stderr=sp.PIPE,stdout=sp.PIPE, shell=True)\n",
    "\n",
    "out, err = job.communicate()\n",
    "print('out:', out.decode())\n",
    "print('err:', err.decode())\n",
    "\n",
    "print('Created the gzfn: {}'.format(fn + '.gz'))\n",
    "print('Created the tabix: {}'.format(fn + '.gz.tbi'))    "
   ]
  },
  {
   "cell_type": "code",
   "execution_count": null,
   "id": "cafbf4ca",
   "metadata": {},
   "outputs": [],
   "source": []
  },
  {
   "cell_type": "code",
   "execution_count": null,
   "id": "f882eaa3",
   "metadata": {},
   "outputs": [],
   "source": []
  },
  {
   "cell_type": "code",
   "execution_count": null,
   "id": "1ec17128",
   "metadata": {},
   "outputs": [],
   "source": []
  },
  {
   "cell_type": "code",
   "execution_count": null,
   "id": "1ed7ac55",
   "metadata": {},
   "outputs": [],
   "source": []
  },
  {
   "cell_type": "code",
   "execution_count": null,
   "id": "1571d1cf",
   "metadata": {},
   "outputs": [],
   "source": []
  },
  {
   "cell_type": "code",
   "execution_count": null,
   "id": "18a2f84b",
   "metadata": {},
   "outputs": [],
   "source": []
  },
  {
   "cell_type": "code",
   "execution_count": null,
   "id": "75fb3ff5",
   "metadata": {},
   "outputs": [],
   "source": []
  },
  {
   "cell_type": "code",
   "execution_count": null,
   "id": "973bd749",
   "metadata": {},
   "outputs": [],
   "source": []
  },
  {
   "cell_type": "code",
   "execution_count": null,
   "id": "ee83a2d3",
   "metadata": {},
   "outputs": [],
   "source": []
  },
  {
   "cell_type": "code",
   "execution_count": null,
   "id": "aac92653",
   "metadata": {},
   "outputs": [],
   "source": []
  }
 ],
 "metadata": {
  "kernelspec": {
   "display_name": "HiC",
   "language": "python",
   "name": "hic_tls"
  },
  "language_info": {
   "codemirror_mode": {
    "name": "ipython",
    "version": 3
   },
   "file_extension": ".py",
   "mimetype": "text/x-python",
   "name": "python",
   "nbconvert_exporter": "python",
   "pygments_lexer": "ipython3",
   "version": "3.6.7"
  }
 },
 "nbformat": 4,
 "nbformat_minor": 5
}
