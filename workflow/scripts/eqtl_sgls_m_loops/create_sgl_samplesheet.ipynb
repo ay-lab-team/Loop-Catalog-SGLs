{
 "cells": [
  {
   "cell_type": "code",
   "execution_count": 1,
   "metadata": {},
   "outputs": [],
   "source": [
    "import os\n",
    "import pandas as pd\n",
    "\n",
    "os.chdir('/home/jreyna/jreyna/projects/Loop-Catalog-SGLs/')"
   ]
  },
  {
   "cell_type": "code",
   "execution_count": 2,
   "metadata": {},
   "outputs": [],
   "source": [
    "# load the manually assigned hichip to eqtl linker file\n",
    "linker_fn = 'results/samplesheets/eqtl_sgls/hichip_to_eqtl.lc_immune_select_samples.linker.xlsx'\n",
    "sgl_linker_data = pd.read_excel(linker_fn, skiprows=8)\n",
    "\n",
    "# extract eqtl columns (QTD columns)\n",
    "eqtl_cols = [x for x in sgl_linker_data if x.startswith('QTD')]\n",
    "\n",
    "# link hichip to eqtl file paths\n",
    "ss_data = []\n",
    "for i, sr in sgl_linker_data.iterrows():\n",
    "    \n",
    "    for qtd_id in eqtl_cols:\n",
    "        \n",
    "        # add sample for processing if assigned to eqtl\n",
    "        if sr[qtd_id] == 'Yes': \n",
    "            std_sample_name = sr['Std Sample Name']\n",
    "            hichip_fn = f'results/hg38/loops/hichip/chip-seq/macs2/stringent/m_loops/{std_sample_name}.5000.raw.loops.bed'\n",
    "            eqtl_fn = f'results/hg38/eqtl/eqtl_catalogue/{qtd_id}.credible_sets.tsv.gz'\n",
    "            ss_data.append([hichip_fn, eqtl_fn])\n",
    "\n",
    "ss_data = pd.DataFrame(ss_data, columns=['hichip_fn', 'eqtl_fn'])"
   ]
  },
  {
   "cell_type": "code",
   "execution_count": 3,
   "metadata": {},
   "outputs": [],
   "source": [
    "# save to samplesheet\n",
    "outfn = 'results/samplesheets/eqtl_sgls/hichip_to_eqtl.m_loops.samplesheet.tsv'\n",
    "ss_data.to_csv(outfn, header=False, index=False, sep='\\t')"
   ]
  }
 ],
 "metadata": {
  "kernelspec": {
   "display_name": "lc-pipelines",
   "language": "python",
   "name": "python3"
  },
  "language_info": {
   "codemirror_mode": {
    "name": "ipython",
    "version": 3
   },
   "file_extension": ".py",
   "mimetype": "text/x-python",
   "name": "python",
   "nbconvert_exporter": "python",
   "pygments_lexer": "ipython3",
   "version": "3.12.0"
  }
 },
 "nbformat": 4,
 "nbformat_minor": 2
}
