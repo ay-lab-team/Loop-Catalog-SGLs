{
 "cells": [
  {
   "cell_type": "code",
   "execution_count": 1,
   "id": "c5fcf266",
   "metadata": {},
   "outputs": [],
   "source": [
    "import os \n",
    "import json\n",
    "import glob\n",
    "import pandas as pd\n",
    "outdir = 'results/main/hubs/loop_hub/'\n",
    "link_path = 'https://informaticsdata.liai.org/BioAdHoc/Groups/vd-ay/jreyna/projects/dchallenge/results/main/hubs/loop_hub/'\n",
    "os.makedirs(outdir, exist_ok=True)"
   ]
  },
  {
   "cell_type": "code",
   "execution_count": 2,
   "id": "fe414526",
   "metadata": {},
   "outputs": [],
   "source": [
    "os.chdir('/mnt/BioHome/jreyna/jreyna/projects/dchallenge/')"
   ]
  },
  {
   "cell_type": "code",
   "execution_count": 3,
   "id": "2311c874",
   "metadata": {},
   "outputs": [],
   "source": [
    "# setting template names\n",
    "loop_tpl = 'results/main/h3k27ac_hichip/*/FitHiChIP_S/FitHiChIP.interactions_FitHiC.track.longrange.bed.gz'"
   ]
  },
  {
   "cell_type": "markdown",
   "id": "9f4ef2c2",
   "metadata": {},
   "source": [
    "## Getting all WashU Files"
   ]
  },
  {
   "cell_type": "markdown",
   "id": "38598159",
   "metadata": {},
   "source": [
    "#### Loop Files"
   ]
  },
  {
   "cell_type": "code",
   "execution_count": 4,
   "id": "b8ea170a",
   "metadata": {},
   "outputs": [],
   "source": [
    "loop_data = []\n",
    "for loop in glob.glob(loop_tpl):\n",
    "    cline = loop.split('/')[3]\n",
    "    loop_data.append([cline, loop])\n",
    "loop_df = pd.DataFrame(loop_data)\n",
    "loop_df.columns = ['cline', 'file']"
   ]
  },
  {
   "cell_type": "code",
   "execution_count": 5,
   "id": "5b10378f",
   "metadata": {},
   "outputs": [],
   "source": [
    "# # loop_short_list = ['CD4N',\n",
    "# #                  'CD8N',\n",
    "# #                  'NB',\n",
    "# #                  'CM',\n",
    "# #                  'NK']\n",
    "# loop_df = loop_df.loc[loop_df.cline.isin(loop_short_list)]"
   ]
  },
  {
   "cell_type": "code",
   "execution_count": 6,
   "id": "c8576c13",
   "metadata": {},
   "outputs": [
    {
     "data": {
      "text/plain": [
       "(5, 2)"
      ]
     },
     "execution_count": 6,
     "metadata": {},
     "output_type": "execute_result"
    }
   ],
   "source": [
    "loop_df.shape"
   ]
  },
  {
   "cell_type": "code",
   "execution_count": 7,
   "id": "c11b3c69",
   "metadata": {},
   "outputs": [
    {
     "data": {
      "text/html": [
       "<div>\n",
       "<style scoped>\n",
       "    .dataframe tbody tr th:only-of-type {\n",
       "        vertical-align: middle;\n",
       "    }\n",
       "\n",
       "    .dataframe tbody tr th {\n",
       "        vertical-align: top;\n",
       "    }\n",
       "\n",
       "    .dataframe thead th {\n",
       "        text-align: right;\n",
       "    }\n",
       "</style>\n",
       "<table border=\"1\" class=\"dataframe\">\n",
       "  <thead>\n",
       "    <tr style=\"text-align: right;\">\n",
       "      <th></th>\n",
       "      <th>cline</th>\n",
       "      <th>file</th>\n",
       "    </tr>\n",
       "  </thead>\n",
       "  <tbody>\n",
       "    <tr>\n",
       "      <th>0</th>\n",
       "      <td>NK-cell_naive</td>\n",
       "      <td>results/main/h3k27ac_hichip/NK-cell_naive/FitH...</td>\n",
       "    </tr>\n",
       "    <tr>\n",
       "      <th>1</th>\n",
       "      <td>CD8_T-cell_naive</td>\n",
       "      <td>results/main/h3k27ac_hichip/CD8_T-cell_naive/F...</td>\n",
       "    </tr>\n",
       "    <tr>\n",
       "      <th>2</th>\n",
       "      <td>CD4_T-cell_naive</td>\n",
       "      <td>results/main/h3k27ac_hichip/CD4_T-cell_naive/F...</td>\n",
       "    </tr>\n",
       "    <tr>\n",
       "      <th>3</th>\n",
       "      <td>monocyte_naive</td>\n",
       "      <td>results/main/h3k27ac_hichip/monocyte_naive/Fit...</td>\n",
       "    </tr>\n",
       "    <tr>\n",
       "      <th>4</th>\n",
       "      <td>B-cell_naive</td>\n",
       "      <td>results/main/h3k27ac_hichip/B-cell_naive/FitHi...</td>\n",
       "    </tr>\n",
       "  </tbody>\n",
       "</table>\n",
       "</div>"
      ],
      "text/plain": [
       "              cline                                               file\n",
       "0     NK-cell_naive  results/main/h3k27ac_hichip/NK-cell_naive/FitH...\n",
       "1  CD8_T-cell_naive  results/main/h3k27ac_hichip/CD8_T-cell_naive/F...\n",
       "2  CD4_T-cell_naive  results/main/h3k27ac_hichip/CD4_T-cell_naive/F...\n",
       "3    monocyte_naive  results/main/h3k27ac_hichip/monocyte_naive/Fit...\n",
       "4      B-cell_naive  results/main/h3k27ac_hichip/B-cell_naive/FitHi..."
      ]
     },
     "execution_count": 7,
     "metadata": {},
     "output_type": "execute_result"
    }
   ],
   "source": [
    "loop_df"
   ]
  },
  {
   "cell_type": "markdown",
   "id": "f3380136",
   "metadata": {},
   "source": [
    "## Making the Hub"
   ]
  },
  {
   "cell_type": "code",
   "execution_count": 8,
   "id": "a48d959c",
   "metadata": {},
   "outputs": [
    {
     "data": {
      "text/html": [
       "<div>\n",
       "<style scoped>\n",
       "    .dataframe tbody tr th:only-of-type {\n",
       "        vertical-align: middle;\n",
       "    }\n",
       "\n",
       "    .dataframe tbody tr th {\n",
       "        vertical-align: top;\n",
       "    }\n",
       "\n",
       "    .dataframe thead th {\n",
       "        text-align: right;\n",
       "    }\n",
       "</style>\n",
       "<table border=\"1\" class=\"dataframe\">\n",
       "  <thead>\n",
       "    <tr style=\"text-align: right;\">\n",
       "      <th></th>\n",
       "      <th>loop_cline</th>\n",
       "      <th>abbrev_cline</th>\n",
       "    </tr>\n",
       "  </thead>\n",
       "  <tbody>\n",
       "    <tr>\n",
       "      <th>0</th>\n",
       "      <td>CD4N</td>\n",
       "      <td>CD4T-cell</td>\n",
       "    </tr>\n",
       "    <tr>\n",
       "      <th>1</th>\n",
       "      <td>NK</td>\n",
       "      <td>NK-cell</td>\n",
       "    </tr>\n",
       "    <tr>\n",
       "      <th>2</th>\n",
       "      <td>CD8N</td>\n",
       "      <td>CD8T-cell</td>\n",
       "    </tr>\n",
       "    <tr>\n",
       "      <th>3</th>\n",
       "      <td>CM</td>\n",
       "      <td>Monocyte</td>\n",
       "    </tr>\n",
       "    <tr>\n",
       "      <th>4</th>\n",
       "      <td>NB</td>\n",
       "      <td>B-cell</td>\n",
       "    </tr>\n",
       "  </tbody>\n",
       "</table>\n",
       "</div>"
      ],
      "text/plain": [
       "  loop_cline abbrev_cline\n",
       "0       CD4N    CD4T-cell\n",
       "1         NK      NK-cell\n",
       "2       CD8N    CD8T-cell\n",
       "3         CM     Monocyte\n",
       "4         NB       B-cell"
      ]
     },
     "execution_count": 8,
     "metadata": {},
     "output_type": "execute_result"
    }
   ],
   "source": [
    "loop_cline_abbrevs = [['CD4N', 'CD4T-cell'],\n",
    "                         ['NK', 'NK-cell'],\n",
    "                         ['CD8N', 'CD8T-cell'],\n",
    "                         ['CM', 'Monocyte'],\n",
    "                         ['NB', 'B-cell']]\n",
    "loop_cline_abbrevs = pd.DataFrame(loop_cline_abbrevs)\n",
    "loop_cline_abbrevs.columns = ['loop_cline', 'abbrev_cline']\n",
    "#loop_cline_abbrevs.set_index('loop_cline', inplace=True)\n",
    "loop_cline_abbrevs"
   ]
  },
  {
   "cell_type": "code",
   "execution_count": 9,
   "id": "f90657b0",
   "metadata": {},
   "outputs": [],
   "source": [
    "def create_washu_longrange_dict(name, file):\n",
    "    d = {\"type\": \"longrange\",\n",
    "         \"showOnHubLoad\": True,\n",
    "         \"name\": name,\n",
    "         \"filename\": file,\n",
    "         \"options\": {\"displayMode\": \"arc\"}}\n",
    "    return(d)\n",
    "\n",
    "def create_washu_bed_dict(name, file):\n",
    "    d = {\"type\": \"bed\",\n",
    "         \"showOnHubLoad\": True,\n",
    "         \"name\": name,\n",
    "         \"filename\": file}\n",
    "    return(d)\n",
    "\n",
    "def create_washu_vcf_dict(name, file):\n",
    "    d = {\"type\": \"vcf\",\n",
    "         \"showOnHubLoad\": True,\n",
    "         \"name\": name,\n",
    "         \"filename\": file}\n",
    "    return(d)"
   ]
  },
  {
   "cell_type": "code",
   "execution_count": 13,
   "id": "d0647e84",
   "metadata": {},
   "outputs": [],
   "source": [
    "def create_remote_washu_longrange_dict(name, url):\n",
    "    d = {'type': 'longrange',\n",
    "         'showOnHubLoad': True,\n",
    "         'name': name,\n",
    "         'url': url,\n",
    "         'options': {'ensemblStyle': True, 'height': 100, 'displayMode': 'arc'}}\n",
    "    return(d)"
   ]
  },
  {
   "cell_type": "code",
   "execution_count": 11,
   "id": "56cd5258",
   "metadata": {},
   "outputs": [
    {
     "name": "stdout",
     "output_type": "stream",
     "text": [
      "NK-cell_naive\n",
      "CD8_T-cell_naive\n",
      "CD4_T-cell_naive\n",
      "monocyte_naive\n",
      "B-cell_naive\n"
     ]
    }
   ],
   "source": [
    "json_files = []\n",
    "\n",
    "for i, sr in loop_df.iterrows():\n",
    "    \n",
    "    print(sr.cline)\n",
    "\n",
    "    new_basename = 'loops.{}.bed.gz'.format(sr.cline)\n",
    "\n",
    "    # hard link over the file\n",
    "    old_path = sr.file\n",
    "    old_index_path = sr.file + '.tbi'\n",
    "    new_path = os.path.join(outdir, new_basename)\n",
    "    new_index_path = new_path + '.tbi'\n",
    "\n",
    "    if os.path.exists(old_path) and os.path.exists(old_index_path):\n",
    "        if not os.path.exists(new_path) and not os.path.exists(new_index_path):\n",
    "            os.link(old_path, new_path)\n",
    "            os.link(old_index_path, new_index_path)\n",
    "\n",
    "        url = os.path.join(link_path, new_basename)\n",
    "\n",
    "        # add the file to the json hub config\n",
    "        d = create_remote_washu_longrange_dict(new_basename, url)\n",
    "        json_files.append(d)\n",
    "\n",
    "                \n",
    "hub_path = os.path.join(outdir, 'hub.config.json')\n",
    "with open(hub_path, 'w') as fw:\n",
    "    print(json.dumps(json_files, indent='\\t'), file=fw)"
   ]
  }
 ],
 "metadata": {
  "kernelspec": {
   "display_name": "HiChIP-DB",
   "language": "python",
   "name": "hichip-db"
  },
  "language_info": {
   "codemirror_mode": {
    "name": "ipython",
    "version": 3
   },
   "file_extension": ".py",
   "mimetype": "text/x-python",
   "name": "python",
   "nbconvert_exporter": "python",
   "pygments_lexer": "ipython3",
   "version": "3.9.10"
  }
 },
 "nbformat": 4,
 "nbformat_minor": 5
}
