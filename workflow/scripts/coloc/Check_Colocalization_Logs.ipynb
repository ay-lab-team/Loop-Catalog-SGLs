{
 "cells": [
  {
   "cell_type": "code",
   "execution_count": 1,
   "id": "c2d7f23b",
   "metadata": {},
   "outputs": [],
   "source": [
    "import os \n",
    "import glob\n",
    "import pandas as pd\n",
    "\n",
    "os.chdir('/mnt/BioHome/jreyna/jreyna/projects/dchallenge/')"
   ]
  },
  {
   "cell_type": "code",
   "execution_count": 2,
   "id": "c33fcf19",
   "metadata": {},
   "outputs": [],
   "source": [
    "ss = pd.read_table('config/coloc_samplesheets/t1d.samplesheet.tsv')\n",
    "ss.loc[:, 'gwas'] = ss.loc[:, 'gwas'].str.replace('#', '')\n",
    "ss_gwas = ss.groupby('gwas').eqtl_db.count().to_frame()\n",
    "ss_gwas.columns = ['uniq_ss_counts']"
   ]
  },
  {
   "cell_type": "code",
   "execution_count": 3,
   "id": "124571fc",
   "metadata": {},
   "outputs": [
    {
     "data": {
      "text/html": [
       "<div>\n",
       "<style scoped>\n",
       "    .dataframe tbody tr th:only-of-type {\n",
       "        vertical-align: middle;\n",
       "    }\n",
       "\n",
       "    .dataframe tbody tr th {\n",
       "        vertical-align: top;\n",
       "    }\n",
       "\n",
       "    .dataframe thead th {\n",
       "        text-align: right;\n",
       "    }\n",
       "</style>\n",
       "<table border=\"1\" class=\"dataframe\">\n",
       "  <thead>\n",
       "    <tr style=\"text-align: right;\">\n",
       "      <th></th>\n",
       "      <th>uniq_ss_counts</th>\n",
       "    </tr>\n",
       "    <tr>\n",
       "      <th>gwas</th>\n",
       "      <th></th>\n",
       "    </tr>\n",
       "  </thead>\n",
       "  <tbody>\n",
       "    <tr>\n",
       "      <th>T1D_25751624</th>\n",
       "      <td>30</td>\n",
       "    </tr>\n",
       "    <tr>\n",
       "      <th>T1D_32005708</th>\n",
       "      <td>30</td>\n",
       "    </tr>\n",
       "    <tr>\n",
       "      <th>T1D_34012112_Gaulton</th>\n",
       "      <td>58</td>\n",
       "    </tr>\n",
       "    <tr>\n",
       "      <th>T1D_34594039_GCST90018705</th>\n",
       "      <td>30</td>\n",
       "    </tr>\n",
       "    <tr>\n",
       "      <th>T1D_34594039_GCST90018925</th>\n",
       "      <td>30</td>\n",
       "    </tr>\n",
       "  </tbody>\n",
       "</table>\n",
       "</div>"
      ],
      "text/plain": [
       "                           uniq_ss_counts\n",
       "gwas                                     \n",
       "T1D_25751624                           30\n",
       "T1D_32005708                           30\n",
       "T1D_34012112_Gaulton                   58\n",
       "T1D_34594039_GCST90018705              30\n",
       "T1D_34594039_GCST90018925              30"
      ]
     },
     "execution_count": 3,
     "metadata": {},
     "output_type": "execute_result"
    }
   ],
   "source": [
    "ss_gwas"
   ]
  },
  {
   "cell_type": "code",
   "execution_count": 4,
   "id": "3a9276e7",
   "metadata": {},
   "outputs": [
    {
     "data": {
      "text/html": [
       "<div>\n",
       "<style scoped>\n",
       "    .dataframe tbody tr th:only-of-type {\n",
       "        vertical-align: middle;\n",
       "    }\n",
       "\n",
       "    .dataframe tbody tr th {\n",
       "        vertical-align: top;\n",
       "    }\n",
       "\n",
       "    .dataframe thead th {\n",
       "        text-align: right;\n",
       "    }\n",
       "</style>\n",
       "<table border=\"1\" class=\"dataframe\">\n",
       "  <thead>\n",
       "    <tr style=\"text-align: right;\">\n",
       "      <th></th>\n",
       "      <th>gwas</th>\n",
       "      <th>eqtl_db</th>\n",
       "      <th>eqtl_origin</th>\n",
       "    </tr>\n",
       "  </thead>\n",
       "  <tbody>\n",
       "    <tr>\n",
       "      <th>0</th>\n",
       "      <td>T1D_34012112_Gaulton</td>\n",
       "      <td>BLUEPRINT</td>\n",
       "      <td>monocyte</td>\n",
       "    </tr>\n",
       "    <tr>\n",
       "      <th>1</th>\n",
       "      <td>T1D_34012112_Gaulton</td>\n",
       "      <td>BLUEPRINT</td>\n",
       "      <td>neutrophil</td>\n",
       "    </tr>\n",
       "    <tr>\n",
       "      <th>2</th>\n",
       "      <td>T1D_34012112_Gaulton</td>\n",
       "      <td>BLUEPRINT</td>\n",
       "      <td>T-cell</td>\n",
       "    </tr>\n",
       "    <tr>\n",
       "      <th>3</th>\n",
       "      <td>T1D_34012112_Gaulton</td>\n",
       "      <td>GENCORD</td>\n",
       "      <td>LCL</td>\n",
       "    </tr>\n",
       "    <tr>\n",
       "      <th>4</th>\n",
       "      <td>T1D_34012112_Gaulton</td>\n",
       "      <td>GENCORD</td>\n",
       "      <td>T-cell</td>\n",
       "    </tr>\n",
       "    <tr>\n",
       "      <th>...</th>\n",
       "      <td>...</td>\n",
       "      <td>...</td>\n",
       "      <td>...</td>\n",
       "    </tr>\n",
       "    <tr>\n",
       "      <th>173</th>\n",
       "      <td>T1D_34012112_Gaulton</td>\n",
       "      <td>ImmuNexUT</td>\n",
       "      <td>Tfh</td>\n",
       "    </tr>\n",
       "    <tr>\n",
       "      <th>174</th>\n",
       "      <td>T1D_34012112_Gaulton</td>\n",
       "      <td>ImmuNexUT</td>\n",
       "      <td>Th17</td>\n",
       "    </tr>\n",
       "    <tr>\n",
       "      <th>175</th>\n",
       "      <td>T1D_34012112_Gaulton</td>\n",
       "      <td>ImmuNexUT</td>\n",
       "      <td>Th1</td>\n",
       "    </tr>\n",
       "    <tr>\n",
       "      <th>176</th>\n",
       "      <td>T1D_34012112_Gaulton</td>\n",
       "      <td>ImmuNexUT</td>\n",
       "      <td>Th2</td>\n",
       "    </tr>\n",
       "    <tr>\n",
       "      <th>177</th>\n",
       "      <td>T1D_34012112_Gaulton</td>\n",
       "      <td>ImmuNexUT</td>\n",
       "      <td>USM_B</td>\n",
       "    </tr>\n",
       "  </tbody>\n",
       "</table>\n",
       "<p>178 rows × 3 columns</p>\n",
       "</div>"
      ],
      "text/plain": [
       "                     gwas    eqtl_db eqtl_origin\n",
       "0    T1D_34012112_Gaulton  BLUEPRINT    monocyte\n",
       "1    T1D_34012112_Gaulton  BLUEPRINT  neutrophil\n",
       "2    T1D_34012112_Gaulton  BLUEPRINT      T-cell\n",
       "3    T1D_34012112_Gaulton    GENCORD         LCL\n",
       "4    T1D_34012112_Gaulton    GENCORD      T-cell\n",
       "..                    ...        ...         ...\n",
       "173  T1D_34012112_Gaulton  ImmuNexUT         Tfh\n",
       "174  T1D_34012112_Gaulton  ImmuNexUT        Th17\n",
       "175  T1D_34012112_Gaulton  ImmuNexUT         Th1\n",
       "176  T1D_34012112_Gaulton  ImmuNexUT         Th2\n",
       "177  T1D_34012112_Gaulton  ImmuNexUT       USM_B\n",
       "\n",
       "[178 rows x 3 columns]"
      ]
     },
     "execution_count": 4,
     "metadata": {},
     "output_type": "execute_result"
    }
   ],
   "source": [
    "ss"
   ]
  },
  {
   "cell_type": "markdown",
   "id": "0beec040",
   "metadata": {},
   "source": [
    "## Checking the logs"
   ]
  },
  {
   "cell_type": "code",
   "execution_count": 5,
   "id": "a33de1c8",
   "metadata": {},
   "outputs": [],
   "source": [
    "check_logs = glob.glob('results/main/coloc/Results/eQTL_Catalogue/logs/run_colocalization_eqtl_catalog.*.*.*.log')"
   ]
  },
  {
   "cell_type": "code",
   "execution_count": 6,
   "id": "ee8bf2fd",
   "metadata": {},
   "outputs": [],
   "source": [
    "logs = []\n",
    "for fn in check_logs:\n",
    "    base = os.path.basename(fn)\n",
    "    meta = base.split('.')\n",
    "    logs.append(meta[1:4])\n",
    "logs = pd.DataFrame(logs)\n",
    "logs.columns = ['gwas', 'eqtl_source', 'ge_source']\n",
    "logs_gwas = logs.groupby('gwas').eqtl_source.count().to_frame()\n",
    "logs_gwas.columns = ['uniq_log_counts']"
   ]
  },
  {
   "cell_type": "markdown",
   "id": "662d284e",
   "metadata": {},
   "source": [
    "## Concat"
   ]
  },
  {
   "cell_type": "code",
   "execution_count": 7,
   "id": "2be1e72c",
   "metadata": {},
   "outputs": [],
   "source": [
    "concat = pd.merge(ss_gwas, logs_gwas, left_index=True, right_index=True)"
   ]
  },
  {
   "cell_type": "code",
   "execution_count": 8,
   "id": "264e46f0",
   "metadata": {},
   "outputs": [
    {
     "data": {
      "text/html": [
       "<div>\n",
       "<style scoped>\n",
       "    .dataframe tbody tr th:only-of-type {\n",
       "        vertical-align: middle;\n",
       "    }\n",
       "\n",
       "    .dataframe tbody tr th {\n",
       "        vertical-align: top;\n",
       "    }\n",
       "\n",
       "    .dataframe thead th {\n",
       "        text-align: right;\n",
       "    }\n",
       "</style>\n",
       "<table border=\"1\" class=\"dataframe\">\n",
       "  <thead>\n",
       "    <tr style=\"text-align: right;\">\n",
       "      <th></th>\n",
       "      <th>uniq_ss_counts</th>\n",
       "      <th>uniq_log_counts</th>\n",
       "    </tr>\n",
       "    <tr>\n",
       "      <th>gwas</th>\n",
       "      <th></th>\n",
       "      <th></th>\n",
       "    </tr>\n",
       "  </thead>\n",
       "  <tbody>\n",
       "    <tr>\n",
       "      <th>T1D_25751624</th>\n",
       "      <td>30</td>\n",
       "      <td>30</td>\n",
       "    </tr>\n",
       "    <tr>\n",
       "      <th>T1D_32005708</th>\n",
       "      <td>30</td>\n",
       "      <td>30</td>\n",
       "    </tr>\n",
       "    <tr>\n",
       "      <th>T1D_34012112_Gaulton</th>\n",
       "      <td>58</td>\n",
       "      <td>31</td>\n",
       "    </tr>\n",
       "    <tr>\n",
       "      <th>T1D_34594039_GCST90018705</th>\n",
       "      <td>30</td>\n",
       "      <td>30</td>\n",
       "    </tr>\n",
       "    <tr>\n",
       "      <th>T1D_34594039_GCST90018925</th>\n",
       "      <td>30</td>\n",
       "      <td>30</td>\n",
       "    </tr>\n",
       "  </tbody>\n",
       "</table>\n",
       "</div>"
      ],
      "text/plain": [
       "                           uniq_ss_counts  uniq_log_counts\n",
       "gwas                                                      \n",
       "T1D_25751624                           30               30\n",
       "T1D_32005708                           30               30\n",
       "T1D_34012112_Gaulton                   58               31\n",
       "T1D_34594039_GCST90018705              30               30\n",
       "T1D_34594039_GCST90018925              30               30"
      ]
     },
     "execution_count": 8,
     "metadata": {},
     "output_type": "execute_result"
    }
   ],
   "source": [
    "concat"
   ]
  }
 ],
 "metadata": {
  "kernelspec": {
   "display_name": "HiChIP-DB",
   "language": "python",
   "name": "hichip-db"
  },
  "language_info": {
   "codemirror_mode": {
    "name": "ipython",
    "version": 3
   },
   "file_extension": ".py",
   "mimetype": "text/x-python",
   "name": "python",
   "nbconvert_exporter": "python",
   "pygments_lexer": "ipython3",
   "version": "3.9.10"
  }
 },
 "nbformat": 4,
 "nbformat_minor": 5
}
