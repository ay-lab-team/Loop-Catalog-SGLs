{
 "cells": [
  {
   "cell_type": "code",
   "execution_count": 6,
   "id": "cdccbdf3",
   "metadata": {},
   "outputs": [],
   "source": [
    "import os \n",
    "import pandas as pd \n",
    "\n",
    "os.chdir('/mnt/BioAdHoc/Groups/vd-ay/jreyna/projects/dchallenge/')"
   ]
  },
  {
   "cell_type": "code",
   "execution_count": 7,
   "id": "1e9992d3",
   "metadata": {},
   "outputs": [
    {
     "name": "stdout",
     "output_type": "stream",
     "text": [
      "CHR\tPOS\tBETA\tSE\tP\tN\r\n",
      "chr1\t25293941\t0.076575\t0.01396\t4.13e-08\t520580\r\n",
      "chr1\t25294607\t0.077268\t0.01404\t3.73e-08\t520580\r\n",
      "chr1\t25294878\t0.076429\t0.013922\t4.03e-08\t520580\r\n",
      "chr1\t25295580\t0.076999\t0.013951\t3.40e-08\t520580\r\n",
      "chr1\t25296478\t0.077267\t0.014047\t3.78e-08\t520580\r\n",
      "chr1\t25296743\t0.078145\t0.01405\t2.67e-08\t520580\r\n",
      "chr1\t25299602\t0.076765\t0.014049\t4.66e-08\t520580\r\n",
      "chr1\t25301477\t0.076626\t0.01405\t4.93e-08\t520580\r\n",
      "chr1\t25301869\t0.07761\t0.013956\t2.68e-08\t520580\r\n"
     ]
    }
   ],
   "source": [
    "!head results/main/2021_Nikhil_eQTL/Data/T1D_GWAS/T1D_34012112_Gaulton/GRCh37/GWAS_input_colocalization_pval_lt_5eMinus8.txt"
   ]
  },
  {
   "cell_type": "code",
   "execution_count": 28,
   "id": "2873a718",
   "metadata": {},
   "outputs": [],
   "source": [
    "# indexing the gwas file \n",
    "bgzip = '/mnt/BioApps/tabix/tabix-0.2.6/bgzip'\n",
    "tabix = '/mnt/BioApps/tabix/tabix-0.2.6/tabix'\n",
    "bcftools = '/mnt/BioApps/bcftools/bcftools-1.9/bin/bcftools'"
   ]
  },
  {
   "cell_type": "code",
   "execution_count": 29,
   "id": "847b251d",
   "metadata": {},
   "outputs": [],
   "source": [
    "gwas=\"results/main/2021_Nikhil_eQTL/Data/T1D_GWAS/T1D_34012112_Gaulton/GRCh37/GWAS_input_colocalization_pval_lt_5eMinus8.txt\"\n",
    "gwas_sorted=\"results/main/2021_Nikhil_eQTL/Data/T1D_GWAS/T1D_34012112_Gaulton/GRCh37/GWAS_input_colocalization_pval_lt_5eMinus8.sorted.txt\"\n",
    "gwas_comp=\"results/main/2021_Nikhil_eQTL/Data/T1D_GWAS/T1D_34012112_Gaulton/GRCh37/GWAS_input_colocalization_pval_lt_5eMinus8.sorted.txt.gz\""
   ]
  },
  {
   "cell_type": "code",
   "execution_count": 27,
   "id": "1b5a1c17",
   "metadata": {},
   "outputs": [],
   "source": []
  },
  {
   "cell_type": "code",
   "execution_count": null,
   "id": "b7f710fb",
   "metadata": {},
   "outputs": [],
   "source": [
    "# parse and sort\n",
    "!cat $gwas | sed '1d' | awk 'BEGIN{OFS=\"\\t\"} {print $1, $2, \"A\", \"T\", $5}' | sort -k1V -k2n > $gwas_sorted\n",
    "\n",
    "# compress and index\n",
    "!$bgzip -c $gwas_sorted > $gwas_comp\n",
    "!$tabix -f -p vcf -S 1 $gwas_comp"
   ]
  },
  {
   "cell_type": "code",
   "execution_count": null,
   "id": "c495a0cf",
   "metadata": {},
   "outputs": [],
   "source": [
    "!zcat $gwas_comp | head"
   ]
  },
  {
   "cell_type": "code",
   "execution_count": null,
   "id": "b914e191",
   "metadata": {},
   "outputs": [],
   "source": []
  },
  {
   "cell_type": "code",
   "execution_count": null,
   "id": "c6f5b2eb",
   "metadata": {},
   "outputs": [],
   "source": []
  },
  {
   "cell_type": "code",
   "execution_count": null,
   "id": "ecf256d6",
   "metadata": {},
   "outputs": [],
   "source": []
  },
  {
   "cell_type": "code",
   "execution_count": null,
   "id": "f89a12f9",
   "metadata": {},
   "outputs": [],
   "source": []
  },
  {
   "cell_type": "code",
   "execution_count": null,
   "id": "e495157a",
   "metadata": {},
   "outputs": [],
   "source": []
  },
  {
   "cell_type": "code",
   "execution_count": null,
   "id": "4840fa57",
   "metadata": {},
   "outputs": [],
   "source": []
  },
  {
   "cell_type": "code",
   "execution_count": null,
   "id": "eb39a143",
   "metadata": {},
   "outputs": [],
   "source": []
  },
  {
   "cell_type": "code",
   "execution_count": null,
   "id": "ada24b05",
   "metadata": {},
   "outputs": [],
   "source": []
  }
 ],
 "metadata": {
  "kernelspec": {
   "display_name": "HiChIP-DB",
   "language": "python",
   "name": "hichip-db"
  },
  "language_info": {
   "codemirror_mode": {
    "name": "ipython",
    "version": 3
   },
   "file_extension": ".py",
   "mimetype": "text/x-python",
   "name": "python",
   "nbconvert_exporter": "python",
   "pygments_lexer": "ipython3",
   "version": "3.9.10"
  }
 },
 "nbformat": 4,
 "nbformat_minor": 5
}
