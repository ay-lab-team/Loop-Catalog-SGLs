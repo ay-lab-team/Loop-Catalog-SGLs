{
 "cells": [
  {
   "cell_type": "markdown",
   "id": "1a3684f2",
   "metadata": {},
   "source": [
    "# Loop Catalog hg38 Tracks"
   ]
  },
  {
   "cell_type": "markdown",
   "id": "d1898476",
   "metadata": {},
   "source": [
    "Initially I started this notebook with the idea that I would focus on understanding loops from the loop catalog but then I also tried making WashU tracks with this data. The loops are in hg38 so that's actually a problem for my analysis since I am focusing on hg19. For now, this notebook is starts from the raw Loop Catalog data and generates hg38 longrange tracks. Check out the `Loop-Catalog-hg38-to-hg19` and `Loop-Catalog-Samples-and-Mcool-to-5kb-Cool` for more details on lifting over. "
   ]
  },
  {
   "cell_type": "code",
   "execution_count": 1,
   "id": "eb1e704f",
   "metadata": {},
   "outputs": [],
   "source": [
    "import os \n",
    "import numpy as np\n",
    "import pandas as pd\n",
    "import glob\n",
    "import subprocess as sp\n",
    "import json\n",
    "import warnings\n",
    "warnings.filterwarnings('ignore')\n",
    "\n",
    "# change the working directory\n",
    "os.chdir('<project-dir>')\n",
    "\n",
    "pd.set_option('display.max_columns', 1000)"
   ]
  },
  {
   "cell_type": "code",
   "execution_count": 2,
   "id": "d218a322",
   "metadata": {},
   "outputs": [],
   "source": [
    "outdir = 'results/main/loop_catalog/processing/hg38_tracks/'\n",
    "os.makedirs(outdir, exist_ok=True)"
   ]
  },
  {
   "cell_type": "code",
   "execution_count": 3,
   "id": "0757f2c3",
   "metadata": {},
   "outputs": [],
   "source": [
    "resolutions = [5000, 10000, 25000]\n",
    "\n",
    "stringency_no = [0, 1]\n",
    "stringency_str = ['S5', 'S10', 'S25', 'L5', 'L10', 'L25']\n",
    "\n",
    "# getting the template paths for different loops\n",
    "paths = {}\n",
    "paths['HiCCUPS'] = '<loops-dir>/loops/hiccups/{sample_name}/postprocessed_pixels_{res}.bedpe'\n",
    "paths['FitHiChIP using ChIP-Seq peaks'] = '<loops-dir>/loops/fithichip/{sample_name}_chipseq.peaks/{stg_str}/FitHiChIP_Peak2ALL_b{res}_L20000_U2000000/P2PBckgr_{stg_no}/Coverage_Bias/FitHiC_BiasCorr/FitHiChIP-{stg_str}.interactions_FitHiC_Q0.01.bed'\n",
    "paths['FitHiChIP using HiChIP-Peaks peaks'] = '<loops-dir>/loops/fithichip/{sample_name}_hichip-peaks.peaks/{stg_str}/FitHiChIP_Peak2ALL_b{res}_L20000_U2000000/P2PBckgr_{stg_no}/Coverage_Bias/FitHiC_BiasCorr/FitHiChIP-{stg_str}.interactions_FitHiC_Q0.01.bed'"
   ]
  },
  {
   "cell_type": "code",
   "execution_count": 4,
   "id": "23ec02ae",
   "metadata": {},
   "outputs": [],
   "source": [
    "# loading sample data\n",
    "samples = pd.read_excel('results/main/loop_catalog/master-table.immune-samples-only.xlsx')\n",
    "cline, gse, species, pulldown, biorep = zip(*samples['full.sample.name'].str.split('.'))\n",
    "\n",
    "samples['cline'] = cline\n",
    "samples['gse'] = gse\n",
    "samples['pulldown'] = pulldown\n",
    "samples['biorep'] = biorep"
   ]
  },
  {
   "cell_type": "code",
   "execution_count": 5,
   "id": "e4c6cc65",
   "metadata": {},
   "outputs": [
    {
     "data": {
      "text/plain": [
       "H3K27ac    22\n",
       "CTCF       11\n",
       "SMC1A       2\n",
       "H3K4me1     1\n",
       "KLF4        1\n",
       "NANOG       1\n",
       "OCT4        1\n",
       "Rad21       1\n",
       "Name: pulldown, dtype: int64"
      ]
     },
     "execution_count": 5,
     "metadata": {},
     "output_type": "execute_result"
    }
   ],
   "source": [
    "samples.pulldown.value_counts()"
   ]
  },
  {
   "cell_type": "code",
   "execution_count": 6,
   "id": "63874834",
   "metadata": {},
   "outputs": [],
   "source": [
    "enhancer_samples = samples.loc[samples['pulldown'] == 'H3K27ac']"
   ]
  },
  {
   "cell_type": "code",
   "execution_count": 7,
   "id": "580c615b",
   "metadata": {},
   "outputs": [
    {
     "data": {
      "text/plain": [
       "['GM12878',\n",
       " 'HARA',\n",
       " 'MyLa',\n",
       " 'Naive_Tcells',\n",
       " 'Th17',\n",
       " 'Treg',\n",
       " 'lgs000379',\n",
       " 'lgs101645',\n",
       " 'lgs102580',\n",
       " 'lgs102943',\n",
       " 'lgs301283',\n",
       " 'lgs301315']"
      ]
     },
     "execution_count": 7,
     "metadata": {},
     "output_type": "execute_result"
    }
   ],
   "source": [
    "enhancer_samples.cline.unique().tolist()"
   ]
  },
  {
   "cell_type": "markdown",
   "id": "f16ba67e",
   "metadata": {},
   "source": [
    "## Making HiCCUPs Hub"
   ]
  },
  {
   "cell_type": "code",
   "execution_count": 8,
   "id": "a7ba873f",
   "metadata": {},
   "outputs": [],
   "source": [
    "hiccups_dir = os.path.join(outdir, 'hiccups/')\n",
    "os.makedirs(hiccups_dir, exist_ok=True)"
   ]
  },
  {
   "cell_type": "code",
   "execution_count": 9,
   "id": "b73b870c",
   "metadata": {},
   "outputs": [],
   "source": [
    "# extra FitHiChIP loops for best filtering parameters\n",
    "res = 5000\n",
    "stg_no = 1\n",
    "stg_str = 'S5'\n",
    "for sample_name in enhancer_samples['full.sample.name']:\n",
    "    \n",
    "    hiccups = paths['HiCCUPS'].format(sample_name=sample_name,\n",
    "                                      stg_str=stg_str,\n",
    "                                      stg_no=stg_no,\n",
    "                                      res=res)\n",
    "    \n",
    "    if os.path.exists(hiccups):\n",
    "        \n",
    "        hiccups_df = pd.read_table(hiccups)\n",
    "        hiccups_df = hiccups_df.loc[~hiccups_df['#chr1'].str.match('^#')]\n",
    "        hiccups_df.loc[:, '#chr1'] = 'chr' + hiccups_df.loc[:, '#chr1']\n",
    "        hiccups_df.loc[:, 'chr2'] = 'chr' + hiccups_df.loc[:, 'chr2']\n",
    "        hiccups_df.loc[:, 'x1'] = hiccups_df['x1'].astype(int)\n",
    "        hiccups_df.loc[:, 'x2'] = hiccups_df['x2'].astype(int)\n",
    "        hiccups_df.loc[:, 'y1'] = hiccups_df['y1'].astype(int)\n",
    "        hiccups_df.loc[:, 'y2'] = hiccups_df['y2'].astype(int)\n",
    "\n",
    "        hiccups_lr = hiccups_df[['#chr1', 'x1', 'x2', 'chr2', 'y1', 'y2', 'fdrH']]\n",
    "        #hiccups_lr.loc[hiccups_lr['fdrH'] == 0, 'fdrH'] = 1 * 10**(-8) # assign super sign to 0 p-value regions\n",
    "        \n",
    "        hiccups_lr['-log10(fdrH)'] =  -1 * np.log10(hiccups_lr['fdrH'])\n",
    "\n",
    "        # assign max score to inf\n",
    "        s = hiccups_lr['-log10(fdrH)']\n",
    "        s = s[s != np.inf]     \n",
    "        hiccups_lr.loc[hiccups_lr['-log10(fdrH)'] == np.inf, '-log10(fdrH)'] = max(s)\n",
    "         \n",
    "            \n",
    "        hiccups_lr['right'] = hiccups_lr['chr2'] + ':' +  hiccups_lr['y1'].astype(str) \\\n",
    "                                    + '-' + hiccups_lr['y2'].astype(str) + ',' \\\n",
    "                                    + hiccups_lr['-log10(fdrH)'].apply(lambda x: '{:.2f}'.format(x))\n",
    "        \n",
    "        # sort based on coordinates (lexicographically)\n",
    "        hiccups_lr.sort_values(['#chr1', 'x1', 'x2', 'right'], inplace=True)\n",
    "        \n",
    "        save_lr = hiccups_lr[['#chr1', 'x1', 'x2', 'right']]\n",
    "        \n",
    "        outfn = os.path.join(hiccups_dir, '{}.bed'.format(sample_name))\n",
    "        save_lr.to_csv(outfn, sep='\\t', header=False, index=False)\n"
   ]
  },
  {
   "cell_type": "code",
   "execution_count": 10,
   "id": "ef4cfd06",
   "metadata": {
    "scrolled": true
   },
   "outputs": [],
   "source": [
    "tabix = '<software-dir>/tabix/tabix-0.2.6/tabix'\n",
    "bgzip = '<software-dir>/tabix/tabix-0.2.6/bgzip'\n",
    "\n",
    "for fn in glob.glob(os.path.join(hiccups_dir, '*.bed')):\n",
    "    \n",
    "    # make a gz file\n",
    "    cmd = '{0} -c {1} > {1}.gz'.format(bgzip, fn)\n",
    "    j = sp.check_output(cmd, shell=True)\n",
    "    \n",
    "    # make an index file\n",
    "    cmd = '{0} -f {1}.gz'.format(tabix, fn)\n",
    "    g = sp.check_output(cmd, shell=True)"
   ]
  },
  {
   "cell_type": "code",
   "execution_count": 11,
   "id": "fdc46342",
   "metadata": {},
   "outputs": [
    {
     "name": "stdout",
     "output_type": "stream",
     "text": [
      "https://informaticsdata.liai.org/bioadhoc-temp/Groups/vd-ay/jreyna/projects/dchallenge/results/main/loop_catalog/processing/hg38_tracks/hiccups/MyLa.GSE101498.Homo_Sapiens.H3K27ac.b1.bed.gz\n",
      "https://informaticsdata.liai.org/bioadhoc-temp/Groups/vd-ay/jreyna/projects/dchallenge/results/main/loop_catalog/processing/hg38_tracks/hiccups/MyLa.GSE101498.Homo_Sapiens.H3K27ac.b2.bed.gz\n",
      "https://informaticsdata.liai.org/bioadhoc-temp/Groups/vd-ay/jreyna/projects/dchallenge/results/main/loop_catalog/processing/hg38_tracks/hiccups/GM12878.GSE101498.Homo_Sapiens.H3K27ac.b2.bed.gz\n",
      "https://informaticsdata.liai.org/bioadhoc-temp/Groups/vd-ay/jreyna/projects/dchallenge/results/main/loop_catalog/processing/hg38_tracks/hiccups/Th17.GSE101498.Homo_Sapiens.H3K27ac.b1.bed.gz\n",
      "https://informaticsdata.liai.org/bioadhoc-temp/Groups/vd-ay/jreyna/projects/dchallenge/results/main/loop_catalog/processing/hg38_tracks/hiccups/MyLa.GSE151193.Homo_Sapiens.H3K27ac.b1.bed.gz\n",
      "https://informaticsdata.liai.org/bioadhoc-temp/Groups/vd-ay/jreyna/projects/dchallenge/results/main/loop_catalog/processing/hg38_tracks/hiccups/Naive_Tcells.GSE101498.Homo_Sapiens.H3K27ac.b2.bed.gz\n",
      "https://informaticsdata.liai.org/bioadhoc-temp/Groups/vd-ay/jreyna/projects/dchallenge/results/main/loop_catalog/processing/hg38_tracks/hiccups/Th17.GSE101498.Homo_Sapiens.H3K27ac.b2.bed.gz\n",
      "https://informaticsdata.liai.org/bioadhoc-temp/Groups/vd-ay/jreyna/projects/dchallenge/results/main/loop_catalog/processing/hg38_tracks/hiccups/MyLa.GSE137906.Homo_Sapiens.H3K27ac.b1.bed.gz\n",
      "https://informaticsdata.liai.org/bioadhoc-temp/Groups/vd-ay/jreyna/projects/dchallenge/results/main/loop_catalog/processing/hg38_tracks/hiccups/Treg.GSE101498.Homo_Sapiens.H3K27ac.b2.bed.gz\n",
      "https://informaticsdata.liai.org/bioadhoc-temp/Groups/vd-ay/jreyna/projects/dchallenge/results/main/loop_catalog/processing/hg38_tracks/hiccups/Th17.GSE101498.Homo_Sapiens.H3K27ac.b3.bed.gz\n",
      "https://informaticsdata.liai.org/bioadhoc-temp/Groups/vd-ay/jreyna/projects/dchallenge/results/main/loop_catalog/processing/hg38_tracks/hiccups/GM12878.GSE101498.Homo_Sapiens.H3K27ac.b1.bed.gz\n",
      "https://informaticsdata.liai.org/bioadhoc-temp/Groups/vd-ay/jreyna/projects/dchallenge/results/main/loop_catalog/processing/hg38_tracks/hiccups/Treg.GSE101498.Homo_Sapiens.H3K27ac.b3.bed.gz\n",
      "https://informaticsdata.liai.org/bioadhoc-temp/Groups/vd-ay/jreyna/projects/dchallenge/results/main/loop_catalog/processing/hg38_tracks/hiccups/Naive_Tcells.GSE101498.Homo_Sapiens.H3K27ac.b3.bed.gz\n"
     ]
    }
   ],
   "source": [
    "# collect json formatted information\n",
    "url_root = 'https://informaticsdata.liai.org/bioadhoc-temp/Groups/vd-ay/jreyna/projects/dchallenge/results/main/loop_catalog/processing/hg38_tracks/hiccups/'\n",
    "hub = []\n",
    "for fn in glob.glob(os.path.join(hiccups_dir, '*.bed.gz')):\n",
    "    \n",
    "    # get basename for url\n",
    "    bn = os.path.basename(fn)\n",
    "    \n",
    "    # create the whole URL\n",
    "    full_url = os.path.join(url_root, bn)                       \n",
    "    print(full_url)\n",
    "    \n",
    "    # get cell name \n",
    "    sample_name = bn.replace('.bed.gz', '')\n",
    "        \n",
    "    # use cell name to get cell metadata info\n",
    "    #cell_info = t1d_cells.loc[cell_name]\n",
    "        \n",
    "    # fill in the JSON details\n",
    "    entry = {}\n",
    "    entry['type'] = 'longrange'\n",
    "    entry['name'] = 'hiccups Loops peaks for {}'.format(sample_name)\n",
    "    entry['url'] = full_url\n",
    "        \n",
    "    \n",
    "    entry['showOnHubLoad'] = True\n",
    "    #color = cell_colors.loc[cell_info['color-name'], 'hex']\n",
    "    color = 'red'\n",
    "    entry['options'] = {'ensembleStyle': True, 'displayMode': 'arc', 'height': 200, 'color': color}\n",
    "\n",
    "    hub.append(entry)"
   ]
  },
  {
   "cell_type": "code",
   "execution_count": 12,
   "id": "41a0954b",
   "metadata": {},
   "outputs": [],
   "source": [
    "## save the hub\n",
    "hub_fn = os.path.join(hiccups_dir, 'hub.config.txt')\n",
    "with open(hub_fn, 'w') as fw:\n",
    "    s = json.dumps(hub,  indent=True)\n",
    "    fw.write(s) "
   ]
  },
  {
   "cell_type": "code",
   "execution_count": 13,
   "id": "a4e24fe7",
   "metadata": {},
   "outputs": [],
   "source": [
    "hub_link = os.path.join(url_root, os.path.basename(hub_fn))"
   ]
  },
  {
   "cell_type": "code",
   "execution_count": 14,
   "id": "57aaaad6",
   "metadata": {},
   "outputs": [
    {
     "data": {
      "text/plain": [
       "'https://informaticsdata.liai.org/bioadhoc-temp/Groups/vd-ay/jreyna/projects/dchallenge/results/main/loop_catalog/processing/hg38_tracks/hiccups/hub.config.txt'"
      ]
     },
     "execution_count": 14,
     "metadata": {},
     "output_type": "execute_result"
    }
   ],
   "source": [
    "hub_link"
   ]
  },
  {
   "cell_type": "markdown",
   "id": "137830b5",
   "metadata": {},
   "source": [
    "## Making FitHiChIP using ChIP-Seq peaks Hub"
   ]
  },
  {
   "cell_type": "code",
   "execution_count": 15,
   "id": "5881b20d",
   "metadata": {},
   "outputs": [],
   "source": [
    "fit_cp_dir = os.path.join(outdir, 'fit_cp/')\n",
    "os.makedirs(fit_cp_dir, exist_ok=True)"
   ]
  },
  {
   "cell_type": "code",
   "execution_count": 16,
   "id": "a95a0c0b",
   "metadata": {},
   "outputs": [],
   "source": [
    "# processing data from FitHiChIP using ChIP-Seq peaks\n",
    "for sample_name in enhancer_samples['full.sample.name']:\n",
    "\n",
    "    fit_cp = paths['FitHiChIP using ChIP-Seq peaks'].format(sample_name=sample_name,\n",
    "                                      stg_str=stg_str,\n",
    "                                      stg_no=stg_no,\n",
    "                                      res=res)\n",
    "    if os.path.exists(fit_cp):\n",
    "        \n",
    "        fit_cp_df = pd.read_table(fit_cp)\n",
    "                \n",
    "        fit_cp_lr = fit_cp_df[['chr1', 's1', 'e1', 'chr2', 's2', 'e2', 'p']]\n",
    "        \n",
    "        fit_cp_lr['-log10(p)'] =  -1 * np.log10(fit_cp_lr['p'])\n",
    "\n",
    "        # assign max score to inf\n",
    "        s = fit_cp_lr['-log10(p)']\n",
    "        s = s[s != np.inf]     \n",
    "        fit_cp_lr.loc[fit_cp_lr['-log10(p)'] == np.inf, '-log10(p)'] = max(s)\n",
    "         \n",
    "            \n",
    "        fit_cp_lr['right'] = fit_cp_lr['chr2'] + ':' +  fit_cp_lr['s2'].astype(str) \\\n",
    "                                    + '-' + fit_cp_lr['e2'].astype(str) + ',' \\\n",
    "                                    + fit_cp_lr['-log10(p)'].apply(lambda x: '{:.2f}'.format(x))\n",
    "        \n",
    "        # sort based on coordinates (lexicographically)\n",
    "        fit_cp_lr.sort_values(['chr1', 's1', 'e1', 'right'], inplace=True)\n",
    "        \n",
    "        save_lr = fit_cp_lr[['chr1', 's1', 'e1', 'right']]\n",
    "        \n",
    "        outfn = os.path.join(fit_cp_dir, '{}.bed'.format(sample_name))\n",
    "        save_lr.to_csv(outfn, sep='\\t', header=False, index=False)\n",
    "\n",
    "    "
   ]
  },
  {
   "cell_type": "code",
   "execution_count": 17,
   "id": "234e69d8",
   "metadata": {},
   "outputs": [],
   "source": [
    "for fn in glob.glob(os.path.join(fit_cp_dir, '*.bed')):\n",
    "    \n",
    "    # make a gz file\n",
    "    cmd = '{0} -c {1} > {1}.gz'.format(bgzip, fn)\n",
    "    j = sp.check_output(cmd, shell=True)\n",
    "    \n",
    "    # make an index file\n",
    "    cmd = '{0} -f {1}.gz'.format(tabix, fn)\n",
    "    g = sp.check_output(cmd, shell=True)"
   ]
  },
  {
   "cell_type": "code",
   "execution_count": 18,
   "id": "a9ccf050",
   "metadata": {},
   "outputs": [
    {
     "name": "stdout",
     "output_type": "stream",
     "text": [
      "https://informaticsdata.liai.org/bioadhoc-temp/Groups/vd-ay/jreyna/projects/dchallenge/results/main/loop_catalog/processing/hg38_tracks/fit_cp/lgs102580.GSE116193.Homo_Sapiens.H3K27ac.b1.bed.gz\n",
      "https://informaticsdata.liai.org/bioadhoc-temp/Groups/vd-ay/jreyna/projects/dchallenge/results/main/loop_catalog/processing/hg38_tracks/fit_cp/lgs101645.GSE116193.Homo_Sapiens.H3K27ac.b1.bed.gz\n",
      "https://informaticsdata.liai.org/bioadhoc-temp/Groups/vd-ay/jreyna/projects/dchallenge/results/main/loop_catalog/processing/hg38_tracks/fit_cp/lgs301283.GSE116193.Homo_Sapiens.H3K27ac.b1.bed.gz\n",
      "https://informaticsdata.liai.org/bioadhoc-temp/Groups/vd-ay/jreyna/projects/dchallenge/results/main/loop_catalog/processing/hg38_tracks/fit_cp/lgs102943.GSE116193.Homo_Sapiens.H3K27ac.b1.bed.gz\n",
      "https://informaticsdata.liai.org/bioadhoc-temp/Groups/vd-ay/jreyna/projects/dchallenge/results/main/loop_catalog/processing/hg38_tracks/fit_cp/lgs301315.GSE116193.Homo_Sapiens.H3K27ac.b1.bed.gz\n",
      "https://informaticsdata.liai.org/bioadhoc-temp/Groups/vd-ay/jreyna/projects/dchallenge/results/main/loop_catalog/processing/hg38_tracks/fit_cp/lgs000379.GSE116193.Homo_Sapiens.H3K27ac.b1.bed.gz\n"
     ]
    }
   ],
   "source": [
    "# collect json formatted information\n",
    "url_root = 'https://informaticsdata.liai.org/bioadhoc-temp/Groups/vd-ay/jreyna/projects/dchallenge/results/main/loop_catalog/processing/hg38_tracks/fit_cp/'\n",
    "hub = []\n",
    "for fn in glob.glob(os.path.join(fit_cp_dir, '*.bed.gz')):\n",
    "    \n",
    "    # get basename for url\n",
    "    bn = os.path.basename(fn)\n",
    "    \n",
    "    # create the whole URL\n",
    "    full_url = os.path.join(url_root, bn)                       \n",
    "    print(full_url)\n",
    "    \n",
    "    # get cell name \n",
    "    sample_name = bn.replace('.bed.gz', '')\n",
    "        \n",
    "    # use cell name to get cell metadata info\n",
    "    #cell_info = t1d_cells.loc[cell_name]\n",
    "        \n",
    "    # fill in the JSON details\n",
    "    entry = {}\n",
    "    entry['type'] = 'longrange'\n",
    "    entry['name'] = 'Loops peaks for {}'.format(sample_name)\n",
    "    entry['url'] = full_url\n",
    "        \n",
    "    \n",
    "    entry['showOnHubLoad'] = True\n",
    "    #color = cell_colors.loc[cell_info['color-name'], 'hex']\n",
    "    color = 'red'\n",
    "    entry['options'] = {'ensembleStyle': True, 'displayMode': 'arc', 'height': 200, 'color': color}\n",
    "\n",
    "    hub.append(entry)"
   ]
  },
  {
   "cell_type": "code",
   "execution_count": 19,
   "id": "e23dfc01",
   "metadata": {},
   "outputs": [],
   "source": [
    "## save the hub\n",
    "hub_fn = os.path.join(fit_cp_dir, 'hub.config.txt')\n",
    "with open(hub_fn, 'w') as fw:\n",
    "    s = json.dumps(hub,  indent=True)\n",
    "    fw.write(s) "
   ]
  },
  {
   "cell_type": "code",
   "execution_count": 20,
   "id": "c4a377bb",
   "metadata": {},
   "outputs": [],
   "source": [
    "hub_link = os.path.join(url_root, os.path.basename(hub_fn))"
   ]
  },
  {
   "cell_type": "code",
   "execution_count": 21,
   "id": "95f11651",
   "metadata": {},
   "outputs": [
    {
     "data": {
      "text/plain": [
       "'https://informaticsdata.liai.org/bioadhoc-temp/Groups/vd-ay/jreyna/projects/dchallenge/results/main/loop_catalog/processing/hg38_tracks/fit_cp/hub.config.txt'"
      ]
     },
     "execution_count": 21,
     "metadata": {},
     "output_type": "execute_result"
    }
   ],
   "source": [
    "hub_link"
   ]
  },
  {
   "cell_type": "code",
   "execution_count": 22,
   "id": "1dfc63fb",
   "metadata": {},
   "outputs": [
    {
     "data": {
      "text/html": [
       "<div>\n",
       "<style scoped>\n",
       "    .dataframe tbody tr th:only-of-type {\n",
       "        vertical-align: middle;\n",
       "    }\n",
       "\n",
       "    .dataframe tbody tr th {\n",
       "        vertical-align: top;\n",
       "    }\n",
       "\n",
       "    .dataframe thead th {\n",
       "        text-align: right;\n",
       "    }\n",
       "</style>\n",
       "<table border=\"1\" class=\"dataframe\">\n",
       "  <thead>\n",
       "    <tr style=\"text-align: right;\">\n",
       "      <th></th>\n",
       "      <th>chr1</th>\n",
       "      <th>s1</th>\n",
       "      <th>e1</th>\n",
       "      <th>right</th>\n",
       "    </tr>\n",
       "  </thead>\n",
       "  <tbody>\n",
       "    <tr>\n",
       "      <th>0</th>\n",
       "      <td>chr1</td>\n",
       "      <td>24960000</td>\n",
       "      <td>24965000</td>\n",
       "      <td>chr1:25020000-25025000,6.07</td>\n",
       "    </tr>\n",
       "    <tr>\n",
       "      <th>1</th>\n",
       "      <td>chr1</td>\n",
       "      <td>24960000</td>\n",
       "      <td>24965000</td>\n",
       "      <td>chr1:25030000-25035000,6.12</td>\n",
       "    </tr>\n",
       "    <tr>\n",
       "      <th>2</th>\n",
       "      <td>chr1</td>\n",
       "      <td>24965000</td>\n",
       "      <td>24970000</td>\n",
       "      <td>chr1:25020000-25025000,6.04</td>\n",
       "    </tr>\n",
       "    <tr>\n",
       "      <th>3</th>\n",
       "      <td>chr1</td>\n",
       "      <td>160425000</td>\n",
       "      <td>160430000</td>\n",
       "      <td>chr1:160545000-160550000,6.30</td>\n",
       "    </tr>\n",
       "    <tr>\n",
       "      <th>4</th>\n",
       "      <td>chr1</td>\n",
       "      <td>160430000</td>\n",
       "      <td>160435000</td>\n",
       "      <td>chr1:160535000-160540000,6.25</td>\n",
       "    </tr>\n",
       "    <tr>\n",
       "      <th>...</th>\n",
       "      <td>...</td>\n",
       "      <td>...</td>\n",
       "      <td>...</td>\n",
       "      <td>...</td>\n",
       "    </tr>\n",
       "    <tr>\n",
       "      <th>241</th>\n",
       "      <td>chr9</td>\n",
       "      <td>131670000</td>\n",
       "      <td>131675000</td>\n",
       "      <td>chr9:131730000-131735000,6.07</td>\n",
       "    </tr>\n",
       "    <tr>\n",
       "      <th>242</th>\n",
       "      <td>chr9</td>\n",
       "      <td>137675000</td>\n",
       "      <td>137680000</td>\n",
       "      <td>chr9:137760000-137765000,6.18</td>\n",
       "    </tr>\n",
       "    <tr>\n",
       "      <th>243</th>\n",
       "      <td>chrX</td>\n",
       "      <td>12950000</td>\n",
       "      <td>12955000</td>\n",
       "      <td>chrX:13085000-13090000,6.35</td>\n",
       "    </tr>\n",
       "    <tr>\n",
       "      <th>244</th>\n",
       "      <td>chrX</td>\n",
       "      <td>12955000</td>\n",
       "      <td>12960000</td>\n",
       "      <td>chrX:13085000-13090000,6.33</td>\n",
       "    </tr>\n",
       "    <tr>\n",
       "      <th>245</th>\n",
       "      <td>chrX</td>\n",
       "      <td>13085000</td>\n",
       "      <td>13090000</td>\n",
       "      <td>chrX:13255000-13260000,6.45</td>\n",
       "    </tr>\n",
       "  </tbody>\n",
       "</table>\n",
       "<p>246 rows × 4 columns</p>\n",
       "</div>"
      ],
      "text/plain": [
       "     chr1         s1         e1                          right\n",
       "0    chr1   24960000   24965000    chr1:25020000-25025000,6.07\n",
       "1    chr1   24960000   24965000    chr1:25030000-25035000,6.12\n",
       "2    chr1   24965000   24970000    chr1:25020000-25025000,6.04\n",
       "3    chr1  160425000  160430000  chr1:160545000-160550000,6.30\n",
       "4    chr1  160430000  160435000  chr1:160535000-160540000,6.25\n",
       "..    ...        ...        ...                            ...\n",
       "241  chr9  131670000  131675000  chr9:131730000-131735000,6.07\n",
       "242  chr9  137675000  137680000  chr9:137760000-137765000,6.18\n",
       "243  chrX   12950000   12955000    chrX:13085000-13090000,6.35\n",
       "244  chrX   12955000   12960000    chrX:13085000-13090000,6.33\n",
       "245  chrX   13085000   13090000    chrX:13255000-13260000,6.45\n",
       "\n",
       "[246 rows x 4 columns]"
      ]
     },
     "execution_count": 22,
     "metadata": {},
     "output_type": "execute_result"
    }
   ],
   "source": [
    "save_lr"
   ]
  },
  {
   "cell_type": "markdown",
   "id": "15756690",
   "metadata": {},
   "source": [
    "## Making FitHiChIP using HiChIP-Peaks peaks"
   ]
  },
  {
   "cell_type": "code",
   "execution_count": 23,
   "id": "cfa40f46",
   "metadata": {},
   "outputs": [],
   "source": [
    "fit_hp_dir = os.path.join(outdir, 'fit_hp/')\n",
    "os.makedirs(fit_hp_dir, exist_ok=True)"
   ]
  },
  {
   "cell_type": "code",
   "execution_count": 24,
   "id": "9f831b1d",
   "metadata": {},
   "outputs": [],
   "source": [
    "# processing data from FitHiChIP using ChIP-Seq peaks\n",
    "for sample_name in enhancer_samples['full.sample.name']:\n",
    "\n",
    "    fit_hp = paths['FitHiChIP using HiChIP-Peaks peaks'].format(sample_name=sample_name,\n",
    "                                      stg_str=stg_str,\n",
    "                                      stg_no=stg_no,\n",
    "                                      res=res)\n",
    "    if os.path.exists(fit_hp):\n",
    "        \n",
    "        fit_hp_df = pd.read_table(fit_hp)\n",
    "                \n",
    "        fit_hp_lr = fit_hp_df[['chr1', 's1', 'e1', 'chr2', 's2', 'e2', 'p']]\n",
    "        \n",
    "        fit_hp_lr['-log10(p)'] =  -1 * np.log10(fit_hp_lr['p'])\n",
    "\n",
    "        # assign max score to inf\n",
    "        s = fit_hp_lr['-log10(p)']\n",
    "        s = s[s != np.inf]     \n",
    "        fit_hp_lr.loc[fit_hp_lr['-log10(p)'] == np.inf, '-log10(p)'] = max(s)\n",
    "         \n",
    "            \n",
    "        fit_hp_lr['right'] = fit_hp_lr['chr2'] + ':' +  fit_hp_lr['s2'].astype(str) \\\n",
    "                                    + '-' + fit_hp_lr['e2'].astype(str) + ',' \\\n",
    "                                    + fit_hp_lr['-log10(p)'].apply(lambda x: '{:.2f}'.format(x))\n",
    "        \n",
    "        # sort based on coordinates (lexicographically)\n",
    "        fit_hp_lr.sort_values(['chr1', 's1', 'e1', 'right'], inplace=True)\n",
    "        \n",
    "        save_lr = fit_hp_lr[['chr1', 's1', 'e1', 'right']]\n",
    "        \n",
    "        outfn = os.path.join(fit_hp_dir, '{}.bed'.format(sample_name))\n",
    "        save_lr.to_csv(outfn, sep='\\t', header=False, index=False)\n",
    "\n",
    "    "
   ]
  },
  {
   "cell_type": "code",
   "execution_count": 25,
   "id": "ad99188f",
   "metadata": {},
   "outputs": [],
   "source": [
    "for fn in glob.glob(os.path.join(fit_hp_dir, '*.bed')):\n",
    "    \n",
    "    # make a gz file\n",
    "    cmd = '{0} -c {1} > {1}.gz'.format(bgzip, fn)\n",
    "    j = sp.check_output(cmd, shell=True)\n",
    "    \n",
    "    # make an index file\n",
    "    cmd = '{0} -f {1}.gz'.format(tabix, fn)\n",
    "    g = sp.check_output(cmd, shell=True)"
   ]
  },
  {
   "cell_type": "code",
   "execution_count": 26,
   "id": "6491402e",
   "metadata": {},
   "outputs": [
    {
     "name": "stdout",
     "output_type": "stream",
     "text": [
      "https://informaticsdata.liai.org/bioadhoc-temp/Groups/vd-ay/jreyna/projects/dchallenge/results/main/loop_catalog/processing/hg38_tracks/fit_hp/lgs301315.GSE116193.Homo_Sapiens.H3K27ac.b1.bed.gz\n",
      "https://informaticsdata.liai.org/bioadhoc-temp/Groups/vd-ay/jreyna/projects/dchallenge/results/main/loop_catalog/processing/hg38_tracks/fit_hp/MyLa.GSE151193.Homo_Sapiens.H3K27ac.b1.bed.gz\n",
      "https://informaticsdata.liai.org/bioadhoc-temp/Groups/vd-ay/jreyna/projects/dchallenge/results/main/loop_catalog/processing/hg38_tracks/fit_hp/MyLa.GSE137906.Homo_Sapiens.H3K27ac.b1.bed.gz\n",
      "https://informaticsdata.liai.org/bioadhoc-temp/Groups/vd-ay/jreyna/projects/dchallenge/results/main/loop_catalog/processing/hg38_tracks/fit_hp/Naive_Tcells.GSE101498.Homo_Sapiens.H3K27ac.b3.bed.gz\n",
      "https://informaticsdata.liai.org/bioadhoc-temp/Groups/vd-ay/jreyna/projects/dchallenge/results/main/loop_catalog/processing/hg38_tracks/fit_hp/Th17.GSE101498.Homo_Sapiens.H3K27ac.b3.bed.gz\n",
      "https://informaticsdata.liai.org/bioadhoc-temp/Groups/vd-ay/jreyna/projects/dchallenge/results/main/loop_catalog/processing/hg38_tracks/fit_hp/MyLa.GSE101498.Homo_Sapiens.H3K27ac.b2.bed.gz\n",
      "https://informaticsdata.liai.org/bioadhoc-temp/Groups/vd-ay/jreyna/projects/dchallenge/results/main/loop_catalog/processing/hg38_tracks/fit_hp/Treg.GSE101498.Homo_Sapiens.H3K27ac.b2.bed.gz\n",
      "https://informaticsdata.liai.org/bioadhoc-temp/Groups/vd-ay/jreyna/projects/dchallenge/results/main/loop_catalog/processing/hg38_tracks/fit_hp/lgs000379.GSE116193.Homo_Sapiens.H3K27ac.b1.bed.gz\n",
      "https://informaticsdata.liai.org/bioadhoc-temp/Groups/vd-ay/jreyna/projects/dchallenge/results/main/loop_catalog/processing/hg38_tracks/fit_hp/Th17.GSE101498.Homo_Sapiens.H3K27ac.b2.bed.gz\n",
      "https://informaticsdata.liai.org/bioadhoc-temp/Groups/vd-ay/jreyna/projects/dchallenge/results/main/loop_catalog/processing/hg38_tracks/fit_hp/Naive_Tcells.GSE101498.Homo_Sapiens.H3K27ac.b1.bed.gz\n",
      "https://informaticsdata.liai.org/bioadhoc-temp/Groups/vd-ay/jreyna/projects/dchallenge/results/main/loop_catalog/processing/hg38_tracks/fit_hp/Naive_Tcells.GSE101498.Homo_Sapiens.H3K27ac.b2.bed.gz\n",
      "https://informaticsdata.liai.org/bioadhoc-temp/Groups/vd-ay/jreyna/projects/dchallenge/results/main/loop_catalog/processing/hg38_tracks/fit_hp/Treg.GSE101498.Homo_Sapiens.H3K27ac.b3.bed.gz\n",
      "https://informaticsdata.liai.org/bioadhoc-temp/Groups/vd-ay/jreyna/projects/dchallenge/results/main/loop_catalog/processing/hg38_tracks/fit_hp/GM12878.GSE101498.Homo_Sapiens.H3K27ac.b2.bed.gz\n",
      "https://informaticsdata.liai.org/bioadhoc-temp/Groups/vd-ay/jreyna/projects/dchallenge/results/main/loop_catalog/processing/hg38_tracks/fit_hp/HARA.GSE147854.Homo_Sapiens.H3K27ac.b1.bed.gz\n",
      "https://informaticsdata.liai.org/bioadhoc-temp/Groups/vd-ay/jreyna/projects/dchallenge/results/main/loop_catalog/processing/hg38_tracks/fit_hp/Th17.GSE101498.Homo_Sapiens.H3K27ac.b1.bed.gz\n",
      "https://informaticsdata.liai.org/bioadhoc-temp/Groups/vd-ay/jreyna/projects/dchallenge/results/main/loop_catalog/processing/hg38_tracks/fit_hp/lgs101645.GSE116193.Homo_Sapiens.H3K27ac.b1.bed.gz\n",
      "https://informaticsdata.liai.org/bioadhoc-temp/Groups/vd-ay/jreyna/projects/dchallenge/results/main/loop_catalog/processing/hg38_tracks/fit_hp/lgs301283.GSE116193.Homo_Sapiens.H3K27ac.b1.bed.gz\n",
      "https://informaticsdata.liai.org/bioadhoc-temp/Groups/vd-ay/jreyna/projects/dchallenge/results/main/loop_catalog/processing/hg38_tracks/fit_hp/Treg.GSE101498.Homo_Sapiens.H3K27ac.b1.bed.gz\n",
      "https://informaticsdata.liai.org/bioadhoc-temp/Groups/vd-ay/jreyna/projects/dchallenge/results/main/loop_catalog/processing/hg38_tracks/fit_hp/MyLa.GSE101498.Homo_Sapiens.H3K27ac.b1.bed.gz\n",
      "https://informaticsdata.liai.org/bioadhoc-temp/Groups/vd-ay/jreyna/projects/dchallenge/results/main/loop_catalog/processing/hg38_tracks/fit_hp/lgs102943.GSE116193.Homo_Sapiens.H3K27ac.b1.bed.gz\n",
      "https://informaticsdata.liai.org/bioadhoc-temp/Groups/vd-ay/jreyna/projects/dchallenge/results/main/loop_catalog/processing/hg38_tracks/fit_hp/GM12878.GSE101498.Homo_Sapiens.H3K27ac.b1.bed.gz\n",
      "https://informaticsdata.liai.org/bioadhoc-temp/Groups/vd-ay/jreyna/projects/dchallenge/results/main/loop_catalog/processing/hg38_tracks/fit_hp/lgs102580.GSE116193.Homo_Sapiens.H3K27ac.b1.bed.gz\n"
     ]
    }
   ],
   "source": [
    "# collect json formatted information\n",
    "url_root = 'https://informaticsdata.liai.org/bioadhoc-temp/Groups/vd-ay/jreyna/projects/dchallenge/results/main/loop_catalog/processing/hg38_tracks/fit_hp/'\n",
    "hub = []\n",
    "for fn in glob.glob(os.path.join(fit_hp_dir, '*.bed.gz')):\n",
    "    \n",
    "    # get basename for url\n",
    "    bn = os.path.basename(fn)\n",
    "    \n",
    "    # create the whole URL\n",
    "    full_url = os.path.join(url_root, bn)                       \n",
    "    print(full_url)\n",
    "    \n",
    "    # get cell name \n",
    "    sample_name = bn.replace('.bed.gz', '')\n",
    "        \n",
    "    # use cell name to get cell metadata info\n",
    "    #cell_info = t1d_cells.loc[cell_name]\n",
    "        \n",
    "    # fill in the JSON details\n",
    "    entry = {}\n",
    "    entry['type'] = 'longrange'\n",
    "    entry['name'] = 'Loops peaks for {}'.format(sample_name)\n",
    "    entry['url'] = full_url\n",
    "        \n",
    "    \n",
    "    entry['showOnHubLoad'] = True\n",
    "    #color = cell_colors.loc[cell_info['color-name'], 'hex']\n",
    "    color = 'red'\n",
    "    entry['options'] = {'ensembleStyle': True, 'displayMode': 'arc', 'height': 200, 'color': color}\n",
    "\n",
    "    hub.append(entry)"
   ]
  },
  {
   "cell_type": "code",
   "execution_count": 27,
   "id": "9cbf0264",
   "metadata": {},
   "outputs": [],
   "source": [
    "## save the hub\n",
    "hub_fn = os.path.join(fit_hp_dir, 'hub.config.txt')\n",
    "with open(hub_fn, 'w') as fw:\n",
    "    s = json.dumps(hub,  indent=True)\n",
    "    fw.write(s) "
   ]
  },
  {
   "cell_type": "code",
   "execution_count": 28,
   "id": "27d60443",
   "metadata": {},
   "outputs": [],
   "source": [
    "hub_link = os.path.join(url_root, os.path.basename(hub_fn))"
   ]
  },
  {
   "cell_type": "code",
   "execution_count": 29,
   "id": "117fe51c",
   "metadata": {},
   "outputs": [
    {
     "data": {
      "text/plain": [
       "'https://informaticsdata.liai.org/bioadhoc-temp/Groups/vd-ay/jreyna/projects/dchallenge/results/main/loop_catalog/processing/hg38_tracks/fit_hp/hub.config.txt'"
      ]
     },
     "execution_count": 29,
     "metadata": {},
     "output_type": "execute_result"
    }
   ],
   "source": [
    "hub_link"
   ]
  }
 ],
 "metadata": {
  "kernelspec": {
   "display_name": "(hichip-db)",
   "language": "python",
   "name": "hichip-db"
  },
  "language_info": {
   "codemirror_mode": {
    "name": "ipython",
    "version": 3
   },
   "file_extension": ".py",
   "mimetype": "text/x-python",
   "name": "python",
   "nbconvert_exporter": "python",
   "pygments_lexer": "ipython3",
   "version": "3.9.10"
  }
 },
 "nbformat": 4,
 "nbformat_minor": 5
}
