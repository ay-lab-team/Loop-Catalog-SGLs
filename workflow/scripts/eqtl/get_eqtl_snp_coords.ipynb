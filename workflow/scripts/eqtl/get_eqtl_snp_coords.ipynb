{
 "cells": [
  {
   "cell_type": "code",
   "execution_count": 1,
   "metadata": {},
   "outputs": [],
   "source": [
    "import os\n",
    "import glob\n",
    "import pandas as pd \n",
    "from chromolooper import sgls\n",
    "import re\n",
    "from myvariant import MyVariantInfo\n",
    "import numpy as np\n",
    "\n",
    "pd.options.mode.chained_assignment = None  # default='warn'\n",
    "\n",
    "os.chdir('<project-dir>')\n",
    "\n",
    "outdir = 'results/hg38/eqtl/eqtl_catalogue/'\n",
    "os.makedirs(outdir, exist_ok=True)"
   ]
  },
  {
   "attachments": {},
   "cell_type": "markdown",
   "metadata": {},
   "source": [
    "## Load all eQTL data"
   ]
  },
  {
   "cell_type": "markdown",
   "metadata": {},
   "source": []
  },
  {
   "cell_type": "code",
   "execution_count": 2,
   "metadata": {},
   "outputs": [],
   "source": [
    "# helper function to find snps only\n",
    "def is_snp(variant_id):\n",
    "    var1, var2 = variant_id.split('_')[-2:]\n",
    "    if len(var1) == 1 and len(var2) == 1:\n",
    "        return(True)\n",
    "    return(False)\n",
    "\n",
    "unique_snps = set()\n",
    "credible_set_fns = glob.glob('results/hg38/eqtl/eqtl_catalogue/*.credible_sets.tsv.gz')\n",
    "\n",
    "for fn in credible_set_fns:\n",
    "    tdf = pd.read_table(fn)\n",
    "    tdf = tdf[['rsid', 'variant']]\n",
    "    tdf = tdf.loc[tdf.variant.apply(is_snp)]\n",
    "    snps = (tuple(x) for x in tdf.values)\n",
    "    unique_snps.update(snps)"
   ]
  },
  {
   "cell_type": "markdown",
   "metadata": {},
   "source": [
    "## Save the unique set of SNPs within eQTLs"
   ]
  },
  {
   "cell_type": "code",
   "execution_count": 3,
   "metadata": {},
   "outputs": [],
   "source": [
    "# make a dataframe of the unique snps\n",
    "unique_snps_df = pd.DataFrame(unique_snps)\n",
    "unique_snps_df.columns = ['rsid', 'gnomad_var_id']\n",
    "\n",
    "# convert to full gnomad variant id\n",
    "unique_snps_df.loc[:, 'gnomad_var_id'] = unique_snps_df.loc[:, 'gnomad_var_id'].str.replace('_', '-')\n",
    "\n",
    "# split the gnomad variant id to get other fields\n",
    "unique_snps_extra_cols_df = unique_snps_df.gnomad_var_id.str.split('-', expand=True)\n",
    "unique_snps_extra_cols_df.columns = ['chrom', 'pos', 'ea', 'nea']\n",
    "unique_snps_extra_cols_df['genome'] = 'hg38'\n",
    "\n",
    "# concat the two\n",
    "unique_snps_df = pd.concat([unique_snps_df, unique_snps_extra_cols_df], axis=1)"
   ]
  },
  {
   "cell_type": "code",
   "execution_count": 4,
   "metadata": {},
   "outputs": [],
   "source": [
    "snp_fn = 'results/hg38/eqtl/eqtl_catalogue/snps.hg38.tsv'\n",
    "unique_snps_df = unique_snps_df[['rsid', 'chrom', 'pos', 'ea', 'nea', 'gnomad_var_id']]\n",
    "unique_snps_df.to_csv(snp_fn, index=False, sep='\\t')"
   ]
  },
  {
   "cell_type": "code",
   "execution_count": 5,
   "metadata": {},
   "outputs": [
    {
     "data": {
      "text/plain": [
       "(687515, 6)"
      ]
     },
     "execution_count": 5,
     "metadata": {},
     "output_type": "execute_result"
    }
   ],
   "source": [
    "unique_snps_df.shape"
   ]
  },
  {
   "cell_type": "markdown",
   "metadata": {},
   "source": [
    "## Create a test set using QTD000479"
   ]
  },
  {
   "cell_type": "markdown",
   "metadata": {},
   "source": [
    "This eQTL Catalog ID corresponds to (Schmiedel_2018 - CD4_T-cell_naive - CL_0000624 - CD4+ T cell - naive)"
   ]
  },
  {
   "cell_type": "code",
   "execution_count": 6,
   "metadata": {},
   "outputs": [],
   "source": [
    "test_fn = 'results/hg38/eqtl/eqtl_catalogue/QTD000479.credible_sets.tsv.gz'\n",
    "test_eqtls = pd.read_table(fn)\n",
    "test_eqtls.loc[:, 'gnomad_var_id'] = test_eqtls.loc[:, 'variant'].str.replace('_', '-')\n",
    "test_snps_df = unique_snps_df.loc[unique_snps_df.gnomad_var_id.isin(test_eqtls.gnomad_var_id.tolist())]"
   ]
  },
  {
   "cell_type": "code",
   "execution_count": 7,
   "metadata": {},
   "outputs": [],
   "source": [
    "test_fn = 'results/hg38/eqtl/eqtl_catalogue/snps.QTD000479.hg38.tsv'\n",
    "test_snps_df = test_snps_df[['rsid', 'chrom', 'pos', 'ea', 'nea', 'gnomad_var_id']]\n",
    "test_snps_df.to_csv(test_fn, index=False, sep='\\t')"
   ]
  },
  {
   "cell_type": "code",
   "execution_count": 8,
   "metadata": {},
   "outputs": [
    {
     "data": {
      "text/plain": [
       "(56473, 6)"
      ]
     },
     "execution_count": 8,
     "metadata": {},
     "output_type": "execute_result"
    }
   ],
   "source": [
    "test_snps_df.shape"
   ]
  }
 ],
 "metadata": {
  "kernelspec": {
   "display_name": "Python 3 (ipykernel)",
   "language": "python",
   "name": "python3"
  },
  "language_info": {
   "codemirror_mode": {
    "name": "ipython",
    "version": 3
   },
   "file_extension": ".py",
   "mimetype": "text/x-python",
   "name": "python",
   "nbconvert_exporter": "python",
   "pygments_lexer": "ipython3",
   "version": "3.12.3"
  }
 },
 "nbformat": 4,
 "nbformat_minor": 4
}
