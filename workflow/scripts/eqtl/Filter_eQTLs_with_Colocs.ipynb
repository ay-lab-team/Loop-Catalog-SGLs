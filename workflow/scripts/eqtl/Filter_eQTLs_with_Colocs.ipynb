{
 "cells": [
  {
   "cell_type": "code",
   "execution_count": 17,
   "id": "c10f30ee",
   "metadata": {},
   "outputs": [],
   "source": [
    "import os \n",
    "import gzip"
   ]
  },
  {
   "cell_type": "code",
   "execution_count": 2,
   "id": "3c25e703",
   "metadata": {},
   "outputs": [],
   "source": [
    "os.chdir('/mnt/BioHome/jreyna/jreyna/projects/dchallenge/')"
   ]
  },
  {
   "cell_type": "code",
   "execution_count": 3,
   "id": "f6805ce1",
   "metadata": {},
   "outputs": [],
   "source": [
    "eqtl = 'results/main/eqtl/Schmiedel_2018/ge/Schmiedel_2018_ge_monocyte_naive.all.complete_fields.tsv.gz'\n",
    "coloc = 'results/main/coloc/Results/Colocalization_SMKN/T1D_34012112_Gaulton/Schmiedel_2018/monocyte_naive/FINAL_Summary_Coloc_Gene_SNP_Pairs.bed'\n",
    "outfn = 'results/main/sgls/T1D_34012112_Gaulton/Schmiedel_2018/monocyte_naive/monocyte_naive/eqtls.coloc_filtered.tsv.gz'"
   ]
  },
  {
   "cell_type": "code",
   "execution_count": 4,
   "id": "7f6d1137",
   "metadata": {},
   "outputs": [],
   "source": [
    "coloc_ids = []"
   ]
  },
  {
   "cell_type": "code",
   "execution_count": 25,
   "id": "355ee0fc",
   "metadata": {},
   "outputs": [],
   "source": [
    "# find all the coloc ID's composed of the chromosome:position\n",
    "with open(coloc) as fr:\n",
    "    \n",
    "    # skip the first line\n",
    "    next(fr)\n",
    "    \n",
    "    # process the remaining lines\n",
    "    for line in fr:\n",
    "        info = line.split('\\t')\n",
    "        \n",
    "        chrom = info[0].replace('chr', '')\n",
    "        pos = info[1]\n",
    "        idd = '{}:{}'.format(chrom, pos)\n",
    "        coloc_ids.append(idd)\n",
    "coloc_ids = set(coloc_ids)"
   ]
  },
  {
   "cell_type": "code",
   "execution_count": 35,
   "id": "3a2fada5",
   "metadata": {},
   "outputs": [],
   "source": [
    "with gzip.open(eqtl, mode='rt') as fr, gzip.open(outfn, mode='wb') as fw:\n",
    "    next(fr)\n",
    "    for line in fr:\n",
    "        info = line.split()\n",
    "        \n",
    "        idd = '{}:{}'.format(*info[1:3])\n",
    "        fdr = float(info[-1])\n",
    "        \n",
    "        \n",
    "        if idd in coloc_ids or fdr < 0.05:\n",
    "            fw.write(line.encode())\n",
    "        "
   ]
  },
  {
   "cell_type": "code",
   "execution_count": null,
   "id": "d75a6e4f",
   "metadata": {},
   "outputs": [],
   "source": []
  },
  {
   "cell_type": "code",
   "execution_count": null,
   "id": "16bc0400",
   "metadata": {},
   "outputs": [],
   "source": []
  },
  {
   "cell_type": "code",
   "execution_count": null,
   "id": "64511321",
   "metadata": {},
   "outputs": [],
   "source": []
  }
 ],
 "metadata": {
  "kernelspec": {
   "display_name": "HiChIP DB",
   "language": "python",
   "name": "hichip-db"
  },
  "language_info": {
   "codemirror_mode": {
    "name": "ipython",
    "version": 3
   },
   "file_extension": ".py",
   "mimetype": "text/x-python",
   "name": "python",
   "nbconvert_exporter": "python",
   "pygments_lexer": "ipython3",
   "version": "3.10.2"
  }
 },
 "nbformat": 4,
 "nbformat_minor": 5
}
