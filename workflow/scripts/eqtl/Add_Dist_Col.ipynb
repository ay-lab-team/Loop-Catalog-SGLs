{
 "cells": [
  {
   "cell_type": "markdown",
   "id": "0c517ad6",
   "metadata": {},
   "source": [
    "Script adds the distance column to eQTL files that are missing it."
   ]
  },
  {
   "cell_type": "code",
   "execution_count": 114,
   "id": "c6188824",
   "metadata": {},
   "outputs": [],
   "source": [
    "import os\n",
    "import gzip\n",
    "import pandas as pd\n",
    "import re"
   ]
  },
  {
   "cell_type": "code",
   "execution_count": 115,
   "id": "495b76f9",
   "metadata": {},
   "outputs": [],
   "source": [
    "os.chdir('/mnt/BioHome/jreyna/jreyna/projects/dchallenge/')"
   ]
  },
  {
   "cell_type": "code",
   "execution_count": 123,
   "id": "46cf0c8d",
   "metadata": {},
   "outputs": [
    {
     "name": "stdout",
     "output_type": "stream",
     "text": [
      "Dealing with .gz files.\n"
     ]
    }
   ],
   "source": [
    "# load gencode\n",
    "gencode = pd.read_table('results/refs/gencode/v39/gencode.v39lift37.annotation.bed', header=None)\n",
    "gencode.columns = ['chr', 'start', 'end', 'strand', 'gene_name', 'score', 'gene_id']\n",
    "gencode.set_index('gene_id', inplace=True)\n",
    "\n",
    "eqtl = 'results/main/eqtl/BLUEPRINT/ge/BLUEPRINT_ge_T-cell.all.tsv.gz'\n",
    "outfn = 'results/main/eqtl/BLUEPRINT/ge/BLUEPRINT_ge_T-cell.all.dist.tsv.gz'\n",
    "\n",
    "if os.path.splitext(eqtl)[1] == '.gz':\n",
    "    \n",
    "    print('Dealing with .gz files.')\n",
    "    \n",
    "    # calculate distance\n",
    "    with gzip.open(eqtl) as fr, gzip.open(outfn, 'wb') as fw:\n",
    "\n",
    "        header = next(fr)\n",
    "        fw.write(header)\n",
    "        cheader = header.decode().replace('\\r', '').strip().split()\n",
    "\n",
    "        for i, line in enumerate(fr):\n",
    "            \n",
    "            if i == 10000:\n",
    "                break\n",
    "\n",
    "            # get eqtl info \n",
    "            eqtl_info = line.decode().replace('\\r', '').strip().split()\n",
    "            eqtl_info = pd.Series(eqtl_info, index=cheader)    \n",
    "            gene_info = gencode.loc[sr.gene_id]\n",
    "\n",
    "            # calculate distance based on the strand information\n",
    "            if gene_info.strand == '+':\n",
    "                dist = abs(gene_info.start - sr.position)\n",
    "            elif gene_info.strand == '-':\n",
    "                dist = abs(gene_info.end - sr.position)\n",
    "            else:\n",
    "                raise Exception('Mistake, {} is not a strand orientation.'.format(gene_info.strand))\n",
    "\n",
    "            # write out the new eQTL line\n",
    "            s = eqtl_info.to_string(header=False, index=False)\n",
    "            s = re.sub('\\n\\s*', '\\t', s)\n",
    "            s += '\\n'\n",
    "            fw.write(s.encode())\n",
    "            \n",
    "elif os.path.splitext(eqtl)[1] == '.tsv':\n",
    "    \n",
    "    print('Dealing with .tsv files.')\n",
    "    \n",
    "    # calculate distance\n",
    "    with open(eqtl) as fr, open(outfn, 'w') as fw:\n",
    "\n",
    "        header = next(fr)\n",
    "        fw.write(header)\n",
    "        cheader = header.strip().split()\n",
    "\n",
    "        for line in fr:\n",
    "\n",
    "            # get eqtl info \n",
    "            eqtl_info = line.strip().split()\n",
    "            eqtl_info = pd.Series(eqtl_info, index=cheader)    \n",
    "            gene_info = gencode.loc[sr.gene_id]\n",
    "\n",
    "            # calculate distance based on the strand information\n",
    "            if gene_info.strand == '+':\n",
    "                dist = abs(gene_info.start - sr.position)\n",
    "            elif gene_info.strand == '-':\n",
    "                dist = abs(gene_info.end - sr.position)\n",
    "            else:\n",
    "                raise Exception('Mistake, {} is not a strand orientation.'.format(gene_info.strand))\n",
    "\n",
    "            # write out the new eQTL line\n",
    "            s = eqtl_info.to_string(header=False, index=False)\n",
    "            s = re.sub('\\n\\s*', '\\t', s)\n",
    "            s += '\\n'\n",
    "            fw.write(s)\n",
    "            \n",
    "else:\n",
    "    msg = 'Incorrect file types. Both input and output have to use the same extension and '\n",
    "    msg += 'these extensions must either be .gz or .tsv'\n",
    "    raise Exception(msg)"
   ]
  },
  {
   "cell_type": "code",
   "execution_count": null,
   "id": "ea7e9e84",
   "metadata": {},
   "outputs": [],
   "source": []
  },
  {
   "cell_type": "code",
   "execution_count": null,
   "id": "f147fcd4",
   "metadata": {},
   "outputs": [],
   "source": []
  },
  {
   "cell_type": "code",
   "execution_count": null,
   "id": "3ced247d",
   "metadata": {},
   "outputs": [],
   "source": []
  },
  {
   "cell_type": "code",
   "execution_count": null,
   "id": "41bc568f",
   "metadata": {},
   "outputs": [],
   "source": []
  },
  {
   "cell_type": "code",
   "execution_count": null,
   "id": "8006c10e",
   "metadata": {},
   "outputs": [],
   "source": []
  }
 ],
 "metadata": {
  "kernelspec": {
   "display_name": "HiC",
   "language": "python",
   "name": "hic_tls"
  },
  "language_info": {
   "codemirror_mode": {
    "name": "ipython",
    "version": 3
   },
   "file_extension": ".py",
   "mimetype": "text/x-python",
   "name": "python",
   "nbconvert_exporter": "python",
   "pygments_lexer": "ipython3",
   "version": "3.6.7"
  }
 },
 "nbformat": 4,
 "nbformat_minor": 5
}
