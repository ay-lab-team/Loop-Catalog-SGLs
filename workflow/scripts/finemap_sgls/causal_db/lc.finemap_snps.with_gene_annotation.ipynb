{
 "cells": [
  {
   "cell_type": "code",
   "execution_count": 1,
   "metadata": {},
   "outputs": [
    {
     "ename": "ModuleNotFoundError",
     "evalue": "No module named 'coolbox'",
     "output_type": "error",
     "traceback": [
      "\u001b[0;31m---------------------------------------------------------------------------\u001b[0m",
      "\u001b[0;31mModuleNotFoundError\u001b[0m                       Traceback (most recent call last)",
      "\u001b[1;32m/home/jreyna/jreyna/projects/t1d-loop-catalog/workflow/qscripts/finemap/causal_db/lc.finemap_snps.with_gene_annotation.ipynb Cell 1\u001b[0m line \u001b[0;36m7\n\u001b[1;32m      <a href='vscode-notebook-cell://ssh-remote%2Blogin04.herman.lji.org/home/jreyna/jreyna/projects/t1d-loop-catalog/workflow/qscripts/finemap/causal_db/lc.finemap_snps.with_gene_annotation.ipynb#W0sdnNjb2RlLXJlbW90ZQ%3D%3D?line=4'>5</a>\u001b[0m \u001b[39mfrom\u001b[39;00m \u001b[39mtime\u001b[39;00m \u001b[39mimport\u001b[39;00m sleep\n\u001b[1;32m      <a href='vscode-notebook-cell://ssh-remote%2Blogin04.herman.lji.org/home/jreyna/jreyna/projects/t1d-loop-catalog/workflow/qscripts/finemap/causal_db/lc.finemap_snps.with_gene_annotation.ipynb#W0sdnNjb2RlLXJlbW90ZQ%3D%3D?line=5'>6</a>\u001b[0m \u001b[39mimport\u001b[39;00m \u001b[39mpybedtools\u001b[39;00m \u001b[39mas\u001b[39;00m \u001b[39mpbt\u001b[39;00m\n\u001b[0;32m----> <a href='vscode-notebook-cell://ssh-remote%2Blogin04.herman.lji.org/home/jreyna/jreyna/projects/t1d-loop-catalog/workflow/qscripts/finemap/causal_db/lc.finemap_snps.with_gene_annotation.ipynb#W0sdnNjb2RlLXJlbW90ZQ%3D%3D?line=6'>7</a>\u001b[0m \u001b[39mimport\u001b[39;00m \u001b[39mcoolbox\u001b[39;00m\n\u001b[1;32m      <a href='vscode-notebook-cell://ssh-remote%2Blogin04.herman.lji.org/home/jreyna/jreyna/projects/t1d-loop-catalog/workflow/qscripts/finemap/causal_db/lc.finemap_snps.with_gene_annotation.ipynb#W0sdnNjb2RlLXJlbW90ZQ%3D%3D?line=7'>8</a>\u001b[0m \u001b[39mfrom\u001b[39;00m \u001b[39mcoolbox\u001b[39;00m\u001b[39m.\u001b[39;00m\u001b[39mapi\u001b[39;00m \u001b[39mimport\u001b[39;00m \u001b[39m*\u001b[39m\n\u001b[1;32m     <a href='vscode-notebook-cell://ssh-remote%2Blogin04.herman.lji.org/home/jreyna/jreyna/projects/t1d-loop-catalog/workflow/qscripts/finemap/causal_db/lc.finemap_snps.with_gene_annotation.ipynb#W0sdnNjb2RlLXJlbW90ZQ%3D%3D?line=9'>10</a>\u001b[0m pd\u001b[39m.\u001b[39moptions\u001b[39m.\u001b[39mmode\u001b[39m.\u001b[39mchained_assignment \u001b[39m=\u001b[39m \u001b[39mNone\u001b[39;00m  \u001b[39m# default='warn'\u001b[39;00m\n",
      "\u001b[0;31mModuleNotFoundError\u001b[0m: No module named 'coolbox'"
     ]
    }
   ],
   "source": [
    "import os\n",
    "import glob\n",
    "import pandas as pd \n",
    "#from chromolooper import sgls\n",
    "from time import sleep\n",
    "import pybedtools as pbt\n",
    "import coolbox\n",
    "from coolbox.api import *\n",
    "\n",
    "pd.options.mode.chained_assignment = None  # default='warn'\n",
    "pd.options.display.max_columns = None\n",
    "pd.options.display.max_rows = 100\n",
    "\n",
    "os.chdir('/mnt/BioHome/jreyna/jreyna/projects/t1d-loop-catalog/')\n",
    "\n",
    "outdir = 'results/hg38/finemapping/sgl_coolbox_visualizations/'\n",
    "os.makedirs(outdir, exist_ok=True)"
   ]
  },
  {
   "cell_type": "markdown",
   "metadata": {},
   "source": [
    "## Load all finemapped snp data"
   ]
  },
  {
   "cell_type": "code",
   "execution_count": null,
   "metadata": {},
   "outputs": [
    {
     "ename": "FileNotFoundError",
     "evalue": "[Errno 2] No such file or directory: 'workflow/qscripts/finemap/causal_db/init.gwas_study.causal_db.immune_select_samples.tsv'",
     "output_type": "error",
     "traceback": [
      "\u001b[0;31m---------------------------------------------------------------------------\u001b[0m",
      "\u001b[0;31mFileNotFoundError\u001b[0m                         Traceback (most recent call last)",
      "\u001b[1;32m/home/jreyna/jreyna/projects/t1d-loop-catalog/workflow/qscripts/finemap/causal_db/lc.finemap_snps.with_gene_annotation.ipynb Cell 3\u001b[0m line \u001b[0;36m3\n\u001b[1;32m      <a href='vscode-notebook-cell://ssh-remote%2Blogin04.herman.lji.org/home/jreyna/jreyna/projects/t1d-loop-catalog/workflow/qscripts/finemap/causal_db/lc.finemap_snps.with_gene_annotation.ipynb#W2sdnNjb2RlLXJlbW90ZQ%3D%3D?line=0'>1</a>\u001b[0m \u001b[39m# add meta information\u001b[39;00m\n\u001b[1;32m      <a href='vscode-notebook-cell://ssh-remote%2Blogin04.herman.lji.org/home/jreyna/jreyna/projects/t1d-loop-catalog/workflow/qscripts/finemap/causal_db/lc.finemap_snps.with_gene_annotation.ipynb#W2sdnNjb2RlLXJlbW90ZQ%3D%3D?line=1'>2</a>\u001b[0m causal_metadata_fn \u001b[39m=\u001b[39m \u001b[39m'\u001b[39m\u001b[39mworkflow/qscripts/finemap/causal_db/init.gwas_study.causal_db.immune_select_samples.tsv\u001b[39m\u001b[39m'\u001b[39m\n\u001b[0;32m----> <a href='vscode-notebook-cell://ssh-remote%2Blogin04.herman.lji.org/home/jreyna/jreyna/projects/t1d-loop-catalog/workflow/qscripts/finemap/causal_db/lc.finemap_snps.with_gene_annotation.ipynb#W2sdnNjb2RlLXJlbW90ZQ%3D%3D?line=2'>3</a>\u001b[0m causal_metadata \u001b[39m=\u001b[39m pd\u001b[39m.\u001b[39;49mread_table(causal_metadata_fn, header\u001b[39m=\u001b[39;49m\u001b[39mNone\u001b[39;49;00m)\n\u001b[1;32m      <a href='vscode-notebook-cell://ssh-remote%2Blogin04.herman.lji.org/home/jreyna/jreyna/projects/t1d-loop-catalog/workflow/qscripts/finemap/causal_db/lc.finemap_snps.with_gene_annotation.ipynb#W2sdnNjb2RlLXJlbW90ZQ%3D%3D?line=4'>5</a>\u001b[0m causal_metadata_mapper \u001b[39m=\u001b[39m  causal_metadata\u001b[39m.\u001b[39miloc[:, [\u001b[39m2\u001b[39m, \u001b[39m8\u001b[39m, \u001b[39m18\u001b[39m]]\n\u001b[1;32m      <a href='vscode-notebook-cell://ssh-remote%2Blogin04.herman.lji.org/home/jreyna/jreyna/projects/t1d-loop-catalog/workflow/qscripts/finemap/causal_db/lc.finemap_snps.with_gene_annotation.ipynb#W2sdnNjb2RlLXJlbW90ZQ%3D%3D?line=5'>6</a>\u001b[0m causal_metadata_mapper\u001b[39m.\u001b[39mcolumns \u001b[39m=\u001b[39m [\u001b[39m'\u001b[39m\u001b[39mmesh_term\u001b[39m\u001b[39m'\u001b[39m, \u001b[39m'\u001b[39m\u001b[39mauthor\u001b[39m\u001b[39m'\u001b[39m, \u001b[39m'\u001b[39m\u001b[39mfilename\u001b[39m\u001b[39m'\u001b[39m]\n",
      "File \u001b[0;32m/mnt/bioadhoc-temp/Groups/vd-ay/jreyna/software/mamba/envs/loopcatalog/lib/python3.10/site-packages/pandas/io/parsers/readers.py:1242\u001b[0m, in \u001b[0;36mread_table\u001b[0;34m(filepath_or_buffer, sep, delimiter, header, names, index_col, usecols, dtype, engine, converters, true_values, false_values, skipinitialspace, skiprows, skipfooter, nrows, na_values, keep_default_na, na_filter, verbose, skip_blank_lines, parse_dates, infer_datetime_format, keep_date_col, date_parser, date_format, dayfirst, cache_dates, iterator, chunksize, compression, thousands, decimal, lineterminator, quotechar, quoting, doublequote, escapechar, comment, encoding, encoding_errors, dialect, on_bad_lines, delim_whitespace, low_memory, memory_map, float_precision, storage_options, dtype_backend)\u001b[0m\n\u001b[1;32m   1229\u001b[0m kwds_defaults \u001b[39m=\u001b[39m _refine_defaults_read(\n\u001b[1;32m   1230\u001b[0m     dialect,\n\u001b[1;32m   1231\u001b[0m     delimiter,\n\u001b[0;32m   (...)\u001b[0m\n\u001b[1;32m   1238\u001b[0m     dtype_backend\u001b[39m=\u001b[39mdtype_backend,\n\u001b[1;32m   1239\u001b[0m )\n\u001b[1;32m   1240\u001b[0m kwds\u001b[39m.\u001b[39mupdate(kwds_defaults)\n\u001b[0;32m-> 1242\u001b[0m \u001b[39mreturn\u001b[39;00m _read(filepath_or_buffer, kwds)\n",
      "File \u001b[0;32m/mnt/bioadhoc-temp/Groups/vd-ay/jreyna/software/mamba/envs/loopcatalog/lib/python3.10/site-packages/pandas/io/parsers/readers.py:577\u001b[0m, in \u001b[0;36m_read\u001b[0;34m(filepath_or_buffer, kwds)\u001b[0m\n\u001b[1;32m    574\u001b[0m _validate_names(kwds\u001b[39m.\u001b[39mget(\u001b[39m\"\u001b[39m\u001b[39mnames\u001b[39m\u001b[39m\"\u001b[39m, \u001b[39mNone\u001b[39;00m))\n\u001b[1;32m    576\u001b[0m \u001b[39m# Create the parser.\u001b[39;00m\n\u001b[0;32m--> 577\u001b[0m parser \u001b[39m=\u001b[39m TextFileReader(filepath_or_buffer, \u001b[39m*\u001b[39;49m\u001b[39m*\u001b[39;49mkwds)\n\u001b[1;32m    579\u001b[0m \u001b[39mif\u001b[39;00m chunksize \u001b[39mor\u001b[39;00m iterator:\n\u001b[1;32m    580\u001b[0m     \u001b[39mreturn\u001b[39;00m parser\n",
      "File \u001b[0;32m/mnt/bioadhoc-temp/Groups/vd-ay/jreyna/software/mamba/envs/loopcatalog/lib/python3.10/site-packages/pandas/io/parsers/readers.py:1407\u001b[0m, in \u001b[0;36mTextFileReader.__init__\u001b[0;34m(self, f, engine, **kwds)\u001b[0m\n\u001b[1;32m   1404\u001b[0m     \u001b[39mself\u001b[39m\u001b[39m.\u001b[39moptions[\u001b[39m\"\u001b[39m\u001b[39mhas_index_names\u001b[39m\u001b[39m\"\u001b[39m] \u001b[39m=\u001b[39m kwds[\u001b[39m\"\u001b[39m\u001b[39mhas_index_names\u001b[39m\u001b[39m\"\u001b[39m]\n\u001b[1;32m   1406\u001b[0m \u001b[39mself\u001b[39m\u001b[39m.\u001b[39mhandles: IOHandles \u001b[39m|\u001b[39m \u001b[39mNone\u001b[39;00m \u001b[39m=\u001b[39m \u001b[39mNone\u001b[39;00m\n\u001b[0;32m-> 1407\u001b[0m \u001b[39mself\u001b[39m\u001b[39m.\u001b[39m_engine \u001b[39m=\u001b[39m \u001b[39mself\u001b[39;49m\u001b[39m.\u001b[39;49m_make_engine(f, \u001b[39mself\u001b[39;49m\u001b[39m.\u001b[39;49mengine)\n",
      "File \u001b[0;32m/mnt/bioadhoc-temp/Groups/vd-ay/jreyna/software/mamba/envs/loopcatalog/lib/python3.10/site-packages/pandas/io/parsers/readers.py:1661\u001b[0m, in \u001b[0;36mTextFileReader._make_engine\u001b[0;34m(self, f, engine)\u001b[0m\n\u001b[1;32m   1659\u001b[0m     \u001b[39mif\u001b[39;00m \u001b[39m\"\u001b[39m\u001b[39mb\u001b[39m\u001b[39m\"\u001b[39m \u001b[39mnot\u001b[39;00m \u001b[39min\u001b[39;00m mode:\n\u001b[1;32m   1660\u001b[0m         mode \u001b[39m+\u001b[39m\u001b[39m=\u001b[39m \u001b[39m\"\u001b[39m\u001b[39mb\u001b[39m\u001b[39m\"\u001b[39m\n\u001b[0;32m-> 1661\u001b[0m \u001b[39mself\u001b[39m\u001b[39m.\u001b[39mhandles \u001b[39m=\u001b[39m get_handle(\n\u001b[1;32m   1662\u001b[0m     f,\n\u001b[1;32m   1663\u001b[0m     mode,\n\u001b[1;32m   1664\u001b[0m     encoding\u001b[39m=\u001b[39;49m\u001b[39mself\u001b[39;49m\u001b[39m.\u001b[39;49moptions\u001b[39m.\u001b[39;49mget(\u001b[39m\"\u001b[39;49m\u001b[39mencoding\u001b[39;49m\u001b[39m\"\u001b[39;49m, \u001b[39mNone\u001b[39;49;00m),\n\u001b[1;32m   1665\u001b[0m     compression\u001b[39m=\u001b[39;49m\u001b[39mself\u001b[39;49m\u001b[39m.\u001b[39;49moptions\u001b[39m.\u001b[39;49mget(\u001b[39m\"\u001b[39;49m\u001b[39mcompression\u001b[39;49m\u001b[39m\"\u001b[39;49m, \u001b[39mNone\u001b[39;49;00m),\n\u001b[1;32m   1666\u001b[0m     memory_map\u001b[39m=\u001b[39;49m\u001b[39mself\u001b[39;49m\u001b[39m.\u001b[39;49moptions\u001b[39m.\u001b[39;49mget(\u001b[39m\"\u001b[39;49m\u001b[39mmemory_map\u001b[39;49m\u001b[39m\"\u001b[39;49m, \u001b[39mFalse\u001b[39;49;00m),\n\u001b[1;32m   1667\u001b[0m     is_text\u001b[39m=\u001b[39;49mis_text,\n\u001b[1;32m   1668\u001b[0m     errors\u001b[39m=\u001b[39;49m\u001b[39mself\u001b[39;49m\u001b[39m.\u001b[39;49moptions\u001b[39m.\u001b[39;49mget(\u001b[39m\"\u001b[39;49m\u001b[39mencoding_errors\u001b[39;49m\u001b[39m\"\u001b[39;49m, \u001b[39m\"\u001b[39;49m\u001b[39mstrict\u001b[39;49m\u001b[39m\"\u001b[39;49m),\n\u001b[1;32m   1669\u001b[0m     storage_options\u001b[39m=\u001b[39;49m\u001b[39mself\u001b[39;49m\u001b[39m.\u001b[39;49moptions\u001b[39m.\u001b[39;49mget(\u001b[39m\"\u001b[39;49m\u001b[39mstorage_options\u001b[39;49m\u001b[39m\"\u001b[39;49m, \u001b[39mNone\u001b[39;49;00m),\n\u001b[1;32m   1670\u001b[0m )\n\u001b[1;32m   1671\u001b[0m \u001b[39massert\u001b[39;00m \u001b[39mself\u001b[39m\u001b[39m.\u001b[39mhandles \u001b[39mis\u001b[39;00m \u001b[39mnot\u001b[39;00m \u001b[39mNone\u001b[39;00m\n\u001b[1;32m   1672\u001b[0m f \u001b[39m=\u001b[39m \u001b[39mself\u001b[39m\u001b[39m.\u001b[39mhandles\u001b[39m.\u001b[39mhandle\n",
      "File \u001b[0;32m/mnt/bioadhoc-temp/Groups/vd-ay/jreyna/software/mamba/envs/loopcatalog/lib/python3.10/site-packages/pandas/io/common.py:859\u001b[0m, in \u001b[0;36mget_handle\u001b[0;34m(path_or_buf, mode, encoding, compression, memory_map, is_text, errors, storage_options)\u001b[0m\n\u001b[1;32m    854\u001b[0m \u001b[39melif\u001b[39;00m \u001b[39misinstance\u001b[39m(handle, \u001b[39mstr\u001b[39m):\n\u001b[1;32m    855\u001b[0m     \u001b[39m# Check whether the filename is to be opened in binary mode.\u001b[39;00m\n\u001b[1;32m    856\u001b[0m     \u001b[39m# Binary mode does not support 'encoding' and 'newline'.\u001b[39;00m\n\u001b[1;32m    857\u001b[0m     \u001b[39mif\u001b[39;00m ioargs\u001b[39m.\u001b[39mencoding \u001b[39mand\u001b[39;00m \u001b[39m\"\u001b[39m\u001b[39mb\u001b[39m\u001b[39m\"\u001b[39m \u001b[39mnot\u001b[39;00m \u001b[39min\u001b[39;00m ioargs\u001b[39m.\u001b[39mmode:\n\u001b[1;32m    858\u001b[0m         \u001b[39m# Encoding\u001b[39;00m\n\u001b[0;32m--> 859\u001b[0m         handle \u001b[39m=\u001b[39m \u001b[39mopen\u001b[39;49m(\n\u001b[1;32m    860\u001b[0m             handle,\n\u001b[1;32m    861\u001b[0m             ioargs\u001b[39m.\u001b[39;49mmode,\n\u001b[1;32m    862\u001b[0m             encoding\u001b[39m=\u001b[39;49mioargs\u001b[39m.\u001b[39;49mencoding,\n\u001b[1;32m    863\u001b[0m             errors\u001b[39m=\u001b[39;49merrors,\n\u001b[1;32m    864\u001b[0m             newline\u001b[39m=\u001b[39;49m\u001b[39m\"\u001b[39;49m\u001b[39m\"\u001b[39;49m,\n\u001b[1;32m    865\u001b[0m         )\n\u001b[1;32m    866\u001b[0m     \u001b[39melse\u001b[39;00m:\n\u001b[1;32m    867\u001b[0m         \u001b[39m# Binary mode\u001b[39;00m\n\u001b[1;32m    868\u001b[0m         handle \u001b[39m=\u001b[39m \u001b[39mopen\u001b[39m(handle, ioargs\u001b[39m.\u001b[39mmode)\n",
      "\u001b[0;31mFileNotFoundError\u001b[0m: [Errno 2] No such file or directory: 'workflow/qscripts/finemap/causal_db/init.gwas_study.causal_db.immune_select_samples.tsv'"
     ]
    }
   ],
   "source": [
    "# add meta information\n",
    "causal_metadata_fn = 'workflow/qscripts/finemap/causal_db/init.gwas_study.causal_db.immune_select_samples.tsv'\n",
    "causal_metadata = pd.read_table(causal_metadata_fn, header=None)\n",
    "\n",
    "causal_metadata_mapper =  causal_metadata.iloc[:, [2, 8, 18]]\n",
    "causal_metadata_mapper.columns = ['mesh_term', 'author', 'filename']"
   ]
  },
  {
   "cell_type": "code",
   "execution_count": null,
   "metadata": {},
   "outputs": [
    {
     "ename": "",
     "evalue": "",
     "output_type": "error",
     "traceback": [
      "\u001b[1;31mFailed to start the Kernel. \n",
      "\u001b[1;31mUnable to start Kernel 'lc-pipelines (Python 3.12.0)' due to a timeout waiting for the ports to get used. \n",
      "\u001b[1;31mView Jupyter <a href='command:jupyter.viewOutput'>log</a> for further details."
     ]
    }
   ],
   "source": [
    "fns = glob.glob('results/hg38/finemapping/snps/singles/*_total_credible_set.hg38.txt')\n",
    "\n",
    "all_data = []\n",
    "for i, fn in enumerate(fns):\n",
    "\n",
    "    info = fn.split('/')\n",
    "\n",
    "    causaldb_fn = info[-1].split('_')[0]\n",
    "\n",
    "    if causaldb_fn in causal_metadata_mapper.filename.tolist():\n",
    "\n",
    "        # loading the data\n",
    "        tdf = pd.read_table(fn)\n",
    "        if tdf.shape[0] > 0:\n",
    "            tdf.loc[:, 'causaldb_fn'] = causaldb_fn\n",
    "            all_data.append(tdf)"
   ]
  },
  {
   "cell_type": "code",
   "execution_count": null,
   "metadata": {},
   "outputs": [
    {
     "ename": "",
     "evalue": "",
     "output_type": "error",
     "traceback": [
      "\u001b[1;31mFailed to start the Kernel. \n",
      "\u001b[1;31mUnable to start Kernel 'lc-pipelines (Python 3.12.0)' due to a timeout waiting for the ports to get used. \n",
      "\u001b[1;31mView Jupyter <a href='command:jupyter.viewOutput'>log</a> for further details."
     ]
    }
   ],
   "source": [
    "all_df = pd.concat(all_data)"
   ]
  },
  {
   "cell_type": "code",
   "execution_count": null,
   "metadata": {},
   "outputs": [
    {
     "ename": "",
     "evalue": "",
     "output_type": "error",
     "traceback": [
      "\u001b[1;31mFailed to start the Kernel. \n",
      "\u001b[1;31mUnable to start Kernel 'lc-pipelines (Python 3.12.0)' due to a timeout waiting for the ports to get used. \n",
      "\u001b[1;31mView Jupyter <a href='command:jupyter.viewOutput'>log</a> for further details."
     ]
    }
   ],
   "source": [
    "all_df = all_df.merge(causal_metadata_mapper, left_on='causaldb_fn', right_on='filename')"
   ]
  },
  {
   "cell_type": "code",
   "execution_count": null,
   "metadata": {},
   "outputs": [
    {
     "ename": "",
     "evalue": "",
     "output_type": "error",
     "traceback": [
      "\u001b[1;31mFailed to start the Kernel. \n",
      "\u001b[1;31mUnable to start Kernel 'lc-pipelines (Python 3.12.0)' due to a timeout waiting for the ports to get used. \n",
      "\u001b[1;31mView Jupyter <a href='command:jupyter.viewOutput'>log</a> for further details."
     ]
    }
   ],
   "source": [
    "block_data = []\n",
    "slop = 1000000\n",
    "for block_id, block_df in all_df.sort_values(['causaldb_fn', 'block_id', 'BP']).groupby(['causaldb_fn', 'block_id']):\n",
    "    \n",
    "    first_snp = block_df.iloc[0]\n",
    "    last_snp = block_df.iloc[-1]\n",
    "    \n",
    "    chrom = 'chr{}'.format(first_snp.CHR)\n",
    "    block_start = max([0, first_snp.BP - slop])\n",
    "    block_end = last_snp.BP + slop\n",
    "    tdata = [chrom, block_start, block_end, first_snp.causaldb_fn, first_snp.block_id]\n",
    "    block_data.append(tdata)"
   ]
  },
  {
   "cell_type": "code",
   "execution_count": null,
   "metadata": {},
   "outputs": [
    {
     "ename": "",
     "evalue": "",
     "output_type": "error",
     "traceback": [
      "\u001b[1;31mFailed to start the Kernel. \n",
      "\u001b[1;31mUnable to start Kernel 'lc-pipelines (Python 3.12.0)' due to a timeout waiting for the ports to get used. \n",
      "\u001b[1;31mView Jupyter <a href='command:jupyter.viewOutput'>log</a> for further details."
     ]
    }
   ],
   "source": [
    "block_extensions = pd.DataFrame(block_data)\n",
    "block_extensions_pbt = pbt.BedTool.from_dataframe(block_extensions)"
   ]
  },
  {
   "cell_type": "code",
   "execution_count": null,
   "metadata": {},
   "outputs": [
    {
     "ename": "",
     "evalue": "",
     "output_type": "error",
     "traceback": [
      "\u001b[1;31mFailed to start the Kernel. \n",
      "\u001b[1;31mUnable to start Kernel 'lc-pipelines (Python 3.12.0)' due to a timeout waiting for the ports to get used. \n",
      "\u001b[1;31mView Jupyter <a href='command:jupyter.viewOutput'>log</a> for further details."
     ]
    }
   ],
   "source": [
    "block_extensions.columns = ['chrom', 'start', 'end', 'causaldb_fn', 'block']\n",
    "block_extensions['score'] = 1000\n",
    "block_extensions['strand'] = '+'"
   ]
  },
  {
   "cell_type": "code",
   "execution_count": null,
   "metadata": {},
   "outputs": [
    {
     "ename": "",
     "evalue": "",
     "output_type": "error",
     "traceback": [
      "\u001b[1;31mFailed to start the Kernel. \n",
      "\u001b[1;31mUnable to start Kernel 'lc-pipelines (Python 3.12.0)' due to a timeout waiting for the ports to get used. \n",
      "\u001b[1;31mView Jupyter <a href='command:jupyter.viewOutput'>log</a> for further details."
     ]
    }
   ],
   "source": [
    "block_extensions.head()"
   ]
  },
  {
   "cell_type": "code",
   "execution_count": null,
   "metadata": {},
   "outputs": [
    {
     "ename": "",
     "evalue": "",
     "output_type": "error",
     "traceback": [
      "\u001b[1;31mFailed to start the Kernel. \n",
      "\u001b[1;31mUnable to start Kernel 'lc-pipelines (Python 3.12.0)' due to a timeout waiting for the ports to get used. \n",
      "\u001b[1;31mView Jupyter <a href='command:jupyter.viewOutput'>log</a> for further details."
     ]
    }
   ],
   "source": [
    "block_extensions.loc[block_extensions['causaldb_fn'] == 'PH378']"
   ]
  },
  {
   "cell_type": "code",
   "execution_count": null,
   "metadata": {},
   "outputs": [
    {
     "ename": "",
     "evalue": "",
     "output_type": "error",
     "traceback": [
      "\u001b[1;31mFailed to start the Kernel. \n",
      "\u001b[1;31mUnable to start Kernel 'lc-pipelines (Python 3.12.0)' due to a timeout waiting for the ports to get used. \n",
      "\u001b[1;31mView Jupyter <a href='command:jupyter.viewOutput'>log</a> for further details."
     ]
    }
   ],
   "source": [
    "# save the blocks as BED files\n",
    "for causal_fn, causal_df in block_extensions.groupby('causaldb_fn'):\n",
    "    tdf = causal_df.loc[:, ['chrom', 'start', 'end', 'block', 'score', 'strand']]\n",
    "    #tdf = causal_df.loc[:, ['chrom', 'start', 'end']]\n",
    "    outfn = os.path.join(outdir, '{}_block.bed'.format(causal_fn))\n",
    "    tdf.to_csv(outfn, sep='\\t', index=False, header=False)"
   ]
  },
  {
   "cell_type": "code",
   "execution_count": null,
   "metadata": {},
   "outputs": [
    {
     "ename": "",
     "evalue": "",
     "output_type": "error",
     "traceback": [
      "\u001b[1;31mFailed to start the Kernel. \n",
      "\u001b[1;31mUnable to start Kernel 'lc-pipelines (Python 3.12.0)' due to a timeout waiting for the ports to get used. \n",
      "\u001b[1;31mView Jupyter <a href='command:jupyter.viewOutput'>log</a> for further details."
     ]
    }
   ],
   "source": []
  },
  {
   "cell_type": "code",
   "execution_count": null,
   "metadata": {},
   "outputs": [
    {
     "ename": "",
     "evalue": "",
     "output_type": "error",
     "traceback": [
      "\u001b[1;31mFailed to start the Kernel. \n",
      "\u001b[1;31mUnable to start Kernel 'lc-pipelines (Python 3.12.0)' due to a timeout waiting for the ports to get used. \n",
      "\u001b[1;31mView Jupyter <a href='command:jupyter.viewOutput'>log</a> for further details."
     ]
    }
   ],
   "source": []
  },
  {
   "cell_type": "markdown",
   "metadata": {},
   "source": [
    "# Loading the gene data"
   ]
  },
  {
   "cell_type": "code",
   "execution_count": null,
   "metadata": {},
   "outputs": [
    {
     "ename": "",
     "evalue": "",
     "output_type": "error",
     "traceback": [
      "\u001b[1;31mFailed to start the Kernel. \n",
      "\u001b[1;31mUnable to start Kernel 'lc-pipelines (Python 3.12.0)' due to a timeout waiting for the ports to get used. \n",
      "\u001b[1;31mView Jupyter <a href='command:jupyter.viewOutput'>log</a> for further details."
     ]
    }
   ],
   "source": [
    "gencode_df = pd.read_table('results/refs/ensembl/gencode.v30.annotation.w_genetypes.bed', header=None,\n",
    "                          names=['chrom', 'start', 'end', 'strand', 'type', 'geneid', 'genename', 'genetype'])\n",
    "gencode_df = gencode_df.loc[gencode_df.type == 'gene'].drop('type', axis=1)\n",
    "gencode_df.loc[:,'geneid'] = gencode_df.loc[:,'geneid'].str.replace('.[0-9]*', '', regex=True)\n",
    "gencode_df = gencode_df.loc[gencode_df.genetype == 'protein_coding']"
   ]
  },
  {
   "cell_type": "code",
   "execution_count": null,
   "metadata": {},
   "outputs": [
    {
     "ename": "",
     "evalue": "",
     "output_type": "error",
     "traceback": [
      "\u001b[1;31mFailed to start the Kernel. \n",
      "\u001b[1;31mUnable to start Kernel 'lc-pipelines (Python 3.12.0)' due to a timeout waiting for the ports to get used. \n",
      "\u001b[1;31mView Jupyter <a href='command:jupyter.viewOutput'>log</a> for further details."
     ]
    }
   ],
   "source": [
    "gencode_pbt = pbt.BedTool.from_dataframe(gencode_df)"
   ]
  },
  {
   "cell_type": "markdown",
   "metadata": {},
   "source": [
    "# Intersection"
   ]
  },
  {
   "cell_type": "code",
   "execution_count": null,
   "metadata": {},
   "outputs": [
    {
     "ename": "",
     "evalue": "",
     "output_type": "error",
     "traceback": [
      "\u001b[1;31mFailed to start the Kernel. \n",
      "\u001b[1;31mUnable to start Kernel 'lc-pipelines (Python 3.12.0)' due to a timeout waiting for the ports to get used. \n",
      "\u001b[1;31mView Jupyter <a href='command:jupyter.viewOutput'>log</a> for further details."
     ]
    }
   ],
   "source": [
    "block_genes = block_extensions_pbt.intersect(gencode_pbt, wa=True, wb=True, header=True).to_dataframe()"
   ]
  },
  {
   "cell_type": "code",
   "execution_count": null,
   "metadata": {},
   "outputs": [
    {
     "ename": "",
     "evalue": "",
     "output_type": "error",
     "traceback": [
      "\u001b[1;31mFailed to start the Kernel. \n",
      "\u001b[1;31mUnable to start Kernel 'lc-pipelines (Python 3.12.0)' due to a timeout waiting for the ports to get used. \n",
      "\u001b[1;31mView Jupyter <a href='command:jupyter.viewOutput'>log</a> for further details."
     ]
    }
   ],
   "source": [
    "block_genes"
   ]
  },
  {
   "cell_type": "markdown",
   "metadata": {},
   "source": [
    "## Annotation "
   ]
  },
  {
   "cell_type": "code",
   "execution_count": null,
   "metadata": {},
   "outputs": [
    {
     "ename": "",
     "evalue": "",
     "output_type": "error",
     "traceback": [
      "\u001b[1;31mFailed to start the Kernel. \n",
      "\u001b[1;31mUnable to start Kernel 'lc-pipelines (Python 3.12.0)' due to a timeout waiting for the ports to get used. \n",
      "\u001b[1;31mView Jupyter <a href='command:jupyter.viewOutput'>log</a> for further details."
     ]
    }
   ],
   "source": [
    "# loading consensus genes\n",
    "t1d_consensus_list_fn = '/mnt/bioadhoc-temp/Groups/vd-ay/jreyna/projects/dchallenge/results/main/gene_lists/consensus_gene_list.txt'\n",
    "t1d_consensus_genes = pd.read_table(t1d_consensus_list_fn, header=None, names=['genename'])\n",
    "print('The number of consensus genes is: {}'.format(t1d_consensus_genes.shape[0]))\n",
    "\n",
    "t1d_consensus_genes = set(t1d_consensus_genes.genename)"
   ]
  },
  {
   "cell_type": "code",
   "execution_count": null,
   "metadata": {},
   "outputs": [
    {
     "ename": "",
     "evalue": "",
     "output_type": "error",
     "traceback": [
      "\u001b[1;31mFailed to start the Kernel. \n",
      "\u001b[1;31mUnable to start Kernel 'lc-pipelines (Python 3.12.0)' due to a timeout waiting for the ports to get used. \n",
      "\u001b[1;31mView Jupyter <a href='command:jupyter.viewOutput'>log</a> for further details."
     ]
    }
   ],
   "source": [
    "# loading SGL genes\n",
    "\n",
    "sample_grps = {\n",
    "    'CD4_Naive': ['CD4_Naive_1800-RH-1.phs001703v3p1.Homo_Sapiens.H3K27ac.b1',\n",
    "                 'CD4_Naive_1800-RH-1.phs001703v3p1.Homo_Sapiens.H3K27ac.b2',\n",
    "                 'CD4_Naive_1800-RH-1.phs001703v3p1.Homo_Sapiens.H3K27ac.b3',\n",
    "                 'CD4_Naive_1814-RH-1.phs001703v3p1.Homo_Sapiens.H3K27ac.b1',\n",
    "                 'CD4_Naive_1814-RH-1.phs001703v3p1.Homo_Sapiens.H3K27ac.b2',\n",
    "                 'CD4_Naive_1814-RH-1.phs001703v3p1.Homo_Sapiens.H3K27ac.b3',\n",
    "                 'CD4_Naive_1815-RH-1.phs001703v3p1.Homo_Sapiens.H3K27ac.b1',\n",
    "                 'CD4_Naive_1815-RH-1.phs001703v3p1.Homo_Sapiens.H3K27ac.b2',\n",
    "                 'CD4_Naive_1815-RH-1.phs001703v3p1.Homo_Sapiens.H3K27ac.b3',\n",
    "                 'CD4_Naive_1816-RH-1.phs001703v3p1.Homo_Sapiens.H3K27ac.b1',\n",
    "                 'CD4_Naive_1816-RH-1.phs001703v3p1.Homo_Sapiens.H3K27ac.b2',\n",
    "                 'CD4_Naive_1816-RH-1.phs001703v3p1.Homo_Sapiens.H3K27ac.b3',\n",
    "                 'CD4_Naive_1829-RH-1.phs001703v3p1.Homo_Sapiens.H3K27ac.b1',\n",
    "                 'CD4_Naive_1829-RH-1.phs001703v3p1.Homo_Sapiens.H3K27ac.b2',\n",
    "                 'CD4_Naive_1829-RH-1.phs001703v3p1.Homo_Sapiens.H3K27ac.b3',\n",
    "                 'CD4_Naive_1831-RH-1.phs001703v3p1.Homo_Sapiens.H3K27ac.b1',\n",
    "                 'CD4_Naive_1831-RH-1.phs001703v3p1.Homo_Sapiens.H3K27ac.b2',\n",
    "                 'CD4_Naive_1831-RH-1.phs001703v3p1.Homo_Sapiens.H3K27ac.b3'],\n",
    "    'CD8_Naive': ['CD8_Naive_1800-RH-1.phs001703v3p1.Homo_Sapiens.H3K27ac.b1',\n",
    "                 'CD8_Naive_1800-RH-1.phs001703v3p1.Homo_Sapiens.H3K27ac.b2',\n",
    "                 'CD8_Naive_1800-RH-1.phs001703v3p1.Homo_Sapiens.H3K27ac.b3',\n",
    "                 'CD8_Naive_1814-RH-1.phs001703v3p1.Homo_Sapiens.H3K27ac.b1',\n",
    "                 'CD8_Naive_1814-RH-1.phs001703v3p1.Homo_Sapiens.H3K27ac.b2',\n",
    "                 'CD8_Naive_1814-RH-1.phs001703v3p1.Homo_Sapiens.H3K27ac.b3',\n",
    "                 'CD8_Naive_1815-RH-1.phs001703v3p1.Homo_Sapiens.H3K27ac.b1',\n",
    "                 'CD8_Naive_1815-RH-1.phs001703v3p1.Homo_Sapiens.H3K27ac.b2',\n",
    "                 'CD8_Naive_1815-RH-1.phs001703v3p1.Homo_Sapiens.H3K27ac.b3',\n",
    "                 'CD8_Naive_1816-RH-1.phs001703v3p1.Homo_Sapiens.H3K27ac.b1',\n",
    "                 'CD8_Naive_1816-RH-1.phs001703v3p1.Homo_Sapiens.H3K27ac.b2',\n",
    "                 'CD8_Naive_1816-RH-1.phs001703v3p1.Homo_Sapiens.H3K27ac.b3',\n",
    "                 'CD8_Naive_1829-RH-1.phs001703v3p1.Homo_Sapiens.H3K27ac.b1',\n",
    "                 'CD8_Naive_1829-RH-1.phs001703v3p1.Homo_Sapiens.H3K27ac.b2',\n",
    "                 'CD8_Naive_1829-RH-1.phs001703v3p1.Homo_Sapiens.H3K27ac.b3',\n",
    "                 'CD8_Naive_1831-RH-1.phs001703v3p1.Homo_Sapiens.H3K27ac.b1',\n",
    "                 'CD8_Naive_1831-RH-1.phs001703v3p1.Homo_Sapiens.H3K27ac.b2',\n",
    "                 'CD8_Naive_1831-RH-1.phs001703v3p1.Homo_Sapiens.H3K27ac.b3'],\n",
    "    'Monocyte': ['Monocyte_1800-RH-1.phs001703v3p1.Homo_Sapiens.H3K27ac.b1',\n",
    "                 'Monocyte_1800-RH-1.phs001703v3p1.Homo_Sapiens.H3K27ac.b2',\n",
    "                 'Monocyte_1800-RH-1.phs001703v3p1.Homo_Sapiens.H3K27ac.b3',\n",
    "                 'Monocyte_1814-RH-1.phs001703v3p1.Homo_Sapiens.H3K27ac.b1',\n",
    "                 'Monocyte_1814-RH-1.phs001703v3p1.Homo_Sapiens.H3K27ac.b2',\n",
    "                 'Monocyte_1814-RH-1.phs001703v3p1.Homo_Sapiens.H3K27ac.b3',\n",
    "                 'Monocyte_1815-RH-1.phs001703v3p1.Homo_Sapiens.H3K27ac.b1',\n",
    "                 'Monocyte_1815-RH-1.phs001703v3p1.Homo_Sapiens.H3K27ac.b2',\n",
    "                 'Monocyte_1815-RH-1.phs001703v3p1.Homo_Sapiens.H3K27ac.b3',\n",
    "                 'Monocyte_1816-RH-1.phs001703v3p1.Homo_Sapiens.H3K27ac.b1',\n",
    "                 'Monocyte_1816-RH-1.phs001703v3p1.Homo_Sapiens.H3K27ac.b2',\n",
    "                 'Monocyte_1816-RH-1.phs001703v3p1.Homo_Sapiens.H3K27ac.b3',\n",
    "                 'Monocyte_1829-RH-1.phs001703v3p1.Homo_Sapiens.H3K27ac.b1',\n",
    "                 'Monocyte_1829-RH-1.phs001703v3p1.Homo_Sapiens.H3K27ac.b2',\n",
    "                 'Monocyte_1829-RH-1.phs001703v3p1.Homo_Sapiens.H3K27ac.b3',\n",
    "                 'Monocyte_1831-RH-1.phs001703v3p1.Homo_Sapiens.H3K27ac.b1',\n",
    "                 'Monocyte_1831-RH-1.phs001703v3p1.Homo_Sapiens.H3K27ac.b2',\n",
    "                 'Monocyte_1831-RH-1.phs001703v3p1.Homo_Sapiens.H3K27ac.b3',\n",
    "                 'THP-1-WT.GSE149420.Homo_Sapiens.H3K27ac.b1'],\n",
    "    'Naive_B': ['Naive_B_1800-RH-1.phs001703v3p1.Homo_Sapiens.H3K27ac.b1',\n",
    "                 'Naive_B_1800-RH-1.phs001703v3p1.Homo_Sapiens.H3K27ac.b2',\n",
    "                 'Naive_B_1800-RH-1.phs001703v3p1.Homo_Sapiens.H3K27ac.b3',\n",
    "                 'Naive_B_1814-RH-1.phs001703v3p1.Homo_Sapiens.H3K27ac.b1',\n",
    "                 'Naive_B_1814-RH-1.phs001703v3p1.Homo_Sapiens.H3K27ac.b2',\n",
    "                 'Naive_B_1814-RH-1.phs001703v3p1.Homo_Sapiens.H3K27ac.b3',\n",
    "                 'Naive_B_1815-RH-1.phs001703v3p1.Homo_Sapiens.H3K27ac.b1',\n",
    "                 'Naive_B_1815-RH-1.phs001703v3p1.Homo_Sapiens.H3K27ac.b2',\n",
    "                 'Naive_B_1815-RH-1.phs001703v3p1.Homo_Sapiens.H3K27ac.b3',\n",
    "                 'Naive_B_1816-RH-1.phs001703v3p1.Homo_Sapiens.H3K27ac.b1',\n",
    "                 'Naive_B_1816-RH-1.phs001703v3p1.Homo_Sapiens.H3K27ac.b2',\n",
    "                 'Naive_B_1816-RH-1.phs001703v3p1.Homo_Sapiens.H3K27ac.b3',\n",
    "                 'Naive_B_1829-RH-1.phs001703v3p1.Homo_Sapiens.H3K27ac.b1',\n",
    "                 'Naive_B_1829-RH-1.phs001703v3p1.Homo_Sapiens.H3K27ac.b2',\n",
    "                 'Naive_B_1829-RH-1.phs001703v3p1.Homo_Sapiens.H3K27ac.b3',\n",
    "                 'Naive_B_1831-RH-1.phs001703v3p1.Homo_Sapiens.H3K27ac.b1',\n",
    "                 'Naive_B_1831-RH-1.phs001703v3p1.Homo_Sapiens.H3K27ac.b2',\n",
    "                 'Naive_B_1831-RH-1.phs001703v3p1.Homo_Sapiens.H3K27ac.b3',\n",
    "                 'Nalm6.GSE115492.Homo_Sapiens.H3K27ac.b1'],\n",
    "    'Natural_Killer': ['Natural_Killer_1800-RH-1.phs001703v3p1.Homo_Sapiens.H3K27ac.b1',\n",
    "                 'Natural_Killer_1800-RH-1.phs001703v3p1.Homo_Sapiens.H3K27ac.b2',\n",
    "                 'Natural_Killer_1800-RH-1.phs001703v3p1.Homo_Sapiens.H3K27ac.b3',\n",
    "                 'Natural_Killer_1814-RH-1.phs001703v3p1.Homo_Sapiens.H3K27ac.b1',\n",
    "                 'Natural_Killer_1814-RH-1.phs001703v3p1.Homo_Sapiens.H3K27ac.b2',\n",
    "                 'Natural_Killer_1814-RH-1.phs001703v3p1.Homo_Sapiens.H3K27ac.b3',\n",
    "                 'Natural_Killer_1815-RH-1.phs001703v3p1.Homo_Sapiens.H3K27ac.b1',\n",
    "                 'Natural_Killer_1815-RH-1.phs001703v3p1.Homo_Sapiens.H3K27ac.b2',\n",
    "                 'Natural_Killer_1815-RH-1.phs001703v3p1.Homo_Sapiens.H3K27ac.b3',\n",
    "                 'Natural_Killer_1816-RH-1.phs001703v3p1.Homo_Sapiens.H3K27ac.b1',\n",
    "                 'Natural_Killer_1816-RH-1.phs001703v3p1.Homo_Sapiens.H3K27ac.b2',\n",
    "                 'Natural_Killer_1816-RH-1.phs001703v3p1.Homo_Sapiens.H3K27ac.b3',\n",
    "                 'Natural_Killer_1829-RH-1.phs001703v3p1.Homo_Sapiens.H3K27ac.b1',\n",
    "                 'Natural_Killer_1829-RH-1.phs001703v3p1.Homo_Sapiens.H3K27ac.b2',\n",
    "                 'Natural_Killer_1829-RH-1.phs001703v3p1.Homo_Sapiens.H3K27ac.b3',\n",
    "                 'Natural_Killer_1831-RH-1.phs001703v3p1.Homo_Sapiens.H3K27ac.b1',\n",
    "                 'Natural_Killer_1831-RH-1.phs001703v3p1.Homo_Sapiens.H3K27ac.b2',\n",
    "                 'Natural_Killer_1831-RH-1.phs001703v3p1.Homo_Sapiens.H3K27ac.b3'],\n",
    "    'Nonclassical_Monocyte': ['Nonclassical_Monocyte_1786.phs001703v4p1.Homo_Sapiens.H3K27ac.b1',\n",
    "                 'Nonclassical_Monocyte_1786.phs001703v4p1.Homo_Sapiens.H3K27ac.b2',\n",
    "                 'Nonclassical_Monocyte_1786.phs001703v4p1.Homo_Sapiens.H3K27ac.b3',\n",
    "                 'Nonclassical_Monocyte_1786.phs001703v4p1.Homo_Sapiens.H3K27ac.b4',\n",
    "                 'Nonclassical_Monocyte_1800.phs001703v4p1.Homo_Sapiens.H3K27ac.b1',\n",
    "                 'Nonclassical_Monocyte_1800.phs001703v4p1.Homo_Sapiens.H3K27ac.b2',\n",
    "                 'Nonclassical_Monocyte_1800.phs001703v4p1.Homo_Sapiens.H3K27ac.b3',\n",
    "                 'Nonclassical_Monocyte_1800.phs001703v4p1.Homo_Sapiens.H3K27ac.b4',\n",
    "                 'Nonclassical_Monocyte_1831.phs001703v4p1.Homo_Sapiens.H3K27ac.b1',\n",
    "                 'Nonclassical_Monocyte_1831.phs001703v4p1.Homo_Sapiens.H3K27ac.b2',\n",
    "                 'Nonclassical_Monocyte_1831.phs001703v4p1.Homo_Sapiens.H3K27ac.b3',\n",
    "                 'Nonclassical_Monocyte_1831.phs001703v4p1.Homo_Sapiens.H3K27ac.b4']\n",
    "}\n",
    "\n",
    "sample_grps2 = {}\n",
    "for grp, grp_lists in sample_grps.items():\n",
    "    for s in grp_lists:\n",
    "        sample_grps2[s] = grp\n",
    "\n",
    "fns = glob.glob('results/hg38/finemapping/sgls/*/*.finemap_sgls.tsv')\n",
    "\n",
    "all_data = []\n",
    "for fn in fns:\n",
    "    \n",
    "    # split meta information\n",
    "    info = fn.split('/')\n",
    "    genome = info[1]\n",
    "    causaldb_fn = info[4]\n",
    "    sample = info[5].rsplit('.', maxsplit=3)[0]\n",
    "\n",
    "    # load sgl table\n",
    "    tdf = pd.read_table(fn)\n",
    "    tdf.loc[:, 'causaldb_fn'] = causaldb_fn\n",
    "    tdf.loc[:, 'sample'] = sample\n",
    "    tdf.loc[:, 'sample_grp'] = sample_grps2[sample]\n",
    "\n",
    "    # append to all\n",
    "    all_data.append(tdf)\n",
    "\n",
    "all_df = pd.concat(all_data)"
   ]
  },
  {
   "cell_type": "code",
   "execution_count": null,
   "metadata": {},
   "outputs": [
    {
     "ename": "",
     "evalue": "",
     "output_type": "error",
     "traceback": [
      "\u001b[1;31mFailed to start the Kernel. \n",
      "\u001b[1;31mUnable to start Kernel 'lc-pipelines (Python 3.12.0)' due to a timeout waiting for the ports to get used. \n",
      "\u001b[1;31mView Jupyter <a href='command:jupyter.viewOutput'>log</a> for further details."
     ]
    }
   ],
   "source": [
    "sgl_genes = [x for x in all_df.genename.unique() if not x.startswith('AC') and not x.startswith('AL') and not x.startswith('HIST') and not x.startswith('AP')]\n",
    "sgl_genes = set(sgl_genes)"
   ]
  },
  {
   "cell_type": "code",
   "execution_count": null,
   "metadata": {},
   "outputs": [
    {
     "ename": "",
     "evalue": "",
     "output_type": "error",
     "traceback": [
      "\u001b[1;31mFailed to start the Kernel. \n",
      "\u001b[1;31mUnable to start Kernel 'lc-pipelines (Python 3.12.0)' due to a timeout waiting for the ports to get used. \n",
      "\u001b[1;31mView Jupyter <a href='command:jupyter.viewOutput'>log</a> for further details."
     ]
    }
   ],
   "source": [
    "len(sgl_genes)"
   ]
  },
  {
   "cell_type": "code",
   "execution_count": null,
   "metadata": {},
   "outputs": [
    {
     "ename": "",
     "evalue": "",
     "output_type": "error",
     "traceback": [
      "\u001b[1;31mFailed to start the Kernel. \n",
      "\u001b[1;31mUnable to start Kernel 'lc-pipelines (Python 3.12.0)' due to a timeout waiting for the ports to get used. \n",
      "\u001b[1;31mView Jupyter <a href='command:jupyter.viewOutput'>log</a> for further details."
     ]
    }
   ],
   "source": [
    "sgl_genes_only = sgl_genes.difference(t1d_consensus_genes)\n",
    "consensus_genes_only = t1d_consensus_genes.difference(sgl_genes)\n",
    "shared = sgl_genes.intersection(t1d_consensus_genes)"
   ]
  },
  {
   "cell_type": "code",
   "execution_count": null,
   "metadata": {},
   "outputs": [
    {
     "ename": "",
     "evalue": "",
     "output_type": "error",
     "traceback": [
      "\u001b[1;31mFailed to start the Kernel. \n",
      "\u001b[1;31mUnable to start Kernel 'lc-pipelines (Python 3.12.0)' due to a timeout waiting for the ports to get used. \n",
      "\u001b[1;31mView Jupyter <a href='command:jupyter.viewOutput'>log</a> for further details."
     ]
    }
   ],
   "source": [
    "# annotate genes\n",
    "def label_genes(x):\n",
    "    if x.blockSizes in sgl_genes_only:\n",
    "        return('sgl_genes_only')\n",
    "    elif x.blockSizes in consensus_genes_only:\n",
    "        return('consensus_genes_only')\n",
    "    elif x.blockSizes in shared:\n",
    "        return('shared')\n",
    "    else:\n",
    "        return('other')\n",
    "    \n",
    "block_genes.loc[:, 'gene_annotation'] = block_genes.apply(label_genes, axis=1)"
   ]
  },
  {
   "cell_type": "code",
   "execution_count": null,
   "metadata": {},
   "outputs": [
    {
     "ename": "",
     "evalue": "",
     "output_type": "error",
     "traceback": [
      "\u001b[1;31mFailed to start the Kernel. \n",
      "\u001b[1;31mUnable to start Kernel 'lc-pipelines (Python 3.12.0)' due to a timeout waiting for the ports to get used. \n",
      "\u001b[1;31mView Jupyter <a href='command:jupyter.viewOutput'>log</a> for further details."
     ]
    }
   ],
   "source": [
    "block_genes"
   ]
  },
  {
   "cell_type": "markdown",
   "metadata": {},
   "source": [
    "## Assign blocks to each gene case"
   ]
  },
  {
   "cell_type": "code",
   "execution_count": null,
   "metadata": {},
   "outputs": [
    {
     "ename": "",
     "evalue": "",
     "output_type": "error",
     "traceback": [
      "\u001b[1;31mFailed to start the Kernel. \n",
      "\u001b[1;31mUnable to start Kernel 'lc-pipelines (Python 3.12.0)' due to a timeout waiting for the ports to get used. \n",
      "\u001b[1;31mView Jupyter <a href='command:jupyter.viewOutput'>log</a> for further details."
     ]
    }
   ],
   "source": [
    "# annotate each block\n",
    "block_annos = []\n",
    "\n",
    "for (causldb_fn, block_id), block_df in block_genes.groupby(['name', 'score']):\n",
    "    gene_annos = block_df.gene_annotation.unique()\n",
    "    \n",
    "    if len(gene_annos) == 1:\n",
    "        block_type = gene_annos[0]\n",
    "    elif len(gene_annos) == 2:\n",
    "        if 'other' in gene_annos:\n",
    "            block_type = [x for x in gene_annos if x != 'other'][0]\n",
    "        else:\n",
    "            block_type = 'mixed'\n",
    "    else:\n",
    "        block_type = 'mixed'\n",
    "        \n",
    "    block_annos.append([causldb_fn, block_id, block_type])\n",
    "\n",
    "block_annos_df = pd.DataFrame(block_annos, columns=['name', 'score', 'block_type'])\n",
    "\n",
    "# merge information with gene-based information \n",
    "block_genes = block_genes.merge(block_annos_df, on=['name', 'score'])"
   ]
  },
  {
   "cell_type": "code",
   "execution_count": null,
   "metadata": {},
   "outputs": [
    {
     "ename": "",
     "evalue": "",
     "output_type": "error",
     "traceback": [
      "\u001b[1;31mFailed to start the Kernel. \n",
      "\u001b[1;31mUnable to start Kernel 'lc-pipelines (Python 3.12.0)' due to a timeout waiting for the ports to get used. \n",
      "\u001b[1;31mView Jupyter <a href='command:jupyter.viewOutput'>log</a> for further details."
     ]
    }
   ],
   "source": [
    "block_genes_check = block_genes.loc[block_genes.block_type == 'sgl_genes_only']\n",
    "block_genes_check.loc[block_genes_check.score == 21].sort_values('gene_annotation')"
   ]
  },
  {
   "cell_type": "markdown",
   "metadata": {},
   "source": [
    "## Visualization"
   ]
  },
  {
   "cell_type": "code",
   "execution_count": null,
   "metadata": {},
   "outputs": [
    {
     "ename": "",
     "evalue": "",
     "output_type": "error",
     "traceback": [
      "\u001b[1;31mFailed to start the Kernel. \n",
      "\u001b[1;31mUnable to start Kernel 'lc-pipelines (Python 3.12.0)' due to a timeout waiting for the ports to get used. \n",
      "\u001b[1;31mView Jupyter <a href='command:jupyter.viewOutput'>log</a> for further details."
     ]
    }
   ],
   "source": [
    "# create missing fields\n",
    "def create_attribute(sr):\n",
    "    attrib = 'gene_id \"ENSG00000223972.5\"; gene_name \"{0}\"; gene_type \"protein_coding\";'.format(sr.blockSizes)\n",
    "    return(attrib)\n",
    "\n",
    "block_genes_save = block_genes.copy()\n",
    "block_genes_save.loc[:, 'source'] = 'block_genes'\n",
    "block_genes_save.loc[:, 'score'] = '.'\n",
    "block_genes_save.loc[:, 'frame'] = '.'\n",
    "block_genes_save.loc[:, 'feature_type'] = 'gene'\n",
    "block_genes_save.loc[:, 'attribute'] = block_genes_save.apply(create_attribute, axis=1)"
   ]
  },
  {
   "cell_type": "code",
   "execution_count": null,
   "metadata": {},
   "outputs": [
    {
     "ename": "",
     "evalue": "",
     "output_type": "error",
     "traceback": [
      "\u001b[1;31mFailed to start the Kernel. \n",
      "\u001b[1;31mUnable to start Kernel 'lc-pipelines (Python 3.12.0)' due to a timeout waiting for the ports to get used. \n",
      "\u001b[1;31mView Jupyter <a href='command:jupyter.viewOutput'>log</a> for further details."
     ]
    }
   ],
   "source": [
    "block_genes_save.head()"
   ]
  },
  {
   "cell_type": "code",
   "execution_count": null,
   "metadata": {},
   "outputs": [
    {
     "ename": "",
     "evalue": "",
     "output_type": "error",
     "traceback": [
      "\u001b[1;31mFailed to start the Kernel. \n",
      "\u001b[1;31mUnable to start Kernel 'lc-pipelines (Python 3.12.0)' due to a timeout waiting for the ports to get used. \n",
      "\u001b[1;31mView Jupyter <a href='command:jupyter.viewOutput'>log</a> for further details."
     ]
    }
   ],
   "source": [
    "# loading the gencode gtf\n",
    "gencode_gtf_df = pd.read_table('results/hg38/refs/gencode/v30/gencode.v30.annotation.gtf.gz', comment='#', header=None)\n",
    "gencode_gtf_df = gencode_gtf_df.loc[gencode_gtf_df.iloc[:, 2] == 'gene']\n",
    "gencode_gtf_df = gencode_gtf_df.loc[gencode_gtf_df.iloc[:, 8].str.contains('protein_coding')]\n",
    "gencode_gtf_df.loc[:, 'gene_name'] = gencode_gtf_df.iloc[:, 8].str.extract('gene_name \"(.*?)\";')[0]"
   ]
  },
  {
   "cell_type": "code",
   "execution_count": null,
   "metadata": {},
   "outputs": [
    {
     "ename": "",
     "evalue": "",
     "output_type": "error",
     "traceback": [
      "\u001b[1;31mFailed to start the Kernel. \n",
      "\u001b[1;31mUnable to start Kernel 'lc-pipelines (Python 3.12.0)' due to a timeout waiting for the ports to get used. \n",
      "\u001b[1;31mView Jupyter <a href='command:jupyter.viewOutput'>log</a> for further details."
     ]
    }
   ],
   "source": [
    "# save tracks for the genes within blocks\n",
    "for causal_fn, causal_df in block_genes_save.groupby('name'):\n",
    "    \n",
    "    select_genes = list(causal_df.blockSizes.unique())\n",
    "    tdf = gencode_gtf_df.loc[gencode_gtf_df.gene_name.isin(select_genes)]\n",
    "    tdf.drop('gene_name', axis=1, inplace=True)\n",
    "    \n",
    "    outfn = os.path.join(outdir, '{}_block_genes.gtf'.format(causal_fn))\n",
    "    tdf.to_csv(outfn, sep='\\t', header=None, quotechar=\"'\", index=False)"
   ]
  },
  {
   "cell_type": "code",
   "execution_count": null,
   "metadata": {},
   "outputs": [
    {
     "ename": "",
     "evalue": "",
     "output_type": "error",
     "traceback": [
      "\u001b[1;31mFailed to start the Kernel. \n",
      "\u001b[1;31mUnable to start Kernel 'lc-pipelines (Python 3.12.0)' due to a timeout waiting for the ports to get used. \n",
      "\u001b[1;31mView Jupyter <a href='command:jupyter.viewOutput'>log</a> for further details."
     ]
    }
   ],
   "source": [
    "full_snp_track = 'results/hg38/finemapping/snps/singles/PH378.finemapped.snps.cb.bed.bgz'\n",
    "block_track = 'results/hg38/finemapping/sgl_coolbox_visualizations/PH378_block.bed'\n",
    "genes_with_anno_track = 'results/hg38/finemapping/sgl_coolbox_visualizations/PH378_block_genes.gtf'\n",
    "loop_track = 'results/hg38/finemapping/sgls_conserved_loops/PH378_sgl_loops.bedpe'\n",
    "# sgl_track = ''"
   ]
  },
  {
   "cell_type": "code",
   "execution_count": null,
   "metadata": {},
   "outputs": [
    {
     "ename": "",
     "evalue": "",
     "output_type": "error",
     "traceback": [
      "\u001b[1;31mFailed to start the Kernel. \n",
      "\u001b[1;31mUnable to start Kernel 'lc-pipelines (Python 3.12.0)' due to a timeout waiting for the ports to get used. \n",
      "\u001b[1;31mView Jupyter <a href='command:jupyter.viewOutput'>log</a> for further details."
     ]
    }
   ],
   "source": []
  },
  {
   "cell_type": "code",
   "execution_count": null,
   "metadata": {},
   "outputs": [
    {
     "ename": "",
     "evalue": "",
     "output_type": "error",
     "traceback": [
      "\u001b[1;31mFailed to start the Kernel. \n",
      "\u001b[1;31mUnable to start Kernel 'lc-pipelines (Python 3.12.0)' due to a timeout waiting for the ports to get used. \n",
      "\u001b[1;31mView Jupyter <a href='command:jupyter.viewOutput'>log</a> for further details."
     ]
    }
   ],
   "source": [
    "block_extensions.loc[:, 'query'] = block_extensions.apply(lambda sr: '{}:{}-{}'.format(sr.chrom, sr.start, sr.end), axis=1)"
   ]
  },
  {
   "cell_type": "code",
   "execution_count": null,
   "metadata": {},
   "outputs": [
    {
     "ename": "",
     "evalue": "",
     "output_type": "error",
     "traceback": [
      "\u001b[1;31mFailed to start the Kernel. \n",
      "\u001b[1;31mUnable to start Kernel 'lc-pipelines (Python 3.12.0)' due to a timeout waiting for the ports to get used. \n",
      "\u001b[1;31mView Jupyter <a href='command:jupyter.viewOutput'>log</a> for further details."
     ]
    }
   ],
   "source": [
    "check_ph378_block = block_extensions.loc[block_extensions.causaldb_fn == 'PH378']"
   ]
  },
  {
   "cell_type": "code",
   "execution_count": null,
   "metadata": {},
   "outputs": [
    {
     "ename": "",
     "evalue": "",
     "output_type": "error",
     "traceback": [
      "\u001b[1;31mFailed to start the Kernel. \n",
      "\u001b[1;31mUnable to start Kernel 'lc-pipelines (Python 3.12.0)' due to a timeout waiting for the ports to get used. \n",
      "\u001b[1;31mView Jupyter <a href='command:jupyter.viewOutput'>log</a> for further details."
     ]
    }
   ],
   "source": [
    "check_ph378_block"
   ]
  },
  {
   "cell_type": "code",
   "execution_count": null,
   "metadata": {},
   "outputs": [
    {
     "ename": "",
     "evalue": "",
     "output_type": "error",
     "traceback": [
      "\u001b[1;31mFailed to start the Kernel. \n",
      "\u001b[1;31mUnable to start Kernel 'lc-pipelines (Python 3.12.0)' due to a timeout waiting for the ports to get used. \n",
      "\u001b[1;31mView Jupyter <a href='command:jupyter.viewOutput'>log</a> for further details."
     ]
    }
   ],
   "source": []
  },
  {
   "cell_type": "code",
   "execution_count": null,
   "metadata": {},
   "outputs": [
    {
     "ename": "",
     "evalue": "",
     "output_type": "error",
     "traceback": [
      "\u001b[1;31mFailed to start the Kernel. \n",
      "\u001b[1;31mUnable to start Kernel 'lc-pipelines (Python 3.12.0)' due to a timeout waiting for the ports to get used. \n",
      "\u001b[1;31mView Jupyter <a href='command:jupyter.viewOutput'>log</a> for further details."
     ]
    }
   ],
   "source": [
    "with TrackHeight(2):\n",
    "    frame = XAxis()\n",
    "    frame += BED(block_track, alpha=1) + Title(\"Expanded blocks\")\n",
    "    frame += Spacer()\n",
    "    frame += BED(full_snp_track, alpha=1) + Title(\"Finemapped SNPs\") + TrackHeight(4)\n",
    "    frame += Spacer()\n",
    "    frame += GTF(genes_with_anno_track, length_ratio_thresh=0.005) + TrackHeight(4) + Title(\"Genes within blocks\")\n",
    "    frame += Spacer()\n",
    "    frame += Arcs(loop_track) + Inverted() + Title(\"Union of SGLs\\nacross samples\")\n",
    "\n",
    "frame.properties['width'] = 60\n",
    "\n",
    "test_interval = \"chr1:16000000-19000000\"\n",
    "test_interval = 'chr2:191073437-191204687'\n",
    "test_interval = check_ph378_block['query'].iloc[-1]\n",
    "\n",
    "bsr = Browser(frame, reference_genome='hg38', widgets_box='simple')\n",
    "bsr.goto(test_interval)"
   ]
  },
  {
   "cell_type": "code",
   "execution_count": null,
   "metadata": {},
   "outputs": [
    {
     "ename": "",
     "evalue": "",
     "output_type": "error",
     "traceback": [
      "\u001b[1;31mFailed to start the Kernel. \n",
      "\u001b[1;31mUnable to start Kernel 'lc-pipelines (Python 3.12.0)' due to a timeout waiting for the ports to get used. \n",
      "\u001b[1;31mView Jupyter <a href='command:jupyter.viewOutput'>log</a> for further details."
     ]
    }
   ],
   "source": [
    "bsr.show()"
   ]
  },
  {
   "cell_type": "code",
   "execution_count": null,
   "metadata": {},
   "outputs": [
    {
     "ename": "",
     "evalue": "",
     "output_type": "error",
     "traceback": [
      "\u001b[1;31mFailed to start the Kernel. \n",
      "\u001b[1;31mUnable to start Kernel 'lc-pipelines (Python 3.12.0)' due to a timeout waiting for the ports to get used. \n",
      "\u001b[1;31mView Jupyter <a href='command:jupyter.viewOutput'>log</a> for further details."
     ]
    }
   ],
   "source": []
  },
  {
   "cell_type": "code",
   "execution_count": null,
   "metadata": {},
   "outputs": [
    {
     "ename": "",
     "evalue": "",
     "output_type": "error",
     "traceback": [
      "\u001b[1;31mFailed to start the Kernel. \n",
      "\u001b[1;31mUnable to start Kernel 'lc-pipelines (Python 3.12.0)' due to a timeout waiting for the ports to get used. \n",
      "\u001b[1;31mView Jupyter <a href='command:jupyter.viewOutput'>log</a> for further details."
     ]
    }
   ],
   "source": []
  }
 ],
 "metadata": {
  "kernelspec": {
   "display_name": "loopcatalog",
   "language": "python",
   "name": "python3"
  },
  "language_info": {
   "codemirror_mode": {
    "name": "ipython",
    "version": 3
   },
   "file_extension": ".py",
   "mimetype": "text/x-python",
   "name": "python",
   "nbconvert_exporter": "python",
   "pygments_lexer": "ipython3",
   "version": "3.10.12"
  }
 },
 "nbformat": 4,
 "nbformat_minor": 2
}
