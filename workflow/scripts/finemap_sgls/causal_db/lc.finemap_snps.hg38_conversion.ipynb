{
 "cells": [
  {
   "cell_type": "code",
   "execution_count": 1,
   "metadata": {},
   "outputs": [],
   "source": [
    "import os\n",
    "import glob\n",
    "import pandas as pd \n",
    "from chromolooper import sgls\n",
    "import re\n",
    "from myvariant import MyVariantInfo\n",
    "import numpy as np\n",
    "\n",
    "pd.options.mode.chained_assignment = None  # default='warn'\n",
    "\n",
    "os.chdir('/mnt/BioHome/jreyna/jreyna-temp/projects/t1d-loop-catalog/')\n",
    "\n",
    "outdir = 'results/hg38/finemapping/snps/'\n",
    "os.makedirs(outdir, exist_ok=True)"
   ]
  },
  {
   "attachments": {},
   "cell_type": "markdown",
   "metadata": {},
   "source": [
    "## Load all finemapped snp data"
   ]
  },
  {
   "cell_type": "code",
   "execution_count": 2,
   "metadata": {},
   "outputs": [],
   "source": [
    "# add meta information\n",
    "causal_metadata_fn = 'workflow/qscripts/finemap/causal_db/init.gwas_study.causal_db.immune_select_samples.tsv'\n",
    "causal_metadata = pd.read_table(causal_metadata_fn, header=None)\n",
    "\n",
    "causal_metadata_mapper =  causal_metadata.iloc[:, [2, 8, 18]]\n",
    "causal_metadata_mapper.columns = ['mesh_term', 'author', 'filename']"
   ]
  },
  {
   "cell_type": "code",
   "execution_count": 3,
   "metadata": {},
   "outputs": [],
   "source": [
    "# load all the finemapping snp data\n",
    "fns = glob.glob('/mnt/bioadhoc-temp/Groups/vd-ay/sourya/Projects/2020_IQTL_HiChIP/Data/CausalDB/credible_set/*_total_credible_set.txt')\n",
    "\n",
    "all_data = []\n",
    "for i, fn in enumerate(fns):\n",
    "\n",
    "    info = fn.split('/')\n",
    "\n",
    "    causaldb_fn = info[-1].split('_')[0]\n",
    "\n",
    "    if causaldb_fn in causal_metadata_mapper.filename.tolist():\n",
    "\n",
    "        # loading the data\n",
    "        tdf = pd.read_table(fn)\n",
    "        if tdf.shape[0] > 0:\n",
    "            tdf.loc[:, 'causaldb_fn'] = causaldb_fn\n",
    "            all_data.append(tdf)"
   ]
  },
  {
   "cell_type": "code",
   "execution_count": 4,
   "metadata": {},
   "outputs": [],
   "source": [
    "all_df = pd.concat(all_data)\n",
    "\n",
    "# add causaldb metadata\n",
    "all_df = all_df.merge(causal_metadata_mapper, left_on='causaldb_fn', right_on='filename')\n",
    "\n",
    "all_df.loc[:, 'rsID'] = all_df.loc[:, 'rsID'].apply(lambda x: 'rs{}'.format(x))"
   ]
  },
  {
   "cell_type": "code",
   "execution_count": 5,
   "metadata": {},
   "outputs": [
    {
     "data": {
      "text/plain": [
       "8840"
      ]
     },
     "execution_count": 5,
     "metadata": {},
     "output_type": "execute_result"
    }
   ],
   "source": [
    "# extracing all the unique rsids for query\n",
    "rs_numbers = all_df.rsID.unique().tolist()\n",
    "\n",
    "len(rs_numbers)"
   ]
  },
  {
   "cell_type": "markdown",
   "metadata": {},
   "source": [
    "## Querying and adding coordinates from hg38 with checks"
   ]
  },
  {
   "cell_type": "code",
   "execution_count": 6,
   "metadata": {},
   "outputs": [
    {
     "name": "stdout",
     "output_type": "stream",
     "text": [
      "querying 1-1000...done.\n",
      "querying 1001-2000...done.\n",
      "querying 2001-3000...done.\n",
      "querying 3001-4000...done.\n",
      "querying 4001-5000...done.\n",
      "querying 5001-6000...done.\n",
      "querying 6001-7000...done.\n",
      "querying 7001-8000...done.\n",
      "querying 8001-8840...done.\n",
      "Finished.\n",
      "3923 input query terms found dup hits:\n",
      "\t[('rs34372802', 2), ('rs77411920', 2), ('rs6657092', 3), ('rs11264130', 3), ('rs552564', 2), ('rs120\n",
      "398 input query terms found no hit:\n",
      "\t['rs142528524', 'rs113429865', 'rs79725762', 'rs77516441', 'rs111289255', 'rs527435679', 'rs14809495\n",
      "Pass \"returnall=True\" to return complete lists of duplicate or missing query terms.\n",
      "querying 1-1000...done.\n",
      "querying 1001-2000...done.\n",
      "querying 2001-3000...done.\n",
      "querying 3001-4000...done.\n",
      "querying 4001-5000...done.\n",
      "querying 5001-6000...done.\n",
      "querying 6001-7000...done.\n",
      "querying 7001-8000...done.\n",
      "querying 8001-8840...done.\n",
      "Finished.\n",
      "3920 input query terms found dup hits:\n",
      "\t[('rs34372802', 2), ('rs77411920', 2), ('rs6657092', 3), ('rs11264130', 3), ('rs552564', 2), ('rs120\n",
      "402 input query terms found no hit:\n",
      "\t['rs142528524', 'rs113429865', 'rs79725762', 'rs77516441', 'rs111289255', 'rs527435679', 'rs14809495\n",
      "Pass \"returnall=True\" to return complete lists of duplicate or missing query terms.\n"
     ]
    }
   ],
   "source": [
    "# querying the variants in hg38\n",
    "mv = MyVariantInfo()\n",
    "rs_query_hg38 = mv.querymany(rs_numbers, \n",
    "                        scopes='dbsnp.rsid',\n",
    "                        fields=['hg38.start', 'dbsnp.chrom'],\n",
    "                        assembly='hg38',\n",
    "                        as_dataframe=True,\n",
    "                        verbose=True)\n",
    "\n",
    "# drop NA's and duplicates\n",
    "rs_query_hg38.dropna(subset=['hg38.start'], inplace=True)\n",
    "rs_query_hg38.drop_duplicates(subset=['dbsnp.chrom', 'hg38.start'], inplace=True)\n",
    "\n",
    "                        \n",
    "# querying the variants in hg19\n",
    "rs_query_hg19 = mv.querymany(rs_numbers, \n",
    "                        scopes='dbsnp.rsid',\n",
    "                        fields=['hg19.start', 'dbsnp.chrom'],\n",
    "                        assembly='hg19',\n",
    "                        as_dataframe=True,\n",
    "                        verbose=True)\n",
    "\n",
    "# drop NA's and duplicates\n",
    "rs_query_hg19.dropna(subset=['hg19.start'], inplace=True)\n",
    "rs_query_hg19.drop_duplicates(subset=['dbsnp.chrom', 'hg19.start'], inplace=True)"
   ]
  },
  {
   "cell_type": "code",
   "execution_count": 7,
   "metadata": {},
   "outputs": [],
   "source": [
    "rs_query = rs_query_hg38.merge(rs_query_hg19, suffixes=['_hg38', '_hg19'], left_index=True, right_index=True)"
   ]
  },
  {
   "cell_type": "code",
   "execution_count": 8,
   "metadata": {},
   "outputs": [],
   "source": [
    "rs_query.drop(['_id_hg38', '_score_hg38', 'dbsnp._license_hg38',\n",
    "                '_id_hg19', '_score_hg19', 'dbsnp._license_hg19'], axis=1, inplace=True)"
   ]
  },
  {
   "cell_type": "code",
   "execution_count": 9,
   "metadata": {},
   "outputs": [],
   "source": [
    "rs_query['hg38.start'] = rs_query['hg38.start'].astype(int)\n",
    "rs_query['hg19.start'] = rs_query['hg19.start'].astype(int)"
   ]
  },
  {
   "cell_type": "code",
   "execution_count": 10,
   "metadata": {},
   "outputs": [],
   "source": [
    "# merge back to the all_df\n",
    "all_hg38_df = all_df.merge(rs_query, left_on='rsID', right_index=True)\n",
    "\n",
    "# filtering for snp where the rs query returns the same hg19 coordinates \n",
    "# as the myvariant service\n",
    "chr_check = all_hg38_df['CHR'].astype(str) == all_hg38_df['dbsnp.chrom_hg19'].astype(str)\n",
    "snp_check = all_hg38_df['BP'].astype(int) == all_hg38_df['hg19.start'].astype(int)\n",
    "\n",
    "good_hg38_df = all_hg38_df.loc[chr_check & snp_check]"
   ]
  },
  {
   "attachments": {},
   "cell_type": "markdown",
   "metadata": {},
   "source": [
    "#### Checking issues with incongruent hg19 coordiates between CAUSALdb and dbSNP"
   ]
  },
  {
   "cell_type": "code",
   "execution_count": 11,
   "metadata": {},
   "outputs": [
    {
     "name": "stdout",
     "output_type": "stream",
     "text": [
      "There are 10466 initial SNP instances\n"
     ]
    }
   ],
   "source": [
    "print('There are {} initial SNP instances'.format(all_hg38_df.shape[0]))"
   ]
  },
  {
   "cell_type": "code",
   "execution_count": 12,
   "metadata": {},
   "outputs": [
    {
     "name": "stdout",
     "output_type": "stream",
     "text": [
      "There are 10114 good SNP instances\n"
     ]
    }
   ],
   "source": [
    "print('There are {} good SNP instances'.format(good_hg38_df.shape[0]))"
   ]
  },
  {
   "cell_type": "code",
   "execution_count": 13,
   "metadata": {},
   "outputs": [
    {
     "name": "stdout",
     "output_type": "stream",
     "text": [
      "There are 260 bad SNP instances due to pos\n"
     ]
    }
   ],
   "source": [
    "bad_pos_hg38_df = all_hg38_df.loc[chr_check & ~snp_check][['rsID', 'CHR', 'BP', 'dbsnp.chrom_hg19', 'hg19.start']]\n",
    "print('There are {} bad SNP instances due to pos'.format(bad_pos_hg38_df.shape[0]))"
   ]
  },
  {
   "cell_type": "code",
   "execution_count": 14,
   "metadata": {},
   "outputs": [
    {
     "data": {
      "text/html": [
       "<div>\n",
       "<style scoped>\n",
       "    .dataframe tbody tr th:only-of-type {\n",
       "        vertical-align: middle;\n",
       "    }\n",
       "\n",
       "    .dataframe tbody tr th {\n",
       "        vertical-align: top;\n",
       "    }\n",
       "\n",
       "    .dataframe thead th {\n",
       "        text-align: right;\n",
       "    }\n",
       "</style>\n",
       "<table border=\"1\" class=\"dataframe\">\n",
       "  <thead>\n",
       "    <tr style=\"text-align: right;\">\n",
       "      <th></th>\n",
       "      <th>rsID</th>\n",
       "      <th>CHR</th>\n",
       "      <th>BP</th>\n",
       "      <th>dbsnp.chrom_hg19</th>\n",
       "      <th>hg19.start</th>\n",
       "    </tr>\n",
       "  </thead>\n",
       "  <tbody>\n",
       "    <tr>\n",
       "      <th>1338</th>\n",
       "      <td>rs34937962</td>\n",
       "      <td>1</td>\n",
       "      <td>200761255</td>\n",
       "      <td>1</td>\n",
       "      <td>200761257</td>\n",
       "    </tr>\n",
       "    <tr>\n",
       "      <th>2917</th>\n",
       "      <td>rs34937962</td>\n",
       "      <td>1</td>\n",
       "      <td>200761255</td>\n",
       "      <td>1</td>\n",
       "      <td>200761257</td>\n",
       "    </tr>\n",
       "    <tr>\n",
       "      <th>1353</th>\n",
       "      <td>rs66733041</td>\n",
       "      <td>2</td>\n",
       "      <td>100762450</td>\n",
       "      <td>2</td>\n",
       "      <td>100762452</td>\n",
       "    </tr>\n",
       "    <tr>\n",
       "      <th>3303</th>\n",
       "      <td>rs66733041</td>\n",
       "      <td>2</td>\n",
       "      <td>100762450</td>\n",
       "      <td>2</td>\n",
       "      <td>100762452</td>\n",
       "    </tr>\n",
       "    <tr>\n",
       "      <th>1406</th>\n",
       "      <td>rs66739067</td>\n",
       "      <td>2</td>\n",
       "      <td>100793341</td>\n",
       "      <td>2</td>\n",
       "      <td>100793343</td>\n",
       "    </tr>\n",
       "  </tbody>\n",
       "</table>\n",
       "</div>"
      ],
      "text/plain": [
       "            rsID  CHR         BP dbsnp.chrom_hg19  hg19.start\n",
       "1338  rs34937962    1  200761255                1   200761257\n",
       "2917  rs34937962    1  200761255                1   200761257\n",
       "1353  rs66733041    2  100762450                2   100762452\n",
       "3303  rs66733041    2  100762450                2   100762452\n",
       "1406  rs66739067    2  100793341                2   100793343"
      ]
     },
     "execution_count": 14,
     "metadata": {},
     "output_type": "execute_result"
    }
   ],
   "source": [
    "bad_pos_hg38_df.head()"
   ]
  },
  {
   "cell_type": "code",
   "execution_count": 15,
   "metadata": {},
   "outputs": [
    {
     "name": "stdout",
     "output_type": "stream",
     "text": [
      "There are 92 bad SNP instances due to chr\n"
     ]
    }
   ],
   "source": [
    "bad_chr_hg38_df = all_hg38_df.loc[~chr_check & ~snp_check][['rsID', 'CHR', 'BP', 'dbsnp.chrom_hg19', 'hg19.start']]\n",
    "print('There are {} bad SNP instances due to chr'.format(bad_chr_hg38_df.shape[0]))"
   ]
  },
  {
   "cell_type": "code",
   "execution_count": 16,
   "metadata": {},
   "outputs": [
    {
     "data": {
      "text/html": [
       "<div>\n",
       "<style scoped>\n",
       "    .dataframe tbody tr th:only-of-type {\n",
       "        vertical-align: middle;\n",
       "    }\n",
       "\n",
       "    .dataframe tbody tr th {\n",
       "        vertical-align: top;\n",
       "    }\n",
       "\n",
       "    .dataframe thead th {\n",
       "        text-align: right;\n",
       "    }\n",
       "</style>\n",
       "<table border=\"1\" class=\"dataframe\">\n",
       "  <thead>\n",
       "    <tr style=\"text-align: right;\">\n",
       "      <th></th>\n",
       "      <th>rsID</th>\n",
       "      <th>CHR</th>\n",
       "      <th>BP</th>\n",
       "      <th>dbsnp.chrom_hg19</th>\n",
       "      <th>hg19.start</th>\n",
       "    </tr>\n",
       "  </thead>\n",
       "  <tbody>\n",
       "    <tr>\n",
       "      <th>2067</th>\n",
       "      <td>rs1388113297</td>\n",
       "      <td>12</td>\n",
       "      <td>9910164</td>\n",
       "      <td>8</td>\n",
       "      <td>122004498</td>\n",
       "    </tr>\n",
       "    <tr>\n",
       "      <th>4894</th>\n",
       "      <td>rs1388113297</td>\n",
       "      <td>12</td>\n",
       "      <td>9910164</td>\n",
       "      <td>8</td>\n",
       "      <td>122004498</td>\n",
       "    </tr>\n",
       "    <tr>\n",
       "      <th>4793</th>\n",
       "      <td>rs1388091085</td>\n",
       "      <td>12</td>\n",
       "      <td>9123932</td>\n",
       "      <td>4</td>\n",
       "      <td>160140439</td>\n",
       "    </tr>\n",
       "    <tr>\n",
       "      <th>4794</th>\n",
       "      <td>rs1388091076</td>\n",
       "      <td>12</td>\n",
       "      <td>9123477</td>\n",
       "      <td>9</td>\n",
       "      <td>70154083</td>\n",
       "    </tr>\n",
       "    <tr>\n",
       "      <th>4795</th>\n",
       "      <td>rs1388091050</td>\n",
       "      <td>12</td>\n",
       "      <td>9122609</td>\n",
       "      <td>4</td>\n",
       "      <td>146752648</td>\n",
       "    </tr>\n",
       "  </tbody>\n",
       "</table>\n",
       "</div>"
      ],
      "text/plain": [
       "              rsID  CHR       BP dbsnp.chrom_hg19  hg19.start\n",
       "2067  rs1388113297   12  9910164                8   122004498\n",
       "4894  rs1388113297   12  9910164                8   122004498\n",
       "4793  rs1388091085   12  9123932                4   160140439\n",
       "4794  rs1388091076   12  9123477                9    70154083\n",
       "4795  rs1388091050   12  9122609                4   146752648"
      ]
     },
     "execution_count": 16,
     "metadata": {},
     "output_type": "execute_result"
    }
   ],
   "source": [
    "bad_chr_hg38_df.head()"
   ]
  },
  {
   "cell_type": "markdown",
   "metadata": {},
   "source": [
    "## Save the hg38 versions of the total_credible_set.txt"
   ]
  },
  {
   "cell_type": "code",
   "execution_count": 17,
   "metadata": {},
   "outputs": [],
   "source": [
    "# swap the hg19 with hg38 coords\n",
    "good_hg38_df['BP'] = good_hg38_df['hg38.start']\n",
    "\n",
    "# drop uncessary columns\n",
    "good_hg38_df.drop(['dbsnp.chrom_hg38',\n",
    "                    'hg38.start',\n",
    "                    'notfound_hg38',\n",
    "                    'dbsnp.chrom_hg19',\n",
    "                    'hg19.start',\n",
    "                    'notfound_hg19'], axis=1, inplace=True)"
   ]
  },
  {
   "cell_type": "code",
   "execution_count": 18,
   "metadata": {},
   "outputs": [
    {
     "data": {
      "text/plain": [
       "['CHR',\n",
       " 'BP',\n",
       " 'rsID',\n",
       " 'MAF',\n",
       " 'EA',\n",
       " 'NEA',\n",
       " 'BETA',\n",
       " 'SE',\n",
       " 'P',\n",
       " 'Zscore',\n",
       " 'PAINTOR',\n",
       " 'CAVIARBF',\n",
       " 'FINEMAP',\n",
       " 'meta_id',\n",
       " 'block_id',\n",
       " 'label',\n",
       " 'causaldb_fn',\n",
       " 'mesh_term',\n",
       " 'author',\n",
       " 'filename']"
      ]
     },
     "execution_count": 18,
     "metadata": {},
     "output_type": "execute_result"
    }
   ],
   "source": [
    "good_hg38_df.columns.tolist()"
   ]
  },
  {
   "cell_type": "code",
   "execution_count": 19,
   "metadata": {},
   "outputs": [],
   "source": [
    "tmpl = 'results/hg38/finemapping/snps/singles/{}_total_credible_set.hg38.txt'\n",
    "for filename, grp_df in good_hg38_df.groupby('filename'):\n",
    "    outfn = tmpl.format(filename)\n",
    "    grp_df.drop(['mesh_term', 'author', 'filename'], axis=1, inplace=True)\n",
    "    grp_df.to_csv(outfn, sep='\\t', index=False, header=True)"
   ]
  }
 ],
 "metadata": {
  "kernelspec": {
   "display_name": "(hichip-db)",
   "language": "python",
   "name": "hichip-db"
  },
  "language_info": {
   "codemirror_mode": {
    "name": "ipython",
    "version": 3
   },
   "file_extension": ".py",
   "mimetype": "text/x-python",
   "name": "python",
   "nbconvert_exporter": "python",
   "pygments_lexer": "ipython3",
   "version": "3.9.10"
  },
  "orig_nbformat": 4
 },
 "nbformat": 4,
 "nbformat_minor": 2
}
