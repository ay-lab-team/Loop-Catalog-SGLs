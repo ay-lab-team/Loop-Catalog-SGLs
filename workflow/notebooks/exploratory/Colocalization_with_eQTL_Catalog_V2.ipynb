{
 "cells": [
  {
   "cell_type": "code",
   "execution_count": 1,
   "id": "f8305ccf",
   "metadata": {},
   "outputs": [],
   "source": [
    "import os \n",
    "import pandas as pd\n",
    "import glob \n",
    "import seaborn as sns \n",
    "import matplotlib.pyplot as plt \n",
    "import numpy as np\n",
    "\n",
    "os.chdir('/mnt/BioHome/jreyna/jreyna/projects/dchallenge/')\n",
    "\n",
    "outdir = 'results/notebooks/colocalization_with_eqtl_catalogue/'\n",
    "os.makedirs(outdir, exist_ok=True)"
   ]
  },
  {
   "cell_type": "code",
   "execution_count": 2,
   "id": "32f3f949",
   "metadata": {},
   "outputs": [],
   "source": [
    "# load gwas meta-data\n",
    "gwas_meta = pd.read_table('config/gwas.samplesheet.tsv')\n",
    "gwas_meta.set_index('gwas_id', inplace=True)\n",
    "gwas_meta.index = gwas_meta.index.str.replace('#', '')"
   ]
  },
  {
   "cell_type": "markdown",
   "id": "8dcb26db",
   "metadata": {},
   "source": [
    "## Loading the GENCODE Reference"
   ]
  },
  {
   "cell_type": "code",
   "execution_count": 3,
   "id": "488c02c2",
   "metadata": {},
   "outputs": [],
   "source": [
    "gencode = pd.read_table('results/refs/gencode/v30/gencode.v30.annotation.bed', header=None)\n",
    "gencode = gencode.iloc[:, [5,6]]\n",
    "gencode.set_index(6, inplace=True)\n",
    "gencode = gencode.squeeze()\n",
    "gencode = gencode.to_dict()\n",
    "rev_gencode = {v:k for k,v in gencode.items()}"
   ]
  },
  {
   "cell_type": "markdown",
   "id": "6b9ac8f9",
   "metadata": {},
   "source": [
    "## Loading and Processing the Colocalization Data "
   ]
  },
  {
   "cell_type": "code",
   "execution_count": 38,
   "id": "2b3edff3",
   "metadata": {},
   "outputs": [],
   "source": [
    "major_cells = ['B-cell_naive', 'CD4_T-cell_naive',\n",
    "               'CD8_T-cell_naive', 'NK-cell_naive','monocyte_naive']\n",
    "major_gwas = ['T1D_32005708', 'T1D_34594039_GCST90018925', 'T1D_34012112_Gaulton', 'T1D_25751624']"
   ]
  },
  {
   "cell_type": "code",
   "execution_count": 39,
   "id": "52f7e219",
   "metadata": {},
   "outputs": [
    {
     "name": "stdout",
     "output_type": "stream",
     "text": [
      "Number of colocalizations analyses: 84.\n"
     ]
    }
   ],
   "source": [
    "data = []\n",
    "coloc_glob = 'results/main/coloc/Results/eQTL_Catalogue/*/*/*/FINAL_Summary_Coloc_Gene_SNP_Pairs.bed'\n",
    "coloc_fns = sorted(glob.glob(coloc_glob))\n",
    "coloc_fns = [x for x in coloc_fns if 'test' not in x]\n",
    "print('Number of colocalizations analyses: {}.'.format(len(coloc_fns)))"
   ]
  },
  {
   "cell_type": "code",
   "execution_count": 40,
   "id": "eec0bf6d",
   "metadata": {},
   "outputs": [
    {
     "name": "stdout",
     "output_type": "stream",
     "text": [
      "skipped ge: T-cell\n",
      "skipped ge: monocyte\n",
      "skipped ge: neutrophil\n",
      "skipped ge: LCL\n",
      "skipped ge: T-cell\n",
      "skipped ge: LCL\n",
      "skipped ge: blood\n",
      "skipped ge: blood\n",
      "skipped ge: monocyte_IAV\n",
      "skipped ge: monocyte_LPS\n",
      "skipped ge: monocyte_Pam3CSK4\n",
      "skipped ge: monocyte_R848\n",
      "Processing: results/main/coloc/Results/eQTL_Catalogue/T1D_25751624/Quach_2016/monocyte_naive/FINAL_Summary_Coloc_Gene_SNP_Pairs.bed\n",
      "Processing: results/main/coloc/Results/eQTL_Catalogue/T1D_25751624/Schmiedel_2018/B-cell_naive/FINAL_Summary_Coloc_Gene_SNP_Pairs.bed\n",
      "skipped ge: CD4_T-cell_anti-CD3-CD28\n",
      "Processing: results/main/coloc/Results/eQTL_Catalogue/T1D_25751624/Schmiedel_2018/CD4_T-cell_naive/FINAL_Summary_Coloc_Gene_SNP_Pairs.bed\n",
      "skipped ge: CD8_T-cell_anti-CD3-CD28\n",
      "Processing: results/main/coloc/Results/eQTL_Catalogue/T1D_25751624/Schmiedel_2018/NK-cell_naive/FINAL_Summary_Coloc_Gene_SNP_Pairs.bed\n",
      "skipped ge: Tfh_memory\n",
      "skipped ge: Th1-17_memory\n",
      "skipped ge: Th17_memory\n",
      "skipped ge: Th1_memory\n",
      "skipped ge: Th2_memory\n",
      "skipped ge: Treg_memory\n",
      "skipped ge: Treg_naive\n",
      "skipped ge: monocyte_CD16_naive\n",
      "Processing: results/main/coloc/Results/eQTL_Catalogue/T1D_25751624/Schmiedel_2018/monocyte_naive/FINAL_Summary_Coloc_Gene_SNP_Pairs.bed\n",
      "skipped ge: pancreatic_islet\n",
      "skipped ge: monocyte\n",
      "skipped ge: neutrophil\n",
      "skipped ge: LCL\n",
      "skipped ge: T-cell\n",
      "skipped ge: LCL\n",
      "skipped ge: blood\n",
      "skipped ge: pancreas\n",
      "skipped ge: blood\n",
      "skipped ge: monocyte_IAV\n",
      "Processing: results/main/coloc/Results/eQTL_Catalogue/T1D_32005708/Schmiedel_2018/B-cell_naive/FINAL_Summary_Coloc_Gene_SNP_Pairs.bed\n",
      "skipped ge: CD4_T-cell_anti-CD3-CD28\n",
      "skipped ge: CD8_T-cell_anti-CD3-CD28\n",
      "Processing: results/main/coloc/Results/eQTL_Catalogue/T1D_32005708/Schmiedel_2018/CD8_T-cell_naive/FINAL_Summary_Coloc_Gene_SNP_Pairs.bed\n",
      "Processing: results/main/coloc/Results/eQTL_Catalogue/T1D_32005708/Schmiedel_2018/NK-cell_naive/FINAL_Summary_Coloc_Gene_SNP_Pairs.bed\n",
      "skipped ge: Tfh_memory\n",
      "skipped ge: Th1-17_memory\n",
      "skipped ge: Th17_memory\n",
      "skipped ge: Th1_memory\n",
      "skipped ge: Th2_memory\n",
      "skipped ge: Treg_memory\n",
      "skipped ge: Treg_naive\n",
      "skipped ge: monocyte_CD16_naive\n",
      "Processing: results/main/coloc/Results/eQTL_Catalogue/T1D_32005708/Schmiedel_2018/monocyte_naive/FINAL_Summary_Coloc_Gene_SNP_Pairs.bed\n",
      "skipped ge: pancreatic_islet\n",
      "skipped ge: T-cell\n",
      "skipped ge: monocyte\n",
      "skipped ge: neutrophil\n",
      "skipped ge: LCL\n",
      "skipped ge: monocyte_IAV\n",
      "skipped ge: monocyte_Pam3CSK4\n",
      "skipped ge: monocyte_R848\n",
      "Processing: results/main/coloc/Results/eQTL_Catalogue/T1D_34012112_Gaulton/Schmiedel_2018/B-cell_naive/FINAL_Summary_Coloc_Gene_SNP_Pairs.bed\n",
      "skipped ge: CD4_T-cell_anti-CD3-CD28\n",
      "Processing: results/main/coloc/Results/eQTL_Catalogue/T1D_34012112_Gaulton/Schmiedel_2018/CD4_T-cell_naive/FINAL_Summary_Coloc_Gene_SNP_Pairs.bed\n",
      "Processing: results/main/coloc/Results/eQTL_Catalogue/T1D_34012112_Gaulton/Schmiedel_2018/CD8_T-cell_naive/FINAL_Summary_Coloc_Gene_SNP_Pairs.bed\n",
      "Processing: results/main/coloc/Results/eQTL_Catalogue/T1D_34012112_Gaulton/Schmiedel_2018/NK-cell_naive/FINAL_Summary_Coloc_Gene_SNP_Pairs.bed\n",
      "skipped ge: Tfh_memory\n",
      "skipped ge: Th1-17_memory\n",
      "skipped ge: Th17_memory\n",
      "skipped ge: Th1_memory\n",
      "skipped ge: Th2_memory\n",
      "skipped ge: Treg_memory\n",
      "skipped ge: Treg_naive\n",
      "skipped ge: pancreatic_islet\n",
      "skipped ge: T-cell\n",
      "skipped ge: monocyte\n",
      "skipped ge: T-cell\n",
      "skipped ge: LCL\n",
      "skipped ge: pancreas\n",
      "skipped ge: CD8_T-cell_anti-CD3-CD28\n",
      "Processing: results/main/coloc/Results/eQTL_Catalogue/T1D_34594039_GCST90018925/Schmiedel_2018/NK-cell_naive/FINAL_Summary_Coloc_Gene_SNP_Pairs.bed\n",
      "skipped ge: Tfh_memory\n",
      "skipped ge: Th17_memory\n",
      "skipped ge: Th1_memory\n",
      "skipped ge: Th2_memory\n",
      "skipped ge: monocyte_CD16_naive\n"
     ]
    }
   ],
   "source": [
    "for fn in coloc_fns:\n",
    "    \n",
    "    # load the data\n",
    "    df = pd.read_table(fn)\n",
    "    \n",
    "    # get GWAS, eQTL and gene expression sources\n",
    "    fname_segs = fn.split('/')\n",
    "    gwas = fname_segs[5]\n",
    "    eqtl = fname_segs[6]\n",
    "    ge = fname_segs[7]\n",
    "    \n",
    "    \n",
    "    if gwas not in major_gwas:\n",
    "        print('skipped gwas: {}'.format(gwas))\n",
    "        continue \n",
    "        \n",
    "    if ge not in major_cells:\n",
    "        print('skipped ge:', ge)\n",
    "        continue \n",
    "        \n",
    "    print('Processing: {}'.format(fn))\n",
    "        \n",
    "    # assign the current values\n",
    "    df['gwas'] = gwas\n",
    "    df['eqtl'] = eqtl\n",
    "    df['ge'] = ge\n",
    "    data.append(df)\n",
    "    \n",
    "t1d_data = pd.concat(data)"
   ]
  },
  {
   "cell_type": "code",
   "execution_count": 45,
   "id": "b78f8f24",
   "metadata": {},
   "outputs": [
    {
     "data": {
      "text/plain": [
       "9"
      ]
     },
     "execution_count": 45,
     "metadata": {},
     "output_type": "execute_result"
    }
   ],
   "source": [
    "t1d_data.loc[t1d_data.gwas == 'T1D_25751624'].geneName.nunique()"
   ]
  },
  {
   "cell_type": "code",
   "execution_count": null,
   "id": "1ec3ed06",
   "metadata": {},
   "outputs": [],
   "source": []
  },
  {
   "cell_type": "code",
   "execution_count": null,
   "id": "00543200",
   "metadata": {},
   "outputs": [],
   "source": []
  },
  {
   "cell_type": "code",
   "execution_count": null,
   "id": "127a0a92",
   "metadata": {},
   "outputs": [],
   "source": []
  },
  {
   "cell_type": "code",
   "execution_count": null,
   "id": "a33c5795",
   "metadata": {},
   "outputs": [],
   "source": []
  },
  {
   "cell_type": "code",
   "execution_count": null,
   "id": "1f042fb6",
   "metadata": {},
   "outputs": [],
   "source": []
  },
  {
   "cell_type": "code",
   "execution_count": null,
   "id": "bbf3de80",
   "metadata": {},
   "outputs": [],
   "source": []
  },
  {
   "cell_type": "code",
   "execution_count": null,
   "id": "c8bcf81d",
   "metadata": {},
   "outputs": [],
   "source": []
  },
  {
   "cell_type": "code",
   "execution_count": null,
   "id": "ff054b39",
   "metadata": {},
   "outputs": [],
   "source": []
  },
  {
   "cell_type": "code",
   "execution_count": null,
   "id": "b13b6bd5",
   "metadata": {},
   "outputs": [],
   "source": []
  },
  {
   "cell_type": "code",
   "execution_count": 7,
   "id": "624f5e59",
   "metadata": {
    "scrolled": false
   },
   "outputs": [],
   "source": [
    "# add the gene name\n",
    "t1d_data['gene_name'] = t1d_data.geneName.replace(rev_gencode)"
   ]
  },
  {
   "cell_type": "code",
   "execution_count": 8,
   "id": "f35f6986",
   "metadata": {},
   "outputs": [],
   "source": [
    "# removing duplicate SNP-gene pairs by find the one with the largest PP4\n",
    "t1d_data_rgs = t1d_data.groupby(['gwas', 'eqtl', 'ge', 'rs_id', 'geneName'])\n",
    "new_t1d_data = []\n",
    "for grp, grp_df in t1d_data_rgs:\n",
    "    max_index = np.argmax(grp_df.pp_H4_Coloc_Summary)\n",
    "    new_t1d = grp_df.iloc[max_index,:]\n",
    "    new_t1d_data.append(new_t1d)\n",
    "new_t1d_data = pd.DataFrame(new_t1d_data)\n",
    "new_t1d_data.reset_index(drop=True, inplace=True)\n",
    "\n",
    "# assigning t1d_data to the new dataset\n",
    "t1d_data = new_t1d_data.copy()"
   ]
  },
  {
   "cell_type": "code",
   "execution_count": 9,
   "id": "0dac6532",
   "metadata": {},
   "outputs": [],
   "source": [
    "# creating a list of the most important columns \n",
    "major_cols = ['chr', 'pos','rs_id', 'variant_id', 'gene_name','pp_H4_Coloc_Summary', 'dist', 'pvalue', 'FDR', 'slope_snp',\n",
    "       'slope_se_snp', 'slope_gwas', 'slope_se_gwas', 'pval_nominal', 'gwas', 'eqtl', 'ge',\n",
    "       'geneName']\n",
    "\n",
    "# generating a dataframe the the most important columns\n",
    "t1d_data = t1d_data[major_cols]\n",
    "\n",
    "# renaming these columns for easier understanding\n",
    "major_renames = {\n",
    "    'chr': 'chr',\n",
    "    'pos': 'pos',\n",
    "    'rs_id': 'rsid',\n",
    "    'variant_id': 'varid',\n",
    "    'gene_name': 'genename',\n",
    "    'pp_H4_Coloc_Summary': 'ppH4',\n",
    "    'dist': 'sg_dist',\n",
    "    'pvalue': 'eqtl_pval',\n",
    "    'FDR': 'eqtl_fdr',\n",
    "    'slope_snp': 'eqtl_slope',\n",
    "    'slope_se_snp': 'eqtl_slope_se',\n",
    "    'slope_gwas': 'gwas_slope',\n",
    "    'slope_se_gwas': 'gwas_slope_se',\n",
    "    'pval_nominal': 'gwas_pval',\n",
    "    'SampleSize': 'gwas_sample_size',\n",
    "    'gwas': 'gwas_source',\n",
    "    'eqtl': 'eqtl_source',\n",
    "    'ge': 'ge_source',\n",
    "    'geneName': 'gene_id'}\n",
    "major_cols = [major_renames[x] for x in major_cols]\n",
    "t1d_data.rename(columns=major_renames, inplace=True)"
   ]
  },
  {
   "cell_type": "code",
   "execution_count": 10,
   "id": "6fbce33f",
   "metadata": {},
   "outputs": [
    {
     "data": {
      "text/html": [
       "<div>\n",
       "<style scoped>\n",
       "    .dataframe tbody tr th:only-of-type {\n",
       "        vertical-align: middle;\n",
       "    }\n",
       "\n",
       "    .dataframe tbody tr th {\n",
       "        vertical-align: top;\n",
       "    }\n",
       "\n",
       "    .dataframe thead th {\n",
       "        text-align: right;\n",
       "    }\n",
       "</style>\n",
       "<table border=\"1\" class=\"dataframe\">\n",
       "  <thead>\n",
       "    <tr style=\"text-align: right;\">\n",
       "      <th></th>\n",
       "      <th>chr</th>\n",
       "      <th>pos</th>\n",
       "      <th>rsid</th>\n",
       "      <th>varid</th>\n",
       "      <th>genename</th>\n",
       "      <th>ppH4</th>\n",
       "      <th>sg_dist</th>\n",
       "      <th>eqtl_pval</th>\n",
       "      <th>eqtl_fdr</th>\n",
       "      <th>eqtl_slope</th>\n",
       "      <th>eqtl_slope_se</th>\n",
       "      <th>gwas_slope</th>\n",
       "      <th>gwas_slope_se</th>\n",
       "      <th>gwas_pval</th>\n",
       "      <th>gwas_source</th>\n",
       "      <th>eqtl_source</th>\n",
       "      <th>ge_source</th>\n",
       "      <th>gene_id</th>\n",
       "    </tr>\n",
       "  </thead>\n",
       "  <tbody>\n",
       "    <tr>\n",
       "      <th>0</th>\n",
       "      <td>chr12</td>\n",
       "      <td>56042145</td>\n",
       "      <td>rs1131017</td>\n",
       "      <td>12:56042145:C:G</td>\n",
       "      <td>RPS26</td>\n",
       "      <td>0.769545</td>\n",
       "      <td>794</td>\n",
       "      <td>1.397050e-37</td>\n",
       "      <td>3.015715e-32</td>\n",
       "      <td>-1.306730</td>\n",
       "      <td>0.000075</td>\n",
       "      <td>-0.246100</td>\n",
       "      <td>0.023800</td>\n",
       "      <td>4.242000e-25</td>\n",
       "      <td>T1D_32005708</td>\n",
       "      <td>Schmiedel_2018</td>\n",
       "      <td>B-cell_naive</td>\n",
       "      <td>ENSG00000197728</td>\n",
       "    </tr>\n",
       "    <tr>\n",
       "      <th>1</th>\n",
       "      <td>chr10</td>\n",
       "      <td>6056986</td>\n",
       "      <td>rs706778</td>\n",
       "      <td>10:6056986:C:T</td>\n",
       "      <td>PRKCQ-AS1</td>\n",
       "      <td>0.850219</td>\n",
       "      <td>523433</td>\n",
       "      <td>3.872920e-02</td>\n",
       "      <td>6.916947e-01</td>\n",
       "      <td>-0.408799</td>\n",
       "      <td>0.004380</td>\n",
       "      <td>0.167000</td>\n",
       "      <td>0.023800</td>\n",
       "      <td>2.105000e-12</td>\n",
       "      <td>T1D_32005708</td>\n",
       "      <td>Schmiedel_2018</td>\n",
       "      <td>B-cell_naive</td>\n",
       "      <td>ENSG00000237943</td>\n",
       "    </tr>\n",
       "    <tr>\n",
       "      <th>2</th>\n",
       "      <td>chr10</td>\n",
       "      <td>6068912</td>\n",
       "      <td>rs7090530</td>\n",
       "      <td>10:6068912:C:A</td>\n",
       "      <td>AL157395.1</td>\n",
       "      <td>0.924551</td>\n",
       "      <td>133781</td>\n",
       "      <td>2.746830e-02</td>\n",
       "      <td>6.462411e-01</td>\n",
       "      <td>0.338513</td>\n",
       "      <td>0.007447</td>\n",
       "      <td>0.185500</td>\n",
       "      <td>0.024500</td>\n",
       "      <td>4.026000e-14</td>\n",
       "      <td>T1D_32005708</td>\n",
       "      <td>Schmiedel_2018</td>\n",
       "      <td>CD8_T-cell_naive</td>\n",
       "      <td>ENSG00000213994</td>\n",
       "    </tr>\n",
       "    <tr>\n",
       "      <th>3</th>\n",
       "      <td>chr12</td>\n",
       "      <td>56042145</td>\n",
       "      <td>rs1131017</td>\n",
       "      <td>12:56042145:C:G</td>\n",
       "      <td>RPS26</td>\n",
       "      <td>0.773519</td>\n",
       "      <td>794</td>\n",
       "      <td>2.484200e-35</td>\n",
       "      <td>5.632613e-30</td>\n",
       "      <td>-0.936449</td>\n",
       "      <td>0.000530</td>\n",
       "      <td>-0.246100</td>\n",
       "      <td>0.023800</td>\n",
       "      <td>4.242000e-25</td>\n",
       "      <td>T1D_32005708</td>\n",
       "      <td>Schmiedel_2018</td>\n",
       "      <td>NK-cell_naive</td>\n",
       "      <td>ENSG00000197728</td>\n",
       "    </tr>\n",
       "    <tr>\n",
       "      <th>4</th>\n",
       "      <td>chr12</td>\n",
       "      <td>56042145</td>\n",
       "      <td>rs1131017</td>\n",
       "      <td>12:56042145:C:G</td>\n",
       "      <td>RPS26</td>\n",
       "      <td>0.790450</td>\n",
       "      <td>794</td>\n",
       "      <td>8.958790e-42</td>\n",
       "      <td>8.809882e-36</td>\n",
       "      <td>-0.997730</td>\n",
       "      <td>0.000418</td>\n",
       "      <td>-0.246100</td>\n",
       "      <td>0.023800</td>\n",
       "      <td>4.242000e-25</td>\n",
       "      <td>T1D_32005708</td>\n",
       "      <td>Schmiedel_2018</td>\n",
       "      <td>monocyte_naive</td>\n",
       "      <td>ENSG00000197728</td>\n",
       "    </tr>\n",
       "    <tr>\n",
       "      <th>5</th>\n",
       "      <td>chr10</td>\n",
       "      <td>6064675</td>\n",
       "      <td>rs7096384</td>\n",
       "      <td>10:6064675:C:T</td>\n",
       "      <td>PRKCQ</td>\n",
       "      <td>0.827253</td>\n",
       "      <td>515626</td>\n",
       "      <td>4.975800e-02</td>\n",
       "      <td>7.322098e-01</td>\n",
       "      <td>0.327857</td>\n",
       "      <td>0.007036</td>\n",
       "      <td>0.162000</td>\n",
       "      <td>0.023600</td>\n",
       "      <td>7.393000e-12</td>\n",
       "      <td>T1D_32005708</td>\n",
       "      <td>Schmiedel_2018</td>\n",
       "      <td>monocyte_naive</td>\n",
       "      <td>ENSG00000065675</td>\n",
       "    </tr>\n",
       "    <tr>\n",
       "      <th>6</th>\n",
       "      <td>chr14</td>\n",
       "      <td>68793794</td>\n",
       "      <td>rs17106304</td>\n",
       "      <td>14:68793794:C:G</td>\n",
       "      <td>AL133370.1</td>\n",
       "      <td>0.924525</td>\n",
       "      <td>663598</td>\n",
       "      <td>3.887870e-02</td>\n",
       "      <td>6.922971e-01</td>\n",
       "      <td>0.246462</td>\n",
       "      <td>0.017135</td>\n",
       "      <td>0.115351</td>\n",
       "      <td>0.014812</td>\n",
       "      <td>6.830000e-15</td>\n",
       "      <td>T1D_34012112_Gaulton</td>\n",
       "      <td>Schmiedel_2018</td>\n",
       "      <td>B-cell_naive</td>\n",
       "      <td>ENSG00000258837</td>\n",
       "    </tr>\n",
       "    <tr>\n",
       "      <th>7</th>\n",
       "      <td>chr1</td>\n",
       "      <td>113285485</td>\n",
       "      <td>rs773560</td>\n",
       "      <td>1:113285485:G:A</td>\n",
       "      <td>AL354760.1</td>\n",
       "      <td>0.978083</td>\n",
       "      <td>767044</td>\n",
       "      <td>1.462520e-01</td>\n",
       "      <td>8.686654e-01</td>\n",
       "      <td>0.301633</td>\n",
       "      <td>0.009665</td>\n",
       "      <td>0.168861</td>\n",
       "      <td>0.015663</td>\n",
       "      <td>4.230000e-27</td>\n",
       "      <td>T1D_34012112_Gaulton</td>\n",
       "      <td>Schmiedel_2018</td>\n",
       "      <td>CD4_T-cell_naive</td>\n",
       "      <td>ENSG00000273483</td>\n",
       "    </tr>\n",
       "    <tr>\n",
       "      <th>8</th>\n",
       "      <td>chr14</td>\n",
       "      <td>98019683</td>\n",
       "      <td>rs922406</td>\n",
       "      <td>14:98019683:T:C</td>\n",
       "      <td>AL163932.1</td>\n",
       "      <td>0.832921</td>\n",
       "      <td>185460</td>\n",
       "      <td>6.970460e-02</td>\n",
       "      <td>7.864553e-01</td>\n",
       "      <td>-0.244321</td>\n",
       "      <td>0.012983</td>\n",
       "      <td>-0.092793</td>\n",
       "      <td>0.015229</td>\n",
       "      <td>1.110000e-09</td>\n",
       "      <td>T1D_34012112_Gaulton</td>\n",
       "      <td>Schmiedel_2018</td>\n",
       "      <td>CD8_T-cell_naive</td>\n",
       "      <td>ENSG00000259097</td>\n",
       "    </tr>\n",
       "    <tr>\n",
       "      <th>9</th>\n",
       "      <td>chr10</td>\n",
       "      <td>88275897</td>\n",
       "      <td>rs12416116</td>\n",
       "      <td>10:88275897:C:A</td>\n",
       "      <td>AL157394.2</td>\n",
       "      <td>0.866106</td>\n",
       "      <td>718352</td>\n",
       "      <td>2.468380e-03</td>\n",
       "      <td>2.924851e-01</td>\n",
       "      <td>0.405404</td>\n",
       "      <td>0.006507</td>\n",
       "      <td>-0.151272</td>\n",
       "      <td>0.015736</td>\n",
       "      <td>7.030000e-22</td>\n",
       "      <td>T1D_34012112_Gaulton</td>\n",
       "      <td>Schmiedel_2018</td>\n",
       "      <td>NK-cell_naive</td>\n",
       "      <td>ENSG00000286116</td>\n",
       "    </tr>\n",
       "    <tr>\n",
       "      <th>10</th>\n",
       "      <td>chr6</td>\n",
       "      <td>90279406</td>\n",
       "      <td>rs7754251</td>\n",
       "      <td>6:90279406:G:C</td>\n",
       "      <td>AL121787.1</td>\n",
       "      <td>0.814217</td>\n",
       "      <td>329290</td>\n",
       "      <td>8.486990e-02</td>\n",
       "      <td>8.357008e-01</td>\n",
       "      <td>0.266332</td>\n",
       "      <td>0.010961</td>\n",
       "      <td>0.099600</td>\n",
       "      <td>0.017400</td>\n",
       "      <td>9.412000e-09</td>\n",
       "      <td>T1D_34594039_GCST90018925</td>\n",
       "      <td>Schmiedel_2018</td>\n",
       "      <td>NK-cell_naive</td>\n",
       "      <td>ENSG00000226455</td>\n",
       "    </tr>\n",
       "  </tbody>\n",
       "</table>\n",
       "</div>"
      ],
      "text/plain": [
       "      chr        pos        rsid            varid    genename      ppH4  \\\n",
       "0   chr12   56042145   rs1131017  12:56042145:C:G       RPS26  0.769545   \n",
       "1   chr10    6056986    rs706778   10:6056986:C:T   PRKCQ-AS1  0.850219   \n",
       "2   chr10    6068912   rs7090530   10:6068912:C:A  AL157395.1  0.924551   \n",
       "3   chr12   56042145   rs1131017  12:56042145:C:G       RPS26  0.773519   \n",
       "4   chr12   56042145   rs1131017  12:56042145:C:G       RPS26  0.790450   \n",
       "5   chr10    6064675   rs7096384   10:6064675:C:T       PRKCQ  0.827253   \n",
       "6   chr14   68793794  rs17106304  14:68793794:C:G  AL133370.1  0.924525   \n",
       "7    chr1  113285485    rs773560  1:113285485:G:A  AL354760.1  0.978083   \n",
       "8   chr14   98019683    rs922406  14:98019683:T:C  AL163932.1  0.832921   \n",
       "9   chr10   88275897  rs12416116  10:88275897:C:A  AL157394.2  0.866106   \n",
       "10   chr6   90279406   rs7754251   6:90279406:G:C  AL121787.1  0.814217   \n",
       "\n",
       "    sg_dist     eqtl_pval      eqtl_fdr  eqtl_slope  eqtl_slope_se  \\\n",
       "0       794  1.397050e-37  3.015715e-32   -1.306730       0.000075   \n",
       "1    523433  3.872920e-02  6.916947e-01   -0.408799       0.004380   \n",
       "2    133781  2.746830e-02  6.462411e-01    0.338513       0.007447   \n",
       "3       794  2.484200e-35  5.632613e-30   -0.936449       0.000530   \n",
       "4       794  8.958790e-42  8.809882e-36   -0.997730       0.000418   \n",
       "5    515626  4.975800e-02  7.322098e-01    0.327857       0.007036   \n",
       "6    663598  3.887870e-02  6.922971e-01    0.246462       0.017135   \n",
       "7    767044  1.462520e-01  8.686654e-01    0.301633       0.009665   \n",
       "8    185460  6.970460e-02  7.864553e-01   -0.244321       0.012983   \n",
       "9    718352  2.468380e-03  2.924851e-01    0.405404       0.006507   \n",
       "10   329290  8.486990e-02  8.357008e-01    0.266332       0.010961   \n",
       "\n",
       "    gwas_slope  gwas_slope_se     gwas_pval                gwas_source  \\\n",
       "0    -0.246100       0.023800  4.242000e-25               T1D_32005708   \n",
       "1     0.167000       0.023800  2.105000e-12               T1D_32005708   \n",
       "2     0.185500       0.024500  4.026000e-14               T1D_32005708   \n",
       "3    -0.246100       0.023800  4.242000e-25               T1D_32005708   \n",
       "4    -0.246100       0.023800  4.242000e-25               T1D_32005708   \n",
       "5     0.162000       0.023600  7.393000e-12               T1D_32005708   \n",
       "6     0.115351       0.014812  6.830000e-15       T1D_34012112_Gaulton   \n",
       "7     0.168861       0.015663  4.230000e-27       T1D_34012112_Gaulton   \n",
       "8    -0.092793       0.015229  1.110000e-09       T1D_34012112_Gaulton   \n",
       "9    -0.151272       0.015736  7.030000e-22       T1D_34012112_Gaulton   \n",
       "10    0.099600       0.017400  9.412000e-09  T1D_34594039_GCST90018925   \n",
       "\n",
       "       eqtl_source         ge_source          gene_id  \n",
       "0   Schmiedel_2018      B-cell_naive  ENSG00000197728  \n",
       "1   Schmiedel_2018      B-cell_naive  ENSG00000237943  \n",
       "2   Schmiedel_2018  CD8_T-cell_naive  ENSG00000213994  \n",
       "3   Schmiedel_2018     NK-cell_naive  ENSG00000197728  \n",
       "4   Schmiedel_2018    monocyte_naive  ENSG00000197728  \n",
       "5   Schmiedel_2018    monocyte_naive  ENSG00000065675  \n",
       "6   Schmiedel_2018      B-cell_naive  ENSG00000258837  \n",
       "7   Schmiedel_2018  CD4_T-cell_naive  ENSG00000273483  \n",
       "8   Schmiedel_2018  CD8_T-cell_naive  ENSG00000259097  \n",
       "9   Schmiedel_2018     NK-cell_naive  ENSG00000286116  \n",
       "10  Schmiedel_2018     NK-cell_naive  ENSG00000226455  "
      ]
     },
     "execution_count": 10,
     "metadata": {},
     "output_type": "execute_result"
    }
   ],
   "source": [
    "t1d_data"
   ]
  },
  {
   "cell_type": "markdown",
   "id": "f3418054",
   "metadata": {},
   "source": [
    "### Checking Colocalized SNPs with Significant eQTLs (FDR<0.05)"
   ]
  },
  {
   "cell_type": "code",
   "execution_count": 11,
   "id": "21c8be7f",
   "metadata": {},
   "outputs": [],
   "source": [
    "sig_eqtls = t1d_data[major_cols].\\\n",
    "                        sort_values(['gwas_source', 'eqtl_source', 'ge_source', 'rsid']).\\\n",
    "                        set_index(['gwas_source', 'ge_source', 'rsid'])\n",
    "sig_eqtls = sig_eqtls[sig_eqtls.eqtl_fdr < 0.05]"
   ]
  },
  {
   "cell_type": "code",
   "execution_count": 12,
   "id": "84b012bc",
   "metadata": {},
   "outputs": [
    {
     "data": {
      "text/html": [
       "<div>\n",
       "<style scoped>\n",
       "    .dataframe tbody tr th:only-of-type {\n",
       "        vertical-align: middle;\n",
       "    }\n",
       "\n",
       "    .dataframe tbody tr th {\n",
       "        vertical-align: top;\n",
       "    }\n",
       "\n",
       "    .dataframe thead th {\n",
       "        text-align: right;\n",
       "    }\n",
       "</style>\n",
       "<table border=\"1\" class=\"dataframe\">\n",
       "  <thead>\n",
       "    <tr style=\"text-align: right;\">\n",
       "      <th></th>\n",
       "      <th></th>\n",
       "      <th></th>\n",
       "      <th>chr</th>\n",
       "      <th>pos</th>\n",
       "      <th>varid</th>\n",
       "      <th>genename</th>\n",
       "      <th>ppH4</th>\n",
       "      <th>sg_dist</th>\n",
       "      <th>eqtl_pval</th>\n",
       "      <th>eqtl_fdr</th>\n",
       "      <th>eqtl_slope</th>\n",
       "      <th>eqtl_slope_se</th>\n",
       "      <th>gwas_slope</th>\n",
       "      <th>gwas_slope_se</th>\n",
       "      <th>gwas_pval</th>\n",
       "      <th>eqtl_source</th>\n",
       "      <th>gene_id</th>\n",
       "    </tr>\n",
       "    <tr>\n",
       "      <th>gwas_source</th>\n",
       "      <th>ge_source</th>\n",
       "      <th>rsid</th>\n",
       "      <th></th>\n",
       "      <th></th>\n",
       "      <th></th>\n",
       "      <th></th>\n",
       "      <th></th>\n",
       "      <th></th>\n",
       "      <th></th>\n",
       "      <th></th>\n",
       "      <th></th>\n",
       "      <th></th>\n",
       "      <th></th>\n",
       "      <th></th>\n",
       "      <th></th>\n",
       "      <th></th>\n",
       "      <th></th>\n",
       "    </tr>\n",
       "  </thead>\n",
       "  <tbody>\n",
       "    <tr>\n",
       "      <th rowspan=\"3\" valign=\"top\">T1D_32005708</th>\n",
       "      <th>B-cell_naive</th>\n",
       "      <th>rs1131017</th>\n",
       "      <td>chr12</td>\n",
       "      <td>56042145</td>\n",
       "      <td>12:56042145:C:G</td>\n",
       "      <td>RPS26</td>\n",
       "      <td>0.769545</td>\n",
       "      <td>794</td>\n",
       "      <td>1.397050e-37</td>\n",
       "      <td>3.015715e-32</td>\n",
       "      <td>-1.306730</td>\n",
       "      <td>0.000075</td>\n",
       "      <td>-0.2461</td>\n",
       "      <td>0.0238</td>\n",
       "      <td>4.242000e-25</td>\n",
       "      <td>Schmiedel_2018</td>\n",
       "      <td>ENSG00000197728</td>\n",
       "    </tr>\n",
       "    <tr>\n",
       "      <th>NK-cell_naive</th>\n",
       "      <th>rs1131017</th>\n",
       "      <td>chr12</td>\n",
       "      <td>56042145</td>\n",
       "      <td>12:56042145:C:G</td>\n",
       "      <td>RPS26</td>\n",
       "      <td>0.773519</td>\n",
       "      <td>794</td>\n",
       "      <td>2.484200e-35</td>\n",
       "      <td>5.632613e-30</td>\n",
       "      <td>-0.936449</td>\n",
       "      <td>0.000530</td>\n",
       "      <td>-0.2461</td>\n",
       "      <td>0.0238</td>\n",
       "      <td>4.242000e-25</td>\n",
       "      <td>Schmiedel_2018</td>\n",
       "      <td>ENSG00000197728</td>\n",
       "    </tr>\n",
       "    <tr>\n",
       "      <th>monocyte_naive</th>\n",
       "      <th>rs1131017</th>\n",
       "      <td>chr12</td>\n",
       "      <td>56042145</td>\n",
       "      <td>12:56042145:C:G</td>\n",
       "      <td>RPS26</td>\n",
       "      <td>0.790450</td>\n",
       "      <td>794</td>\n",
       "      <td>8.958790e-42</td>\n",
       "      <td>8.809882e-36</td>\n",
       "      <td>-0.997730</td>\n",
       "      <td>0.000418</td>\n",
       "      <td>-0.2461</td>\n",
       "      <td>0.0238</td>\n",
       "      <td>4.242000e-25</td>\n",
       "      <td>Schmiedel_2018</td>\n",
       "      <td>ENSG00000197728</td>\n",
       "    </tr>\n",
       "  </tbody>\n",
       "</table>\n",
       "</div>"
      ],
      "text/plain": [
       "                                         chr       pos            varid  \\\n",
       "gwas_source  ge_source      rsid                                          \n",
       "T1D_32005708 B-cell_naive   rs1131017  chr12  56042145  12:56042145:C:G   \n",
       "             NK-cell_naive  rs1131017  chr12  56042145  12:56042145:C:G   \n",
       "             monocyte_naive rs1131017  chr12  56042145  12:56042145:C:G   \n",
       "\n",
       "                                      genename      ppH4  sg_dist  \\\n",
       "gwas_source  ge_source      rsid                                    \n",
       "T1D_32005708 B-cell_naive   rs1131017    RPS26  0.769545      794   \n",
       "             NK-cell_naive  rs1131017    RPS26  0.773519      794   \n",
       "             monocyte_naive rs1131017    RPS26  0.790450      794   \n",
       "\n",
       "                                          eqtl_pval      eqtl_fdr  eqtl_slope  \\\n",
       "gwas_source  ge_source      rsid                                                \n",
       "T1D_32005708 B-cell_naive   rs1131017  1.397050e-37  3.015715e-32   -1.306730   \n",
       "             NK-cell_naive  rs1131017  2.484200e-35  5.632613e-30   -0.936449   \n",
       "             monocyte_naive rs1131017  8.958790e-42  8.809882e-36   -0.997730   \n",
       "\n",
       "                                       eqtl_slope_se  gwas_slope  \\\n",
       "gwas_source  ge_source      rsid                                   \n",
       "T1D_32005708 B-cell_naive   rs1131017       0.000075     -0.2461   \n",
       "             NK-cell_naive  rs1131017       0.000530     -0.2461   \n",
       "             monocyte_naive rs1131017       0.000418     -0.2461   \n",
       "\n",
       "                                       gwas_slope_se     gwas_pval  \\\n",
       "gwas_source  ge_source      rsid                                     \n",
       "T1D_32005708 B-cell_naive   rs1131017         0.0238  4.242000e-25   \n",
       "             NK-cell_naive  rs1131017         0.0238  4.242000e-25   \n",
       "             monocyte_naive rs1131017         0.0238  4.242000e-25   \n",
       "\n",
       "                                          eqtl_source          gene_id  \n",
       "gwas_source  ge_source      rsid                                        \n",
       "T1D_32005708 B-cell_naive   rs1131017  Schmiedel_2018  ENSG00000197728  \n",
       "             NK-cell_naive  rs1131017  Schmiedel_2018  ENSG00000197728  \n",
       "             monocyte_naive rs1131017  Schmiedel_2018  ENSG00000197728  "
      ]
     },
     "execution_count": 12,
     "metadata": {},
     "output_type": "execute_result"
    }
   ],
   "source": [
    "sig_eqtls"
   ]
  },
  {
   "cell_type": "markdown",
   "id": "3b570b4f",
   "metadata": {},
   "source": [
    "## Checking the Sources of Colocalized Datasets"
   ]
  },
  {
   "cell_type": "code",
   "execution_count": 13,
   "id": "029332ec",
   "metadata": {},
   "outputs": [],
   "source": [
    "check_sources = t1d_data.drop_duplicates(['gwas_source', 'eqtl_source', 'ge_source'])\n",
    "check_sources = check_sources[['gwas_source', 'eqtl_source', 'ge_source']]"
   ]
  },
  {
   "cell_type": "code",
   "execution_count": 14,
   "id": "e71b9eb3",
   "metadata": {
    "scrolled": false
   },
   "outputs": [
    {
     "data": {
      "text/html": [
       "<div>\n",
       "<style scoped>\n",
       "    .dataframe tbody tr th:only-of-type {\n",
       "        vertical-align: middle;\n",
       "    }\n",
       "\n",
       "    .dataframe tbody tr th {\n",
       "        vertical-align: top;\n",
       "    }\n",
       "\n",
       "    .dataframe thead th {\n",
       "        text-align: right;\n",
       "    }\n",
       "</style>\n",
       "<table border=\"1\" class=\"dataframe\">\n",
       "  <thead>\n",
       "    <tr style=\"text-align: right;\">\n",
       "      <th></th>\n",
       "      <th></th>\n",
       "      <th>ge_source</th>\n",
       "    </tr>\n",
       "    <tr>\n",
       "      <th>gwas_source</th>\n",
       "      <th>eqtl_source</th>\n",
       "      <th></th>\n",
       "    </tr>\n",
       "  </thead>\n",
       "  <tbody>\n",
       "    <tr>\n",
       "      <th rowspan=\"4\" valign=\"top\">T1D_32005708</th>\n",
       "      <th>Schmiedel_2018</th>\n",
       "      <td>B-cell_naive</td>\n",
       "    </tr>\n",
       "    <tr>\n",
       "      <th>Schmiedel_2018</th>\n",
       "      <td>CD8_T-cell_naive</td>\n",
       "    </tr>\n",
       "    <tr>\n",
       "      <th>Schmiedel_2018</th>\n",
       "      <td>NK-cell_naive</td>\n",
       "    </tr>\n",
       "    <tr>\n",
       "      <th>Schmiedel_2018</th>\n",
       "      <td>monocyte_naive</td>\n",
       "    </tr>\n",
       "    <tr>\n",
       "      <th rowspan=\"4\" valign=\"top\">T1D_34012112_Gaulton</th>\n",
       "      <th>Schmiedel_2018</th>\n",
       "      <td>B-cell_naive</td>\n",
       "    </tr>\n",
       "    <tr>\n",
       "      <th>Schmiedel_2018</th>\n",
       "      <td>CD4_T-cell_naive</td>\n",
       "    </tr>\n",
       "    <tr>\n",
       "      <th>Schmiedel_2018</th>\n",
       "      <td>CD8_T-cell_naive</td>\n",
       "    </tr>\n",
       "    <tr>\n",
       "      <th>Schmiedel_2018</th>\n",
       "      <td>NK-cell_naive</td>\n",
       "    </tr>\n",
       "    <tr>\n",
       "      <th>T1D_34594039_GCST90018925</th>\n",
       "      <th>Schmiedel_2018</th>\n",
       "      <td>NK-cell_naive</td>\n",
       "    </tr>\n",
       "  </tbody>\n",
       "</table>\n",
       "</div>"
      ],
      "text/plain": [
       "                                                 ge_source\n",
       "gwas_source               eqtl_source                     \n",
       "T1D_32005708              Schmiedel_2018      B-cell_naive\n",
       "                          Schmiedel_2018  CD8_T-cell_naive\n",
       "                          Schmiedel_2018     NK-cell_naive\n",
       "                          Schmiedel_2018    monocyte_naive\n",
       "T1D_34012112_Gaulton      Schmiedel_2018      B-cell_naive\n",
       "                          Schmiedel_2018  CD4_T-cell_naive\n",
       "                          Schmiedel_2018  CD8_T-cell_naive\n",
       "                          Schmiedel_2018     NK-cell_naive\n",
       "T1D_34594039_GCST90018925 Schmiedel_2018     NK-cell_naive"
      ]
     },
     "metadata": {},
     "output_type": "display_data"
    }
   ],
   "source": [
    "pd.set_option('display.max_rows', 100) \n",
    "display(check_sources.set_index(['gwas_source', 'eqtl_source']))\n",
    "pd.set_option('display.max_rows', 20) "
   ]
  },
  {
   "cell_type": "markdown",
   "id": "700d3a19",
   "metadata": {},
   "source": [
    "## Plotting the Number of SNP-Gene Pairs per Colocalization Analysis"
   ]
  },
  {
   "cell_type": "code",
   "execution_count": 15,
   "id": "0b0a73e2",
   "metadata": {},
   "outputs": [],
   "source": [
    "study_summary = t1d_data.\\\n",
    "            value_counts(['gwas_source', 'eqtl_source', 'ge_source']).to_frame().reset_index().\\\n",
    "            sort_values(['gwas_source', 'eqtl_source', 'ge_source'])\n",
    "study_summary.rename(columns={0:'count'}, inplace=True)"
   ]
  },
  {
   "cell_type": "code",
   "execution_count": 16,
   "id": "0e2c4e56",
   "metadata": {},
   "outputs": [
    {
     "name": "stdout",
     "output_type": "stream",
     "text": [
      "The median number of colocalizations per study is 1.0.\n"
     ]
    }
   ],
   "source": [
    "print('The median number of colocalizations per study is {}.'.format(study_summary['count'].median()))"
   ]
  },
  {
   "cell_type": "code",
   "execution_count": 17,
   "id": "ceda8080",
   "metadata": {},
   "outputs": [
    {
     "data": {
      "text/html": [
       "<div>\n",
       "<style scoped>\n",
       "    .dataframe tbody tr th:only-of-type {\n",
       "        vertical-align: middle;\n",
       "    }\n",
       "\n",
       "    .dataframe tbody tr th {\n",
       "        vertical-align: top;\n",
       "    }\n",
       "\n",
       "    .dataframe thead th {\n",
       "        text-align: right;\n",
       "    }\n",
       "</style>\n",
       "<table border=\"1\" class=\"dataframe\">\n",
       "  <thead>\n",
       "    <tr style=\"text-align: right;\">\n",
       "      <th></th>\n",
       "      <th>gwas_source</th>\n",
       "      <th>eqtl_source</th>\n",
       "      <th>ge_source</th>\n",
       "      <th>count</th>\n",
       "    </tr>\n",
       "  </thead>\n",
       "  <tbody>\n",
       "    <tr>\n",
       "      <th>1</th>\n",
       "      <td>T1D_32005708</td>\n",
       "      <td>Schmiedel_2018</td>\n",
       "      <td>B-cell_naive</td>\n",
       "      <td>2</td>\n",
       "    </tr>\n",
       "    <tr>\n",
       "      <th>0</th>\n",
       "      <td>T1D_32005708</td>\n",
       "      <td>Schmiedel_2018</td>\n",
       "      <td>monocyte_naive</td>\n",
       "      <td>2</td>\n",
       "    </tr>\n",
       "    <tr>\n",
       "      <th>8</th>\n",
       "      <td>T1D_32005708</td>\n",
       "      <td>Schmiedel_2018</td>\n",
       "      <td>CD8_T-cell_naive</td>\n",
       "      <td>1</td>\n",
       "    </tr>\n",
       "    <tr>\n",
       "      <th>7</th>\n",
       "      <td>T1D_32005708</td>\n",
       "      <td>Schmiedel_2018</td>\n",
       "      <td>NK-cell_naive</td>\n",
       "      <td>1</td>\n",
       "    </tr>\n",
       "    <tr>\n",
       "      <th>6</th>\n",
       "      <td>T1D_34012112_Gaulton</td>\n",
       "      <td>Schmiedel_2018</td>\n",
       "      <td>B-cell_naive</td>\n",
       "      <td>1</td>\n",
       "    </tr>\n",
       "    <tr>\n",
       "      <th>5</th>\n",
       "      <td>T1D_34012112_Gaulton</td>\n",
       "      <td>Schmiedel_2018</td>\n",
       "      <td>CD4_T-cell_naive</td>\n",
       "      <td>1</td>\n",
       "    </tr>\n",
       "    <tr>\n",
       "      <th>4</th>\n",
       "      <td>T1D_34012112_Gaulton</td>\n",
       "      <td>Schmiedel_2018</td>\n",
       "      <td>CD8_T-cell_naive</td>\n",
       "      <td>1</td>\n",
       "    </tr>\n",
       "    <tr>\n",
       "      <th>3</th>\n",
       "      <td>T1D_34012112_Gaulton</td>\n",
       "      <td>Schmiedel_2018</td>\n",
       "      <td>NK-cell_naive</td>\n",
       "      <td>1</td>\n",
       "    </tr>\n",
       "    <tr>\n",
       "      <th>2</th>\n",
       "      <td>T1D_34594039_GCST90018925</td>\n",
       "      <td>Schmiedel_2018</td>\n",
       "      <td>NK-cell_naive</td>\n",
       "      <td>1</td>\n",
       "    </tr>\n",
       "  </tbody>\n",
       "</table>\n",
       "</div>"
      ],
      "text/plain": [
       "                 gwas_source     eqtl_source         ge_source  count\n",
       "1               T1D_32005708  Schmiedel_2018      B-cell_naive      2\n",
       "0               T1D_32005708  Schmiedel_2018    monocyte_naive      2\n",
       "8               T1D_32005708  Schmiedel_2018  CD8_T-cell_naive      1\n",
       "7               T1D_32005708  Schmiedel_2018     NK-cell_naive      1\n",
       "6       T1D_34012112_Gaulton  Schmiedel_2018      B-cell_naive      1\n",
       "5       T1D_34012112_Gaulton  Schmiedel_2018  CD4_T-cell_naive      1\n",
       "4       T1D_34012112_Gaulton  Schmiedel_2018  CD8_T-cell_naive      1\n",
       "3       T1D_34012112_Gaulton  Schmiedel_2018     NK-cell_naive      1\n",
       "2  T1D_34594039_GCST90018925  Schmiedel_2018     NK-cell_naive      1"
      ]
     },
     "execution_count": 17,
     "metadata": {},
     "output_type": "execute_result"
    }
   ],
   "source": [
    "study_summary.sort_values('count', ascending=False)"
   ]
  },
  {
   "cell_type": "code",
   "execution_count": 18,
   "id": "9904d347",
   "metadata": {
    "scrolled": false
   },
   "outputs": [
    {
     "data": {
      "image/png": "[encoded data removed]",
      "text/plain": [
       "<Figure size 720x288 with 1 Axes>"
      ]
     },
     "metadata": {
      "needs_background": "light"
     },
     "output_type": "display_data"
    },
    {
     "data": {
      "image/png": "[encoded data removed]",
      "text/plain": [
       "<Figure size 720x288 with 1 Axes>"
      ]
     },
     "metadata": {
      "needs_background": "light"
     },
     "output_type": "display_data"
    },
    {
     "data": {
      "image/png": "[encoded data removed]",
      "text/plain": [
       "<Figure size 720x288 with 1 Axes>"
      ]
     },
     "metadata": {
      "needs_background": "light"
     },
     "output_type": "display_data"
    }
   ],
   "source": [
    "for gwas_source, gwas_summary in study_summary.groupby('gwas_source'):\n",
    "        \n",
    "    #sns.barplot(hue='eqtl', y='count', x='ge', data=study_summary)\n",
    "    fig, ax = plt.subplots(figsize=(10,4))\n",
    "    \n",
    "    # Draw a nested barplot by species and sex\n",
    "    gwas_summary.sort_values('eqtl_source', inplace=True)\n",
    "    g = sns.barplot(data=gwas_summary,\n",
    "                x=\"ge_source\", y=\"count\",\n",
    "                hue='eqtl_source', ax=ax)\n",
    "\n",
    "    # move the legend\n",
    "    ax.legend(bbox_to_anchor=(1.04,1), loc=\"upper left\")\n",
    "    \n",
    "    # rotate the tick marks\n",
    "    for x in g.get_xticklabels():\n",
    "        x.set_rotation(90)\n",
    "        \n",
    "\n",
    "    gwas_authorship = gwas_meta.loc[gwas_source, 'authorship']\n",
    "    g.set_title('Number of Colocalization Signals (SNP-Gene Pairs)\\n({})'.format(gwas_authorship))\n",
    "    g.set_xlabel('Sample (Source of gene expression)')\n",
    "    g.set_ylabel('Count')\n",
    "    g.set_yticks(list(range(0, max(gwas_summary['count']) + 1)))\n",
    "    \n",
    "    # expand the x limits\n",
    "    ax.set_xlim(-1, gwas_summary.ge_source.nunique() + 0.5)\n"
   ]
  },
  {
   "cell_type": "code",
   "execution_count": 19,
   "id": "6f7a5333",
   "metadata": {},
   "outputs": [],
   "source": [
    "study_report_fn = os.path.join(outdir, 'coloc_report.tsv')\n",
    "study_summary.to_csv(study_report_fn, sep='\\t', index=False)"
   ]
  },
  {
   "cell_type": "markdown",
   "id": "55786264",
   "metadata": {},
   "source": [
    "## Plotting the Number of Unique Genes per Colocalization Analysis"
   ]
  },
  {
   "cell_type": "code",
   "execution_count": 20,
   "id": "5f991205",
   "metadata": {},
   "outputs": [],
   "source": [
    "uniq_genes_per_sample = t1d_data.groupby(['gwas_source', 'eqtl_source', 'ge_source']).genename.nunique()\n",
    "uniq_genes_per_sample = uniq_genes_per_sample.reset_index()"
   ]
  },
  {
   "cell_type": "code",
   "execution_count": 21,
   "id": "f594a47b",
   "metadata": {},
   "outputs": [
    {
     "data": {
      "text/html": [
       "<div>\n",
       "<style scoped>\n",
       "    .dataframe tbody tr th:only-of-type {\n",
       "        vertical-align: middle;\n",
       "    }\n",
       "\n",
       "    .dataframe tbody tr th {\n",
       "        vertical-align: top;\n",
       "    }\n",
       "\n",
       "    .dataframe thead th {\n",
       "        text-align: right;\n",
       "    }\n",
       "</style>\n",
       "<table border=\"1\" class=\"dataframe\">\n",
       "  <thead>\n",
       "    <tr style=\"text-align: right;\">\n",
       "      <th></th>\n",
       "      <th>gwas_source</th>\n",
       "      <th>eqtl_source</th>\n",
       "      <th>ge_source</th>\n",
       "      <th>genename</th>\n",
       "    </tr>\n",
       "  </thead>\n",
       "  <tbody>\n",
       "    <tr>\n",
       "      <th>0</th>\n",
       "      <td>T1D_32005708</td>\n",
       "      <td>Schmiedel_2018</td>\n",
       "      <td>B-cell_naive</td>\n",
       "      <td>2</td>\n",
       "    </tr>\n",
       "    <tr>\n",
       "      <th>1</th>\n",
       "      <td>T1D_32005708</td>\n",
       "      <td>Schmiedel_2018</td>\n",
       "      <td>CD8_T-cell_naive</td>\n",
       "      <td>1</td>\n",
       "    </tr>\n",
       "    <tr>\n",
       "      <th>2</th>\n",
       "      <td>T1D_32005708</td>\n",
       "      <td>Schmiedel_2018</td>\n",
       "      <td>NK-cell_naive</td>\n",
       "      <td>1</td>\n",
       "    </tr>\n",
       "    <tr>\n",
       "      <th>3</th>\n",
       "      <td>T1D_32005708</td>\n",
       "      <td>Schmiedel_2018</td>\n",
       "      <td>monocyte_naive</td>\n",
       "      <td>2</td>\n",
       "    </tr>\n",
       "    <tr>\n",
       "      <th>4</th>\n",
       "      <td>T1D_34012112_Gaulton</td>\n",
       "      <td>Schmiedel_2018</td>\n",
       "      <td>B-cell_naive</td>\n",
       "      <td>1</td>\n",
       "    </tr>\n",
       "    <tr>\n",
       "      <th>5</th>\n",
       "      <td>T1D_34012112_Gaulton</td>\n",
       "      <td>Schmiedel_2018</td>\n",
       "      <td>CD4_T-cell_naive</td>\n",
       "      <td>1</td>\n",
       "    </tr>\n",
       "    <tr>\n",
       "      <th>6</th>\n",
       "      <td>T1D_34012112_Gaulton</td>\n",
       "      <td>Schmiedel_2018</td>\n",
       "      <td>CD8_T-cell_naive</td>\n",
       "      <td>1</td>\n",
       "    </tr>\n",
       "    <tr>\n",
       "      <th>7</th>\n",
       "      <td>T1D_34012112_Gaulton</td>\n",
       "      <td>Schmiedel_2018</td>\n",
       "      <td>NK-cell_naive</td>\n",
       "      <td>1</td>\n",
       "    </tr>\n",
       "    <tr>\n",
       "      <th>8</th>\n",
       "      <td>T1D_34594039_GCST90018925</td>\n",
       "      <td>Schmiedel_2018</td>\n",
       "      <td>NK-cell_naive</td>\n",
       "      <td>1</td>\n",
       "    </tr>\n",
       "  </tbody>\n",
       "</table>\n",
       "</div>"
      ],
      "text/plain": [
       "                 gwas_source     eqtl_source         ge_source  genename\n",
       "0               T1D_32005708  Schmiedel_2018      B-cell_naive         2\n",
       "1               T1D_32005708  Schmiedel_2018  CD8_T-cell_naive         1\n",
       "2               T1D_32005708  Schmiedel_2018     NK-cell_naive         1\n",
       "3               T1D_32005708  Schmiedel_2018    monocyte_naive         2\n",
       "4       T1D_34012112_Gaulton  Schmiedel_2018      B-cell_naive         1\n",
       "5       T1D_34012112_Gaulton  Schmiedel_2018  CD4_T-cell_naive         1\n",
       "6       T1D_34012112_Gaulton  Schmiedel_2018  CD8_T-cell_naive         1\n",
       "7       T1D_34012112_Gaulton  Schmiedel_2018     NK-cell_naive         1\n",
       "8  T1D_34594039_GCST90018925  Schmiedel_2018     NK-cell_naive         1"
      ]
     },
     "execution_count": 21,
     "metadata": {},
     "output_type": "execute_result"
    }
   ],
   "source": [
    "uniq_genes_per_sample"
   ]
  },
  {
   "cell_type": "code",
   "execution_count": 22,
   "id": "dcdb9549",
   "metadata": {},
   "outputs": [
    {
     "data": {
      "image/png": "[encoded data removed]",
      "text/plain": [
       "<Figure size 720x288 with 1 Axes>"
      ]
     },
     "metadata": {
      "needs_background": "light"
     },
     "output_type": "display_data"
    },
    {
     "data": {
      "image/png": "[encoded data removed]",
      "text/plain": [
       "<Figure size 720x288 with 1 Axes>"
      ]
     },
     "metadata": {
      "needs_background": "light"
     },
     "output_type": "display_data"
    },
    {
     "data": {
      "image/png": "[encoded data removed]",
      "text/plain": [
       "<Figure size 720x288 with 1 Axes>"
      ]
     },
     "metadata": {
      "needs_background": "light"
     },
     "output_type": "display_data"
    }
   ],
   "source": [
    "for gwas_source, gwas_summary in uniq_genes_per_sample.groupby('gwas_source'):\n",
    "        \n",
    "    fig, ax = plt.subplots(figsize=(10,4))\n",
    "    \n",
    "    # Draw a nested barplot by species and sex\n",
    "    gwas_summary.sort_values('eqtl_source', inplace=True)\n",
    "    g = sns.barplot(data=gwas_summary,\n",
    "                x=\"ge_source\", y=\"genename\",\n",
    "                hue='eqtl_source', ax=ax)\n",
    "\n",
    "    # move the legend\n",
    "    ax.legend(bbox_to_anchor=(1.04,1), loc=\"upper left\")\n",
    "    \n",
    "\n",
    "    for x in g.get_xticklabels():\n",
    "        x.set_rotation(90)\n",
    "\n",
    "    gwas_authorship = gwas_meta.loc[gwas_source, 'authorship']    \n",
    "    g.set_title('Number of Unique Colocalized Genes\\n({})'.format(gwas_authorship))\n",
    "    g.set_xlabel('Sample (Source of gene expression)')\n",
    "    g.set_ylabel('Count')"
   ]
  },
  {
   "cell_type": "code",
   "execution_count": 23,
   "id": "32b4a6c7",
   "metadata": {},
   "outputs": [],
   "source": [
    "# find the uniq snps\n",
    "uniq_snps_per_samples = t1d_data.groupby(['gwas_source', 'eqtl_source', 'ge_source']).rsid.nunique().reset_index()"
   ]
  },
  {
   "cell_type": "markdown",
   "id": "3cbae778",
   "metadata": {},
   "source": [
    "### Table for the number of unique genes and snps per colocalization analyses"
   ]
  },
  {
   "cell_type": "code",
   "execution_count": 24,
   "id": "3467688f",
   "metadata": {},
   "outputs": [],
   "source": [
    "# concat the two tables\n",
    "uniq_summary = uniq_genes_per_sample.merge(uniq_snps_per_samples)\n",
    "uniq_summary.columns = ['gwas', 'eqtl', 'ge', 'Unique # Genes', 'Unique # SNPs']"
   ]
  },
  {
   "cell_type": "code",
   "execution_count": 25,
   "id": "662bcac6",
   "metadata": {
    "scrolled": false
   },
   "outputs": [
    {
     "data": {
      "text/html": [
       "<div>\n",
       "<style scoped>\n",
       "    .dataframe tbody tr th:only-of-type {\n",
       "        vertical-align: middle;\n",
       "    }\n",
       "\n",
       "    .dataframe tbody tr th {\n",
       "        vertical-align: top;\n",
       "    }\n",
       "\n",
       "    .dataframe thead th {\n",
       "        text-align: right;\n",
       "    }\n",
       "</style>\n",
       "<table border=\"1\" class=\"dataframe\">\n",
       "  <thead>\n",
       "    <tr style=\"text-align: right;\">\n",
       "      <th></th>\n",
       "      <th>gwas</th>\n",
       "      <th>eqtl</th>\n",
       "      <th>ge</th>\n",
       "      <th>Unique # Genes</th>\n",
       "      <th>Unique # SNPs</th>\n",
       "    </tr>\n",
       "  </thead>\n",
       "  <tbody>\n",
       "    <tr>\n",
       "      <th>8</th>\n",
       "      <td>T1D_34594039_GCST90018925</td>\n",
       "      <td>Schmiedel_2018</td>\n",
       "      <td>NK-cell_naive</td>\n",
       "      <td>1</td>\n",
       "      <td>1</td>\n",
       "    </tr>\n",
       "    <tr>\n",
       "      <th>4</th>\n",
       "      <td>T1D_34012112_Gaulton</td>\n",
       "      <td>Schmiedel_2018</td>\n",
       "      <td>B-cell_naive</td>\n",
       "      <td>1</td>\n",
       "      <td>1</td>\n",
       "    </tr>\n",
       "    <tr>\n",
       "      <th>5</th>\n",
       "      <td>T1D_34012112_Gaulton</td>\n",
       "      <td>Schmiedel_2018</td>\n",
       "      <td>CD4_T-cell_naive</td>\n",
       "      <td>1</td>\n",
       "      <td>1</td>\n",
       "    </tr>\n",
       "    <tr>\n",
       "      <th>6</th>\n",
       "      <td>T1D_34012112_Gaulton</td>\n",
       "      <td>Schmiedel_2018</td>\n",
       "      <td>CD8_T-cell_naive</td>\n",
       "      <td>1</td>\n",
       "      <td>1</td>\n",
       "    </tr>\n",
       "    <tr>\n",
       "      <th>7</th>\n",
       "      <td>T1D_34012112_Gaulton</td>\n",
       "      <td>Schmiedel_2018</td>\n",
       "      <td>NK-cell_naive</td>\n",
       "      <td>1</td>\n",
       "      <td>1</td>\n",
       "    </tr>\n",
       "    <tr>\n",
       "      <th>0</th>\n",
       "      <td>T1D_32005708</td>\n",
       "      <td>Schmiedel_2018</td>\n",
       "      <td>B-cell_naive</td>\n",
       "      <td>2</td>\n",
       "      <td>2</td>\n",
       "    </tr>\n",
       "    <tr>\n",
       "      <th>3</th>\n",
       "      <td>T1D_32005708</td>\n",
       "      <td>Schmiedel_2018</td>\n",
       "      <td>monocyte_naive</td>\n",
       "      <td>2</td>\n",
       "      <td>2</td>\n",
       "    </tr>\n",
       "    <tr>\n",
       "      <th>1</th>\n",
       "      <td>T1D_32005708</td>\n",
       "      <td>Schmiedel_2018</td>\n",
       "      <td>CD8_T-cell_naive</td>\n",
       "      <td>1</td>\n",
       "      <td>1</td>\n",
       "    </tr>\n",
       "    <tr>\n",
       "      <th>2</th>\n",
       "      <td>T1D_32005708</td>\n",
       "      <td>Schmiedel_2018</td>\n",
       "      <td>NK-cell_naive</td>\n",
       "      <td>1</td>\n",
       "      <td>1</td>\n",
       "    </tr>\n",
       "  </tbody>\n",
       "</table>\n",
       "</div>"
      ],
      "text/plain": [
       "                        gwas            eqtl                ge  \\\n",
       "8  T1D_34594039_GCST90018925  Schmiedel_2018     NK-cell_naive   \n",
       "4       T1D_34012112_Gaulton  Schmiedel_2018      B-cell_naive   \n",
       "5       T1D_34012112_Gaulton  Schmiedel_2018  CD4_T-cell_naive   \n",
       "6       T1D_34012112_Gaulton  Schmiedel_2018  CD8_T-cell_naive   \n",
       "7       T1D_34012112_Gaulton  Schmiedel_2018     NK-cell_naive   \n",
       "0               T1D_32005708  Schmiedel_2018      B-cell_naive   \n",
       "3               T1D_32005708  Schmiedel_2018    monocyte_naive   \n",
       "1               T1D_32005708  Schmiedel_2018  CD8_T-cell_naive   \n",
       "2               T1D_32005708  Schmiedel_2018     NK-cell_naive   \n",
       "\n",
       "   Unique # Genes  Unique # SNPs  \n",
       "8               1              1  \n",
       "4               1              1  \n",
       "5               1              1  \n",
       "6               1              1  \n",
       "7               1              1  \n",
       "0               2              2  \n",
       "3               2              2  \n",
       "1               1              1  \n",
       "2               1              1  "
      ]
     },
     "metadata": {},
     "output_type": "display_data"
    }
   ],
   "source": [
    "pd.set_option('display.max_rows', 100) \n",
    "display(uniq_summary.sort_values(['gwas', 'Unique # SNPs'], ascending=False))\n",
    "pd.set_option('display.max_rows', 20) "
   ]
  },
  {
   "cell_type": "markdown",
   "id": "bdf82943",
   "metadata": {},
   "source": [
    "## Summarizing the Unique Genes Combined Across all Colocalization Analyses"
   ]
  },
  {
   "cell_type": "code",
   "execution_count": 26,
   "id": "eefe8b2d",
   "metadata": {},
   "outputs": [
    {
     "name": "stdout",
     "output_type": "stream",
     "text": [
      "There are 9 unique genes in the whole dataset.\n"
     ]
    },
    {
     "data": {
      "text/html": [
       "<div>\n",
       "<style scoped>\n",
       "    .dataframe tbody tr th:only-of-type {\n",
       "        vertical-align: middle;\n",
       "    }\n",
       "\n",
       "    .dataframe tbody tr th {\n",
       "        vertical-align: top;\n",
       "    }\n",
       "\n",
       "    .dataframe thead th {\n",
       "        text-align: right;\n",
       "    }\n",
       "</style>\n",
       "<table border=\"1\" class=\"dataframe\">\n",
       "  <thead>\n",
       "    <tr style=\"text-align: right;\">\n",
       "      <th></th>\n",
       "      <th>Number of Unique Colocalizations per Gene in ALL Studies</th>\n",
       "    </tr>\n",
       "  </thead>\n",
       "  <tbody>\n",
       "    <tr>\n",
       "      <th>RPS26</th>\n",
       "      <td>3</td>\n",
       "    </tr>\n",
       "    <tr>\n",
       "      <th>AL163932.1</th>\n",
       "      <td>1</td>\n",
       "    </tr>\n",
       "    <tr>\n",
       "      <th>AL157394.2</th>\n",
       "      <td>1</td>\n",
       "    </tr>\n",
       "    <tr>\n",
       "      <th>PRKCQ</th>\n",
       "      <td>1</td>\n",
       "    </tr>\n",
       "    <tr>\n",
       "      <th>AL157395.1</th>\n",
       "      <td>1</td>\n",
       "    </tr>\n",
       "    <tr>\n",
       "      <th>AL121787.1</th>\n",
       "      <td>1</td>\n",
       "    </tr>\n",
       "    <tr>\n",
       "      <th>AL133370.1</th>\n",
       "      <td>1</td>\n",
       "    </tr>\n",
       "    <tr>\n",
       "      <th>PRKCQ-AS1</th>\n",
       "      <td>1</td>\n",
       "    </tr>\n",
       "    <tr>\n",
       "      <th>AL354760.1</th>\n",
       "      <td>1</td>\n",
       "    </tr>\n",
       "  </tbody>\n",
       "</table>\n",
       "</div>"
      ],
      "text/plain": [
       "            Number of Unique Colocalizations per Gene in ALL Studies\n",
       "RPS26                                                       3       \n",
       "AL163932.1                                                  1       \n",
       "AL157394.2                                                  1       \n",
       "PRKCQ                                                       1       \n",
       "AL157395.1                                                  1       \n",
       "AL121787.1                                                  1       \n",
       "AL133370.1                                                  1       \n",
       "PRKCQ-AS1                                                   1       \n",
       "AL354760.1                                                  1       "
      ]
     },
     "metadata": {},
     "output_type": "display_data"
    }
   ],
   "source": [
    "# construct a table of unique genes \n",
    "gene_uniq_summary = t1d_data.drop_duplicates(['gwas_source', 'eqtl_source', 'ge_source', 'genename']).genename.value_counts()\n",
    "gene_uniq_summary = gene_uniq_summary.to_frame()\n",
    "gene_uniq_summary.sort_values('genename', ascending=False, inplace=True)\n",
    "gene_uniq_summary.columns = ['Number of Unique Colocalizations per Gene in ALL Studies']\n",
    "\n",
    "print('There are {} unique genes in the whole dataset.'.format(gene_uniq_summary.shape[0]))\n",
    "\n",
    "# display this table\n",
    "pd.set_option('display.max_rows', gene_uniq_summary.shape[0]) \n",
    "display(gene_uniq_summary)\n",
    "pd.set_option('display.max_rows', 20) "
   ]
  },
  {
   "cell_type": "code",
   "execution_count": 27,
   "id": "0718a3d0",
   "metadata": {
    "scrolled": false
   },
   "outputs": [
    {
     "name": "stdout",
     "output_type": "stream",
     "text": [
      "AL121787.1\n",
      "AL133370.1\n",
      "AL157394.2\n",
      "AL157395.1\n",
      "AL163932.1\n",
      "AL354760.1\n",
      "PRKCQ\n",
      "PRKCQ-AS1\n",
      "RPS26\n"
     ]
    }
   ],
   "source": [
    "# save an enrichr file \n",
    "enrichr_fn = os.path.join(outdir, 'enrichr.input.txt')\n",
    "with open(enrichr_fn, 'w') as fw:\n",
    "    for x in sorted(gene_uniq_summary.index.tolist()):\n",
    "        print(x, file=fw)\n",
    "        print(x)"
   ]
  },
  {
   "cell_type": "markdown",
   "id": "fb1f1289",
   "metadata": {},
   "source": [
    "### Quick Dive into Treg Naive"
   ]
  },
  {
   "cell_type": "code",
   "execution_count": 28,
   "id": "ffbf3df2",
   "metadata": {},
   "outputs": [
    {
     "name": "stderr",
     "output_type": "stream",
     "text": [
      "/mnt/BioHome/jreyna/software/anaconda3/envs/hic_tls/lib/python3.6/site-packages/ipykernel_launcher.py:2: SettingWithCopyWarning: \n",
      "A value is trying to be set on a copy of a slice from a DataFrame\n",
      "\n",
      "See the caveats in the documentation: https://pandas.pydata.org/pandas-docs/stable/user_guide/indexing.html#returning-a-view-versus-a-copy\n",
      "  \n"
     ]
    }
   ],
   "source": [
    "treg = t1d_data.loc[t1d_data['ge_source'] == 'Treg_naive', :]\n",
    "treg.sort_values(['chr', 'pos'], inplace=True)"
   ]
  },
  {
   "cell_type": "code",
   "execution_count": 29,
   "id": "2fdaf552",
   "metadata": {},
   "outputs": [
    {
     "data": {
      "text/html": [
       "<div>\n",
       "<style scoped>\n",
       "    .dataframe tbody tr th:only-of-type {\n",
       "        vertical-align: middle;\n",
       "    }\n",
       "\n",
       "    .dataframe tbody tr th {\n",
       "        vertical-align: top;\n",
       "    }\n",
       "\n",
       "    .dataframe thead th {\n",
       "        text-align: right;\n",
       "    }\n",
       "</style>\n",
       "<table border=\"1\" class=\"dataframe\">\n",
       "  <thead>\n",
       "    <tr style=\"text-align: right;\">\n",
       "      <th></th>\n",
       "      <th>chr</th>\n",
       "      <th>pos</th>\n",
       "      <th>rsid</th>\n",
       "      <th>varid</th>\n",
       "      <th>genename</th>\n",
       "      <th>ppH4</th>\n",
       "      <th>sg_dist</th>\n",
       "      <th>eqtl_pval</th>\n",
       "      <th>eqtl_fdr</th>\n",
       "      <th>eqtl_slope</th>\n",
       "      <th>eqtl_slope_se</th>\n",
       "      <th>gwas_slope</th>\n",
       "      <th>gwas_slope_se</th>\n",
       "      <th>gwas_pval</th>\n",
       "      <th>gwas_source</th>\n",
       "      <th>eqtl_source</th>\n",
       "      <th>ge_source</th>\n",
       "      <th>gene_id</th>\n",
       "    </tr>\n",
       "  </thead>\n",
       "  <tbody>\n",
       "  </tbody>\n",
       "</table>\n",
       "</div>"
      ],
      "text/plain": [
       "Empty DataFrame\n",
       "Columns: [chr, pos, rsid, varid, genename, ppH4, sg_dist, eqtl_pval, eqtl_fdr, eqtl_slope, eqtl_slope_se, gwas_slope, gwas_slope_se, gwas_pval, gwas_source, eqtl_source, ge_source, gene_id]\n",
       "Index: []"
      ]
     },
     "execution_count": 29,
     "metadata": {},
     "output_type": "execute_result"
    }
   ],
   "source": [
    "treg[major_cols]"
   ]
  },
  {
   "cell_type": "markdown",
   "id": "4ece834a",
   "metadata": {},
   "source": [
    "## Quick Dive into GLIS3"
   ]
  },
  {
   "cell_type": "markdown",
   "id": "c9f63489",
   "metadata": {},
   "source": [
    "Very lowly expressed according to DICE: https://dice-database.org/genes/GLIS3 and eQTL FDR is not significant. "
   ]
  },
  {
   "cell_type": "code",
   "execution_count": 30,
   "id": "7d51616a",
   "metadata": {},
   "outputs": [
    {
     "data": {
      "text/html": [
       "<div>\n",
       "<style scoped>\n",
       "    .dataframe tbody tr th:only-of-type {\n",
       "        vertical-align: middle;\n",
       "    }\n",
       "\n",
       "    .dataframe tbody tr th {\n",
       "        vertical-align: top;\n",
       "    }\n",
       "\n",
       "    .dataframe thead th {\n",
       "        text-align: right;\n",
       "    }\n",
       "</style>\n",
       "<table border=\"1\" class=\"dataframe\">\n",
       "  <thead>\n",
       "    <tr style=\"text-align: right;\">\n",
       "      <th></th>\n",
       "      <th>chr</th>\n",
       "      <th>pos</th>\n",
       "      <th>rsid</th>\n",
       "      <th>varid</th>\n",
       "      <th>genename</th>\n",
       "      <th>ppH4</th>\n",
       "      <th>sg_dist</th>\n",
       "      <th>eqtl_pval</th>\n",
       "      <th>eqtl_fdr</th>\n",
       "      <th>eqtl_slope</th>\n",
       "      <th>eqtl_slope_se</th>\n",
       "      <th>gwas_slope</th>\n",
       "      <th>gwas_slope_se</th>\n",
       "      <th>gwas_pval</th>\n",
       "      <th>gwas_source</th>\n",
       "      <th>eqtl_source</th>\n",
       "      <th>ge_source</th>\n",
       "      <th>gene_id</th>\n",
       "    </tr>\n",
       "  </thead>\n",
       "  <tbody>\n",
       "  </tbody>\n",
       "</table>\n",
       "</div>"
      ],
      "text/plain": [
       "Empty DataFrame\n",
       "Columns: [chr, pos, rsid, varid, genename, ppH4, sg_dist, eqtl_pval, eqtl_fdr, eqtl_slope, eqtl_slope_se, gwas_slope, gwas_slope_se, gwas_pval, gwas_source, eqtl_source, ge_source, gene_id]\n",
       "Index: []"
      ]
     },
     "execution_count": 30,
     "metadata": {},
     "output_type": "execute_result"
    }
   ],
   "source": [
    "t1d_data.loc[t1d_data['genename'] == 'GLIS3', major_cols]"
   ]
  },
  {
   "cell_type": "markdown",
   "id": "b1647431",
   "metadata": {},
   "source": [
    "## Saving genes for excel analysis "
   ]
  },
  {
   "cell_type": "code",
   "execution_count": 31,
   "id": "fc7f6467",
   "metadata": {},
   "outputs": [],
   "source": [
    "# find the unique SNPs\n",
    "uniq_snps_by_cells = t1d_data.groupby('ge_source').varid.nunique()\n",
    "uniq_snps_by_cells = uniq_snps_by_cells.to_frame()\n",
    "\n",
    "#find the unique genes \n",
    "uniq_genes_by_cells = t1d_data.groupby('ge_source').gene_id.nunique()\n",
    "uniq_genes_by_cells = uniq_genes_by_cells.to_frame()\n",
    "\n",
    "# merge\n",
    "uniq_counts_by_cells = pd.merge(uniq_snps_by_cells, uniq_genes_by_cells, left_index=True, right_index=True)\n",
    "uniq_counts_by_cells.columns = ['Number of Unique SNPs', 'Number of Unique Genes']\n",
    "uniq_counts_by_cells.index.name = 'Cell Line'"
   ]
  },
  {
   "cell_type": "code",
   "execution_count": 32,
   "id": "e9959ef5",
   "metadata": {},
   "outputs": [],
   "source": [
    "# save the file\n",
    "excel_analysis = os.path.join(outdir, 'Unique_Counts_By_Cell_Line.xlsx')\n",
    "uniq_counts_by_cells.to_excel(excel_analysis, sheet_name='colocalization')"
   ]
  },
  {
   "cell_type": "code",
   "execution_count": 33,
   "id": "b67431a8",
   "metadata": {},
   "outputs": [
    {
     "data": {
      "text/plain": [
       "'results/notebooks/colocalization_with_eqtl_catalogue/Unique_Counts_By_Cell_Line.xlsx'"
      ]
     },
     "execution_count": 33,
     "metadata": {},
     "output_type": "execute_result"
    }
   ],
   "source": [
    "excel_analysis"
   ]
  },
  {
   "cell_type": "markdown",
   "id": "0c0943c9",
   "metadata": {},
   "source": [
    "#### Write the gene list as well"
   ]
  },
  {
   "cell_type": "code",
   "execution_count": 34,
   "id": "209ef179",
   "metadata": {},
   "outputs": [],
   "source": [
    "gh_list = t1d_data.gene_id.unique()\n",
    "gh_fn = os.path.join(outdir, 'gene_list.txt')\n",
    "with open(gh_fn, 'w') as fw:\n",
    "    for x in gh_list:\n",
    "        fw.write('{}\\n'.format(x))"
   ]
  },
  {
   "cell_type": "markdown",
   "id": "2300ba01",
   "metadata": {},
   "source": [
    "#### Get the unique genes per cell type "
   ]
  },
  {
   "cell_type": "code",
   "execution_count": 35,
   "id": "7562bbaa",
   "metadata": {},
   "outputs": [],
   "source": [
    "genes_by_cell = t1d_data[['ge_source', 'gene_id']].drop_duplicates()\n",
    "genes_by_cell.sort_values(['ge_source', 'gene_id'], inplace=True)\n",
    "genes_by_cell['source'] = 'colocalization'\n",
    "genes_by_cell.columns = ['cline', 'geneid', 'source']\n",
    "fn = os.path.join(outdir, 'genes_by_cell.xlsx')\n",
    "genes_by_cell.to_excel(fn, index=False)"
   ]
  },
  {
   "cell_type": "code",
   "execution_count": null,
   "id": "fe0b41c1",
   "metadata": {},
   "outputs": [],
   "source": []
  },
  {
   "cell_type": "code",
   "execution_count": null,
   "id": "dc9984ac",
   "metadata": {},
   "outputs": [],
   "source": []
  },
  {
   "cell_type": "code",
   "execution_count": null,
   "id": "c69119b5",
   "metadata": {},
   "outputs": [],
   "source": []
  },
  {
   "cell_type": "code",
   "execution_count": null,
   "id": "59060327",
   "metadata": {},
   "outputs": [],
   "source": []
  },
  {
   "cell_type": "code",
   "execution_count": null,
   "id": "a140504f",
   "metadata": {},
   "outputs": [],
   "source": []
  }
 ],
 "metadata": {
  "kernelspec": {
   "display_name": "HiC",
   "language": "python",
   "name": "hic_tls"
  },
  "language_info": {
   "codemirror_mode": {
    "name": "ipython",
    "version": 3
   },
   "file_extension": ".py",
   "mimetype": "text/x-python",
   "name": "python",
   "nbconvert_exporter": "python",
   "pygments_lexer": "ipython3",
   "version": "3.6.7"
  }
 },
 "nbformat": 4,
 "nbformat_minor": 5
}
