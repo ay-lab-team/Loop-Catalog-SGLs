{
 "cells": [
  {
   "cell_type": "code",
   "execution_count": 1,
   "id": "f8305ccf",
   "metadata": {},
   "outputs": [],
   "source": [
    "import os \n",
    "import pandas as pd\n",
    "import glob \n",
    "import seaborn as sns \n",
    "import matplotlib.pyplot as plt \n",
    "import numpy as np\n",
    "\n",
    "os.chdir('/mnt/BioHome/jreyna/jreyna/projects/dchallenge/')\n",
    "\n",
    "outdir = 'results/notebooks/colocalization_with_eqtl_catalogue/'\n",
    "os.makedirs(outdir, exist_ok=True)"
   ]
  },
  {
   "cell_type": "markdown",
   "id": "8dcb26db",
   "metadata": {},
   "source": [
    "## Loading the gencode reference"
   ]
  },
  {
   "cell_type": "code",
   "execution_count": 2,
   "id": "488c02c2",
   "metadata": {},
   "outputs": [],
   "source": [
    "gencode = pd.read_table('results/refs/gencode/v30/gencode.v30.annotation.bed', header=None)\n",
    "gencode = gencode.iloc[:, [5,6]]\n",
    "gencode.set_index(6, inplace=True)\n",
    "gencode = gencode.squeeze()\n",
    "gencode = gencode.to_dict()\n",
    "rev_gencode = {v:k for k,v in gencode.items()}"
   ]
  },
  {
   "cell_type": "markdown",
   "id": "6b9ac8f9",
   "metadata": {},
   "source": [
    "## Loading and processing the coloc data "
   ]
  },
  {
   "cell_type": "code",
   "execution_count": 3,
   "id": "52f7e219",
   "metadata": {},
   "outputs": [
    {
     "name": "stdout",
     "output_type": "stream",
     "text": [
      "Number of colocalizations analyses: 20.\n"
     ]
    }
   ],
   "source": [
    "data = []\n",
    "coloc_glob = 'results/main/coloc/Results/eQTL_Catalogue/T1D_34012112_Gaulton/*/*/FINAL_Summary_Coloc_Gene_SNP_Pairs.bed'\n",
    "coloc_fns = sorted(glob.glob(coloc_glob))\n",
    "coloc_fns = [x for x in coloc_fns if 'test' not in x]\n",
    "old_colocs = 17 #en(coloc_fns)\n",
    "print('Number of colocalizations analyses: {}.'.format(len(coloc_fns)))"
   ]
  },
  {
   "cell_type": "code",
   "execution_count": 4,
   "id": "18599b84",
   "metadata": {},
   "outputs": [],
   "source": [
    "for fn in coloc_fns:\n",
    "    \n",
    "    # load the data\n",
    "    df = pd.read_table(fn)\n",
    "    \n",
    "    # get GWAS, eQTL and gene expression sources\n",
    "    fname_segs = fn.split('/')\n",
    "    gwas = fname_segs[5]\n",
    "    eqtl = fname_segs[6]\n",
    "    ge = fname_segs[7]\n",
    "    \n",
    "    # assign the current values\n",
    "    df['gwas'] = gwas\n",
    "    df['eqtl'] = eqtl\n",
    "    df['ge'] = ge\n",
    "    data.append(df)\n",
    "    \n",
    "t1d_data = pd.concat(data)"
   ]
  },
  {
   "cell_type": "code",
   "execution_count": 5,
   "id": "624f5e59",
   "metadata": {
    "scrolled": false
   },
   "outputs": [],
   "source": [
    "# add the gene name\n",
    "t1d_data['gene_name'] = t1d_data.geneName.replace(rev_gencode)"
   ]
  },
  {
   "cell_type": "code",
   "execution_count": 6,
   "id": "b944d965",
   "metadata": {},
   "outputs": [],
   "source": [
    "# removing duplicate SNP-gene pairs by find the one with the largest PP4\n",
    "t1d_data_rgs = t1d_data.groupby(['gwas', 'eqtl', 'ge', 'rs_id', 'geneName'])\n",
    "new_t1d_data = []\n",
    "for grp, grp_df in t1d_data_rgs:\n",
    "    max_index = np.argmax(grp_df.pp_H4_Coloc_Summary)\n",
    "    new_t1d = grp_df.iloc[max_index,:]\n",
    "    new_t1d_data.append(new_t1d)\n",
    "new_t1d_data = pd.DataFrame(new_t1d_data)\n",
    "new_t1d_data.reset_index(drop=True, inplace=True)\n",
    "\n",
    "# assigning t1d_data to the new dataset\n",
    "t1d_data = new_t1d_data"
   ]
  },
  {
   "cell_type": "code",
   "execution_count": 7,
   "id": "0c32b843",
   "metadata": {
    "scrolled": false
   },
   "outputs": [],
   "source": [
    "tdf = t1d_data[['chr', 'pos','rs_id', 'variant_id', 'geneName','pp_H4_Coloc_Summary', 'dist', 'pvalue', 'FDR', 'slope_snp',\n",
    "       'slope_se_snp', 'slope_gwas', 'slope_se_gwas', 'pval_nominal', 'SampleSize', 'gwas', 'eqtl', 'ge',\n",
    "       'gene_name']].sort_values(['eqtl', 'ge', 'rs_id']).set_index(['eqtl', 'ge', 'rs_id'])"
   ]
  },
  {
   "cell_type": "code",
   "execution_count": 8,
   "id": "ada7fbb5",
   "metadata": {},
   "outputs": [
    {
     "data": {
      "text/plain": [
       "array(['AC068254.1', 'DOK6', 'AC027228.1'], dtype=object)"
      ]
     },
     "execution_count": 8,
     "metadata": {},
     "output_type": "execute_result"
    }
   ],
   "source": [
    "tdf[tdf.FDR < 0.05].gene_name.unique()"
   ]
  },
  {
   "cell_type": "markdown",
   "id": "3b570b4f",
   "metadata": {},
   "source": [
    "## Checking the data sources"
   ]
  },
  {
   "cell_type": "code",
   "execution_count": 9,
   "id": "029332ec",
   "metadata": {},
   "outputs": [],
   "source": [
    "check_sources = t1d_data.drop_duplicates(['eqtl', 'ge'])\n",
    "check_sources = check_sources[['eqtl', 'ge']]"
   ]
  },
  {
   "cell_type": "code",
   "execution_count": 10,
   "id": "e71b9eb3",
   "metadata": {},
   "outputs": [
    {
     "data": {
      "text/html": [
       "<div>\n",
       "<style scoped>\n",
       "    .dataframe tbody tr th:only-of-type {\n",
       "        vertical-align: middle;\n",
       "    }\n",
       "\n",
       "    .dataframe tbody tr th {\n",
       "        vertical-align: top;\n",
       "    }\n",
       "\n",
       "    .dataframe thead th {\n",
       "        text-align: right;\n",
       "    }\n",
       "</style>\n",
       "<table border=\"1\" class=\"dataframe\">\n",
       "  <thead>\n",
       "    <tr style=\"text-align: right;\">\n",
       "      <th></th>\n",
       "      <th>ge</th>\n",
       "    </tr>\n",
       "    <tr>\n",
       "      <th>eqtl</th>\n",
       "      <th></th>\n",
       "    </tr>\n",
       "  </thead>\n",
       "  <tbody>\n",
       "    <tr>\n",
       "      <th>BLUEPRINT</th>\n",
       "      <td>T-cell</td>\n",
       "    </tr>\n",
       "    <tr>\n",
       "      <th>BLUEPRINT</th>\n",
       "      <td>monocyte</td>\n",
       "    </tr>\n",
       "    <tr>\n",
       "      <th>BLUEPRINT</th>\n",
       "      <td>neutrophil</td>\n",
       "    </tr>\n",
       "    <tr>\n",
       "      <th>GTEx</th>\n",
       "      <td>LCL</td>\n",
       "    </tr>\n",
       "    <tr>\n",
       "      <th>Quach_2016</th>\n",
       "      <td>monocyte_IAV</td>\n",
       "    </tr>\n",
       "    <tr>\n",
       "      <th>Quach_2016</th>\n",
       "      <td>monocyte_Pam3CSK4</td>\n",
       "    </tr>\n",
       "    <tr>\n",
       "      <th>Quach_2016</th>\n",
       "      <td>monocyte_R848</td>\n",
       "    </tr>\n",
       "    <tr>\n",
       "      <th>Schmiedel_2018</th>\n",
       "      <td>B-cell_naive</td>\n",
       "    </tr>\n",
       "    <tr>\n",
       "      <th>Schmiedel_2018</th>\n",
       "      <td>CD4_T-cell_anti-CD3-CD28</td>\n",
       "    </tr>\n",
       "    <tr>\n",
       "      <th>Schmiedel_2018</th>\n",
       "      <td>CD4_T-cell_naive</td>\n",
       "    </tr>\n",
       "    <tr>\n",
       "      <th>Schmiedel_2018</th>\n",
       "      <td>CD8_T-cell_naive</td>\n",
       "    </tr>\n",
       "    <tr>\n",
       "      <th>Schmiedel_2018</th>\n",
       "      <td>NK-cell_naive</td>\n",
       "    </tr>\n",
       "    <tr>\n",
       "      <th>Schmiedel_2018</th>\n",
       "      <td>Tfh_memory</td>\n",
       "    </tr>\n",
       "    <tr>\n",
       "      <th>Schmiedel_2018</th>\n",
       "      <td>Th1-17_memory</td>\n",
       "    </tr>\n",
       "    <tr>\n",
       "      <th>Schmiedel_2018</th>\n",
       "      <td>Th17_memory</td>\n",
       "    </tr>\n",
       "    <tr>\n",
       "      <th>Schmiedel_2018</th>\n",
       "      <td>Th1_memory</td>\n",
       "    </tr>\n",
       "    <tr>\n",
       "      <th>Schmiedel_2018</th>\n",
       "      <td>Th2_memory</td>\n",
       "    </tr>\n",
       "    <tr>\n",
       "      <th>Schmiedel_2018</th>\n",
       "      <td>Treg_memory</td>\n",
       "    </tr>\n",
       "    <tr>\n",
       "      <th>Schmiedel_2018</th>\n",
       "      <td>Treg_naive</td>\n",
       "    </tr>\n",
       "    <tr>\n",
       "      <th>van_de_Bunt_2015</th>\n",
       "      <td>pancreatic_islet</td>\n",
       "    </tr>\n",
       "  </tbody>\n",
       "</table>\n",
       "</div>"
      ],
      "text/plain": [
       "                                        ge\n",
       "eqtl                                      \n",
       "BLUEPRINT                           T-cell\n",
       "BLUEPRINT                         monocyte\n",
       "BLUEPRINT                       neutrophil\n",
       "GTEx                                   LCL\n",
       "Quach_2016                    monocyte_IAV\n",
       "Quach_2016               monocyte_Pam3CSK4\n",
       "Quach_2016                   monocyte_R848\n",
       "Schmiedel_2018                B-cell_naive\n",
       "Schmiedel_2018    CD4_T-cell_anti-CD3-CD28\n",
       "Schmiedel_2018            CD4_T-cell_naive\n",
       "Schmiedel_2018            CD8_T-cell_naive\n",
       "Schmiedel_2018               NK-cell_naive\n",
       "Schmiedel_2018                  Tfh_memory\n",
       "Schmiedel_2018               Th1-17_memory\n",
       "Schmiedel_2018                 Th17_memory\n",
       "Schmiedel_2018                  Th1_memory\n",
       "Schmiedel_2018                  Th2_memory\n",
       "Schmiedel_2018                 Treg_memory\n",
       "Schmiedel_2018                  Treg_naive\n",
       "van_de_Bunt_2015          pancreatic_islet"
      ]
     },
     "metadata": {},
     "output_type": "display_data"
    }
   ],
   "source": [
    "pd.set_option('display.max_rows', 100) \n",
    "display(check_sources.set_index('eqtl'))\n",
    "pd.set_option('display.max_rows', 20) "
   ]
  },
  {
   "cell_type": "markdown",
   "id": "700d3a19",
   "metadata": {},
   "source": [
    "## Plotting the Number of SNP-Gene Pairs"
   ]
  },
  {
   "cell_type": "code",
   "execution_count": 11,
   "id": "0b0a73e2",
   "metadata": {},
   "outputs": [],
   "source": [
    "study_summary = t1d_data.value_counts(['gwas', 'eqtl', 'ge']).to_frame().reset_index()\n",
    "study_summary.rename(columns={0:'count'}, inplace=True)"
   ]
  },
  {
   "cell_type": "code",
   "execution_count": 12,
   "id": "9904d347",
   "metadata": {},
   "outputs": [
    {
     "data": {
      "text/plain": [
       "Text(19.015271086516208, 0.5, 'Count')"
      ]
     },
     "execution_count": 12,
     "metadata": {},
     "output_type": "execute_result"
    },
    {
     "data": {
      "image/png": "[encoded data removed]",
      "text/plain": [
       "<Figure size 562.75x432 with 1 Axes>"
      ]
     },
     "metadata": {
      "needs_background": "light"
     },
     "output_type": "display_data"
    }
   ],
   "source": [
    "#sns.barplot(hue='eqtl', y='count', x='ge', data=study_summary)\n",
    "\n",
    "# fig, ax = plt.subplots()\n",
    "# Draw a nested barplot by species and sex\n",
    "g= sns.catplot(data=study_summary, kind=\"bar\",\n",
    "            x=\"ge\", y=\"count\", hue=\"eqtl\",\n",
    "            ci=\"sd\", palette=\"dark\", alpha=.6, height=6)\n",
    "\n",
    "for x in g.ax.get_xticklabels():\n",
    "    x.set_rotation(90)\n",
    "    \n",
    "g.ax.set_title('Number of Colocalization Signals (SNP-Gene Pairs)')\n",
    "g.ax.set_xlabel('Sample (Source of gene expression)')\n",
    "g.ax.set_ylabel('Count')"
   ]
  },
  {
   "cell_type": "code",
   "execution_count": 13,
   "id": "6f7a5333",
   "metadata": {},
   "outputs": [],
   "source": [
    "study_report_fn = os.path.join(outdir, 'coloc_report.tsv')\n",
    "study_summary.to_csv(study_report_fn, sep='\\t', index=False)"
   ]
  },
  {
   "cell_type": "markdown",
   "id": "9aec5974",
   "metadata": {},
   "source": [
    "## Plotting the Number of Unique Genes per Colocalization Analysis"
   ]
  },
  {
   "cell_type": "code",
   "execution_count": 14,
   "id": "5f991205",
   "metadata": {},
   "outputs": [],
   "source": [
    "uniq_genes_per_sample = t1d_data.groupby(['eqtl', 'ge']).geneName.nunique()\n",
    "uniq_genes_per_sample = uniq_genes_per_sample.reset_index()"
   ]
  },
  {
   "cell_type": "code",
   "execution_count": 15,
   "id": "dcdb9549",
   "metadata": {},
   "outputs": [
    {
     "data": {
      "text/plain": [
       "Text(14.116854745370379, 0.5, 'Count')"
      ]
     },
     "execution_count": 15,
     "metadata": {},
     "output_type": "execute_result"
    },
    {
     "data": {
      "image/png": "[encoded data removed]",
      "text/plain": [
       "<Figure size 562.75x432 with 1 Axes>"
      ]
     },
     "metadata": {
      "needs_background": "light"
     },
     "output_type": "display_data"
    }
   ],
   "source": [
    "#sns.barplot(hue='eqtl', y='count', x='ge', data=study_summary)\n",
    "\n",
    "# fig, ax = plt.subplots()\n",
    "# Draw a nested barplot by species and sex\n",
    "g= sns.catplot(data=uniq_genes_per_sample, kind=\"bar\",\n",
    "            x=\"ge\", y=\"geneName\", hue=\"eqtl\",\n",
    "            ci=\"sd\", palette=\"dark\", alpha=.6, height=6)\n",
    "\n",
    "for x in g.ax.get_xticklabels():\n",
    "    x.set_rotation(90)\n",
    "    \n",
    "g.ax.set_title('Number of Unique Colocalized Genes')\n",
    "g.ax.set_xlabel('Sample (Source of gene expression)')\n",
    "g.ax.set_ylabel('Count')"
   ]
  },
  {
   "cell_type": "code",
   "execution_count": 16,
   "id": "20ff701f",
   "metadata": {},
   "outputs": [],
   "source": [
    "# find the uniq snps\n",
    "uniq_snps_per_samples = t1d_data.groupby(['eqtl', 'ge']).rs_id.nunique().reset_index()"
   ]
  },
  {
   "cell_type": "code",
   "execution_count": 17,
   "id": "3467688f",
   "metadata": {},
   "outputs": [],
   "source": [
    "# concat the two tables\n",
    "uniq_summary = uniq_genes_per_sample.merge(uniq_snps_per_samples)\n",
    "uniq_summary.columns = ['eqtl', 'ge', 'Unique # Genes', 'Unique # SNPs']"
   ]
  },
  {
   "cell_type": "markdown",
   "id": "e5dedfb1",
   "metadata": {},
   "source": [
    "### Table for the number of unique genes and snps per colocalization analyses"
   ]
  },
  {
   "cell_type": "code",
   "execution_count": 18,
   "id": "1349e2d9",
   "metadata": {},
   "outputs": [
    {
     "data": {
      "text/html": [
       "<div>\n",
       "<style scoped>\n",
       "    .dataframe tbody tr th:only-of-type {\n",
       "        vertical-align: middle;\n",
       "    }\n",
       "\n",
       "    .dataframe tbody tr th {\n",
       "        vertical-align: top;\n",
       "    }\n",
       "\n",
       "    .dataframe thead th {\n",
       "        text-align: right;\n",
       "    }\n",
       "</style>\n",
       "<table border=\"1\" class=\"dataframe\">\n",
       "  <thead>\n",
       "    <tr style=\"text-align: right;\">\n",
       "      <th></th>\n",
       "      <th>eqtl</th>\n",
       "      <th>ge</th>\n",
       "      <th>Unique # Genes</th>\n",
       "      <th>Unique # SNPs</th>\n",
       "    </tr>\n",
       "  </thead>\n",
       "  <tbody>\n",
       "    <tr>\n",
       "      <th>18</th>\n",
       "      <td>Schmiedel_2018</td>\n",
       "      <td>Treg_naive</td>\n",
       "      <td>5</td>\n",
       "      <td>5</td>\n",
       "    </tr>\n",
       "    <tr>\n",
       "      <th>3</th>\n",
       "      <td>GTEx</td>\n",
       "      <td>LCL</td>\n",
       "      <td>4</td>\n",
       "      <td>4</td>\n",
       "    </tr>\n",
       "    <tr>\n",
       "      <th>16</th>\n",
       "      <td>Schmiedel_2018</td>\n",
       "      <td>Th2_memory</td>\n",
       "      <td>4</td>\n",
       "      <td>4</td>\n",
       "    </tr>\n",
       "    <tr>\n",
       "      <th>6</th>\n",
       "      <td>Quach_2016</td>\n",
       "      <td>monocyte_R848</td>\n",
       "      <td>3</td>\n",
       "      <td>3</td>\n",
       "    </tr>\n",
       "    <tr>\n",
       "      <th>8</th>\n",
       "      <td>Schmiedel_2018</td>\n",
       "      <td>CD4_T-cell_anti-CD3-CD28</td>\n",
       "      <td>3</td>\n",
       "      <td>3</td>\n",
       "    </tr>\n",
       "    <tr>\n",
       "      <th>15</th>\n",
       "      <td>Schmiedel_2018</td>\n",
       "      <td>Th1_memory</td>\n",
       "      <td>3</td>\n",
       "      <td>3</td>\n",
       "    </tr>\n",
       "    <tr>\n",
       "      <th>0</th>\n",
       "      <td>BLUEPRINT</td>\n",
       "      <td>T-cell</td>\n",
       "      <td>2</td>\n",
       "      <td>2</td>\n",
       "    </tr>\n",
       "    <tr>\n",
       "      <th>14</th>\n",
       "      <td>Schmiedel_2018</td>\n",
       "      <td>Th17_memory</td>\n",
       "      <td>2</td>\n",
       "      <td>2</td>\n",
       "    </tr>\n",
       "    <tr>\n",
       "      <th>2</th>\n",
       "      <td>BLUEPRINT</td>\n",
       "      <td>neutrophil</td>\n",
       "      <td>2</td>\n",
       "      <td>2</td>\n",
       "    </tr>\n",
       "    <tr>\n",
       "      <th>4</th>\n",
       "      <td>Quach_2016</td>\n",
       "      <td>monocyte_IAV</td>\n",
       "      <td>2</td>\n",
       "      <td>2</td>\n",
       "    </tr>\n",
       "    <tr>\n",
       "      <th>17</th>\n",
       "      <td>Schmiedel_2018</td>\n",
       "      <td>Treg_memory</td>\n",
       "      <td>2</td>\n",
       "      <td>2</td>\n",
       "    </tr>\n",
       "    <tr>\n",
       "      <th>1</th>\n",
       "      <td>BLUEPRINT</td>\n",
       "      <td>monocyte</td>\n",
       "      <td>2</td>\n",
       "      <td>2</td>\n",
       "    </tr>\n",
       "    <tr>\n",
       "      <th>12</th>\n",
       "      <td>Schmiedel_2018</td>\n",
       "      <td>Tfh_memory</td>\n",
       "      <td>2</td>\n",
       "      <td>2</td>\n",
       "    </tr>\n",
       "    <tr>\n",
       "      <th>13</th>\n",
       "      <td>Schmiedel_2018</td>\n",
       "      <td>Th1-17_memory</td>\n",
       "      <td>2</td>\n",
       "      <td>2</td>\n",
       "    </tr>\n",
       "    <tr>\n",
       "      <th>10</th>\n",
       "      <td>Schmiedel_2018</td>\n",
       "      <td>CD8_T-cell_naive</td>\n",
       "      <td>1</td>\n",
       "      <td>1</td>\n",
       "    </tr>\n",
       "    <tr>\n",
       "      <th>11</th>\n",
       "      <td>Schmiedel_2018</td>\n",
       "      <td>NK-cell_naive</td>\n",
       "      <td>1</td>\n",
       "      <td>1</td>\n",
       "    </tr>\n",
       "    <tr>\n",
       "      <th>9</th>\n",
       "      <td>Schmiedel_2018</td>\n",
       "      <td>CD4_T-cell_naive</td>\n",
       "      <td>1</td>\n",
       "      <td>1</td>\n",
       "    </tr>\n",
       "    <tr>\n",
       "      <th>7</th>\n",
       "      <td>Schmiedel_2018</td>\n",
       "      <td>B-cell_naive</td>\n",
       "      <td>1</td>\n",
       "      <td>1</td>\n",
       "    </tr>\n",
       "    <tr>\n",
       "      <th>5</th>\n",
       "      <td>Quach_2016</td>\n",
       "      <td>monocyte_Pam3CSK4</td>\n",
       "      <td>1</td>\n",
       "      <td>1</td>\n",
       "    </tr>\n",
       "    <tr>\n",
       "      <th>19</th>\n",
       "      <td>van_de_Bunt_2015</td>\n",
       "      <td>pancreatic_islet</td>\n",
       "      <td>1</td>\n",
       "      <td>1</td>\n",
       "    </tr>\n",
       "  </tbody>\n",
       "</table>\n",
       "</div>"
      ],
      "text/plain": [
       "                eqtl                        ge  Unique # Genes  Unique # SNPs\n",
       "18    Schmiedel_2018                Treg_naive               5              5\n",
       "3               GTEx                       LCL               4              4\n",
       "16    Schmiedel_2018                Th2_memory               4              4\n",
       "6         Quach_2016             monocyte_R848               3              3\n",
       "8     Schmiedel_2018  CD4_T-cell_anti-CD3-CD28               3              3\n",
       "15    Schmiedel_2018                Th1_memory               3              3\n",
       "0          BLUEPRINT                    T-cell               2              2\n",
       "14    Schmiedel_2018               Th17_memory               2              2\n",
       "2          BLUEPRINT                neutrophil               2              2\n",
       "4         Quach_2016              monocyte_IAV               2              2\n",
       "17    Schmiedel_2018               Treg_memory               2              2\n",
       "1          BLUEPRINT                  monocyte               2              2\n",
       "12    Schmiedel_2018                Tfh_memory               2              2\n",
       "13    Schmiedel_2018             Th1-17_memory               2              2\n",
       "10    Schmiedel_2018          CD8_T-cell_naive               1              1\n",
       "11    Schmiedel_2018             NK-cell_naive               1              1\n",
       "9     Schmiedel_2018          CD4_T-cell_naive               1              1\n",
       "7     Schmiedel_2018              B-cell_naive               1              1\n",
       "5         Quach_2016         monocyte_Pam3CSK4               1              1\n",
       "19  van_de_Bunt_2015          pancreatic_islet               1              1"
      ]
     },
     "metadata": {},
     "output_type": "display_data"
    }
   ],
   "source": [
    "pd.set_option('display.max_rows', 100) \n",
    "display(uniq_summary.sort_values('Unique # SNPs', ascending=False))\n",
    "pd.set_option('display.max_rows', 20) "
   ]
  },
  {
   "cell_type": "markdown",
   "id": "070fc648",
   "metadata": {},
   "source": [
    "## Summarizing the Unique Genes Combined Across all Colocalization Analyses"
   ]
  },
  {
   "cell_type": "code",
   "execution_count": 19,
   "id": "eefe8b2d",
   "metadata": {},
   "outputs": [
    {
     "name": "stdout",
     "output_type": "stream",
     "text": [
      "There are 31 unique genes in the whole dataset.\n"
     ]
    },
    {
     "data": {
      "text/html": [
       "<div>\n",
       "<style scoped>\n",
       "    .dataframe tbody tr th:only-of-type {\n",
       "        vertical-align: middle;\n",
       "    }\n",
       "\n",
       "    .dataframe tbody tr th {\n",
       "        vertical-align: top;\n",
       "    }\n",
       "\n",
       "    .dataframe thead th {\n",
       "        text-align: right;\n",
       "    }\n",
       "</style>\n",
       "<table border=\"1\" class=\"dataframe\">\n",
       "  <thead>\n",
       "    <tr style=\"text-align: right;\">\n",
       "      <th></th>\n",
       "      <th>Number of Unique Colocalizations per Gene in ALL Studies</th>\n",
       "    </tr>\n",
       "  </thead>\n",
       "  <tbody>\n",
       "    <tr>\n",
       "      <th>GLIS3</th>\n",
       "      <td>4</td>\n",
       "    </tr>\n",
       "    <tr>\n",
       "      <th>DOK6</th>\n",
       "      <td>3</td>\n",
       "    </tr>\n",
       "    <tr>\n",
       "      <th>LINC01031</th>\n",
       "      <td>3</td>\n",
       "    </tr>\n",
       "    <tr>\n",
       "      <th>AC068254.1</th>\n",
       "      <td>2</td>\n",
       "    </tr>\n",
       "    <tr>\n",
       "      <th>NPIPB15</th>\n",
       "      <td>2</td>\n",
       "    </tr>\n",
       "    <tr>\n",
       "      <th>AL163932.1</th>\n",
       "      <td>2</td>\n",
       "    </tr>\n",
       "    <tr>\n",
       "      <th>AL354760.1</th>\n",
       "      <td>2</td>\n",
       "    </tr>\n",
       "    <tr>\n",
       "      <th>AL359317.1</th>\n",
       "      <td>2</td>\n",
       "    </tr>\n",
       "    <tr>\n",
       "      <th>AC008063.1</th>\n",
       "      <td>2</td>\n",
       "    </tr>\n",
       "    <tr>\n",
       "      <th>CACHD1</th>\n",
       "      <td>1</td>\n",
       "    </tr>\n",
       "    <tr>\n",
       "      <th>TRIM61</th>\n",
       "      <td>1</td>\n",
       "    </tr>\n",
       "    <tr>\n",
       "      <th>AC016747.2</th>\n",
       "      <td>1</td>\n",
       "    </tr>\n",
       "    <tr>\n",
       "      <th>AL157871.5</th>\n",
       "      <td>1</td>\n",
       "    </tr>\n",
       "    <tr>\n",
       "      <th>TNFRSF11B</th>\n",
       "      <td>1</td>\n",
       "    </tr>\n",
       "    <tr>\n",
       "      <th>ACTA2</th>\n",
       "      <td>1</td>\n",
       "    </tr>\n",
       "    <tr>\n",
       "      <th>AC008063.2</th>\n",
       "      <td>1</td>\n",
       "    </tr>\n",
       "    <tr>\n",
       "      <th>RGS1</th>\n",
       "      <td>1</td>\n",
       "    </tr>\n",
       "    <tr>\n",
       "      <th>LINC02320</th>\n",
       "      <td>1</td>\n",
       "    </tr>\n",
       "    <tr>\n",
       "      <th>AC027228.1</th>\n",
       "      <td>1</td>\n",
       "    </tr>\n",
       "    <tr>\n",
       "      <th>IRF4</th>\n",
       "      <td>1</td>\n",
       "    </tr>\n",
       "    <tr>\n",
       "      <th>LINC02285</th>\n",
       "      <td>1</td>\n",
       "    </tr>\n",
       "    <tr>\n",
       "      <th>DPP4</th>\n",
       "      <td>1</td>\n",
       "    </tr>\n",
       "    <tr>\n",
       "      <th>ROR1</th>\n",
       "      <td>1</td>\n",
       "    </tr>\n",
       "    <tr>\n",
       "      <th>DSCC1</th>\n",
       "      <td>1</td>\n",
       "    </tr>\n",
       "    <tr>\n",
       "      <th>AL133370.1</th>\n",
       "      <td>1</td>\n",
       "    </tr>\n",
       "    <tr>\n",
       "      <th>AL354977.2</th>\n",
       "      <td>1</td>\n",
       "    </tr>\n",
       "    <tr>\n",
       "      <th>AL133445.2</th>\n",
       "      <td>1</td>\n",
       "    </tr>\n",
       "    <tr>\n",
       "      <th>HUS1B</th>\n",
       "      <td>1</td>\n",
       "    </tr>\n",
       "    <tr>\n",
       "      <th>AL137856.1</th>\n",
       "      <td>1</td>\n",
       "    </tr>\n",
       "    <tr>\n",
       "      <th>AL157394.2</th>\n",
       "      <td>1</td>\n",
       "    </tr>\n",
       "    <tr>\n",
       "      <th>AC091563.1</th>\n",
       "      <td>1</td>\n",
       "    </tr>\n",
       "  </tbody>\n",
       "</table>\n",
       "</div>"
      ],
      "text/plain": [
       "            Number of Unique Colocalizations per Gene in ALL Studies\n",
       "GLIS3                                                       4       \n",
       "DOK6                                                        3       \n",
       "LINC01031                                                   3       \n",
       "AC068254.1                                                  2       \n",
       "NPIPB15                                                     2       \n",
       "AL163932.1                                                  2       \n",
       "AL354760.1                                                  2       \n",
       "AL359317.1                                                  2       \n",
       "AC008063.1                                                  2       \n",
       "CACHD1                                                      1       \n",
       "TRIM61                                                      1       \n",
       "AC016747.2                                                  1       \n",
       "AL157871.5                                                  1       \n",
       "TNFRSF11B                                                   1       \n",
       "ACTA2                                                       1       \n",
       "AC008063.2                                                  1       \n",
       "RGS1                                                        1       \n",
       "LINC02320                                                   1       \n",
       "AC027228.1                                                  1       \n",
       "IRF4                                                        1       \n",
       "LINC02285                                                   1       \n",
       "DPP4                                                        1       \n",
       "ROR1                                                        1       \n",
       "DSCC1                                                       1       \n",
       "AL133370.1                                                  1       \n",
       "AL354977.2                                                  1       \n",
       "AL133445.2                                                  1       \n",
       "HUS1B                                                       1       \n",
       "AL137856.1                                                  1       \n",
       "AL157394.2                                                  1       \n",
       "AC091563.1                                                  1       "
      ]
     },
     "metadata": {},
     "output_type": "display_data"
    }
   ],
   "source": [
    "# construct a table of unique genes \n",
    "gene_uniq_summary = t1d_data.drop_duplicates(['eqtl', 'ge', 'gene_name']).gene_name.value_counts()\n",
    "gene_uniq_summary = gene_uniq_summary.to_frame()\n",
    "gene_uniq_summary.sort_values('gene_name', ascending=False, inplace=True)\n",
    "gene_uniq_summary.columns = ['Number of Unique Colocalizations per Gene in ALL Studies']\n",
    "\n",
    "print('There are {} unique genes in the whole dataset.'.format(gene_uniq_summary.shape[0]))\n",
    "\n",
    "# display this table\n",
    "pd.set_option('display.max_rows', gene_uniq_summary.shape[0]) \n",
    "display(gene_uniq_summary)\n",
    "pd.set_option('display.max_rows', 20) "
   ]
  },
  {
   "cell_type": "code",
   "execution_count": 20,
   "id": "0718a3d0",
   "metadata": {
    "scrolled": false
   },
   "outputs": [
    {
     "name": "stdout",
     "output_type": "stream",
     "text": [
      "AC008063.1\n",
      "AC008063.2\n",
      "AC016747.2\n",
      "AC027228.1\n",
      "AC068254.1\n",
      "AC091563.1\n",
      "ACTA2\n",
      "AL133370.1\n",
      "AL133445.2\n",
      "AL137856.1\n",
      "AL157394.2\n",
      "AL157871.5\n",
      "AL163932.1\n",
      "AL354760.1\n",
      "AL354977.2\n",
      "AL359317.1\n",
      "CACHD1\n",
      "DOK6\n",
      "DPP4\n",
      "DSCC1\n",
      "GLIS3\n",
      "HUS1B\n",
      "IRF4\n",
      "LINC01031\n",
      "LINC02285\n",
      "LINC02320\n",
      "NPIPB15\n",
      "RGS1\n",
      "ROR1\n",
      "TNFRSF11B\n",
      "TRIM61\n"
     ]
    }
   ],
   "source": [
    "# save an enrichr file \n",
    "enrichr_fn = os.path.join(outdir, 'enrichr.input.txt')\n",
    "with open(enrichr_fn, 'w') as fw:\n",
    "    for x in sorted(gene_uniq_summary.index.tolist()):\n",
    "        print(x, file=fw)\n",
    "        print(x)"
   ]
  }
 ],
 "metadata": {
  "kernelspec": {
   "display_name": "HiC",
   "language": "python",
   "name": "hic_tls"
  },
  "language_info": {
   "codemirror_mode": {
    "name": "ipython",
    "version": 3
   },
   "file_extension": ".py",
   "mimetype": "text/x-python",
   "name": "python",
   "nbconvert_exporter": "python",
   "pygments_lexer": "ipython3",
   "version": "3.6.7"
  }
 },
 "nbformat": 4,
 "nbformat_minor": 5
}
