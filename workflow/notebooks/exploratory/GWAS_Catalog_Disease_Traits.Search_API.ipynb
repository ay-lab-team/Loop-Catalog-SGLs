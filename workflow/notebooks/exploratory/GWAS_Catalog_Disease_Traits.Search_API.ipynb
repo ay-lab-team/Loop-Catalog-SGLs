{
 "cells": [
  {
   "cell_type": "code",
   "execution_count": 3,
   "id": "763b11f4",
   "metadata": {},
   "outputs": [
    {
     "name": "stdout",
     "output_type": "stream",
     "text": [
      "Writing GWAS_Catalog_Disease_Traits.Search_API.py\n"
     ]
    }
   ],
   "source": [
    "#%%writefile GWAS_Catalog_Disease_Traits.Search_API.py\n",
    "import os\n",
    "import pandas as pd\n",
    "import requests\n",
    "import numpy as np\n",
    "import sys\n",
    "\n",
    "os.chdir('/mnt/BioHome/jreyna/jreyna/projects/dchallenge/')\n",
    "outdir = 'results/notebooks/gwas_catalog_disease_traits'\n",
    "os.makedirs(outdir, exist_ok=True)\n",
    "\n",
    "in_fn = sys.argv[1]\n",
    "out_fn = sys.argv[2]\n",
    "\n",
    "with open(in_fn) as fr:\n",
    "    link_ids = fr.readlines()\n",
    "    link_ids = [x.strip() for x in link_ids]\n",
    "    \n",
    "disease_index = []\n",
    "for i, link_id in enumerate(link_ids):\n",
    "    \n",
    "    query = 'http://www.ebi.ac.uk/ols/api/terms?iri={}'.format(link_id)\n",
    "    req = requests.get(query)\n",
    "    json = req.json()\n",
    "    \n",
    "    terms = json['_embedded']['terms']\n",
    "    terms = str(terms)\n",
    "    \n",
    "    if s.find('disease'): \n",
    "        disease_index.append([link_id, 'disease'])\n",
    "    elif s.find('disorder'):\n",
    "        disease_index.append([link_id, 'disorder'])\n",
    "    else:\n",
    "        disease_index.append([link_id, 'other'])\n",
    "    \n",
    "with open(out_fn, 'w') as fw:\n",
    "    for x in disease_index:\n",
    "        fw.write('\\t'.join(x) + '\\n')"
   ]
  },
  {
   "cell_type": "code",
   "execution_count": null,
   "id": "45f5375c",
   "metadata": {},
   "outputs": [],
   "source": []
  }
 ],
 "metadata": {
  "kernelspec": {
   "display_name": "HiChIP DB",
   "language": "python",
   "name": "hichip-db"
  },
  "language_info": {
   "codemirror_mode": {
    "name": "ipython",
    "version": 3
   },
   "file_extension": ".py",
   "mimetype": "text/x-python",
   "name": "python",
   "nbconvert_exporter": "python",
   "pygments_lexer": "ipython3",
   "version": "3.10.2"
  }
 },
 "nbformat": 4,
 "nbformat_minor": 5
}
