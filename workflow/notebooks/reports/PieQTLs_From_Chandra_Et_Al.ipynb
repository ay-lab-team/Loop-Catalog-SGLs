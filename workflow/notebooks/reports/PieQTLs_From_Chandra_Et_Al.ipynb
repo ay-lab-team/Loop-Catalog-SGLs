{
 "cells": [
  {
   "cell_type": "code",
   "execution_count": 1,
   "id": "7b5ad180",
   "metadata": {},
   "outputs": [],
   "source": [
    "import os \n",
    "import pandas as pd\n",
    "import subprocess\n",
    "import glob\n",
    "import pybedtools as pbt \n",
    "pd.set_option('display.max_columns', None)\n",
    "\n",
    "pbt.set_bedtools_path('/mnt/BioApps/bedtools/bin/')\n",
    "\n",
    "os.chdir('/mnt/BioHome/jreyna/jreyna/projects/dchallenge/')\n",
    "\n",
    "# make the directory to save our data\n",
    "outdir = 'results/main/gwas_pieqtls/2021_chiou_et_al/2021_chandra_et_al/'\n",
    "os.makedirs(outdir, exist_ok=True)"
   ]
  },
  {
   "cell_type": "code",
   "execution_count": 2,
   "id": "a6ef0439",
   "metadata": {},
   "outputs": [],
   "source": [
    "gs_fn = 'results/refs/hg19/hg19.chrom.nochr.sizes'\n",
    "gencode_fn = 'results/refs/gencode/v30/gencode.v30.annotation.bed'\n",
    "gencode = pd.read_table(gencode_fn, header=None)\n",
    "gencode = gencode.drop_duplicates(5)\n",
    "gencode_dict = {k:v for k,v in gencode[[5,6]].values.tolist()} \n",
    "gencode_dict.update({v:k for k,v in gencode[[5,6]].values.tolist()})"
   ]
  },
  {
   "cell_type": "markdown",
   "id": "b981dcdf",
   "metadata": {},
   "source": [
    "## Load pieQTLs"
   ]
  },
  {
   "cell_type": "code",
   "execution_count": 60,
   "id": "6cd23b57",
   "metadata": {},
   "outputs": [
    {
     "name": "stdout",
     "output_type": "stream",
     "text": [
      "results/main/pieqtls/2021_chandra_et_al/B-cell_naive/proximal.pieqtls.tsv\n",
      "results/main/pieqtls/2021_chandra_et_al/NK-cell_naive/proximal.pieqtls.tsv\n",
      "results/main/pieqtls/2021_chandra_et_al/monocyte_naive/proximal.pieqtls.tsv\n",
      "results/main/pieqtls/2021_chandra_et_al/CD4_T-cell_naive/proximal.pieqtls.tsv\n",
      "results/main/pieqtls/2021_chandra_et_al/CD8_T-cell_naive/proximal.pieqtls.tsv\n"
     ]
    }
   ],
   "source": [
    "pieqtls = glob.glob('results/main/pieqtls/2021_chandra_et_al/*/proximal.pieqtls.tsv')\n",
    "\n",
    "pieqtl_data = []\n",
    "for pieqtl in pieqtls:\n",
    "    print(pieqtl)\n",
    "    \n",
    "    cline = pieqtl.split('/')[-2]\n",
    "    df = pd.read_table(pieqtl)    \n",
    "    df['cline'] = cline\n",
    "    pieqtl_data.append(df) \n",
    "\n",
    "pieqtl_df = pd.concat(pieqtl_data)\n",
    "pieqtl_df['Chromosome'] = pieqtl_df['Chromosome'].str.replace('chr', '').astype(int)"
   ]
  },
  {
   "cell_type": "markdown",
   "id": "2bf6ed1b",
   "metadata": {},
   "source": [
    "### Save an Excel File"
   ]
  },
  {
   "cell_type": "code",
   "execution_count": 63,
   "id": "7173e8c4",
   "metadata": {},
   "outputs": [],
   "source": [
    "pieqtl_df.loc[:, 'sid'] = pieqtl_df.loc[:, 'Chromosome'].astype(str) + ':' + pieqtl_df.loc[:, 'pieQTL.Position'].astype(str)"
   ]
  },
  {
   "cell_type": "code",
   "execution_count": 69,
   "id": "e19b0970",
   "metadata": {},
   "outputs": [],
   "source": [
    "sig_pieqtl_df = pieqtl_df[pieqtl_df['FDR (DICE)'] < 0.05]\n",
    "sig_pieqtl_df.loc[:, 'gene_id'] = sig_pieqtl_df.loc[:, 'Target_geneID'].replace('\\.[0-9]+', '', regex=True) \n",
    "#sig_pieqtl_df = sig_pieqtl_df[sig_pieqtl_df['Interaction_type'] == 'Direct_pieQTL']\n",
    "\n",
    "# find the unique SNPs\n",
    "uniq_snps_by_cells = sig_pieqtl_df.groupby('cline').sid.nunique()\n",
    "uniq_snps_by_cells = uniq_snps_by_cells.to_frame()\n",
    "\n",
    "# find the unique genes \n",
    "uniq_genes_by_cells = sig_pieqtl_df.groupby('cline').Target_geneID.nunique()\n",
    "uniq_genes_by_cells = uniq_genes_by_cells.to_frame()\n",
    "\n",
    "# merge snps and genes\n",
    "uniq_counts_by_cells = pd.merge(uniq_snps_by_cells, uniq_genes_by_cells, left_index=True, right_index=True)\n",
    "uniq_counts_by_cells.columns = ['Number of Unique SNPs', 'Number of Unique Genes']\n",
    "uniq_counts_by_cells.index.name = 'Cell Line'\n",
    "\n",
    "# save the file\n",
    "excel_analysis = os.path.join(outdir, 'Unique_Counts_By_Cell_Line.xlsx')\n",
    "uniq_counts_by_cells.to_excel(excel_analysis, sheet_name='pieqtls')"
   ]
  },
  {
   "cell_type": "code",
   "execution_count": 72,
   "id": "cb98962e",
   "metadata": {},
   "outputs": [
    {
     "data": {
      "text/html": [
       "<div>\n",
       "<style scoped>\n",
       "    .dataframe tbody tr th:only-of-type {\n",
       "        vertical-align: middle;\n",
       "    }\n",
       "\n",
       "    .dataframe tbody tr th {\n",
       "        vertical-align: top;\n",
       "    }\n",
       "\n",
       "    .dataframe thead th {\n",
       "        text-align: right;\n",
       "    }\n",
       "</style>\n",
       "<table border=\"1\" class=\"dataframe\">\n",
       "  <thead>\n",
       "    <tr style=\"text-align: right;\">\n",
       "      <th></th>\n",
       "      <th>Target_geneID</th>\n",
       "    </tr>\n",
       "    <tr>\n",
       "      <th>cline</th>\n",
       "      <th></th>\n",
       "    </tr>\n",
       "  </thead>\n",
       "  <tbody>\n",
       "    <tr>\n",
       "      <th>B-cell_naive</th>\n",
       "      <td>1233</td>\n",
       "    </tr>\n",
       "    <tr>\n",
       "      <th>CD4_T-cell_naive</th>\n",
       "      <td>1168</td>\n",
       "    </tr>\n",
       "    <tr>\n",
       "      <th>CD8_T-cell_naive</th>\n",
       "      <td>1081</td>\n",
       "    </tr>\n",
       "    <tr>\n",
       "      <th>NK-cell_naive</th>\n",
       "      <td>872</td>\n",
       "    </tr>\n",
       "    <tr>\n",
       "      <th>monocyte_naive</th>\n",
       "      <td>1065</td>\n",
       "    </tr>\n",
       "  </tbody>\n",
       "</table>\n",
       "</div>"
      ],
      "text/plain": [
       "                  Target_geneID\n",
       "cline                          \n",
       "B-cell_naive               1233\n",
       "CD4_T-cell_naive           1168\n",
       "CD8_T-cell_naive           1081\n",
       "NK-cell_naive               872\n",
       "monocyte_naive             1065"
      ]
     },
     "execution_count": 72,
     "metadata": {},
     "output_type": "execute_result"
    }
   ],
   "source": [
    "uniq_genes_by_cells"
   ]
  },
  {
   "cell_type": "markdown",
   "id": "a14cdfd4",
   "metadata": {},
   "source": [
    "#### Write the gene list as well"
   ]
  },
  {
   "cell_type": "code",
   "execution_count": 70,
   "id": "68269ed2",
   "metadata": {},
   "outputs": [],
   "source": [
    "gh_list = sig_pieqtl_df.gene_id.unique()\n",
    "gh_fn = os.path.join(outdir, 'gene_list.txt')\n",
    "with open(gh_fn, 'w') as fw:\n",
    "    for x in gh_list:\n",
    "        fw.write('{}\\n'.format(x))"
   ]
  }
 ],
 "metadata": {
  "kernelspec": {
   "display_name": "HiChIP DB",
   "language": "python",
   "name": "hichip-db"
  },
  "language_info": {
   "codemirror_mode": {
    "name": "ipython",
    "version": 3
   },
   "file_extension": ".py",
   "mimetype": "text/x-python",
   "name": "python",
   "nbconvert_exporter": "python",
   "pygments_lexer": "ipython3",
   "version": "3.10.2"
  }
 },
 "nbformat": 4,
 "nbformat_minor": 5
}
