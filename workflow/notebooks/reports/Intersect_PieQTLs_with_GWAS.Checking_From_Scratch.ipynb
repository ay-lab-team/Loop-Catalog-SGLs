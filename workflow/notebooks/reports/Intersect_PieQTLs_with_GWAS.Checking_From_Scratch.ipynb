{
 "cells": [
  {
   "cell_type": "code",
   "execution_count": 24,
   "id": "7b5ad180",
   "metadata": {},
   "outputs": [],
   "source": [
    "import os \n",
    "import pandas as pd\n",
    "import subprocess\n",
    "import glob\n",
    "import pybedtools as pbt \n",
    "pd.set_option('display.max_columns', None)\n",
    "\n",
    "pbt.set_bedtools_path('/mnt/BioApps/bedtools/bin/')\n",
    "\n",
    "os.chdir('/mnt/BioHome/jreyna/jreyna/projects/dchallenge/')\n",
    "\n",
    "genome_sizes = 'results/refs/hg19/hg19.chrom.sizes'\n",
    "\n",
    "# make the directory to save our data\n",
    "outdir = 'results/notebooks/Intersect_PieQTLs_with_T1D_Significant_GWAS_SNPs.Test/'\n",
    "os.makedirs(outdir, exist_ok=True)"
   ]
  },
  {
   "cell_type": "code",
   "execution_count": 25,
   "id": "a6ef0439",
   "metadata": {},
   "outputs": [],
   "source": [
    "gs_fn = 'results/refs/hg19/hg19.chrom.nochr.sizes'\n",
    "gencode_fn = 'results/refs/gencode/v30/gencode.v30.annotation.bed'\n",
    "gencode = pd.read_table(gencode_fn, header=None)\n",
    "gencode = gencode.drop_duplicates(5)\n",
    "gencode_dict = {k:v for k,v in gencode[[5,6]].values.tolist()} \n",
    "gencode_dict.update({v:k for k,v in gencode[[5,6]].values.tolist()})"
   ]
  },
  {
   "cell_type": "markdown",
   "id": "25ec296e",
   "metadata": {},
   "source": [
    "## Load Significant GWAS"
   ]
  },
  {
   "cell_type": "code",
   "execution_count": 26,
   "id": "44c1967f",
   "metadata": {},
   "outputs": [],
   "source": [
    "major_gwas = ['T1D_32005708', 'T1D_34594039_GCST90018925', 'T1D_34012112_Gaulton']"
   ]
  },
  {
   "cell_type": "code",
   "execution_count": 27,
   "id": "3be9cb20",
   "metadata": {},
   "outputs": [
    {
     "name": "stderr",
     "output_type": "stream",
     "text": [
      "/tmp/ipykernel_62437/915015123.py:18: SettingWithCopyWarning: \n",
      "A value is trying to be set on a copy of a slice from a DataFrame.\n",
      "Try using .loc[row_indexer,col_indexer] = value instead\n",
      "\n",
      "See the caveats in the documentation: https://pandas.pydata.org/pandas-docs/stable/user_guide/indexing.html#returning-a-view-versus-a-copy\n",
      "  gwas_bed['start'] = gwas_bed['start'] - 1\n"
     ]
    }
   ],
   "source": [
    "data = []\n",
    "gwas = 'results/main/coloc/Data/T1D_GWAS/*/GRCh37/GWAS_input_colocalization_pval_lt_5eMinus8.txt'\n",
    "for fn in glob.glob(gwas):\n",
    "    path_info = fn.split('/')\n",
    "    df = pd.read_table(fn)\n",
    "    \n",
    "    if path_info[5] not in major_gwas:\n",
    "        continue\n",
    "        \n",
    "    df['gwas_source'] = path_info[5]\n",
    "    data.append(df)    \n",
    "gwas_df = pd.concat(data)\n",
    "gwas_df['sid'] = gwas_df['CHR'].str.replace('chr', '') + ':' + gwas_df['POS'].astype(str)\n",
    "\n",
    "# loading finemap data into bedtools\n",
    "gwas_bed = gwas_df.iloc[:, [0,1,1]]\n",
    "gwas_bed.columns = ['chrom', 'start', 'end']\n",
    "gwas_bed['start'] = gwas_bed['start'] - 1\n",
    "gwas_pbt = pbt.BedTool.from_dataframe(gwas_bed)"
   ]
  },
  {
   "cell_type": "code",
   "execution_count": 28,
   "id": "f764c98f",
   "metadata": {},
   "outputs": [],
   "source": [
    "individual_gwas_studies = gwas_df.groupby('gwas_source').sid.nunique()\n",
    "individual_gwas_studies = individual_gwas_studies.to_frame()\n",
    "individual_gwas_studies.columns = ['Number of Sig. GWAS']"
   ]
  },
  {
   "cell_type": "code",
   "execution_count": 29,
   "id": "49f62c4b",
   "metadata": {},
   "outputs": [
    {
     "data": {
      "text/html": [
       "<div>\n",
       "<style scoped>\n",
       "    .dataframe tbody tr th:only-of-type {\n",
       "        vertical-align: middle;\n",
       "    }\n",
       "\n",
       "    .dataframe tbody tr th {\n",
       "        vertical-align: top;\n",
       "    }\n",
       "\n",
       "    .dataframe thead th {\n",
       "        text-align: right;\n",
       "    }\n",
       "</style>\n",
       "<table border=\"1\" class=\"dataframe\">\n",
       "  <thead>\n",
       "    <tr style=\"text-align: right;\">\n",
       "      <th></th>\n",
       "      <th>Number of Sig. GWAS</th>\n",
       "    </tr>\n",
       "    <tr>\n",
       "      <th>gwas_source</th>\n",
       "      <th></th>\n",
       "    </tr>\n",
       "  </thead>\n",
       "  <tbody>\n",
       "    <tr>\n",
       "      <th>T1D_32005708</th>\n",
       "      <td>21097</td>\n",
       "    </tr>\n",
       "    <tr>\n",
       "      <th>T1D_34012112_Gaulton</th>\n",
       "      <td>45798</td>\n",
       "    </tr>\n",
       "    <tr>\n",
       "      <th>T1D_34594039_GCST90018925</th>\n",
       "      <td>20419</td>\n",
       "    </tr>\n",
       "  </tbody>\n",
       "</table>\n",
       "</div>"
      ],
      "text/plain": [
       "                           Number of Sig. GWAS\n",
       "gwas_source                                   \n",
       "T1D_32005708                             21097\n",
       "T1D_34012112_Gaulton                     45798\n",
       "T1D_34594039_GCST90018925                20419"
      ]
     },
     "execution_count": 29,
     "metadata": {},
     "output_type": "execute_result"
    }
   ],
   "source": [
    "individual_gwas_studies"
   ]
  },
  {
   "cell_type": "markdown",
   "id": "b981dcdf",
   "metadata": {},
   "source": [
    "## Load pieQTLs"
   ]
  },
  {
   "cell_type": "code",
   "execution_count": 30,
   "id": "6cd23b57",
   "metadata": {},
   "outputs": [
    {
     "name": "stdout",
     "output_type": "stream",
     "text": [
      "results/main/pieqtls/2021_chandra_et_al/B-cell_naive/proximal.pieqtls.tsv\n",
      "results/main/pieqtls/2021_chandra_et_al/NK-cell_naive/proximal.pieqtls.tsv\n",
      "results/main/pieqtls/2021_chandra_et_al/monocyte_naive/proximal.pieqtls.tsv\n",
      "results/main/pieqtls/2021_chandra_et_al/CD4_T-cell_naive/proximal.pieqtls.tsv\n",
      "results/main/pieqtls/2021_chandra_et_al/CD8_T-cell_naive/proximal.pieqtls.tsv\n"
     ]
    }
   ],
   "source": [
    "pieqtls = glob.glob('results/main/pieqtls/2021_chandra_et_al/*/proximal.pieqtls.tsv')\n",
    "\n",
    "pieqtl_data = []\n",
    "for pieqtl in pieqtls:\n",
    "    print(pieqtl)\n",
    "    \n",
    "    cline = pieqtl.split('/')[-2]\n",
    "    df = pd.read_table(pieqtl)    \n",
    "    df['cline'] = cline\n",
    "    pieqtl_data.append(df) \n",
    "    \n",
    "pieqtl_df = pd.concat(pieqtl_data)\n",
    "pieqtl_df['Chromosome'] = pieqtl_df['Chromosome']\n",
    "pieqtl_df.loc[:, 'sid'] = pieqtl_df['Chromosome'].str.replace('chr', '') + ':' + \\\n",
    "                          pieqtl_df['pieQTL.Position'].astype(str)"
   ]
  },
  {
   "cell_type": "code",
   "execution_count": 31,
   "id": "458bce03",
   "metadata": {},
   "outputs": [
    {
     "data": {
      "text/html": [
       "<div>\n",
       "<style scoped>\n",
       "    .dataframe tbody tr th:only-of-type {\n",
       "        vertical-align: middle;\n",
       "    }\n",
       "\n",
       "    .dataframe tbody tr th {\n",
       "        vertical-align: top;\n",
       "    }\n",
       "\n",
       "    .dataframe thead th {\n",
       "        text-align: right;\n",
       "    }\n",
       "</style>\n",
       "<table border=\"1\" class=\"dataframe\">\n",
       "  <thead>\n",
       "    <tr style=\"text-align: right;\">\n",
       "      <th></th>\n",
       "      <th>Number of pieQTL Genes</th>\n",
       "    </tr>\n",
       "    <tr>\n",
       "      <th>cline</th>\n",
       "      <th></th>\n",
       "    </tr>\n",
       "  </thead>\n",
       "  <tbody>\n",
       "    <tr>\n",
       "      <th>B-cell_naive</th>\n",
       "      <td>1233</td>\n",
       "    </tr>\n",
       "    <tr>\n",
       "      <th>CD4_T-cell_naive</th>\n",
       "      <td>1168</td>\n",
       "    </tr>\n",
       "    <tr>\n",
       "      <th>CD8_T-cell_naive</th>\n",
       "      <td>1081</td>\n",
       "    </tr>\n",
       "    <tr>\n",
       "      <th>NK-cell_naive</th>\n",
       "      <td>872</td>\n",
       "    </tr>\n",
       "    <tr>\n",
       "      <th>monocyte_naive</th>\n",
       "      <td>1065</td>\n",
       "    </tr>\n",
       "  </tbody>\n",
       "</table>\n",
       "</div>"
      ],
      "text/plain": [
       "                  Number of pieQTL Genes\n",
       "cline                                   \n",
       "B-cell_naive                        1233\n",
       "CD4_T-cell_naive                    1168\n",
       "CD8_T-cell_naive                    1081\n",
       "NK-cell_naive                        872\n",
       "monocyte_naive                      1065"
      ]
     },
     "execution_count": 31,
     "metadata": {},
     "output_type": "execute_result"
    }
   ],
   "source": [
    "individual_cells = pieqtl_df.groupby('cline').Target_geneID.nunique()\n",
    "individual_cells = individual_cells.to_frame()\n",
    "individual_cells.columns = ['Number of pieQTL Genes']\n",
    "individual_cells"
   ]
  },
  {
   "cell_type": "code",
   "execution_count": 32,
   "id": "e781c384",
   "metadata": {},
   "outputs": [
    {
     "data": {
      "text/html": [
       "<div>\n",
       "<style scoped>\n",
       "    .dataframe tbody tr th:only-of-type {\n",
       "        vertical-align: middle;\n",
       "    }\n",
       "\n",
       "    .dataframe tbody tr th {\n",
       "        vertical-align: top;\n",
       "    }\n",
       "\n",
       "    .dataframe thead th {\n",
       "        text-align: right;\n",
       "    }\n",
       "</style>\n",
       "<table border=\"1\" class=\"dataframe\">\n",
       "  <thead>\n",
       "    <tr style=\"text-align: right;\">\n",
       "      <th></th>\n",
       "      <th>Number of pieQTL SNPs</th>\n",
       "    </tr>\n",
       "    <tr>\n",
       "      <th>cline</th>\n",
       "      <th></th>\n",
       "    </tr>\n",
       "  </thead>\n",
       "  <tbody>\n",
       "    <tr>\n",
       "      <th>B-cell_naive</th>\n",
       "      <td>8110</td>\n",
       "    </tr>\n",
       "    <tr>\n",
       "      <th>CD4_T-cell_naive</th>\n",
       "      <td>6800</td>\n",
       "    </tr>\n",
       "    <tr>\n",
       "      <th>CD8_T-cell_naive</th>\n",
       "      <td>5539</td>\n",
       "    </tr>\n",
       "    <tr>\n",
       "      <th>NK-cell_naive</th>\n",
       "      <td>5332</td>\n",
       "    </tr>\n",
       "    <tr>\n",
       "      <th>monocyte_naive</th>\n",
       "      <td>6006</td>\n",
       "    </tr>\n",
       "  </tbody>\n",
       "</table>\n",
       "</div>"
      ],
      "text/plain": [
       "                  Number of pieQTL SNPs\n",
       "cline                                  \n",
       "B-cell_naive                       8110\n",
       "CD4_T-cell_naive                   6800\n",
       "CD8_T-cell_naive                   5539\n",
       "NK-cell_naive                      5332\n",
       "monocyte_naive                     6006"
      ]
     },
     "execution_count": 32,
     "metadata": {},
     "output_type": "execute_result"
    }
   ],
   "source": [
    "individual_cells = pieqtl_df.groupby('cline').sid.nunique()\n",
    "individual_cells = individual_cells.to_frame()\n",
    "individual_cells.columns = ['Number of pieQTL SNPs']\n",
    "individual_cells"
   ]
  },
  {
   "cell_type": "code",
   "execution_count": 33,
   "id": "4fc67bca",
   "metadata": {},
   "outputs": [
    {
     "name": "stderr",
     "output_type": "stream",
     "text": [
      "/tmp/ipykernel_62437/2754423286.py:3: SettingWithCopyWarning: \n",
      "A value is trying to be set on a copy of a slice from a DataFrame.\n",
      "Try using .loc[row_indexer,col_indexer] = value instead\n",
      "\n",
      "See the caveats in the documentation: https://pandas.pydata.org/pandas-docs/stable/user_guide/indexing.html#returning-a-view-versus-a-copy\n",
      "  pieqtl_bed.loc[:, 'start'] = pieqtl_bed['start'] - 1\n"
     ]
    }
   ],
   "source": [
    "pieqtl_bed = pieqtl_df.iloc[:, [1,2,2,-1]]\n",
    "pieqtl_bed.columns = ['chrom', 'start', 'end', 'cline']\n",
    "pieqtl_bed.loc[:, 'start'] = pieqtl_bed['start'] - 1\n",
    "pieqtl_pbt = pbt.BedTool.from_dataframe(pieqtl_bed)"
   ]
  },
  {
   "cell_type": "code",
   "execution_count": 34,
   "id": "647a3492",
   "metadata": {},
   "outputs": [
    {
     "data": {
      "text/plain": [
       "(35898, 4)"
      ]
     },
     "execution_count": 34,
     "metadata": {},
     "output_type": "execute_result"
    }
   ],
   "source": [
    "pieqtl_bed.shape"
   ]
  },
  {
   "cell_type": "markdown",
   "id": "c4b1e34a",
   "metadata": {},
   "source": [
    "## Intersect pieQTLs and Sig GWAS"
   ]
  },
  {
   "cell_type": "code",
   "execution_count": 35,
   "id": "a27c887c",
   "metadata": {},
   "outputs": [],
   "source": [
    "major_cols = ['ge_source',\n",
    "              'rsid',\n",
    "             'chrom',\n",
    "             'pos',\n",
    "             'geneid',\n",
    "             'genename',\n",
    "             'allele1',\n",
    "             'allele2',\n",
    "             'maf',\n",
    "             'beta_x',\n",
    "             'se',\n",
    "             'z',\n",
    "             'prob',\n",
    "             'log10bf',\n",
    "             'mean',\n",
    "             'sd',\n",
    "             'mean_incl',\n",
    "             'sd_incl',\n",
    "             'pval',\n",
    "             'gwas_source',\n",
    "             'pieQTL.ID',\n",
    "             'Chromosome',\n",
    "             'pieQTL.Position',\n",
    "             'Target_geneName',\n",
    "             'TSS',\n",
    "             'pvalue',\n",
    "             'FDR (DICE)',\n",
    "             'beta_y',\n",
    "             'ref',\n",
    "             'alt',\n",
    "             'Mean.TPM.Homozygous.Reference',\n",
    "             'Mean.TPM.Heterozygous',\n",
    "             'Mean.TPM.Homozygous.Alternative',\n",
    "             'Interaction_type',\n",
    "             'GWAS.Trait',\n",
    "             'cline',\n",
    "             'regionID',\n",
    "             'GWASLoci',\n",
    "             'index']"
   ]
  },
  {
   "cell_type": "markdown",
   "id": "c1f24411",
   "metadata": {},
   "source": [
    "\n",
    "### Intersection"
   ]
  },
  {
   "cell_type": "code",
   "execution_count": 36,
   "id": "d411c0b6",
   "metadata": {},
   "outputs": [
    {
     "data": {
      "text/html": [
       "<div>\n",
       "<style scoped>\n",
       "    .dataframe tbody tr th:only-of-type {\n",
       "        vertical-align: middle;\n",
       "    }\n",
       "\n",
       "    .dataframe tbody tr th {\n",
       "        vertical-align: top;\n",
       "    }\n",
       "\n",
       "    .dataframe thead th {\n",
       "        text-align: right;\n",
       "    }\n",
       "</style>\n",
       "<table border=\"1\" class=\"dataframe\">\n",
       "  <thead>\n",
       "    <tr style=\"text-align: right;\">\n",
       "      <th></th>\n",
       "      <th>CHR</th>\n",
       "      <th>POS</th>\n",
       "      <th>BETA</th>\n",
       "      <th>SE</th>\n",
       "      <th>P</th>\n",
       "      <th>N</th>\n",
       "      <th>gwas_source</th>\n",
       "      <th>sid</th>\n",
       "    </tr>\n",
       "  </thead>\n",
       "  <tbody>\n",
       "    <tr>\n",
       "      <th>0</th>\n",
       "      <td>chr1</td>\n",
       "      <td>25293941</td>\n",
       "      <td>0.076575</td>\n",
       "      <td>0.013960</td>\n",
       "      <td>4.130000e-08</td>\n",
       "      <td>520580.0</td>\n",
       "      <td>T1D_34012112_Gaulton</td>\n",
       "      <td>1:25293941</td>\n",
       "    </tr>\n",
       "    <tr>\n",
       "      <th>1</th>\n",
       "      <td>chr1</td>\n",
       "      <td>25294607</td>\n",
       "      <td>0.077268</td>\n",
       "      <td>0.014040</td>\n",
       "      <td>3.730000e-08</td>\n",
       "      <td>520580.0</td>\n",
       "      <td>T1D_34012112_Gaulton</td>\n",
       "      <td>1:25294607</td>\n",
       "    </tr>\n",
       "    <tr>\n",
       "      <th>2</th>\n",
       "      <td>chr1</td>\n",
       "      <td>25294878</td>\n",
       "      <td>0.076429</td>\n",
       "      <td>0.013922</td>\n",
       "      <td>4.030000e-08</td>\n",
       "      <td>520580.0</td>\n",
       "      <td>T1D_34012112_Gaulton</td>\n",
       "      <td>1:25294878</td>\n",
       "    </tr>\n",
       "    <tr>\n",
       "      <th>3</th>\n",
       "      <td>chr1</td>\n",
       "      <td>25295580</td>\n",
       "      <td>0.076999</td>\n",
       "      <td>0.013951</td>\n",
       "      <td>3.400000e-08</td>\n",
       "      <td>520580.0</td>\n",
       "      <td>T1D_34012112_Gaulton</td>\n",
       "      <td>1:25295580</td>\n",
       "    </tr>\n",
       "    <tr>\n",
       "      <th>4</th>\n",
       "      <td>chr1</td>\n",
       "      <td>25296478</td>\n",
       "      <td>0.077267</td>\n",
       "      <td>0.014047</td>\n",
       "      <td>3.780000e-08</td>\n",
       "      <td>520580.0</td>\n",
       "      <td>T1D_34012112_Gaulton</td>\n",
       "      <td>1:25296478</td>\n",
       "    </tr>\n",
       "  </tbody>\n",
       "</table>\n",
       "</div>"
      ],
      "text/plain": [
       "    CHR       POS      BETA        SE             P         N  \\\n",
       "0  chr1  25293941  0.076575  0.013960  4.130000e-08  520580.0   \n",
       "1  chr1  25294607  0.077268  0.014040  3.730000e-08  520580.0   \n",
       "2  chr1  25294878  0.076429  0.013922  4.030000e-08  520580.0   \n",
       "3  chr1  25295580  0.076999  0.013951  3.400000e-08  520580.0   \n",
       "4  chr1  25296478  0.077267  0.014047  3.780000e-08  520580.0   \n",
       "\n",
       "            gwas_source         sid  \n",
       "0  T1D_34012112_Gaulton  1:25293941  \n",
       "1  T1D_34012112_Gaulton  1:25294607  \n",
       "2  T1D_34012112_Gaulton  1:25294878  \n",
       "3  T1D_34012112_Gaulton  1:25295580  \n",
       "4  T1D_34012112_Gaulton  1:25296478  "
      ]
     },
     "execution_count": 36,
     "metadata": {},
     "output_type": "execute_result"
    }
   ],
   "source": [
    "gwas_df.head()"
   ]
  },
  {
   "cell_type": "code",
   "execution_count": 37,
   "id": "d53a6693",
   "metadata": {},
   "outputs": [
    {
     "data": {
      "text/html": [
       "<div>\n",
       "<style scoped>\n",
       "    .dataframe tbody tr th:only-of-type {\n",
       "        vertical-align: middle;\n",
       "    }\n",
       "\n",
       "    .dataframe tbody tr th {\n",
       "        vertical-align: top;\n",
       "    }\n",
       "\n",
       "    .dataframe thead th {\n",
       "        text-align: right;\n",
       "    }\n",
       "</style>\n",
       "<table border=\"1\" class=\"dataframe\">\n",
       "  <thead>\n",
       "    <tr style=\"text-align: right;\">\n",
       "      <th></th>\n",
       "      <th>pieQTL.ID</th>\n",
       "      <th>Chromosome</th>\n",
       "      <th>pieQTL.Position</th>\n",
       "      <th>Target_geneID</th>\n",
       "      <th>Target_geneName</th>\n",
       "      <th>TSS</th>\n",
       "      <th>pvalue</th>\n",
       "      <th>FDR (DICE)</th>\n",
       "      <th>beta</th>\n",
       "      <th>ref</th>\n",
       "      <th>alt</th>\n",
       "      <th>Mean.TPM.Homozygous.Reference</th>\n",
       "      <th>Mean.TPM.Heterozygous</th>\n",
       "      <th>Mean.TPM.Homozygous.Alternative</th>\n",
       "      <th>Interaction_type</th>\n",
       "      <th>GWAS.Trait</th>\n",
       "      <th>cline</th>\n",
       "      <th>sid</th>\n",
       "    </tr>\n",
       "  </thead>\n",
       "  <tbody>\n",
       "    <tr>\n",
       "      <th>0</th>\n",
       "      <td>rs9488914</td>\n",
       "      <td>chr6</td>\n",
       "      <td>116690849</td>\n",
       "      <td>ENSG00000111817.12</td>\n",
       "      <td>DSE</td>\n",
       "      <td>116575336</td>\n",
       "      <td>1.340000e-29</td>\n",
       "      <td>5.210000e-24</td>\n",
       "      <td>-1.22</td>\n",
       "      <td>C</td>\n",
       "      <td>T</td>\n",
       "      <td>21.77</td>\n",
       "      <td>12.57</td>\n",
       "      <td>4.70</td>\n",
       "      <td>Direct_pieQTL</td>\n",
       "      <td></td>\n",
       "      <td>B-cell_naive</td>\n",
       "      <td>6:116690849</td>\n",
       "    </tr>\n",
       "    <tr>\n",
       "      <th>1</th>\n",
       "      <td>rs2304748</td>\n",
       "      <td>chr8</td>\n",
       "      <td>33369944</td>\n",
       "      <td>ENSG00000172728.11</td>\n",
       "      <td>FUT10</td>\n",
       "      <td>33330940</td>\n",
       "      <td>1.080000e-27</td>\n",
       "      <td>2.200000e-22</td>\n",
       "      <td>-1.26</td>\n",
       "      <td>T</td>\n",
       "      <td>C</td>\n",
       "      <td>5.24</td>\n",
       "      <td>3.01</td>\n",
       "      <td>1.16</td>\n",
       "      <td>Direct_pieQTL</td>\n",
       "      <td></td>\n",
       "      <td>B-cell_naive</td>\n",
       "      <td>8:33369944</td>\n",
       "    </tr>\n",
       "    <tr>\n",
       "      <th>2</th>\n",
       "      <td>rs2581897</td>\n",
       "      <td>chr8</td>\n",
       "      <td>33371146</td>\n",
       "      <td>ENSG00000172728.11</td>\n",
       "      <td>FUT10</td>\n",
       "      <td>33330940</td>\n",
       "      <td>1.080000e-27</td>\n",
       "      <td>2.200000e-22</td>\n",
       "      <td>-1.26</td>\n",
       "      <td>T</td>\n",
       "      <td>G</td>\n",
       "      <td>5.24</td>\n",
       "      <td>3.01</td>\n",
       "      <td>1.16</td>\n",
       "      <td>Direct_pieQTL</td>\n",
       "      <td></td>\n",
       "      <td>B-cell_naive</td>\n",
       "      <td>8:33371146</td>\n",
       "    </tr>\n",
       "    <tr>\n",
       "      <th>3</th>\n",
       "      <td>rs2581899</td>\n",
       "      <td>chr8</td>\n",
       "      <td>33371199</td>\n",
       "      <td>ENSG00000172728.11</td>\n",
       "      <td>FUT10</td>\n",
       "      <td>33330940</td>\n",
       "      <td>1.080000e-27</td>\n",
       "      <td>2.200000e-22</td>\n",
       "      <td>-1.26</td>\n",
       "      <td>T</td>\n",
       "      <td>C</td>\n",
       "      <td>5.24</td>\n",
       "      <td>3.01</td>\n",
       "      <td>1.16</td>\n",
       "      <td>Direct_pieQTL</td>\n",
       "      <td></td>\n",
       "      <td>B-cell_naive</td>\n",
       "      <td>8:33371199</td>\n",
       "    </tr>\n",
       "    <tr>\n",
       "      <th>4</th>\n",
       "      <td>rs2732288</td>\n",
       "      <td>chr8</td>\n",
       "      <td>33370757</td>\n",
       "      <td>ENSG00000172728.11</td>\n",
       "      <td>FUT10</td>\n",
       "      <td>33330940</td>\n",
       "      <td>1.080000e-27</td>\n",
       "      <td>2.200000e-22</td>\n",
       "      <td>-1.26</td>\n",
       "      <td>G</td>\n",
       "      <td>A</td>\n",
       "      <td>5.24</td>\n",
       "      <td>3.01</td>\n",
       "      <td>1.16</td>\n",
       "      <td>Direct_pieQTL</td>\n",
       "      <td></td>\n",
       "      <td>B-cell_naive</td>\n",
       "      <td>8:33370757</td>\n",
       "    </tr>\n",
       "  </tbody>\n",
       "</table>\n",
       "</div>"
      ],
      "text/plain": [
       "   pieQTL.ID Chromosome  pieQTL.Position       Target_geneID Target_geneName  \\\n",
       "0  rs9488914       chr6        116690849  ENSG00000111817.12             DSE   \n",
       "1  rs2304748       chr8         33369944  ENSG00000172728.11           FUT10   \n",
       "2  rs2581897       chr8         33371146  ENSG00000172728.11           FUT10   \n",
       "3  rs2581899       chr8         33371199  ENSG00000172728.11           FUT10   \n",
       "4  rs2732288       chr8         33370757  ENSG00000172728.11           FUT10   \n",
       "\n",
       "         TSS        pvalue    FDR (DICE)  beta ref alt  \\\n",
       "0  116575336  1.340000e-29  5.210000e-24 -1.22   C   T   \n",
       "1   33330940  1.080000e-27  2.200000e-22 -1.26   T   C   \n",
       "2   33330940  1.080000e-27  2.200000e-22 -1.26   T   G   \n",
       "3   33330940  1.080000e-27  2.200000e-22 -1.26   T   C   \n",
       "4   33330940  1.080000e-27  2.200000e-22 -1.26   G   A   \n",
       "\n",
       "   Mean.TPM.Homozygous.Reference  Mean.TPM.Heterozygous  \\\n",
       "0                          21.77                  12.57   \n",
       "1                           5.24                   3.01   \n",
       "2                           5.24                   3.01   \n",
       "3                           5.24                   3.01   \n",
       "4                           5.24                   3.01   \n",
       "\n",
       "   Mean.TPM.Homozygous.Alternative Interaction_type GWAS.Trait         cline  \\\n",
       "0                             4.70    Direct_pieQTL             B-cell_naive   \n",
       "1                             1.16    Direct_pieQTL             B-cell_naive   \n",
       "2                             1.16    Direct_pieQTL             B-cell_naive   \n",
       "3                             1.16    Direct_pieQTL             B-cell_naive   \n",
       "4                             1.16    Direct_pieQTL             B-cell_naive   \n",
       "\n",
       "           sid  \n",
       "0  6:116690849  \n",
       "1   8:33369944  \n",
       "2   8:33371146  \n",
       "3   8:33371199  \n",
       "4   8:33370757  "
      ]
     },
     "execution_count": 37,
     "metadata": {},
     "output_type": "execute_result"
    }
   ],
   "source": [
    "pieqtl_df.head()"
   ]
  },
  {
   "cell_type": "code",
   "execution_count": null,
   "id": "8b5724d4",
   "metadata": {},
   "outputs": [],
   "source": []
  },
  {
   "cell_type": "code",
   "execution_count": null,
   "id": "62d41bea",
   "metadata": {},
   "outputs": [],
   "source": []
  },
  {
   "cell_type": "code",
   "execution_count": 38,
   "id": "f7bceb8e",
   "metadata": {},
   "outputs": [],
   "source": [
    "m = gwas_df.merge(pieqtl_df, left_on=['CHR', 'POS'], right_on=['Chromosome', 'pieQTL.Position'])"
   ]
  },
  {
   "cell_type": "code",
   "execution_count": 39,
   "id": "fde35553",
   "metadata": {},
   "outputs": [
    {
     "data": {
      "text/plain": [
       "91"
      ]
     },
     "execution_count": 39,
     "metadata": {},
     "output_type": "execute_result"
    }
   ],
   "source": [
    "len(m.Target_geneID.unique())"
   ]
  },
  {
   "cell_type": "code",
   "execution_count": null,
   "id": "a9f49a11",
   "metadata": {},
   "outputs": [],
   "source": []
  },
  {
   "cell_type": "code",
   "execution_count": null,
   "id": "0eb7b9fa",
   "metadata": {},
   "outputs": [],
   "source": []
  },
  {
   "cell_type": "code",
   "execution_count": null,
   "id": "2b0b85ab",
   "metadata": {},
   "outputs": [],
   "source": []
  },
  {
   "cell_type": "code",
   "execution_count": null,
   "id": "29226804",
   "metadata": {},
   "outputs": [],
   "source": []
  },
  {
   "cell_type": "code",
   "execution_count": null,
   "id": "058cc636",
   "metadata": {},
   "outputs": [],
   "source": []
  },
  {
   "cell_type": "code",
   "execution_count": null,
   "id": "ad61a8be",
   "metadata": {},
   "outputs": [],
   "source": []
  },
  {
   "cell_type": "code",
   "execution_count": null,
   "id": "3751f892",
   "metadata": {},
   "outputs": [],
   "source": []
  },
  {
   "cell_type": "code",
   "execution_count": null,
   "id": "fd174b47",
   "metadata": {},
   "outputs": [],
   "source": []
  },
  {
   "cell_type": "code",
   "execution_count": null,
   "id": "d3305123",
   "metadata": {},
   "outputs": [],
   "source": []
  },
  {
   "cell_type": "code",
   "execution_count": null,
   "id": "fd87e0e3",
   "metadata": {},
   "outputs": [],
   "source": []
  },
  {
   "cell_type": "code",
   "execution_count": null,
   "id": "d25feb90",
   "metadata": {},
   "outputs": [],
   "source": []
  },
  {
   "cell_type": "code",
   "execution_count": null,
   "id": "f20b95e7",
   "metadata": {},
   "outputs": [],
   "source": []
  },
  {
   "cell_type": "code",
   "execution_count": null,
   "id": "9d739edc",
   "metadata": {},
   "outputs": [],
   "source": []
  },
  {
   "cell_type": "code",
   "execution_count": null,
   "id": "b524aa76",
   "metadata": {},
   "outputs": [],
   "source": []
  },
  {
   "cell_type": "code",
   "execution_count": null,
   "id": "6c6c3566",
   "metadata": {},
   "outputs": [],
   "source": []
  },
  {
   "cell_type": "code",
   "execution_count": null,
   "id": "d27102a0",
   "metadata": {},
   "outputs": [],
   "source": []
  },
  {
   "cell_type": "code",
   "execution_count": null,
   "id": "ed61dc7e",
   "metadata": {},
   "outputs": [],
   "source": []
  }
 ],
 "metadata": {
  "kernelspec": {
   "display_name": "HiChIP DB",
   "language": "python",
   "name": "hichip-db"
  },
  "language_info": {
   "codemirror_mode": {
    "name": "ipython",
    "version": 3
   },
   "file_extension": ".py",
   "mimetype": "text/x-python",
   "name": "python",
   "nbconvert_exporter": "python",
   "pygments_lexer": "ipython3",
   "version": "3.10.2"
  }
 },
 "nbformat": 4,
 "nbformat_minor": 5
}
