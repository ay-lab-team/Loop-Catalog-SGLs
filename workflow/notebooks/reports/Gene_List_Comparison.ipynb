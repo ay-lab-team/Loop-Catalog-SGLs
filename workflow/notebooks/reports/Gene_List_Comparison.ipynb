{
 "cells": [
  {
   "cell_type": "code",
   "execution_count": 93,
   "id": "64603581",
   "metadata": {},
   "outputs": [],
   "source": [
    "import os\n",
    "import pandas as pd \n",
    "import matplotlib.pyplot as plt\n",
    "from matplotlib_venn import venn2, venn3, venn3_circles"
   ]
  },
  {
   "cell_type": "code",
   "execution_count": 94,
   "id": "a85d869e",
   "metadata": {},
   "outputs": [],
   "source": [
    "os.chdir('/mnt/BioHome/jreyna/jreyna/projects/dchallenge/')"
   ]
  },
  {
   "cell_type": "code",
   "execution_count": 95,
   "id": "4b932175",
   "metadata": {},
   "outputs": [],
   "source": [
    "outdir = 'results/notebooks/gene_list_comparison/'\n",
    "os.makedirs(outdir, exist_ok=True)"
   ]
  },
  {
   "cell_type": "markdown",
   "id": "404f66b6",
   "metadata": {},
   "source": [
    "## First Analysis using PieQTLs WITHOUT SigGWAS Intersection"
   ]
  },
  {
   "cell_type": "markdown",
   "id": "4be39fcc",
   "metadata": {},
   "source": [
    "### Joining the Summary Tables"
   ]
  },
  {
   "cell_type": "code",
   "execution_count": 176,
   "id": "203e556d",
   "metadata": {},
   "outputs": [],
   "source": [
    "join_fn = os.path.join(outdir, 'Unique_Genes_And_SNPs.xlsx')\n",
    "writer = pd.ExcelWriter(join_fn, engine='xlsxwriter', )"
   ]
  },
  {
   "cell_type": "code",
   "execution_count": 173,
   "id": "c30625d7",
   "metadata": {},
   "outputs": [],
   "source": [
    "# finemapping\n",
    "finemap_summary = 'results/main/intersect_t1d_gwas_hichip/Unique_Counts_By_Cell_Line.xlsx'\n",
    "finemap_summary = pd.read_excel(finemap_summary)\n",
    "finemap_summary.columns = ['Cell Line', 'SNPs', 'Genes']\n",
    "\n",
    "# colocalization\n",
    "coloc_summary = 'results/notebooks/colocalization_with_eqtl_catalogue/Unique_Counts_By_Cell_Line.xlsx'\n",
    "coloc_summary = pd.read_excel(coloc_summary)\n",
    "coloc_summary.columns = ['Cell Line', 'SNPs', 'Genes']\n",
    "\n",
    "# pieqtls\n",
    "pieqtls_summary = 'results/main/gwas_pieqtls/2021_chiou_et_al/2021_chandra_et_al/Unique_Counts_By_Cell_Line.xlsx'\n",
    "pieqtls_summary = pd.read_excel(pieqtls_summary)\n",
    "pieqtls_summary.columns = ['Cell Line', 'SNPs', 'Genes']"
   ]
  },
  {
   "cell_type": "code",
   "execution_count": 174,
   "id": "895e83b0",
   "metadata": {},
   "outputs": [],
   "source": [
    "finemap_summary.to_excel(writer, index=False, sheet_name='finemapping')\n",
    "coloc_summary.to_excel(writer, index=False, sheet_name='colocalization')\n",
    "pieqtls_summary.to_excel(writer, index=False, sheet_name='pieqtls')"
   ]
  },
  {
   "cell_type": "code",
   "execution_count": 175,
   "id": "f4acfc29",
   "metadata": {},
   "outputs": [],
   "source": [
    "writer.save()"
   ]
  },
  {
   "cell_type": "markdown",
   "id": "eef12217",
   "metadata": {},
   "source": [
    "### Making the venn diagram"
   ]
  },
  {
   "cell_type": "code",
   "execution_count": 100,
   "id": "f583370f",
   "metadata": {},
   "outputs": [],
   "source": [
    "finemap_genes = 'results/main/intersect_t1d_gwas_hichip/gene_list.txt'\n",
    "finemap_genes = pd.read_table(finemap_genes, header=None).squeeze('columns').tolist()"
   ]
  },
  {
   "cell_type": "code",
   "execution_count": 101,
   "id": "ae8f9dc8",
   "metadata": {},
   "outputs": [],
   "source": [
    "coloc_genes = 'results/notebooks/colocalization_with_eqtl_catalogue/gene_list.txt'\n",
    "coloc_genes = pd.read_table(coloc_genes, header=None).squeeze('columns').tolist()"
   ]
  },
  {
   "cell_type": "code",
   "execution_count": 135,
   "id": "f272e11d",
   "metadata": {},
   "outputs": [],
   "source": [
    "pieqtls_genes = 'results/main/gwas_pieqtls/2021_chiou_et_al/2021_chandra_et_al/gene_list.txt'\n",
    "pieqtls_genes = pd.read_table(pieqtls_genes, header=None).squeeze('columns').tolist()"
   ]
  },
  {
   "cell_type": "code",
   "execution_count": 206,
   "id": "e3a41511",
   "metadata": {},
   "outputs": [
    {
     "data": {
      "text/plain": [
       "['ENSG00000003056',\n",
       " 'ENSG00000026950',\n",
       " 'ENSG00000073605',\n",
       " 'ENSG00000089022',\n",
       " 'ENSG00000090104',\n",
       " 'ENSG00000103811',\n",
       " 'ENSG00000105287',\n",
       " 'ENSG00000112182',\n",
       " 'ENSG00000112763',\n",
       " 'ENSG00000124508',\n",
       " 'ENSG00000124549',\n",
       " 'ENSG00000134242',\n",
       " 'ENSG00000137185',\n",
       " 'ENSG00000137310',\n",
       " 'ENSG00000137312',\n",
       " 'ENSG00000137411',\n",
       " 'ENSG00000139531',\n",
       " 'ENSG00000142686',\n",
       " 'ENSG00000146112',\n",
       " 'ENSG00000160183',\n",
       " 'ENSG00000172057',\n",
       " 'ENSG00000173064',\n",
       " 'ENSG00000175643',\n",
       " 'ENSG00000178562',\n",
       " 'ENSG00000182952',\n",
       " 'ENSG00000183386',\n",
       " 'ENSG00000183431',\n",
       " 'ENSG00000186075',\n",
       " 'ENSG00000186470',\n",
       " 'ENSG00000187626',\n",
       " 'ENSG00000187987',\n",
       " 'ENSG00000196230',\n",
       " 'ENSG00000197062',\n",
       " 'ENSG00000197279',\n",
       " 'ENSG00000197375',\n",
       " 'ENSG00000198270',\n",
       " 'ENSG00000199332',\n",
       " 'ENSG00000201207',\n",
       " 'ENSG00000204220',\n",
       " 'ENSG00000204267',\n",
       " 'ENSG00000204290',\n",
       " 'ENSG00000204296',\n",
       " 'ENSG00000204351',\n",
       " 'ENSG00000204387',\n",
       " 'ENSG00000204410',\n",
       " 'ENSG00000204428',\n",
       " 'ENSG00000204435',\n",
       " 'ENSG00000204439',\n",
       " 'ENSG00000204463',\n",
       " 'ENSG00000204469',\n",
       " 'ENSG00000204472',\n",
       " 'ENSG00000204475',\n",
       " 'ENSG00000204482',\n",
       " 'ENSG00000204516',\n",
       " 'ENSG00000204520',\n",
       " 'ENSG00000204536',\n",
       " 'ENSG00000204560',\n",
       " 'ENSG00000204564',\n",
       " 'ENSG00000204568',\n",
       " 'ENSG00000204590',\n",
       " 'ENSG00000204618',\n",
       " 'ENSG00000204623',\n",
       " 'ENSG00000204644',\n",
       " 'ENSG00000204713',\n",
       " 'ENSG00000204842',\n",
       " 'ENSG00000206344',\n",
       " 'ENSG00000213925',\n",
       " 'ENSG00000214401',\n",
       " 'ENSG00000220201',\n",
       " 'ENSG00000221988',\n",
       " 'ENSG00000224791',\n",
       " 'ENSG00000224796',\n",
       " 'ENSG00000225864',\n",
       " 'ENSG00000226314',\n",
       " 'ENSG00000227057',\n",
       " 'ENSG00000227262',\n",
       " 'ENSG00000228962',\n",
       " 'ENSG00000230313',\n",
       " 'ENSG00000230521',\n",
       " 'ENSG00000231074',\n",
       " 'ENSG00000233916',\n",
       " 'ENSG00000234127',\n",
       " 'ENSG00000235821',\n",
       " 'ENSG00000236935',\n",
       " 'ENSG00000237669',\n",
       " 'ENSG00000240053',\n",
       " 'ENSG00000256582',\n",
       " 'ENSG00000260302',\n",
       " 'ENSG00000261353',\n",
       " 'ENSG00000262703',\n",
       " 'ENSG00000264070',\n",
       " 'ENSG00000271821',\n",
       " 'ENSG00000272221',\n",
       " 'ENSG00000272501']"
      ]
     },
     "execution_count": 206,
     "metadata": {},
     "output_type": "execute_result"
    }
   ],
   "source": [
    "pieqtls_genes"
   ]
  },
  {
   "cell_type": "code",
   "execution_count": null,
   "id": "ef020007",
   "metadata": {},
   "outputs": [],
   "source": []
  },
  {
   "cell_type": "code",
   "execution_count": null,
   "id": "0a28d264",
   "metadata": {},
   "outputs": [],
   "source": []
  },
  {
   "cell_type": "code",
   "execution_count": null,
   "id": "3b39a4f6",
   "metadata": {},
   "outputs": [],
   "source": []
  },
  {
   "cell_type": "code",
   "execution_count": 136,
   "id": "87ae5a9b",
   "metadata": {},
   "outputs": [
    {
     "data": {
      "text/plain": [
       "<matplotlib_venn._common.VennDiagram at 0x7efde19ebb80>"
      ]
     },
     "execution_count": 136,
     "metadata": {},
     "output_type": "execute_result"
    },
    {
     "data": {
      "image/png": "[encoded data removed]",
      "text/plain": [
       "<Figure size 432x288 with 1 Axes>"
      ]
     },
     "metadata": {},
     "output_type": "display_data"
    }
   ],
   "source": [
    "venn3([set(finemap_genes), set(coloc_genes), set(pieqtls_genes)], set_labels=['Finemapped-SNPs\\n+ Loops',\n",
    "                                                                             'Colocalized',\n",
    "                                                                             'pieQTL-Linked'])"
   ]
  },
  {
   "cell_type": "code",
   "execution_count": 137,
   "id": "b01c3bbf",
   "metadata": {},
   "outputs": [
    {
     "data": {
      "text/plain": [
       "<matplotlib_venn._common.VennDiagram at 0x7efde183f3a0>"
      ]
     },
     "execution_count": 137,
     "metadata": {},
     "output_type": "execute_result"
    },
    {
     "data": {
      "image/png": "[encoded data removed]",
      "text/plain": [
       "<Figure size 432x288 with 1 Axes>"
      ]
     },
     "metadata": {},
     "output_type": "display_data"
    }
   ],
   "source": [
    "venn2([set(finemap_genes), set(coloc_genes)], set_labels=['Finemapped-SNPs\\n+ Loops',\n",
    "                                                          'Colocalized'])"
   ]
  },
  {
   "cell_type": "code",
   "execution_count": 138,
   "id": "43fe3679",
   "metadata": {},
   "outputs": [
    {
     "data": {
      "text/plain": [
       "<matplotlib_venn._common.VennDiagram at 0x7efde1c1b730>"
      ]
     },
     "execution_count": 138,
     "metadata": {},
     "output_type": "execute_result"
    },
    {
     "data": {
      "image/png": "[encoded data removed]",
      "text/plain": [
       "<Figure size 432x288 with 1 Axes>"
      ]
     },
     "metadata": {},
     "output_type": "display_data"
    }
   ],
   "source": [
    "venn2([set(pieqtls_genes), set(finemap_genes)], set_labels=['pieQTL-Linked', 'Finemapped-SNPs\\n+ Loops'])"
   ]
  },
  {
   "cell_type": "code",
   "execution_count": 139,
   "id": "1c6bfaaa",
   "metadata": {},
   "outputs": [
    {
     "data": {
      "text/plain": [
       "<matplotlib_venn._common.VennDiagram at 0x7efde18f18a0>"
      ]
     },
     "execution_count": 139,
     "metadata": {},
     "output_type": "execute_result"
    },
    {
     "data": {
      "image/png": "[encoded data removed]",
      "text/plain": [
       "<Figure size 432x288 with 1 Axes>"
      ]
     },
     "metadata": {},
     "output_type": "display_data"
    }
   ],
   "source": [
    "venn2([set(pieqtls_genes), set(coloc_genes)], set_labels=['pieQTL-Linked', 'Colocalized'])"
   ]
  },
  {
   "cell_type": "markdown",
   "id": "a1bf16da",
   "metadata": {},
   "source": [
    "## Second Analysis using PieQTLs WITH SigGWAS Intersection"
   ]
  },
  {
   "cell_type": "code",
   "execution_count": 194,
   "id": "eff5da6d",
   "metadata": {},
   "outputs": [],
   "source": [
    "join_fn = os.path.join(outdir, 'Unique_Genes_And_SNPs.redo.xlsx')\n",
    "writer = pd.ExcelWriter(join_fn, engine='xlsxwriter')"
   ]
  },
  {
   "cell_type": "code",
   "execution_count": 195,
   "id": "4941f068",
   "metadata": {},
   "outputs": [],
   "source": [
    "# finemapping\n",
    "finemap_summary = 'results/main/intersect_t1d_gwas_hichip/Unique_Counts_By_Cell_Line.xlsx'\n",
    "finemap_summary = pd.read_excel(finemap_summary)\n",
    "finemap_summary.columns = ['Cell Line', 'SNPs', 'Genes']\n",
    "\n",
    "# colocalization\n",
    "coloc_summary = 'results/main/sgls/combined/Unique_Counts_By_Cell_Line.xlsx'\n",
    "coloc_summary = pd.read_excel(coloc_summary)\n",
    "coloc_summary.columns = ['Cell Line', 'SNPs', 'Genes']\n",
    "\n",
    "# pieqtls\n",
    "pieqtls_summary = 'results/notebooks/Intersect_T1D_Significant_GWAS_with_PieQTLs/Unique_Counts_By_Cell_Line.xlsx'\n",
    "pieqtls_summary = pd.read_excel(pieqtls_summary)\n",
    "pieqtls_summary.columns = ['Cell Line', 'SNPs', 'Genes']"
   ]
  },
  {
   "cell_type": "code",
   "execution_count": 196,
   "id": "b2b93290",
   "metadata": {},
   "outputs": [],
   "source": [
    "finemap_summary.to_excel(writer, index=False, sheet_name='finemapping')\n",
    "coloc_summary.to_excel(writer, index=False, sheet_name='colocalization')\n",
    "pieqtls_summary.to_excel(writer, index=False, sheet_name='pieqtls')"
   ]
  },
  {
   "cell_type": "code",
   "execution_count": 197,
   "id": "ff5b0080",
   "metadata": {},
   "outputs": [],
   "source": [
    "writer.save()"
   ]
  },
  {
   "cell_type": "markdown",
   "id": "447f8f03",
   "metadata": {},
   "source": [
    "### Making the venn diagram"
   ]
  },
  {
   "cell_type": "code",
   "execution_count": 198,
   "id": "2d04908a",
   "metadata": {},
   "outputs": [],
   "source": [
    "finemap_genes = 'results/main/intersect_t1d_gwas_hichip/gene_list.txt'\n",
    "finemap_genes = pd.read_table(finemap_genes, header=None).squeeze('columns').tolist()"
   ]
  },
  {
   "cell_type": "code",
   "execution_count": 199,
   "id": "4def984f",
   "metadata": {},
   "outputs": [],
   "source": [
    "coloc_genes = 'results/main/sgls/combined/gene_list.txt'\n",
    "coloc_genes = pd.read_table(coloc_genes, header=None).squeeze('columns').tolist()"
   ]
  },
  {
   "cell_type": "code",
   "execution_count": 200,
   "id": "3c61e9cb",
   "metadata": {},
   "outputs": [],
   "source": [
    "pieqtls_genes = 'results/notebooks/Intersect_T1D_Significant_GWAS_with_PieQTLs/gene_list.txt'\n",
    "pieqtls_genes = pd.read_table(pieqtls_genes, header=None).squeeze('columns').tolist()"
   ]
  },
  {
   "cell_type": "code",
   "execution_count": null,
   "id": "1e8b93f6",
   "metadata": {},
   "outputs": [],
   "source": []
  },
  {
   "cell_type": "code",
   "execution_count": null,
   "id": "d5309899",
   "metadata": {},
   "outputs": [],
   "source": []
  },
  {
   "cell_type": "code",
   "execution_count": null,
   "id": "f235514b",
   "metadata": {},
   "outputs": [],
   "source": []
  },
  {
   "cell_type": "code",
   "execution_count": null,
   "id": "01eca63c",
   "metadata": {},
   "outputs": [],
   "source": []
  },
  {
   "cell_type": "code",
   "execution_count": null,
   "id": "2df559ef",
   "metadata": {},
   "outputs": [],
   "source": []
  },
  {
   "cell_type": "code",
   "execution_count": 201,
   "id": "eaaec0b3",
   "metadata": {},
   "outputs": [],
   "source": [
    "finemap_label = 'Finemapped-SNPs\\n+ Loops'\n",
    "coloc_label = 'Colocalized\\n+ Loops'\n",
    "pieqtl_label = 'pieQTL-Linked \\n+ Sig.GWAS'"
   ]
  },
  {
   "cell_type": "code",
   "execution_count": 202,
   "id": "c5cec227",
   "metadata": {},
   "outputs": [
    {
     "data": {
      "image/png": "[encoded data removed]",
      "text/plain": [
       "<Figure size 432x288 with 1 Axes>"
      ]
     },
     "metadata": {},
     "output_type": "display_data"
    }
   ],
   "source": [
    "fig, ax = plt.subplots()\n",
    "venn3([set(finemap_genes), set(coloc_genes), set(pieqtls_genes)], set_labels=[finemap_label,\n",
    "                                                                             coloc_label,\n",
    "                                                                             pieqtl_label])\n",
    "\n",
    "fn = os.path.join(outdir, 'threeway_comparison.png')\n",
    "fig.savefig(fn, dpi=600)"
   ]
  },
  {
   "cell_type": "code",
   "execution_count": 203,
   "id": "0547753e",
   "metadata": {},
   "outputs": [
    {
     "data": {
      "image/png": "[encoded data removed]",
      "text/plain": [
       "<Figure size 432x288 with 1 Axes>"
      ]
     },
     "metadata": {},
     "output_type": "display_data"
    }
   ],
   "source": [
    "fig, ax = plt.subplots()\n",
    "venn2([set(finemap_genes), set(coloc_genes)], set_labels=[finemap_label,\n",
    "                                                          coloc_label])\n",
    "fn = os.path.join(outdir, 'two_comparison.finemap.coloc.png')\n",
    "fig.savefig(fn, dpi=600)"
   ]
  },
  {
   "cell_type": "code",
   "execution_count": 204,
   "id": "b532333a",
   "metadata": {},
   "outputs": [
    {
     "data": {
      "image/png": "[encoded data removed]",
      "text/plain": [
       "<Figure size 432x288 with 1 Axes>"
      ]
     },
     "metadata": {},
     "output_type": "display_data"
    }
   ],
   "source": [
    "fig, ax = plt.subplots()\n",
    "\n",
    "venn2([set(pieqtls_genes), set(finemap_genes)], set_labels=[pieqtl_label, finemap_label])\n",
    "\n",
    "fn = os.path.join(outdir, 'two_comparison.finemap.pieqtl.png')\n",
    "fig.savefig(fn, dpi=600)"
   ]
  },
  {
   "cell_type": "code",
   "execution_count": 205,
   "id": "52adc381",
   "metadata": {},
   "outputs": [
    {
     "data": {
      "image/png": "[encoded data removed]",
      "text/plain": [
       "<Figure size 432x288 with 1 Axes>"
      ]
     },
     "metadata": {},
     "output_type": "display_data"
    }
   ],
   "source": [
    "fig, ax = plt.subplots()\n",
    "\n",
    "venn2([set(pieqtls_genes), set(coloc_genes)], set_labels=[pieqtl_label, coloc_label])\n",
    "\n",
    "fn = os.path.join(outdir, 'two_comparison.coloc.pieqtl.png')\n",
    "fig.savefig(fn, dpi=600)"
   ]
  },
  {
   "cell_type": "code",
   "execution_count": null,
   "id": "1c2ea696",
   "metadata": {},
   "outputs": [],
   "source": []
  },
  {
   "cell_type": "code",
   "execution_count": null,
   "id": "ad296075",
   "metadata": {},
   "outputs": [],
   "source": []
  },
  {
   "cell_type": "code",
   "execution_count": null,
   "id": "2bcfbfc0",
   "metadata": {},
   "outputs": [],
   "source": []
  },
  {
   "cell_type": "code",
   "execution_count": null,
   "id": "e524e6b6",
   "metadata": {},
   "outputs": [],
   "source": []
  }
 ],
 "metadata": {
  "kernelspec": {
   "display_name": "HiChIP DB",
   "language": "python",
   "name": "hichip-db"
  },
  "language_info": {
   "codemirror_mode": {
    "name": "ipython",
    "version": 3
   },
   "file_extension": ".py",
   "mimetype": "text/x-python",
   "name": "python",
   "nbconvert_exporter": "python",
   "pygments_lexer": "ipython3",
   "version": "3.10.2"
  }
 },
 "nbformat": 4,
 "nbformat_minor": 5
}
