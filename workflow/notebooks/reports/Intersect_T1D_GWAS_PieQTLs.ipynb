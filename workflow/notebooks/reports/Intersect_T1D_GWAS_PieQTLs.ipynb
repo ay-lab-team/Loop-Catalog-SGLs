{
 "cells": [
  {
   "cell_type": "code",
   "execution_count": 14,
   "id": "7b5ad180",
   "metadata": {},
   "outputs": [],
   "source": [
    "import os \n",
    "import pandas as pd\n",
    "import subprocess\n",
    "import glob\n",
    "import pybedtools as pbt \n",
    "\n",
    "pbt.set_bedtools_path('/mnt/BioApps/bedtools/bin/')\n",
    "\n",
    "os.chdir('/mnt/BioHome/jreyna/jreyna/projects/dchallenge/')\n",
    "\n",
    "# make the directory to save our data\n",
    "outdir = 'results/main/gwas_pieqtls/2021_chiou_et_al/2021_chandra_et_al/'\n",
    "os.makedirs(outdir, exist_ok=True)"
   ]
  },
  {
   "cell_type": "markdown",
   "id": "25ec296e",
   "metadata": {},
   "source": [
    "## Load Fine Mapped GWAS"
   ]
  },
  {
   "cell_type": "code",
   "execution_count": 15,
   "id": "60271124",
   "metadata": {},
   "outputs": [],
   "source": [
    "gwas = 'results/main/gwas/2021_chiou_et_al/gwas.finemapping.supp_table3.tsv'\n",
    "gwas_df = pd.read_table(gwas)\n",
    "\n",
    "gwas_df['Chrom.'] = gwas_df['Chrom.'].astype(int).astype(str) \n",
    "gwas_df['Position (hg19)'] = gwas_df['Position (hg19)'].astype(int)\n",
    "gwas_df['Position (hg38)'] = gwas_df['Position (hg38)'].astype(int)"
   ]
  },
  {
   "cell_type": "code",
   "execution_count": 16,
   "id": "af210fe4",
   "metadata": {},
   "outputs": [
    {
     "name": "stderr",
     "output_type": "stream",
     "text": [
      "/tmp/ipykernel_56077/3287974064.py:4: SettingWithCopyWarning: \n",
      "A value is trying to be set on a copy of a slice from a DataFrame.\n",
      "Try using .loc[row_indexer,col_indexer] = value instead\n",
      "\n",
      "See the caveats in the documentation: https://pandas.pydata.org/pandas-docs/stable/user_guide/indexing.html#returning-a-view-versus-a-copy\n",
      "  gwas_bed['start'] = gwas_bed['start'] - 1\n"
     ]
    }
   ],
   "source": [
    "gwas_bed = gwas_df.iloc[:, [1,2,2]]\n",
    "#gwas_bed = gwas_df.iloc[:, [1,3,3]]\n",
    "gwas_bed.columns = ['chrom', 'start', 'end']\n",
    "gwas_bed['start'] = gwas_bed['start'] - 1"
   ]
  },
  {
   "cell_type": "code",
   "execution_count": 17,
   "id": "e4fddbc7",
   "metadata": {},
   "outputs": [
    {
     "data": {
      "text/html": [
       "<div>\n",
       "<style scoped>\n",
       "    .dataframe tbody tr th:only-of-type {\n",
       "        vertical-align: middle;\n",
       "    }\n",
       "\n",
       "    .dataframe tbody tr th {\n",
       "        vertical-align: top;\n",
       "    }\n",
       "\n",
       "    .dataframe thead th {\n",
       "        text-align: right;\n",
       "    }\n",
       "</style>\n",
       "<table border=\"1\" class=\"dataframe\">\n",
       "  <thead>\n",
       "    <tr style=\"text-align: right;\">\n",
       "      <th></th>\n",
       "      <th>Marker</th>\n",
       "      <th>Chrom.</th>\n",
       "      <th>Position (hg19)</th>\n",
       "      <th>Position (hg38)</th>\n",
       "      <th>Allele Ref.</th>\n",
       "      <th>Alt.</th>\n",
       "      <th>Signal name</th>\n",
       "      <th>Alt.AF</th>\n",
       "      <th>PPA</th>\n",
       "      <th>Previous studies Index (r2)</th>\n",
       "      <th>PMID</th>\n",
       "    </tr>\n",
       "  </thead>\n",
       "  <tbody>\n",
       "    <tr>\n",
       "      <th>0</th>\n",
       "      <td>rs10751776</td>\n",
       "      <td>1</td>\n",
       "      <td>25296743</td>\n",
       "      <td>24970252</td>\n",
       "      <td>A</td>\n",
       "      <td>C</td>\n",
       "      <td>RUNX3 (1:25296743:A:C)</td>\n",
       "      <td>0.509915</td>\n",
       "      <td>0.040594</td>\n",
       "      <td>NaN</td>\n",
       "      <td>NaN</td>\n",
       "    </tr>\n",
       "    <tr>\n",
       "      <th>1</th>\n",
       "      <td>rs574384</td>\n",
       "      <td>1</td>\n",
       "      <td>36087661</td>\n",
       "      <td>35622060</td>\n",
       "      <td>C</td>\n",
       "      <td>A</td>\n",
       "      <td>PSMB2 (1:36087661:C:A)</td>\n",
       "      <td>0.894668</td>\n",
       "      <td>0.195293</td>\n",
       "      <td>NaN</td>\n",
       "      <td>NaN</td>\n",
       "    </tr>\n",
       "    <tr>\n",
       "      <th>2</th>\n",
       "      <td>rs12742756</td>\n",
       "      <td>1</td>\n",
       "      <td>38347417</td>\n",
       "      <td>37881745</td>\n",
       "      <td>A</td>\n",
       "      <td>G</td>\n",
       "      <td>INPP5B (1:38347417:A:G)</td>\n",
       "      <td>0.428204</td>\n",
       "      <td>0.070499</td>\n",
       "      <td>NaN</td>\n",
       "      <td>NaN</td>\n",
       "    </tr>\n",
       "    <tr>\n",
       "      <th>3</th>\n",
       "      <td>rs855330</td>\n",
       "      <td>1</td>\n",
       "      <td>64113889</td>\n",
       "      <td>63648218</td>\n",
       "      <td>T</td>\n",
       "      <td>C</td>\n",
       "      <td>PGM1 (1:64113889:T:C)</td>\n",
       "      <td>0.259422</td>\n",
       "      <td>0.161160</td>\n",
       "      <td>NaN</td>\n",
       "      <td>NaN</td>\n",
       "    </tr>\n",
       "    <tr>\n",
       "      <th>4</th>\n",
       "      <td>rs150709401</td>\n",
       "      <td>1</td>\n",
       "      <td>114135880</td>\n",
       "      <td>113593258</td>\n",
       "      <td>A</td>\n",
       "      <td>G</td>\n",
       "      <td>PTPN22 (1:114135880:A:G)</td>\n",
       "      <td>0.009602</td>\n",
       "      <td>0.257619</td>\n",
       "      <td>NaN</td>\n",
       "      <td>NaN</td>\n",
       "    </tr>\n",
       "  </tbody>\n",
       "</table>\n",
       "</div>"
      ],
      "text/plain": [
       "        Marker Chrom.  Position (hg19)  Position (hg38) Allele Ref. Alt.  \\\n",
       "0   rs10751776      1         25296743         24970252           A    C   \n",
       "1     rs574384      1         36087661         35622060           C    A   \n",
       "2   rs12742756      1         38347417         37881745           A    G   \n",
       "3     rs855330      1         64113889         63648218           T    C   \n",
       "4  rs150709401      1        114135880        113593258           A    G   \n",
       "\n",
       "                Signal name    Alt.AF       PPA Previous studies Index (r2)  \\\n",
       "0    RUNX3 (1:25296743:A:C)  0.509915  0.040594                         NaN   \n",
       "1    PSMB2 (1:36087661:C:A)  0.894668  0.195293                         NaN   \n",
       "2   INPP5B (1:38347417:A:G)  0.428204  0.070499                         NaN   \n",
       "3     PGM1 (1:64113889:T:C)  0.259422  0.161160                         NaN   \n",
       "4  PTPN22 (1:114135880:A:G)  0.009602  0.257619                         NaN   \n",
       "\n",
       "   PMID  \n",
       "0   NaN  \n",
       "1   NaN  \n",
       "2   NaN  \n",
       "3   NaN  \n",
       "4   NaN  "
      ]
     },
     "execution_count": 17,
     "metadata": {},
     "output_type": "execute_result"
    }
   ],
   "source": [
    "gwas_df.head()"
   ]
  },
  {
   "cell_type": "code",
   "execution_count": 18,
   "id": "6a4fc0df",
   "metadata": {},
   "outputs": [
    {
     "data": {
      "text/html": [
       "<div>\n",
       "<style scoped>\n",
       "    .dataframe tbody tr th:only-of-type {\n",
       "        vertical-align: middle;\n",
       "    }\n",
       "\n",
       "    .dataframe tbody tr th {\n",
       "        vertical-align: top;\n",
       "    }\n",
       "\n",
       "    .dataframe thead th {\n",
       "        text-align: right;\n",
       "    }\n",
       "</style>\n",
       "<table border=\"1\" class=\"dataframe\">\n",
       "  <thead>\n",
       "    <tr style=\"text-align: right;\">\n",
       "      <th></th>\n",
       "      <th>chrom</th>\n",
       "      <th>start</th>\n",
       "      <th>end</th>\n",
       "    </tr>\n",
       "  </thead>\n",
       "  <tbody>\n",
       "    <tr>\n",
       "      <th>0</th>\n",
       "      <td>1</td>\n",
       "      <td>25296742</td>\n",
       "      <td>25296743</td>\n",
       "    </tr>\n",
       "    <tr>\n",
       "      <th>1</th>\n",
       "      <td>1</td>\n",
       "      <td>36087660</td>\n",
       "      <td>36087661</td>\n",
       "    </tr>\n",
       "    <tr>\n",
       "      <th>2</th>\n",
       "      <td>1</td>\n",
       "      <td>38347416</td>\n",
       "      <td>38347417</td>\n",
       "    </tr>\n",
       "    <tr>\n",
       "      <th>3</th>\n",
       "      <td>1</td>\n",
       "      <td>64113888</td>\n",
       "      <td>64113889</td>\n",
       "    </tr>\n",
       "    <tr>\n",
       "      <th>4</th>\n",
       "      <td>1</td>\n",
       "      <td>114135879</td>\n",
       "      <td>114135880</td>\n",
       "    </tr>\n",
       "  </tbody>\n",
       "</table>\n",
       "</div>"
      ],
      "text/plain": [
       "  chrom      start        end\n",
       "0     1   25296742   25296743\n",
       "1     1   36087660   36087661\n",
       "2     1   38347416   38347417\n",
       "3     1   64113888   64113889\n",
       "4     1  114135879  114135880"
      ]
     },
     "execution_count": 18,
     "metadata": {},
     "output_type": "execute_result"
    }
   ],
   "source": [
    "gwas_bed.head()"
   ]
  },
  {
   "cell_type": "code",
   "execution_count": 19,
   "id": "da88c08f",
   "metadata": {},
   "outputs": [],
   "source": [
    "gwas_pbt = pbt.BedTool.from_dataframe(gwas_bed)"
   ]
  },
  {
   "cell_type": "markdown",
   "id": "c4b1e34a",
   "metadata": {},
   "source": [
    "## Intersect Fine Mapped GWAS and pieQTLs"
   ]
  },
  {
   "cell_type": "code",
   "execution_count": 20,
   "id": "6cd23b57",
   "metadata": {},
   "outputs": [],
   "source": [
    "pieqtls = glob.glob('results/main/pieqtls/2021_chandra_et_al/*/proximal.pieqtls.tsv')"
   ]
  },
  {
   "cell_type": "code",
   "execution_count": 21,
   "id": "1c387b45",
   "metadata": {},
   "outputs": [
    {
     "name": "stdout",
     "output_type": "stream",
     "text": [
      "results/main/pieqtls/2021_chandra_et_al/B-cell_naive/proximal.pieqtls.tsv\n",
      "results/main/pieqtls/2021_chandra_et_al/NK-cell_naive/proximal.pieqtls.tsv\n",
      "results/main/pieqtls/2021_chandra_et_al/monocyte_naive/proximal.pieqtls.tsv\n",
      "results/main/pieqtls/2021_chandra_et_al/CD4_T-cell_naive/proximal.pieqtls.tsv\n",
      "results/main/pieqtls/2021_chandra_et_al/CD8_T-cell_naive/proximal.pieqtls.tsv\n"
     ]
    }
   ],
   "source": [
    "pieqtl_data = []\n",
    "for pieqtl in pieqtls:\n",
    "    print(pieqtl)\n",
    "    \n",
    "    cline = pieqtl.split('/')[-2]\n",
    "    df = pd.read_table(pieqtl)    \n",
    "    df['cline'] = cline\n",
    "    pieqtl_data.append(df) \n",
    "\n",
    "pieqtl_df = pd.concat(pieqtl_data)"
   ]
  },
  {
   "cell_type": "code",
   "execution_count": 22,
   "id": "4fc67bca",
   "metadata": {},
   "outputs": [
    {
     "name": "stderr",
     "output_type": "stream",
     "text": [
      "/tmp/ipykernel_56077/4052474229.py:3: SettingWithCopyWarning: \n",
      "A value is trying to be set on a copy of a slice from a DataFrame.\n",
      "Try using .loc[row_indexer,col_indexer] = value instead\n",
      "\n",
      "See the caveats in the documentation: https://pandas.pydata.org/pandas-docs/stable/user_guide/indexing.html#returning-a-view-versus-a-copy\n",
      "  pieqtl_bed.loc[:, 'chrom'] = pieqtl_bed['chrom'].str.replace('chr', '')\n",
      "/tmp/ipykernel_56077/4052474229.py:4: SettingWithCopyWarning: \n",
      "A value is trying to be set on a copy of a slice from a DataFrame.\n",
      "Try using .loc[row_indexer,col_indexer] = value instead\n",
      "\n",
      "See the caveats in the documentation: https://pandas.pydata.org/pandas-docs/stable/user_guide/indexing.html#returning-a-view-versus-a-copy\n",
      "  pieqtl_bed.loc[:, 'start'] = pieqtl_bed['start'] - 1\n"
     ]
    }
   ],
   "source": [
    "pieqtl_bed = pieqtl_df.iloc[:, [1,2,2,-1]]\n",
    "pieqtl_bed.columns = ['chrom', 'start', 'end', 'cline']\n",
    "pieqtl_bed.loc[:, 'chrom'] = pieqtl_bed['chrom'].str.replace('chr', '')\n",
    "pieqtl_bed.loc[:, 'start'] = pieqtl_bed['start'] - 1"
   ]
  },
  {
   "cell_type": "code",
   "execution_count": 23,
   "id": "c39e4b74",
   "metadata": {},
   "outputs": [],
   "source": [
    "pieqtl_pbt = pbt.BedTool.from_dataframe(pieqtl_bed)\n",
    "intersect_pbt = gwas_pbt.intersect(pieqtl_pbt, wa=True, wb=True)"
   ]
  },
  {
   "cell_type": "code",
   "execution_count": 24,
   "id": "4be8e197",
   "metadata": {},
   "outputs": [
    {
     "data": {
      "text/html": [
       "<div>\n",
       "<style scoped>\n",
       "    .dataframe tbody tr th:only-of-type {\n",
       "        vertical-align: middle;\n",
       "    }\n",
       "\n",
       "    .dataframe tbody tr th {\n",
       "        vertical-align: top;\n",
       "    }\n",
       "\n",
       "    .dataframe thead th {\n",
       "        text-align: right;\n",
       "    }\n",
       "</style>\n",
       "<table border=\"1\" class=\"dataframe\">\n",
       "  <thead>\n",
       "    <tr style=\"text-align: right;\">\n",
       "      <th></th>\n",
       "      <th>chrom</th>\n",
       "      <th>start</th>\n",
       "      <th>end</th>\n",
       "      <th>name</th>\n",
       "      <th>score</th>\n",
       "      <th>strand</th>\n",
       "      <th>thickStart</th>\n",
       "    </tr>\n",
       "  </thead>\n",
       "  <tbody>\n",
       "    <tr>\n",
       "      <th>0</th>\n",
       "      <td>11</td>\n",
       "      <td>64107734</td>\n",
       "      <td>64107735</td>\n",
       "      <td>11</td>\n",
       "      <td>64107734</td>\n",
       "      <td>64107735</td>\n",
       "      <td>B-cell_naive</td>\n",
       "    </tr>\n",
       "    <tr>\n",
       "      <th>1</th>\n",
       "      <td>11</td>\n",
       "      <td>64107734</td>\n",
       "      <td>64107735</td>\n",
       "      <td>11</td>\n",
       "      <td>64107734</td>\n",
       "      <td>64107735</td>\n",
       "      <td>NK-cell_naive</td>\n",
       "    </tr>\n",
       "  </tbody>\n",
       "</table>\n",
       "</div>"
      ],
      "text/plain": [
       "   chrom     start       end  name     score    strand     thickStart\n",
       "0     11  64107734  64107735    11  64107734  64107735   B-cell_naive\n",
       "1     11  64107734  64107735    11  64107734  64107735  NK-cell_naive"
      ]
     },
     "execution_count": 24,
     "metadata": {},
     "output_type": "execute_result"
    }
   ],
   "source": [
    "intersect_pbt.to_dataframe()"
   ]
  },
  {
   "cell_type": "code",
   "execution_count": 25,
   "id": "56dbe96f",
   "metadata": {},
   "outputs": [],
   "source": [
    "check = pieqtl_df[(pieqtl_df['Chromosome'] == 'chr11') & (pieqtl_df['pieQTL.Position'] == 64107735) ]"
   ]
  },
  {
   "cell_type": "code",
   "execution_count": 26,
   "id": "afbd3a5f",
   "metadata": {},
   "outputs": [
    {
     "data": {
      "text/html": [
       "<div>\n",
       "<style scoped>\n",
       "    .dataframe tbody tr th:only-of-type {\n",
       "        vertical-align: middle;\n",
       "    }\n",
       "\n",
       "    .dataframe tbody tr th {\n",
       "        vertical-align: top;\n",
       "    }\n",
       "\n",
       "    .dataframe thead th {\n",
       "        text-align: right;\n",
       "    }\n",
       "</style>\n",
       "<table border=\"1\" class=\"dataframe\">\n",
       "  <thead>\n",
       "    <tr style=\"text-align: right;\">\n",
       "      <th></th>\n",
       "      <th>pieQTL.ID</th>\n",
       "      <th>Chromosome</th>\n",
       "      <th>pieQTL.Position</th>\n",
       "      <th>Target_geneID</th>\n",
       "      <th>Target_geneName</th>\n",
       "      <th>TSS</th>\n",
       "      <th>pvalue</th>\n",
       "      <th>FDR (DICE)</th>\n",
       "      <th>beta</th>\n",
       "      <th>ref</th>\n",
       "      <th>alt</th>\n",
       "      <th>Interaction_type</th>\n",
       "      <th>cline</th>\n",
       "    </tr>\n",
       "  </thead>\n",
       "  <tbody>\n",
       "    <tr>\n",
       "      <th>292</th>\n",
       "      <td>rs663743</td>\n",
       "      <td>chr11</td>\n",
       "      <td>64107735</td>\n",
       "      <td>ENSG00000236935.1</td>\n",
       "      <td>AP003774.1</td>\n",
       "      <td>64096976</td>\n",
       "      <td>2.280000e-17</td>\n",
       "      <td>8.890000e-13</td>\n",
       "      <td>1.11</td>\n",
       "      <td>G</td>\n",
       "      <td>A</td>\n",
       "      <td>Indirect_pieQTL</td>\n",
       "      <td>B-cell_naive</td>\n",
       "    </tr>\n",
       "    <tr>\n",
       "      <th>173</th>\n",
       "      <td>rs663743</td>\n",
       "      <td>chr11</td>\n",
       "      <td>64107735</td>\n",
       "      <td>ENSG00000236935.1</td>\n",
       "      <td>AP003774.1</td>\n",
       "      <td>64096976</td>\n",
       "      <td>2.180000e-18</td>\n",
       "      <td>3.230000e-13</td>\n",
       "      <td>1.16</td>\n",
       "      <td>G</td>\n",
       "      <td>A</td>\n",
       "      <td>Indirect_pieQTL</td>\n",
       "      <td>NK-cell_naive</td>\n",
       "    </tr>\n",
       "  </tbody>\n",
       "</table>\n",
       "</div>"
      ],
      "text/plain": [
       "    pieQTL.ID Chromosome  pieQTL.Position      Target_geneID Target_geneName  \\\n",
       "292  rs663743      chr11         64107735  ENSG00000236935.1      AP003774.1   \n",
       "173  rs663743      chr11         64107735  ENSG00000236935.1      AP003774.1   \n",
       "\n",
       "          TSS        pvalue    FDR (DICE)  beta ref alt Interaction_type  \\\n",
       "292  64096976  2.280000e-17  8.890000e-13  1.11   G   A  Indirect_pieQTL   \n",
       "173  64096976  2.180000e-18  3.230000e-13  1.16   G   A  Indirect_pieQTL   \n",
       "\n",
       "             cline  \n",
       "292   B-cell_naive  \n",
       "173  NK-cell_naive  "
      ]
     },
     "execution_count": 26,
     "metadata": {},
     "output_type": "execute_result"
    }
   ],
   "source": [
    "check.iloc[:, [0,1,2,3,4,5,6,7,8,9,10, 14, 16]]"
   ]
  },
  {
   "cell_type": "code",
   "execution_count": null,
   "id": "ff8cef3e",
   "metadata": {},
   "outputs": [],
   "source": []
  },
  {
   "cell_type": "code",
   "execution_count": null,
   "id": "fc5dd393",
   "metadata": {},
   "outputs": [],
   "source": []
  }
 ],
 "metadata": {
  "kernelspec": {
   "display_name": "HiChIP DB",
   "language": "python",
   "name": "hichip-db"
  },
  "language_info": {
   "codemirror_mode": {
    "name": "ipython",
    "version": 3
   },
   "file_extension": ".py",
   "mimetype": "text/x-python",
   "name": "python",
   "nbconvert_exporter": "python",
   "pygments_lexer": "ipython3",
   "version": "3.10.2"
  }
 },
 "nbformat": 4,
 "nbformat_minor": 5
}
