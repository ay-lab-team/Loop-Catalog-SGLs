{
 "cells": [
  {
   "cell_type": "code",
   "execution_count": 1,
   "id": "7b5ad180",
   "metadata": {},
   "outputs": [],
   "source": [
    "import os \n",
    "import pandas as pd\n",
    "import subprocess\n",
    "import glob\n",
    "import pybedtools as pbt \n",
    "pd.set_option('display.max_columns', None)\n",
    "\n",
    "pbt.set_bedtools_path('/mnt/BioApps/bedtools/bin/')\n",
    "\n",
    "os.chdir('/mnt/BioHome/jreyna/jreyna/projects/dchallenge/')\n",
    "\n",
    "genome_sizes = 'results/refs/hg19/hg19.chrom.sizes'\n",
    "\n",
    "# make the directory to save our data\n",
    "outdir = 'results/notebooks/Intersect_PieQTLs_with_T1D_Significant_GWAS_SNPs/'\n",
    "os.makedirs(outdir, exist_ok=True)"
   ]
  },
  {
   "cell_type": "code",
   "execution_count": 2,
   "id": "a6ef0439",
   "metadata": {},
   "outputs": [],
   "source": [
    "gs_fn = 'results/refs/hg19/hg19.chrom.nochr.sizes'\n",
    "gencode_fn = 'results/refs/gencode/v30/gencode.v30.annotation.bed'\n",
    "gencode = pd.read_table(gencode_fn, header=None)\n",
    "gencode = gencode.drop_duplicates(5)\n",
    "gencode_dict = {k:v for k,v in gencode[[5,6]].values.tolist()} \n",
    "gencode_dict.update({v:k for k,v in gencode[[5,6]].values.tolist()})"
   ]
  },
  {
   "cell_type": "markdown",
   "id": "25ec296e",
   "metadata": {},
   "source": [
    "## Load Significant GWAS"
   ]
  },
  {
   "cell_type": "code",
   "execution_count": 3,
   "id": "44c1967f",
   "metadata": {},
   "outputs": [],
   "source": [
    "major_gwas = ['T1D_32005708', 'T1D_34594039_GCST90018925', 'T1D_34012112_Gaulton']"
   ]
  },
  {
   "cell_type": "code",
   "execution_count": 4,
   "id": "3be9cb20",
   "metadata": {},
   "outputs": [
    {
     "name": "stderr",
     "output_type": "stream",
     "text": [
      "/tmp/ipykernel_62210/915015123.py:18: SettingWithCopyWarning: \n",
      "A value is trying to be set on a copy of a slice from a DataFrame.\n",
      "Try using .loc[row_indexer,col_indexer] = value instead\n",
      "\n",
      "See the caveats in the documentation: https://pandas.pydata.org/pandas-docs/stable/user_guide/indexing.html#returning-a-view-versus-a-copy\n",
      "  gwas_bed['start'] = gwas_bed['start'] - 1\n"
     ]
    }
   ],
   "source": [
    "data = []\n",
    "gwas = 'results/main/coloc/Data/T1D_GWAS/*/GRCh37/GWAS_input_colocalization_pval_lt_5eMinus8.txt'\n",
    "for fn in glob.glob(gwas):\n",
    "    path_info = fn.split('/')\n",
    "    df = pd.read_table(fn)\n",
    "    \n",
    "    if path_info[5] not in major_gwas:\n",
    "        continue\n",
    "        \n",
    "    df['gwas_source'] = path_info[5]\n",
    "    data.append(df)    \n",
    "gwas_df = pd.concat(data)\n",
    "gwas_df['sid'] = gwas_df['CHR'].str.replace('chr', '') + ':' + gwas_df['POS'].astype(str)\n",
    "\n",
    "# loading finemap data into bedtools\n",
    "gwas_bed = gwas_df.iloc[:, [0,1,1]]\n",
    "gwas_bed.columns = ['chrom', 'start', 'end']\n",
    "gwas_bed['start'] = gwas_bed['start'] - 1\n",
    "gwas_pbt = pbt.BedTool.from_dataframe(gwas_bed)"
   ]
  },
  {
   "cell_type": "code",
   "execution_count": 5,
   "id": "f764c98f",
   "metadata": {},
   "outputs": [],
   "source": [
    "individual_gwas_studies = gwas_df.groupby('gwas_source').sid.nunique()\n",
    "individual_gwas_studies = individual_gwas_studies.to_frame()\n",
    "individual_gwas_studies.columns = ['Number of Sig. GWAS']"
   ]
  },
  {
   "cell_type": "code",
   "execution_count": 6,
   "id": "49f62c4b",
   "metadata": {},
   "outputs": [
    {
     "data": {
      "text/html": [
       "<div>\n",
       "<style scoped>\n",
       "    .dataframe tbody tr th:only-of-type {\n",
       "        vertical-align: middle;\n",
       "    }\n",
       "\n",
       "    .dataframe tbody tr th {\n",
       "        vertical-align: top;\n",
       "    }\n",
       "\n",
       "    .dataframe thead th {\n",
       "        text-align: right;\n",
       "    }\n",
       "</style>\n",
       "<table border=\"1\" class=\"dataframe\">\n",
       "  <thead>\n",
       "    <tr style=\"text-align: right;\">\n",
       "      <th></th>\n",
       "      <th>Number of Sig. GWAS</th>\n",
       "    </tr>\n",
       "    <tr>\n",
       "      <th>gwas_source</th>\n",
       "      <th></th>\n",
       "    </tr>\n",
       "  </thead>\n",
       "  <tbody>\n",
       "    <tr>\n",
       "      <th>T1D_32005708</th>\n",
       "      <td>21097</td>\n",
       "    </tr>\n",
       "    <tr>\n",
       "      <th>T1D_34012112_Gaulton</th>\n",
       "      <td>45798</td>\n",
       "    </tr>\n",
       "    <tr>\n",
       "      <th>T1D_34594039_GCST90018925</th>\n",
       "      <td>20419</td>\n",
       "    </tr>\n",
       "  </tbody>\n",
       "</table>\n",
       "</div>"
      ],
      "text/plain": [
       "                           Number of Sig. GWAS\n",
       "gwas_source                                   \n",
       "T1D_32005708                             21097\n",
       "T1D_34012112_Gaulton                     45798\n",
       "T1D_34594039_GCST90018925                20419"
      ]
     },
     "execution_count": 6,
     "metadata": {},
     "output_type": "execute_result"
    }
   ],
   "source": [
    "individual_gwas_studies"
   ]
  },
  {
   "cell_type": "markdown",
   "id": "b981dcdf",
   "metadata": {},
   "source": [
    "## Load pieQTLs"
   ]
  },
  {
   "cell_type": "code",
   "execution_count": 7,
   "id": "6cd23b57",
   "metadata": {},
   "outputs": [
    {
     "name": "stdout",
     "output_type": "stream",
     "text": [
      "results/main/pieqtls/2021_chandra_et_al/B-cell_naive/proximal.pieqtls.tsv\n",
      "results/main/pieqtls/2021_chandra_et_al/NK-cell_naive/proximal.pieqtls.tsv\n",
      "results/main/pieqtls/2021_chandra_et_al/monocyte_naive/proximal.pieqtls.tsv\n",
      "results/main/pieqtls/2021_chandra_et_al/CD4_T-cell_naive/proximal.pieqtls.tsv\n",
      "results/main/pieqtls/2021_chandra_et_al/CD8_T-cell_naive/proximal.pieqtls.tsv\n"
     ]
    }
   ],
   "source": [
    "pieqtls = glob.glob('results/main/pieqtls/2021_chandra_et_al/*/proximal.pieqtls.tsv')\n",
    "\n",
    "pieqtl_data = []\n",
    "for pieqtl in pieqtls:\n",
    "    print(pieqtl)\n",
    "    \n",
    "    cline = pieqtl.split('/')[-2]\n",
    "    df = pd.read_table(pieqtl)    \n",
    "    df['cline'] = cline\n",
    "    pieqtl_data.append(df) \n",
    "    \n",
    "pieqtl_df = pd.concat(pieqtl_data)\n",
    "pieqtl_df['Chromosome'] = pieqtl_df['Chromosome']\n",
    "pieqtl_df.loc[:, 'sid'] = pieqtl_df['Chromosome'].str.replace('chr', '') + ':' + \\\n",
    "                          pieqtl_df['pieQTL.Position'].astype(str)"
   ]
  },
  {
   "cell_type": "code",
   "execution_count": 8,
   "id": "458bce03",
   "metadata": {},
   "outputs": [
    {
     "data": {
      "text/html": [
       "<div>\n",
       "<style scoped>\n",
       "    .dataframe tbody tr th:only-of-type {\n",
       "        vertical-align: middle;\n",
       "    }\n",
       "\n",
       "    .dataframe tbody tr th {\n",
       "        vertical-align: top;\n",
       "    }\n",
       "\n",
       "    .dataframe thead th {\n",
       "        text-align: right;\n",
       "    }\n",
       "</style>\n",
       "<table border=\"1\" class=\"dataframe\">\n",
       "  <thead>\n",
       "    <tr style=\"text-align: right;\">\n",
       "      <th></th>\n",
       "      <th>Number of pieQTL Genes</th>\n",
       "    </tr>\n",
       "    <tr>\n",
       "      <th>cline</th>\n",
       "      <th></th>\n",
       "    </tr>\n",
       "  </thead>\n",
       "  <tbody>\n",
       "    <tr>\n",
       "      <th>B-cell_naive</th>\n",
       "      <td>1233</td>\n",
       "    </tr>\n",
       "    <tr>\n",
       "      <th>CD4_T-cell_naive</th>\n",
       "      <td>1168</td>\n",
       "    </tr>\n",
       "    <tr>\n",
       "      <th>CD8_T-cell_naive</th>\n",
       "      <td>1081</td>\n",
       "    </tr>\n",
       "    <tr>\n",
       "      <th>NK-cell_naive</th>\n",
       "      <td>872</td>\n",
       "    </tr>\n",
       "    <tr>\n",
       "      <th>monocyte_naive</th>\n",
       "      <td>1065</td>\n",
       "    </tr>\n",
       "  </tbody>\n",
       "</table>\n",
       "</div>"
      ],
      "text/plain": [
       "                  Number of pieQTL Genes\n",
       "cline                                   \n",
       "B-cell_naive                        1233\n",
       "CD4_T-cell_naive                    1168\n",
       "CD8_T-cell_naive                    1081\n",
       "NK-cell_naive                        872\n",
       "monocyte_naive                      1065"
      ]
     },
     "execution_count": 8,
     "metadata": {},
     "output_type": "execute_result"
    }
   ],
   "source": [
    "individual_cells = pieqtl_df.groupby('cline').Target_geneID.nunique()\n",
    "individual_cells = individual_cells.to_frame()\n",
    "individual_cells.columns = ['Number of pieQTL Genes']\n",
    "individual_cells"
   ]
  },
  {
   "cell_type": "code",
   "execution_count": 9,
   "id": "e781c384",
   "metadata": {},
   "outputs": [
    {
     "data": {
      "text/html": [
       "<div>\n",
       "<style scoped>\n",
       "    .dataframe tbody tr th:only-of-type {\n",
       "        vertical-align: middle;\n",
       "    }\n",
       "\n",
       "    .dataframe tbody tr th {\n",
       "        vertical-align: top;\n",
       "    }\n",
       "\n",
       "    .dataframe thead th {\n",
       "        text-align: right;\n",
       "    }\n",
       "</style>\n",
       "<table border=\"1\" class=\"dataframe\">\n",
       "  <thead>\n",
       "    <tr style=\"text-align: right;\">\n",
       "      <th></th>\n",
       "      <th>Number of pieQTL SNPs</th>\n",
       "    </tr>\n",
       "    <tr>\n",
       "      <th>cline</th>\n",
       "      <th></th>\n",
       "    </tr>\n",
       "  </thead>\n",
       "  <tbody>\n",
       "    <tr>\n",
       "      <th>B-cell_naive</th>\n",
       "      <td>8110</td>\n",
       "    </tr>\n",
       "    <tr>\n",
       "      <th>CD4_T-cell_naive</th>\n",
       "      <td>6800</td>\n",
       "    </tr>\n",
       "    <tr>\n",
       "      <th>CD8_T-cell_naive</th>\n",
       "      <td>5539</td>\n",
       "    </tr>\n",
       "    <tr>\n",
       "      <th>NK-cell_naive</th>\n",
       "      <td>5332</td>\n",
       "    </tr>\n",
       "    <tr>\n",
       "      <th>monocyte_naive</th>\n",
       "      <td>6006</td>\n",
       "    </tr>\n",
       "  </tbody>\n",
       "</table>\n",
       "</div>"
      ],
      "text/plain": [
       "                  Number of pieQTL SNPs\n",
       "cline                                  \n",
       "B-cell_naive                       8110\n",
       "CD4_T-cell_naive                   6800\n",
       "CD8_T-cell_naive                   5539\n",
       "NK-cell_naive                      5332\n",
       "monocyte_naive                     6006"
      ]
     },
     "execution_count": 9,
     "metadata": {},
     "output_type": "execute_result"
    }
   ],
   "source": [
    "individual_cells = pieqtl_df.groupby('cline').sid.nunique()\n",
    "individual_cells = individual_cells.to_frame()\n",
    "individual_cells.columns = ['Number of pieQTL SNPs']\n",
    "individual_cells"
   ]
  },
  {
   "cell_type": "code",
   "execution_count": 10,
   "id": "4fc67bca",
   "metadata": {},
   "outputs": [
    {
     "name": "stderr",
     "output_type": "stream",
     "text": [
      "/tmp/ipykernel_62210/2754423286.py:3: SettingWithCopyWarning: \n",
      "A value is trying to be set on a copy of a slice from a DataFrame.\n",
      "Try using .loc[row_indexer,col_indexer] = value instead\n",
      "\n",
      "See the caveats in the documentation: https://pandas.pydata.org/pandas-docs/stable/user_guide/indexing.html#returning-a-view-versus-a-copy\n",
      "  pieqtl_bed.loc[:, 'start'] = pieqtl_bed['start'] - 1\n"
     ]
    }
   ],
   "source": [
    "pieqtl_bed = pieqtl_df.iloc[:, [1,2,2,-1]]\n",
    "pieqtl_bed.columns = ['chrom', 'start', 'end', 'cline']\n",
    "pieqtl_bed.loc[:, 'start'] = pieqtl_bed['start'] - 1\n",
    "pieqtl_pbt = pbt.BedTool.from_dataframe(pieqtl_bed)"
   ]
  },
  {
   "cell_type": "code",
   "execution_count": 11,
   "id": "647a3492",
   "metadata": {},
   "outputs": [
    {
     "data": {
      "text/plain": [
       "(35898, 4)"
      ]
     },
     "execution_count": 11,
     "metadata": {},
     "output_type": "execute_result"
    }
   ],
   "source": [
    "pieqtl_bed.shape"
   ]
  },
  {
   "cell_type": "markdown",
   "id": "c4b1e34a",
   "metadata": {},
   "source": [
    "## Intersect pieQTLs and Sig GWAS"
   ]
  },
  {
   "cell_type": "code",
   "execution_count": 12,
   "id": "a27c887c",
   "metadata": {},
   "outputs": [],
   "source": [
    "major_cols = ['ge_source',\n",
    "              'rsid',\n",
    "             'chrom',\n",
    "             'pos',\n",
    "             'geneid',\n",
    "             'genename',\n",
    "             'allele1',\n",
    "             'allele2',\n",
    "             'maf',\n",
    "             'beta_x',\n",
    "             'se',\n",
    "             'z',\n",
    "             'prob',\n",
    "             'log10bf',\n",
    "             'mean',\n",
    "             'sd',\n",
    "             'mean_incl',\n",
    "             'sd_incl',\n",
    "             'pval',\n",
    "             'gwas_source',\n",
    "             'pieQTL.ID',\n",
    "             'Chromosome',\n",
    "             'pieQTL.Position',\n",
    "             'Target_geneName',\n",
    "             'TSS',\n",
    "             'pvalue',\n",
    "             'FDR (DICE)',\n",
    "             'beta_y',\n",
    "             'ref',\n",
    "             'alt',\n",
    "             'Mean.TPM.Homozygous.Reference',\n",
    "             'Mean.TPM.Heterozygous',\n",
    "             'Mean.TPM.Homozygous.Alternative',\n",
    "             'Interaction_type',\n",
    "             'GWAS.Trait',\n",
    "             'cline',\n",
    "             'regionID',\n",
    "             'GWASLoci',\n",
    "             'index']"
   ]
  },
  {
   "cell_type": "markdown",
   "id": "c1f24411",
   "metadata": {},
   "source": [
    "\n",
    "### Intersection"
   ]
  },
  {
   "cell_type": "code",
   "execution_count": 13,
   "id": "8ee87b2b",
   "metadata": {},
   "outputs": [],
   "source": [
    "intersect_df = pd.merge(gwas_df, pieqtl_df,\n",
    "                        left_on=['CHR', 'POS'],\n",
    "                        right_on=['Chromosome', 'pieQTL.Position'],\n",
    "                        how='inner')"
   ]
  },
  {
   "cell_type": "code",
   "execution_count": 14,
   "id": "d9864a74",
   "metadata": {},
   "outputs": [
    {
     "data": {
      "text/html": [
       "<div>\n",
       "<style scoped>\n",
       "    .dataframe tbody tr th:only-of-type {\n",
       "        vertical-align: middle;\n",
       "    }\n",
       "\n",
       "    .dataframe tbody tr th {\n",
       "        vertical-align: top;\n",
       "    }\n",
       "\n",
       "    .dataframe thead th {\n",
       "        text-align: right;\n",
       "    }\n",
       "</style>\n",
       "<table border=\"1\" class=\"dataframe\">\n",
       "  <thead>\n",
       "    <tr style=\"text-align: right;\">\n",
       "      <th></th>\n",
       "      <th>Number of Unique Genes from pieQTL &amp; Sig.GWAS Intersection</th>\n",
       "    </tr>\n",
       "    <tr>\n",
       "      <th>cline</th>\n",
       "      <th></th>\n",
       "    </tr>\n",
       "  </thead>\n",
       "  <tbody>\n",
       "    <tr>\n",
       "      <th>B-cell_naive</th>\n",
       "      <td>39</td>\n",
       "    </tr>\n",
       "    <tr>\n",
       "      <th>CD4_T-cell_naive</th>\n",
       "      <td>33</td>\n",
       "    </tr>\n",
       "    <tr>\n",
       "      <th>CD8_T-cell_naive</th>\n",
       "      <td>35</td>\n",
       "    </tr>\n",
       "    <tr>\n",
       "      <th>NK-cell_naive</th>\n",
       "      <td>45</td>\n",
       "    </tr>\n",
       "    <tr>\n",
       "      <th>monocyte_naive</th>\n",
       "      <td>25</td>\n",
       "    </tr>\n",
       "  </tbody>\n",
       "</table>\n",
       "</div>"
      ],
      "text/plain": [
       "                  Number of Unique Genes from pieQTL & Sig.GWAS Intersection\n",
       "cline                                                                       \n",
       "B-cell_naive                                                     39         \n",
       "CD4_T-cell_naive                                                 33         \n",
       "CD8_T-cell_naive                                                 35         \n",
       "NK-cell_naive                                                    45         \n",
       "monocyte_naive                                                   25         "
      ]
     },
     "execution_count": 14,
     "metadata": {},
     "output_type": "execute_result"
    }
   ],
   "source": [
    "indiv_cell_intersect = intersect_df.groupby('cline').Target_geneID.nunique().to_frame()\n",
    "indiv_cell_intersect.columns = ['Number of Unique Genes from pieQTL & Sig.GWAS Intersection']\n",
    "indiv_cell_intersect"
   ]
  },
  {
   "cell_type": "code",
   "execution_count": 15,
   "id": "6c069f0c",
   "metadata": {},
   "outputs": [
    {
     "data": {
      "text/html": [
       "<div>\n",
       "<style scoped>\n",
       "    .dataframe tbody tr th:only-of-type {\n",
       "        vertical-align: middle;\n",
       "    }\n",
       "\n",
       "    .dataframe tbody tr th {\n",
       "        vertical-align: top;\n",
       "    }\n",
       "\n",
       "    .dataframe thead th {\n",
       "        text-align: right;\n",
       "    }\n",
       "</style>\n",
       "<table border=\"1\" class=\"dataframe\">\n",
       "  <thead>\n",
       "    <tr style=\"text-align: right;\">\n",
       "      <th></th>\n",
       "      <th>Number of Unique SNPs from pieQTL &amp; Sig.GWAS Intersection</th>\n",
       "    </tr>\n",
       "    <tr>\n",
       "      <th>cline</th>\n",
       "      <th></th>\n",
       "    </tr>\n",
       "  </thead>\n",
       "  <tbody>\n",
       "    <tr>\n",
       "      <th>B-cell_naive</th>\n",
       "      <td>348</td>\n",
       "    </tr>\n",
       "    <tr>\n",
       "      <th>CD4_T-cell_naive</th>\n",
       "      <td>322</td>\n",
       "    </tr>\n",
       "    <tr>\n",
       "      <th>CD8_T-cell_naive</th>\n",
       "      <td>269</td>\n",
       "    </tr>\n",
       "    <tr>\n",
       "      <th>NK-cell_naive</th>\n",
       "      <td>319</td>\n",
       "    </tr>\n",
       "    <tr>\n",
       "      <th>monocyte_naive</th>\n",
       "      <td>116</td>\n",
       "    </tr>\n",
       "  </tbody>\n",
       "</table>\n",
       "</div>"
      ],
      "text/plain": [
       "                  Number of Unique SNPs from pieQTL & Sig.GWAS Intersection\n",
       "cline                                                                      \n",
       "B-cell_naive                                                    348        \n",
       "CD4_T-cell_naive                                                322        \n",
       "CD8_T-cell_naive                                                269        \n",
       "NK-cell_naive                                                   319        \n",
       "monocyte_naive                                                  116        "
      ]
     },
     "execution_count": 15,
     "metadata": {},
     "output_type": "execute_result"
    }
   ],
   "source": [
    "indiv_cell_intersect = intersect_df.groupby('cline').sid_x.nunique().to_frame()\n",
    "indiv_cell_intersect.columns = ['Number of Unique SNPs from pieQTL & Sig.GWAS Intersection']\n",
    "indiv_cell_intersect"
   ]
  },
  {
   "cell_type": "code",
   "execution_count": null,
   "id": "cf5d42f5",
   "metadata": {},
   "outputs": [],
   "source": []
  },
  {
   "cell_type": "code",
   "execution_count": 16,
   "id": "6c82bb6c",
   "metadata": {},
   "outputs": [
    {
     "data": {
      "text/html": [
       "<div>\n",
       "<style scoped>\n",
       "    .dataframe tbody tr th:only-of-type {\n",
       "        vertical-align: middle;\n",
       "    }\n",
       "\n",
       "    .dataframe tbody tr th {\n",
       "        vertical-align: top;\n",
       "    }\n",
       "\n",
       "    .dataframe thead th {\n",
       "        text-align: right;\n",
       "    }\n",
       "</style>\n",
       "<table border=\"1\" class=\"dataframe\">\n",
       "  <thead>\n",
       "    <tr style=\"text-align: right;\">\n",
       "      <th></th>\n",
       "      <th></th>\n",
       "      <th>Number of Unique Genes from pieQTL &amp; Sig.GWAS Intersection</th>\n",
       "    </tr>\n",
       "    <tr>\n",
       "      <th>cline</th>\n",
       "      <th>gwas_source</th>\n",
       "      <th></th>\n",
       "    </tr>\n",
       "  </thead>\n",
       "  <tbody>\n",
       "    <tr>\n",
       "      <th rowspan=\"3\" valign=\"top\">B-cell_naive</th>\n",
       "      <th>T1D_32005708</th>\n",
       "      <td>28</td>\n",
       "    </tr>\n",
       "    <tr>\n",
       "      <th>T1D_34012112_Gaulton</th>\n",
       "      <td>34</td>\n",
       "    </tr>\n",
       "    <tr>\n",
       "      <th>T1D_34594039_GCST90018925</th>\n",
       "      <td>21</td>\n",
       "    </tr>\n",
       "    <tr>\n",
       "      <th rowspan=\"3\" valign=\"top\">CD4_T-cell_naive</th>\n",
       "      <th>T1D_32005708</th>\n",
       "      <td>15</td>\n",
       "    </tr>\n",
       "    <tr>\n",
       "      <th>T1D_34012112_Gaulton</th>\n",
       "      <td>29</td>\n",
       "    </tr>\n",
       "    <tr>\n",
       "      <th>T1D_34594039_GCST90018925</th>\n",
       "      <td>14</td>\n",
       "    </tr>\n",
       "    <tr>\n",
       "      <th rowspan=\"3\" valign=\"top\">CD8_T-cell_naive</th>\n",
       "      <th>T1D_32005708</th>\n",
       "      <td>18</td>\n",
       "    </tr>\n",
       "    <tr>\n",
       "      <th>T1D_34012112_Gaulton</th>\n",
       "      <td>30</td>\n",
       "    </tr>\n",
       "    <tr>\n",
       "      <th>T1D_34594039_GCST90018925</th>\n",
       "      <td>15</td>\n",
       "    </tr>\n",
       "    <tr>\n",
       "      <th rowspan=\"3\" valign=\"top\">NK-cell_naive</th>\n",
       "      <th>T1D_32005708</th>\n",
       "      <td>34</td>\n",
       "    </tr>\n",
       "    <tr>\n",
       "      <th>T1D_34012112_Gaulton</th>\n",
       "      <td>36</td>\n",
       "    </tr>\n",
       "    <tr>\n",
       "      <th>T1D_34594039_GCST90018925</th>\n",
       "      <td>17</td>\n",
       "    </tr>\n",
       "    <tr>\n",
       "      <th rowspan=\"3\" valign=\"top\">monocyte_naive</th>\n",
       "      <th>T1D_32005708</th>\n",
       "      <td>14</td>\n",
       "    </tr>\n",
       "    <tr>\n",
       "      <th>T1D_34012112_Gaulton</th>\n",
       "      <td>22</td>\n",
       "    </tr>\n",
       "    <tr>\n",
       "      <th>T1D_34594039_GCST90018925</th>\n",
       "      <td>8</td>\n",
       "    </tr>\n",
       "  </tbody>\n",
       "</table>\n",
       "</div>"
      ],
      "text/plain": [
       "                                            Number of Unique Genes from pieQTL & Sig.GWAS Intersection\n",
       "cline            gwas_source                                                                          \n",
       "B-cell_naive     T1D_32005708                                                              28         \n",
       "                 T1D_34012112_Gaulton                                                      34         \n",
       "                 T1D_34594039_GCST90018925                                                 21         \n",
       "CD4_T-cell_naive T1D_32005708                                                              15         \n",
       "                 T1D_34012112_Gaulton                                                      29         \n",
       "                 T1D_34594039_GCST90018925                                                 14         \n",
       "CD8_T-cell_naive T1D_32005708                                                              18         \n",
       "                 T1D_34012112_Gaulton                                                      30         \n",
       "                 T1D_34594039_GCST90018925                                                 15         \n",
       "NK-cell_naive    T1D_32005708                                                              34         \n",
       "                 T1D_34012112_Gaulton                                                      36         \n",
       "                 T1D_34594039_GCST90018925                                                 17         \n",
       "monocyte_naive   T1D_32005708                                                              14         \n",
       "                 T1D_34012112_Gaulton                                                      22         \n",
       "                 T1D_34594039_GCST90018925                                                  8         "
      ]
     },
     "execution_count": 16,
     "metadata": {},
     "output_type": "execute_result"
    }
   ],
   "source": [
    "indiv_cell_intersect = intersect_df.groupby(['cline', 'gwas_source']).Target_geneID.nunique().to_frame()\n",
    "indiv_cell_intersect.columns = ['Number of Unique Genes from pieQTL & Sig.GWAS Intersection']\n",
    "indiv_cell_intersect"
   ]
  },
  {
   "cell_type": "code",
   "execution_count": 17,
   "id": "2c9fe440",
   "metadata": {},
   "outputs": [
    {
     "data": {
      "text/html": [
       "<div>\n",
       "<style scoped>\n",
       "    .dataframe tbody tr th:only-of-type {\n",
       "        vertical-align: middle;\n",
       "    }\n",
       "\n",
       "    .dataframe tbody tr th {\n",
       "        vertical-align: top;\n",
       "    }\n",
       "\n",
       "    .dataframe thead th {\n",
       "        text-align: right;\n",
       "    }\n",
       "</style>\n",
       "<table border=\"1\" class=\"dataframe\">\n",
       "  <thead>\n",
       "    <tr style=\"text-align: right;\">\n",
       "      <th></th>\n",
       "      <th></th>\n",
       "      <th>Number of Unique SNPs from pieQTL &amp; Sig.GWAS Intersection</th>\n",
       "    </tr>\n",
       "    <tr>\n",
       "      <th>cline</th>\n",
       "      <th>gwas_source</th>\n",
       "      <th></th>\n",
       "    </tr>\n",
       "  </thead>\n",
       "  <tbody>\n",
       "    <tr>\n",
       "      <th rowspan=\"3\" valign=\"top\">B-cell_naive</th>\n",
       "      <th>T1D_32005708</th>\n",
       "      <td>186</td>\n",
       "    </tr>\n",
       "    <tr>\n",
       "      <th>T1D_34012112_Gaulton</th>\n",
       "      <td>241</td>\n",
       "    </tr>\n",
       "    <tr>\n",
       "      <th>T1D_34594039_GCST90018925</th>\n",
       "      <td>116</td>\n",
       "    </tr>\n",
       "    <tr>\n",
       "      <th rowspan=\"3\" valign=\"top\">CD4_T-cell_naive</th>\n",
       "      <th>T1D_32005708</th>\n",
       "      <td>142</td>\n",
       "    </tr>\n",
       "    <tr>\n",
       "      <th>T1D_34012112_Gaulton</th>\n",
       "      <td>198</td>\n",
       "    </tr>\n",
       "    <tr>\n",
       "      <th>T1D_34594039_GCST90018925</th>\n",
       "      <td>53</td>\n",
       "    </tr>\n",
       "    <tr>\n",
       "      <th rowspan=\"3\" valign=\"top\">CD8_T-cell_naive</th>\n",
       "      <th>T1D_32005708</th>\n",
       "      <td>136</td>\n",
       "    </tr>\n",
       "    <tr>\n",
       "      <th>T1D_34012112_Gaulton</th>\n",
       "      <td>155</td>\n",
       "    </tr>\n",
       "    <tr>\n",
       "      <th>T1D_34594039_GCST90018925</th>\n",
       "      <td>73</td>\n",
       "    </tr>\n",
       "    <tr>\n",
       "      <th rowspan=\"3\" valign=\"top\">NK-cell_naive</th>\n",
       "      <th>T1D_32005708</th>\n",
       "      <td>171</td>\n",
       "    </tr>\n",
       "    <tr>\n",
       "      <th>T1D_34012112_Gaulton</th>\n",
       "      <td>175</td>\n",
       "    </tr>\n",
       "    <tr>\n",
       "      <th>T1D_34594039_GCST90018925</th>\n",
       "      <td>77</td>\n",
       "    </tr>\n",
       "    <tr>\n",
       "      <th rowspan=\"3\" valign=\"top\">monocyte_naive</th>\n",
       "      <th>T1D_32005708</th>\n",
       "      <td>82</td>\n",
       "    </tr>\n",
       "    <tr>\n",
       "      <th>T1D_34012112_Gaulton</th>\n",
       "      <td>76</td>\n",
       "    </tr>\n",
       "    <tr>\n",
       "      <th>T1D_34594039_GCST90018925</th>\n",
       "      <td>33</td>\n",
       "    </tr>\n",
       "  </tbody>\n",
       "</table>\n",
       "</div>"
      ],
      "text/plain": [
       "                                            Number of Unique SNPs from pieQTL & Sig.GWAS Intersection\n",
       "cline            gwas_source                                                                         \n",
       "B-cell_naive     T1D_32005708                                                             186        \n",
       "                 T1D_34012112_Gaulton                                                     241        \n",
       "                 T1D_34594039_GCST90018925                                                116        \n",
       "CD4_T-cell_naive T1D_32005708                                                             142        \n",
       "                 T1D_34012112_Gaulton                                                     198        \n",
       "                 T1D_34594039_GCST90018925                                                 53        \n",
       "CD8_T-cell_naive T1D_32005708                                                             136        \n",
       "                 T1D_34012112_Gaulton                                                     155        \n",
       "                 T1D_34594039_GCST90018925                                                 73        \n",
       "NK-cell_naive    T1D_32005708                                                             171        \n",
       "                 T1D_34012112_Gaulton                                                     175        \n",
       "                 T1D_34594039_GCST90018925                                                 77        \n",
       "monocyte_naive   T1D_32005708                                                              82        \n",
       "                 T1D_34012112_Gaulton                                                      76        \n",
       "                 T1D_34594039_GCST90018925                                                 33        "
      ]
     },
     "execution_count": 17,
     "metadata": {},
     "output_type": "execute_result"
    }
   ],
   "source": [
    "indiv_cell_intersect = intersect_df.groupby(['cline', 'gwas_source']).sid_x.nunique().to_frame()\n",
    "indiv_cell_intersect.columns = ['Number of Unique SNPs from pieQTL & Sig.GWAS Intersection']\n",
    "indiv_cell_intersect"
   ]
  },
  {
   "cell_type": "code",
   "execution_count": 18,
   "id": "25e15fc8",
   "metadata": {},
   "outputs": [],
   "source": [
    "def get_genename(x):\n",
    "    if x in gencode_dict:\n",
    "        return(gencode_dict[x])\n",
    "    else:\n",
    "        return(x)"
   ]
  },
  {
   "cell_type": "code",
   "execution_count": 19,
   "id": "d18ad120",
   "metadata": {},
   "outputs": [],
   "source": [
    "intersect_df.loc[:, 'geneid'] = intersect_df['Target_geneID'].str.replace('\\.[0-9]*', '', regex=True)\n",
    "intersect_df.loc[:, 'genename'] = intersect_df.loc[:, 'geneid'].apply(get_genename)"
   ]
  },
  {
   "cell_type": "code",
   "execution_count": 29,
   "id": "1f6c6b2b",
   "metadata": {},
   "outputs": [
    {
     "data": {
      "text/plain": [
       "91"
      ]
     },
     "execution_count": 29,
     "metadata": {},
     "output_type": "execute_result"
    }
   ],
   "source": [
    "intersect_df.loc[:, 'geneid'].nunique()"
   ]
  },
  {
   "cell_type": "code",
   "execution_count": null,
   "id": "612ea231",
   "metadata": {},
   "outputs": [],
   "source": []
  },
  {
   "cell_type": "code",
   "execution_count": null,
   "id": "8dc51e20",
   "metadata": {},
   "outputs": [],
   "source": []
  },
  {
   "cell_type": "code",
   "execution_count": 20,
   "id": "8fdfadf2",
   "metadata": {},
   "outputs": [
    {
     "name": "stdout",
     "output_type": "stream",
     "text": [
      "C1orf216\n",
      "SF3A3\n",
      "FHL3\n",
      "PTPN22\n",
      "RGS1\n",
      "NPM1P33\n",
      "KRT18P39\n",
      "CD28\n",
      "SLC22A5\n",
      "BTN3A1\n",
      "BTN2A2\n",
      "ZSCAN26\n",
      "ZNF165\n",
      "AL645939.1\n",
      "IFITM4P\n",
      "ZDHHC20P1\n",
      "ZFP57\n",
      "AL645929.1\n",
      "HCG4B\n",
      "AL671277.2\n",
      "RNF39\n",
      "FLOT1\n",
      "DHX16\n",
      "PPP1R18\n",
      "ZNRD1ASP\n",
      "TRIM26\n",
      "VARS2\n",
      "MRPS18B\n",
      "TUBB\n",
      "C6orf136\n",
      "RF00019\n",
      "PRRC2A\n",
      "BAG6\n",
      "CCHCR1\n",
      "CSNK2B\n",
      "C6orf47\n",
      "TCF19\n",
      "HCG27\n",
      "AL662844.3\n",
      "AL662844.4\n",
      "MICB\n",
      "MICA\n",
      "AL645933.2\n",
      "LST1\n",
      "NCR3\n",
      "LY6G5B\n",
      "LY6G5C\n",
      "C6orf48\n",
      "AIF1\n",
      "MSH5\n",
      "PPT2\n",
      "SKIV2L\n",
      "BTNL2\n",
      "ENSG00000228962\n",
      "TSBP1\n",
      "HCG24\n",
      "TAP2\n",
      "WDR46\n",
      "PFDN6\n",
      "RPL32P1\n",
      "BACH2\n",
      "AP003774.4\n",
      "M6PR\n",
      "LINC02390\n",
      "SUOX\n",
      "ATXN2\n",
      "TMEM116\n",
      "HECTD4\n",
      "MAPKAPK5\n",
      "CTSH\n",
      "AC009121.1\n",
      "RMI2\n",
      "DND1P1\n",
      "KANSL1-AS1\n",
      "AP005482.1\n",
      "ZGLP1\n",
      "PRKD2\n",
      "TMPRSS3\n",
      "ZSCAN9\n",
      "TRIM27\n",
      "ENSG00000261353\n",
      "BTN2A3P\n",
      "ZKSCAN4\n",
      "BTN2A1\n",
      "BTN3A2\n",
      "HMGN4\n",
      "HCG18\n",
      "GNL1\n",
      "ZSCAN23\n",
      "ZNF192P1\n"
     ]
    }
   ],
   "source": [
    "for x in intersect_df.genename.unique():\n",
    "    print(x)"
   ]
  },
  {
   "cell_type": "markdown",
   "id": "b6fdf11c",
   "metadata": {},
   "source": [
    "## Summarize"
   ]
  },
  {
   "cell_type": "code",
   "execution_count": 21,
   "id": "94f35bf9",
   "metadata": {},
   "outputs": [],
   "source": [
    "# find the unique SNPs\n",
    "uniq_snps_by_cells = intersect_df.groupby('cline').sid_x.nunique()\n",
    "uniq_snps_by_cells = uniq_snps_by_cells.to_frame()\n",
    "\n",
    "# find the unique genes \n",
    "uniq_genes_by_cells = intersect_df.groupby('cline').geneid.nunique()\n",
    "uniq_genes_by_cells = uniq_genes_by_cells.to_frame()\n",
    "\n",
    "# merge snps and genes\n",
    "uniq_counts_by_cells = pd.merge(uniq_snps_by_cells, uniq_genes_by_cells, left_index=True, right_index=True)\n",
    "uniq_counts_by_cells.columns = ['Number of Unique SNPs', 'Number of Unique Genes']\n",
    "uniq_counts_by_cells.index.name = 'Cell Line'"
   ]
  },
  {
   "cell_type": "code",
   "execution_count": 22,
   "id": "85a82a29",
   "metadata": {},
   "outputs": [],
   "source": [
    "# save the file\n",
    "excel_analysis = os.path.join(outdir, 'Unique_Counts_By_Cell_Line.xlsx')\n",
    "uniq_counts_by_cells.to_excel(excel_analysis, sheet_name='pieqtls')"
   ]
  },
  {
   "cell_type": "code",
   "execution_count": 23,
   "id": "1607399d",
   "metadata": {},
   "outputs": [
    {
     "data": {
      "text/html": [
       "<div>\n",
       "<style scoped>\n",
       "    .dataframe tbody tr th:only-of-type {\n",
       "        vertical-align: middle;\n",
       "    }\n",
       "\n",
       "    .dataframe tbody tr th {\n",
       "        vertical-align: top;\n",
       "    }\n",
       "\n",
       "    .dataframe thead th {\n",
       "        text-align: right;\n",
       "    }\n",
       "</style>\n",
       "<table border=\"1\" class=\"dataframe\">\n",
       "  <thead>\n",
       "    <tr style=\"text-align: right;\">\n",
       "      <th></th>\n",
       "      <th>geneid</th>\n",
       "    </tr>\n",
       "    <tr>\n",
       "      <th>cline</th>\n",
       "      <th></th>\n",
       "    </tr>\n",
       "  </thead>\n",
       "  <tbody>\n",
       "    <tr>\n",
       "      <th>B-cell_naive</th>\n",
       "      <td>39</td>\n",
       "    </tr>\n",
       "    <tr>\n",
       "      <th>CD4_T-cell_naive</th>\n",
       "      <td>33</td>\n",
       "    </tr>\n",
       "    <tr>\n",
       "      <th>CD8_T-cell_naive</th>\n",
       "      <td>35</td>\n",
       "    </tr>\n",
       "    <tr>\n",
       "      <th>NK-cell_naive</th>\n",
       "      <td>45</td>\n",
       "    </tr>\n",
       "    <tr>\n",
       "      <th>monocyte_naive</th>\n",
       "      <td>25</td>\n",
       "    </tr>\n",
       "  </tbody>\n",
       "</table>\n",
       "</div>"
      ],
      "text/plain": [
       "                  geneid\n",
       "cline                   \n",
       "B-cell_naive          39\n",
       "CD4_T-cell_naive      33\n",
       "CD8_T-cell_naive      35\n",
       "NK-cell_naive         45\n",
       "monocyte_naive        25"
      ]
     },
     "execution_count": 23,
     "metadata": {},
     "output_type": "execute_result"
    }
   ],
   "source": [
    "uniq_genes_by_cells"
   ]
  },
  {
   "cell_type": "code",
   "execution_count": 24,
   "id": "5d735083",
   "metadata": {},
   "outputs": [
    {
     "data": {
      "text/plain": [
       "'results/notebooks/Intersect_PieQTLs_with_T1D_Significant_GWAS_SNPs/Unique_Counts_By_Cell_Line.xlsx'"
      ]
     },
     "execution_count": 24,
     "metadata": {},
     "output_type": "execute_result"
    }
   ],
   "source": [
    "excel_analysis"
   ]
  },
  {
   "cell_type": "markdown",
   "id": "0785eaf1",
   "metadata": {},
   "source": [
    "#### Write the gene list as well"
   ]
  },
  {
   "cell_type": "code",
   "execution_count": 25,
   "id": "619449e9",
   "metadata": {},
   "outputs": [],
   "source": [
    "gh_list = sorted(intersect_df.geneid.unique().tolist())\n",
    "gh_fn = os.path.join(outdir, 'gene_list.txt')\n",
    "with open(gh_fn, 'w') as fw:\n",
    "    for x in gh_list:\n",
    "        fw.write('{}\\n'.format(x))"
   ]
  },
  {
   "cell_type": "code",
   "execution_count": 30,
   "id": "78fca0e4",
   "metadata": {},
   "outputs": [],
   "source": [
    "gh_list = sorted(intersect_df.geneid.unique().tolist())\n"
   ]
  },
  {
   "cell_type": "code",
   "execution_count": 32,
   "id": "b1a5a12a",
   "metadata": {},
   "outputs": [
    {
     "data": {
      "text/plain": [
       "91"
      ]
     },
     "execution_count": 32,
     "metadata": {},
     "output_type": "execute_result"
    }
   ],
   "source": [
    "len(gh_list)"
   ]
  },
  {
   "cell_type": "code",
   "execution_count": null,
   "id": "35779053",
   "metadata": {},
   "outputs": [],
   "source": []
  },
  {
   "cell_type": "code",
   "execution_count": null,
   "id": "20b557d9",
   "metadata": {},
   "outputs": [],
   "source": []
  },
  {
   "cell_type": "code",
   "execution_count": 26,
   "id": "8833dd03",
   "metadata": {},
   "outputs": [
    {
     "data": {
      "text/html": [
       "<div>\n",
       "<style scoped>\n",
       "    .dataframe tbody tr th:only-of-type {\n",
       "        vertical-align: middle;\n",
       "    }\n",
       "\n",
       "    .dataframe tbody tr th {\n",
       "        vertical-align: top;\n",
       "    }\n",
       "\n",
       "    .dataframe thead th {\n",
       "        text-align: right;\n",
       "    }\n",
       "</style>\n",
       "<table border=\"1\" class=\"dataframe\">\n",
       "  <thead>\n",
       "    <tr style=\"text-align: right;\">\n",
       "      <th></th>\n",
       "      <th>cline</th>\n",
       "      <th>geneid</th>\n",
       "    </tr>\n",
       "  </thead>\n",
       "  <tbody>\n",
       "    <tr>\n",
       "      <th>0</th>\n",
       "      <td>monocyte_naive</td>\n",
       "      <td>ENSG00000142686</td>\n",
       "    </tr>\n",
       "    <tr>\n",
       "      <th>1</th>\n",
       "      <td>NK-cell_naive</td>\n",
       "      <td>ENSG00000183431</td>\n",
       "    </tr>\n",
       "    <tr>\n",
       "      <th>2</th>\n",
       "      <td>CD4_T-cell_naive</td>\n",
       "      <td>ENSG00000183386</td>\n",
       "    </tr>\n",
       "    <tr>\n",
       "      <th>3</th>\n",
       "      <td>CD8_T-cell_naive</td>\n",
       "      <td>ENSG00000183386</td>\n",
       "    </tr>\n",
       "    <tr>\n",
       "      <th>4</th>\n",
       "      <td>NK-cell_naive</td>\n",
       "      <td>ENSG00000183431</td>\n",
       "    </tr>\n",
       "    <tr>\n",
       "      <th>...</th>\n",
       "      <td>...</td>\n",
       "      <td>...</td>\n",
       "    </tr>\n",
       "    <tr>\n",
       "      <th>2137</th>\n",
       "      <td>CD4_T-cell_naive</td>\n",
       "      <td>ENSG00000271821</td>\n",
       "    </tr>\n",
       "    <tr>\n",
       "      <th>2138</th>\n",
       "      <td>CD4_T-cell_naive</td>\n",
       "      <td>ENSG00000206344</td>\n",
       "    </tr>\n",
       "    <tr>\n",
       "      <th>2139</th>\n",
       "      <td>CD4_T-cell_naive</td>\n",
       "      <td>ENSG00000271821</td>\n",
       "    </tr>\n",
       "    <tr>\n",
       "      <th>2140</th>\n",
       "      <td>NK-cell_naive</td>\n",
       "      <td>ENSG00000206344</td>\n",
       "    </tr>\n",
       "    <tr>\n",
       "      <th>2141</th>\n",
       "      <td>B-cell_naive</td>\n",
       "      <td>ENSG00000204267</td>\n",
       "    </tr>\n",
       "  </tbody>\n",
       "</table>\n",
       "<p>2142 rows × 2 columns</p>\n",
       "</div>"
      ],
      "text/plain": [
       "                 cline           geneid\n",
       "0       monocyte_naive  ENSG00000142686\n",
       "1        NK-cell_naive  ENSG00000183431\n",
       "2     CD4_T-cell_naive  ENSG00000183386\n",
       "3     CD8_T-cell_naive  ENSG00000183386\n",
       "4        NK-cell_naive  ENSG00000183431\n",
       "...                ...              ...\n",
       "2137  CD4_T-cell_naive  ENSG00000271821\n",
       "2138  CD4_T-cell_naive  ENSG00000206344\n",
       "2139  CD4_T-cell_naive  ENSG00000271821\n",
       "2140     NK-cell_naive  ENSG00000206344\n",
       "2141      B-cell_naive  ENSG00000204267\n",
       "\n",
       "[2142 rows x 2 columns]"
      ]
     },
     "execution_count": 26,
     "metadata": {},
     "output_type": "execute_result"
    }
   ],
   "source": [
    "intersect_df[['cline', 'geneid']]"
   ]
  },
  {
   "cell_type": "markdown",
   "id": "67b9a579",
   "metadata": {},
   "source": [
    "#### Get the unique genes per cell type "
   ]
  },
  {
   "cell_type": "code",
   "execution_count": 27,
   "id": "e832fb53",
   "metadata": {},
   "outputs": [],
   "source": [
    "genes_by_cell = intersect_df[['cline', 'geneid']].drop_duplicates()\n",
    "genes_by_cell.sort_values(['cline', 'geneid'], inplace=True)\n",
    "genes_by_cell['source'] = 'pieqtls_with_sig_gwas'\n",
    "genes_by_cell.columns = ['cline', 'geneid', 'source']\n",
    "fn = os.path.join(outdir, 'genes_by_cell.xlsx')\n",
    "genes_by_cell.to_excel(fn, index=False)"
   ]
  },
  {
   "cell_type": "code",
   "execution_count": null,
   "id": "e8843293",
   "metadata": {},
   "outputs": [],
   "source": []
  },
  {
   "cell_type": "code",
   "execution_count": null,
   "id": "2a0c513f",
   "metadata": {},
   "outputs": [],
   "source": []
  },
  {
   "cell_type": "code",
   "execution_count": null,
   "id": "b06cea4d",
   "metadata": {},
   "outputs": [],
   "source": []
  },
  {
   "cell_type": "code",
   "execution_count": null,
   "id": "9d23ec90",
   "metadata": {},
   "outputs": [],
   "source": []
  },
  {
   "cell_type": "code",
   "execution_count": null,
   "id": "5c20aa74",
   "metadata": {},
   "outputs": [],
   "source": []
  }
 ],
 "metadata": {
  "kernelspec": {
   "display_name": "HiChIP-DB",
   "language": "python",
   "name": "hichip-db"
  },
  "language_info": {
   "codemirror_mode": {
    "name": "ipython",
    "version": 3
   },
   "file_extension": ".py",
   "mimetype": "text/x-python",
   "name": "python",
   "nbconvert_exporter": "python",
   "pygments_lexer": "ipython3",
   "version": "3.9.10"
  }
 },
 "nbformat": 4,
 "nbformat_minor": 5
}
